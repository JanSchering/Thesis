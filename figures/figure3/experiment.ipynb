{
 "cells": [
  {
   "cell_type": "code",
   "execution_count": null,
   "metadata": {},
   "outputs": [],
   "source": [
    "import os\n",
    "from os import path, getcwd, listdir, mkdir\n",
    "\n",
    "import sys\n",
    "sys.path.insert(0, '../../')\n",
    "\n",
    "import torch as t\n",
    "from torch.distributions import uniform\n",
    "import numpy as np\n",
    "import pandas as pd\n",
    "\n",
    "from tqdm import tqdm\n",
    "import matplotlib.pyplot as plt\n",
    "\n",
    "from experiment_helper import chop_and_shuffle_data, generate_sequence, dataset_dist\n",
    "from diffusion_gumbel import diffuse_STE\n",
    "from reaction_diff import  rho_STE"
   ]
  },
  {
   "cell_type": "code",
   "execution_count": null,
   "metadata": {},
   "outputs": [],
   "source": [
    "device = t.device('cuda' if t.cuda.is_available() else 'cpu')\n",
    "print('Using device:', device)"
   ]
  },
  {
   "attachments": {},
   "cell_type": "markdown",
   "metadata": {},
   "source": [
    "generate dataset"
   ]
  },
  {
   "cell_type": "code",
   "execution_count": null,
   "metadata": {},
   "outputs": [],
   "source": [
    "grid = t.zeros((2, 64, 64), device=device)\n",
    "grid[:] = 25\n",
    "grid[0, 29:35] = 40\n",
    "\n",
    "gamma = 0.005\n",
    "k1 = k1_bar = 0.98\n",
    "k2 = k2_bar = 0.1\n",
    "k3 = k3_bar = 0.2\n",
    "\n",
    "N = 50\n",
    "num_steps = 50_000\n",
    "DA = 0.1\n",
    "DB = 0.4\n",
    "\n",
    "generate_sequence(\n",
    "    grid,\n",
    "    num_steps,\n",
    "    N,\n",
    "    use_diffusion=True,\n",
    "    DA=DA,\n",
    "    DB=DB,\n",
    "    use_reaction=True,\n",
    "    gamma=gamma,\n",
    "    k1=k1,\n",
    "    k1_bar=k1_bar,\n",
    "    k2=k2,\n",
    "    k2_bar=k2_bar,\n",
    "    k3=k3,\n",
    "    k3_bar=k3_bar,\n",
    "    create_vis=False,\n",
    "    save_steps=True,\n",
    "    create_seq=False,\n",
    ")"
   ]
  },
  {
   "cell_type": "code",
   "execution_count": null,
   "metadata": {},
   "outputs": [],
   "source": [
    "data_dir = path.join(getcwd(), \"data\", \"1674905783.5314908\")\n",
    "ref_state = t.load(path.join(data_dir, \"batch_500\", \"0.pt\"), map_location=device)"
   ]
  },
  {
   "cell_type": "code",
   "execution_count": null,
   "metadata": {},
   "outputs": [],
   "source": [
    "print(ref_state.shape)\n",
    "fig, axs = plt.subplots(1,2)\n",
    "axs[0].imshow(ref_state[0].cpu(),cmap=\"Greys\",interpolation=\"nearest\",vmin=0,vmax=50)\n",
    "axs[0].set_title(\"A species\")\n",
    "axs[0].axis(\"off\")\n",
    "axs[1].imshow(ref_state[1].cpu(),cmap=\"Greys\",interpolation=\"nearest\",vmin=0,vmax=50)\n",
    "axs[1].set_title(\"B species\")\n",
    "axs[1].axis(\"off\")\n",
    "plt.show()"
   ]
  },
  {
   "cell_type": "code",
   "execution_count": null,
   "metadata": {},
   "outputs": [],
   "source": [
    "def loss_fn(X, Y):\n",
    "    return t.log(t.sum((X[:, 0] - Y[:,0])**2 + (X[:, 1] - Y[:,1])**2, dim=(0,1,2)))"
   ]
  },
  {
   "cell_type": "code",
   "execution_count": null,
   "metadata": {},
   "outputs": [],
   "source": [
    "# define a sequence of DA values to test\n",
    "DA_vals = t.linspace(0.0001, 0.9999, 100, device=device)\n",
    "# define a sequence of DB values to test\n",
    "DB_vals = t.linspace(0.0001, 0.9999, 100, device=device)\n",
    "grid_DA, grid_DB = t.meshgrid(DA_vals, DB_vals, indexing=\"ij\")\n",
    "\n",
    "# rate coefficients\n",
    "k1 = t.tensor(0.98, device=device)\n",
    "k1_bar = t.tensor(0.98, device=device)\n",
    "k2 = t.tensor(0.1, device=device)\n",
    "k2_bar = t.tensor(0.1, device=device)\n",
    "k3 = t.tensor(0.2, device=device)\n",
    "k3_bar = t.tensor(0.2, device=device)\n",
    "# reaction time constant\n",
    "gamma = t.tensor(0.005, device=device)\n",
    "\n",
    "\n",
    "# collect the results of each test run here\n",
    "grads_DA = []\n",
    "grads_DB = []\n",
    "distances = []\n",
    "# iterate over the DB values\n",
    "for DA_idx in tqdm(range(grid_DA.shape[0])):\n",
    "    # iterate over the DA values\n",
    "    for DB_idx in range(grid_DB.shape[0]):\n",
    "        X = ref_state.detach().clone()\n",
    "        \n",
    "        DA = grid_DA[DA_idx, DB_idx]\n",
    "        DA.requires_grad_()\n",
    "        DB = grid_DB[DA_idx, DB_idx]\n",
    "        DB.requires_grad_()\n",
    "        for i in range(100):\n",
    "            # 1. run the diffusion step on each sample\n",
    "            X = diffuse_STE(X, N, DA, DB)\n",
    "            # 2. run the reaction step on each sample\n",
    "            X = rho_STE(X, N, gamma, k1, k1_bar, k2, k2_bar, k3, k3_bar)\n",
    "        # use the sum of dim-specific distances\n",
    "        dist_val = loss_fn(X, ref_state)\n",
    "        distances.append(dist_val.detach().cpu().numpy())\n",
    "        # find the gradient of the distance w.r.t. the diffusion coefficients\n",
    "        grad_DA, grad_DB = t.autograd.grad(dist_val, (DA, DB))\n",
    "        grads_DA.append(grad_DA.detach().cpu().numpy())\n",
    "        grads_DB.append(grad_DB.detach().cpu().numpy())"
   ]
  }
 ],
 "metadata": {
  "language_info": {
   "name": "python"
  },
  "orig_nbformat": 4
 },
 "nbformat": 4,
 "nbformat_minor": 2
}
