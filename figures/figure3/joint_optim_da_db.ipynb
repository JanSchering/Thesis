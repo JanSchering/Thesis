{
  "cells": [
    {
      "cell_type": "code",
      "execution_count": 1,
      "metadata": {
        "id": "Dj1zfdKWt3PH"
      },
      "outputs": [],
      "source": [
        "import os\n",
        "from os import path, getcwd\n",
        "\n",
        "from typing import Tuple, List, Callable\n",
        "\n",
        "import torch as t\n",
        "from torch.distributions import uniform\n",
        "from torch.nn.functional import conv2d, gumbel_softmax\n",
        "\n",
        "import numpy as np\n",
        "\n",
        "from tqdm import tqdm\n",
        "import matplotlib.pyplot as plt\n",
        "\n",
        "import time\n",
        "import imageio\n",
        "import random"
      ]
    },
    {
      "cell_type": "code",
      "execution_count": 2,
      "metadata": {
        "cellView": "form",
        "id": "lMBCG-4PuZ3U"
      },
      "outputs": [],
      "source": [
        "# @title STE function\n",
        "class STEFunction(t.autograd.Function):\n",
        "    @staticmethod\n",
        "    def forward(ctx, input):\n",
        "        return (input > 0).float()\n",
        "\n",
        "    @staticmethod\n",
        "    def backward(ctx, grad_output):\n",
        "        return grad_output"
      ]
    },
    {
      "cell_type": "code",
      "execution_count": 3,
      "metadata": {
        "cellView": "form",
        "id": "4WjwWOvbuhft"
      },
      "outputs": [],
      "source": [
        "# @title Periodic Padding\n",
        "def periodic_padding(image: t.Tensor, padding=1):\n",
        "    \"\"\"\n",
        "    Create a periodic padding (wrap) around an image stack, to emulate periodic boundary conditions\n",
        "    Adapted from https://github.com/tensorflow/tensorflow/issues/956\n",
        "\n",
        "    If the image is 3-dimensional (like an image batch), padding occurs along the last two axes\n",
        "    \"\"\"\n",
        "    if len(image.shape) == 2:\n",
        "        upper_pad = image[-padding:, :]\n",
        "        lower_pad = image[:padding, :]\n",
        "\n",
        "        partial_image = t.cat([upper_pad, image, lower_pad], dim=0)\n",
        "\n",
        "        left_pad = partial_image[:, -padding:]\n",
        "        right_pad = partial_image[:, :padding]\n",
        "\n",
        "        padded_image = t.cat([left_pad, partial_image, right_pad], dim=1)\n",
        "\n",
        "    elif len(image.shape) == 3:\n",
        "        upper_pad = image[:, -padding:, :]\n",
        "        lower_pad = image[:, :padding, :]\n",
        "\n",
        "        partial_image = t.cat([upper_pad, image, lower_pad], dim=1)\n",
        "\n",
        "        left_pad = partial_image[:, :, -padding:]\n",
        "        right_pad = partial_image[:, :, :padding]\n",
        "\n",
        "        padded_image = t.cat([left_pad, partial_image, right_pad], axis=2)\n",
        "\n",
        "    else:\n",
        "        assert True, \"Input data shape not understood.\"\n",
        "\n",
        "    return padded_image"
      ]
    },
    {
      "cell_type": "code",
      "execution_count": 4,
      "metadata": {
        "cellView": "form",
        "id": "BC56fhyyuNDO"
      },
      "outputs": [],
      "source": [
        "# @title Differentiable diffusion\n",
        "def translate_gumbel(grids: t.Tensor, D: t.Tensor) -> Tuple[t.Tensor, t.Tensor]:\n",
        "    \"\"\"Translate grid according to a 9-direction scheme with probabilities based on the\n",
        "    diffusion coefficient <D>\n",
        "\n",
        "    Args:\n",
        "        grids (t.Tensor): Tensor of shape (N_grids,height,width)\n",
        "        D (t.Tensor): Diffusion coefficient\n",
        "\n",
        "    Returns:\n",
        "        (Tuple[t.Tensor, t.Tensor]): The translated grids + the kernels used for each translation\n",
        "    \"\"\"\n",
        "    # set torch device\n",
        "    device = t.device(\"cuda\" if t.cuda.is_available() else \"cpu\")\n",
        "    # define a probability factor for convenience\n",
        "    p_factor = t.sqrt(t.tensor(2.0, device=device))\n",
        "    # Get the number of grids in the batch\n",
        "    num_grids, height, width = grids.shape\n",
        "    # Calculate the log-probability of moving horizontally or vertically\n",
        "    p_sides = t.log(D * (p_factor - 1) * p_factor / 4)\n",
        "    # Calculate the log-probability of moving along the diagonal\n",
        "    p_diag = t.log(D * (p_factor - 1) / 4)\n",
        "    # Calculate the log-probability of not moving\n",
        "    p_center = t.log(1 - D)\n",
        "\n",
        "    # build a log-probability matrix that will be used to sample a translation kernel\n",
        "    # from the Gumbel-softmax\n",
        "    kernel_logits = t.zeros((1, 1, 3, 3), device=device)\n",
        "    kernel_logits[:, :, 0, 0] += p_diag\n",
        "    kernel_logits[:, :, 0, 2] += p_diag\n",
        "    kernel_logits[:, :, 2, 0] += p_diag\n",
        "    kernel_logits[:, :, 2, 2] += p_diag\n",
        "    kernel_logits[:, :, 0, 1] += p_sides\n",
        "    kernel_logits[:, :, 2, 1] += p_sides\n",
        "    kernel_logits[:, :, 1, 0] += p_sides\n",
        "    kernel_logits[:, :, 1, 2] += p_sides\n",
        "    kernel_logits[:, :, 1, 1] += p_center\n",
        "\n",
        "    # sample a translation kernel for each grid\n",
        "    kernels = t.cat(\n",
        "        [\n",
        "            gumbel_softmax(\n",
        "                logits=kernel_logits.flatten(), tau=1.0, hard=True\n",
        "            ).unflatten(dim=0, sizes=(1, 1, 3, 3))\n",
        "            for i in range(num_grids)\n",
        "        ],\n",
        "        dim=0,\n",
        "    )\n",
        "\n",
        "    assert kernels.shape == (num_grids, 1, 3, 3)\n",
        "\n",
        "    padded_grids = periodic_padding(grids).float()\n",
        "    expanded_grids = t.unsqueeze(padded_grids, -1)\n",
        "    transposed_grids = t.permute(expanded_grids, (0, 3, 1, 2))\n",
        "\n",
        "    # move batch dim into channels\n",
        "    transposed_grids = transposed_grids.view(1, -1, height + 2, width + 2)\n",
        "\n",
        "    return (\n",
        "        conv2d(\n",
        "            transposed_grids, kernels, stride=1, padding=\"valid\", groups=num_grids\n",
        "        ).squeeze(),\n",
        "        kernels,\n",
        "    )\n",
        "\n",
        "\n",
        "def excite_particles_STE(batch: t.Tensor, N: int) -> Tuple[t.Tensor, t.Tensor]:\n",
        "    \"\"\"Returns the adjusted Lattice + auxiliary grid of \"excited\" particles E.\n",
        "\n",
        "    Args:\n",
        "        batch The lattices, shape (batch_size, 2, lattice_size, lattice_size)\n",
        "        N (int): The maximum occupation number per lattice cell\n",
        "\n",
        "    Returns:\n",
        "        Tuple[t.Tensor, t.Tensor]: [Grid after excitement step, Excited Lattice E]\n",
        "    \"\"\"\n",
        "    # set torch device\n",
        "    device = t.device(\"cuda\" if t.cuda.is_available() else \"cpu\")\n",
        "    # get the dimensionality of the batch\n",
        "    batch_size, num_grids, height, width = batch.shape\n",
        "    # sample a random number for each lattice cell in the batch,\n",
        "    # used to determine whether a particle of a given cell becomes excited\n",
        "    Xi = uniform.Uniform(0, 1).sample((batch_size, num_grids, height, width)).to(device)\n",
        "    # Apply heaviside to get the grid of excited particles E\n",
        "    E = STEFunction.apply(batch - N * Xi)\n",
        "    # if a cell is filled, E has to be 1 at that cell\n",
        "    E[batch == N] += 1 - E[batch == N]\n",
        "    # if a cell is empty, E has to be 0 at that cell\n",
        "    E[batch == 0] *= 0\n",
        "\n",
        "    return batch - E, E\n",
        "\n",
        "\n",
        "def accommodate_particles(batch: t.Tensor, E_A: t.Tensor, E_B: t.Tensor) -> t.Tensor:\n",
        "    \"\"\"Merges the batch of excited lattices E back into the current grid state.\n",
        "\n",
        "    Args:\n",
        "        batch (t.Tensor): The lattices, shape (batch_size, 2, lattice_size, lattice_size)\n",
        "        E_A (t.Tensor): The excited lattices for the A species\n",
        "        E_B (t.Tensor): The excited lattices for the B species\n",
        "\n",
        "    Returns:\n",
        "        t.Tensor: _description_\n",
        "    \"\"\"\n",
        "    batch[:, 0] += E_A\n",
        "    batch[:, 1] += E_B\n",
        "    return batch\n",
        "\n",
        "\n",
        "def diffuse_STE(batch: t.Tensor, N: int, D_A: t.Tensor, D_B: t.Tensor) -> t.Tensor:\n",
        "    \"\"\"Perform a step of diffusion for a batch of FHN lattices\n",
        "\n",
        "    Args:\n",
        "        batch (t.Tensor): The lattices, shape (batch_size, 2, lattice_size, lattice_size)\n",
        "        N (int): The maximum occupation number per lattice cell\n",
        "        D_A (t.Tensor): The diffusion coefficient of the A species\n",
        "        D_B (t.Tensor): The diffusion coefficient of the B species\n",
        "\n",
        "    Returns:\n",
        "        t.Tensor: The batch after the diffusion step\n",
        "    \"\"\"\n",
        "    # perform a step of particle excitation\n",
        "    batch, E = excite_particles_STE(batch, N)\n",
        "\n",
        "    # translate the excited particles of the A species\n",
        "    E_A, _ = translate_gumbel(E[:, 0], D_A)\n",
        "    # translate the excited particles of the B species\n",
        "    E_B, _ = translate_gumbel(E[:, 1], D_B)\n",
        "\n",
        "    # accommodate the translated particles at their new positions\n",
        "    return accommodate_particles(batch, E_A, E_B)\n"
      ]
    },
    {
      "cell_type": "code",
      "execution_count": 5,
      "metadata": {
        "cellView": "form",
        "id": "pVSVHlXBvE2t"
      },
      "outputs": [],
      "source": [
        "# @title Differentiable reaction\n",
        "def p1_(batch: t.Tensor, N: int, gamma: float, k1: float) -> t.Tensor:\n",
        "    n = batch[:, 0]\n",
        "    # k1_bar = k1 / ((N - 1) * (N - 2))\n",
        "    return gamma * (k1 / ((N - 1) * (N - 2))) * n * (n - 1) * (N - n)\n",
        "\n",
        "\n",
        "def p2_(batch: t.Tensor, N: int, gamma: float, k1_star: float) -> t.Tensor:\n",
        "    n = batch[:, 0]\n",
        "    # k1_star_bar = k1_star / ((N - 1) * (N - 2))\n",
        "    return gamma * (k1_star / ((N - 1) * (N - 2))) * n * (N - n) * (N - 1 - n)\n",
        "\n",
        "\n",
        "def p3_(cells: t.Tensor, N: int, gamma: float, k2: float) -> t.Tensor:\n",
        "    n = cells[:, 0]\n",
        "    m = cells[:, 1]\n",
        "    # k2_bar = k2 / N\n",
        "    return gamma * (k2 / N) * (N - n) * m\n",
        "\n",
        "\n",
        "def p4_(cells: t.Tensor, N: int, gamma: float, k2_star: float) -> t.Tensor:\n",
        "    n = cells[:, 0]\n",
        "    m = cells[:, 1]\n",
        "    # k2_star_bar = k2_star / N\n",
        "    return gamma * (k2_star / N) * n * (N - m)\n",
        "\n",
        "\n",
        "def p5_(cells: t.Tensor, N: int, gamma: float, k3: float) -> t.Tensor:\n",
        "    n = cells[:, 0]\n",
        "    m = cells[:, 1]\n",
        "    # k3_bar = k3 / N\n",
        "    return gamma * (k3 / N) * (N - n) * (N - m)\n",
        "\n",
        "\n",
        "def p6_(cells: t.Tensor, N: int, gamma: float, k3_star: float) -> t.Tensor:\n",
        "    n = cells[:, 0]\n",
        "    m = cells[:, 1]\n",
        "    # k3_star_bar = k3_star / N\n",
        "    return gamma * (k3_star / N) * n * m\n",
        "\n",
        "\n",
        "def rho_STE(\n",
        "    batch: t.Tensor,\n",
        "    N: int,\n",
        "    gamma: t.Tensor,\n",
        "    k1: t.Tensor,\n",
        "    k1_bar: t.Tensor,\n",
        "    k2: t.Tensor,\n",
        "    k2_bar: t.Tensor,\n",
        "    k3: t.Tensor,\n",
        "    k3_bar: t.Tensor,\n",
        "):\n",
        "    # set torch device\n",
        "    device = t.device(\"cuda\" if t.cuda.is_available() else \"cpu\")\n",
        "    batch_size, grids_per_el, height, width = batch.shape\n",
        "    # for each cell on the lattice, choose a reaction channel\n",
        "    channels = t.randint(high=6, size=(batch_size, height, width), device=device)\n",
        "    # define a standard uniform distribution to sample thresholds from\n",
        "    thres_sampler = uniform.Uniform(\n",
        "        t.tensor(0.0, device=device), t.tensor(1.0, device=device)\n",
        "    )\n",
        "    # define a zero-filled grid for padding purposes\n",
        "    padding_grid = t.zeros(batch_size, height, width, device=device)\n",
        "\n",
        "    # --------------------------------------------------------------\n",
        "    # handle reaction 1\n",
        "    # --------------------------------------------------------------\n",
        "    p_r1 = p1_(batch, N, gamma, k1)\n",
        "    p_r1_expand = t.stack((p_r1, padding_grid), dim=1)\n",
        "    chnl_msk = t.stack((channels == 0, padding_grid), dim=1)\n",
        "    thresholds = thres_sampler.sample((batch_size, 2, height, width))\n",
        "    p_r1_res = STEFunction.apply(p_r1_expand - thresholds) * chnl_msk\n",
        "\n",
        "    # --------------------------------------------------------------\n",
        "    # handle reaction 2\n",
        "    # --------------------------------------------------------------\n",
        "    p_r2 = p2_(batch, N, gamma, k1_bar)\n",
        "    p_r2_expand = t.stack((p_r2, padding_grid), dim=1)\n",
        "    chnl_msk = t.stack((channels == 1, padding_grid), dim=1)\n",
        "    thresholds = thres_sampler.sample((batch_size, 2, height, width))\n",
        "    p_r2_res = STEFunction.apply(p_r2_expand - thresholds) * chnl_msk\n",
        "\n",
        "    # --------------------------------------------------------------\n",
        "    # handle reaction 3\n",
        "    # --------------------------------------------------------------\n",
        "    p_r3 = p3_(batch, N, gamma, k2)\n",
        "    p_r3_expand = t.stack((p_r3, padding_grid), dim=1)\n",
        "    chnl_msk = t.stack((channels == 2, padding_grid), dim=1)\n",
        "    thresholds = thres_sampler.sample((batch_size, 2, height, width))\n",
        "    p_r3_res = STEFunction.apply(p_r3_expand - thresholds) * chnl_msk\n",
        "\n",
        "    # ---------------------------------------------------------------\n",
        "    # handle reaction 4\n",
        "    # ---------------------------------------------------------------\n",
        "    p_r4 = p4_(batch, N, gamma, k2_bar)\n",
        "    p_r4_expand = t.stack((p_r4, padding_grid), dim=1)\n",
        "    chnl_msk = t.stack((channels == 3, padding_grid), dim=1)\n",
        "    thresholds = thres_sampler.sample((batch_size, 2, height, width))\n",
        "    p_r4_res = STEFunction.apply(p_r4_expand - thresholds) * chnl_msk\n",
        "\n",
        "    # ----------------------------------------------------------------\n",
        "    # handle reaction 5\n",
        "    # ----------------------------------------------------------------\n",
        "    p_r5 = p5_(batch, N, gamma, k3)\n",
        "    p_r5_expand = t.stack((padding_grid, p_r5), dim=1)\n",
        "    chnl_msk = t.stack((padding_grid, channels == 4), dim=1)\n",
        "    thresholds = thres_sampler.sample((batch_size, 2, height, width))\n",
        "    p_r5_res = STEFunction.apply(p_r5_expand - thresholds) * chnl_msk\n",
        "\n",
        "    # -----------------------------------------------------------------\n",
        "    # handle reaction 6\n",
        "    # -----------------------------------------------------------------\n",
        "    p_r6 = p6_(batch, N, gamma, k3_bar)\n",
        "    p_r6_expand = t.stack((padding_grid, p_r6), dim=1)\n",
        "    chnl_msk = t.stack((padding_grid, channels == 5), dim=1)\n",
        "    thresholds = thres_sampler.sample((batch_size, 2, height, width))\n",
        "    p_r6_res = STEFunction.apply(p_r6_expand - thresholds) * chnl_msk\n",
        "\n",
        "    return batch + p_r1_res - p_r2_res + p_r3_res - p_r4_res + p_r5_res - p_r6_res\n"
      ]
    },
    {
      "cell_type": "code",
      "execution_count": 6,
      "metadata": {
        "cellView": "form",
        "colab": {
          "base_uri": "https://localhost:8080/"
        },
        "id": "RhQKGsGQvS4D",
        "outputId": "f03f6d68-54b6-4eb2-8b06-f05121e7d02f"
      },
      "outputs": [
        {
          "name": "stdout",
          "output_type": "stream",
          "text": [
            "Using device: cuda\n"
          ]
        }
      ],
      "source": [
        "# @title Set device\n",
        "device = t.device('cuda' if t.cuda.is_available() else 'cpu')\n",
        "print('Using device:', device)"
      ]
    },
    {
      "cell_type": "code",
      "execution_count": 7,
      "metadata": {
        "cellView": "form",
        "id": "YfwKgr9xwQYp"
      },
      "outputs": [],
      "source": [
        "# @title Loss Function\n",
        "def loss_fn(X, Y):\n",
        "    return t.log(t.sum((X[:, 0] - Y[:,0])**2 + (X[:, 1] - Y[:,1])**2, dim=(0,1,2)))"
      ]
    },
    {
      "cell_type": "code",
      "execution_count": 8,
      "metadata": {
        "cellView": "form",
        "colab": {
          "base_uri": "https://localhost:8080/"
        },
        "id": "PqItoO1uvoMm",
        "outputId": "d4db61e4-6560-4fd1-f375-493f497a4edf"
      },
      "outputs": [
        {
          "name": "stdout",
          "output_type": "stream",
          "text": [
            "c:\\Users\\jsche\\University\\Thesis\\figures\\figure3\\joint_optim_da_db\n"
          ]
        }
      ],
      "source": [
        "# @title Set path to stored data\n",
        "data_path = path.join(getcwd(), \"joint_optim_da_db\")\n",
        "print(data_path)"
      ]
    },
    {
      "cell_type": "code",
      "execution_count": 9,
      "metadata": {
        "colab": {
          "base_uri": "https://localhost:8080/",
          "height": 301
        },
        "id": "ioleryRQwASj",
        "outputId": "02ee6339-e5d1-4d0a-af3f-d32fd669af35"
      },
      "outputs": [
        {
          "name": "stdout",
          "output_type": "stream",
          "text": [
            "torch.Size([1, 2, 64, 64])\n"
          ]
        },
        {
          "data": {
            "image/png": "[encoded data removed]",
            "text/plain": [
              "<Figure size 640x480 with 2 Axes>"
            ]
          },
          "metadata": {},
          "output_type": "display_data"
        }
      ],
      "source": [
        "# @title Load and visualize ref. pattern {vertical-output: true}\n",
        "ref_path = path.join(data_path, \"ref\")\n",
        "ref_state = t.load(path.join(ref_path, \"0.pt\"), map_location=device)\n",
        "if ref_state.ndim == 3:\n",
        "    ref_state = ref_state.unsqueeze(0)\n",
        "print(ref_state.shape)\n",
        "fig, axs = plt.subplots(1,2)\n",
        "axs[0].imshow(ref_state[0,0].cpu(),cmap=\"Greys\",interpolation=\"nearest\",vmin=0,vmax=50)\n",
        "axs[0].set_title(\"A species\")\n",
        "axs[0].axis(\"off\")\n",
        "axs[1].imshow(ref_state[0,1].cpu(),cmap=\"Greys\",interpolation=\"nearest\",vmin=0,vmax=50)\n",
        "axs[1].set_title(\"B species\")\n",
        "axs[1].axis(\"off\")\n",
        "plt.show()"
      ]
    },
    {
      "cell_type": "code",
      "execution_count": 12,
      "metadata": {
        "id": "Fwu7pNpewXHF"
      },
      "outputs": [],
      "source": [
        "# @title Initialize Parameters {vertical-output: true}\n",
        "# @markdown Do you want to load the last training trace ?\n",
        "load_traces = True # @param {type: \"boolean\"}\n",
        "\n",
        "if load_traces:\n",
        "  DA_vals = np.load(path.join(data_path, \"res\", \"DA_vals.npy\")).tolist()\n",
        "  DB_vals = np.load(path.join(data_path, \"res\", \"DB_vals.npy\")).tolist()\n",
        "  losses = np.load(path.join(data_path, \"res\", \"losses.npy\")).tolist()\n",
        "  grads_DA = np.load(path.join(data_path, \"res\", \"grads_DA.npy\")).tolist()\n",
        "  grads_DB = np.load(path.join(data_path, \"res\", \"grads_DB.npy\")).tolist()\n",
        "\n",
        "  DA = t.tensor(DA_vals[-1], device=device)\n",
        "  DB = t.tensor(DB_vals[-1], device=device)\n",
        "\n",
        "else:\n",
        "  DA = t.tensor(np.load(path.join(ref_path, \"DA_vals.npy\"))[0], device=device)\n",
        "  DB = t.tensor(np.load(path.join(ref_path, \"DB_vals.npy\"))[0], device=device)\n",
        "\n",
        "  DB_vals = [DB.detach().cpu().numpy()]\n",
        "  DA_vals = [DA.detach().cpu().numpy()]\n",
        "  losses = []\n",
        "  grads_DB = []\n",
        "  grads_DA = []"
      ]
    },
    {
      "cell_type": "code",
      "execution_count": 13,
      "metadata": {
        "cellView": "form",
        "id": "fBxNq4m41oxx"
      },
      "outputs": [],
      "source": [
        "# @title Set hyperparameters\n",
        "k1 = t.tensor(0.98, device=device)\n",
        "k2 = t.tensor(0.1, device=device)\n",
        "k3 = t.tensor(0.2, device=device)\n",
        "gamma = 0.005\n",
        "N = 50"
      ]
    },
    {
      "cell_type": "code",
      "execution_count": 29,
      "metadata": {
        "colab": {
          "base_uri": "https://localhost:8080/"
        },
        "id": "bv61TAo41ifI",
        "outputId": "0a2ed628-1f07-4e77-b06b-4eab67caf9eb"
      },
      "outputs": [
        {
          "name": "stderr",
          "output_type": "stream",
          "text": [
            "  0%|          | 0/3000 [00:00<?, ?it/s]"
          ]
        },
        {
          "name": "stderr",
          "output_type": "stream",
          "text": [
            "100%|██████████| 3000/3000 [7:21:30<00:00,  8.83s/it]  \n"
          ]
        }
      ],
      "source": [
        "# @title Run gradient optimization {vertical-output: true}\n",
        "# @markdown choose the number of gradient steps to run\n",
        "num_gradient_steps = 3000 # @param {type: \"integer\"}\n",
        "\n",
        "for i in tqdm(range(num_gradient_steps)):\n",
        "    X = ref_state.detach().clone()\n",
        "\n",
        "    DB.requires_grad_()\n",
        "    DA.requires_grad_()\n",
        "\n",
        "    # Make predictions for this batch\n",
        "    for sim_step in range(500):\n",
        "        # run the diffusion step\n",
        "        X = diffuse_STE(X, N, DA, DB)\n",
        "        # run the reaction step\n",
        "        X = rho_STE(X, N, gamma, k1, k1, k2, k2, k3, k3)\n",
        "\n",
        "    # Compute the loss and its gradients\n",
        "    loss = loss_fn(ref_state, X)\n",
        "    grad_DB, grad_DA = t.autograd.grad(loss, (DB, DA))\n",
        "\n",
        "    DB = DB - 0.05 * grad_DB\n",
        "    DA = DA - 0.05 * grad_DA\n",
        "\n",
        "    with t.no_grad():\n",
        "        DB = DB.clamp(0, 1)\n",
        "        DA = DA.clamp(0, 1)\n",
        "\n",
        "    DB_vals.append(DB.detach().cpu().numpy())\n",
        "    DA_vals.append(DA.detach().cpu().numpy())\n",
        "    losses.append(loss.detach().cpu().numpy())\n",
        "    grads_DB.append(grad_DB.detach().cpu().numpy())\n",
        "    grads_DA.append(grad_DA.detach().cpu().numpy())"
      ]
    },
    {
      "cell_type": "code",
      "execution_count": 30,
      "metadata": {
        "id": "zEDAHrym1xom"
      },
      "outputs": [
        {
          "data": {
            "image/png": "[encoded data removed]",
            "text/plain": [
              "<Figure size 1000x500 with 2 Axes>"
            ]
          },
          "metadata": {},
          "output_type": "display_data"
        }
      ],
      "source": [
        "# @title Visualize parameter trace + loss\n",
        "fig, axs = plt.subplots(1,2, figsize=(10,5))\n",
        "\n",
        "axs[0].plot(DB_vals, label=\"DB\")\n",
        "axs[0].plot(DA_vals, label=\"DA\")\n",
        "\n",
        "axs[1].plot(losses)\n",
        "\n",
        "axs[0].legend()\n",
        "plt.show()"
      ]
    },
    {
      "cell_type": "code",
      "execution_count": 31,
      "metadata": {
        "id": "ejQqNbHl131U"
      },
      "outputs": [
        {
          "data": {
            "text/plain": [
              "Text(0.5, 0, 'step')"
            ]
          },
          "execution_count": 31,
          "metadata": {},
          "output_type": "execute_result"
        },
        {
          "data": {
            "image/png": "[encoded data removed]",
            "text/plain": [
              "<Figure size 1900x200 with 2 Axes>"
            ]
          },
          "metadata": {},
          "output_type": "display_data"
        }
      ],
      "source": [
        "# @title Visualize gradient traces\n",
        "fig, axs = plt.subplots(1, 2, figsize=(19,2))\n",
        "\n",
        "axs[0].plot(grads_DB)\n",
        "axs[0].set_title(\"grads_DB\")\n",
        "axs[0].set_xlabel(\"step\")\n",
        "\n",
        "axs[1].plot(grads_DA)\n",
        "axs[1].set_title(\"grads_DA\")\n",
        "axs[1].set_xlabel(\"step\")"
      ]
    },
    {
      "cell_type": "code",
      "execution_count": 32,
      "metadata": {
        "id": "Ysg15UBc2AnH"
      },
      "outputs": [],
      "source": [
        "# @title save traces\n",
        "np.save(path.join(getcwd(), \"joint_optim_da_db\", \"res\", \"DA_vals.npy\"), np.array(DA_vals))\n",
        "np.save(path.join(getcwd(), \"joint_optim_da_db\", \"res\", \"DB_vals.npy\"), np.array(DB_vals))\n",
        "np.save(path.join(getcwd(), \"joint_optim_da_db\", \"res\", \"losses.npy\"), np.array(losses))\n",
        "np.save(path.join(getcwd(), \"joint_optim_da_db\", \"res\", \"grads_DA.npy\"), np.array(grads_DA))\n",
        "np.save(path.join(getcwd(), \"joint_optim_da_db\", \"res\", \"grads_DB.npy\"), np.array(grads_DB))"
      ]
    },
    {
      "cell_type": "code",
      "execution_count": 27,
      "metadata": {
        "id": "cf5MbZnRh7IX"
      },
      "outputs": [
        {
          "name": "stderr",
          "output_type": "stream",
          "text": [
            "100%|██████████| 50000/50000 [05:23<00:00, 154.49it/s]\n"
          ]
        }
      ],
      "source": [
        "timestep = 6000\n",
        "res_path = path.join(data_path, \"res\")\n",
        "DA = t.tensor(DA_vals[timestep], device=device)\n",
        "DB = t.tensor(DB_vals[timestep], device=device)\n",
        "X = t.zeros((1, 2, 64, 64), device=device)\n",
        "X[:] = 25\n",
        "X[0, 0, 29:35] = 40\n",
        "for sim_step in tqdm(range(50_000)):\n",
        "    # run the diffusion step\n",
        "    X = diffuse_STE(X, N, DA, DB)\n",
        "    # run the reaction step\n",
        "    X = rho_STE(X, N, gamma, k1, k1, k2, k2, k3, k3)\n",
        "\n",
        "np.save(path.join(res_path, f\"stable_t{timestep}.npy\"), X.detach().cpu().numpy())"
      ]
    },
    {
      "cell_type": "code",
      "execution_count": 28,
      "metadata": {
        "id": "Ikv30j5lsg6t"
      },
      "outputs": [
        {
          "name": "stderr",
          "output_type": "stream",
          "text": [
            "100%|██████████| 50000/50000 [05:15<00:00, 158.69it/s]\n"
          ]
        }
      ],
      "source": [
        "timestep = 6500\n",
        "res_path = path.join(data_path, \"res\")\n",
        "DA = t.tensor(DA_vals[timestep], device=device)\n",
        "DB = t.tensor(DB_vals[timestep], device=device)\n",
        "X = t.zeros((1, 2, 64, 64), device=device)\n",
        "X[:] = 25\n",
        "X[0, 0, 29:35] = 40\n",
        "for sim_step in tqdm(range(50_000)):\n",
        "    # run the diffusion step\n",
        "    X = diffuse_STE(X, N, DA, DB)\n",
        "    # run the reaction step\n",
        "    X = rho_STE(X, N, gamma, k1, k1, k2, k2, k3, k3)\n",
        "\n",
        "np.save(path.join(res_path, f\"stable_t{timestep}.npy\"), X.detach().cpu().numpy())"
      ]
    },
    {
      "cell_type": "code",
      "execution_count": 29,
      "metadata": {},
      "outputs": [
        {
          "name": "stderr",
          "output_type": "stream",
          "text": [
            "100%|██████████| 50000/50000 [05:05<00:00, 163.83it/s]\n"
          ]
        }
      ],
      "source": [
        "timestep = 7000\n",
        "res_path = path.join(data_path, \"res\")\n",
        "DA = t.tensor(DA_vals[timestep], device=device)\n",
        "DB = t.tensor(DB_vals[timestep], device=device)\n",
        "X = t.zeros((1, 2, 64, 64), device=device)\n",
        "X[:] = 25\n",
        "X[0, 0, 29:35] = 40\n",
        "for sim_step in tqdm(range(50_000)):\n",
        "    # run the diffusion step\n",
        "    X = diffuse_STE(X, N, DA, DB)\n",
        "    # run the reaction step\n",
        "    X = rho_STE(X, N, gamma, k1, k1, k2, k2, k3, k3)\n",
        "\n",
        "np.save(path.join(res_path, f\"stable_t{timestep}.npy\"), X.detach().cpu().numpy())"
      ]
    },
    {
      "cell_type": "code",
      "execution_count": 30,
      "metadata": {},
      "outputs": [
        {
          "name": "stderr",
          "output_type": "stream",
          "text": [
            "100%|██████████| 50000/50000 [05:19<00:00, 156.69it/s]\n"
          ]
        }
      ],
      "source": [
        "timestep = 7500\n",
        "res_path = path.join(data_path, \"res\")\n",
        "DA = t.tensor(DA_vals[timestep], device=device)\n",
        "DB = t.tensor(DB_vals[timestep], device=device)\n",
        "X = t.zeros((1, 2, 64, 64), device=device)\n",
        "X[:] = 25\n",
        "X[0, 0, 29:35] = 40\n",
        "for sim_step in tqdm(range(50_000)):\n",
        "    # run the diffusion step\n",
        "    X = diffuse_STE(X, N, DA, DB)\n",
        "    # run the reaction step\n",
        "    X = rho_STE(X, N, gamma, k1, k1, k2, k2, k3, k3)\n",
        "\n",
        "np.save(path.join(res_path, f\"stable_t{timestep}.npy\"), X.detach().cpu().numpy())"
      ]
    },
    {
      "cell_type": "code",
      "execution_count": 31,
      "metadata": {},
      "outputs": [
        {
          "name": "stderr",
          "output_type": "stream",
          "text": [
            "100%|██████████| 50000/50000 [04:42<00:00, 176.69it/s]\n"
          ]
        }
      ],
      "source": [
        "timestep = 8000\n",
        "res_path = path.join(data_path, \"res\")\n",
        "DA = t.tensor(DA_vals[timestep], device=device)\n",
        "DB = t.tensor(DB_vals[timestep], device=device)\n",
        "X = t.zeros((1, 2, 64, 64), device=device)\n",
        "X[:] = 25\n",
        "X[0, 0, 29:35] = 40\n",
        "for sim_step in tqdm(range(50_000)):\n",
        "    # run the diffusion step\n",
        "    X = diffuse_STE(X, N, DA, DB)\n",
        "    # run the reaction step\n",
        "    X = rho_STE(X, N, gamma, k1, k1, k2, k2, k3, k3)\n",
        "\n",
        "np.save(path.join(res_path, f\"stable_t{timestep}.npy\"), X.detach().cpu().numpy())"
      ]
    },
    {
      "cell_type": "code",
      "execution_count": 32,
      "metadata": {},
      "outputs": [
        {
          "name": "stderr",
          "output_type": "stream",
          "text": [
            "100%|██████████| 50000/50000 [04:47<00:00, 174.10it/s]\n"
          ]
        }
      ],
      "source": [
        "timestep = 8500\n",
        "res_path = path.join(data_path, \"res\")\n",
        "DA = t.tensor(DA_vals[timestep], device=device)\n",
        "DB = t.tensor(DB_vals[timestep], device=device)\n",
        "X = t.zeros((1, 2, 64, 64), device=device)\n",
        "X[:] = 25\n",
        "X[0, 0, 29:35] = 40\n",
        "for sim_step in tqdm(range(50_000)):\n",
        "    # run the diffusion step\n",
        "    X = diffuse_STE(X, N, DA, DB)\n",
        "    # run the reaction step\n",
        "    X = rho_STE(X, N, gamma, k1, k1, k2, k2, k3, k3)\n",
        "\n",
        "np.save(path.join(res_path, f\"stable_t{timestep}.npy\"), X.detach().cpu().numpy())"
      ]
    }
  ],
  "metadata": {
    "accelerator": "GPU",
    "colab": {
      "gpuType": "T4",
      "provenance": []
    },
    "kernelspec": {
      "display_name": "Python 3",
      "name": "python3"
    },
    "language_info": {
      "codemirror_mode": {
        "name": "ipython",
        "version": 3
      },
      "file_extension": ".py",
      "mimetype": "text/x-python",
      "name": "python",
      "nbconvert_exporter": "python",
      "pygments_lexer": "ipython3",
      "version": "3.10.11"
    }
  },
  "nbformat": 4,
  "nbformat_minor": 0
}
