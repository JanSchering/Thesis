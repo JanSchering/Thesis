{
 "cells": [
  {
   "cell_type": "markdown",
   "metadata": {},
   "source": [
    "import modules"
   ]
  },
  {
   "cell_type": "code",
   "execution_count": 1,
   "metadata": {},
   "outputs": [
    {
     "name": "stderr",
     "output_type": "stream",
     "text": [
      "c:\\Users\\jsche\\anaconda3\\envs\\torchenv\\lib\\site-packages\\tqdm\\auto.py:22: TqdmWarning: IProgress not found. Please update jupyter and ipywidgets. See https://ipywidgets.readthedocs.io/en/stable/user_install.html\n",
      "  from .autonotebook import tqdm as notebook_tqdm\n"
     ]
    }
   ],
   "source": [
    "import torch as t\n",
    "from model import model\n",
    "import matplotlib.pyplot as plt\n",
    "import math\n",
    "import time\n",
    "from IPython import display\n",
    "from model import model"
   ]
  },
  {
   "cell_type": "code",
   "execution_count": 2,
   "metadata": {},
   "outputs": [],
   "source": [
    "cell_bg_adhesion = 1\n",
    "target_volume = 3\n",
    "vol_scaling = 1\n",
    "target_perimeter = 8\n",
    "perim_scaling = 1\n",
    "temperature = 27\n",
    "\n",
    "cell_params = {\n",
    "    \"cell_id\": 1,\n",
    "    \"adhesion_penalties\": {\n",
    "        0: cell_bg_adhesion\n",
    "    },\n",
    "    \"target_volume\": target_volume,\n",
    "    \"vol_scaling\": vol_scaling,\n",
    "    \"target_perimeter\": target_perimeter,\n",
    "    \"perim_scaling\": perim_scaling\n",
    "}\n",
    "\n",
    "grid = t.zeros((1, 3, 3))\n",
    "grid[0,1,:] = 1\n"
   ]
  },
  {
   "cell_type": "code",
   "execution_count": 23,
   "metadata": {},
   "outputs": [
    {
     "name": "stdout",
     "output_type": "stream",
     "text": [
      "h_diff: tensor([[39.]], dtype=torch.float64)\n",
      "src: ((1, 0))\n",
      "target: ((0, 1))\n",
      "p_copy: tensor([[0.2359]], dtype=torch.float64)\n",
      "copy success!\n"
     ]
    },
    {
     "data": {
      "text/plain": [
       "<matplotlib.image.AxesImage at 0x113b498b130>"
      ]
     },
     "execution_count": 23,
     "metadata": {},
     "output_type": "execute_result"
    },
    {
     "data": {
      "image/png": "[encoded data removed]",
      "text/plain": [
       "<Figure size 640x480 with 1 Axes>"
      ]
     },
     "metadata": {},
     "output_type": "display_data"
    }
   ],
   "source": [
    "grid = model(grid, [cell_params], temperature=temperature)\n",
    "plt.imshow(grid[0], cmap=\"Greys\", interpolation=\"nearest\", vmin=0, vmax=1)"
   ]
  },
  {
   "cell_type": "markdown",
   "metadata": {},
   "source": [
    "## define grid and seed cell"
   ]
  },
  {
   "cell_type": "code",
   "execution_count": 2,
   "metadata": {},
   "outputs": [
    {
     "name": "stdout",
     "output_type": "stream",
     "text": [
      "50\n"
     ]
    },
    {
     "data": {
      "text/plain": [
       "<matplotlib.image.AxesImage at 0x1b11d9038e0>"
      ]
     },
     "execution_count": 2,
     "metadata": {},
     "output_type": "execute_result"
    },
    {
     "data": {
      "image/png": "[encoded data removed]",
      "text/plain": [
       "<Figure size 640x480 with 1 Axes>"
      ]
     },
     "metadata": {},
     "output_type": "display_data"
    }
   ],
   "source": [
    "grid = t.zeros((1, 101, 101))\n",
    "\n",
    "seed_radius = 30.\n",
    "center = grid.shape[1]//2\n",
    "print(center)\n",
    "X = int(seed_radius) # R is the radius\n",
    "for x in range(-X,X+1):\n",
    "    Y = int(pow(seed_radius*seed_radius-x*x, 1/2)) # bound for y given x\n",
    "    for y in range(-Y,Y+1):\n",
    "        grid[0, center+x,center+y] = 1\n",
    "\n",
    "plt.imshow(grid[0], cmap=\"Greys\", interpolation=\"nearest\", vmin=0, vmax=1)"
   ]
  },
  {
   "cell_type": "markdown",
   "metadata": {},
   "source": [
    "## define model params"
   ]
  },
  {
   "cell_type": "code",
   "execution_count": 3,
   "metadata": {},
   "outputs": [],
   "source": [
    "cell_bg_adhesion = 1\n",
    "target_volume = 380\n",
    "vol_scaling = 1\n",
    "target_perimeter = 219\n",
    "perim_scaling = 1\n",
    "temperature = 27"
   ]
  },
  {
   "cell_type": "code",
   "execution_count": 4,
   "metadata": {},
   "outputs": [],
   "source": [
    "cell_params = {\n",
    "    \"cell_id\": 1,\n",
    "    \"adhesion_penalties\": {\n",
    "        0: cell_bg_adhesion\n",
    "    },\n",
    "    \"target_volume\": target_volume,\n",
    "    \"vol_scaling\": vol_scaling,\n",
    "    \"target_perimeter\": target_perimeter,\n",
    "    \"perim_scaling\": perim_scaling\n",
    "}"
   ]
  },
  {
   "cell_type": "markdown",
   "metadata": {},
   "source": [
    "## visualize the model"
   ]
  },
  {
   "cell_type": "code",
   "execution_count": 21,
   "metadata": {},
   "outputs": [],
   "source": [
    "grid = model(grid, [cell_params], temperature=temperature)"
   ]
  },
  {
   "cell_type": "code",
   "execution_count": 7,
   "metadata": {},
   "outputs": [
    {
     "name": "stdout",
     "output_type": "stream",
     "text": [
      "torch.Size([101, 101])\n"
     ]
    }
   ],
   "source": [
    "print(grid.shape)"
   ]
  },
  {
   "cell_type": "code",
   "execution_count": 5,
   "metadata": {},
   "outputs": [
    {
     "data": {
      "image/png": "[encoded data removed]",
      "text/plain": [
       "<Figure size 640x480 with 1 Axes>"
      ]
     },
     "metadata": {},
     "output_type": "display_data"
    },
    {
     "ename": "IndexError",
     "evalue": "too many indices for tensor of dimension 2",
     "output_type": "error",
     "traceback": [
      "\u001b[1;31m---------------------------------------------------------------------------\u001b[0m",
      "\u001b[1;31mIndexError\u001b[0m                                Traceback (most recent call last)",
      "Cell \u001b[1;32mIn [5], line 4\u001b[0m\n\u001b[0;32m      2\u001b[0m plt\u001b[38;5;241m.\u001b[39mimshow(grid, cmap\u001b[38;5;241m=\u001b[39m\u001b[38;5;124m\"\u001b[39m\u001b[38;5;124mGreys\u001b[39m\u001b[38;5;124m\"\u001b[39m, interpolation\u001b[38;5;241m=\u001b[39m\u001b[38;5;124m\"\u001b[39m\u001b[38;5;124mnearest\u001b[39m\u001b[38;5;124m\"\u001b[39m, vmin\u001b[38;5;241m=\u001b[39m\u001b[38;5;241m0\u001b[39m, vmax\u001b[38;5;241m=\u001b[39m\u001b[38;5;241m1\u001b[39m)\n\u001b[0;32m      3\u001b[0m display\u001b[38;5;241m.\u001b[39mdisplay(plt\u001b[38;5;241m.\u001b[39mgcf())\n\u001b[1;32m----> 4\u001b[0m grid \u001b[38;5;241m=\u001b[39m \u001b[43mmodel\u001b[49m\u001b[43m(\u001b[49m\u001b[43mgrid\u001b[49m\u001b[43m,\u001b[49m\u001b[43m \u001b[49m\u001b[43m[\u001b[49m\u001b[43mcell_params\u001b[49m\u001b[43m]\u001b[49m\u001b[43m,\u001b[49m\u001b[43m \u001b[49m\u001b[43mtemperature\u001b[49m\u001b[38;5;241;43m=\u001b[39;49m\u001b[43mtemperature\u001b[49m\u001b[43m)\u001b[49m\n\u001b[0;32m      5\u001b[0m display\u001b[38;5;241m.\u001b[39mclear_output(wait\u001b[38;5;241m=\u001b[39m\u001b[38;5;28;01mTrue\u001b[39;00m)\n\u001b[0;32m      6\u001b[0m time\u001b[38;5;241m.\u001b[39msleep(\u001b[38;5;241m0.3\u001b[39m)\n",
      "File \u001b[1;32mc:\\Users\\jsche\\University\\Thesis\\cpm\\model.py:38\u001b[0m, in \u001b[0;36mmodel\u001b[1;34m(grid, cell_params, temperature)\u001b[0m\n\u001b[0;32m     35\u001b[0m \u001b[39mif\u001b[39;00m src_pixel \u001b[39m==\u001b[39m target_pixel:\n\u001b[0;32m     36\u001b[0m     \u001b[39mreturn\u001b[39;00m grid\n\u001b[1;32m---> 38\u001b[0m h_diff \u001b[39m=\u001b[39m nabla_hamiltonian(\n\u001b[0;32m     39\u001b[0m     grid, target_row_idx, target_col_idx, src_pixel, cell_params\n\u001b[0;32m     40\u001b[0m )\n\u001b[0;32m     42\u001b[0m \u001b[39mif\u001b[39;00m h_diff \u001b[39m<\u001b[39m\u001b[39m=\u001b[39m \u001b[39m0\u001b[39m:\n\u001b[0;32m     43\u001b[0m     grid[target_row_idx, target_pixel] \u001b[39m=\u001b[39m src_pixel\n",
      "File \u001b[1;32mc:\\Users\\jsche\\University\\Thesis\\cpm\\hamiltonian.py:69\u001b[0m, in \u001b[0;36mnabla_hamiltonian\u001b[1;34m(grid, row, column, target_id, cell_params, use_adhesion, use_volume, use_perimeter)\u001b[0m\n\u001b[0;32m     62\u001b[0m         scaling_factor_p \u001b[39m=\u001b[39m cell[\u001b[39m\"\u001b[39m\u001b[39mperim_scaling\u001b[39m\u001b[39m\"\u001b[39m]\n\u001b[0;32m     63\u001b[0m         perimeter_h_current \u001b[39m+\u001b[39m\u001b[39m=\u001b[39m (\n\u001b[0;32m     64\u001b[0m             scaling_factor_p\n\u001b[0;32m     65\u001b[0m             \u001b[39m*\u001b[39m (perimeter(grid, cell[\u001b[39m\"\u001b[39m\u001b[39mcell_id\u001b[39m\u001b[39m\"\u001b[39m]) \u001b[39m-\u001b[39m target_perimeter) \u001b[39m*\u001b[39m\u001b[39m*\u001b[39m \u001b[39m2\u001b[39m\n\u001b[0;32m     66\u001b[0m         )\n\u001b[0;32m     67\u001b[0m         perimeter_h_adjusted \u001b[39m+\u001b[39m\u001b[39m=\u001b[39m (\n\u001b[0;32m     68\u001b[0m             scaling_factor_p\n\u001b[1;32m---> 69\u001b[0m             \u001b[39m*\u001b[39m (perimeter(grid_adjusted[\u001b[39m\"\u001b[39;49m\u001b[39mcell_id\u001b[39;49m\u001b[39m\"\u001b[39;49m]) \u001b[39m-\u001b[39m target_perimeter) \u001b[39m*\u001b[39m\u001b[39m*\u001b[39m \u001b[39m2\u001b[39m\n\u001b[0;32m     70\u001b[0m         )\n\u001b[0;32m     72\u001b[0m nabla_adhesion \u001b[39m=\u001b[39m adhesion_adjusted \u001b[39m-\u001b[39m adhesion_current\n\u001b[0;32m     73\u001b[0m nabla_volume \u001b[39m=\u001b[39m volume_h_adjusted \u001b[39m-\u001b[39m volume_h_current\n",
      "\u001b[1;31mIndexError\u001b[0m: too many indices for tensor of dimension 2"
     ]
    },
    {
     "data": {
      "image/png": "[encoded data removed]",
      "text/plain": [
       "<Figure size 640x480 with 1 Axes>"
      ]
     },
     "metadata": {},
     "output_type": "display_data"
    }
   ],
   "source": [
    "for i in range(100):\n",
    "  plt.imshow(grid, cmap=\"Greys\", interpolation=\"nearest\", vmin=0, vmax=1)\n",
    "  display.display(plt.gcf())\n",
    "  grid = model(grid, [cell_params], temperature=temperature)\n",
    "  display.clear_output(wait=True)\n",
    "  time.sleep(0.3)"
   ]
  }
 ],
 "metadata": {
  "kernelspec": {
   "display_name": "Python 3.10.6 ('torchenv')",
   "language": "python",
   "name": "python3"
  },
  "language_info": {
   "codemirror_mode": {
    "name": "ipython",
    "version": 3
   },
   "file_extension": ".py",
   "mimetype": "text/x-python",
   "name": "python",
   "nbconvert_exporter": "python",
   "pygments_lexer": "ipython3",
   "version": "3.10.6"
  },
  "orig_nbformat": 4,
  "vscode": {
   "interpreter": {
    "hash": "b773d0058f1b8f5f38d2d60a234a90a3b3eb0d051bd1b60d95552e21f147b9b6"
   }
  }
 },
 "nbformat": 4,
 "nbformat_minor": 2
}
