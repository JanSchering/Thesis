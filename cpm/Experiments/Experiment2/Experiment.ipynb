{
 "cells": [
  {
   "cell_type": "code",
   "execution_count": 4,
   "metadata": {},
   "outputs": [],
   "source": [
    "import torch as t\n",
    "import torch.nn.functional as F\n",
    "import numpy as np\n",
    "import matplotlib.pyplot as plt\n",
    "import sys\n",
    "sys.path.append(\"../../\")\n",
    "from periodic_padding import periodic_padding\n",
    "from hamiltonian_diff import model\n",
    "from cell_typing import CellKind, CellMap"
   ]
  },
  {
   "cell_type": "code",
   "execution_count": 23,
   "metadata": {},
   "outputs": [
    {
     "name": "stdout",
     "output_type": "stream",
     "text": [
      "tensor([[[[63., 56., 57., 58., 59., 60., 61., 62., 63., 56.],\n",
      "          [ 7.,  0.,  1.,  2.,  3.,  4.,  5.,  6.,  7.,  0.],\n",
      "          [15.,  8.,  9., 10., 11., 12., 13., 14., 15.,  8.],\n",
      "          [23., 16., 17., 18., 19., 20., 21., 22., 23., 16.],\n",
      "          [31., 24., 25., 26., 27., 28., 29., 30., 31., 24.],\n",
      "          [39., 32., 33., 34., 35., 36., 37., 38., 39., 32.],\n",
      "          [47., 40., 41., 42., 43., 44., 45., 46., 47., 40.],\n",
      "          [55., 48., 49., 50., 51., 52., 53., 54., 55., 48.],\n",
      "          [63., 56., 57., 58., 59., 60., 61., 62., 63., 56.],\n",
      "          [ 7.,  0.,  1.,  2.,  3.,  4.,  5.,  6.,  7.,  0.]]]])\n"
     ]
    },
    {
     "data": {
      "text/plain": [
       "torch.Size([49, 16])"
      ]
     },
     "execution_count": 23,
     "metadata": {},
     "output_type": "execute_result"
    }
   ],
   "source": [
    "unfold_transform = t.nn.Unfold(kernel_size=4)\n",
    "\n",
    "test = t.arange(64.).reshape(1,8,8)\n",
    "test = periodic_padding(test)\n",
    "test = test.unsqueeze(1)\n",
    "print(test)\n",
    "\n",
    "unfold_transform(test).squeeze(0).T.shape"
   ]
  },
  {
   "cell_type": "code",
   "execution_count": null,
   "metadata": {},
   "outputs": [],
   "source": []
  }
 ],
 "metadata": {
  "kernelspec": {
   "display_name": "torchenv",
   "language": "python",
   "name": "python3"
  },
  "language_info": {
   "codemirror_mode": {
    "name": "ipython",
    "version": 3
   },
   "file_extension": ".py",
   "mimetype": "text/x-python",
   "name": "python",
   "nbconvert_exporter": "python",
   "pygments_lexer": "ipython3",
   "version": "3.10.6"
  },
  "orig_nbformat": 4,
  "vscode": {
   "interpreter": {
    "hash": "b773d0058f1b8f5f38d2d60a234a90a3b3eb0d051bd1b60d95552e21f147b9b6"
   }
  }
 },
 "nbformat": 4,
 "nbformat_minor": 2
}
