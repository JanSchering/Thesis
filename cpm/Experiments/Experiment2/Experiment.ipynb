{
 "cells": [
  {
   "cell_type": "code",
   "execution_count": 1,
   "metadata": {},
   "outputs": [],
   "source": [
    "import torch as t\n",
    "import torch.nn.functional as F\n",
    "import numpy as np\n",
    "import matplotlib.pyplot as plt\n",
    "import sys\n",
    "sys.path.append(\"../../\")\n",
    "from periodic_padding import periodic_padding\n",
    "from hamiltonian_diff import model\n",
    "from cell_typing import CellKind, CellMap"
   ]
  },
  {
   "cell_type": "code",
   "execution_count": 13,
   "metadata": {},
   "outputs": [
    {
     "name": "stdout",
     "output_type": "stream",
     "text": [
      "tensor([[[[63., 56., 57., 58., 59., 60., 61., 62., 63., 56.],\n",
      "          [ 7.,  0.,  1.,  2.,  3.,  4.,  5.,  6.,  7.,  0.],\n",
      "          [15.,  8.,  9., 10., 11., 12., 13., 14., 15.,  8.],\n",
      "          [23., 16., 17., 18., 19., 20., 21., 22., 23., 16.],\n",
      "          [31., 24., 25., 26., 27., 28., 29., 30., 31., 24.],\n",
      "          [39., 32., 33., 34., 35., 36., 37., 38., 39., 32.],\n",
      "          [47., 40., 41., 42., 43., 44., 45., 46., 47., 40.],\n",
      "          [55., 48., 49., 50., 51., 52., 53., 54., 55., 48.],\n",
      "          [63., 56., 57., 58., 59., 60., 61., 62., 63., 56.],\n",
      "          [ 7.,  0.,  1.,  2.,  3.,  4.,  5.,  6.,  7.,  0.]]]])\n",
      "torch.Size([1, 16, 49])\n"
     ]
    }
   ],
   "source": [
    "unfold_transform = t.nn.Unfold(kernel_size=4)\n",
    "\n",
    "test = t.arange(64.).reshape(1,8,8)\n",
    "test = periodic_padding(test)\n",
    "test = test.unsqueeze(1)\n",
    "print(test)\n",
    "print(unfold_transform(test).shape)\n",
    "\n",
    "unfolded = unfold_transform(test).squeeze(0).T"
   ]
  },
  {
   "cell_type": "code",
   "execution_count": 6,
   "metadata": {},
   "outputs": [
    {
     "data": {
      "text/plain": [
       "tensor([63., 56., 57., 58.,  7.,  0.,  1.,  2., 15.,  8.,  9., 10., 23., 16.,\n",
       "        17., 18.])"
      ]
     },
     "execution_count": 6,
     "metadata": {},
     "output_type": "execute_result"
    }
   ],
   "source": [
    "unfolded[0]"
   ]
  },
  {
   "cell_type": "code",
   "execution_count": 12,
   "metadata": {},
   "outputs": [
    {
     "name": "stdout",
     "output_type": "stream",
     "text": [
      "tensor([[[[ 63.,  56.,  57.,  58.,  59.,  60.,  61.,  62.,  63.,  56.],\n",
      "          [  7.,   0.,   1.,   2.,   3.,   4.,   5.,   6.,   7.,   0.],\n",
      "          [ 15.,   8.,   9.,  10.,  11.,  12.,  13.,  14.,  15.,   8.],\n",
      "          [ 23.,  16.,  17.,  18.,  19.,  20.,  21.,  22.,  23.,  16.],\n",
      "          [ 31.,  24.,  25.,  26.,  27.,  28.,  29.,  30.,  31.,  24.],\n",
      "          [ 39.,  32.,  33.,  34.,  35.,  36.,  37.,  38.,  39.,  32.],\n",
      "          [ 47.,  40.,  41.,  42.,  43.,  44.,  45.,  46.,  47.,  40.],\n",
      "          [ 55.,  48.,  49.,  50.,  51.,  52.,  53.,  54.,  55.,  48.],\n",
      "          [ 63.,  56.,  57.,  58.,  59.,  60.,  61.,  62.,  63.,  56.],\n",
      "          [  7.,   0.,   1.,   2.,   3.,   4.,   5.,   6.,   7.,   0.]]],\n",
      "\n",
      "\n",
      "        [[[127., 120., 121., 122., 123., 124., 125., 126., 127., 120.],\n",
      "          [ 71.,  64.,  65.,  66.,  67.,  68.,  69.,  70.,  71.,  64.],\n",
      "          [ 79.,  72.,  73.,  74.,  75.,  76.,  77.,  78.,  79.,  72.],\n",
      "          [ 87.,  80.,  81.,  82.,  83.,  84.,  85.,  86.,  87.,  80.],\n",
      "          [ 95.,  88.,  89.,  90.,  91.,  92.,  93.,  94.,  95.,  88.],\n",
      "          [103.,  96.,  97.,  98.,  99., 100., 101., 102., 103.,  96.],\n",
      "          [111., 104., 105., 106., 107., 108., 109., 110., 111., 104.],\n",
      "          [119., 112., 113., 114., 115., 116., 117., 118., 119., 112.],\n",
      "          [127., 120., 121., 122., 123., 124., 125., 126., 127., 120.],\n",
      "          [ 71.,  64.,  65.,  66.,  67.,  68.,  69.,  70.,  71.,  64.]]]])\n",
      "torch.Size([2, 16, 49])\n"
     ]
    }
   ],
   "source": [
    "unfold_transform = t.nn.Unfold(kernel_size=4)\n",
    "\n",
    "test = t.arange(128.).reshape(2,8,8)\n",
    "test = periodic_padding(test)\n",
    "test = test.unsqueeze(1)\n",
    "print(test)\n",
    "print(unfold_transform(test).shape)\n",
    "unfolded = t.transpose(unfold_transform(test), dim0=1, dim1=2)"
   ]
  },
  {
   "cell_type": "code",
   "execution_count": 10,
   "metadata": {},
   "outputs": [
    {
     "data": {
      "text/plain": [
       "torch.Size([2, 49, 16])"
      ]
     },
     "execution_count": 10,
     "metadata": {},
     "output_type": "execute_result"
    }
   ],
   "source": [
    "unfolded.shape"
   ]
  },
  {
   "cell_type": "code",
   "execution_count": null,
   "metadata": {},
   "outputs": [],
   "source": []
  }
 ],
 "metadata": {
  "kernelspec": {
   "display_name": "torchenv",
   "language": "python",
   "name": "python3"
  },
  "language_info": {
   "codemirror_mode": {
    "name": "ipython",
    "version": 3
   },
   "file_extension": ".py",
   "mimetype": "text/x-python",
   "name": "python",
   "nbconvert_exporter": "python",
   "pygments_lexer": "ipython3",
   "version": "3.9.13"
  },
  "orig_nbformat": 4,
  "vscode": {
   "interpreter": {
    "hash": "b773d0058f1b8f5f38d2d60a234a90a3b3eb0d051bd1b60d95552e21f147b9b6"
   }
  }
 },
 "nbformat": 4,
 "nbformat_minor": 2
}
