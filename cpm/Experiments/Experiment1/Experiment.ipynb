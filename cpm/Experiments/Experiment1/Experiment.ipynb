{
 "cells": [
  {
   "cell_type": "code",
   "execution_count": 1,
   "metadata": {},
   "outputs": [],
   "source": [
    "import torch as t\n",
    "import sys\n",
    "sys.path.append(\"../../\")\n",
    "from hamiltonian_diff import model\n",
    "from cell_typing import CellKind, CellMap"
   ]
  },
  {
   "cell_type": "code",
   "execution_count": 2,
   "metadata": {},
   "outputs": [
    {
     "name": "stdout",
     "output_type": "stream",
     "text": [
      "tensor([[[0., 0., 0., 0., 0.],\n",
      "         [0., 0., 1., 0., 0.],\n",
      "         [0., 1., 1., 1., 0.],\n",
      "         [0., 0., 1., 0., 0.],\n",
      "         [0., 0., 0., 0., 0.]]])\n"
     ]
    }
   ],
   "source": [
    "grid = t.zeros((1,5,5))\n",
    "grid[0,1,2] = 1\n",
    "grid[0,2,1] = 1\n",
    "grid[0,2,2] = 1\n",
    "grid[0,2,3] = 1\n",
    "grid[0,3,2] = 1\n",
    "print(grid)"
   ]
  },
  {
   "cell_type": "code",
   "execution_count": 3,
   "metadata": {},
   "outputs": [],
   "source": [
    "target_perim1 = t.tensor(10.)\n",
    "lambda_perim1 = t.tensor(1.)\n",
    "target_vol1 = t.tensor(7.)\n",
    "lambda_vol1 = t.tensor(1.)\n",
    "adh_cost1 = {0: 2.}\n",
    "cell1 = CellKind(\n",
    "    type_id=1,\n",
    "    target_perimeter=target_perim1,\n",
    "    lambda_perimeter=lambda_perim1,\n",
    "    target_volume=target_vol1,\n",
    "    lambda_volume=lambda_vol1,\n",
    "    adhesion_cost=adh_cost1\n",
    ")\n",
    "cell_map = CellMap()\n",
    "cell_map.add(cell_id=1, cell_type=cell1)\n",
    "\n",
    "temperature = t.tensor(27.)"
   ]
  },
  {
   "cell_type": "code",
   "execution_count": 13,
   "metadata": {},
   "outputs": [],
   "source": [
    "grid, stats = model(grid, cell_map, temperature)"
   ]
  },
  {
   "cell_type": "code",
   "execution_count": 14,
   "metadata": {},
   "outputs": [
    {
     "name": "stdout",
     "output_type": "stream",
     "text": [
      "[[0 2 0]]\n",
      "[[0 2 1]]\n",
      "{'volume_energy': tensor([9.]), 'perimeter_energy': tensor([144.]), 'adh_e': tensor([44.]), 'h': tensor([197.])}\n",
      "{'volume_energy': tensor([16.]), 'perimeter_energy': tensor([100.]), 'adh_e': tensor([40.]), 'h': tensor([156.])}\n",
      "tensor([-41.])\n",
      "tensor([4.5655])\n",
      "tensor(1.)\n",
      "tensor([[[0., 0., 0., 0., 0.],\n",
      "         [0., 0., 1., 0., 0.],\n",
      "         [0., 0., 1., 0., 0.],\n",
      "         [0., 0., 1., 0., 0.],\n",
      "         [0., 0., 0., 0., 0.]]])\n"
     ]
    }
   ],
   "source": [
    "print(stats[\"src_pixel\"])\n",
    "print(stats[\"target_pixel\"])\n",
    "print(stats[\"current\"])\n",
    "print(stats[\"adjusted\"])\n",
    "print(stats[\"h_diff\"])\n",
    "print(stats[\"p_copy\"])\n",
    "print(stats[\"success\"])\n",
    "print(grid)"
   ]
  },
  {
   "cell_type": "code",
   "execution_count": null,
   "metadata": {},
   "outputs": [],
   "source": []
  }
 ],
 "metadata": {
  "kernelspec": {
   "display_name": "torchenv",
   "language": "python",
   "name": "python3"
  },
  "language_info": {
   "codemirror_mode": {
    "name": "ipython",
    "version": 3
   },
   "file_extension": ".py",
   "mimetype": "text/x-python",
   "name": "python",
   "nbconvert_exporter": "python",
   "pygments_lexer": "ipython3",
   "version": "3.10.6"
  },
  "orig_nbformat": 4,
  "vscode": {
   "interpreter": {
    "hash": "b773d0058f1b8f5f38d2d60a234a90a3b3eb0d051bd1b60d95552e21f147b9b6"
   }
  }
 },
 "nbformat": 4,
 "nbformat_minor": 2
}
