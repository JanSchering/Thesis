{
 "cells": [
  {
   "cell_type": "code",
   "execution_count": 2,
   "metadata": {},
   "outputs": [],
   "source": [
    "import torch as t\n",
    "import numpy as np\n",
    "import matplotlib.pyplot as plt\n",
    "import sys\n",
    "sys.path.append(\"../../\")\n",
    "from hamiltonian_diff import model\n",
    "from cell_typing import CellKind, CellMap"
   ]
  },
  {
   "cell_type": "code",
   "execution_count": 3,
   "metadata": {},
   "outputs": [
    {
     "name": "stdout",
     "output_type": "stream",
     "text": [
      "tensor([[[0., 0., 0., 0., 0.],\n",
      "         [0., 0., 1., 0., 0.],\n",
      "         [0., 1., 1., 1., 0.],\n",
      "         [0., 0., 1., 0., 0.],\n",
      "         [0., 0., 0., 0., 0.]]])\n"
     ]
    }
   ],
   "source": [
    "grid = t.zeros((1,5,5))\n",
    "grid[0,1,2] = 1\n",
    "grid[0,2,1] = 1\n",
    "grid[0,2,2] = 1\n",
    "grid[0,2,3] = 1\n",
    "grid[0,3,2] = 1\n",
    "print(grid)"
   ]
  },
  {
   "cell_type": "code",
   "execution_count": 4,
   "metadata": {},
   "outputs": [],
   "source": [
    "target_perim1 = t.tensor(10.)\n",
    "lambda_perim1 = t.tensor(1.)\n",
    "target_vol1 = t.tensor(7.)\n",
    "lambda_vol1 = t.tensor(1.)\n",
    "adh_cost1 = {0: t.tensor(2.)}\n",
    "cell1 = CellKind(\n",
    "    type_id=1,\n",
    "    target_perimeter=target_perim1,\n",
    "    lambda_perimeter=lambda_perim1,\n",
    "    target_volume=target_vol1,\n",
    "    lambda_volume=lambda_vol1,\n",
    "    adhesion_cost=adh_cost1\n",
    ")\n",
    "cell_map = CellMap()\n",
    "cell_map.add(cell_id=1, cell_type=cell1)\n",
    "\n",
    "temperature = t.tensor(27.)"
   ]
  },
  {
   "cell_type": "code",
   "execution_count": 5,
   "metadata": {},
   "outputs": [],
   "source": [
    "grid, stats = model(grid, cell_map, temperature)"
   ]
  },
  {
   "cell_type": "code",
   "execution_count": 6,
   "metadata": {},
   "outputs": [
    {
     "name": "stdout",
     "output_type": "stream",
     "text": [
      "[[0 3 1]]\n",
      "[[0 2 2]]\n",
      "{'volume_energy': tensor([4.]), 'perimeter_energy': tensor([196.]), 'adh_e': tensor([48.]), 'h': tensor([248.])}\n",
      "{'volume_energy': tensor([9.]), 'perimeter_energy': tensor([196.]), 'adh_e': tensor([48.]), 'h': tensor([253.])}\n",
      "tensor([5.])\n",
      "tensor([0.8310])\n",
      "tensor(1.)\n",
      "tensor([[[0., 0., 0., 0., 0.],\n",
      "         [0., 0., 1., 0., 0.],\n",
      "         [0., 1., 0., 1., 0.],\n",
      "         [0., 0., 1., 0., 0.],\n",
      "         [0., 0., 0., 0., 0.]]])\n"
     ]
    }
   ],
   "source": [
    "print(stats[\"src_pixel\"])\n",
    "print(stats[\"target_pixel\"])\n",
    "print(stats[\"current\"])\n",
    "print(stats[\"adjusted\"])\n",
    "print(stats[\"h_diff\"])\n",
    "print(stats[\"p_copy\"])\n",
    "print(stats[\"success\"])\n",
    "print(grid)"
   ]
  },
  {
   "cell_type": "code",
   "execution_count": 7,
   "metadata": {},
   "outputs": [],
   "source": [
    "from hamiltonian_diff import hamiltonian_energy\n",
    "\n",
    "target_vol1.requires_grad_()\n",
    "e, stats = hamiltonian_energy(grid, cell_map, use_volume=True, use_perimeter=True, use_adhesion=True)\n",
    "grad = t.autograd.grad(e, target_vol1)"
   ]
  },
  {
   "cell_type": "code",
   "execution_count": 8,
   "metadata": {},
   "outputs": [
    {
     "data": {
      "text/plain": [
       "(tensor(6.),)"
      ]
     },
     "execution_count": 8,
     "metadata": {},
     "output_type": "execute_result"
    }
   ],
   "source": [
    "grad"
   ]
  },
  {
   "cell_type": "code",
   "execution_count": 9,
   "metadata": {},
   "outputs": [
    {
     "name": "stdout",
     "output_type": "stream",
     "text": [
      "tensor([[[0., 0., 0., 0., 0.],\n",
      "         [0., 0., 1., 0., 0.],\n",
      "         [0., 1., 0., 1., 0.],\n",
      "         [0., 0., 1., 0., 0.],\n",
      "         [0., 0., 0., 0., 0.]]])\n",
      "[array(-6., dtype=float32), array(-4., dtype=float32), array(-2., dtype=float32), array(0., dtype=float32), array(2., dtype=float32), array(4., dtype=float32), array(6., dtype=float32), array(8., dtype=float32), array(10., dtype=float32), array(12., dtype=float32)]\n"
     ]
    }
   ],
   "source": [
    "print(grid)\n",
    "vols = t.linspace(1, 10, 10)\n",
    "\n",
    "grads = []\n",
    "for vol in vols:\n",
    "    vol.requires_grad_()\n",
    "    cell1 = CellKind(\n",
    "        type_id=1,\n",
    "        target_perimeter=target_perim1,\n",
    "        lambda_perimeter=lambda_perim1,\n",
    "        target_volume=vol,\n",
    "        lambda_volume=lambda_vol1,\n",
    "        adhesion_cost=adh_cost1\n",
    "    )\n",
    "    cell_map = CellMap()\n",
    "    cell_map.add(cell_id=1, cell_type=cell1)\n",
    "    e, stats = hamiltonian_energy(grid, cell_map, use_volume=True, use_perimeter=True, use_adhesion=True)\n",
    "    grad = t.autograd.grad(e, vol)[0]\n",
    "    grads.append(grad.detach().numpy())\n",
    "print(grads)"
   ]
  },
  {
   "cell_type": "code",
   "execution_count": 10,
   "metadata": {},
   "outputs": [
    {
     "data": {
      "text/plain": [
       "[<matplotlib.lines.Line2D at 0x7fa6750c3e50>]"
      ]
     },
     "execution_count": 10,
     "metadata": {},
     "output_type": "execute_result"
    },
    {
     "data": {
      "image/png": "[encoded data removed]",
      "text/plain": [
       "<Figure size 640x480 with 1 Axes>"
      ]
     },
     "metadata": {},
     "output_type": "display_data"
    }
   ],
   "source": [
    "plt.plot(vols, grads)"
   ]
  },
  {
   "cell_type": "code",
   "execution_count": 11,
   "metadata": {},
   "outputs": [
    {
     "name": "stdout",
     "output_type": "stream",
     "text": [
      "1.0: -6.0\n",
      "2.0: -4.0\n",
      "3.0: -2.0\n",
      "4.0: 0.0\n",
      "5.0: 2.0\n",
      "6.0: 4.0\n",
      "7.0: 6.0\n",
      "8.0: 8.0\n",
      "9.0: 10.0\n",
      "10.0: 12.0\n"
     ]
    }
   ],
   "source": [
    "for idx, vol in enumerate(vols):\n",
    "    print(f\"{vol}: {grads[idx]}\")"
   ]
  },
  {
   "cell_type": "code",
   "execution_count": 12,
   "metadata": {},
   "outputs": [
    {
     "name": "stdout",
     "output_type": "stream",
     "text": [
      "tensor([[[0., 0., 0., 0., 0.],\n",
      "         [0., 0., 1., 0., 0.],\n",
      "         [0., 1., 0., 1., 0.],\n",
      "         [0., 0., 1., 0., 0.],\n",
      "         [0., 0., 0., 0., 0.]]])\n",
      "[array(-46., dtype=float32), array(-44., dtype=float32), array(-42., dtype=float32), array(-40., dtype=float32), array(-38., dtype=float32), array(-36., dtype=float32), array(-34., dtype=float32), array(-32., dtype=float32), array(-30., dtype=float32), array(-28., dtype=float32), array(-26., dtype=float32), array(-24., dtype=float32), array(-22., dtype=float32), array(-20., dtype=float32), array(-18., dtype=float32), array(-16., dtype=float32), array(-14., dtype=float32), array(-12., dtype=float32), array(-10., dtype=float32), array(-8., dtype=float32), array(-6., dtype=float32), array(-4., dtype=float32), array(-2., dtype=float32), array(0., dtype=float32), array(2., dtype=float32), array(4., dtype=float32), array(6., dtype=float32), array(8., dtype=float32), array(10., dtype=float32), array(12., dtype=float32), array(14., dtype=float32), array(16., dtype=float32), array(18., dtype=float32), array(20., dtype=float32), array(22., dtype=float32), array(24., dtype=float32), array(26., dtype=float32), array(28., dtype=float32), array(30., dtype=float32), array(32., dtype=float32), array(34., dtype=float32), array(36., dtype=float32), array(38., dtype=float32), array(40., dtype=float32), array(42., dtype=float32), array(44., dtype=float32), array(46., dtype=float32), array(48., dtype=float32), array(50., dtype=float32), array(52., dtype=float32), array(54., dtype=float32), array(56., dtype=float32), array(58., dtype=float32), array(60., dtype=float32), array(62., dtype=float32), array(64., dtype=float32), array(66., dtype=float32), array(68., dtype=float32), array(70., dtype=float32), array(72., dtype=float32), array(74., dtype=float32), array(76., dtype=float32), array(78., dtype=float32), array(80., dtype=float32), array(82., dtype=float32), array(84., dtype=float32), array(86., dtype=float32), array(88., dtype=float32), array(90., dtype=float32), array(92., dtype=float32), array(94., dtype=float32), array(96., dtype=float32), array(98., dtype=float32), array(100., dtype=float32), array(102., dtype=float32), array(104., dtype=float32), array(106., dtype=float32), array(108., dtype=float32), array(110., dtype=float32), array(112., dtype=float32), array(114., dtype=float32), array(116., dtype=float32), array(118., dtype=float32), array(120., dtype=float32), array(122., dtype=float32), array(124., dtype=float32), array(126., dtype=float32), array(128., dtype=float32), array(130., dtype=float32), array(132., dtype=float32), array(134., dtype=float32), array(136., dtype=float32), array(138., dtype=float32), array(140., dtype=float32), array(142., dtype=float32), array(144., dtype=float32), array(146., dtype=float32), array(148., dtype=float32), array(150., dtype=float32), array(152., dtype=float32)]\n"
     ]
    }
   ],
   "source": [
    "print(grid)\n",
    "perims = t.linspace(1, 100, 100)\n",
    "\n",
    "grads = []\n",
    "for perim in perims:\n",
    "    perim.requires_grad_()\n",
    "    cell1 = CellKind(\n",
    "        type_id=1,\n",
    "        target_perimeter=perim,\n",
    "        lambda_perimeter=lambda_perim1,\n",
    "        target_volume=target_vol1,\n",
    "        lambda_volume=lambda_vol1,\n",
    "        adhesion_cost=adh_cost1\n",
    "    )\n",
    "    cell_map = CellMap()\n",
    "    cell_map.add(cell_id=1, cell_type=cell1)\n",
    "    e, stats = hamiltonian_energy(grid, cell_map, use_volume=True, use_perimeter=True, use_adhesion=True)\n",
    "    grad = t.autograd.grad(e, perim)[0]\n",
    "    grads.append(grad.detach().numpy())\n",
    "print(grads)"
   ]
  },
  {
   "cell_type": "code",
   "execution_count": 13,
   "metadata": {},
   "outputs": [
    {
     "data": {
      "text/plain": [
       "[<matplotlib.lines.Line2D at 0x7fa674fb8730>]"
      ]
     },
     "execution_count": 13,
     "metadata": {},
     "output_type": "execute_result"
    },
    {
     "data": {
      "image/png": "[encoded data removed]",
      "text/plain": [
       "<Figure size 640x480 with 1 Axes>"
      ]
     },
     "metadata": {},
     "output_type": "display_data"
    }
   ],
   "source": [
    "plt.plot(perims, grads)"
   ]
  },
  {
   "cell_type": "code",
   "execution_count": 14,
   "metadata": {},
   "outputs": [
    {
     "name": "stdout",
     "output_type": "stream",
     "text": [
      "tensor([[[0., 0., 0., 0., 0.],\n",
      "         [0., 0., 1., 0., 0.],\n",
      "         [0., 1., 0., 1., 0.],\n",
      "         [0., 0., 1., 0., 0.],\n",
      "         [0., 0., 0., 0., 0.]]])\n",
      "[array(24., dtype=float32), array(24., dtype=float32), array(24., dtype=float32), array(24., dtype=float32), array(24., dtype=float32), array(24., dtype=float32), array(24., dtype=float32), array(24., dtype=float32), array(24., dtype=float32), array(24., dtype=float32), array(24., dtype=float32), array(24., dtype=float32), array(24., dtype=float32), array(24., dtype=float32), array(24., dtype=float32), array(24., dtype=float32), array(24., dtype=float32), array(24., dtype=float32), array(24., dtype=float32), array(24., dtype=float32), array(24., dtype=float32), array(24., dtype=float32), array(24., dtype=float32), array(24., dtype=float32), array(24., dtype=float32), array(24., dtype=float32), array(24., dtype=float32), array(24., dtype=float32), array(24., dtype=float32), array(24., dtype=float32), array(24., dtype=float32), array(24., dtype=float32), array(24., dtype=float32), array(24., dtype=float32), array(24., dtype=float32), array(24., dtype=float32), array(24., dtype=float32), array(24., dtype=float32), array(24., dtype=float32), array(24., dtype=float32), array(24., dtype=float32), array(24., dtype=float32), array(24., dtype=float32), array(24., dtype=float32), array(24., dtype=float32), array(24., dtype=float32), array(24., dtype=float32), array(24., dtype=float32), array(24., dtype=float32), array(24., dtype=float32), array(24., dtype=float32), array(24., dtype=float32), array(24., dtype=float32), array(24., dtype=float32), array(24., dtype=float32), array(24., dtype=float32), array(24., dtype=float32), array(24., dtype=float32), array(24., dtype=float32), array(24., dtype=float32), array(24., dtype=float32), array(24., dtype=float32), array(24., dtype=float32), array(24., dtype=float32), array(24., dtype=float32), array(24., dtype=float32), array(24., dtype=float32), array(24., dtype=float32), array(24., dtype=float32), array(24., dtype=float32), array(24., dtype=float32), array(24., dtype=float32), array(24., dtype=float32), array(24., dtype=float32), array(24., dtype=float32), array(24., dtype=float32), array(24., dtype=float32), array(24., dtype=float32), array(24., dtype=float32), array(24., dtype=float32), array(24., dtype=float32), array(24., dtype=float32), array(24., dtype=float32), array(24., dtype=float32), array(24., dtype=float32), array(24., dtype=float32), array(24., dtype=float32), array(24., dtype=float32), array(24., dtype=float32), array(24., dtype=float32), array(24., dtype=float32), array(24., dtype=float32), array(24., dtype=float32), array(24., dtype=float32), array(24., dtype=float32), array(24., dtype=float32), array(24., dtype=float32), array(24., dtype=float32), array(24., dtype=float32), array(24., dtype=float32)]\n"
     ]
    }
   ],
   "source": [
    "print(grid)\n",
    "adhesions = t.linspace(1, 100, 100)\n",
    "\n",
    "e_vals = []\n",
    "grads = []\n",
    "for adh in adhesions:\n",
    "    adh.requires_grad_()\n",
    "    adh_cost = {\n",
    "        0: adh\n",
    "    }\n",
    "    cell1 = CellKind(\n",
    "        type_id=1,\n",
    "        target_perimeter=target_perim1,\n",
    "        lambda_perimeter=lambda_perim1,\n",
    "        target_volume=target_vol1,\n",
    "        lambda_volume=lambda_vol1,\n",
    "        adhesion_cost=adh_cost\n",
    "    )\n",
    "    cell_map = CellMap()\n",
    "    cell_map.add(cell_id=1, cell_type=cell1)\n",
    "    e, stats = hamiltonian_energy(grid, cell_map, use_volume=True, use_perimeter=True, use_adhesion=True)\n",
    "    grad = t.autograd.grad(e, adh)[0]\n",
    "    grads.append(grad.detach().numpy())\n",
    "    e_vals.append(e.detach().numpy())\n",
    "print(grads)"
   ]
  },
  {
   "cell_type": "code",
   "execution_count": 15,
   "metadata": {},
   "outputs": [
    {
     "data": {
      "text/plain": [
       "[<matplotlib.lines.Line2D at 0x7fa674f3ed30>]"
      ]
     },
     "execution_count": 15,
     "metadata": {},
     "output_type": "execute_result"
    },
    {
     "data": {
      "image/png": "[encoded data removed]",
      "text/plain": [
       "<Figure size 640x480 with 1 Axes>"
      ]
     },
     "metadata": {},
     "output_type": "display_data"
    }
   ],
   "source": [
    "plt.plot(adhesions, grads)\n",
    "plt.plot(adhesions, e_vals)"
   ]
  },
  {
   "cell_type": "code",
   "execution_count": 16,
   "metadata": {},
   "outputs": [
    {
     "data": {
      "text/plain": [
       "(tensor([[[0., 0., 0., 0., 0.],\n",
       "          [0., 0., 0., 0., 0.],\n",
       "          [0., 0., 0., 0., 0.],\n",
       "          [0., 0., 0., 0., 0.],\n",
       "          [0., 0., 0., 0., 0.]]]),)"
      ]
     },
     "execution_count": 16,
     "metadata": {},
     "output_type": "execute_result"
    }
   ],
   "source": [
    "adh_cost1 = {0: t.tensor(2.)}\n",
    "cell1 = CellKind(\n",
    "    type_id=1,\n",
    "    target_perimeter=target_perim1,\n",
    "    lambda_perimeter=lambda_perim1,\n",
    "    target_volume=target_vol1,\n",
    "    lambda_volume=lambda_vol1,\n",
    "    adhesion_cost=adh_cost1\n",
    ")\n",
    "cell_map = CellMap()\n",
    "cell_map.add(cell_id=1, cell_type=cell1)\n",
    "grid.requires_grad_()\n",
    "e, stats = hamiltonian_energy(grid, cell_map, use_volume=True, use_perimeter=True, use_adhesion=True)\n",
    "t.autograd.grad(e, grid)"
   ]
  },
  {
   "cell_type": "code",
   "execution_count": 17,
   "metadata": {},
   "outputs": [
    {
     "data": {
      "text/plain": [
       "(tensor([[[-2., -2., -2., -2., -2.],\n",
       "          [-2., -2., -2., -2., -2.],\n",
       "          [-2., -2., -2., -2., -2.],\n",
       "          [-2., -2., -2., -2., -2.],\n",
       "          [-2., -2., -2., -2., -2.]]]),)"
      ]
     },
     "execution_count": 17,
     "metadata": {},
     "output_type": "execute_result"
    }
   ],
   "source": [
    "grid.requires_grad_()\n",
    "loss = t.sum((grid - (grid.detach() + 1)) ** 2)\n",
    "t.autograd.grad(loss, grid)"
   ]
  },
  {
   "cell_type": "code",
   "execution_count": 18,
   "metadata": {},
   "outputs": [
    {
     "data": {
      "text/plain": [
       "tensor([9.], grad_fn=<SumBackward1>)"
      ]
     },
     "execution_count": 18,
     "metadata": {},
     "output_type": "execute_result"
    }
   ],
   "source": [
    "from volume_diff import volume_energy\n",
    "\n",
    "volume_energy(grid, cell_map)\n",
    "\n"
   ]
  },
  {
   "cell_type": "code",
   "execution_count": 19,
   "metadata": {},
   "outputs": [],
   "source": [
    "from volume_diff import id_batched_volume\n",
    "\n",
    "grid.requires_grad_()\n",
    "\n",
    "loss_fn = t.nn.BCELoss()\n",
    "loss = loss_fn(t.ones(grid.shape), grid)\n",
    "test_loss = (loss - t.tensor(10.)) ** 2\n",
    "\n",
    "grad = t.autograd.grad(test_loss, grid)"
   ]
  },
  {
   "cell_type": "code",
   "execution_count": 20,
   "metadata": {},
   "outputs": [
    {
     "name": "stdout",
     "output_type": "stream",
     "text": [
      "(tensor([[[-inf, -inf, -inf, -inf, -inf],\n",
      "         [-inf, -inf, -inf, -inf, -inf],\n",
      "         [-inf, -inf, -inf, -inf, -inf],\n",
      "         [-inf, -inf, -inf, -inf, -inf],\n",
      "         [-inf, -inf, -inf, -inf, -inf]]]),)\n"
     ]
    }
   ],
   "source": [
    "print(grad)"
   ]
  },
  {
   "cell_type": "code",
   "execution_count": 21,
   "metadata": {},
   "outputs": [
    {
     "data": {
      "text/plain": [
       "(tensor(-0.),)"
      ]
     },
     "execution_count": 21,
     "metadata": {},
     "output_type": "execute_result"
    }
   ],
   "source": [
    "a = t.tensor(2.)\n",
    "a.requires_grad_()\n",
    "loss = 0 ** ((a - t.tensor(4.)) ** 2)\n",
    "t.autograd.grad(loss, a)"
   ]
  },
  {
   "cell_type": "code",
   "execution_count": 22,
   "metadata": {},
   "outputs": [
    {
     "data": {
      "text/plain": [
       "tensor(0., grad_fn=<PowBackward1>)"
      ]
     },
     "execution_count": 22,
     "metadata": {},
     "output_type": "execute_result"
    }
   ],
   "source": [
    "loss"
   ]
  },
  {
   "cell_type": "code",
   "execution_count": 23,
   "metadata": {},
   "outputs": [],
   "source": [
    "class STETest(t.autograd.Function):\n",
    "    @staticmethod\n",
    "    def forward(ctx, input):\n",
    "        return (input == 0).float()\n",
    "\n",
    "    @staticmethod\n",
    "    def backward(ctx, grad_output):\n",
    "        return grad_output"
   ]
  },
  {
   "cell_type": "code",
   "execution_count": 24,
   "metadata": {},
   "outputs": [
    {
     "data": {
      "text/plain": [
       "(tensor(1.),)"
      ]
     },
     "execution_count": 24,
     "metadata": {},
     "output_type": "execute_result"
    }
   ],
   "source": [
    "loss = STETest.apply(a - t.tensor(4.))\n",
    "t.autograd.grad(loss, a)"
   ]
  },
  {
   "cell_type": "code",
   "execution_count": 26,
   "metadata": {},
   "outputs": [
    {
     "data": {
      "text/plain": [
       "[<matplotlib.lines.Line2D at 0x7fa674e908b0>]"
      ]
     },
     "execution_count": 26,
     "metadata": {},
     "output_type": "execute_result"
    },
    {
     "data": {
      "image/png": "[encoded data removed]",
      "text/plain": [
       "<Figure size 640x480 with 1 Axes>"
      ]
     },
     "metadata": {},
     "output_type": "display_data"
    }
   ],
   "source": [
    "grads = []\n",
    "losses = []\n",
    "for i in range(10):\n",
    "    a = t.tensor(float(i), requires_grad=True)\n",
    "    loss = STETest.apply((a - t.tensor(4.))**2)\n",
    "    grad = t.autograd.grad(loss, a)[0]\n",
    "    grads.append(grad.detach().numpy())\n",
    "    losses.append(loss.detach().numpy())\n",
    "plt.plot(range(10), grads)\n",
    "plt.plot(range(10), losses)"
   ]
  },
  {
   "cell_type": "code",
   "execution_count": null,
   "metadata": {},
   "outputs": [],
   "source": []
  }
 ],
 "metadata": {
  "kernelspec": {
   "display_name": "base",
   "language": "python",
   "name": "python3"
  },
  "language_info": {
   "codemirror_mode": {
    "name": "ipython",
    "version": 3
   },
   "file_extension": ".py",
   "mimetype": "text/x-python",
   "name": "python",
   "nbconvert_exporter": "python",
   "pygments_lexer": "ipython3",
   "version": "3.9.13"
  },
  "orig_nbformat": 4,
  "vscode": {
   "interpreter": {
    "hash": "61a57a4b5406d2de388e2f91097d4e4bcd7d5f4a46f53a795aa28a02eed27fc5"
   }
  }
 },
 "nbformat": 4,
 "nbformat_minor": 2
}
