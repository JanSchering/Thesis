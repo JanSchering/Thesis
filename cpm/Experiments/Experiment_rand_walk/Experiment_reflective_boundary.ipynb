{
 "cells": [
  {
   "cell_type": "code",
   "execution_count": 1,
   "metadata": {},
   "outputs": [],
   "source": [
    "import sys\n",
    "import torch as t\n",
    "sys.path.append(\"../../\")\n",
    "from periodic_padding import periodic_padding"
   ]
  },
  {
   "cell_type": "code",
   "execution_count": 100,
   "metadata": {},
   "outputs": [],
   "source": [
    "def split_grids(batch:t.Tensor, kernel_width: int, kernel_height: int) -> t.Tensor:\n",
    "    unfold_transform = t.nn.Unfold(kernel_size=(kernel_height,kernel_width))\n",
    "    reflective_padding = t.nn.ReflectionPad2d(1)\n",
    "    \n",
    "    padded_batch = reflective_padding(batch).float()\n",
    "    padded_batch = padded_batch.unsqueeze(1)\n",
    "    \n",
    "    return t.transpose(unfold_transform(padded_batch), dim0=1, dim1=2)"
   ]
  },
  {
   "attachments": {},
   "cell_type": "markdown",
   "metadata": {},
   "source": [
    "## sanity check split"
   ]
  },
  {
   "cell_type": "code",
   "execution_count": 99,
   "metadata": {},
   "outputs": [
    {
     "name": "stdout",
     "output_type": "stream",
     "text": [
      "tensor([[[ 5.,  4.,  5.,  6.,  7.,  6.],\n",
      "         [ 1.,  0.,  1.,  2.,  3.,  2.],\n",
      "         [ 5.,  4.,  5.,  6.,  7.,  6.],\n",
      "         [ 9.,  8.,  9., 10., 11., 10.],\n",
      "         [13., 12., 13., 14., 15., 14.],\n",
      "         [ 9.,  8.,  9., 10., 11., 10.]]])\n"
     ]
    }
   ],
   "source": []
  },
  {
   "cell_type": "code",
   "execution_count": 55,
   "metadata": {},
   "outputs": [],
   "source": [
    "def tile_idx2conv_idx(row, col, tile_size, batch_size):\n",
    "    _, batch_height, batch_width = batch_size\n",
    "    tile_height, tile_width = tile_size\n",
    "    tiles_per_row = batch_width-tile_width+1\n",
    "    return int(tile_height*row*tiles_per_row + tile_width*col)"
   ]
  },
  {
   "attachments": {},
   "cell_type": "markdown",
   "metadata": {},
   "source": [
    "## sanity checks for the helper functions"
   ]
  },
  {
   "cell_type": "code",
   "execution_count": 61,
   "metadata": {},
   "outputs": [
    {
     "name": "stdout",
     "output_type": "stream",
     "text": [
      "tensor([[[ 0.,  1.,  2.,  3.,  4.,  5.,  6.,  7.],\n",
      "         [ 8.,  9., 10., 11., 12., 13., 14., 15.],\n",
      "         [16., 17., 18., 19., 20., 21., 22., 23.],\n",
      "         [24., 25., 26., 27., 28., 29., 30., 31.],\n",
      "         [32., 33., 34., 35., 36., 37., 38., 39.],\n",
      "         [40., 41., 42., 43., 44., 45., 46., 47.],\n",
      "         [48., 49., 50., 51., 52., 53., 54., 55.],\n",
      "         [56., 57., 58., 59., 60., 61., 62., 63.]]])\n",
      "torch.Size([1, 25, 16])\n",
      "28\n"
     ]
    },
    {
     "ename": "AssertionError",
     "evalue": "",
     "output_type": "error",
     "traceback": [
      "\u001b[1;31m---------------------------------------------------------------------------\u001b[0m",
      "\u001b[1;31mAssertionError\u001b[0m                            Traceback (most recent call last)",
      "Cell \u001b[1;32mIn[61], line 12\u001b[0m\n\u001b[0;32m     10\u001b[0m idx \u001b[39m=\u001b[39m tile_idx2conv_idx(row,col,(\u001b[39m4\u001b[39m,\u001b[39m4\u001b[39m),test\u001b[39m.\u001b[39mshape)\n\u001b[0;32m     11\u001b[0m \u001b[39mprint\u001b[39m(idx)\n\u001b[1;32m---> 12\u001b[0m \u001b[39massert\u001b[39;00m idx \u001b[39m==\u001b[39m \u001b[39m18\u001b[39m\n\u001b[0;32m     13\u001b[0m tile \u001b[39m=\u001b[39m split[\u001b[39m0\u001b[39m,idx]\n\u001b[0;32m     14\u001b[0m \u001b[39massert\u001b[39;00m t\u001b[39m.\u001b[39mall(tile \u001b[39m==\u001b[39m t\u001b[39m.\u001b[39mtensor([\n\u001b[0;32m     15\u001b[0m     \u001b[39m11\u001b[39m, \u001b[39m12\u001b[39m, \u001b[39m13\u001b[39m, \u001b[39m14\u001b[39m,\n\u001b[0;32m     16\u001b[0m     \u001b[39m19\u001b[39m, \u001b[39m20\u001b[39m, \u001b[39m21\u001b[39m, \u001b[39m22\u001b[39m,\n\u001b[0;32m     17\u001b[0m     \u001b[39m27\u001b[39m, \u001b[39m28\u001b[39m, \u001b[39m29\u001b[39m, \u001b[39m30\u001b[39m,\n\u001b[0;32m     18\u001b[0m     \u001b[39m35\u001b[39m, \u001b[39m36\u001b[39m, \u001b[39m37\u001b[39m, \u001b[39m38\u001b[39m\n\u001b[0;32m     19\u001b[0m ]))\n",
      "\u001b[1;31mAssertionError\u001b[0m: "
     ]
    }
   ],
   "source": [
    "test = t.arange(64).reshape(1,8,8).float()\n",
    "print(test)\n",
    "\n",
    "split = split_grids(test, kernel_width=4, kernel_height=4)\n",
    "print(split.shape)\n",
    "assert split.shape == (1, 25, 16)\n",
    "\n",
    "row = 1\n",
    "col = 2\n",
    "idx = tile_idx2conv_idx(row,col,(4,4),test.shape)\n",
    "print(idx)\n",
    "assert idx == 18\n",
    "tile = split[0,idx]\n",
    "assert t.all(tile == t.tensor([\n",
    "    11, 12, 13, 14,\n",
    "    19, 20, 21, 22,\n",
    "    27, 28, 29, 30,\n",
    "    35, 36, 37, 38\n",
    "]))\n",
    "\n",
    "row = 2\n",
    "col = 0\n",
    "idx = tile_idx2conv_idx(row,col,(4,4),test.shape)\n",
    "assert idx == 28\n",
    "tile = split[0,idx]\n",
    "assert t.all(tile == t.tensor([\n",
    "    31, 24, 25, 26,\n",
    "    39, 32, 33, 34,\n",
    "    47, 40, 41, 42,\n",
    "    55, 48, 49, 50\n",
    "]))"
   ]
  },
  {
   "cell_type": "code",
   "execution_count": 38,
   "metadata": {},
   "outputs": [
    {
     "name": "stdout",
     "output_type": "stream",
     "text": [
      "tensor([[[ 0,  1,  2,  3,  4,  5,  6,  7],\n",
      "         [ 8,  9, 10, 11, 12, 13, 14, 15],\n",
      "         [16, 17, 18, 19, 20, 21, 22, 23],\n",
      "         [24, 25, 26, 27, 28, 29, 30, 31],\n",
      "         [32, 33, 34, 35, 36, 37, 38, 39],\n",
      "         [40, 41, 42, 43, 44, 45, 46, 47],\n",
      "         [48, 49, 50, 51, 52, 53, 54, 55],\n",
      "         [56, 57, 58, 59, 60, 61, 62, 63]]])\n"
     ]
    }
   ],
   "source": [
    "print(test)"
   ]
  },
  {
   "cell_type": "code",
   "execution_count": null,
   "metadata": {},
   "outputs": [],
   "source": []
  }
 ],
 "metadata": {
  "kernelspec": {
   "display_name": "base",
   "language": "python",
   "name": "python3"
  },
  "language_info": {
   "codemirror_mode": {
    "name": "ipython",
    "version": 3
   },
   "file_extension": ".py",
   "mimetype": "text/x-python",
   "name": "python",
   "nbconvert_exporter": "python",
   "pygments_lexer": "ipython3",
   "version": "3.10.9"
  },
  "orig_nbformat": 4
 },
 "nbformat": 4,
 "nbformat_minor": 2
}
