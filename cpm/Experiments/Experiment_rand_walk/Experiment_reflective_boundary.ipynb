{
 "cells": [
  {
   "cell_type": "code",
   "execution_count": 153,
   "metadata": {},
   "outputs": [],
   "source": [
    "import sys\n",
    "import torch as t\n",
    "sys.path.append(\"../../\")\n",
    "from periodic_padding import periodic_padding\n",
    "import random"
   ]
  },
  {
   "attachments": {},
   "cell_type": "markdown",
   "metadata": {},
   "source": [
    "## grid splitting with reflective boundary neighborhood"
   ]
  },
  {
   "cell_type": "code",
   "execution_count": 2,
   "metadata": {},
   "outputs": [],
   "source": [
    "def split_grids(batch:t.Tensor, kernel_width: int, kernel_height: int) -> t.Tensor:\n",
    "    unfold_transform = t.nn.Unfold(kernel_size=(kernel_height,kernel_width))\n",
    "    reflective_padding = t.nn.ReflectionPad2d(1)\n",
    "    \n",
    "    padded_batch = reflective_padding(batch).float()\n",
    "    padded_batch = padded_batch.unsqueeze(1)\n",
    "    \n",
    "    return t.transpose(unfold_transform(padded_batch), dim0=1, dim1=2)"
   ]
  },
  {
   "cell_type": "code",
   "execution_count": 22,
   "metadata": {},
   "outputs": [],
   "source": [
    "test1 = t.arange(64).reshape(1,8,8).float()\n",
    "split1 = split_grids(test1, kernel_width=4, kernel_height=4)\n",
    "assert split1.shape == (1, 49, 16)\n",
    "assert t.all(split1[0,0] == t.tensor([\n",
    "    9,  8,  9,  10,\n",
    "    1,  0,  1,  2,\n",
    "    9,  8,  9,  10,\n",
    "    17, 16, 17, 18\n",
    "])) \n",
    "\n",
    "test2 = t.arange(32**2).reshape(1,32,32).float()\n",
    "split2 = split_grids(test2, kernel_width=6, kernel_height=6)\n",
    "assert split2.shape == (1, 841, 36)\n",
    "assert t.all(split2[0,0] == t.tensor([\n",
    "    33,  32,  33,  34,  35,  36,\n",
    "    1,   0,   1,   2,   3,   4,\n",
    "    33,  32,  33,  34,  35,  36,\n",
    "    65,  64,  65,  66,  67,  68,\n",
    "    97,  96,  97,  98,  99,  100,\n",
    "    129, 128, 129, 130, 131, 132\n",
    "]))"
   ]
  },
  {
   "attachments": {},
   "cell_type": "markdown",
   "metadata": {},
   "source": [
    "## converting tile indices of the checkerboard to index in the unfolded conv list"
   ]
  },
  {
   "cell_type": "code",
   "execution_count": 41,
   "metadata": {},
   "outputs": [],
   "source": [
    "def tile_idx2conv_idx(row, col, tile_size, batch_size):\n",
    "    _, batch_height, batch_width = batch_size\n",
    "    tile_height, tile_width = tile_size\n",
    "    tile_width -= 2\n",
    "    tile_height -= 2\n",
    "    tiles_per_row = batch_width-tile_width+1\n",
    "    return int(tile_height*row*tiles_per_row + tile_width*col)"
   ]
  },
  {
   "cell_type": "code",
   "execution_count": 42,
   "metadata": {},
   "outputs": [],
   "source": [
    "test1 = t.arange(64).reshape(1,8,8).float()\n",
    "split1 = split_grids(test1, kernel_width=4, kernel_height=4)\n",
    "idx = tile_idx2conv_idx(1,0,(4,4),test1.shape)\n",
    "assert idx == 14\n",
    "assert t.all(split1[0,idx] == t.tensor([\n",
    "    9,  8,  9,  10,\n",
    "    17, 16, 17, 18,\n",
    "    25, 24, 25, 26,\n",
    "    33, 32, 33, 34\n",
    "]))"
   ]
  },
  {
   "cell_type": "code",
   "execution_count": null,
   "metadata": {},
   "outputs": [],
   "source": [
    "def tile_coords2grid_coords(tile_idx, tile_coords, grid_dim, tile_dim)"
   ]
  },
  {
   "attachments": {},
   "cell_type": "markdown",
   "metadata": {},
   "source": [
    "## creating independent checkerboard sets"
   ]
  },
  {
   "cell_type": "code",
   "execution_count": 120,
   "metadata": {},
   "outputs": [],
   "source": [
    "def indep_chkboard_sets(batch, tile_height, tile_width):\n",
    "    _, batch_height, batch_width = batch.shape\n",
    "    tiles_per_row = batch_width//(tile_width-2)\n",
    "    tiles_per_col = batch_height//(tile_height-2)\n",
    "    \n",
    "    print(tiles_per_row)\n",
    "    \n",
    "    assert tiles_per_row % 2 == 0, \"please provide a tile_width that allows for even tiling of the row\"\n",
    "    assert tiles_per_col % 2 == 0, \"please provide a tile_height that allows for even tiling of the columns\"\n",
    "    \n",
    "    meshgrid_coords = []\n",
    "    for row_start_idx in range(2):\n",
    "        for col_start_idx in range(2):\n",
    "            row_idxs = t.tensor(range(row_start_idx, tiles_per_row,2))\n",
    "            col_idxs = t.tensor(range(col_start_idx, tiles_per_col,2))\n",
    "            meshgrid_coords.append(t.meshgrid((row_idxs, col_idxs), indexing=\"ij\"))\n",
    "    return meshgrid_coords\n",
    "     "
   ]
  },
  {
   "cell_type": "code",
   "execution_count": 121,
   "metadata": {},
   "outputs": [
    {
     "name": "stdout",
     "output_type": "stream",
     "text": [
      "4\n"
     ]
    }
   ],
   "source": [
    "checkerboard_sets = indep_chkboard_sets(test1, tile_height=4, tile_width=4)"
   ]
  },
  {
   "attachments": {},
   "cell_type": "markdown",
   "metadata": {},
   "source": [
    "## Update probability function"
   ]
  },
  {
   "cell_type": "code",
   "execution_count": 160,
   "metadata": {},
   "outputs": [],
   "source": [
    "def p_update(tiles, cur_vol, target_vol, temperature, src_coords, tgt_coords):\n",
    "    batch_size, _, _ = tiles.shape \n",
    "    src_x, src_y = src_coords\n",
    "    tgt_x, tgt_y = tgt_coords\n",
    "    vol_changes = (-1 * tiles[range(batch_size), tgt_y, tgt_x]) + tiles[range(batch_size), src_y, src_x]\n",
    "    total_vol_change = t.sum(vol_changes)\n",
    "    #print(f\"vol change: {total_vol_change}\")\n",
    "    adjusted_vol = cur_vol + total_vol_change\n",
    "    p_update = t.tensor(0.)\n",
    "    if adjusted_vol <= 2 and adjusted_vol > 0:\n",
    "        p_update += t.exp(-(target_vol - adjusted_vol)**2/temperature)\n",
    "    return p_update"
   ]
  },
  {
   "attachments": {},
   "cell_type": "markdown",
   "metadata": {},
   "source": [
    "## MCS algorithm "
   ]
  },
  {
   "cell_type": "code",
   "execution_count": 163,
   "metadata": {},
   "outputs": [],
   "source": [
    "def MCS(batch, checkerboard_sets, target_vol, temperature):\n",
    "    _, batch_height, batch_width = batch.shape\n",
    "    vol_kernel = t.tensor([[[\n",
    "        [0., 0., 0.],\n",
    "        [0., 1., 0.],\n",
    "        [0., 0., 0.]\n",
    "    ]]])\n",
    "    \n",
    "    steps = []\n",
    "    for chkboard_set in checkerboard_sets:\n",
    "        padded_batch = t.nn.ReflectionPad2d(1)(batch).float()\n",
    "        cur_vol = t.sum(t.nn.functional.conv2d(padded_batch, vol_kernel))\n",
    "        conv_stack = split_grids(batch, kernel_width=4, kernel_height=4)\n",
    "        n_rows, n_cols = chkboard_set[0].shape\n",
    "        print(n_rows, n_cols)\n",
    "        conv_stack_idxs = [\n",
    "            tile_idx2conv_idx(\n",
    "                chkboard_set[0][i,j],\n",
    "                chkboard_set[1][i,j],\n",
    "                tile_size=(4,4),\n",
    "                batch_size=batch.shape\n",
    "            ) for i in range(n_rows) for j in range(n_cols)\n",
    "        ]\n",
    "        print(conv_stack_idxs)\n",
    "        tiles = t.vstack([conv_stack[0, conv_stack_idxs]]).reshape(len(conv_stack_idxs),4,4)\n",
    "        print(tiles.shape)\n",
    "        src_x = t.randint_like(t.zeros(tiles.shape[0],), low=1, high=3)\n",
    "        src_x = src_x.type(t.long)\n",
    "        src_y = t.randint_like(src_x, low=1, high=3)\n",
    "        # For each random sample in src, we sample a random value from [-1, 0, 1]\n",
    "        # and add it on to the src_idx\n",
    "        step_sizes = t.tensor(random.choices([\n",
    "            (1, 0),\n",
    "            (1, 1),\n",
    "            (0, 1),\n",
    "            (-1, 1),\n",
    "            (-1, 0),\n",
    "            (-1, -1),\n",
    "            (0, -1),\n",
    "            (1, -1)\n",
    "        ], k=tiles.shape[0]))\n",
    "        tgt_x = src_x + step_sizes[:, 1]\n",
    "        tgt_y = src_y + step_sizes[:, 0]\n",
    "        \n",
    "        print(src_x, src_y)\n",
    "        print(tgt_x, tgt_y)\n",
    "        \n",
    "        update_probability = p_update(\n",
    "            tiles,\n",
    "            cur_vol,\n",
    "            target_vol,\n",
    "            temperature,\n",
    "            (src_x, src_y),\n",
    "            (tgt_x, tgt_y)\n",
    "        )\n",
    "        print(update_probability)\n",
    "        \n",
    "        residual = t.rand_like(update_probability)\n",
    "        \n",
    "        if update_probability > residual:\n",
    "            # update the batch here\n",
    "            pass\n",
    "        \n",
    "    "
   ]
  },
  {
   "cell_type": "code",
   "execution_count": 164,
   "metadata": {},
   "outputs": [
    {
     "name": "stdout",
     "output_type": "stream",
     "text": [
      "2 2\n",
      "[0, 4, 28, 32]\n",
      "torch.Size([4, 4, 4])\n",
      "tensor([1, 1, 2, 1]) tensor([1, 2, 1, 1])\n",
      "tensor([1, 2, 2, 0]) tensor([2, 2, 2, 0])\n",
      "tensor(0.)\n",
      "2 2\n",
      "[2, 6, 30, 34]\n",
      "torch.Size([4, 4, 4])\n",
      "tensor([1, 2, 2, 1]) tensor([1, 1, 2, 2])\n",
      "tensor([0, 2, 2, 0]) tensor([0, 0, 3, 3])\n",
      "tensor(0.)\n",
      "2 2\n",
      "[14, 18, 42, 46]\n",
      "torch.Size([4, 4, 4])\n",
      "tensor([2, 2, 1, 1]) tensor([2, 2, 1, 1])\n",
      "tensor([3, 3, 1, 2]) tensor([1, 2, 2, 1])\n",
      "tensor(0.)\n",
      "2 2\n",
      "[16, 20, 44, 48]\n",
      "torch.Size([4, 4, 4])\n",
      "tensor([1, 2, 2, 1]) tensor([2, 2, 1, 1])\n",
      "tensor([0, 1, 2, 2]) tensor([2, 2, 2, 0])\n",
      "tensor(0.)\n"
     ]
    }
   ],
   "source": [
    "MCS(test1, checkerboard_sets, 1, 1)"
   ]
  },
  {
   "cell_type": "code",
   "execution_count": null,
   "metadata": {},
   "outputs": [],
   "source": []
  }
 ],
 "metadata": {
  "kernelspec": {
   "display_name": "base",
   "language": "python",
   "name": "python3"
  },
  "language_info": {
   "codemirror_mode": {
    "name": "ipython",
    "version": 3
   },
   "file_extension": ".py",
   "mimetype": "text/x-python",
   "name": "python",
   "nbconvert_exporter": "python",
   "pygments_lexer": "ipython3",
   "version": "3.10.6"
  },
  "orig_nbformat": 4
 },
 "nbformat": 4,
 "nbformat_minor": 2
}
