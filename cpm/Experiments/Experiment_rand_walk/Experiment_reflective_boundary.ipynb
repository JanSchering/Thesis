{
 "cells": [
  {
   "cell_type": "code",
   "execution_count": 1,
   "metadata": {},
   "outputs": [],
   "source": [
    "import torch as t\n",
    "from mcs import MCS\n",
    "from utils import indep_chkboard_sets\n",
    "import matplotlib.pyplot as plt\n",
    "from tqdm import tqdm\n",
    "from PIL import Image"
   ]
  },
  {
   "cell_type": "code",
   "execution_count": 8,
   "metadata": {},
   "outputs": [
    {
     "name": "stderr",
     "output_type": "stream",
     "text": [
      "100%|██████████| 1000/1000 [00:17<00:00, 56.05it/s]\n"
     ]
    }
   ],
   "source": [
    "t.autograd.set_detect_anomaly(False)\n",
    "test = t.zeros(1,32,32)\n",
    "test[0,16,16] += 1\n",
    "\n",
    "checkerboard_sets = indep_chkboard_sets(test, tile_height=4, tile_width=4)\n",
    "target_vol = 1.\n",
    "temperature = t.tensor(1.)\n",
    "temperature.requires_grad_()\n",
    "\n",
    "states = [test.detach().clone().squeeze().numpy()]\n",
    "for i in tqdm(range(1000)):\n",
    "    test, steps = MCS(test, checkerboard_sets, target_vol, temperature)\n",
    "    states += steps\n",
    "    if t.sum(test) == 0 or t.sum(test) > 2:\n",
    "        print(\"ISSUE DETECTED, STOP SIM\",t.sum(test), test)\n",
    "        break\n",
    "\n",
    "imgs = [Image.fromarray((1-state)*255) for state in states]\n",
    "imgs[0].save(\"t_1_reflective.gif\", save_all=True, append_images=imgs[1:], duration=10, loop=100)"
   ]
  },
  {
   "cell_type": "code",
   "execution_count": null,
   "metadata": {},
   "outputs": [],
   "source": []
  }
 ],
 "metadata": {
  "kernelspec": {
   "display_name": "base",
   "language": "python",
   "name": "python3"
  },
  "language_info": {
   "codemirror_mode": {
    "name": "ipython",
    "version": 3
   },
   "file_extension": ".py",
   "mimetype": "text/x-python",
   "name": "python",
   "nbconvert_exporter": "python",
   "pygments_lexer": "ipython3",
   "version": "3.10.6"
  },
  "orig_nbformat": 4
 },
 "nbformat": 4,
 "nbformat_minor": 2
}
