{
 "cells": [
  {
   "cell_type": "code",
   "execution_count": 1,
   "metadata": {},
   "outputs": [],
   "source": [
    "import sys\n",
    "import torch as t\n",
    "sys.path.append(\"../../\")\n",
    "from periodic_padding import periodic_padding"
   ]
  },
  {
   "cell_type": "code",
   "execution_count": 2,
   "metadata": {},
   "outputs": [],
   "source": [
    "def split_grids(batch:t.Tensor, kernel_width: int, kernel_height: int) -> t.Tensor:\n",
    "    unfold_transform = t.nn.Unfold(kernel_size=(kernel_height,kernel_width))\n",
    "    \n",
    "    padded_batch = periodic_padding(batch).float()\n",
    "    padded_batch = padded_batch.unsqueeze(1)\n",
    "    \n",
    "    return t.transpose(unfold_transform(padded_batch), dim0=1, dim1=2)"
   ]
  },
  {
   "cell_type": "code",
   "execution_count": 20,
   "metadata": {},
   "outputs": [
    {
     "data": {
      "text/plain": [
       "torch.Size([1, 961, 16])"
      ]
     },
     "execution_count": 20,
     "metadata": {},
     "output_type": "execute_result"
    }
   ],
   "source": [
    "test = t.arange(32**2).reshape(1,32,32)\n",
    "\n",
    "split = split_grids(test, 4, 4)\n",
    "split.shape"
   ]
  },
  {
   "cell_type": "code",
   "execution_count": null,
   "metadata": {},
   "outputs": [],
   "source": []
  }
 ],
 "metadata": {
  "kernelspec": {
   "display_name": "base",
   "language": "python",
   "name": "python3"
  },
  "language_info": {
   "codemirror_mode": {
    "name": "ipython",
    "version": 3
   },
   "file_extension": ".py",
   "mimetype": "text/x-python",
   "name": "python",
   "nbconvert_exporter": "python",
   "pygments_lexer": "ipython3",
   "version": "3.9.13"
  },
  "orig_nbformat": 4
 },
 "nbformat": 4,
 "nbformat_minor": 2
}
