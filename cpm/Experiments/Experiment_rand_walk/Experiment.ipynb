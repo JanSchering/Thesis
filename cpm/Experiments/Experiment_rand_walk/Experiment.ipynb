{
 "cells": [
  {
   "attachments": {},
   "cell_type": "markdown",
   "metadata": {},
   "source": [
    "# Experiment: Random walk CPM \n",
    "The goal of this experiment is to apply gradient-based learning to a simplified CPM model simulating a random walk "
   ]
  },
  {
   "attachments": {},
   "cell_type": "markdown",
   "metadata": {},
   "source": [
    "import modules"
   ]
  },
  {
   "cell_type": "code",
   "execution_count": 1,
   "metadata": {},
   "outputs": [],
   "source": [
    "import torch as t\n",
    "import torch.nn.functional as F\n",
    "import numpy as np\n",
    "import matplotlib.pyplot as plt\n",
    "import sys\n",
    "sys.path.append(\"../../\")\n",
    "from periodic_padding import periodic_padding\n",
    "from hamiltonian_diff import model\n",
    "from cell_typing import CellKind, CellMap"
   ]
  },
  {
   "attachments": {},
   "cell_type": "markdown",
   "metadata": {},
   "source": [
    "## 1. Splitting the grid into subdomains for parallel checkerboarding update scheme"
   ]
  },
  {
   "cell_type": "code",
   "execution_count": 2,
   "metadata": {},
   "outputs": [],
   "source": [
    "def split_grids(batch:t.Tensor, kernel_width: int, kernel_height: int) -> t.Tensor:\n",
    "    unfold_transform = t.nn.Unfold(kernel_size=(kernel_height,kernel_width))\n",
    "    \n",
    "    padded_batch = periodic_padding(batch).float()\n",
    "    padded_batch = padded_batch.unsqueeze(1)\n",
    "    \n",
    "    return t.transpose(unfold_transform(padded_batch), dim0=1, dim1=2)"
   ]
  },
  {
   "attachments": {},
   "cell_type": "markdown",
   "metadata": {},
   "source": [
    "The goal is to split the grid into smaller subdomains of a given size. E.g. we may want to create subgrids of size 2x2. To update these subdomains, we also need the Moore Neighborhood around them. \n",
    "\n",
    "To achieve that, we can apply periodic padding and then use an Unfolding convolution layer. Using a kernel size of $k=(4,4)$ (subdomain dims + 2) we get convolutional blocks containing the desired 2x2 subgrids + Moore neighborhood, unrolled into vectors (one vector for each convolutional block)."
   ]
  },
  {
   "cell_type": "code",
   "execution_count": 3,
   "metadata": {},
   "outputs": [
    {
     "name": "stdout",
     "output_type": "stream",
     "text": [
      "tensor([[[ 0,  1,  2,  3],\n",
      "         [ 4,  5,  6,  7],\n",
      "         [ 8,  9, 10, 11],\n",
      "         [12, 13, 14, 15]],\n",
      "\n",
      "        [[16, 17, 18, 19],\n",
      "         [20, 21, 22, 23],\n",
      "         [24, 25, 26, 27],\n",
      "         [28, 29, 30, 31]]])\n",
      "torch.Size([2, 9, 16])\n"
     ]
    }
   ],
   "source": [
    "test = t.arange(2*4*4).reshape(2,4,4)\n",
    "print(test)\n",
    "\n",
    "split = split_grids(test, kernel_width=4, kernel_height=4)\n",
    "print(split.shape)"
   ]
  },
  {
   "attachments": {},
   "cell_type": "markdown",
   "metadata": {},
   "source": [
    "we can also use different kernel sizes for the width and height. E.g. we may want to only consider 1x2 subgrids:"
   ]
  },
  {
   "cell_type": "code",
   "execution_count": 4,
   "metadata": {},
   "outputs": [
    {
     "name": "stdout",
     "output_type": "stream",
     "text": [
      "tensor([[[ 0,  1,  2,  3],\n",
      "         [ 4,  5,  6,  7],\n",
      "         [ 8,  9, 10, 11],\n",
      "         [12, 13, 14, 15]],\n",
      "\n",
      "        [[16, 17, 18, 19],\n",
      "         [20, 21, 22, 23],\n",
      "         [24, 25, 26, 27],\n",
      "         [28, 29, 30, 31]]])\n",
      "torch.Size([2, 12, 12])\n"
     ]
    }
   ],
   "source": [
    "test = t.arange(2*4*4).reshape(2,4,4)\n",
    "print(test)\n",
    "\n",
    "split = split_grids(test, kernel_width=4, kernel_height=3)\n",
    "print(split.shape)"
   ]
  },
  {
   "attachments": {},
   "cell_type": "markdown",
   "metadata": {},
   "source": [
    "To apply checkerboarding, we want to choose a set of subgrids where there is at least 2 columns/rows between them:"
   ]
  },
  {
   "cell_type": "code",
   "execution_count": 5,
   "metadata": {},
   "outputs": [
    {
     "name": "stdout",
     "output_type": "stream",
     "text": [
      "tensor([[[ 0.,  1.,  2.,  3.,  4.,  5.,  6.,  7.],\n",
      "         [ 8.,  9., 10., 11., 12., 13., 14., 15.],\n",
      "         [16., 17., 18., 19., 20., 21., 22., 23.],\n",
      "         [24., 25., 26., 27., 28., 29., 30., 31.],\n",
      "         [32., 33., 34., 35., 36., 37., 38., 39.],\n",
      "         [40., 41., 42., 43., 44., 45., 46., 47.],\n",
      "         [48., 49., 50., 51., 52., 53., 54., 55.],\n",
      "         [56., 57., 58., 59., 60., 61., 62., 63.]]])\n"
     ]
    }
   ],
   "source": [
    "test = t.arange(64.).reshape(1,8,8)\n",
    "print(test)"
   ]
  },
  {
   "attachments": {},
   "cell_type": "markdown",
   "metadata": {},
   "source": [
    "On this 8x8 grid, we want to consider a split into 16 2x2 subdomains:"
   ]
  },
  {
   "cell_type": "code",
   "execution_count": 6,
   "metadata": {},
   "outputs": [
    {
     "name": "stdout",
     "output_type": "stream",
     "text": [
      "split shape: torch.Size([1, 49, 16])\n",
      "tensor([[63., 56., 57., 58.],\n",
      "        [ 7.,  0.,  1.,  2.],\n",
      "        [15.,  8.,  9., 10.],\n",
      "        [23., 16., 17., 18.]])\n"
     ]
    }
   ],
   "source": [
    "split = split_grids(test, kernel_width=4, kernel_height=4)\n",
    "print(f\"split shape: {split.shape}\")\n",
    "# we can visualize the first convolutional block we receive this way\n",
    "print(split[0,0].reshape(4,4))"
   ]
  },
  {
   "attachments": {},
   "cell_type": "markdown",
   "metadata": {},
   "source": [
    "In the cell above, we see that when we reshape the vector into a 2D block, we indeed get the top-left 2x2 subgrid with its Moore neighborhood.\n",
    "\n",
    "The 3rd convolutional block on the other hand corresponds to the next subgrid:"
   ]
  },
  {
   "cell_type": "code",
   "execution_count": 7,
   "metadata": {},
   "outputs": [
    {
     "name": "stdout",
     "output_type": "stream",
     "text": [
      "tensor([[57., 58., 59., 60.],\n",
      "        [ 1.,  2.,  3.,  4.],\n",
      "        [ 9., 10., 11., 12.],\n",
      "        [17., 18., 19., 20.]])\n"
     ]
    }
   ],
   "source": [
    "print(split[0,2].reshape(4,4))"
   ]
  },
  {
   "attachments": {},
   "cell_type": "markdown",
   "metadata": {},
   "source": [
    "We can create 4 mutually exclusive sets of subgrids that have at least a spacing of two columns/rows between each other:"
   ]
  },
  {
   "cell_type": "code",
   "execution_count": 8,
   "metadata": {},
   "outputs": [
    {
     "name": "stdout",
     "output_type": "stream",
     "text": [
      "tensor([[[63., 56., 57., 58.],\n",
      "         [ 7.,  0.,  1.,  2.],\n",
      "         [15.,  8.,  9., 10.],\n",
      "         [23., 16., 17., 18.]],\n",
      "\n",
      "        [[59., 60., 61., 62.],\n",
      "         [ 3.,  4.,  5.,  6.],\n",
      "         [11., 12., 13., 14.],\n",
      "         [19., 20., 21., 22.]],\n",
      "\n",
      "        [[31., 24., 25., 26.],\n",
      "         [39., 32., 33., 34.],\n",
      "         [47., 40., 41., 42.],\n",
      "         [55., 48., 49., 50.]],\n",
      "\n",
      "        [[27., 28., 29., 30.],\n",
      "         [35., 36., 37., 38.],\n",
      "         [43., 44., 45., 46.],\n",
      "         [51., 52., 53., 54.]]])\n"
     ]
    }
   ],
   "source": [
    "subset1 = split[0, [0, 4, 28, 32]]\n",
    "print(subset1.reshape(4,4,4))"
   ]
  },
  {
   "cell_type": "code",
   "execution_count": 9,
   "metadata": {},
   "outputs": [
    {
     "name": "stdout",
     "output_type": "stream",
     "text": [
      "tensor([[[57., 58., 59., 60.],\n",
      "         [ 1.,  2.,  3.,  4.],\n",
      "         [ 9., 10., 11., 12.],\n",
      "         [17., 18., 19., 20.]],\n",
      "\n",
      "        [[61., 62., 63., 56.],\n",
      "         [ 5.,  6.,  7.,  0.],\n",
      "         [13., 14., 15.,  8.],\n",
      "         [21., 22., 23., 16.]],\n",
      "\n",
      "        [[25., 26., 27., 28.],\n",
      "         [33., 34., 35., 36.],\n",
      "         [41., 42., 43., 44.],\n",
      "         [49., 50., 51., 52.]],\n",
      "\n",
      "        [[29., 30., 31., 24.],\n",
      "         [37., 38., 39., 32.],\n",
      "         [45., 46., 47., 40.],\n",
      "         [53., 54., 55., 48.]]])\n"
     ]
    }
   ],
   "source": [
    "subset2 = split[0, [2, 6, 30, 34]]\n",
    "print(subset2.reshape(4,4,4))"
   ]
  },
  {
   "cell_type": "code",
   "execution_count": 10,
   "metadata": {},
   "outputs": [
    {
     "name": "stdout",
     "output_type": "stream",
     "text": [
      "tensor([[[ 9., 10., 11., 12.],\n",
      "         [17., 18., 19., 20.],\n",
      "         [25., 26., 27., 28.],\n",
      "         [33., 34., 35., 36.]],\n",
      "\n",
      "        [[13., 14., 15.,  8.],\n",
      "         [21., 22., 23., 16.],\n",
      "         [29., 30., 31., 24.],\n",
      "         [37., 38., 39., 32.]],\n",
      "\n",
      "        [[41., 42., 43., 44.],\n",
      "         [49., 50., 51., 52.],\n",
      "         [57., 58., 59., 60.],\n",
      "         [ 1.,  2.,  3.,  4.]],\n",
      "\n",
      "        [[45., 46., 47., 40.],\n",
      "         [53., 54., 55., 48.],\n",
      "         [61., 62., 63., 56.],\n",
      "         [ 5.,  6.,  7.,  0.]]])\n"
     ]
    }
   ],
   "source": [
    "subset3 = split[0, [16, 20, 44, 48]]\n",
    "print(subset3.reshape(4,4,4))"
   ]
  },
  {
   "cell_type": "code",
   "execution_count": 17,
   "metadata": {},
   "outputs": [
    {
     "name": "stdout",
     "output_type": "stream",
     "text": [
      "tensor([[[15.,  8.,  9., 10.],\n",
      "         [23., 16., 17., 18.],\n",
      "         [31., 24., 25., 26.],\n",
      "         [39., 32., 33., 34.]],\n",
      "\n",
      "        [[11., 12., 13., 14.],\n",
      "         [19., 20., 21., 22.],\n",
      "         [27., 28., 29., 30.],\n",
      "         [35., 36., 37., 38.]],\n",
      "\n",
      "        [[47., 40., 41., 42.],\n",
      "         [55., 48., 49., 50.],\n",
      "         [63., 56., 57., 58.],\n",
      "         [ 7.,  0.,  1.,  2.]],\n",
      "\n",
      "        [[43., 44., 45., 46.],\n",
      "         [51., 52., 53., 54.],\n",
      "         [59., 60., 61., 62.],\n",
      "         [ 3.,  4.,  5.,  6.]]])\n"
     ]
    }
   ],
   "source": [
    "subset4 = split[0, [14, 18, 42, 46]]\n",
    "print(subset4.reshape(4,4,4))"
   ]
  },
  {
   "cell_type": "code",
   "execution_count": 23,
   "metadata": {},
   "outputs": [
    {
     "data": {
      "text/plain": [
       "torch.Size([4, 4, 4, 4])"
      ]
     },
     "execution_count": 23,
     "metadata": {},
     "output_type": "execute_result"
    }
   ],
   "source": [
    "grid_subsets = t.cat((\n",
    "    subset1.reshape(4,4,4).unsqueeze(0),\n",
    "    subset2.reshape(4,4,4).unsqueeze(0),\n",
    "    subset3.reshape(4,4,4).unsqueeze(0),\n",
    "    subset4.reshape(4,4,4).unsqueeze(0)\n",
    "))\n",
    "grid_subsets.shape"
   ]
  },
  {
   "attachments": {},
   "cell_type": "markdown",
   "metadata": {},
   "source": [
    "## Simple update probability function"
   ]
  },
  {
   "cell_type": "code",
   "execution_count": 24,
   "metadata": {},
   "outputs": [],
   "source": [
    "def p_update(subdomains, cur_vol, target_vol, temperature, src_coords, tgt_coords): \n",
    "    src_x, src_y = src_coords\n",
    "    tgt_x, tgt_y = tgt_coords\n",
    "    vol_change = (-1 * subdomains[:, tgt_x, tgt_y]) + subdomains[:, src_x, src_y]\n",
    "    adjusted_vol = cur_vol + vol_change\n",
    "    if adjusted_vol > 2:\n",
    "        return 0\n",
    "    elif adjusted_vol <= 0:\n",
    "        return 0\n",
    "    return t.exp((target_vol - cur_vol)**2/temperature)"
   ]
  },
  {
   "attachments": {},
   "cell_type": "markdown",
   "metadata": {},
   "source": [
    "## Monte Carlo step scheme"
   ]
  },
  {
   "cell_type": "code",
   "execution_count": 69,
   "metadata": {},
   "outputs": [],
   "source": [
    "import random\n",
    "def MCS(batch, checkerboard_batch: t.Tensor, target_vol, temperature):\n",
    "    _, tiles_per_batch, subgrid_width, subgrid_height = checkerboard_batch.shape\n",
    "    print(f\"tiles per batch: {tiles_per_batch}\")\n",
    "    vol_kernel = t.tensor([[[\n",
    "        [0., 0., 0.],\n",
    "        [0., 1., 0.],\n",
    "        [0., 0., 0.]\n",
    "    ]]])\n",
    "    padded_batch = periodic_padding(batch).unsqueeze(1)\n",
    "    cur_vol = t.sum(t.nn.functional.conv2d(padded_batch, vol_kernel))\n",
    "    print(f\"current volume: {cur_vol}\")\n",
    "    # iterate over the sets of spaced out sub-grids\n",
    "    for subdomains in checkerboard_batch:\n",
    "        src_x = t.randint_like(t.zeros(tiles_per_batch,), low=1, high=int(subgrid_width-2+1))\n",
    "        src_x = src_x.type(t.long)\n",
    "        src_y = t.randint_like(src_x, low=1, high=int(subgrid_height-2+1))\n",
    "        # For each random sample in src, we sample a random value from [-1, 0, 1]\n",
    "        # and add it on to the src_idx\n",
    "        print(t.tensor(random.choices([-1, 1], k=tiles_per_batch)))\n",
    "        tgt_x = src_x + t.tensor(random.choices([-1, 1], k=tiles_per_batch))\n",
    "        tgt_y = src_y + t.tensor(random.choices([-1, 1], k=tiles_per_batch))\n",
    "        print(f\"src_x: {src_x}\")\n",
    "        print(f\"tgt_x: {tgt_x}\")\n",
    "        print(f\"src_y: {src_y}\")\n",
    "        print(f\"tgt_y: {tgt_y}\")\n",
    "        \n",
    "        update_probabilities = p_update(\n",
    "            subdomains,\n",
    "            cur_vol,\n",
    "            target_vol,\n",
    "            temperature,\n",
    "            (src_x, src_y),\n",
    "            (tgt_x, tgt_y)\n",
    "        )"
   ]
  },
  {
   "cell_type": "code",
   "execution_count": 70,
   "metadata": {},
   "outputs": [
    {
     "name": "stdout",
     "output_type": "stream",
     "text": [
      "tiles per batch: 4\n",
      "current volume: 0.0\n",
      "tensor([-1,  1, -1,  1])\n",
      "src_x: tensor([2, 1, 2, 2])\n",
      "tgt_x: tensor([1, 2, 1, 3])\n",
      "src_y: tensor([1, 1, 1, 1])\n",
      "tgt_y: tensor([0, 2, 0, 0])\n"
     ]
    },
    {
     "ename": "RuntimeError",
     "evalue": "Boolean value of Tensor with more than one value is ambiguous",
     "output_type": "error",
     "traceback": [
      "\u001b[1;31m---------------------------------------------------------------------------\u001b[0m",
      "\u001b[1;31mRuntimeError\u001b[0m                              Traceback (most recent call last)",
      "\u001b[1;32mc:\\Users\\jsche\\University\\Thesis\\cpm\\Experiments\\Experiment_rand_walk\\Experiment.ipynb Cell 26\u001b[0m in \u001b[0;36m1\n\u001b[0;32m     <a href='vscode-notebook-cell:/c%3A/Users/jsche/University/Thesis/cpm/Experiments/Experiment_rand_walk/Experiment.ipynb#X34sZmlsZQ%3D%3D?line=12'>13</a>\u001b[0m target_vol \u001b[39m=\u001b[39m \u001b[39m1.\u001b[39m\n\u001b[0;32m     <a href='vscode-notebook-cell:/c%3A/Users/jsche/University/Thesis/cpm/Experiments/Experiment_rand_walk/Experiment.ipynb#X34sZmlsZQ%3D%3D?line=13'>14</a>\u001b[0m temperature \u001b[39m=\u001b[39m \u001b[39m27.0\u001b[39m\n\u001b[1;32m---> <a href='vscode-notebook-cell:/c%3A/Users/jsche/University/Thesis/cpm/Experiments/Experiment_rand_walk/Experiment.ipynb#X34sZmlsZQ%3D%3D?line=15'>16</a>\u001b[0m MCS(test, checkerboard_batch, target_vol, temperature)\n",
      "\u001b[1;32mc:\\Users\\jsche\\University\\Thesis\\cpm\\Experiments\\Experiment_rand_walk\\Experiment.ipynb Cell 26\u001b[0m in \u001b[0;36m2\n\u001b[0;32m     <a href='vscode-notebook-cell:/c%3A/Users/jsche/University/Thesis/cpm/Experiments/Experiment_rand_walk/Experiment.ipynb#X34sZmlsZQ%3D%3D?line=24'>25</a>\u001b[0m \u001b[39mprint\u001b[39m(\u001b[39mf\u001b[39m\u001b[39m\"\u001b[39m\u001b[39msrc_y: \u001b[39m\u001b[39m{\u001b[39;00msrc_y\u001b[39m}\u001b[39;00m\u001b[39m\"\u001b[39m)\n\u001b[0;32m     <a href='vscode-notebook-cell:/c%3A/Users/jsche/University/Thesis/cpm/Experiments/Experiment_rand_walk/Experiment.ipynb#X34sZmlsZQ%3D%3D?line=25'>26</a>\u001b[0m \u001b[39mprint\u001b[39m(\u001b[39mf\u001b[39m\u001b[39m\"\u001b[39m\u001b[39mtgt_y: \u001b[39m\u001b[39m{\u001b[39;00mtgt_y\u001b[39m}\u001b[39;00m\u001b[39m\"\u001b[39m)\n\u001b[1;32m---> <a href='vscode-notebook-cell:/c%3A/Users/jsche/University/Thesis/cpm/Experiments/Experiment_rand_walk/Experiment.ipynb#X34sZmlsZQ%3D%3D?line=27'>28</a>\u001b[0m update_probabilities \u001b[39m=\u001b[39m p_update(\n\u001b[0;32m     <a href='vscode-notebook-cell:/c%3A/Users/jsche/University/Thesis/cpm/Experiments/Experiment_rand_walk/Experiment.ipynb#X34sZmlsZQ%3D%3D?line=28'>29</a>\u001b[0m     subdomains,\n\u001b[0;32m     <a href='vscode-notebook-cell:/c%3A/Users/jsche/University/Thesis/cpm/Experiments/Experiment_rand_walk/Experiment.ipynb#X34sZmlsZQ%3D%3D?line=29'>30</a>\u001b[0m     cur_vol,\n\u001b[0;32m     <a href='vscode-notebook-cell:/c%3A/Users/jsche/University/Thesis/cpm/Experiments/Experiment_rand_walk/Experiment.ipynb#X34sZmlsZQ%3D%3D?line=30'>31</a>\u001b[0m     target_vol,\n\u001b[0;32m     <a href='vscode-notebook-cell:/c%3A/Users/jsche/University/Thesis/cpm/Experiments/Experiment_rand_walk/Experiment.ipynb#X34sZmlsZQ%3D%3D?line=31'>32</a>\u001b[0m     temperature,\n\u001b[0;32m     <a href='vscode-notebook-cell:/c%3A/Users/jsche/University/Thesis/cpm/Experiments/Experiment_rand_walk/Experiment.ipynb#X34sZmlsZQ%3D%3D?line=32'>33</a>\u001b[0m     (src_x, src_y),\n\u001b[0;32m     <a href='vscode-notebook-cell:/c%3A/Users/jsche/University/Thesis/cpm/Experiments/Experiment_rand_walk/Experiment.ipynb#X34sZmlsZQ%3D%3D?line=33'>34</a>\u001b[0m     (tgt_x, tgt_y)\n\u001b[0;32m     <a href='vscode-notebook-cell:/c%3A/Users/jsche/University/Thesis/cpm/Experiments/Experiment_rand_walk/Experiment.ipynb#X34sZmlsZQ%3D%3D?line=34'>35</a>\u001b[0m )\n",
      "\u001b[1;32mc:\\Users\\jsche\\University\\Thesis\\cpm\\Experiments\\Experiment_rand_walk\\Experiment.ipynb Cell 26\u001b[0m in \u001b[0;36m6\n\u001b[0;32m      <a href='vscode-notebook-cell:/c%3A/Users/jsche/University/Thesis/cpm/Experiments/Experiment_rand_walk/Experiment.ipynb#X34sZmlsZQ%3D%3D?line=3'>4</a>\u001b[0m vol_change \u001b[39m=\u001b[39m (\u001b[39m-\u001b[39m\u001b[39m1\u001b[39m \u001b[39m*\u001b[39m subdomains[:, tgt_x, tgt_y]) \u001b[39m+\u001b[39m subdomains[:, src_x, src_y]\n\u001b[0;32m      <a href='vscode-notebook-cell:/c%3A/Users/jsche/University/Thesis/cpm/Experiments/Experiment_rand_walk/Experiment.ipynb#X34sZmlsZQ%3D%3D?line=4'>5</a>\u001b[0m adjusted_vol \u001b[39m=\u001b[39m cur_vol \u001b[39m+\u001b[39m vol_change\n\u001b[1;32m----> <a href='vscode-notebook-cell:/c%3A/Users/jsche/University/Thesis/cpm/Experiments/Experiment_rand_walk/Experiment.ipynb#X34sZmlsZQ%3D%3D?line=5'>6</a>\u001b[0m \u001b[39mif\u001b[39;00m adjusted_vol \u001b[39m>\u001b[39;49m \u001b[39m2\u001b[39;49m:\n\u001b[0;32m      <a href='vscode-notebook-cell:/c%3A/Users/jsche/University/Thesis/cpm/Experiments/Experiment_rand_walk/Experiment.ipynb#X34sZmlsZQ%3D%3D?line=6'>7</a>\u001b[0m     \u001b[39mreturn\u001b[39;00m \u001b[39m0\u001b[39m\n\u001b[0;32m      <a href='vscode-notebook-cell:/c%3A/Users/jsche/University/Thesis/cpm/Experiments/Experiment_rand_walk/Experiment.ipynb#X34sZmlsZQ%3D%3D?line=7'>8</a>\u001b[0m \u001b[39melif\u001b[39;00m adjusted_vol \u001b[39m<\u001b[39m\u001b[39m=\u001b[39m \u001b[39m0\u001b[39m:\n",
      "\u001b[1;31mRuntimeError\u001b[0m: Boolean value of Tensor with more than one value is ambiguous"
     ]
    }
   ],
   "source": [
    "test = t.zeros(1,8,8)\n",
    "subdomains = split_grids(test, kernel_width=4, kernel_height=4)\n",
    "tile_set1 = subdomains[0, [0, 4, 28, 32]]\n",
    "tile_set2 = subdomains[0, [2, 6, 30, 34]]\n",
    "tile_set3 = subdomains[0, [16, 20, 44, 48]]\n",
    "tile_set4 = subdomains[0, [14, 18, 42, 46]]\n",
    "checkerboard_batch = t.cat((\n",
    "    tile_set1.reshape(4,4,4).unsqueeze(0),\n",
    "    tile_set2.reshape(4,4,4).unsqueeze(0),\n",
    "    tile_set3.reshape(4,4,4).unsqueeze(0),\n",
    "    tile_set4.reshape(4,4,4).unsqueeze(0)\n",
    "))\n",
    "target_vol = 1.\n",
    "temperature = 27.0\n",
    "\n",
    "MCS(test, checkerboard_batch, target_vol, temperature)"
   ]
  },
  {
   "cell_type": "code",
   "execution_count": null,
   "metadata": {},
   "outputs": [],
   "source": []
  }
 ],
 "metadata": {
  "kernelspec": {
   "display_name": "base",
   "language": "python",
   "name": "python3"
  },
  "language_info": {
   "codemirror_mode": {
    "name": "ipython",
    "version": 3
   },
   "file_extension": ".py",
   "mimetype": "text/x-python",
   "name": "python",
   "nbconvert_exporter": "python",
   "pygments_lexer": "ipython3",
   "version": "3.10.6"
  },
  "orig_nbformat": 4
 },
 "nbformat": 4,
 "nbformat_minor": 2
}
