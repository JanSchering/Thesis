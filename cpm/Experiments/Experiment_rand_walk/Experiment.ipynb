{
 "cells": [
  {
   "attachments": {},
   "cell_type": "markdown",
   "metadata": {},
   "source": [
    "# Experiment: Random walk CPM \n",
    "The goal of this experiment is to apply gradient-based learning to a simplified CPM model simulating a random walk "
   ]
  },
  {
   "attachments": {},
   "cell_type": "markdown",
   "metadata": {},
   "source": [
    "import modules"
   ]
  },
  {
   "cell_type": "code",
   "execution_count": 1,
   "metadata": {},
   "outputs": [],
   "source": [
    "import torch as t\n",
    "import torch.nn.functional as F\n",
    "import numpy as np\n",
    "import matplotlib.pyplot as plt\n",
    "import sys\n",
    "sys.path.append(\"../../\")\n",
    "from periodic_padding import periodic_padding\n",
    "from hamiltonian_diff import model\n",
    "from cell_typing import CellKind, CellMap"
   ]
  },
  {
   "attachments": {},
   "cell_type": "markdown",
   "metadata": {},
   "source": [
    "## 1. Splitting the grid into subdomains for parallel checkerboarding update scheme"
   ]
  },
  {
   "cell_type": "code",
   "execution_count": 28,
   "metadata": {},
   "outputs": [],
   "source": [
    "def split_grids(batch:t.Tensor, kernel_width: int, kernel_height: int) -> t.Tensor:\n",
    "    unfold_transform = t.nn.Unfold(kernel_size=(kernel_height,kernel_width))\n",
    "    \n",
    "    padded_batch = periodic_padding(batch).float()\n",
    "    padded_batch = padded_batch.unsqueeze(1)\n",
    "    \n",
    "    return t.transpose(unfold_transform(padded_batch), dim0=1, dim1=2)"
   ]
  },
  {
   "attachments": {},
   "cell_type": "markdown",
   "metadata": {},
   "source": [
    "The goal is to split the grid into smaller subdomains of a given size. E.g. we may want to create subgrids of size 2x2. To update these subdomains, we also need the Moore Neighborhood around them. \n",
    "\n",
    "To achieve that, we can apply periodic padding and then use an Unfolding convolution layer. Using a kernel size of $k=(4,4)$ (subdomain dims + 2) we get convolutional blocks containing the desired 2x2 subgrids + Moore neighborhood, unrolled into vectors (one vector for each convolutional block)."
   ]
  },
  {
   "cell_type": "code",
   "execution_count": 40,
   "metadata": {},
   "outputs": [
    {
     "name": "stdout",
     "output_type": "stream",
     "text": [
      "tensor([[[ 0,  1,  2,  3],\n",
      "         [ 4,  5,  6,  7],\n",
      "         [ 8,  9, 10, 11],\n",
      "         [12, 13, 14, 15]],\n",
      "\n",
      "        [[16, 17, 18, 19],\n",
      "         [20, 21, 22, 23],\n",
      "         [24, 25, 26, 27],\n",
      "         [28, 29, 30, 31]]])\n",
      "torch.Size([2, 9, 16])\n"
     ]
    }
   ],
   "source": [
    "test = t.arange(2*4*4).reshape(2,4,4)\n",
    "print(test)\n",
    "\n",
    "split = split_grids(test, kernel_width=4, kernel_height=4)\n",
    "print(split.shape)"
   ]
  },
  {
   "attachments": {},
   "cell_type": "markdown",
   "metadata": {},
   "source": [
    "we can also use different kernel sizes for the width and height. E.g. we may want to only consider 1x2 subgrids:"
   ]
  },
  {
   "cell_type": "code",
   "execution_count": 42,
   "metadata": {},
   "outputs": [
    {
     "name": "stdout",
     "output_type": "stream",
     "text": [
      "tensor([[[ 0,  1,  2,  3],\n",
      "         [ 4,  5,  6,  7],\n",
      "         [ 8,  9, 10, 11],\n",
      "         [12, 13, 14, 15]],\n",
      "\n",
      "        [[16, 17, 18, 19],\n",
      "         [20, 21, 22, 23],\n",
      "         [24, 25, 26, 27],\n",
      "         [28, 29, 30, 31]]])\n",
      "torch.Size([2, 12, 12])\n"
     ]
    }
   ],
   "source": [
    "test = t.arange(2*4*4).reshape(2,4,4)\n",
    "print(test)\n",
    "\n",
    "split = split_grids(test, kernel_width=4, kernel_height=3)\n",
    "print(split.shape)"
   ]
  },
  {
   "attachments": {},
   "cell_type": "markdown",
   "metadata": {},
   "source": [
    "To apply checkerboarding, we want to choose a set of subgrids where there is at least 2 columns/rows between them:"
   ]
  },
  {
   "cell_type": "code",
   "execution_count": 43,
   "metadata": {},
   "outputs": [
    {
     "name": "stdout",
     "output_type": "stream",
     "text": [
      "tensor([[[ 0.,  1.,  2.,  3.,  4.,  5.,  6.,  7.],\n",
      "         [ 8.,  9., 10., 11., 12., 13., 14., 15.],\n",
      "         [16., 17., 18., 19., 20., 21., 22., 23.],\n",
      "         [24., 25., 26., 27., 28., 29., 30., 31.],\n",
      "         [32., 33., 34., 35., 36., 37., 38., 39.],\n",
      "         [40., 41., 42., 43., 44., 45., 46., 47.],\n",
      "         [48., 49., 50., 51., 52., 53., 54., 55.],\n",
      "         [56., 57., 58., 59., 60., 61., 62., 63.]]])\n"
     ]
    }
   ],
   "source": [
    "test = t.arange(64.).reshape(1,8,8)\n",
    "print(test)"
   ]
  },
  {
   "attachments": {},
   "cell_type": "markdown",
   "metadata": {},
   "source": [
    "On this 8x8 grid, we want to consider a split into 16 2x2 subdomains:"
   ]
  },
  {
   "cell_type": "code",
   "execution_count": 55,
   "metadata": {},
   "outputs": [
    {
     "name": "stdout",
     "output_type": "stream",
     "text": [
      "split shape: torch.Size([1, 49, 16])\n",
      "tensor([[63., 56., 57., 58.],\n",
      "        [ 7.,  0.,  1.,  2.],\n",
      "        [15.,  8.,  9., 10.],\n",
      "        [23., 16., 17., 18.]])\n"
     ]
    }
   ],
   "source": [
    "split = split_grids(test, kernel_width=4, kernel_height=4)\n",
    "print(f\"split shape: {split.shape}\")\n",
    "# we can visualize the first convolutional block we receive this way\n",
    "print(split[0,0].reshape(4,4))"
   ]
  },
  {
   "attachments": {},
   "cell_type": "markdown",
   "metadata": {},
   "source": [
    "In the cell above, we see that when we reshape the vector into a 2D block, we indeed get the top-left 2x2 subgrid with its Moore neighborhood.\n",
    "\n",
    "The 3rd convolutional block on the other hand corresponds to the next subgrid:"
   ]
  },
  {
   "cell_type": "code",
   "execution_count": 47,
   "metadata": {},
   "outputs": [
    {
     "name": "stdout",
     "output_type": "stream",
     "text": [
      "tensor([[57., 58., 59., 60.],\n",
      "        [ 1.,  2.,  3.,  4.],\n",
      "        [ 9., 10., 11., 12.],\n",
      "        [17., 18., 19., 20.]])\n"
     ]
    }
   ],
   "source": [
    "print(split[0,2].reshape(4,4))"
   ]
  },
  {
   "attachments": {},
   "cell_type": "markdown",
   "metadata": {},
   "source": [
    "We can create 4 mutually exclusive sets of subgrids that have at least a spacing of two columns/rows between each other:"
   ]
  },
  {
   "cell_type": "code",
   "execution_count": 60,
   "metadata": {},
   "outputs": [
    {
     "name": "stdout",
     "output_type": "stream",
     "text": [
      "tensor([[[63., 56., 57., 58.],\n",
      "         [ 7.,  0.,  1.,  2.],\n",
      "         [15.,  8.,  9., 10.],\n",
      "         [23., 16., 17., 18.]],\n",
      "\n",
      "        [[59., 60., 61., 62.],\n",
      "         [ 3.,  4.,  5.,  6.],\n",
      "         [11., 12., 13., 14.],\n",
      "         [19., 20., 21., 22.]],\n",
      "\n",
      "        [[31., 24., 25., 26.],\n",
      "         [39., 32., 33., 34.],\n",
      "         [47., 40., 41., 42.],\n",
      "         [55., 48., 49., 50.]],\n",
      "\n",
      "        [[27., 28., 29., 30.],\n",
      "         [35., 36., 37., 38.],\n",
      "         [43., 44., 45., 46.],\n",
      "         [51., 52., 53., 54.]]])\n"
     ]
    }
   ],
   "source": [
    "subset1 = split[0, [0, 4, 28, 32]]\n",
    "print(subset1.reshape(4,4,4))"
   ]
  },
  {
   "cell_type": "code",
   "execution_count": 65,
   "metadata": {},
   "outputs": [
    {
     "name": "stdout",
     "output_type": "stream",
     "text": [
      "tensor([[[57., 58., 59., 60.],\n",
      "         [ 1.,  2.,  3.,  4.],\n",
      "         [ 9., 10., 11., 12.],\n",
      "         [17., 18., 19., 20.]],\n",
      "\n",
      "        [[61., 62., 63., 56.],\n",
      "         [ 5.,  6.,  7.,  0.],\n",
      "         [13., 14., 15.,  8.],\n",
      "         [21., 22., 23., 16.]],\n",
      "\n",
      "        [[25., 26., 27., 28.],\n",
      "         [33., 34., 35., 36.],\n",
      "         [41., 42., 43., 44.],\n",
      "         [49., 50., 51., 52.]],\n",
      "\n",
      "        [[29., 30., 31., 24.],\n",
      "         [37., 38., 39., 32.],\n",
      "         [45., 46., 47., 40.],\n",
      "         [53., 54., 55., 48.]]])\n"
     ]
    }
   ],
   "source": [
    "subset2 = split[0, [2, 6, 30, 34]]\n",
    "print(subset2.reshape(4,4,4))"
   ]
  },
  {
   "cell_type": "code",
   "execution_count": 71,
   "metadata": {},
   "outputs": [
    {
     "name": "stdout",
     "output_type": "stream",
     "text": [
      "tensor([[[ 9., 10., 11., 12.],\n",
      "         [17., 18., 19., 20.],\n",
      "         [25., 26., 27., 28.],\n",
      "         [33., 34., 35., 36.]],\n",
      "\n",
      "        [[13., 14., 15.,  8.],\n",
      "         [21., 22., 23., 16.],\n",
      "         [29., 30., 31., 24.],\n",
      "         [37., 38., 39., 32.]],\n",
      "\n",
      "        [[41., 42., 43., 44.],\n",
      "         [49., 50., 51., 52.],\n",
      "         [57., 58., 59., 60.],\n",
      "         [ 1.,  2.,  3.,  4.]],\n",
      "\n",
      "        [[45., 46., 47., 40.],\n",
      "         [53., 54., 55., 48.],\n",
      "         [61., 62., 63., 56.],\n",
      "         [ 5.,  6.,  7.,  0.]]])\n"
     ]
    }
   ],
   "source": [
    "subset3 = split[0, [16, 20, 44, 48]]\n",
    "print(subset3.reshape(4,4,4))"
   ]
  },
  {
   "cell_type": "code",
   "execution_count": null,
   "metadata": {},
   "outputs": [],
   "source": []
  }
 ],
 "metadata": {
  "kernelspec": {
   "display_name": "base",
   "language": "python",
   "name": "python3"
  },
  "language_info": {
   "codemirror_mode": {
    "name": "ipython",
    "version": 3
   },
   "file_extension": ".py",
   "mimetype": "text/x-python",
   "name": "python",
   "nbconvert_exporter": "python",
   "pygments_lexer": "ipython3",
   "version": "3.9.13"
  },
  "orig_nbformat": 4
 },
 "nbformat": 4,
 "nbformat_minor": 2
}
