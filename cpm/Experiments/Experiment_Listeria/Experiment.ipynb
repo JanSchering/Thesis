{
 "cells": [
  {
   "cell_type": "code",
   "execution_count": 116,
   "metadata": {},
   "outputs": [],
   "source": [
    "import pandas as pd\n",
    "import torch as t\n",
    "import numpy as np\n",
    "import os \n",
    "import matplotlib.pyplot as plt\n",
    "from scipy import ndimage\n",
    "import random\n",
    "from tqdm import tqdm\n",
    "from PIL import Image"
   ]
  },
  {
   "attachments": {},
   "cell_type": "markdown",
   "metadata": {},
   "source": [
    "# LM-37 bacteria"
   ]
  },
  {
   "cell_type": "code",
   "execution_count": 3,
   "metadata": {},
   "outputs": [],
   "source": [
    "df_37 = pd.read_csv(\n",
    "    \"bacteria-37.csv\",\n",
    "    header=1,\n",
    "    usecols= [\n",
    "        \"Position X\",\n",
    "        \"Position Y\",\n",
    "        \"Position Z\",\n",
    "        \"Time\",\n",
    "        \"TrackID\",\n",
    "        \"ID\"\n",
    "    ]\n",
    ")"
   ]
  },
  {
   "cell_type": "code",
   "execution_count": 4,
   "metadata": {},
   "outputs": [
    {
     "data": {
      "text/html": [
       "<div>\n",
       "<style scoped>\n",
       "    .dataframe tbody tr th:only-of-type {\n",
       "        vertical-align: middle;\n",
       "    }\n",
       "\n",
       "    .dataframe tbody tr th {\n",
       "        vertical-align: top;\n",
       "    }\n",
       "\n",
       "    .dataframe thead th {\n",
       "        text-align: right;\n",
       "    }\n",
       "</style>\n",
       "<table border=\"1\" class=\"dataframe\">\n",
       "  <thead>\n",
       "    <tr style=\"text-align: right;\">\n",
       "      <th></th>\n",
       "      <th>trackID</th>\n",
       "      <th>t</th>\n",
       "      <th>deviation_x</th>\n",
       "      <th>deviation_y</th>\n",
       "    </tr>\n",
       "  </thead>\n",
       "  <tbody>\n",
       "    <tr>\n",
       "      <th>0</th>\n",
       "      <td>1000000008</td>\n",
       "      <td>2.0</td>\n",
       "      <td>0.004</td>\n",
       "      <td>0.0</td>\n",
       "    </tr>\n",
       "    <tr>\n",
       "      <th>1</th>\n",
       "      <td>1000000008</td>\n",
       "      <td>3.0</td>\n",
       "      <td>0.014</td>\n",
       "      <td>0.0</td>\n",
       "    </tr>\n",
       "    <tr>\n",
       "      <th>2</th>\n",
       "      <td>1000000008</td>\n",
       "      <td>4.0</td>\n",
       "      <td>0.024</td>\n",
       "      <td>0.0</td>\n",
       "    </tr>\n",
       "    <tr>\n",
       "      <th>3</th>\n",
       "      <td>1000000008</td>\n",
       "      <td>5.0</td>\n",
       "      <td>0.001</td>\n",
       "      <td>0.0</td>\n",
       "    </tr>\n",
       "    <tr>\n",
       "      <th>4</th>\n",
       "      <td>1000000008</td>\n",
       "      <td>6.0</td>\n",
       "      <td>0.005</td>\n",
       "      <td>0.0</td>\n",
       "    </tr>\n",
       "  </tbody>\n",
       "</table>\n",
       "</div>"
      ],
      "text/plain": [
       "      trackID    t  deviation_x  deviation_y\n",
       "0  1000000008  2.0        0.004          0.0\n",
       "1  1000000008  3.0        0.014          0.0\n",
       "2  1000000008  4.0        0.024          0.0\n",
       "3  1000000008  5.0        0.001          0.0\n",
       "4  1000000008  6.0        0.005          0.0"
      ]
     },
     "metadata": {},
     "output_type": "display_data"
    }
   ],
   "source": [
    "deviations_37 = []\n",
    "for trackID in pd.unique(df_37[\"TrackID\"]):\n",
    "    track_data = df_37[df_37[\"TrackID\"] == trackID].sort_values(by=\"Time\")\n",
    "    deviations_track = []\n",
    "    og_x = track_data[\"Position X\"].iloc[0]\n",
    "    og_y = track_data[\"Position Y\"].iloc[0]\n",
    "    for index, timepoint in track_data[1:].iterrows():\n",
    "        deviation_x = np.abs(og_x - timepoint[\"Position X\"])\n",
    "        deviation_y = np.abs(og_y - timepoint[\"Position Y\"])\n",
    "        deviations_track.append({\n",
    "            \"trackID\": trackID,\n",
    "            \"t\": timepoint[\"Time\"],\n",
    "            \"deviation_x\": deviation_x,\n",
    "            \"deviation_y\": deviation_y\n",
    "        })\n",
    "    deviations_37.append(pd.DataFrame(deviations_track))\n",
    "df_deviations_37 =  pd.concat(deviations_37)\n",
    "display(df_deviations_37.head())   "
   ]
  },
  {
   "cell_type": "code",
   "execution_count": 5,
   "metadata": {},
   "outputs": [],
   "source": [
    "MSDs_37 = []\n",
    "for timestamp in pd.unique(df_deviations_37[\"t\"]):\n",
    "    data_slice = df_deviations_37[df_deviations_37[\"t\"] == timestamp]\n",
    "    mean_sq_x_dev = np.mean(data_slice[\"deviation_x\"].to_numpy()**2)\n",
    "    mean_sq_y_dev = np.mean(data_slice[\"deviation_y\"].to_numpy()**2)\n",
    "    MSDs_37.append(mean_sq_x_dev + mean_sq_y_dev)"
   ]
  },
  {
   "attachments": {},
   "cell_type": "markdown",
   "metadata": {},
   "source": [
    "# LM-RT bacteria"
   ]
  },
  {
   "cell_type": "code",
   "execution_count": 6,
   "metadata": {},
   "outputs": [],
   "source": [
    "df_rt = pd.read_csv(\n",
    "    \"bacteria-RT.csv\",\n",
    "    header=1,\n",
    "    usecols= [\n",
    "        \"Position X\",\n",
    "        \"Position Y\",\n",
    "        \"Position Z\",\n",
    "        \"Time\",\n",
    "        \"TrackID\",\n",
    "        \"ID\"\n",
    "    ]\n",
    ")"
   ]
  },
  {
   "cell_type": "code",
   "execution_count": 7,
   "metadata": {},
   "outputs": [
    {
     "data": {
      "text/html": [
       "<div>\n",
       "<style scoped>\n",
       "    .dataframe tbody tr th:only-of-type {\n",
       "        vertical-align: middle;\n",
       "    }\n",
       "\n",
       "    .dataframe tbody tr th {\n",
       "        vertical-align: top;\n",
       "    }\n",
       "\n",
       "    .dataframe thead th {\n",
       "        text-align: right;\n",
       "    }\n",
       "</style>\n",
       "<table border=\"1\" class=\"dataframe\">\n",
       "  <thead>\n",
       "    <tr style=\"text-align: right;\">\n",
       "      <th></th>\n",
       "      <th>trackID</th>\n",
       "      <th>t</th>\n",
       "      <th>deviation_x</th>\n",
       "      <th>deviation_y</th>\n",
       "    </tr>\n",
       "  </thead>\n",
       "  <tbody>\n",
       "    <tr>\n",
       "      <th>0</th>\n",
       "      <td>1000000007</td>\n",
       "      <td>2.0</td>\n",
       "      <td>0.073</td>\n",
       "      <td>0.0</td>\n",
       "    </tr>\n",
       "    <tr>\n",
       "      <th>1</th>\n",
       "      <td>1000000007</td>\n",
       "      <td>3.0</td>\n",
       "      <td>0.470</td>\n",
       "      <td>0.0</td>\n",
       "    </tr>\n",
       "    <tr>\n",
       "      <th>2</th>\n",
       "      <td>1000000007</td>\n",
       "      <td>4.0</td>\n",
       "      <td>0.397</td>\n",
       "      <td>0.0</td>\n",
       "    </tr>\n",
       "    <tr>\n",
       "      <th>3</th>\n",
       "      <td>1000000007</td>\n",
       "      <td>5.0</td>\n",
       "      <td>0.384</td>\n",
       "      <td>0.0</td>\n",
       "    </tr>\n",
       "    <tr>\n",
       "      <th>4</th>\n",
       "      <td>1000000007</td>\n",
       "      <td>6.0</td>\n",
       "      <td>0.357</td>\n",
       "      <td>0.0</td>\n",
       "    </tr>\n",
       "  </tbody>\n",
       "</table>\n",
       "</div>"
      ],
      "text/plain": [
       "      trackID    t  deviation_x  deviation_y\n",
       "0  1000000007  2.0        0.073          0.0\n",
       "1  1000000007  3.0        0.470          0.0\n",
       "2  1000000007  4.0        0.397          0.0\n",
       "3  1000000007  5.0        0.384          0.0\n",
       "4  1000000007  6.0        0.357          0.0"
      ]
     },
     "metadata": {},
     "output_type": "display_data"
    }
   ],
   "source": [
    "deviations_rt = []\n",
    "for trackID in pd.unique(df_rt[\"TrackID\"]):\n",
    "    track_data = df_rt[df_rt[\"TrackID\"] == trackID].sort_values(by=\"Time\")\n",
    "    deviations_track = []\n",
    "    og_x = track_data[\"Position X\"].iloc[0]\n",
    "    og_y = track_data[\"Position Y\"].iloc[0]\n",
    "    for index, timepoint in track_data[1:].iterrows():\n",
    "        deviation_x = np.abs(og_x - timepoint[\"Position X\"])\n",
    "        deviation_y = np.abs(og_y - timepoint[\"Position Y\"])\n",
    "        deviations_track.append({\n",
    "            \"trackID\": trackID,\n",
    "            \"t\": timepoint[\"Time\"],\n",
    "            \"deviation_x\": deviation_x,\n",
    "            \"deviation_y\": deviation_y\n",
    "        })\n",
    "    deviations_rt.append(pd.DataFrame(deviations_track))\n",
    "df_deviations_rt =  pd.concat(deviations_rt)\n",
    "display(df_deviations_rt.head())   "
   ]
  },
  {
   "cell_type": "code",
   "execution_count": 8,
   "metadata": {},
   "outputs": [],
   "source": [
    "MSDs_rt = []\n",
    "for timestamp in pd.unique(df_deviations_rt[\"t\"]):\n",
    "    data_slice = df_deviations_rt[df_deviations_rt[\"t\"] == timestamp]\n",
    "    mean_sq_x_dev = np.mean(data_slice[\"deviation_x\"].to_numpy()**2)\n",
    "    mean_sq_y_dev = np.mean(data_slice[\"deviation_y\"].to_numpy()**2)\n",
    "    MSDs_rt.append(mean_sq_x_dev + mean_sq_y_dev)"
   ]
  },
  {
   "attachments": {},
   "cell_type": "markdown",
   "metadata": {},
   "source": [
    "# Load in the filtered data\n",
    "\n",
    "available at https://drive.google.com/drive/folders/1DPhudldr3XQQDubrWk9clN5dPTjCN3Bq?usp=sharing"
   ]
  },
  {
   "cell_type": "code",
   "execution_count": 9,
   "metadata": {},
   "outputs": [
    {
     "data": {
      "text/html": [
       "<div>\n",
       "<style scoped>\n",
       "    .dataframe tbody tr th:only-of-type {\n",
       "        vertical-align: middle;\n",
       "    }\n",
       "\n",
       "    .dataframe tbody tr th {\n",
       "        vertical-align: top;\n",
       "    }\n",
       "\n",
       "    .dataframe thead th {\n",
       "        text-align: right;\n",
       "    }\n",
       "</style>\n",
       "<table border=\"1\" class=\"dataframe\">\n",
       "  <thead>\n",
       "    <tr style=\"text-align: right;\">\n",
       "      <th></th>\n",
       "      <th>t</th>\n",
       "      <th>x</th>\n",
       "      <th>y</th>\n",
       "      <th>trackID</th>\n",
       "    </tr>\n",
       "  </thead>\n",
       "  <tbody>\n",
       "    <tr>\n",
       "      <th>0</th>\n",
       "      <td>0.25</td>\n",
       "      <td>274.245</td>\n",
       "      <td>261.445</td>\n",
       "      <td>1000000032</td>\n",
       "    </tr>\n",
       "    <tr>\n",
       "      <th>1</th>\n",
       "      <td>0.50</td>\n",
       "      <td>274.232</td>\n",
       "      <td>261.450</td>\n",
       "      <td>1000000032</td>\n",
       "    </tr>\n",
       "    <tr>\n",
       "      <th>2</th>\n",
       "      <td>0.75</td>\n",
       "      <td>274.237</td>\n",
       "      <td>261.449</td>\n",
       "      <td>1000000032</td>\n",
       "    </tr>\n",
       "    <tr>\n",
       "      <th>3</th>\n",
       "      <td>1.00</td>\n",
       "      <td>274.224</td>\n",
       "      <td>261.416</td>\n",
       "      <td>1000000032</td>\n",
       "    </tr>\n",
       "    <tr>\n",
       "      <th>4</th>\n",
       "      <td>1.25</td>\n",
       "      <td>274.225</td>\n",
       "      <td>261.369</td>\n",
       "      <td>1000000032</td>\n",
       "    </tr>\n",
       "  </tbody>\n",
       "</table>\n",
       "</div>"
      ],
      "text/plain": [
       "      t        x        y     trackID\n",
       "0  0.25  274.245  261.445  1000000032\n",
       "1  0.50  274.232  261.450  1000000032\n",
       "2  0.75  274.237  261.449  1000000032\n",
       "3  1.00  274.224  261.416  1000000032\n",
       "4  1.25  274.225  261.369  1000000032"
      ]
     },
     "metadata": {},
     "output_type": "display_data"
    }
   ],
   "source": [
    "data_folder = \"./bacteria_filtered/csv\"\n",
    "track_paths = os.listdir(data_folder)\n",
    "\n",
    "frames = []\n",
    "for path in track_paths:\n",
    "    df = pd.read_csv(f\"{data_folder}/{path}\", index_col=0)\n",
    "    df[\"trackID\"] = path.split(\" \")[-2]\n",
    "    #print(df.head())\n",
    "    frames.append(df)\n",
    "\n",
    "df_filtered = pd.concat(frames, ignore_index=True)\n",
    "display(df_filtered.head())"
   ]
  },
  {
   "cell_type": "code",
   "execution_count": 10,
   "metadata": {},
   "outputs": [
    {
     "data": {
      "text/html": [
       "<div>\n",
       "<style scoped>\n",
       "    .dataframe tbody tr th:only-of-type {\n",
       "        vertical-align: middle;\n",
       "    }\n",
       "\n",
       "    .dataframe tbody tr th {\n",
       "        vertical-align: top;\n",
       "    }\n",
       "\n",
       "    .dataframe thead th {\n",
       "        text-align: right;\n",
       "    }\n",
       "</style>\n",
       "<table border=\"1\" class=\"dataframe\">\n",
       "  <thead>\n",
       "    <tr style=\"text-align: right;\">\n",
       "      <th></th>\n",
       "      <th>trackID</th>\n",
       "      <th>t</th>\n",
       "      <th>deviation_x</th>\n",
       "      <th>deviation_y</th>\n",
       "    </tr>\n",
       "  </thead>\n",
       "  <tbody>\n",
       "    <tr>\n",
       "      <th>0</th>\n",
       "      <td>1000000032</td>\n",
       "      <td>0.50</td>\n",
       "      <td>0.013</td>\n",
       "      <td>0.005</td>\n",
       "    </tr>\n",
       "    <tr>\n",
       "      <th>1</th>\n",
       "      <td>1000000032</td>\n",
       "      <td>0.75</td>\n",
       "      <td>0.008</td>\n",
       "      <td>0.004</td>\n",
       "    </tr>\n",
       "    <tr>\n",
       "      <th>2</th>\n",
       "      <td>1000000032</td>\n",
       "      <td>1.00</td>\n",
       "      <td>0.021</td>\n",
       "      <td>0.029</td>\n",
       "    </tr>\n",
       "    <tr>\n",
       "      <th>3</th>\n",
       "      <td>1000000032</td>\n",
       "      <td>1.25</td>\n",
       "      <td>0.020</td>\n",
       "      <td>0.076</td>\n",
       "    </tr>\n",
       "    <tr>\n",
       "      <th>4</th>\n",
       "      <td>1000000032</td>\n",
       "      <td>1.50</td>\n",
       "      <td>0.133</td>\n",
       "      <td>0.019</td>\n",
       "    </tr>\n",
       "  </tbody>\n",
       "</table>\n",
       "</div>"
      ],
      "text/plain": [
       "      trackID     t  deviation_x  deviation_y\n",
       "0  1000000032  0.50        0.013        0.005\n",
       "1  1000000032  0.75        0.008        0.004\n",
       "2  1000000032  1.00        0.021        0.029\n",
       "3  1000000032  1.25        0.020        0.076\n",
       "4  1000000032  1.50        0.133        0.019"
      ]
     },
     "metadata": {},
     "output_type": "display_data"
    }
   ],
   "source": [
    "deviations = []\n",
    "for trackID in pd.unique(df_filtered[\"trackID\"]):\n",
    "    track_data = df_filtered[df_filtered[\"trackID\"] == trackID].sort_values(by=\"t\")\n",
    "    deviations_track = []\n",
    "    #print(track_data.head())\n",
    "    #print(track_data[\"x\"].iloc[0])\n",
    "    og_x = track_data[\"x\"].iloc[0]\n",
    "    og_y = track_data[\"y\"].iloc[0]\n",
    "    for index, timepoint in track_data[1:].iterrows():\n",
    "        deviation_x = np.abs(og_x - timepoint[\"x\"])\n",
    "        deviation_y = np.abs(og_y - timepoint[\"y\"])\n",
    "        deviations_track.append({\n",
    "            \"trackID\": trackID,\n",
    "            \"t\": timepoint[\"t\"],\n",
    "            \"deviation_x\": deviation_x,\n",
    "            \"deviation_y\": deviation_y\n",
    "        })\n",
    "    deviations.append(pd.DataFrame(deviations_track))\n",
    "df_deviations =  pd.concat(deviations)\n",
    "display(df_deviations.head())   "
   ]
  },
  {
   "cell_type": "code",
   "execution_count": 11,
   "metadata": {},
   "outputs": [],
   "source": [
    "MSDs = []\n",
    "for timestamp in pd.unique(df_deviations[\"t\"]):\n",
    "    data_slice = df_deviations[df_deviations[\"t\"] == timestamp]\n",
    "    mean_sq_x_dev = np.mean(data_slice[\"deviation_x\"].to_numpy()**2)\n",
    "    mean_sq_y_dev = np.mean(data_slice[\"deviation_y\"].to_numpy()**2)\n",
    "    MSDs.append(mean_sq_x_dev + mean_sq_y_dev)"
   ]
  },
  {
   "cell_type": "code",
   "execution_count": 12,
   "metadata": {},
   "outputs": [
    {
     "data": {
      "text/plain": [
       "(-10.0, 800.0)"
      ]
     },
     "execution_count": 12,
     "metadata": {},
     "output_type": "execute_result"
    },
    {
     "data": {
      "image/png": "[encoded data removed]",
      "text/plain": [
       "<Figure size 640x480 with 1 Axes>"
      ]
     },
     "metadata": {},
     "output_type": "display_data"
    }
   ],
   "source": [
    "plt.plot(pd.unique(df_deviations[\"t\"]), MSDs)\n",
    "plt.plot(pd.unique(df_deviations[\"t\"]), MSDs_rt)\n",
    "plt.plot(pd.unique(df_deviations[\"t\"]), MSDs_37)\n",
    "plt.xlim(0,8.1)\n",
    "plt.ylim(-10,800)"
   ]
  },
  {
   "cell_type": "code",
   "execution_count": 13,
   "metadata": {},
   "outputs": [
    {
     "data": {
      "text/plain": [
       "[2.1214383838383726,\n",
       " 16.16651475247522,\n",
       " 36.36531934134614,\n",
       " 69.88281371904758,\n",
       " 104.76196367942578,\n",
       " 155.49427532093023,\n",
       " 185.98230210747658,\n",
       " 228.4922145321101,\n",
       " 275.03647594520544,\n",
       " 325.68220101801785,\n",
       " 359.1277898837209,\n",
       " 401.59474704128434,\n",
       " 444.41984792626715,\n",
       " 517.7228298130841,\n",
       " 587.7785285093457,\n",
       " 647.6206195138889,\n",
       " 693.5548973242007,\n",
       " 757.1270429954543,\n",
       " 797.2454724753361,\n",
       " 860.7379165829598,\n",
       " 869.0061122690583,\n",
       " 911.3952395336321,\n",
       " 947.5577301651784,\n",
       " 968.2449196902655,\n",
       " 1024.3624740666667,\n",
       " 1050.4650798266666,\n",
       " 1057.8084635429864,\n",
       " 1128.9409521165917,\n",
       " 1056.3853668274337,\n",
       " 1014.8384849513275,\n",
       " 1057.3823130987123,\n",
       " 1032.8487558051945,\n",
       " 1055.0442782245761,\n",
       " 1105.1867231125539,\n",
       " 1115.436409300429,\n",
       " 1164.1354011179037,\n",
       " 1205.782458852174,\n",
       " 1223.9852964757708,\n",
       " 1274.789586592105,\n",
       " 1308.4575616304346,\n",
       " 1299.8853915411255,\n",
       " 1315.1666084051722,\n",
       " 1339.8247244743588,\n",
       " 1409.1745221379308,\n",
       " 1427.907507754237,\n",
       " 1487.1569213376622,\n",
       " 1428.8689547264953,\n",
       " 1481.5392053097344,\n",
       " 1522.7623947857142,\n",
       " 1564.6734003561644,\n",
       " 1603.957587716216,\n",
       " 1603.9778474863633,\n",
       " 1634.6013159269405,\n",
       " 1691.6835252328763,\n",
       " 1671.6599373303166,\n",
       " 1729.8903792045453,\n",
       " 1568.2429467725117,\n",
       " 1654.7510012292678,\n",
       " 1764.3921301530613]"
      ]
     },
     "execution_count": 13,
     "metadata": {},
     "output_type": "execute_result"
    }
   ],
   "source": [
    "MSDs"
   ]
  },
  {
   "attachments": {},
   "cell_type": "markdown",
   "metadata": {},
   "source": [
    "# Bacterial CPM\n",
    "\n",
    "- either 1 or 2 pixels (2-4 $\\mu m$) -> 1 cell is 2 Microns, the unit in the df for positions is Microns\n",
    "- "
   ]
  },
  {
   "cell_type": "code",
   "execution_count": 4,
   "metadata": {},
   "outputs": [],
   "source": [
    "device = t.device('cuda')"
   ]
  },
  {
   "cell_type": "code",
   "execution_count": 5,
   "metadata": {},
   "outputs": [],
   "source": [
    "def create_dist_matrix(batch:t.Tensor):\n",
    "    dist_matrix:np.ndarray = ndimage.distance_transform_edt(1-batch[0].cpu(), return_indices=False)\n",
    "    dist_matrix = dist_matrix**2\n",
    "    dist_matrix_t = t.from_numpy(dist_matrix).to(device)\n",
    "    return dist_matrix_t"
   ]
  },
  {
   "cell_type": "code",
   "execution_count": 109,
   "metadata": {},
   "outputs": [],
   "source": [
    "MOORE_OFFSETS = t.tensor([(1, 1), (1, -1), (1, 0), (-1, 0), (0, 0), (-1, 1), (-1, -1), (0, 1), (0, -1)], device=device)\n",
    "def get_moore_nbh(batch:t.Tensor):\n",
    "    _, batch_height, _ = batch.shape\n",
    "    cell_pixel_coords = (batch == 1).nonzero()\n",
    "    nbh_coords = (cell_pixel_coords[:, 1:].unsqueeze(1)+MOORE_OFFSETS.type(t.float).unsqueeze(0)).flatten(end_dim=1)\n",
    "    idx_pad = cell_pixel_coords[:, 0].repeat_interleave(9).flatten().unsqueeze(-1)\n",
    "    nbh_coords[nbh_coords == -1] = 1\n",
    "    nbh_coords[nbh_coords == batch_height] = batch_height -2\n",
    "    idc, counts = t.unique(idx_pad, return_counts=True)\n",
    "    return t.split(t.concatenate((idx_pad, nbh_coords), dim=-1), split_size_or_sections=counts.tolist())"
   ]
  },
  {
   "cell_type": "code",
   "execution_count": 110,
   "metadata": {},
   "outputs": [],
   "source": [
    "STEP_SIZES = t.tensor([(1, 0), (0, 1), (-1, 0), (0, -1), (1, 1), (1, -1), (-1, 1), (-1, -1)], device=device)\n",
    "def MCS(batch, temperature):\n",
    "    batch_size, batch_height, _ = batch.shape\n",
    "    \n",
    "    #########################################################\n",
    "    # 1. Find source and target coordinates for each sample #\n",
    "    #########################################################\n",
    "    # Find all pixels that belong to a cell, or border a cell \n",
    "    frontiers = get_moore_nbh(batch)\n",
    "    src_coords = t.vstack(list(map(random.choice, frontiers))).type(t.long)\n",
    "    \n",
    "    p_f = np.sqrt(2.)\n",
    "    p_side = (p_f - 1)*p_f/4\n",
    "    p_diag = (p_f - 1)/4\n",
    "    step_size_idx = t.tensor(np.random.choice(\n",
    "            STEP_SIZES.shape[0],\n",
    "            size=src_coords.shape[0],\n",
    "            replace=True,\n",
    "            p=[p_side, p_side, p_side, p_side, p_diag, p_diag, p_diag, p_diag])).type(t.long)\n",
    "    step_sizes = STEP_SIZES[step_size_idx]\n",
    "    tgt_coords = t.hstack((src_coords[:, 0].unsqueeze(0).T, src_coords[:, 1:] + step_sizes))\n",
    "    tgt_coords[:, 1:][tgt_coords[:, 1:] == -1] = 1\n",
    "    tgt_coords[:, 1:][tgt_coords[:, 1:] == batch_height] = batch_height -2\n",
    "    tgt_i = tgt_coords[:, 0]\n",
    "    tgt_j = tgt_coords[:, 1]\n",
    "    tgt_k = tgt_coords[:, 2]\n",
    "    src_i = src_coords[:, 0]\n",
    "    src_j = src_coords[:, 1]\n",
    "    src_k = src_coords[:, 2]\n",
    "    \n",
    "    #########################################################################\n",
    "    # 2. Calculate the changes in volume that the copy attempts would cause #\n",
    "    #########################################################################\n",
    "    current_volumes = t.sum(batch, dim=(-1, -2))\n",
    "    vol_changes = (-1 * batch[tgt_i, tgt_j, tgt_k]) + batch[src_i, src_j, src_k]\n",
    "    adjusted_vols = current_volumes + vol_changes\n",
    "    \n",
    "    #########################################################\n",
    "    # 3. Define boolean masks based on the volume changes   #\n",
    "    #########################################################\n",
    "    sml_eq_two_mask = adjusted_vols <= 2\n",
    "    greater_zero_mask = adjusted_vols > 0\n",
    "    vol_change_positive_mask = vol_changes > 0\n",
    "    vol_change_negative_mask = vol_changes < 0\n",
    "    \n",
    "    #########################################################\n",
    "    # 4. auto accept each attempt with negative vol. change #\n",
    "    # that fulfills the hard volume constraint              #\n",
    "    #########################################################\n",
    "    auto_upd_mask = t.logical_and(\n",
    "        vol_change_negative_mask,\n",
    "        greater_zero_mask\n",
    "    )\n",
    "    auto_upd_i = tgt_i[auto_upd_mask]\n",
    "    auto_upd_j = tgt_j[auto_upd_mask]\n",
    "    auto_upd_k = tgt_k[auto_upd_mask]\n",
    "    batch[auto_upd_i, auto_upd_j, auto_upd_k] += vol_changes[auto_upd_mask]\n",
    "    \n",
    "    ##################################################################\n",
    "    # 5. stochastic update of the attempts with positive vol. change #\n",
    "    ################################################################## \n",
    "    update_mask = t.logical_and(\n",
    "        vol_change_positive_mask,\n",
    "        sml_eq_two_mask\n",
    "    )\n",
    "    update_probability = t.sigmoid(temperature)\n",
    "    logit = t.log(t.hstack((update_probability, (1-update_probability))))\n",
    "    batch_logits = logit.repeat((vol_changes[update_mask].shape[0],1))\n",
    "    one_hot = t.nn.functional.gumbel_softmax(batch_logits, hard=True)\n",
    "    \n",
    "    upd_vals = one_hot[:, 0] * vol_changes[update_mask]\n",
    "    upd_i = tgt_i[update_mask]\n",
    "    upd_j = tgt_j[update_mask]\n",
    "    upd_k = tgt_k[update_mask]\n",
    "    batch[upd_i, upd_j, upd_k] += upd_vals.squeeze()\n",
    "    \n",
    "    return batch"
   ]
  },
  {
   "cell_type": "code",
   "execution_count": 111,
   "metadata": {},
   "outputs": [],
   "source": [
    "def step(batch:t.Tensor, dist_matrix:t.Tensor, temperature:t.Tensor, eta:float, num_steps:int, target_distance:float):\n",
    "    for i in tqdm(range(num_steps)):\n",
    "        batch = MCS(batch, temperature)\n",
    "        if t.any(t.sum(batch, dim=(-1,-2)) == 0) or t.any(t.sum(batch, dim=(-1,-2)) > 2):\n",
    "            print(\"ISSUE DETECTED, STOP SIM\")\n",
    "            return None, None\n",
    "    # calc the distance after 100 steps    \n",
    "    distances = t.sum(batch * dist_matrix, dim=(-1,-2)) / t.sum(batch, dim=(-1,-2))\n",
    "    # one pixel is half of a micron, meaning that the number of pixels traveled needs to be divided by 2\n",
    "    mean_distance = t.mean(distances)\n",
    "    print(f\"temperature: {temperature}, update_prob:{t.sigmoid(temperature)} mean distance: {mean_distance}\")\n",
    "    loss = (mean_distance - target_distance)**2\n",
    "    grad = t.autograd.grad(loss, temperature)[0]\n",
    "    print(f\"gradient: {grad}\")\n",
    "    return temperature - (eta * grad), grad, mean_distance, loss"
   ]
  },
  {
   "cell_type": "code",
   "execution_count": 129,
   "metadata": {},
   "outputs": [
    {
     "name": "stderr",
     "output_type": "stream",
     "text": [
      "100%|██████████| 10000/10000 [00:38<00:00, 257.42it/s]\n"
     ]
    },
    {
     "name": "stdout",
     "output_type": "stream",
     "text": [
      "10000\n"
     ]
    }
   ],
   "source": [
    "temperature = t.tensor(1., device=device)\n",
    "target_vol = 1.\n",
    "batch = t.zeros(1,256,256, device=device)\n",
    "batch[:,128,128] += 1\n",
    "\n",
    "states = []\n",
    "for i in tqdm(range(10_000)):\n",
    "    batch = MCS(batch, temperature)\n",
    "    if t.any(t.sum(batch, dim=(-1,-2)) == 0) or t.any(t.sum(batch, dim=(-1,-2)) > 2):\n",
    "        print(\"ISSUE DETECTED, STOP SIM\")\n",
    "        break\n",
    "    else:\n",
    "        states.append(batch[0].detach().clone().cpu().numpy())\n",
    "\n",
    "imgs = [Image.fromarray((1-state)*255) for state in states]\n",
    "print(len(imgs))\n",
    "imgs[0].save(\"test.gif\", save_all=True, append_images=imgs[1:], fps=20)"
   ]
  },
  {
   "cell_type": "code",
   "execution_count": null,
   "metadata": {},
   "outputs": [],
   "source": [
    "temp = t.tensor(-4.)\n",
    "temp.requires_grad_()\n",
    "ref = t.zeros(1,128,128, device=device)\n",
    "ref[:,64,64] += 1\n",
    "dist_matrix = create_dist_matrix(ref)\n",
    "target_distance = 2.\n",
    "\n",
    "grads = []\n",
    "mean_distances = []\n",
    "losses = []\n",
    "temps = [temp.detach().cpu().numpy()]\n",
    "for i in range(200):\n",
    "    temp.requires_grad_()\n",
    "    batch = t.zeros(500,128,128, device=device)\n",
    "    batch[:,64,64] += 1\n",
    "    temp, grad, mean_distance, loss = step(batch, dist_matrix, temp, eta=5e-4, num_steps=500, target_distance=target_distance)\n",
    "    grads.append(grad.detach().cpu().numpy())\n",
    "    mean_distances.append(mean_distance.detach().cpu().numpy())\n",
    "    losses.append(loss.detach().cpu().numpy())\n",
    "    temps.append(temp.detach().cpu().numpy())"
   ]
  },
  {
   "cell_type": "code",
   "execution_count": 71,
   "metadata": {},
   "outputs": [],
   "source": [
    "np.save(\"grads.npy\", np.array(grads))\n",
    "np.save(\"mean_dist.npy\", np.array(mean_distances))\n",
    "np.save(\"losses.npy\", np.array(losses))\n",
    "np.save(\"temps.npy\", np.array(temps))"
   ]
  },
  {
   "cell_type": "code",
   "execution_count": null,
   "metadata": {},
   "outputs": [],
   "source": [
    "for i in range(1000):\n",
    "    temp.requires_grad_()\n",
    "    batch = t.zeros(500,128,128, device=device)\n",
    "    batch[:,64,64] += 1\n",
    "    temp, grad, mean_distance, loss = step(batch, dist_matrix, temp, eta=5e-4, num_steps=500, target_distance=target_distance)\n",
    "    grads.append(grad.detach().cpu().numpy())\n",
    "    mean_distances.append(mean_distance.detach().cpu().numpy())\n",
    "    losses.append(loss.detach().cpu().numpy())\n",
    "    temps.append(temp.detach().cpu().numpy())"
   ]
  },
  {
   "cell_type": "code",
   "execution_count": 96,
   "metadata": {},
   "outputs": [],
   "source": [
    "np.save(\"grads.npy\", np.array(grads))\n",
    "np.save(\"mean_dist.npy\", np.array(mean_distances))\n",
    "np.save(\"losses.npy\", np.array(losses))\n",
    "np.save(\"temps.npy\", np.array(temps))"
   ]
  },
  {
   "cell_type": "code",
   "execution_count": 97,
   "metadata": {},
   "outputs": [
    {
     "data": {
      "text/plain": [
       "<matplotlib.legend.Legend at 0x1b91c3df0a0>"
      ]
     },
     "execution_count": 97,
     "metadata": {},
     "output_type": "execute_result"
    },
    {
     "data": {
      "image/png": "[encoded data removed]",
      "text/plain": [
       "<Figure size 640x480 with 1 Axes>"
      ]
     },
     "metadata": {},
     "output_type": "display_data"
    }
   ],
   "source": [
    "np.arange(len(temps[1:]))\n",
    "plt.plot(np.arange(len(temps[1:])), grads, label=\"grad\")\n",
    "plt.plot(np.arange(len(temps[1:])), losses, label=\"loss\")\n",
    "plt.plot(np.arange(len(temps[1:])), mean_distances, label=\"mean distances\")\n",
    "plt.plot(np.arange(len(temps[1:])), temps[1:], label=\"temp\")\n",
    "plt.legend()"
   ]
  },
  {
   "cell_type": "code",
   "execution_count": 98,
   "metadata": {},
   "outputs": [
    {
     "data": {
      "text/plain": [
       "[<matplotlib.lines.Line2D at 0x1b91e555de0>]"
      ]
     },
     "execution_count": 98,
     "metadata": {},
     "output_type": "execute_result"
    },
    {
     "data": {
      "image/png": "[encoded data removed]",
      "text/plain": [
       "<Figure size 640x480 with 1 Axes>"
      ]
     },
     "metadata": {},
     "output_type": "display_data"
    }
   ],
   "source": [
    "plt.plot(np.arange(len(temps[1:])), temps[1:], label=\"temp\")"
   ]
  },
  {
   "cell_type": "code",
   "execution_count": 126,
   "metadata": {},
   "outputs": [
    {
     "name": "stderr",
     "output_type": "stream",
     "text": [
      "100%|██████████| 10000/10000 [03:53<00:00, 42.87it/s]\n"
     ]
    }
   ],
   "source": [
    "temp = t.tensor(1., device=device)\n",
    "temp_b = t.tensor(-1.5, device=device)\n",
    "batch = t.zeros(200,128,128, device=device)\n",
    "batch[:,64,64] += 1\n",
    "batch_b = batch.detach().clone()\n",
    "ref = t.zeros(1,128,128, device=device)\n",
    "ref[:,64,64] += 1\n",
    "dist_matrix = create_dist_matrix(ref)\n",
    "test_msd = []\n",
    "test_msd_b = []\n",
    "for i in tqdm(range(10_000)):\n",
    "    batch = MCS(batch, temp)\n",
    "    batch_b = MCS(batch_b, temp_b)\n",
    "    # calc the distance after 100 steps    \n",
    "    distances = t.sum(batch * dist_matrix, dim=(-1,-2)) / t.sum(batch, dim=(-1,-2))\n",
    "    distances_b = t.sum(batch_b * dist_matrix, dim=(-1,-2)) / t.sum(batch_b, dim=(-1,-2))\n",
    "    # one pixel is half of a micron, meaning that the number of pixels traveled needs to be divided by 2\n",
    "    mean_distance = t.mean(distances)\n",
    "    test_msd.append(mean_distance.detach().cpu().numpy())\n",
    "    mean_distance_b = t.mean(distances_b)\n",
    "    test_msd_b.append(mean_distance_b.detach().cpu().numpy())"
   ]
  },
  {
   "cell_type": "code",
   "execution_count": 128,
   "metadata": {},
   "outputs": [
    {
     "data": {
      "text/plain": [
       "[<matplotlib.lines.Line2D at 0x24425447100>]"
      ]
     },
     "execution_count": 128,
     "metadata": {},
     "output_type": "execute_result"
    },
    {
     "data": {
      "image/png": "[encoded data removed]",
      "text/plain": [
       "<Figure size 640x480 with 1 Axes>"
      ]
     },
     "metadata": {},
     "output_type": "display_data"
    }
   ],
   "source": [
    "plt.plot(range(10_000), test_msd)\n",
    "plt.plot(range(10_000), test_msd_b)"
   ]
  },
  {
   "cell_type": "code",
   "execution_count": null,
   "metadata": {},
   "outputs": [],
   "source": []
  }
 ],
 "metadata": {
  "kernelspec": {
   "display_name": "torchenv",
   "language": "python",
   "name": "python3"
  },
  "language_info": {
   "codemirror_mode": {
    "name": "ipython",
    "version": 3
   },
   "file_extension": ".py",
   "mimetype": "text/x-python",
   "name": "python",
   "nbconvert_exporter": "python",
   "pygments_lexer": "ipython3",
   "version": "3.10.6"
  },
  "orig_nbformat": 4
 },
 "nbformat": 4,
 "nbformat_minor": 2
}
