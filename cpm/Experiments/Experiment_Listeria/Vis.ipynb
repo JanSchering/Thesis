{
 "cells": [
  {
   "cell_type": "code",
   "execution_count": 8,
   "metadata": {},
   "outputs": [],
   "source": [
    "import pandas as pd\n",
    "import numpy as np\n",
    "from IPython.display import display, clear_output\n",
    "import time \n",
    "import os \n",
    "import matplotlib.pyplot as plt\n",
    "import matplotlib.animation as animation"
   ]
  },
  {
   "attachments": {},
   "cell_type": "markdown",
   "metadata": {},
   "source": [
    "### LM-37 bacteria vis"
   ]
  },
  {
   "cell_type": "code",
   "execution_count": 2,
   "metadata": {},
   "outputs": [],
   "source": [
    "df_37 = pd.read_csv(\n",
    "    \"bacteria-37.csv\",\n",
    "    header=1,\n",
    "    usecols= [\n",
    "        \"Position X\",\n",
    "        \"Position Y\",\n",
    "        \"Position Z\",\n",
    "        \"Time\",\n",
    "        \"TrackID\",\n",
    "        \"ID\"\n",
    "    ]\n",
    ")"
   ]
  },
  {
   "cell_type": "code",
   "execution_count": 3,
   "metadata": {},
   "outputs": [
    {
     "data": {
      "text/html": [
       "<div>\n",
       "<style scoped>\n",
       "    .dataframe tbody tr th:only-of-type {\n",
       "        vertical-align: middle;\n",
       "    }\n",
       "\n",
       "    .dataframe tbody tr th {\n",
       "        vertical-align: top;\n",
       "    }\n",
       "\n",
       "    .dataframe thead th {\n",
       "        text-align: right;\n",
       "    }\n",
       "</style>\n",
       "<table border=\"1\" class=\"dataframe\">\n",
       "  <thead>\n",
       "    <tr style=\"text-align: right;\">\n",
       "      <th></th>\n",
       "      <th>Position X</th>\n",
       "      <th>Position Y</th>\n",
       "      <th>Position Z</th>\n",
       "      <th>Time</th>\n",
       "      <th>TrackID</th>\n",
       "      <th>ID</th>\n",
       "    </tr>\n",
       "  </thead>\n",
       "  <tbody>\n",
       "    <tr>\n",
       "      <th>0</th>\n",
       "      <td>248.6320</td>\n",
       "      <td>10.7085</td>\n",
       "      <td>0.1815</td>\n",
       "      <td>1</td>\n",
       "      <td>1000000008</td>\n",
       "      <td>8</td>\n",
       "    </tr>\n",
       "    <tr>\n",
       "      <th>1</th>\n",
       "      <td>346.6570</td>\n",
       "      <td>10.7085</td>\n",
       "      <td>0.1815</td>\n",
       "      <td>1</td>\n",
       "      <td>1000000014</td>\n",
       "      <td>14</td>\n",
       "    </tr>\n",
       "    <tr>\n",
       "      <th>2</th>\n",
       "      <td>52.1679</td>\n",
       "      <td>11.1991</td>\n",
       "      <td>0.1815</td>\n",
       "      <td>1</td>\n",
       "      <td>1000000015</td>\n",
       "      <td>15</td>\n",
       "    </tr>\n",
       "    <tr>\n",
       "      <th>3</th>\n",
       "      <td>32.9705</td>\n",
       "      <td>11.6746</td>\n",
       "      <td>0.1815</td>\n",
       "      <td>1</td>\n",
       "      <td>1000000018</td>\n",
       "      <td>18</td>\n",
       "    </tr>\n",
       "    <tr>\n",
       "      <th>4</th>\n",
       "      <td>272.7170</td>\n",
       "      <td>11.8309</td>\n",
       "      <td>0.1815</td>\n",
       "      <td>1</td>\n",
       "      <td>1000000020</td>\n",
       "      <td>20</td>\n",
       "    </tr>\n",
       "  </tbody>\n",
       "</table>\n",
       "</div>"
      ],
      "text/plain": [
       "   Position X  Position Y  Position Z  Time     TrackID  ID\n",
       "0    248.6320     10.7085      0.1815     1  1000000008   8\n",
       "1    346.6570     10.7085      0.1815     1  1000000014  14\n",
       "2     52.1679     11.1991      0.1815     1  1000000015  15\n",
       "3     32.9705     11.6746      0.1815     1  1000000018  18\n",
       "4    272.7170     11.8309      0.1815     1  1000000020  20"
      ]
     },
     "metadata": {},
     "output_type": "display_data"
    },
    {
     "name": "stdout",
     "output_type": "stream",
     "text": [
      "<class 'pandas.core.frame.DataFrame'>\n",
      "RangeIndex: 17822 entries, 0 to 17821\n",
      "Data columns (total 6 columns):\n",
      " #   Column      Non-Null Count  Dtype  \n",
      "---  ------      --------------  -----  \n",
      " 0   Position X  17822 non-null  float64\n",
      " 1   Position Y  17822 non-null  float64\n",
      " 2   Position Z  17822 non-null  float64\n",
      " 3   Time        17822 non-null  int64  \n",
      " 4   TrackID     17822 non-null  int64  \n",
      " 5   ID          17822 non-null  int64  \n",
      "dtypes: float64(3), int64(3)\n",
      "memory usage: 835.5 KB\n"
     ]
    }
   ],
   "source": [
    "display(df_37.head())\n",
    "df_37.info()"
   ]
  },
  {
   "cell_type": "code",
   "execution_count": null,
   "metadata": {},
   "outputs": [],
   "source": [
    "fig, ax = plt.subplots()\n",
    "\n",
    "t_1 = df_37[df_37[\"Time\"] == 1].sort_values(by=\"TrackID\")\n",
    "scat = ax.scatter(t_1[\"Position X\"], t_1[\"Position Y\"])\n",
    "\n",
    "def animate_scatter(i):\n",
    "    scat.set_offsets(df_37[df_37[\"Time\"] == i].sort_values(by=\"TrackID\")[[\"Position X\", \"Position Y\"]])\n",
    "    return scat,\n",
    "\n",
    "ani = animation.FuncAnimation(fig, animate_scatter, repeat=True, interval=50, frames=range(1,61))\n",
    "writer = animation.PillowWriter(fps=15,\n",
    "                                metadata=dict(artist='Me'),\n",
    "                                bitrate=1800)\n",
    "ani.save('scatter.gif', writer=writer)"
   ]
  },
  {
   "cell_type": "code",
   "execution_count": null,
   "metadata": {},
   "outputs": [],
   "source": [
    "fig, ax = plt.subplots()\n",
    "\n",
    "for i in range(1, 61):\n",
    "    #cur = track[track[\"Time\"] == i]\n",
    "    cur = df_37[df_37[\"Time\"] == i]\n",
    "    ax.scatter(cur[\"Position X\"], cur[\"Position Y\"])\n",
    "    display(fig)\n",
    "    clear_output(wait=True)\n",
    "    ax.cla()"
   ]
  },
  {
   "attachments": {},
   "cell_type": "markdown",
   "metadata": {},
   "source": [
    "### LM-RT bacteria"
   ]
  },
  {
   "cell_type": "code",
   "execution_count": 18,
   "metadata": {},
   "outputs": [],
   "source": [
    "df_rt = pd.read_csv(\n",
    "    \"bacteria-RT.csv\",\n",
    "    header=1,\n",
    "    usecols= [\n",
    "        \"Position X\",\n",
    "        \"Position Y\",\n",
    "        \"Position Z\",\n",
    "        \"Time\",\n",
    "        \"TrackID\",\n",
    "        \"ID\"\n",
    "    ]\n",
    ")"
   ]
  },
  {
   "cell_type": "code",
   "execution_count": 19,
   "metadata": {},
   "outputs": [
    {
     "data": {
      "text/html": [
       "<div>\n",
       "<style scoped>\n",
       "    .dataframe tbody tr th:only-of-type {\n",
       "        vertical-align: middle;\n",
       "    }\n",
       "\n",
       "    .dataframe tbody tr th {\n",
       "        vertical-align: top;\n",
       "    }\n",
       "\n",
       "    .dataframe thead th {\n",
       "        text-align: right;\n",
       "    }\n",
       "</style>\n",
       "<table border=\"1\" class=\"dataframe\">\n",
       "  <thead>\n",
       "    <tr style=\"text-align: right;\">\n",
       "      <th></th>\n",
       "      <th>Position X</th>\n",
       "      <th>Position Y</th>\n",
       "      <th>Position Z</th>\n",
       "      <th>Time</th>\n",
       "      <th>TrackID</th>\n",
       "      <th>ID</th>\n",
       "    </tr>\n",
       "  </thead>\n",
       "  <tbody>\n",
       "    <tr>\n",
       "      <th>0</th>\n",
       "      <td>295.338</td>\n",
       "      <td>258.637</td>\n",
       "      <td>0.1815</td>\n",
       "      <td>1</td>\n",
       "      <td>1000000007</td>\n",
       "      <td>7</td>\n",
       "    </tr>\n",
       "    <tr>\n",
       "      <th>1</th>\n",
       "      <td>422.484</td>\n",
       "      <td>258.637</td>\n",
       "      <td>0.1815</td>\n",
       "      <td>1</td>\n",
       "      <td>1000000014</td>\n",
       "      <td>14</td>\n",
       "    </tr>\n",
       "    <tr>\n",
       "      <th>2</th>\n",
       "      <td>468.483</td>\n",
       "      <td>258.637</td>\n",
       "      <td>0.1815</td>\n",
       "      <td>1</td>\n",
       "      <td>1000000016</td>\n",
       "      <td>16</td>\n",
       "    </tr>\n",
       "    <tr>\n",
       "      <th>3</th>\n",
       "      <td>362.448</td>\n",
       "      <td>259.978</td>\n",
       "      <td>0.1815</td>\n",
       "      <td>1</td>\n",
       "      <td>1000000025</td>\n",
       "      <td>25</td>\n",
       "    </tr>\n",
       "    <tr>\n",
       "      <th>4</th>\n",
       "      <td>470.481</td>\n",
       "      <td>261.132</td>\n",
       "      <td>0.1815</td>\n",
       "      <td>1</td>\n",
       "      <td>1000000029</td>\n",
       "      <td>29</td>\n",
       "    </tr>\n",
       "  </tbody>\n",
       "</table>\n",
       "</div>"
      ],
      "text/plain": [
       "   Position X  Position Y  Position Z  Time     TrackID  ID\n",
       "0     295.338     258.637      0.1815     1  1000000007   7\n",
       "1     422.484     258.637      0.1815     1  1000000014  14\n",
       "2     468.483     258.637      0.1815     1  1000000016  16\n",
       "3     362.448     259.978      0.1815     1  1000000025  25\n",
       "4     470.481     261.132      0.1815     1  1000000029  29"
      ]
     },
     "metadata": {},
     "output_type": "display_data"
    },
    {
     "name": "stdout",
     "output_type": "stream",
     "text": [
      "<class 'pandas.core.frame.DataFrame'>\n",
      "RangeIndex: 29493 entries, 0 to 29492\n",
      "Data columns (total 6 columns):\n",
      " #   Column      Non-Null Count  Dtype  \n",
      "---  ------      --------------  -----  \n",
      " 0   Position X  29493 non-null  float64\n",
      " 1   Position Y  29493 non-null  float64\n",
      " 2   Position Z  29493 non-null  float64\n",
      " 3   Time        29493 non-null  int64  \n",
      " 4   TrackID     29493 non-null  int64  \n",
      " 5   ID          29493 non-null  int64  \n",
      "dtypes: float64(3), int64(3)\n",
      "memory usage: 1.4 MB\n"
     ]
    }
   ],
   "source": [
    "display(df_rt.head())\n",
    "df_rt.info()"
   ]
  },
  {
   "cell_type": "code",
   "execution_count": 21,
   "metadata": {},
   "outputs": [
    {
     "data": {
      "image/png": "[encoded data removed]",
      "text/plain": [
       "<Figure size 640x480 with 1 Axes>"
      ]
     },
     "metadata": {},
     "output_type": "display_data"
    }
   ],
   "source": [
    "fig, ax = plt.subplots()\n",
    "\n",
    "t_1 = df_rt[df_rt[\"Time\"] == 1].sort_values(by=\"TrackID\")\n",
    "scat = ax.scatter(t_1[\"Position X\"], t_1[\"Position Y\"])\n",
    "\n",
    "def animate_scatter(i):\n",
    "    scat.set_offsets(df_rt[df_rt[\"Time\"] == i].sort_values(by=\"TrackID\")[[\"Position X\", \"Position Y\"]])\n",
    "    return scat,\n",
    "\n",
    "ani = animation.FuncAnimation(fig, animate_scatter, repeat=True, interval=50, frames=range(1,61))\n",
    "writer = animation.PillowWriter(fps=10,\n",
    "                                metadata=dict(artist='Me'),\n",
    "                                bitrate=1800)\n",
    "ani.save('scatter_rt.gif', writer=writer)"
   ]
  },
  {
   "cell_type": "code",
   "execution_count": null,
   "metadata": {},
   "outputs": [],
   "source": [
    "fig, ax = plt.subplots()\n",
    "ax.set(xlim=(120, 530))\n",
    "\n",
    "for i in range(1, 61):\n",
    "    #cur = track[track[\"Time\"] == i]\n",
    "    cur = df_rt[df_rt[\"Time\"] == i]\n",
    "    ax.set(xlim=(120, 530))\n",
    "    ax.scatter(cur[\"Position X\"], cur[\"Position Y\"])\n",
    "    display(fig)\n",
    "    clear_output(wait=True)\n",
    "    ax.cla()"
   ]
  },
  {
   "attachments": {},
   "cell_type": "markdown",
   "metadata": {},
   "source": [
    "### LM-RT filtered"
   ]
  },
  {
   "cell_type": "code",
   "execution_count": 10,
   "metadata": {},
   "outputs": [
    {
     "data": {
      "text/html": [
       "<div>\n",
       "<style scoped>\n",
       "    .dataframe tbody tr th:only-of-type {\n",
       "        vertical-align: middle;\n",
       "    }\n",
       "\n",
       "    .dataframe tbody tr th {\n",
       "        vertical-align: top;\n",
       "    }\n",
       "\n",
       "    .dataframe thead th {\n",
       "        text-align: right;\n",
       "    }\n",
       "</style>\n",
       "<table border=\"1\" class=\"dataframe\">\n",
       "  <thead>\n",
       "    <tr style=\"text-align: right;\">\n",
       "      <th></th>\n",
       "      <th>t</th>\n",
       "      <th>x</th>\n",
       "      <th>y</th>\n",
       "      <th>trackID</th>\n",
       "    </tr>\n",
       "  </thead>\n",
       "  <tbody>\n",
       "    <tr>\n",
       "      <th>0</th>\n",
       "      <td>0.25</td>\n",
       "      <td>274.245</td>\n",
       "      <td>261.445</td>\n",
       "      <td>1000000032</td>\n",
       "    </tr>\n",
       "    <tr>\n",
       "      <th>1</th>\n",
       "      <td>0.50</td>\n",
       "      <td>274.232</td>\n",
       "      <td>261.450</td>\n",
       "      <td>1000000032</td>\n",
       "    </tr>\n",
       "    <tr>\n",
       "      <th>2</th>\n",
       "      <td>0.75</td>\n",
       "      <td>274.237</td>\n",
       "      <td>261.449</td>\n",
       "      <td>1000000032</td>\n",
       "    </tr>\n",
       "    <tr>\n",
       "      <th>3</th>\n",
       "      <td>1.00</td>\n",
       "      <td>274.224</td>\n",
       "      <td>261.416</td>\n",
       "      <td>1000000032</td>\n",
       "    </tr>\n",
       "    <tr>\n",
       "      <th>4</th>\n",
       "      <td>1.25</td>\n",
       "      <td>274.225</td>\n",
       "      <td>261.369</td>\n",
       "      <td>1000000032</td>\n",
       "    </tr>\n",
       "  </tbody>\n",
       "</table>\n",
       "</div>"
      ],
      "text/plain": [
       "      t        x        y     trackID\n",
       "0  0.25  274.245  261.445  1000000032\n",
       "1  0.50  274.232  261.450  1000000032\n",
       "2  0.75  274.237  261.449  1000000032\n",
       "3  1.00  274.224  261.416  1000000032\n",
       "4  1.25  274.225  261.369  1000000032"
      ]
     },
     "metadata": {},
     "output_type": "display_data"
    }
   ],
   "source": [
    "data_folder = \"./bacteria_filtered/csv\"\n",
    "track_paths = os.listdir(data_folder)\n",
    "\n",
    "frames = []\n",
    "for path in track_paths:\n",
    "    df = pd.read_csv(f\"{data_folder}/{path}\", index_col=0)\n",
    "    df[\"trackID\"] = path.split(\" \")[-2]\n",
    "    #print(df.head())\n",
    "    frames.append(df)\n",
    "\n",
    "df_filtered = pd.concat(frames, ignore_index=True)\n",
    "display(df_filtered.head())"
   ]
  },
  {
   "cell_type": "code",
   "execution_count": null,
   "metadata": {},
   "outputs": [],
   "source": [
    "fig, ax = plt.subplots()\n",
    "\n",
    "t_1 = df_filtered[df_filtered[\"t\"] == 0.25].sort_values(by=\"trackID\")\n",
    "scat = ax.scatter(t_1[\"x\"], t_1[\"y\"])\n",
    "\n",
    "def animate_scatter(i):\n",
    "    scat.set_offsets(df_filtered[df_filtered[\"t\"] == i].sort_values(by=\"trackID\")[[\"x\", \"y\"]])\n",
    "    return scat,\n",
    "\n",
    "ani = animation.FuncAnimation(fig, animate_scatter, repeat=True, interval=50, frames=range(1,61))\n",
    "writer = animation.PillowWriter(fps=10,\n",
    "                                metadata=dict(artist='Me'),\n",
    "                                bitrate=1800)\n",
    "ani.save('scatter_filtered.gif', writer=writer)"
   ]
  },
  {
   "cell_type": "code",
   "execution_count": 15,
   "metadata": {},
   "outputs": [
    {
     "data": {
      "image/png": "[encoded data removed]",
      "text/plain": [
       "<Figure size 640x480 with 1 Axes>"
      ]
     },
     "metadata": {},
     "output_type": "display_data"
    }
   ],
   "source": [
    "fig, ax = plt.subplots()\n",
    "\n",
    "for timestamp in pd.unique(df_filtered[\"t\"]):\n",
    "    #cur = track[track[\"Time\"] == i]\n",
    "    cur = df_filtered[df_filtered[\"t\"] == timestamp]\n",
    "    ax.scatter(cur[\"x\"], cur[\"y\"])\n",
    "    display(fig)\n",
    "    clear_output(wait=True)\n",
    "    ax.cla()"
   ]
  },
  {
   "cell_type": "code",
   "execution_count": null,
   "metadata": {},
   "outputs": [],
   "source": []
  }
 ],
 "metadata": {
  "kernelspec": {
   "display_name": "torchenv",
   "language": "python",
   "name": "python3"
  },
  "language_info": {
   "codemirror_mode": {
    "name": "ipython",
    "version": 3
   },
   "file_extension": ".py",
   "mimetype": "text/x-python",
   "name": "python",
   "nbconvert_exporter": "python",
   "pygments_lexer": "ipython3",
   "version": "3.10.6"
  },
  "orig_nbformat": 4
 },
 "nbformat": 4,
 "nbformat_minor": 2
}
