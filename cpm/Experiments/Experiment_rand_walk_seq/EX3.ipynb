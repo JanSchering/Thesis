{
 "cells": [
  {
   "cell_type": "code",
   "execution_count": 1,
   "metadata": {},
   "outputs": [],
   "source": [
    "import torch as t\n",
    "from scipy import ndimage\n",
    "import numpy as np\n",
    "import random\n",
    "from tqdm import tqdm\n",
    "import matplotlib.pyplot as plt"
   ]
  },
  {
   "cell_type": "code",
   "execution_count": 2,
   "metadata": {},
   "outputs": [],
   "source": [
    "class STESpike(t.autograd.Function):\n",
    "    @staticmethod\n",
    "    def forward(ctx, input):\n",
    "        return (input > 0).float()\n",
    "\n",
    "    @staticmethod\n",
    "    def backward(ctx, grad_output):\n",
    "        return grad_output\n"
   ]
  },
  {
   "cell_type": "code",
   "execution_count": 3,
   "metadata": {},
   "outputs": [],
   "source": [
    "MOORE_OFFSETS = t.tensor([(1, 1), (1, -1), (1, 0), (-1, 0), (-1, 1), (-1, -1), (0, 1), (0, -1)])\n",
    "\n",
    "def get_moore_nbh(batch:t.Tensor):\n",
    "    batch_size, batch_height, _ = batch.shape\n",
    "    cell_pixel_coords = (batch == 1).nonzero()\n",
    "    moore_nbhs = []\n",
    "    for batch_idx in range(batch_size):\n",
    "        batch_slice = cell_pixel_coords[:, 0] == batch_idx\n",
    "        #print(cell_pixel_coords[batch_slice])\n",
    "        coords = cell_pixel_coords[batch_slice]\n",
    "        batch_moore_nbhs = []\n",
    "        for coord in coords:\n",
    "            nbh_coords = coord[1:]+MOORE_OFFSETS\n",
    "            nbh_coords[nbh_coords == -1] = 1\n",
    "            nbh_coords[nbh_coords == batch_height] = batch_height -2\n",
    "            idx_pad = t.zeros(8,1) + batch_idx\n",
    "            nbh_coords = t.vstack((coord, t.hstack((idx_pad, nbh_coords))))\n",
    "            #print(nbh_coords)\n",
    "            batch_moore_nbhs.append(nbh_coords)\n",
    "        res = t.vstack(batch_moore_nbhs).unique(dim=0)\n",
    "        moore_nbhs.append(res)\n",
    "    return moore_nbhs\n"
   ]
  },
  {
   "cell_type": "code",
   "execution_count": 4,
   "metadata": {},
   "outputs": [],
   "source": [
    "def MCS(batch, target_vol, temperature):\n",
    "    batch_size, batch_height, batch_width = batch.shape\n",
    "    frontiers = get_moore_nbh(batch)\n",
    "    for batch_idx, frontier in enumerate(frontiers):\n",
    "        #print(frontier)\n",
    "        src_coords = random.choice(frontier).type(t.long)\n",
    "        step_size = random.choice(MOORE_OFFSETS)\n",
    "        tgt_coords = src_coords.clone()\n",
    "        tgt_coords[1:] += step_size\n",
    "        tgt_coords[1:][tgt_coords[1:] == -1] = 1\n",
    "        tgt_coords[1:][tgt_coords[1:] == batch_height] = batch_height -2\n",
    "        #print(batch_idx)\n",
    "        #print(f\"coordinates of the source pixel on the grid: {src_coords}\")\n",
    "        #print(f\"step size: {step_size}\")\n",
    "        #print(f\"coordinates of the target pixel on the grid: {tgt_coords}\")\n",
    "        src_i, src_j, src_k = src_coords\n",
    "        tgt_i, tgt_j, tgt_k = tgt_coords\n",
    "        \n",
    "        #print(batch[batch_idx])\n",
    "        cur_vol = t.sum(batch[batch_idx])\n",
    "        vol_change = (-1 * batch[tgt_i, tgt_j, tgt_k]) + batch[src_i, src_j, src_k]\n",
    "        #print(\"vol change\", vol_change)\n",
    "        adjusted_vol = cur_vol + vol_change\n",
    "        #print(f\"adjusted vol: {adjusted_vol}\")\n",
    "        if batch[tgt_i, tgt_j, tgt_k] == batch[src_i, src_j, src_k]:\n",
    "            # source is equal to target, no update\n",
    "            #print(\"source is equal to target, no update\")\n",
    "            pass\n",
    "        elif adjusted_vol > 2 or adjusted_vol <= 0:\n",
    "            # Changes would violate the hard constraints, no update\n",
    "            #print(\"Changes would violate the hard constraints, no update\")\n",
    "            pass\n",
    "        elif cur_vol == 2 and vol_change == -1:\n",
    "            # Negative Hamiltonian, accepted\n",
    "            #print(\"Negative Hamiltonian, accepted\")\n",
    "            batch[tgt_i, tgt_j, tgt_k] += vol_change\n",
    "        else:\n",
    "            update_probability = t.exp(-((target_vol - adjusted_vol) ** 2) / temperature)\n",
    "            #print(f\"update probability: {update_probability}\")\n",
    "            \n",
    "            residual = t.rand(1)\n",
    "            #print(residual)\n",
    "            \n",
    "            upd_val = STESpike.apply(update_probability - residual) * vol_change\n",
    "            \n",
    "            #print(upd_val)\n",
    "            \n",
    "            #print(batch[tgt_i, tgt_j, tgt_k])\n",
    "            #print(batch[tgt_i, tgt_j, tgt_k] + upd_val)\n",
    "\n",
    "            batch[tgt_i, tgt_j, tgt_k] += upd_val.squeeze()\n",
    "    return batch"
   ]
  },
  {
   "cell_type": "code",
   "execution_count": 22,
   "metadata": {},
   "outputs": [
    {
     "name": "stdout",
     "output_type": "stream",
     "text": [
      "[[[0. 0. 0. 0. 0. 0. 0. 0. 0. 0. 0. 0. 0. 0. 0. 0.]\n",
      "  [0. 0. 0. 0. 0. 0. 0. 0. 0. 0. 0. 0. 0. 0. 0. 0.]\n",
      "  [0. 0. 0. 0. 0. 0. 0. 0. 0. 0. 0. 0. 0. 0. 0. 0.]\n",
      "  [0. 0. 0. 0. 0. 0. 0. 0. 0. 0. 0. 0. 0. 0. 0. 0.]\n",
      "  [0. 0. 0. 0. 0. 0. 0. 0. 0. 0. 0. 0. 0. 0. 0. 0.]\n",
      "  [0. 0. 0. 0. 0. 0. 0. 0. 0. 0. 0. 0. 0. 0. 0. 0.]\n",
      "  [0. 0. 0. 0. 0. 0. 0. 0. 0. 0. 0. 0. 0. 0. 0. 0.]\n",
      "  [0. 0. 0. 0. 0. 0. 0. 1. 0. 1. 0. 0. 0. 0. 0. 0.]\n",
      "  [0. 0. 0. 0. 0. 0. 0. 0. 0. 0. 0. 0. 0. 0. 0. 0.]\n",
      "  [0. 0. 0. 0. 0. 0. 0. 1. 0. 1. 0. 0. 0. 0. 0. 0.]\n",
      "  [0. 0. 0. 0. 0. 0. 0. 0. 0. 0. 0. 0. 0. 0. 0. 0.]\n",
      "  [0. 0. 0. 0. 0. 0. 0. 0. 0. 0. 0. 0. 0. 0. 0. 0.]\n",
      "  [0. 0. 0. 0. 0. 0. 0. 0. 0. 0. 0. 0. 0. 0. 0. 0.]\n",
      "  [0. 0. 0. 0. 0. 0. 0. 0. 0. 0. 0. 0. 0. 0. 0. 0.]\n",
      "  [0. 0. 0. 0. 0. 0. 0. 0. 0. 0. 0. 0. 0. 0. 0. 0.]\n",
      "  [0. 0. 0. 0. 0. 0. 0. 0. 0. 0. 0. 0. 0. 0. 0. 0.]]]\n",
      "tensor([[98.0000, 85.0000, 74.0000, 65.0000, 58.0000, 53.0000, 50.0000, 49.0000,\n",
      "         50.0000, 49.0000, 50.0000, 53.0000, 58.0000, 65.0000, 74.0000, 85.0000],\n",
      "        [85.0000, 72.0000, 61.0000, 52.0000, 45.0000, 40.0000, 37.0000, 36.0000,\n",
      "         37.0000, 36.0000, 37.0000, 40.0000, 45.0000, 52.0000, 61.0000, 72.0000],\n",
      "        [74.0000, 61.0000, 50.0000, 41.0000, 34.0000, 29.0000, 26.0000, 25.0000,\n",
      "         26.0000, 25.0000, 26.0000, 29.0000, 34.0000, 41.0000, 50.0000, 61.0000],\n",
      "        [65.0000, 52.0000, 41.0000, 32.0000, 25.0000, 20.0000, 17.0000, 16.0000,\n",
      "         17.0000, 16.0000, 17.0000, 20.0000, 25.0000, 32.0000, 41.0000, 52.0000],\n",
      "        [58.0000, 45.0000, 34.0000, 25.0000, 18.0000, 13.0000, 10.0000,  9.0000,\n",
      "         10.0000,  9.0000, 10.0000, 13.0000, 18.0000, 25.0000, 34.0000, 45.0000],\n",
      "        [53.0000, 40.0000, 29.0000, 20.0000, 13.0000,  8.0000,  5.0000,  4.0000,\n",
      "          5.0000,  4.0000,  5.0000,  8.0000, 13.0000, 20.0000, 29.0000, 40.0000],\n",
      "        [50.0000, 37.0000, 26.0000, 17.0000, 10.0000,  5.0000,  2.0000,  1.0000,\n",
      "          2.0000,  1.0000,  2.0000,  5.0000, 10.0000, 17.0000, 26.0000, 37.0000],\n",
      "        [49.0000, 36.0000, 25.0000, 16.0000,  9.0000,  4.0000,  1.0000,  0.0000,\n",
      "          1.0000,  0.0000,  1.0000,  4.0000,  9.0000, 16.0000, 25.0000, 36.0000],\n",
      "        [50.0000, 37.0000, 26.0000, 17.0000, 10.0000,  5.0000,  2.0000,  1.0000,\n",
      "          2.0000,  1.0000,  2.0000,  5.0000, 10.0000, 17.0000, 26.0000, 37.0000],\n",
      "        [49.0000, 36.0000, 25.0000, 16.0000,  9.0000,  4.0000,  1.0000,  0.0000,\n",
      "          1.0000,  0.0000,  1.0000,  4.0000,  9.0000, 16.0000, 25.0000, 36.0000],\n",
      "        [50.0000, 37.0000, 26.0000, 17.0000, 10.0000,  5.0000,  2.0000,  1.0000,\n",
      "          2.0000,  1.0000,  2.0000,  5.0000, 10.0000, 17.0000, 26.0000, 37.0000],\n",
      "        [53.0000, 40.0000, 29.0000, 20.0000, 13.0000,  8.0000,  5.0000,  4.0000,\n",
      "          5.0000,  4.0000,  5.0000,  8.0000, 13.0000, 20.0000, 29.0000, 40.0000],\n",
      "        [58.0000, 45.0000, 34.0000, 25.0000, 18.0000, 13.0000, 10.0000,  9.0000,\n",
      "         10.0000,  9.0000, 10.0000, 13.0000, 18.0000, 25.0000, 34.0000, 45.0000],\n",
      "        [65.0000, 52.0000, 41.0000, 32.0000, 25.0000, 20.0000, 17.0000, 16.0000,\n",
      "         17.0000, 16.0000, 17.0000, 20.0000, 25.0000, 32.0000, 41.0000, 52.0000],\n",
      "        [74.0000, 61.0000, 50.0000, 41.0000, 34.0000, 29.0000, 26.0000, 25.0000,\n",
      "         26.0000, 25.0000, 26.0000, 29.0000, 34.0000, 41.0000, 50.0000, 61.0000],\n",
      "        [85.0000, 72.0000, 61.0000, 52.0000, 45.0000, 40.0000, 37.0000, 36.0000,\n",
      "         37.0000, 36.0000, 37.0000, 40.0000, 45.0000, 52.0000, 61.0000, 72.0000]],\n",
      "       dtype=torch.float64)\n"
     ]
    }
   ],
   "source": [
    "ref_config_circ = np.zeros((1,16,16))\n",
    "ref_config_circ[0, 9, 9] = 1\n",
    "ref_config_circ[0, 9, 7] = 1\n",
    "ref_config_circ[0, 7, 9] = 1\n",
    "ref_config_circ[0, 7, 7] = 1\n",
    "print(ref_config_circ)\n",
    "dist_matrix_circ = ndimage.distance_transform_edt(1-ref_config_circ[0], return_indices=False)\n",
    "dist_matrix_circ = dist_matrix_circ**2\n",
    "dist_matrix_circ_t = t.from_numpy(dist_matrix_circ)\n",
    "print(dist_matrix_circ_t)"
   ]
  },
  {
   "cell_type": "code",
   "execution_count": 23,
   "metadata": {},
   "outputs": [],
   "source": [
    "def step(batch:t.Tensor, dist_matrix:t.Tensor, temperature:t.Tensor, target_vol:float, eta:float):\n",
    "    temperature.requires_grad_()\n",
    "    for i in range(50):\n",
    "        #print(f\"-------- MCS {i} --------------\")\n",
    "        batch = MCS(batch, target_vol, temperature)\n",
    "        if t.any(t.sum(batch, dim=(-1,-2)) == 0) or t.any(t.sum(batch, dim=(-1,-2)) > 2):\n",
    "            print(\"ISSUE DETECTED, STOP SIM\")\n",
    "            return None, None\n",
    "    # calc the distance after 1000 steps    \n",
    "    dist = t.sum(t.sum(batch * dist_matrix, dim=(-1,-2)) / t.sum(batch, dim=(-1,-2)))\n",
    "    #print(dist)\n",
    "    grad = t.autograd.grad(dist, temperature)[0]\n",
    "    return t.clamp(temperature - eta * grad, min=t.tensor(1e-5), max=t.tensor(40.)), grad"
   ]
  },
  {
   "cell_type": "code",
   "execution_count": 27,
   "metadata": {},
   "outputs": [
    {
     "name": "stderr",
     "output_type": "stream",
     "text": [
      "100%|██████████| 1000/1000 [10:33<00:00,  1.58it/s]\n"
     ]
    }
   ],
   "source": [
    "target_vol = 0.\n",
    "temperature = t.tensor(27.)\n",
    "temperature.requires_grad_()\n",
    "\n",
    "grads = []\n",
    "temps = []\n",
    "for i in tqdm(range(1000)):\n",
    "    init_state = t.zeros(30,16,16)\n",
    "    init_state[:,4,4] += 1\n",
    "    temperature, grad = step(init_state, dist_matrix_circ_t, temperature, target_vol, eta=2)\n",
    "    if temperature == None or grad == None:\n",
    "        print(\"issue encountered in the simulations, stopping training\")\n",
    "        break\n",
    "    else:\n",
    "        grads.append(grad.detach().cpu().numpy())\n",
    "        temps.append(temperature.detach().cpu().numpy())"
   ]
  },
  {
   "cell_type": "code",
   "execution_count": 28,
   "metadata": {},
   "outputs": [
    {
     "data": {
      "text/plain": [
       "[<matplotlib.lines.Line2D at 0x198460bcc10>]"
      ]
     },
     "execution_count": 28,
     "metadata": {},
     "output_type": "execute_result"
    },
    {
     "data": {
      "image/png": "[encoded data removed]",
      "text/plain": [
       "<Figure size 640x480 with 1 Axes>"
      ]
     },
     "metadata": {},
     "output_type": "display_data"
    }
   ],
   "source": [
    "plt.plot(np.arange(1000), temps)"
   ]
  },
  {
   "cell_type": "code",
   "execution_count": 30,
   "metadata": {},
   "outputs": [
    {
     "data": {
      "text/plain": [
       "[<matplotlib.lines.Line2D at 0x19847053a00>]"
      ]
     },
     "execution_count": 30,
     "metadata": {},
     "output_type": "execute_result"
    },
    {
     "data": {
      "image/png": "[encoded data removed]",
      "text/plain": [
       "<Figure size 640x480 with 1 Axes>"
      ]
     },
     "metadata": {},
     "output_type": "display_data"
    }
   ],
   "source": [
    "plt.plot(np.arange(1000), grads)"
   ]
  },
  {
   "cell_type": "code",
   "execution_count": null,
   "metadata": {},
   "outputs": [],
   "source": []
  }
 ],
 "metadata": {
  "kernelspec": {
   "display_name": "torchenv",
   "language": "python",
   "name": "python3"
  },
  "language_info": {
   "codemirror_mode": {
    "name": "ipython",
    "version": 3
   },
   "file_extension": ".py",
   "mimetype": "text/x-python",
   "name": "python",
   "nbconvert_exporter": "python",
   "pygments_lexer": "ipython3",
   "version": "3.10.6"
  },
  "orig_nbformat": 4
 },
 "nbformat": 4,
 "nbformat_minor": 2
}
