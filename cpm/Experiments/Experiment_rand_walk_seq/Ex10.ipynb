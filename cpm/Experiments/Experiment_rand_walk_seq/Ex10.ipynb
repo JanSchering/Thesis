{
 "cells": [
  {
   "cell_type": "code",
   "execution_count": 4,
   "metadata": {},
   "outputs": [],
   "source": [
    "import torch as t\n",
    "from scipy import ndimage\n",
    "import numpy as np\n",
    "import random\n",
    "from tqdm import tqdm\n",
    "import matplotlib.pyplot as plt\n",
    "import numpy as np\n",
    "from PIL import Image"
   ]
  },
  {
   "cell_type": "code",
   "execution_count": 5,
   "metadata": {},
   "outputs": [],
   "source": [
    "#device = t.device('cuda' if t.cuda.is_available() else 'cpu')\n",
    "device = t.device('cpu')"
   ]
  },
  {
   "cell_type": "code",
   "execution_count": 6,
   "metadata": {},
   "outputs": [],
   "source": [
    "def simple_res_plot(temps, grads, losses):\n",
    "    plt.plot(temps.cpu(), grads, label=\"gradient\")\n",
    "    plt.plot(temps.cpu(), losses, label=\"loss\")\n",
    "    plt.plot(temps.cpu(), t.sigmoid(temps).cpu(), label=\"probability\")\n",
    "\n",
    "    plt.hlines(y=[0.], xmin=-3.0, xmax=3., label=\"0-grad line\", linestyles=\"dashed\", colors=[\"gray\"])\n",
    "\n",
    "    plt.legend()\n",
    "    plt.show()"
   ]
  },
  {
   "cell_type": "code",
   "execution_count": 7,
   "metadata": {},
   "outputs": [],
   "source": [
    "def create_dist_matrix(batch:t.Tensor):\n",
    "    dist_matrix:np.ndarray = ndimage.distance_transform_edt(1-batch[0].cpu(), return_indices=False)\n",
    "    dist_matrix = dist_matrix**2\n",
    "    dist_matrix_t = t.from_numpy(dist_matrix).to(device)\n",
    "    return dist_matrix_t"
   ]
  },
  {
   "cell_type": "code",
   "execution_count": 8,
   "metadata": {},
   "outputs": [],
   "source": [
    "MOORE_OFFSETS = t.tensor([(1, 1), (1, -1), (1, 0), (-1, 0), (0, 0), (-1, 1), (-1, -1), (0, 1), (0, -1)], device=device)\n",
    "def get_moore_nbh(batch:t.Tensor):\n",
    "    _, batch_height, _ = batch.shape\n",
    "    cell_pixel_coords = (batch == 1).nonzero()\n",
    "    nbh_coords = (cell_pixel_coords[:, 1:].unsqueeze(1)+MOORE_OFFSETS.type(t.float).unsqueeze(0))\n",
    "    idx_pad = cell_pixel_coords[:, 0].repeat(9,1).T.reshape(cell_pixel_coords[:, 0].shape[0], 9, 1)\n",
    "    nbh_coords[nbh_coords == -1] = 1\n",
    "    nbh_coords[nbh_coords == batch_height] = batch_height -2\n",
    "    return t.concatenate((idx_pad, nbh_coords), dim=-1)"
   ]
  },
  {
   "cell_type": "code",
   "execution_count": 9,
   "metadata": {},
   "outputs": [],
   "source": [
    "STEP_SIZES = t.tensor([(1, 1), (1, -1), (1, 0), (-1, 0), (-1, 1), (-1, -1), (0, 1), (0, -1)], device=device)\n",
    "\n",
    "def MCS(batch, temperature):\n",
    "    batch_size, batch_height, _ = batch.shape\n",
    "    \n",
    "    #########################################################\n",
    "    # 1. Find source and target coordinates for each sample #\n",
    "    #########################################################\n",
    "    # Find all pixels that belong to a cell, or border a cell \n",
    "    frontiers = get_moore_nbh(batch)\n",
    "    src_coords = []\n",
    "    for batch_idx in range(batch_size):\n",
    "        frontier = frontiers[frontiers[:, :, 0] == batch_idx, :].unique(dim=0)\n",
    "        src_coords.append(random.choice(frontier).type(t.long))\n",
    "    batch_src_coords = t.vstack(src_coords)\n",
    "    step_sizes = t.vstack(random.choices(STEP_SIZES, k=batch_src_coords.shape[0]))\n",
    "    tgt_coords = t.hstack((batch_src_coords[:, 0].unsqueeze(0).T, batch_src_coords[:, 1:] + step_sizes))\n",
    "    tgt_coords[:, 1:][tgt_coords[:, 1:] == -1] = 1\n",
    "    tgt_coords[:, 1:][tgt_coords[:, 1:] == batch_height] = batch_height -2\n",
    "    tgt_i = tgt_coords[:, 0]\n",
    "    tgt_j = tgt_coords[:, 1]\n",
    "    tgt_k = tgt_coords[:, 2]\n",
    "    src_i = batch_src_coords[:, 0]\n",
    "    src_j = batch_src_coords[:, 1]\n",
    "    src_k = batch_src_coords[:, 2]\n",
    "    \n",
    "    #########################################################################\n",
    "    # 2. Calculate the changes in volume that the copy attempts would cause #\n",
    "    #########################################################################\n",
    "    current_volumes = t.sum(batch, dim=(-1, -2))\n",
    "    vol_changes = (-1 * batch[tgt_i, tgt_j, tgt_k]) + batch[src_i, src_j, src_k]\n",
    "    adjusted_vols = current_volumes + vol_changes\n",
    "    \n",
    "    #########################################################\n",
    "    # 3. Define boolean masks based on the volume changes   #\n",
    "    #########################################################\n",
    "    sml_eq_two_mask = adjusted_vols <= 2\n",
    "    greater_zero_mask = adjusted_vols > 0\n",
    "    vol_change_positive_mask = vol_changes > 0\n",
    "    vol_change_negative_mask = vol_changes < 0\n",
    "    \n",
    "    #########################################################\n",
    "    # 4. auto accept each attempt with negative vol. change #\n",
    "    # that fulfills the hard volume constraint              #\n",
    "    #########################################################\n",
    "    auto_upd_mask = t.logical_and(\n",
    "        vol_change_negative_mask,\n",
    "        greater_zero_mask\n",
    "    )\n",
    "    auto_upd_i = tgt_i[auto_upd_mask]\n",
    "    auto_upd_j = tgt_j[auto_upd_mask]\n",
    "    auto_upd_k = tgt_k[auto_upd_mask]\n",
    "    batch[auto_upd_i, auto_upd_j, auto_upd_k] += vol_changes[auto_upd_mask]\n",
    "    \n",
    "    ##################################################################\n",
    "    # 5. stochastic update of the attempts with positive vol. change #\n",
    "    ################################################################## \n",
    "    update_mask = t.logical_and(\n",
    "        vol_change_positive_mask,\n",
    "        sml_eq_two_mask\n",
    "    )\n",
    "    update_probability = t.sigmoid(temperature)\n",
    "    #print(update_probability)\n",
    "    logit = t.log(t.hstack((update_probability, (1-update_probability))))\n",
    "    batch_logits = logit.repeat((vol_changes[update_mask].shape[0],1))\n",
    "    one_hot = t.nn.functional.gumbel_softmax(batch_logits, hard=True)\n",
    "    \n",
    "    upd_vals = one_hot[:, 0] * vol_changes[update_mask]\n",
    "    upd_i = tgt_i[update_mask]\n",
    "    upd_j = tgt_j[update_mask]\n",
    "    upd_k = tgt_k[update_mask]\n",
    "    batch[upd_i, upd_j, upd_k] += upd_vals.squeeze()\n",
    "    \n",
    "    return batch\n",
    "    "
   ]
  },
  {
   "cell_type": "code",
   "execution_count": 20,
   "metadata": {},
   "outputs": [],
   "source": [
    "STEP_SIZES = t.tensor([(1, 0), (0, 1), (-1, 0), (0, -1), (1, 1), (1, -1), (-1, 1), (-1, -1)], device=device)\n",
    "def MCS(batch, temperature):\n",
    "    batch_size, batch_height, _ = batch.shape\n",
    "    \n",
    "    #########################################################\n",
    "    # 1. Find source and target coordinates for each sample #\n",
    "    #########################################################\n",
    "    # Find all pixels that belong to a cell, or border a cell \n",
    "    frontiers = get_moore_nbh(batch)\n",
    "    src_coords = []\n",
    "    for batch_idx in range(batch_size):\n",
    "        frontier = frontiers[frontiers[:, :, 0] == batch_idx, :].unique(dim=0)\n",
    "        src_coords.append(random.choice(frontier).type(t.long))\n",
    "    batch_src_coords = t.vstack(src_coords)\n",
    "    p_f = np.sqrt(2.)\n",
    "    p_side = (p_f - 1)*p_f/4\n",
    "    p_diag = (p_f - 1)/4\n",
    "    step_size_idx = t.tensor(np.random.choice(\n",
    "            STEP_SIZES.shape[0],\n",
    "            size=batch_src_coords.shape[0],\n",
    "            replace=True,\n",
    "            p=[p_side, p_side, p_side, p_side, p_diag, p_diag, p_diag, p_diag])).type(t.long)\n",
    "    step_sizes = STEP_SIZES[step_size_idx]\n",
    "    tgt_coords = t.hstack((batch_src_coords[:, 0].unsqueeze(0).T, batch_src_coords[:, 1:] + step_sizes))\n",
    "    tgt_coords[:, 1:][tgt_coords[:, 1:] == -1] = 1\n",
    "    tgt_coords[:, 1:][tgt_coords[:, 1:] == batch_height] = batch_height -2\n",
    "    tgt_i = tgt_coords[:, 0]\n",
    "    tgt_j = tgt_coords[:, 1]\n",
    "    tgt_k = tgt_coords[:, 2]\n",
    "    src_i = batch_src_coords[:, 0]\n",
    "    src_j = batch_src_coords[:, 1]\n",
    "    src_k = batch_src_coords[:, 2]\n",
    "    \n",
    "    #########################################################################\n",
    "    # 2. Calculate the changes in volume that the copy attempts would cause #\n",
    "    #########################################################################\n",
    "    current_volumes = t.sum(batch, dim=(-1, -2))\n",
    "    vol_changes = (-1 * batch[tgt_i, tgt_j, tgt_k]) + batch[src_i, src_j, src_k]\n",
    "    adjusted_vols = current_volumes + vol_changes\n",
    "    \n",
    "    #########################################################\n",
    "    # 3. Define boolean masks based on the volume changes   #\n",
    "    #########################################################\n",
    "    sml_eq_two_mask = adjusted_vols <= 2\n",
    "    greater_zero_mask = adjusted_vols > 0\n",
    "    vol_change_positive_mask = vol_changes > 0\n",
    "    vol_change_negative_mask = vol_changes < 0\n",
    "    \n",
    "    #########################################################\n",
    "    # 4. auto accept each attempt with negative vol. change #\n",
    "    # that fulfills the hard volume constraint              #\n",
    "    #########################################################\n",
    "    auto_upd_mask = t.logical_and(\n",
    "        vol_change_negative_mask,\n",
    "        greater_zero_mask\n",
    "    )\n",
    "    auto_upd_i = tgt_i[auto_upd_mask]\n",
    "    auto_upd_j = tgt_j[auto_upd_mask]\n",
    "    auto_upd_k = tgt_k[auto_upd_mask]\n",
    "    batch[auto_upd_i, auto_upd_j, auto_upd_k] += vol_changes[auto_upd_mask]\n",
    "    \n",
    "    ##################################################################\n",
    "    # 5. stochastic update of the attempts with positive vol. change #\n",
    "    ################################################################## \n",
    "    update_mask = t.logical_and(\n",
    "        vol_change_positive_mask,\n",
    "        sml_eq_two_mask\n",
    "    )\n",
    "    update_probability = t.exp(-temperature)\n",
    "    logit = t.log(t.hstack((update_probability, (1-update_probability))))\n",
    "    batch_logits = logit.repeat((vol_changes[update_mask].shape[0],1))\n",
    "    one_hot = t.nn.functional.gumbel_softmax(batch_logits, hard=True)\n",
    "    \n",
    "    upd_vals = one_hot[:, 0] * vol_changes[update_mask]\n",
    "    upd_i = tgt_i[update_mask]\n",
    "    upd_j = tgt_j[update_mask]\n",
    "    upd_k = tgt_k[update_mask]\n",
    "    batch[upd_i, upd_j, upd_k] += upd_vals.squeeze()\n",
    "    \n",
    "    return batch\n",
    "    "
   ]
  },
  {
   "cell_type": "code",
   "execution_count": 10,
   "metadata": {},
   "outputs": [],
   "source": [
    "def step(batch:t.Tensor, dist_matrix:t.Tensor, temperature:t.Tensor, eta:float, num_steps:int, target_distance:float):\n",
    "    for i in tqdm(range(num_steps)):\n",
    "        batch = MCS(batch, temperature)\n",
    "        if t.any(t.sum(batch, dim=(-1,-2)) == 0) or t.any(t.sum(batch, dim=(-1,-2)) > 2):\n",
    "            print(\"ISSUE DETECTED, STOP SIM\")\n",
    "            return None, None\n",
    "    # calc the distance after 100 steps    \n",
    "    distances = t.sum(batch * dist_matrix, dim=(-1,-2)) / t.sum(batch, dim=(-1,-2))\n",
    "    mean_distance = t.mean(distances)\n",
    "    print(f\"temperature: {temperature}, update_prob:{t.sigmoid(temperature)} mean distance: {mean_distance}\")\n",
    "    loss = (mean_distance - target_distance)**2\n",
    "    grad = t.autograd.grad(loss, temperature)[0]\n",
    "    print(f\"gradient: {grad}\")\n",
    "    return t.clamp(temperature - (eta * grad), min=1e-5, max=40.), grad, mean_distance, loss"
   ]
  },
  {
   "cell_type": "code",
   "execution_count": 13,
   "metadata": {},
   "outputs": [
    {
     "name": "stderr",
     "output_type": "stream",
     "text": [
      "100%|██████████| 100/100 [00:19<00:00,  5.21it/s]\n"
     ]
    },
    {
     "name": "stdout",
     "output_type": "stream",
     "text": [
      "temperature: -3.0, update_prob:0.04742587357759476 mean distance: 0.395\n",
      "gradient: -2.729947566986084\n"
     ]
    },
    {
     "name": "stderr",
     "output_type": "stream",
     "text": [
      "100%|██████████| 100/100 [00:19<00:00,  5.26it/s]\n"
     ]
    },
    {
     "name": "stdout",
     "output_type": "stream",
     "text": [
      "temperature: -2.7931034564971924, update_prob:0.05769799277186394 mean distance: 0.4745\n",
      "gradient: -2.7370009422302246\n"
     ]
    },
    {
     "name": "stderr",
     "output_type": "stream",
     "text": [
      "100%|██████████| 100/100 [00:18<00:00,  5.28it/s]\n"
     ]
    },
    {
     "name": "stdout",
     "output_type": "stream",
     "text": [
      "temperature: -2.5862069129943848, update_prob:0.07003141194581985 mean distance: 0.549\n",
      "gradient: -2.644878387451172\n"
     ]
    },
    {
     "name": "stderr",
     "output_type": "stream",
     "text": [
      "100%|██████████| 100/100 [00:18<00:00,  5.26it/s]\n"
     ]
    },
    {
     "name": "stdout",
     "output_type": "stream",
     "text": [
      "temperature: -2.379310369491577, update_prob:0.08476405590772629 mean distance: 0.6675\n",
      "gradient: -2.474626064300537\n"
     ]
    },
    {
     "name": "stderr",
     "output_type": "stream",
     "text": [
      "100%|██████████| 100/100 [00:19<00:00,  5.12it/s]\n"
     ]
    },
    {
     "name": "stdout",
     "output_type": "stream",
     "text": [
      "temperature: -2.1724138259887695, update_prob:0.10225523263216019 mean distance: 0.8335\n",
      "gradient: -2.1945571899414062\n"
     ]
    },
    {
     "name": "stderr",
     "output_type": "stream",
     "text": [
      "100%|██████████| 100/100 [00:19<00:00,  5.14it/s]\n"
     ]
    },
    {
     "name": "stdout",
     "output_type": "stream",
     "text": [
      "temperature: -1.9655171632766724, update_prob:0.12287120521068573 mean distance: 0.936\n",
      "gradient: -1.958207130432129\n"
     ]
    },
    {
     "name": "stderr",
     "output_type": "stream",
     "text": [
      "100%|██████████| 100/100 [00:19<00:00,  5.22it/s]\n"
     ]
    },
    {
     "name": "stdout",
     "output_type": "stream",
     "text": [
      "temperature: -1.7586206197738647, update_prob:0.1469631791114807 mean distance: 1.0535\n",
      "gradient: -1.6012587547302246\n"
     ]
    },
    {
     "name": "stderr",
     "output_type": "stream",
     "text": [
      "100%|██████████| 100/100 [00:19<00:00,  5.15it/s]\n"
     ]
    },
    {
     "name": "stdout",
     "output_type": "stream",
     "text": [
      "temperature: -1.5517240762710571, update_prob:0.1748373955488205 mean distance: 1.2215\n",
      "gradient: -1.2433335781097412\n"
     ]
    },
    {
     "name": "stderr",
     "output_type": "stream",
     "text": [
      "100%|██████████| 100/100 [00:20<00:00,  4.92it/s]\n"
     ]
    },
    {
     "name": "stdout",
     "output_type": "stream",
     "text": [
      "temperature: -1.3448275327682495, update_prob:0.20671729743480682 mean distance: 1.485\n",
      "gradient: -0.6921135783195496\n"
     ]
    },
    {
     "name": "stderr",
     "output_type": "stream",
     "text": [
      "100%|██████████| 100/100 [00:19<00:00,  5.06it/s]\n"
     ]
    },
    {
     "name": "stdout",
     "output_type": "stream",
     "text": [
      "temperature: -1.137930989265442, update_prob:0.24270041286945343 mean distance: 1.6445\n",
      "gradient: -0.4213044047355652\n"
     ]
    },
    {
     "name": "stderr",
     "output_type": "stream",
     "text": [
      "100%|██████████| 100/100 [00:19<00:00,  5.07it/s]\n"
     ]
    },
    {
     "name": "stdout",
     "output_type": "stream",
     "text": [
      "temperature: -0.9310344457626343, update_prob:0.2827149033546448 mean distance: 2.0055\n",
      "gradient: 0.004158674739301205\n"
     ]
    },
    {
     "name": "stderr",
     "output_type": "stream",
     "text": [
      "100%|██████████| 100/100 [00:20<00:00,  5.00it/s]\n"
     ]
    },
    {
     "name": "stdout",
     "output_type": "stream",
     "text": [
      "temperature: -0.7241378426551819, update_prob:0.3264824450016022 mean distance: 2.23\n",
      "gradient: 0.14000257849693298\n"
     ]
    },
    {
     "name": "stderr",
     "output_type": "stream",
     "text": [
      "100%|██████████| 100/100 [00:20<00:00,  4.96it/s]\n"
     ]
    },
    {
     "name": "stdout",
     "output_type": "stream",
     "text": [
      "temperature: -0.5172412991523743, update_prob:0.37349751591682434 mean distance: 2.5945\n",
      "gradient: 0.0700121819972992\n"
     ]
    },
    {
     "name": "stderr",
     "output_type": "stream",
     "text": [
      "100%|██████████| 100/100 [00:20<00:00,  4.93it/s]\n"
     ]
    },
    {
     "name": "stdout",
     "output_type": "stream",
     "text": [
      "temperature: -0.3103446960449219, update_prob:0.4230306148529053 mean distance: 2.6085\n",
      "gradient: 0.2131580263376236\n"
     ]
    },
    {
     "name": "stderr",
     "output_type": "stream",
     "text": [
      "100%|██████████| 100/100 [00:20<00:00,  4.88it/s]\n"
     ]
    },
    {
     "name": "stdout",
     "output_type": "stream",
     "text": [
      "temperature: -0.10344815254211426, update_prob:0.4741609990596771 mean distance: 3.0925\n",
      "gradient: -0.3987887501716614\n"
     ]
    },
    {
     "name": "stderr",
     "output_type": "stream",
     "text": [
      "100%|██████████| 100/100 [00:20<00:00,  4.87it/s]\n"
     ]
    },
    {
     "name": "stdout",
     "output_type": "stream",
     "text": [
      "temperature: 0.10344839096069336, update_prob:0.52583909034729 mean distance: 2.936\n",
      "gradient: -0.0711488127708435\n"
     ]
    },
    {
     "name": "stderr",
     "output_type": "stream",
     "text": [
      "100%|██████████| 100/100 [00:20<00:00,  4.84it/s]\n"
     ]
    },
    {
     "name": "stdout",
     "output_type": "stream",
     "text": [
      "temperature: 0.3103446960449219, update_prob:0.5769694447517395 mean distance: 3.362\n",
      "gradient: -0.34184879064559937\n"
     ]
    },
    {
     "name": "stderr",
     "output_type": "stream",
     "text": [
      "100%|██████████| 100/100 [00:20<00:00,  4.87it/s]\n"
     ]
    },
    {
     "name": "stdout",
     "output_type": "stream",
     "text": [
      "temperature: 0.5172412395477295, update_prob:0.6265023946762085 mean distance: 3.3995\n",
      "gradient: -0.35512030124664307\n"
     ]
    },
    {
     "name": "stderr",
     "output_type": "stream",
     "text": [
      "100%|██████████| 100/100 [00:20<00:00,  4.81it/s]\n"
     ]
    },
    {
     "name": "stdout",
     "output_type": "stream",
     "text": [
      "temperature: 0.7241377830505371, update_prob:0.6735175251960754 mean distance: 3.4475\n",
      "gradient: -0.23171868920326233\n"
     ]
    },
    {
     "name": "stderr",
     "output_type": "stream",
     "text": [
      "100%|██████████| 100/100 [00:20<00:00,  4.80it/s]\n"
     ]
    },
    {
     "name": "stdout",
     "output_type": "stream",
     "text": [
      "temperature: 0.9310343265533447, update_prob:0.7172850966453552 mean distance: 3.97\n",
      "gradient: -0.6258020997047424\n"
     ]
    },
    {
     "name": "stderr",
     "output_type": "stream",
     "text": [
      "100%|██████████| 100/100 [00:20<00:00,  4.78it/s]\n"
     ]
    },
    {
     "name": "stdout",
     "output_type": "stream",
     "text": [
      "temperature: 1.137930989265442, update_prob:0.757299542427063 mean distance: 4.087\n",
      "gradient: -0.6859262585639954\n"
     ]
    },
    {
     "name": "stderr",
     "output_type": "stream",
     "text": [
      "100%|██████████| 100/100 [00:20<00:00,  4.79it/s]\n"
     ]
    },
    {
     "name": "stdout",
     "output_type": "stream",
     "text": [
      "temperature: 1.3448275327682495, update_prob:0.7932827472686768 mean distance: 4.1615\n",
      "gradient: -0.5827761888504028\n"
     ]
    },
    {
     "name": "stderr",
     "output_type": "stream",
     "text": [
      "100%|██████████| 100/100 [00:21<00:00,  4.74it/s]\n"
     ]
    },
    {
     "name": "stdout",
     "output_type": "stream",
     "text": [
      "temperature: 1.5517240762710571, update_prob:0.8251625895500183 mean distance: 4.258\n",
      "gradient: -0.5720805525779724\n"
     ]
    },
    {
     "name": "stderr",
     "output_type": "stream",
     "text": [
      "100%|██████████| 100/100 [00:21<00:00,  4.71it/s]\n"
     ]
    },
    {
     "name": "stdout",
     "output_type": "stream",
     "text": [
      "temperature: 1.7586206197738647, update_prob:0.8530368208885193 mean distance: 4.172\n",
      "gradient: -0.33361220359802246\n"
     ]
    },
    {
     "name": "stderr",
     "output_type": "stream",
     "text": [
      "100%|██████████| 100/100 [00:21<00:00,  4.75it/s]\n"
     ]
    },
    {
     "name": "stdout",
     "output_type": "stream",
     "text": [
      "temperature: 1.9655171632766724, update_prob:0.8771287798881531 mean distance: 4.562\n",
      "gradient: -0.41180652379989624\n"
     ]
    },
    {
     "name": "stderr",
     "output_type": "stream",
     "text": [
      "100%|██████████| 100/100 [00:21<00:00,  4.72it/s]\n"
     ]
    },
    {
     "name": "stdout",
     "output_type": "stream",
     "text": [
      "temperature: 2.1724138259887695, update_prob:0.8977447748184204 mean distance: 4.356\n",
      "gradient: -0.185653418302536\n"
     ]
    },
    {
     "name": "stderr",
     "output_type": "stream",
     "text": [
      "100%|██████████| 100/100 [00:21<00:00,  4.69it/s]\n"
     ]
    },
    {
     "name": "stdout",
     "output_type": "stream",
     "text": [
      "temperature: 2.379310369491577, update_prob:0.9152359366416931 mean distance: 4.5245\n",
      "gradient: -0.3288518786430359\n"
     ]
    },
    {
     "name": "stderr",
     "output_type": "stream",
     "text": [
      "100%|██████████| 100/100 [00:21<00:00,  4.70it/s]\n"
     ]
    },
    {
     "name": "stdout",
     "output_type": "stream",
     "text": [
      "temperature: 2.5862069129943848, update_prob:0.9299685955047607 mean distance: 4.6805\n",
      "gradient: -0.35919415950775146\n"
     ]
    },
    {
     "name": "stderr",
     "output_type": "stream",
     "text": [
      "100%|██████████| 100/100 [00:22<00:00,  4.54it/s]\n"
     ]
    },
    {
     "name": "stdout",
     "output_type": "stream",
     "text": [
      "temperature: 2.7931034564971924, update_prob:0.9423019886016846 mean distance: 4.6785\n",
      "gradient: -0.25592103600502014\n"
     ]
    },
    {
     "name": "stderr",
     "output_type": "stream",
     "text": [
      "100%|██████████| 100/100 [00:21<00:00,  4.64it/s]"
     ]
    },
    {
     "name": "stdout",
     "output_type": "stream",
     "text": [
      "temperature: 3.0, update_prob:0.9525741338729858 mean distance: 4.5895\n",
      "gradient: -0.19924701750278473\n"
     ]
    },
    {
     "name": "stderr",
     "output_type": "stream",
     "text": [
      "\n"
     ]
    }
   ],
   "source": [
    "temps = t.linspace(-3,3,30)\n",
    "ref = t.zeros(1,16,16, device=device)\n",
    "ref[:,8,8] += 1\n",
    "dist_matrix = create_dist_matrix(ref)\n",
    "target_distance = 2.\n",
    "\n",
    "grads = []\n",
    "mean_distances = []\n",
    "losses = []\n",
    "for temp in temps:\n",
    "    temp.requires_grad_()\n",
    "    batch = t.zeros(1000,16,16, device=device)\n",
    "    batch[:,8,8] += 1\n",
    "    new_temp, grad, mean_distance, loss = step(batch, dist_matrix, temp, eta=1, num_steps=100, target_distance=target_distance)\n",
    "    grads.append(grad.detach().cpu().numpy())\n",
    "    mean_distances.append(mean_distance.detach().cpu().numpy())\n",
    "    losses.append(loss.detach().cpu().numpy())"
   ]
  },
  {
   "cell_type": "code",
   "execution_count": 18,
   "metadata": {},
   "outputs": [
    {
     "data": {
      "image/png": "[encoded data removed]",
      "text/plain": [
       "<Figure size 640x480 with 1 Axes>"
      ]
     },
     "metadata": {},
     "output_type": "display_data"
    }
   ],
   "source": [
    "simple_res_plot(temps, grads, losses)"
   ]
  },
  {
   "cell_type": "code",
   "execution_count": 36,
   "metadata": {},
   "outputs": [
    {
     "name": "stderr",
     "output_type": "stream",
     "text": [
      "100%|██████████| 1/1 [00:00<00:00, 501.47it/s]\n"
     ]
    },
    {
     "data": {
      "text/plain": [
       "'compgraph_1_1.dot'"
      ]
     },
     "execution_count": 36,
     "metadata": {},
     "output_type": "execute_result"
    }
   ],
   "source": [
    "from torchviz import make_dot, make_dot_from_trace\n",
    "import os\n",
    "os.environ[\"PATH\"] += os.pathsep + 'C:/Users/jsche/Graphviz/bin/'\n",
    "\n",
    "temps = t.linspace(-3,3,30)\n",
    "ref = t.zeros(1,16,16, device=device)\n",
    "ref[:,8,8] += 1\n",
    "dist_matrix = create_dist_matrix(ref)\n",
    "target_distance = 2.\n",
    "batch = t.zeros(1,16,16, device=device)\n",
    "batch[:,8,8] += 1    \n",
    "\n",
    "temperature = t.tensor(1.)\n",
    "temperature.requires_grad_()\n",
    "for i in tqdm(range(1)):    \n",
    "    batch = MCS(batch, temperature)\n",
    "distances = t.sum(batch * dist_matrix, dim=(-1,-2)) / t.sum(batch, dim=(-1,-2))\n",
    "mean_distance = t.mean(distances)\n",
    "loss = (mean_distance - target_distance)**2\n",
    "#grad = t.autograd.grad(loss, temperature)[0]\n",
    "#make_dot(loss, {\"temp\": temperature})\n",
    "dot = make_dot(loss, {\"temp\": temperature})\n",
    "dot.render(\"compgraph_1_1\", format=\"dot\")"
   ]
  },
  {
   "cell_type": "code",
   "execution_count": 34,
   "metadata": {},
   "outputs": [
    {
     "data": {
      "text/plain": [
       "'compgraph_c10.png'"
      ]
     },
     "execution_count": 34,
     "metadata": {},
     "output_type": "execute_result"
    }
   ],
   "source": [
    "dot.render(\"compgraph_c10\", format=\"png\")"
   ]
  },
  {
   "cell_type": "code",
   "execution_count": null,
   "metadata": {},
   "outputs": [],
   "source": []
  }
 ],
 "metadata": {
  "kernelspec": {
   "display_name": "torchenv",
   "language": "python",
   "name": "python3"
  },
  "language_info": {
   "codemirror_mode": {
    "name": "ipython",
    "version": 3
   },
   "file_extension": ".py",
   "mimetype": "text/x-python",
   "name": "python",
   "nbconvert_exporter": "python",
   "pygments_lexer": "ipython3",
   "version": "3.10.6"
  },
  "orig_nbformat": 4
 },
 "nbformat": 4,
 "nbformat_minor": 2
}
