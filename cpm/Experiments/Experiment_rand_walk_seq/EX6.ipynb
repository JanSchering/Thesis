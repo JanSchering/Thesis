{
 "cells": [
  {
   "attachments": {},
   "cell_type": "markdown",
   "metadata": {},
   "source": [
    "# What if we increase the sim time?"
   ]
  },
  {
   "cell_type": "code",
   "execution_count": 1,
   "metadata": {},
   "outputs": [],
   "source": [
    "import torch as t\n",
    "from scipy import ndimage\n",
    "import numpy as np\n",
    "import random\n",
    "from tqdm import tqdm\n",
    "import matplotlib.pyplot as plt\n",
    "import numpy as np\n",
    "from PIL import Image"
   ]
  },
  {
   "cell_type": "code",
   "execution_count": 2,
   "metadata": {},
   "outputs": [],
   "source": [
    "device = t.device('cuda' if t.cuda.is_available() else 'cpu')"
   ]
  },
  {
   "cell_type": "code",
   "execution_count": 3,
   "metadata": {},
   "outputs": [],
   "source": [
    "MOORE_OFFSETS = t.tensor([(1, 1), (1, -1), (1, 0), (-1, 0), (0, 0), (-1, 1), (-1, -1), (0, 1), (0, -1)], device=device)\n",
    "def get_moore_nbh(batch:t.Tensor):\n",
    "    cell_pixel_coords = (batch == 1).nonzero()\n",
    "    nbh_coords = (cell_pixel_coords[:, 1:].unsqueeze(1)+MOORE_OFFSETS.type(t.float).unsqueeze(0))\n",
    "    idx_pad = cell_pixel_coords[:, 0].repeat(9,1).T.reshape(cell_pixel_coords[:, 0].shape[0], 9, 1)\n",
    "    return t.concatenate((idx_pad, nbh_coords), dim=-1)"
   ]
  },
  {
   "cell_type": "code",
   "execution_count": 4,
   "metadata": {},
   "outputs": [],
   "source": [
    "STEP_SIZES = t.tensor([(1, 1), (1, -1), (1, 0), (-1, 0), (-1, 1), (-1, -1), (0, 1), (0, -1)], device=device)\n",
    "\n",
    "def MCS(batch, target_vol, temperature):\n",
    "    batch_size, batch_height, batch_width = batch.shape\n",
    "    frontiers = get_moore_nbh(batch)\n",
    "    \n",
    "    src_coords = []\n",
    "    for batch_idx in range(batch_size):\n",
    "        frontier = frontiers[frontiers[:, :, 0] == batch_idx, :].unique(dim=0)\n",
    "        src_coords.append(random.choice(frontier).type(t.long))\n",
    "    batch_src_coords = t.vstack(src_coords)\n",
    "    step_sizes = t.vstack(random.choices(STEP_SIZES, k=batch_src_coords.shape[0]))\n",
    "    tgt_coords = t.hstack((batch_src_coords[:, 0].unsqueeze(0).T, batch_src_coords[:, 1:] + step_sizes))\n",
    "    tgt_coords[:, 1:][tgt_coords[:, 1:] == -1] = 1\n",
    "    tgt_coords[:, 1:][tgt_coords[:, 1:] == batch_height] = batch_height -2\n",
    "    tgt_i = tgt_coords[:, 0]\n",
    "    tgt_j = tgt_coords[:, 1]\n",
    "    tgt_k = tgt_coords[:, 2]\n",
    "    src_i = batch_src_coords[:, 0]\n",
    "    src_j = batch_src_coords[:, 1]\n",
    "    src_k = batch_src_coords[:, 2]\n",
    "    \n",
    "    \n",
    "    current_volumes = t.sum(batch, dim=(-1, -2))\n",
    "    vol_changes = (-1 * batch[tgt_i, tgt_j, tgt_k]) + batch[src_i, src_j, src_k]\n",
    "    adjusted_vols = current_volumes + vol_changes\n",
    "    \n",
    "    unequal_mask = batch[tgt_i, tgt_j, tgt_k] != batch[src_i, src_j, src_k]\n",
    "    sml_eq_two_mask = adjusted_vols <= 2\n",
    "    greater_zero_mask = adjusted_vols > 0\n",
    "    update_mask = t.logical_and(greater_zero_mask, t.logical_and(unequal_mask, sml_eq_two_mask))\n",
    "    \n",
    "    #print(f\"delta h {-((target_vol - adjusted_vols[update_mask]) ** 2)}\")\n",
    "    update_probabilities = t.exp(-((target_vol - adjusted_vols[update_mask]) ** 2) / temperature)\n",
    "    #print(f\"prob: {update_probabilities}\")\n",
    "    logits = t.cat((update_probabilities.unsqueeze(0), (1-update_probabilities).unsqueeze(0))).T\n",
    "    #print(f\"logits: {logits}\")\n",
    "    one_hot = t.nn.functional.gumbel_softmax(t.log(logits), hard=True)\n",
    "    #print(one_hot)\n",
    "    upd_vals = one_hot[:,0] * vol_changes[update_mask]\n",
    "    \n",
    "    upd_i = tgt_i[update_mask]\n",
    "    upd_j = tgt_j[update_mask]\n",
    "    upd_k = tgt_k[update_mask]\n",
    "    \n",
    "    #print(upd_i, upd_j, upd_k)\n",
    "    \n",
    "    batch[upd_i, upd_j, upd_k] += upd_vals.squeeze()\n",
    "    \n",
    "    return batch\n",
    "    "
   ]
  },
  {
   "cell_type": "code",
   "execution_count": 5,
   "metadata": {},
   "outputs": [],
   "source": [
    "def step(batch:t.Tensor, dist_matrix:t.Tensor, temperature:t.Tensor, target_vol:float, eta:float):\n",
    "    temperature.requires_grad_()\n",
    "    for i in tqdm(range(500)):\n",
    "        #print(f\"-------- MCS {i} --------------\")\n",
    "        batch = MCS(batch, target_vol, temperature)\n",
    "        if t.any(t.sum(batch, dim=(-1,-2)) == 0) or t.any(t.sum(batch, dim=(-1,-2)) > 2):\n",
    "            print(\"ISSUE DETECTED, STOP SIM\")\n",
    "            return None, None\n",
    "    # calc the distance after 100 steps    \n",
    "    distances = t.sum(batch * dist_matrix, dim=(-1,-2)) / t.sum(batch, dim=(-1,-2))\n",
    "    mean_distance = t.mean(distances)\n",
    "    std_distance = t.std(distances)\n",
    "    print(f\"temperature: {temperature}, mean distance: {mean_distance}, standard dev.: {std_distance}\")\n",
    "    loss = (mean_distance - 5)**2 + (std_distance - 5)**2\n",
    "    print(f\"loss: {loss}\")\n",
    "    grad = t.autograd.grad(loss, temperature)[0]\n",
    "    print(f\"gradient: {grad}\")\n",
    "    return t.clamp(temperature - (eta * grad), min=1e-5, max=40.), grad, loss, mean_distance, std_distance"
   ]
  },
  {
   "cell_type": "code",
   "execution_count": 6,
   "metadata": {},
   "outputs": [
    {
     "name": "stdout",
     "output_type": "stream",
     "text": [
      "tensor([[8192.0000, 8065.0000, 7940.0000,  ..., 7817.0000, 7940.0000,\n",
      "         8065.0000],\n",
      "        [8065.0000, 7938.0000, 7813.0000,  ..., 7690.0000, 7813.0000,\n",
      "         7938.0000],\n",
      "        [7940.0000, 7813.0000, 7688.0000,  ..., 7565.0000, 7688.0000,\n",
      "         7813.0000],\n",
      "        ...,\n",
      "        [7817.0000, 7690.0000, 7565.0000,  ..., 7442.0000, 7565.0000,\n",
      "         7690.0000],\n",
      "        [7940.0000, 7813.0000, 7688.0000,  ..., 7565.0000, 7688.0000,\n",
      "         7813.0000],\n",
      "        [8065.0000, 7938.0000, 7813.0000,  ..., 7690.0000, 7813.0000,\n",
      "         7938.0000]], device='cuda:0', dtype=torch.float64)\n"
     ]
    }
   ],
   "source": [
    "init_state = t.zeros(1000,128,128, device=device)\n",
    "init_state[:,64,64] += 1\n",
    "ref_state = init_state.detach().clone()\n",
    "\n",
    "dist_matrix:np.ndarray = ndimage.distance_transform_edt(1-init_state[0].cpu(), return_indices=False)\n",
    "dist_matrix = dist_matrix**2\n",
    "dist_matrix_t = t.from_numpy(dist_matrix).to(device)\n",
    "print(dist_matrix_t)"
   ]
  },
  {
   "cell_type": "code",
   "execution_count": 7,
   "metadata": {},
   "outputs": [
    {
     "name": "stderr",
     "output_type": "stream",
     "text": [
      "100%|██████████| 500/500 [05:32<00:00,  1.50it/s]\n"
     ]
    },
    {
     "name": "stdout",
     "output_type": "stream",
     "text": [
      "temperature: 1.0, mean distance: 0.7505000000000001, standard dev.: 1.2631687717851212\n",
      "loss: 32.02215787816192\n",
      "gradient: 31.868581771850586\n"
     ]
    },
    {
     "name": "stderr",
     "output_type": "stream",
     "text": [
      "100%|██████████| 500/500 [05:45<00:00,  1.45it/s]\n"
     ]
    },
    {
     "name": "stdout",
     "output_type": "stream",
     "text": [
      "temperature: 2.0, mean distance: 4.782, standard dev.: 5.361457004732071\n",
      "loss: 0.1781751662698806\n",
      "gradient: -0.6970993280410767\n"
     ]
    },
    {
     "name": "stderr",
     "output_type": "stream",
     "text": [
      "100%|██████████| 500/500 [05:34<00:00,  1.50it/s]\n"
     ]
    },
    {
     "name": "stdout",
     "output_type": "stream",
     "text": [
      "temperature: 3.0, mean distance: 8.6115, standard dev.: 8.984070976840691\n",
      "loss: 28.915753798504333\n",
      "gradient: -46.06425094604492\n"
     ]
    },
    {
     "name": "stderr",
     "output_type": "stream",
     "text": [
      "100%|██████████| 500/500 [04:51<00:00,  1.71it/s]\n"
     ]
    },
    {
     "name": "stdout",
     "output_type": "stream",
     "text": [
      "temperature: 4.0, mean distance: 11.133000000000001, standard dev.: 11.936993040235476\n",
      "loss: 85.73556144027545\n",
      "gradient: -81.82876586914062\n"
     ]
    },
    {
     "name": "stderr",
     "output_type": "stream",
     "text": [
      "100%|██████████| 500/500 [05:10<00:00,  1.61it/s]\n"
     ]
    },
    {
     "name": "stdout",
     "output_type": "stream",
     "text": [
      "temperature: 5.0, mean distance: 12.935500000000001, standard dev.: 13.433038983521397\n",
      "loss: 134.08830674759162\n",
      "gradient: -74.33268737792969\n"
     ]
    },
    {
     "name": "stderr",
     "output_type": "stream",
     "text": [
      "100%|██████████| 500/500 [04:36<00:00,  1.81it/s]\n"
     ]
    },
    {
     "name": "stdout",
     "output_type": "stream",
     "text": [
      "temperature: 6.0, mean distance: 14.8295, standard dev.: 15.00722813961886\n",
      "loss: 196.76368528837955\n",
      "gradient: -93.5443115234375\n"
     ]
    },
    {
     "name": "stderr",
     "output_type": "stream",
     "text": [
      "100%|██████████| 500/500 [04:46<00:00,  1.74it/s]\n"
     ]
    },
    {
     "name": "stdout",
     "output_type": "stream",
     "text": [
      "temperature: 7.0, mean distance: 15.208, standard dev.: 15.620747217763363\n",
      "loss: 217.00353546362822\n",
      "gradient: -53.5648078918457\n"
     ]
    },
    {
     "name": "stderr",
     "output_type": "stream",
     "text": [
      "100%|██████████| 500/500 [04:49<00:00,  1.73it/s]\n"
     ]
    },
    {
     "name": "stdout",
     "output_type": "stream",
     "text": [
      "temperature: 8.0, mean distance: 16.982, standard dev.: 16.754174960175515\n",
      "loss: 281.72895299441706\n",
      "gradient: -55.39640808105469\n"
     ]
    },
    {
     "name": "stderr",
     "output_type": "stream",
     "text": [
      "100%|██████████| 500/500 [04:44<00:00,  1.76it/s]\n"
     ]
    },
    {
     "name": "stdout",
     "output_type": "stream",
     "text": [
      "temperature: 9.0, mean distance: 17.1055, standard dev.: 17.0666748718967\n",
      "loss: 292.1477727140633\n",
      "gradient: -35.05908203125\n"
     ]
    },
    {
     "name": "stderr",
     "output_type": "stream",
     "text": [
      "100%|██████████| 500/500 [04:53<00:00,  1.71it/s]\n"
     ]
    },
    {
     "name": "stdout",
     "output_type": "stream",
     "text": [
      "temperature: 10.0, mean distance: 17.8495, standard dev.: 17.86103627188191\n",
      "loss: 330.51590423666215\n",
      "gradient: -36.32829666137695\n"
     ]
    },
    {
     "name": "stderr",
     "output_type": "stream",
     "text": [
      "100%|██████████| 500/500 [15:29<00:00,  1.86s/it]\n"
     ]
    },
    {
     "name": "stdout",
     "output_type": "stream",
     "text": [
      "temperature: 11.0, mean distance: 18.1695, standard dev.: 18.8493983850786\n",
      "loss: 365.24156587861773\n",
      "gradient: -35.648468017578125\n"
     ]
    },
    {
     "name": "stderr",
     "output_type": "stream",
     "text": [
      "100%|██████████| 500/500 [16:19<00:00,  1.96s/it]\n"
     ]
    },
    {
     "name": "stdout",
     "output_type": "stream",
     "text": [
      "temperature: 12.0, mean distance: 17.831, standard dev.: 17.820859180059657\n",
      "loss: 329.0089911149199\n",
      "gradient: -12.067797660827637\n"
     ]
    },
    {
     "name": "stderr",
     "output_type": "stream",
     "text": [
      "100%|██████████| 500/500 [04:56<00:00,  1.69it/s]\n"
     ]
    },
    {
     "name": "stdout",
     "output_type": "stream",
     "text": [
      "temperature: 13.0, mean distance: 17.8715, standard dev.: 17.828448935460774\n",
      "loss: 330.24461433972465\n",
      "gradient: 4.2280168533325195\n"
     ]
    },
    {
     "name": "stderr",
     "output_type": "stream",
     "text": [
      "100%|██████████| 500/500 [04:44<00:00,  1.76it/s]\n"
     ]
    },
    {
     "name": "stdout",
     "output_type": "stream",
     "text": [
      "temperature: 14.0, mean distance: 19.177500000000002, standard dev.: 20.35567727464082\n",
      "loss: 436.79833081292054\n",
      "gradient: -4.176975250244141\n"
     ]
    },
    {
     "name": "stderr",
     "output_type": "stream",
     "text": [
      "100%|██████████| 500/500 [04:43<00:00,  1.76it/s]\n"
     ]
    },
    {
     "name": "stdout",
     "output_type": "stream",
     "text": [
      "temperature: 15.0, mean distance: 18.977, standard dev.: 18.93828476169439\n",
      "loss: 389.632311098082\n",
      "gradient: 0.3033508062362671\n"
     ]
    },
    {
     "name": "stderr",
     "output_type": "stream",
     "text": [
      "100%|██████████| 500/500 [04:43<00:00,  1.76it/s]\n"
     ]
    },
    {
     "name": "stdout",
     "output_type": "stream",
     "text": [
      "temperature: 16.0, mean distance: 19.872, standard dev.: 20.228081748866696\n",
      "loss: 453.07085775016697\n",
      "gradient: 10.175811767578125\n"
     ]
    },
    {
     "name": "stderr",
     "output_type": "stream",
     "text": [
      "100%|██████████| 500/500 [04:43<00:00,  1.76it/s]\n"
     ]
    },
    {
     "name": "stdout",
     "output_type": "stream",
     "text": [
      "temperature: 17.0, mean distance: 19.4935, standard dev.: 20.423903733078863\n",
      "loss: 447.9583486172841\n",
      "gradient: 19.94847869873047\n"
     ]
    },
    {
     "name": "stderr",
     "output_type": "stream",
     "text": [
      "100%|██████████| 500/500 [04:50<00:00,  1.72it/s]\n"
     ]
    },
    {
     "name": "stdout",
     "output_type": "stream",
     "text": [
      "temperature: 18.0, mean distance: 20.558, standard dev.: 21.15432915139046\n",
      "loss: 503.0137143314636\n",
      "gradient: 20.639549255371094\n"
     ]
    },
    {
     "name": "stderr",
     "output_type": "stream",
     "text": [
      "100%|██████████| 500/500 [04:44<00:00,  1.76it/s]\n"
     ]
    },
    {
     "name": "stdout",
     "output_type": "stream",
     "text": [
      "temperature: 19.0, mean distance: 19.717, standard dev.: 19.967764603296573\n",
      "loss: 440.62406621969774\n",
      "gradient: 11.74197006225586\n"
     ]
    },
    {
     "name": "stderr",
     "output_type": "stream",
     "text": [
      "100%|██████████| 500/500 [04:46<00:00,  1.75it/s]\n"
     ]
    },
    {
     "name": "stdout",
     "output_type": "stream",
     "text": [
      "temperature: 20.0, mean distance: 19.3165, standard dev.: 18.579162059957046\n",
      "loss: 389.3558145005769\n",
      "gradient: 6.351846218109131\n"
     ]
    },
    {
     "name": "stderr",
     "output_type": "stream",
     "text": [
      "100%|██████████| 500/500 [04:44<00:00,  1.76it/s]\n"
     ]
    },
    {
     "name": "stdout",
     "output_type": "stream",
     "text": [
      "temperature: 21.0, mean distance: 20.6765, standard dev.: 21.21720452368286\n",
      "loss: 508.75037481295976\n",
      "gradient: 18.61270523071289\n"
     ]
    },
    {
     "name": "stderr",
     "output_type": "stream",
     "text": [
      "100%|██████████| 500/500 [04:44<00:00,  1.75it/s]\n"
     ]
    },
    {
     "name": "stdout",
     "output_type": "stream",
     "text": [
      "temperature: 22.0, mean distance: 20.76, standard dev.: 21.43229439968059\n",
      "loss: 518.3978992377741\n",
      "gradient: 42.35232162475586\n"
     ]
    },
    {
     "name": "stderr",
     "output_type": "stream",
     "text": [
      "100%|██████████| 500/500 [04:53<00:00,  1.70it/s]\n"
     ]
    },
    {
     "name": "stdout",
     "output_type": "stream",
     "text": [
      "temperature: 23.0, mean distance: 20.0705, standard dev.: 19.586843146682245\n",
      "loss: 439.89596323591076\n",
      "gradient: 5.112105369567871\n"
     ]
    },
    {
     "name": "stderr",
     "output_type": "stream",
     "text": [
      "100%|██████████| 500/500 [04:46<00:00,  1.74it/s]\n"
     ]
    },
    {
     "name": "stdout",
     "output_type": "stream",
     "text": [
      "temperature: 24.0, mean distance: 20.562, standard dev.: 21.55087228874555\n",
      "loss: 516.1072175183654\n",
      "gradient: 13.451412200927734\n"
     ]
    },
    {
     "name": "stderr",
     "output_type": "stream",
     "text": [
      "100%|██████████| 500/500 [04:50<00:00,  1.72it/s]\n"
     ]
    },
    {
     "name": "stdout",
     "output_type": "stream",
     "text": [
      "temperature: 25.0, mean distance: 19.744500000000002, standard dev.: 19.566740327011654\n",
      "loss: 429.5902040045877\n",
      "gradient: 10.937827110290527\n"
     ]
    },
    {
     "name": "stderr",
     "output_type": "stream",
     "text": [
      "100%|██████████| 500/500 [04:45<00:00,  1.75it/s]\n"
     ]
    },
    {
     "name": "stdout",
     "output_type": "stream",
     "text": [
      "temperature: 26.0, mean distance: 20.906, standard dev.: 22.141294019615813\n",
      "loss: 546.8247966669168\n",
      "gradient: 14.610126495361328\n"
     ]
    },
    {
     "name": "stderr",
     "output_type": "stream",
     "text": [
      "100%|██████████| 500/500 [04:52<00:00,  1.71it/s]\n"
     ]
    },
    {
     "name": "stdout",
     "output_type": "stream",
     "text": [
      "temperature: 27.0, mean distance: 20.192, standard dev.: 21.423610993213927\n",
      "loss: 500.53186205641737\n",
      "gradient: 13.833443641662598\n"
     ]
    },
    {
     "name": "stderr",
     "output_type": "stream",
     "text": [
      "100%|██████████| 500/500 [04:44<00:00,  1.76it/s]\n"
     ]
    },
    {
     "name": "stdout",
     "output_type": "stream",
     "text": [
      "temperature: 28.0, mean distance: 20.999, standard dev.: 21.0858865903446\n",
      "loss: 514.7237483974282\n",
      "gradient: 14.718512535095215\n"
     ]
    },
    {
     "name": "stderr",
     "output_type": "stream",
     "text": [
      "100%|██████████| 500/500 [04:48<00:00,  1.73it/s]\n"
     ]
    },
    {
     "name": "stdout",
     "output_type": "stream",
     "text": [
      "temperature: 29.0, mean distance: 20.686, standard dev.: 20.740433218452807\n",
      "loss: 493.8118339045726\n",
      "gradient: 13.811874389648438\n"
     ]
    },
    {
     "name": "stderr",
     "output_type": "stream",
     "text": [
      "100%|██████████| 500/500 [04:38<00:00,  1.79it/s]\n"
     ]
    },
    {
     "name": "stdout",
     "output_type": "stream",
     "text": [
      "temperature: 30.0, mean distance: 21.878, standard dev.: 21.354534230716823\n",
      "loss: 552.3376739036883\n",
      "gradient: 13.828001976013184\n"
     ]
    },
    {
     "name": "stderr",
     "output_type": "stream",
     "text": [
      "100%|██████████| 500/500 [04:41<00:00,  1.78it/s]\n"
     ]
    },
    {
     "name": "stdout",
     "output_type": "stream",
     "text": [
      "temperature: 31.0, mean distance: 20.4585, standard dev.: 22.1682759968572\n",
      "loss: 533.7149229542631\n",
      "gradient: 14.04412841796875\n"
     ]
    },
    {
     "name": "stderr",
     "output_type": "stream",
     "text": [
      "100%|██████████| 500/500 [04:42<00:00,  1.77it/s]\n"
     ]
    },
    {
     "name": "stdout",
     "output_type": "stream",
     "text": [
      "temperature: 32.0, mean distance: 21.565, standard dev.: 20.945799140182007\n",
      "loss: 528.6677352190293\n",
      "gradient: 13.651372909545898\n"
     ]
    },
    {
     "name": "stderr",
     "output_type": "stream",
     "text": [
      "100%|██████████| 500/500 [04:41<00:00,  1.78it/s]\n"
     ]
    },
    {
     "name": "stdout",
     "output_type": "stream",
     "text": [
      "temperature: 33.0, mean distance: 20.8595, standard dev.: 20.886676682161887\n",
      "loss: 503.91023625354626\n",
      "gradient: 13.89340877532959\n"
     ]
    },
    {
     "name": "stderr",
     "output_type": "stream",
     "text": [
      "100%|██████████| 500/500 [04:41<00:00,  1.78it/s]\n"
     ]
    },
    {
     "name": "stdout",
     "output_type": "stream",
     "text": [
      "temperature: 34.0, mean distance: 21.279, standard dev.: 21.98055512508223\n",
      "loss: 553.3450933559564\n",
      "gradient: 15.077958106994629\n"
     ]
    },
    {
     "name": "stderr",
     "output_type": "stream",
     "text": [
      "100%|██████████| 500/500 [04:41<00:00,  1.78it/s]\n"
     ]
    },
    {
     "name": "stdout",
     "output_type": "stream",
     "text": [
      "temperature: 35.0, mean distance: 21.4985, standard dev.: 21.946865674163536\n",
      "loss: 559.3967584281423\n",
      "gradient: 12.803863525390625\n"
     ]
    }
   ],
   "source": [
    "temps = t.linspace(1, 35, 35)\n",
    "target_vol = 0.\n",
    "\n",
    "losses = []\n",
    "grads = []\n",
    "mean_distances = []\n",
    "std_distances = []\n",
    "for temp in temps:\n",
    "    temp.requires_grad_()\n",
    "    batch = init_state.detach().clone()\n",
    "    new_temp, grad, loss, mean_distance, std_distance = step(batch, dist_matrix_t, temp, target_vol, eta=1)\n",
    "    losses.append(loss.detach().cpu().numpy())\n",
    "    grads.append(grad.detach().cpu().numpy())\n",
    "    mean_distances.append(mean_distance.detach().cpu().numpy())\n",
    "    std_distances.append(std_distance.detach().cpu().numpy())"
   ]
  },
  {
   "cell_type": "code",
   "execution_count": 8,
   "metadata": {},
   "outputs": [
    {
     "data": {
      "text/plain": [
       "<matplotlib.legend.Legend at 0x2297cf95b40>"
      ]
     },
     "execution_count": 8,
     "metadata": {},
     "output_type": "execute_result"
    },
    {
     "data": {
      "image/png": "[encoded data removed]",
      "text/plain": [
       "<Figure size 1000x1000 with 1 Axes>"
      ]
     },
     "metadata": {},
     "output_type": "display_data"
    }
   ],
   "source": [
    "plt.figure(figsize=(10,10))\n",
    "plt.plot(grads, label=\"Gradient\")\n",
    "plt.hlines([0.], xmin=0, xmax=35, linestyles=\"dashed\")\n",
    "plt.plot(np.stack(losses, axis=0), label=\"losses\")\n",
    "plt.plot(np.stack(mean_distances, axis=0), label=\"mean_distances\")\n",
    "plt.plot(np.stack(std_distances, axis=0), label=\"standard deviation\")\n",
    "plt.title(\"L(x)= (mean(f(x)) - 5.)^2 + (std(f(x) - 5.)^2\")\n",
    "plt.xlabel(\"temperature\")\n",
    "plt.legend()\n"
   ]
  },
  {
   "cell_type": "code",
   "execution_count": null,
   "metadata": {},
   "outputs": [],
   "source": []
  }
 ],
 "metadata": {
  "kernelspec": {
   "display_name": "torchenv",
   "language": "python",
   "name": "python3"
  },
  "language_info": {
   "codemirror_mode": {
    "name": "ipython",
    "version": 3
   },
   "file_extension": ".py",
   "mimetype": "text/x-python",
   "name": "python",
   "nbconvert_exporter": "python",
   "pygments_lexer": "ipython3",
   "version": "3.10.6"
  },
  "orig_nbformat": 4
 },
 "nbformat": 4,
 "nbformat_minor": 2
}
