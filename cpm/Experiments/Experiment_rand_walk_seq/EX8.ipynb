{
 "cells": [
  {
   "cell_type": "code",
   "execution_count": 1,
   "metadata": {},
   "outputs": [],
   "source": [
    "import torch as t\n",
    "from scipy import ndimage\n",
    "import numpy as np\n",
    "import random\n",
    "from tqdm import tqdm\n",
    "import matplotlib.pyplot as plt\n",
    "import numpy as np\n",
    "from PIL import Image"
   ]
  },
  {
   "cell_type": "code",
   "execution_count": 2,
   "metadata": {},
   "outputs": [],
   "source": [
    "#device = t.device('cuda' if t.cuda.is_available() else 'cpu')\n",
    "device = t.device('cpu')"
   ]
  },
  {
   "cell_type": "code",
   "execution_count": 3,
   "metadata": {},
   "outputs": [],
   "source": [
    "MOORE_OFFSETS = t.tensor([(1, 1), (1, -1), (1, 0), (-1, 0), (0, 0), (-1, 1), (-1, -1), (0, 1), (0, -1)], device=device)\n",
    "def get_moore_nbh(batch:t.Tensor):\n",
    "    _, batch_height, _ = batch.shape\n",
    "    cell_pixel_coords = (batch == 1).nonzero()\n",
    "    nbh_coords = (cell_pixel_coords[:, 1:].unsqueeze(1)+MOORE_OFFSETS.type(t.float).unsqueeze(0))\n",
    "    idx_pad = cell_pixel_coords[:, 0].repeat(9,1).T.reshape(cell_pixel_coords[:, 0].shape[0], 9, 1)\n",
    "    nbh_coords[nbh_coords == -1] = 1\n",
    "    nbh_coords[nbh_coords == batch_height] = batch_height -2\n",
    "    return t.concatenate((idx_pad, nbh_coords), dim=-1)"
   ]
  },
  {
   "cell_type": "code",
   "execution_count": 4,
   "metadata": {},
   "outputs": [],
   "source": [
    "STEP_SIZES = t.tensor([(1, 1), (1, -1), (1, 0), (-1, 0), (-1, 1), (-1, -1), (0, 1), (0, -1)], device=device)\n",
    "\n",
    "def MCS(batch, temperature):\n",
    "    batch_size, batch_height, _ = batch.shape\n",
    "    \n",
    "    #########################################################\n",
    "    # 1. Find source and target coordinates for each sample #\n",
    "    #########################################################\n",
    "    # Find all pixels that belong to a cell, or border a cell \n",
    "    frontiers = get_moore_nbh(batch)\n",
    "    src_coords = []\n",
    "    for batch_idx in range(batch_size):\n",
    "        frontier = frontiers[frontiers[:, :, 0] == batch_idx, :].unique(dim=0)\n",
    "        src_coords.append(random.choice(frontier).type(t.long))\n",
    "    batch_src_coords = t.vstack(src_coords)\n",
    "    step_sizes = t.vstack(random.choices(STEP_SIZES, k=batch_src_coords.shape[0]))\n",
    "    tgt_coords = t.hstack((batch_src_coords[:, 0].unsqueeze(0).T, batch_src_coords[:, 1:] + step_sizes))\n",
    "    tgt_coords[:, 1:][tgt_coords[:, 1:] == -1] = 1\n",
    "    tgt_coords[:, 1:][tgt_coords[:, 1:] == batch_height] = batch_height -2\n",
    "    tgt_i = tgt_coords[:, 0]\n",
    "    tgt_j = tgt_coords[:, 1]\n",
    "    tgt_k = tgt_coords[:, 2]\n",
    "    src_i = batch_src_coords[:, 0]\n",
    "    src_j = batch_src_coords[:, 1]\n",
    "    src_k = batch_src_coords[:, 2]\n",
    "    \n",
    "    #########################################################################\n",
    "    # 2. Calculate the changes in volume that the copy attempts would cause #\n",
    "    #########################################################################\n",
    "    current_volumes = t.sum(batch, dim=(-1, -2))\n",
    "    vol_changes = (-1 * batch[tgt_i, tgt_j, tgt_k]) + batch[src_i, src_j, src_k]\n",
    "    adjusted_vols = current_volumes + vol_changes\n",
    "    \n",
    "    #########################################################\n",
    "    # 3. Define boolean masks based on the volume changes   #\n",
    "    #########################################################\n",
    "    sml_eq_two_mask = adjusted_vols <= 2\n",
    "    greater_zero_mask = adjusted_vols > 0\n",
    "    vol_change_positive_mask = vol_changes > 0\n",
    "    vol_change_negative_mask = vol_changes < 0\n",
    "    \n",
    "    #########################################################\n",
    "    # 4. auto accept each attempt with negative vol. change #\n",
    "    # that fulfills the hard volume constraint              #\n",
    "    #########################################################\n",
    "    auto_upd_mask = t.logical_and(\n",
    "        vol_change_negative_mask,\n",
    "        greater_zero_mask\n",
    "    )\n",
    "    auto_upd_i = tgt_i[auto_upd_mask]\n",
    "    auto_upd_j = tgt_j[auto_upd_mask]\n",
    "    auto_upd_k = tgt_k[auto_upd_mask]\n",
    "    batch[auto_upd_i, auto_upd_j, auto_upd_k] += vol_changes[auto_upd_mask]\n",
    "    \n",
    "    ##################################################################\n",
    "    # 5. stochastic update of the attempts with positive vol. change #\n",
    "    ################################################################## \n",
    "    update_mask = t.logical_and(\n",
    "        vol_change_positive_mask,\n",
    "        sml_eq_two_mask\n",
    "    )\n",
    "    update_probability = t.exp(-temperature)\n",
    "    logit = t.log(t.hstack((update_probability, (1-update_probability))))\n",
    "    batch_logits = logit.repeat((vol_changes[update_mask].shape[0],1))\n",
    "    one_hot = t.nn.functional.gumbel_softmax(batch_logits, hard=True)\n",
    "    \n",
    "    upd_vals = one_hot[:, 0] * vol_changes[update_mask]\n",
    "    upd_i = tgt_i[update_mask]\n",
    "    upd_j = tgt_j[update_mask]\n",
    "    upd_k = tgt_k[update_mask]\n",
    "    batch[upd_i, upd_j, upd_k] += upd_vals.squeeze()\n",
    "    \n",
    "    return batch\n",
    "    "
   ]
  },
  {
   "cell_type": "code",
   "execution_count": 5,
   "metadata": {},
   "outputs": [
    {
     "name": "stderr",
     "output_type": "stream",
     "text": [
      "100%|██████████| 1000/1000 [00:01<00:00, 578.24it/s]\n"
     ]
    },
    {
     "name": "stdout",
     "output_type": "stream",
     "text": [
      "1000\n"
     ]
    }
   ],
   "source": [
    "temperature = t.tensor(1.)\n",
    "target_vol = 1.\n",
    "batch = t.zeros(1,256,256, device=device)\n",
    "batch[:,128,128] += 1\n",
    "\n",
    "states = []\n",
    "for i in tqdm(range(1000)):\n",
    "    batch = MCS(batch, temperature)\n",
    "    if t.any(t.sum(batch, dim=(-1,-2)) == 0) or t.any(t.sum(batch, dim=(-1,-2)) > 2):\n",
    "        print(\"ISSUE DETECTED, STOP SIM\")\n",
    "        break\n",
    "    else:\n",
    "        states.append(batch[0].detach().clone().cpu().numpy())\n",
    "\n",
    "imgs = [Image.fromarray((1-state)*255) for state in states]\n",
    "print(len(imgs))\n",
    "imgs[0].save(\"test.gif\", save_all=True, append_images=imgs[1:], fps=20)"
   ]
  },
  {
   "cell_type": "code",
   "execution_count": 6,
   "metadata": {},
   "outputs": [],
   "source": [
    "def create_dist_matrix(batch:t.Tensor):\n",
    "    dist_matrix:np.ndarray = ndimage.distance_transform_edt(1-batch[0].cpu(), return_indices=False)\n",
    "    dist_matrix = dist_matrix**2\n",
    "    dist_matrix_t = t.from_numpy(dist_matrix).to(device)\n",
    "    return dist_matrix_t"
   ]
  },
  {
   "cell_type": "code",
   "execution_count": 7,
   "metadata": {},
   "outputs": [],
   "source": [
    "def step(batch:t.Tensor, dist_matrix:t.Tensor, temperature:t.Tensor, eta:float, num_steps:int, target_distance:float):\n",
    "    for i in tqdm(range(num_steps)):\n",
    "        batch = MCS(batch, temperature)\n",
    "        if t.any(t.sum(batch, dim=(-1,-2)) == 0) or t.any(t.sum(batch, dim=(-1,-2)) > 2):\n",
    "            print(\"ISSUE DETECTED, STOP SIM\")\n",
    "            return None, None\n",
    "    # calc the distance after 100 steps    \n",
    "    distances = t.sum(batch * dist_matrix, dim=(-1,-2)) / t.sum(batch, dim=(-1,-2))\n",
    "    mean_distance = t.mean(distances)\n",
    "    print(f\"temperature: {temperature}, update_prob:{t.exp(-temperature)} mean distance: {mean_distance}\")\n",
    "    loss = (mean_distance - target_distance)**2\n",
    "    grad = t.autograd.grad(loss, temperature)[0]\n",
    "    print(f\"gradient: {grad}\")\n",
    "    return t.clamp(temperature - (eta * grad), min=1e-5, max=40.), grad, mean_distance, loss"
   ]
  },
  {
   "cell_type": "code",
   "execution_count": null,
   "metadata": {},
   "outputs": [],
   "source": [
    "temps = t.linspace(0,5,30)\n",
    "target_vol = 1.\n",
    "ref = t.zeros(1,8,8, device=device)\n",
    "ref[:,4,4] += 1\n",
    "dist_matrix = create_dist_matrix(ref)\n",
    "target_distance = 0.\n",
    "\n",
    "grads = []\n",
    "mean_distances = []\n",
    "losses = []\n",
    "for temp in temps:\n",
    "    temp.requires_grad_()\n",
    "    batch = t.zeros(200,8,8, device=device)\n",
    "    batch[:,4,4] += 1\n",
    "    new_temp, grad, mean_distance, loss = step(batch, dist_matrix, temp, eta=1, num_steps=40, target_distance=target_distance)\n",
    "    grads.append(grad.detach().cpu().numpy())\n",
    "    mean_distances.append(mean_distance.detach().cpu().numpy())\n",
    "    losses.append(loss.detach().cpu().numpy())"
   ]
  },
  {
   "cell_type": "code",
   "execution_count": 9,
   "metadata": {},
   "outputs": [
    {
     "data": {
      "text/plain": [
       "[<matplotlib.lines.Line2D at 0x1297f766bc0>]"
      ]
     },
     "execution_count": 9,
     "metadata": {},
     "output_type": "execute_result"
    },
    {
     "data": {
      "image/png": "[encoded data removed]",
      "text/plain": [
       "<Figure size 640x480 with 1 Axes>"
      ]
     },
     "metadata": {},
     "output_type": "display_data"
    }
   ],
   "source": [
    "plt.plot(temps.cpu(), grads)\n",
    "plt.plot(temps.cpu(), losses)"
   ]
  },
  {
   "cell_type": "code",
   "execution_count": 11,
   "metadata": {},
   "outputs": [
    {
     "name": "stderr",
     "output_type": "stream",
     "text": [
      "100%|██████████| 40/40 [00:09<00:00,  4.38it/s]\n"
     ]
    },
    {
     "name": "stdout",
     "output_type": "stream",
     "text": [
      "temperature: 0.0, update_prob:1.0 mean distance: 1.8445\n",
      "gradient: nan\n"
     ]
    },
    {
     "name": "stderr",
     "output_type": "stream",
     "text": [
      "100%|██████████| 40/40 [00:08<00:00,  4.45it/s]\n"
     ]
    },
    {
     "name": "stdout",
     "output_type": "stream",
     "text": [
      "temperature: 0.03448275849223137, update_prob:0.9661049842834473 mean distance: 1.7815\n",
      "gradient: -0.5723176002502441\n"
     ]
    },
    {
     "name": "stderr",
     "output_type": "stream",
     "text": [
      "100%|██████████| 40/40 [00:08<00:00,  4.54it/s]\n"
     ]
    },
    {
     "name": "stdout",
     "output_type": "stream",
     "text": [
      "temperature: 0.06896551698446274, update_prob:0.9333588480949402 mean distance: 1.7795\n",
      "gradient: -0.6492003202438354\n"
     ]
    },
    {
     "name": "stderr",
     "output_type": "stream",
     "text": [
      "100%|██████████| 40/40 [00:08<00:00,  4.56it/s]\n"
     ]
    },
    {
     "name": "stdout",
     "output_type": "stream",
     "text": [
      "temperature: 0.10344827175140381, update_prob:0.9017226696014404 mean distance: 1.8605\n",
      "gradient: -0.464511513710022\n"
     ]
    },
    {
     "name": "stderr",
     "output_type": "stream",
     "text": [
      "100%|██████████| 40/40 [00:08<00:00,  4.54it/s]\n"
     ]
    },
    {
     "name": "stdout",
     "output_type": "stream",
     "text": [
      "temperature: 0.13793103396892548, update_prob:0.87115877866745 mean distance: 1.788\n",
      "gradient: -0.6361281871795654\n"
     ]
    },
    {
     "name": "stderr",
     "output_type": "stream",
     "text": [
      "100%|██████████| 40/40 [00:08<00:00,  4.62it/s]\n"
     ]
    },
    {
     "name": "stdout",
     "output_type": "stream",
     "text": [
      "temperature: 0.17241379618644714, update_prob:0.8416308164596558 mean distance: 1.735\n",
      "gradient: -0.6033865213394165\n"
     ]
    },
    {
     "name": "stderr",
     "output_type": "stream",
     "text": [
      "100%|██████████| 40/40 [00:08<00:00,  4.59it/s]\n"
     ]
    },
    {
     "name": "stdout",
     "output_type": "stream",
     "text": [
      "temperature: 0.20689654350280762, update_prob:0.8131037354469299 mean distance: 1.7135\n",
      "gradient: -0.37112802267074585\n"
     ]
    },
    {
     "name": "stderr",
     "output_type": "stream",
     "text": [
      "100%|██████████| 40/40 [00:08<00:00,  4.58it/s]\n"
     ]
    },
    {
     "name": "stdout",
     "output_type": "stream",
     "text": [
      "temperature: 0.24137930572032928, update_prob:0.7855436205863953 mean distance: 1.715\n",
      "gradient: -0.38735684752464294\n"
     ]
    },
    {
     "name": "stderr",
     "output_type": "stream",
     "text": [
      "100%|██████████| 40/40 [00:08<00:00,  4.59it/s]\n"
     ]
    },
    {
     "name": "stdout",
     "output_type": "stream",
     "text": [
      "temperature: 0.27586206793785095, update_prob:0.7589176297187805 mean distance: 1.5565\n",
      "gradient: -0.3549422323703766\n"
     ]
    },
    {
     "name": "stderr",
     "output_type": "stream",
     "text": [
      "100%|██████████| 40/40 [00:08<00:00,  4.59it/s]\n"
     ]
    },
    {
     "name": "stdout",
     "output_type": "stream",
     "text": [
      "temperature: 0.3103448152542114, update_prob:0.73319411277771 mean distance: 1.509\n",
      "gradient: -0.3077513873577118\n"
     ]
    },
    {
     "name": "stderr",
     "output_type": "stream",
     "text": [
      "100%|██████████| 40/40 [00:08<00:00,  4.62it/s]\n"
     ]
    },
    {
     "name": "stdout",
     "output_type": "stream",
     "text": [
      "temperature: 0.3448275923728943, update_prob:0.7083424925804138 mean distance: 1.6145\n",
      "gradient: -0.4774824380874634\n"
     ]
    },
    {
     "name": "stderr",
     "output_type": "stream",
     "text": [
      "100%|██████████| 40/40 [00:08<00:00,  4.55it/s]\n"
     ]
    },
    {
     "name": "stdout",
     "output_type": "stream",
     "text": [
      "temperature: 0.37931033968925476, update_prob:0.6843332052230835 mean distance: 1.5585\n",
      "gradient: -0.3377783000469208\n"
     ]
    },
    {
     "name": "stderr",
     "output_type": "stream",
     "text": [
      "100%|██████████| 40/40 [00:08<00:00,  4.67it/s]\n"
     ]
    },
    {
     "name": "stdout",
     "output_type": "stream",
     "text": [
      "temperature: 0.41379308700561523, update_prob:0.6611377000808716 mean distance: 1.4655\n",
      "gradient: -0.3493883013725281\n"
     ]
    },
    {
     "name": "stderr",
     "output_type": "stream",
     "text": [
      "100%|██████████| 40/40 [00:08<00:00,  4.72it/s]\n"
     ]
    },
    {
     "name": "stdout",
     "output_type": "stream",
     "text": [
      "temperature: 0.4482758641242981, update_prob:0.6387284398078918 mean distance: 1.436\n",
      "gradient: -0.2951219975948334\n"
     ]
    },
    {
     "name": "stderr",
     "output_type": "stream",
     "text": [
      "100%|██████████| 40/40 [00:08<00:00,  4.67it/s]\n"
     ]
    },
    {
     "name": "stdout",
     "output_type": "stream",
     "text": [
      "temperature: 0.48275861144065857, update_prob:0.6170787811279297 mean distance: 1.4025\n",
      "gradient: -0.32617059350013733\n"
     ]
    },
    {
     "name": "stderr",
     "output_type": "stream",
     "text": [
      "100%|██████████| 40/40 [00:08<00:00,  4.65it/s]\n"
     ]
    },
    {
     "name": "stdout",
     "output_type": "stream",
     "text": [
      "temperature: 0.517241358757019, update_prob:0.5961628556251526 mean distance: 1.414\n",
      "gradient: -0.3260497748851776\n"
     ]
    },
    {
     "name": "stderr",
     "output_type": "stream",
     "text": [
      "100%|██████████| 40/40 [00:08<00:00,  4.70it/s]\n"
     ]
    },
    {
     "name": "stdout",
     "output_type": "stream",
     "text": [
      "temperature: 0.5517241358757019, update_prob:0.5759559273719788 mean distance: 1.3205\n",
      "gradient: -0.27799004316329956\n"
     ]
    },
    {
     "name": "stderr",
     "output_type": "stream",
     "text": [
      "100%|██████████| 40/40 [00:08<00:00,  4.68it/s]\n"
     ]
    },
    {
     "name": "stdout",
     "output_type": "stream",
     "text": [
      "temperature: 0.5862069129943848, update_prob:0.5564338564872742 mean distance: 1.222\n",
      "gradient: -0.2053796947002411\n"
     ]
    },
    {
     "name": "stderr",
     "output_type": "stream",
     "text": [
      "100%|██████████| 40/40 [00:08<00:00,  4.67it/s]\n"
     ]
    },
    {
     "name": "stdout",
     "output_type": "stream",
     "text": [
      "temperature: 0.6206896305084229, update_prob:0.5375735759735107 mean distance: 1.317\n",
      "gradient: -0.28094056248664856\n"
     ]
    },
    {
     "name": "stderr",
     "output_type": "stream",
     "text": [
      "100%|██████████| 40/40 [00:08<00:00,  4.69it/s]\n"
     ]
    },
    {
     "name": "stdout",
     "output_type": "stream",
     "text": [
      "temperature: 0.6551724076271057, update_prob:0.5193524956703186 mean distance: 1.2055\n",
      "gradient: -0.18627512454986572\n"
     ]
    },
    {
     "name": "stderr",
     "output_type": "stream",
     "text": [
      "100%|██████████| 40/40 [00:08<00:00,  4.74it/s]\n"
     ]
    },
    {
     "name": "stdout",
     "output_type": "stream",
     "text": [
      "temperature: 0.6896551847457886, update_prob:0.5017490386962891 mean distance: 1.22\n",
      "gradient: -0.1917327344417572\n"
     ]
    },
    {
     "name": "stderr",
     "output_type": "stream",
     "text": [
      "100%|██████████| 40/40 [00:08<00:00,  4.71it/s]\n"
     ]
    },
    {
     "name": "stdout",
     "output_type": "stream",
     "text": [
      "temperature: 0.7241379022598267, update_prob:0.48474228382110596 mean distance: 1.22\n",
      "gradient: -0.19143448770046234\n"
     ]
    },
    {
     "name": "stderr",
     "output_type": "stream",
     "text": [
      "100%|██████████| 40/40 [00:08<00:00,  4.65it/s]\n"
     ]
    },
    {
     "name": "stdout",
     "output_type": "stream",
     "text": [
      "temperature: 0.7586206793785095, update_prob:0.46831193566322327 mean distance: 1.316\n",
      "gradient: -0.27679768204689026\n"
     ]
    },
    {
     "name": "stderr",
     "output_type": "stream",
     "text": [
      "100%|██████████| 40/40 [00:08<00:00,  4.72it/s]\n"
     ]
    },
    {
     "name": "stdout",
     "output_type": "stream",
     "text": [
      "temperature: 0.7931034564971924, update_prob:0.45243850350379944 mean distance: 1.122\n",
      "gradient: -0.1258298009634018\n"
     ]
    },
    {
     "name": "stderr",
     "output_type": "stream",
     "text": [
      "100%|██████████| 40/40 [00:08<00:00,  4.68it/s]\n"
     ]
    },
    {
     "name": "stdout",
     "output_type": "stream",
     "text": [
      "temperature: 0.8275861740112305, update_prob:0.4371030926704407 mean distance: 1.0585\n",
      "gradient: -0.054779600352048874\n"
     ]
    },
    {
     "name": "stderr",
     "output_type": "stream",
     "text": [
      "100%|██████████| 40/40 [00:08<00:00,  4.71it/s]\n"
     ]
    },
    {
     "name": "stdout",
     "output_type": "stream",
     "text": [
      "temperature: 0.8620689511299133, update_prob:0.4222874939441681 mean distance: 1.0325\n",
      "gradient: -0.029991911724209785\n"
     ]
    },
    {
     "name": "stderr",
     "output_type": "stream",
     "text": [
      "100%|██████████| 40/40 [00:08<00:00,  4.79it/s]\n"
     ]
    },
    {
     "name": "stdout",
     "output_type": "stream",
     "text": [
      "temperature: 0.8965517282485962, update_prob:0.4079740345478058 mean distance: 1.0435\n",
      "gradient: -0.04473372548818588\n"
     ]
    },
    {
     "name": "stderr",
     "output_type": "stream",
     "text": [
      "100%|██████████| 40/40 [00:08<00:00,  4.75it/s]\n"
     ]
    },
    {
     "name": "stdout",
     "output_type": "stream",
     "text": [
      "temperature: 0.931034505367279, update_prob:0.39414575695991516 mean distance: 1.0805\n",
      "gradient: -0.07520274817943573\n"
     ]
    },
    {
     "name": "stderr",
     "output_type": "stream",
     "text": [
      "100%|██████████| 40/40 [00:08<00:00,  4.74it/s]\n"
     ]
    },
    {
     "name": "stdout",
     "output_type": "stream",
     "text": [
      "temperature: 0.9655172228813171, update_prob:0.3807862102985382 mean distance: 0.9975\n",
      "gradient: 0.0024949710350483656\n"
     ]
    },
    {
     "name": "stderr",
     "output_type": "stream",
     "text": [
      "100%|██████████| 40/40 [00:08<00:00,  4.79it/s]\n"
     ]
    },
    {
     "name": "stdout",
     "output_type": "stream",
     "text": [
      "temperature: 1.0, update_prob:0.3678794503211975 mean distance: 0.8935\n",
      "gradient: 0.11262550950050354\n"
     ]
    },
    {
     "name": "stderr",
     "output_type": "stream",
     "text": [
      "100%|██████████| 40/40 [00:08<00:00,  4.72it/s]\n"
     ]
    },
    {
     "name": "stdout",
     "output_type": "stream",
     "text": [
      "temperature: 1.0, update_prob:0.3678794503211975 mean distance: 0.9395\n",
      "gradient: 0.06751350313425064\n"
     ]
    },
    {
     "name": "stderr",
     "output_type": "stream",
     "text": [
      "100%|██████████| 40/40 [00:08<00:00,  4.89it/s]\n"
     ]
    },
    {
     "name": "stdout",
     "output_type": "stream",
     "text": [
      "temperature: 1.2105263471603394, update_prob:0.29804036021232605 mean distance: 0.832\n",
      "gradient: 0.1894673854112625\n"
     ]
    },
    {
     "name": "stderr",
     "output_type": "stream",
     "text": [
      "100%|██████████| 40/40 [00:08<00:00,  4.84it/s]\n"
     ]
    },
    {
     "name": "stdout",
     "output_type": "stream",
     "text": [
      "temperature: 1.4210526943206787, update_prob:0.2414596974849701 mean distance: 0.69\n",
      "gradient: 0.32755202054977417\n"
     ]
    },
    {
     "name": "stderr",
     "output_type": "stream",
     "text": [
      "100%|██████████| 40/40 [00:08<00:00,  4.89it/s]\n"
     ]
    },
    {
     "name": "stdout",
     "output_type": "stream",
     "text": [
      "temperature: 1.6315789222717285, update_prob:0.19562046229839325 mean distance: 0.5535\n",
      "gradient: 0.5088394284248352\n"
     ]
    },
    {
     "name": "stderr",
     "output_type": "stream",
     "text": [
      "100%|██████████| 40/40 [00:08<00:00,  4.87it/s]\n"
     ]
    },
    {
     "name": "stdout",
     "output_type": "stream",
     "text": [
      "temperature: 1.8421052694320679, update_prob:0.15848343074321747 mean distance: 0.482\n",
      "gradient: 0.5770087242126465\n"
     ]
    },
    {
     "name": "stderr",
     "output_type": "stream",
     "text": [
      "100%|██████████| 40/40 [00:08<00:00,  4.68it/s]\n"
     ]
    },
    {
     "name": "stdout",
     "output_type": "stream",
     "text": [
      "temperature: 2.0526316165924072, update_prob:0.12839657068252563 mean distance: 0.4\n",
      "gradient: 0.6494417786598206\n"
     ]
    },
    {
     "name": "stderr",
     "output_type": "stream",
     "text": [
      "100%|██████████| 40/40 [00:08<00:00,  4.94it/s]\n"
     ]
    },
    {
     "name": "stdout",
     "output_type": "stream",
     "text": [
      "temperature: 2.263157844543457, update_prob:0.10402148216962814 mean distance: 0.3105\n",
      "gradient: 0.700994610786438\n"
     ]
    },
    {
     "name": "stderr",
     "output_type": "stream",
     "text": [
      "100%|██████████| 40/40 [00:08<00:00,  4.97it/s]\n"
     ]
    },
    {
     "name": "stdout",
     "output_type": "stream",
     "text": [
      "temperature: 2.473684310913086, update_prob:0.0842737928032875 mean distance: 0.2835\n",
      "gradient: 0.7008447051048279\n"
     ]
    },
    {
     "name": "stderr",
     "output_type": "stream",
     "text": [
      "100%|██████████| 40/40 [00:08<00:00,  4.93it/s]\n"
     ]
    },
    {
     "name": "stdout",
     "output_type": "stream",
     "text": [
      "temperature: 2.6842105388641357, update_prob:0.0682750716805458 mean distance: 0.234\n",
      "gradient: 0.6837382912635803\n"
     ]
    },
    {
     "name": "stderr",
     "output_type": "stream",
     "text": [
      "100%|██████████| 40/40 [00:08<00:00,  4.95it/s]\n"
     ]
    },
    {
     "name": "stdout",
     "output_type": "stream",
     "text": [
      "temperature: 2.8947367668151855, update_prob:0.055313583463430405 mean distance: 0.169\n",
      "gradient: 0.7281572222709656\n"
     ]
    },
    {
     "name": "stderr",
     "output_type": "stream",
     "text": [
      "100%|██████████| 40/40 [00:07<00:00,  5.07it/s]\n"
     ]
    },
    {
     "name": "stdout",
     "output_type": "stream",
     "text": [
      "temperature: 3.1052632331848145, update_prob:0.04481272026896477 mean distance: 0.16750000000000007\n",
      "gradient: 0.661031186580658\n"
     ]
    },
    {
     "name": "stderr",
     "output_type": "stream",
     "text": [
      "100%|██████████| 40/40 [00:08<00:00,  4.97it/s]\n"
     ]
    },
    {
     "name": "stdout",
     "output_type": "stream",
     "text": [
      "temperature: 3.3157894611358643, update_prob:0.03630537539720535 mean distance: 0.1225\n",
      "gradient: 0.6446121335029602\n"
     ]
    },
    {
     "name": "stderr",
     "output_type": "stream",
     "text": [
      "100%|██████████| 40/40 [00:08<00:00,  4.98it/s]\n"
     ]
    },
    {
     "name": "stdout",
     "output_type": "stream",
     "text": [
      "temperature: 3.526315689086914, update_prob:0.02941308356821537 mean distance: 0.092\n",
      "gradient: 0.6185063123703003\n"
     ]
    },
    {
     "name": "stderr",
     "output_type": "stream",
     "text": [
      "100%|██████████| 40/40 [00:08<00:00,  4.95it/s]\n"
     ]
    },
    {
     "name": "stdout",
     "output_type": "stream",
     "text": [
      "temperature: 3.736842155456543, update_prob:0.023829232901334763 mean distance: 0.07450000000000001\n",
      "gradient: 0.5282400846481323\n"
     ]
    },
    {
     "name": "stderr",
     "output_type": "stream",
     "text": [
      "100%|██████████| 40/40 [00:08<00:00,  4.95it/s]\n"
     ]
    },
    {
     "name": "stdout",
     "output_type": "stream",
     "text": [
      "temperature: 3.9473683834075928, update_prob:0.019305439665913582 mean distance: 0.0565\n",
      "gradient: 0.46036189794540405\n"
     ]
    },
    {
     "name": "stderr",
     "output_type": "stream",
     "text": [
      "100%|██████████| 40/40 [00:07<00:00,  5.04it/s]\n"
     ]
    },
    {
     "name": "stdout",
     "output_type": "stream",
     "text": [
      "temperature: 4.157894611358643, update_prob:0.01564045250415802 mean distance: 0.05600000000000001\n",
      "gradient: 0.4125889539718628\n"
     ]
    },
    {
     "name": "stderr",
     "output_type": "stream",
     "text": [
      "100%|██████████| 40/40 [00:07<00:00,  5.03it/s]\n"
     ]
    },
    {
     "name": "stdout",
     "output_type": "stream",
     "text": [
      "temperature: 4.3684210777282715, update_prob:0.012671231292188168 mean distance: 0.0425\n",
      "gradient: 0.37245693802833557\n"
     ]
    },
    {
     "name": "stderr",
     "output_type": "stream",
     "text": [
      "100%|██████████| 40/40 [00:07<00:00,  5.03it/s]\n"
     ]
    },
    {
     "name": "stdout",
     "output_type": "stream",
     "text": [
      "temperature: 4.5789475440979, update_prob:0.010265694931149483 mean distance: 0.024\n",
      "gradient: 0.3450750410556793\n"
     ]
    },
    {
     "name": "stderr",
     "output_type": "stream",
     "text": [
      "100%|██████████| 40/40 [00:07<00:00,  5.04it/s]\n"
     ]
    },
    {
     "name": "stdout",
     "output_type": "stream",
     "text": [
      "temperature: 4.789473533630371, update_prob:0.008316834457218647 mean distance: 0.0265\n",
      "gradient: 0.29570475220680237\n"
     ]
    },
    {
     "name": "stderr",
     "output_type": "stream",
     "text": [
      "100%|██████████| 40/40 [00:07<00:00,  5.07it/s]"
     ]
    },
    {
     "name": "stdout",
     "output_type": "stream",
     "text": [
      "temperature: 5.0, update_prob:0.0067379469983279705 mean distance: 0.019\n",
      "gradient: 0.2716157138347626\n"
     ]
    },
    {
     "name": "stderr",
     "output_type": "stream",
     "text": [
      "\n"
     ]
    }
   ],
   "source": [
    "temps1 = t.linspace(0,1,30)\n",
    "temps2 = t.linspace(1, 5, 20)\n",
    "temps = t.cat((temps1, temps2))\n",
    "ref = t.zeros(1,8,8, device=device)\n",
    "ref[:,4,4] += 1\n",
    "dist_matrix = create_dist_matrix(ref)\n",
    "target_distance = 1.\n",
    "\n",
    "grads = []\n",
    "mean_distances = []\n",
    "losses = []\n",
    "for temp in temps:\n",
    "    temp.requires_grad_()\n",
    "    batch = t.zeros(1000,8,8, device=device)\n",
    "    batch[:,4,4] += 1\n",
    "    new_temp, grad, mean_distance, loss = step(batch, dist_matrix, temp, eta=1, num_steps=40, target_distance=target_distance)\n",
    "    grads.append(grad.detach().cpu().numpy())\n",
    "    mean_distances.append(mean_distance.detach().cpu().numpy())\n",
    "    losses.append(loss.detach().cpu().numpy())"
   ]
  },
  {
   "cell_type": "code",
   "execution_count": 12,
   "metadata": {},
   "outputs": [
    {
     "data": {
      "image/png": "[encoded data removed]",
      "text/plain": [
       "<Figure size 640x480 with 1 Axes>"
      ]
     },
     "metadata": {},
     "output_type": "display_data"
    }
   ],
   "source": [
    "plt.plot(temps.cpu(), grads, label=\"gradient\")\n",
    "plt.plot(temps.cpu(), losses, label=\"loss\")\n",
    "plt.plot(temps.cpu(), t.exp(-temps).cpu(), label=\"probability\")\n",
    "\n",
    "plt.hlines(y=[0.], xmin=0, xmax=5, label=\"0-grad line\", linestyles=\"dashed\", colors=[\"gray\"])\n",
    "plt.vlines(x=[target_distance], ymin=-1, ymax=1, label=\"target distance\", linestyles=\"dashed\", colors=[\"red\"])\n",
    "\n",
    "plt.legend()\n",
    "plt.show()"
   ]
  },
  {
   "cell_type": "code",
   "execution_count": null,
   "metadata": {},
   "outputs": [],
   "source": [
    "temps = t.linspace(0,5,100)\n",
    "target_vol = 1.\n",
    "ref = t.zeros(1,8,8, device=device)\n",
    "ref[:,4,4] += 1\n",
    "dist_matrix = create_dist_matrix(ref)\n",
    "target_distance = 2.\n",
    "\n",
    "grads = []\n",
    "mean_distances = []\n",
    "losses = []\n",
    "for temp in temps:\n",
    "    temp.requires_grad_()\n",
    "    batch = t.zeros(1000,8,8, device=device)\n",
    "    batch[:,4,4] += 1\n",
    "    new_temp, grad, mean_distance, loss = step(batch, dist_matrix, temp, target_vol, eta=1, num_steps=100, target_distance=target_distance)\n",
    "    grads.append(grad.detach().cpu().numpy())\n",
    "    mean_distances.append(mean_distance.detach().cpu().numpy())\n",
    "    losses.append(loss.detach().cpu().numpy())"
   ]
  },
  {
   "cell_type": "code",
   "execution_count": 54,
   "metadata": {},
   "outputs": [
    {
     "data": {
      "image/png": "[encoded data removed]",
      "text/plain": [
       "<Figure size 640x480 with 1 Axes>"
      ]
     },
     "metadata": {},
     "output_type": "display_data"
    }
   ],
   "source": [
    "plt.plot(temps.cpu(), grads, label=\"gradient\")\n",
    "plt.plot(temps.cpu(), losses, label=\"loss\")\n",
    "plt.plot(temps.cpu(), t.exp(-temps).cpu(), label=\"probability\")\n",
    "\n",
    "plt.hlines(y=[0.], xmin=0, xmax=5, label=\"0-grad line\", linestyles=\"dashed\", colors=[\"gray\"])\n",
    "plt.vlines(x=[target_distance], ymin=-1, ymax=1, label=\"target distance\", linestyles=\"dashed\", colors=[\"red\"])\n",
    "\n",
    "plt.legend()\n",
    "plt.show()"
   ]
  },
  {
   "cell_type": "code",
   "execution_count": 62,
   "metadata": {},
   "outputs": [
    {
     "name": "stderr",
     "output_type": "stream",
     "text": [
      "100%|██████████| 1000/1000 [00:33<00:00, 29.46it/s]\n"
     ]
    },
    {
     "name": "stdout",
     "output_type": "stream",
     "text": [
      "temperature: 0.0, update_prob:1.0 mean distance: 43.825\n",
      "gradient: nan\n"
     ]
    },
    {
     "name": "stderr",
     "output_type": "stream",
     "text": [
      "100%|██████████| 1000/1000 [00:34<00:00, 28.73it/s]\n"
     ]
    },
    {
     "name": "stdout",
     "output_type": "stream",
     "text": [
      "temperature: 0.05050504952669144, update_prob:0.9507490992546082 mean distance: 39.7\n",
      "gradient: 10508.7294921875\n"
     ]
    },
    {
     "name": "stderr",
     "output_type": "stream",
     "text": [
      "100%|██████████| 1000/1000 [00:34<00:00, 28.83it/s]\n"
     ]
    },
    {
     "name": "stdout",
     "output_type": "stream",
     "text": [
      "temperature: 0.10101009905338287, update_prob:0.9039239287376404 mean distance: 35.92\n",
      "gradient: 11740.2236328125\n"
     ]
    },
    {
     "name": "stderr",
     "output_type": "stream",
     "text": [
      "100%|██████████| 1000/1000 [00:35<00:00, 28.30it/s]\n"
     ]
    },
    {
     "name": "stdout",
     "output_type": "stream",
     "text": [
      "temperature: 0.1515151560306549, update_prob:0.8594048619270325 mean distance: 45.695\n",
      "gradient: 14632.3251953125\n"
     ]
    },
    {
     "name": "stderr",
     "output_type": "stream",
     "text": [
      "100%|██████████| 1000/1000 [00:35<00:00, 28.17it/s]\n"
     ]
    },
    {
     "name": "stdout",
     "output_type": "stream",
     "text": [
      "temperature: 0.20202019810676575, update_prob:0.8170784115791321 mean distance: 48.24\n",
      "gradient: 25720.78515625\n"
     ]
    },
    {
     "name": "stderr",
     "output_type": "stream",
     "text": [
      "100%|██████████| 1000/1000 [00:35<00:00, 28.29it/s]\n"
     ]
    },
    {
     "name": "stdout",
     "output_type": "stream",
     "text": [
      "temperature: 0.2525252401828766, update_prob:0.7768365740776062 mean distance: 43.105\n",
      "gradient: 14602.0126953125\n"
     ]
    },
    {
     "name": "stderr",
     "output_type": "stream",
     "text": [
      "100%|██████████| 1000/1000 [00:35<00:00, 28.16it/s]\n"
     ]
    },
    {
     "name": "stdout",
     "output_type": "stream",
     "text": [
      "temperature: 0.3030303120613098, update_prob:0.7385767102241516 mean distance: 38.335\n",
      "gradient: 15083.4189453125\n"
     ]
    },
    {
     "name": "stderr",
     "output_type": "stream",
     "text": [
      "100%|██████████| 1000/1000 [00:35<00:00, 28.21it/s]\n"
     ]
    },
    {
     "name": "stdout",
     "output_type": "stream",
     "text": [
      "temperature: 0.35353535413742065, update_prob:0.7022011876106262 mean distance: 39.565\n",
      "gradient: 12726.66015625\n"
     ]
    },
    {
     "name": "stderr",
     "output_type": "stream",
     "text": [
      "100%|██████████| 1000/1000 [00:35<00:00, 28.40it/s]\n"
     ]
    },
    {
     "name": "stdout",
     "output_type": "stream",
     "text": [
      "temperature: 0.4040403962135315, update_prob:0.66761714220047 mean distance: 36.09\n",
      "gradient: 10851.92578125\n"
     ]
    },
    {
     "name": "stderr",
     "output_type": "stream",
     "text": [
      "100%|██████████| 1000/1000 [00:35<00:00, 28.38it/s]\n"
     ]
    },
    {
     "name": "stdout",
     "output_type": "stream",
     "text": [
      "temperature: 0.45454543828964233, update_prob:0.6347364187240601 mean distance: 36.825\n",
      "gradient: 11062.1611328125\n"
     ]
    },
    {
     "name": "stderr",
     "output_type": "stream",
     "text": [
      "100%|██████████| 1000/1000 [00:35<00:00, 28.11it/s]\n"
     ]
    },
    {
     "name": "stdout",
     "output_type": "stream",
     "text": [
      "temperature: 0.5050504803657532, update_prob:0.6034750938415527 mean distance: 31.4\n",
      "gradient: 9482.8359375\n"
     ]
    },
    {
     "name": "stderr",
     "output_type": "stream",
     "text": [
      "100%|██████████| 1000/1000 [00:35<00:00, 28.20it/s]\n"
     ]
    },
    {
     "name": "stdout",
     "output_type": "stream",
     "text": [
      "temperature: 0.5555555820465088, update_prob:0.5737534165382385 mean distance: 32.61\n",
      "gradient: 9120.884765625\n"
     ]
    },
    {
     "name": "stderr",
     "output_type": "stream",
     "text": [
      "100%|██████████| 1000/1000 [00:35<00:00, 28.41it/s]\n"
     ]
    },
    {
     "name": "stdout",
     "output_type": "stream",
     "text": [
      "temperature: 0.6060606241226196, update_prob:0.5454955697059631 mean distance: 37.83\n",
      "gradient: 14192.2587890625\n"
     ]
    },
    {
     "name": "stderr",
     "output_type": "stream",
     "text": [
      "100%|██████████| 1000/1000 [00:35<00:00, 28.48it/s]\n"
     ]
    },
    {
     "name": "stdout",
     "output_type": "stream",
     "text": [
      "temperature: 0.6565656661987305, update_prob:0.5186294317245483 mean distance: 30.185\n",
      "gradient: 9211.40625\n"
     ]
    },
    {
     "name": "stderr",
     "output_type": "stream",
     "text": [
      "100%|██████████| 1000/1000 [00:35<00:00, 28.32it/s]\n"
     ]
    },
    {
     "name": "stdout",
     "output_type": "stream",
     "text": [
      "temperature: 0.7070707082748413, update_prob:0.49308648705482483 mean distance: 29.79\n",
      "gradient: 6735.86572265625\n"
     ]
    },
    {
     "name": "stderr",
     "output_type": "stream",
     "text": [
      "100%|██████████| 1000/1000 [00:34<00:00, 28.65it/s]\n"
     ]
    },
    {
     "name": "stdout",
     "output_type": "stream",
     "text": [
      "temperature: 0.7575757503509521, update_prob:0.4688015282154083 mean distance: 24.605\n",
      "gradient: 5425.54248046875\n"
     ]
    },
    {
     "name": "stderr",
     "output_type": "stream",
     "text": [
      "100%|██████████| 1000/1000 [00:35<00:00, 28.56it/s]\n"
     ]
    },
    {
     "name": "stdout",
     "output_type": "stream",
     "text": [
      "temperature: 0.808080792427063, update_prob:0.4457126557826996 mean distance: 26.41\n",
      "gradient: 6196.85107421875\n"
     ]
    },
    {
     "name": "stderr",
     "output_type": "stream",
     "text": [
      "100%|██████████| 1000/1000 [00:34<00:00, 28.70it/s]\n"
     ]
    },
    {
     "name": "stdout",
     "output_type": "stream",
     "text": [
      "temperature: 0.8585858345031738, update_prob:0.42376092076301575 mean distance: 30.845\n",
      "gradient: 9839.4052734375\n"
     ]
    },
    {
     "name": "stderr",
     "output_type": "stream",
     "text": [
      "100%|██████████| 1000/1000 [00:35<00:00, 28.44it/s]\n"
     ]
    },
    {
     "name": "stdout",
     "output_type": "stream",
     "text": [
      "temperature: 0.9090908765792847, update_prob:0.40289032459259033 mean distance: 29.235\n",
      "gradient: 7389.91748046875\n"
     ]
    },
    {
     "name": "stderr",
     "output_type": "stream",
     "text": [
      "100%|██████████| 1000/1000 [00:34<00:00, 28.68it/s]\n"
     ]
    },
    {
     "name": "stdout",
     "output_type": "stream",
     "text": [
      "temperature: 0.9595959186553955, update_prob:0.3830476403236389 mean distance: 20.72\n",
      "gradient: 4987.47900390625\n"
     ]
    },
    {
     "name": "stderr",
     "output_type": "stream",
     "text": [
      "100%|██████████| 1000/1000 [00:34<00:00, 28.58it/s]\n"
     ]
    },
    {
     "name": "stdout",
     "output_type": "stream",
     "text": [
      "temperature: 1.0101009607315063, update_prob:0.3641822040081024 mean distance: 24.51\n",
      "gradient: 5512.0048828125\n"
     ]
    },
    {
     "name": "stderr",
     "output_type": "stream",
     "text": [
      "100%|██████████| 1000/1000 [00:34<00:00, 28.81it/s]\n"
     ]
    },
    {
     "name": "stdout",
     "output_type": "stream",
     "text": [
      "temperature: 1.0606060028076172, update_prob:0.3462459146976471 mean distance: 24.375\n",
      "gradient: 5984.4052734375\n"
     ]
    },
    {
     "name": "stderr",
     "output_type": "stream",
     "text": [
      "100%|██████████| 1000/1000 [00:34<00:00, 28.93it/s]\n"
     ]
    },
    {
     "name": "stdout",
     "output_type": "stream",
     "text": [
      "temperature: 1.1111111640930176, update_prob:0.32919296622276306 mean distance: 19.93\n",
      "gradient: 3423.00732421875\n"
     ]
    },
    {
     "name": "stderr",
     "output_type": "stream",
     "text": [
      "100%|██████████| 1000/1000 [00:35<00:00, 27.98it/s]\n"
     ]
    },
    {
     "name": "stdout",
     "output_type": "stream",
     "text": [
      "temperature: 1.1616160869598389, update_prob:0.31297996640205383 mean distance: 23.905\n",
      "gradient: 7084.140625\n"
     ]
    },
    {
     "name": "stderr",
     "output_type": "stream",
     "text": [
      "100%|██████████| 1000/1000 [00:34<00:00, 29.06it/s]\n"
     ]
    },
    {
     "name": "stdout",
     "output_type": "stream",
     "text": [
      "temperature: 1.2121212482452393, update_prob:0.29756540060043335 mean distance: 21.11\n",
      "gradient: 4440.392578125\n"
     ]
    },
    {
     "name": "stderr",
     "output_type": "stream",
     "text": [
      "100%|██████████| 1000/1000 [00:34<00:00, 29.14it/s]\n"
     ]
    },
    {
     "name": "stdout",
     "output_type": "stream",
     "text": [
      "temperature: 1.26262629032135, update_prob:0.2829100489616394 mean distance: 20.42\n",
      "gradient: 4553.27734375\n"
     ]
    },
    {
     "name": "stderr",
     "output_type": "stream",
     "text": [
      "100%|██████████| 1000/1000 [00:34<00:00, 28.62it/s]\n"
     ]
    },
    {
     "name": "stdout",
     "output_type": "stream",
     "text": [
      "temperature: 1.313131332397461, update_prob:0.26897647976875305 mean distance: 18.985\n",
      "gradient: 3045.072265625\n"
     ]
    },
    {
     "name": "stderr",
     "output_type": "stream",
     "text": [
      "100%|██████████| 1000/1000 [00:34<00:00, 28.85it/s]\n"
     ]
    },
    {
     "name": "stdout",
     "output_type": "stream",
     "text": [
      "temperature: 1.3636363744735718, update_prob:0.25572916865348816 mean distance: 15.87\n",
      "gradient: 1389.828125\n"
     ]
    },
    {
     "name": "stderr",
     "output_type": "stream",
     "text": [
      "100%|██████████| 1000/1000 [00:34<00:00, 29.10it/s]\n"
     ]
    },
    {
     "name": "stdout",
     "output_type": "stream",
     "text": [
      "temperature: 1.4141414165496826, update_prob:0.2431342750787735 mean distance: 17.94\n",
      "gradient: 2753.208984375\n"
     ]
    },
    {
     "name": "stderr",
     "output_type": "stream",
     "text": [
      "100%|██████████| 1000/1000 [00:34<00:00, 29.28it/s]\n"
     ]
    },
    {
     "name": "stdout",
     "output_type": "stream",
     "text": [
      "temperature: 1.4646464586257935, update_prob:0.23115970194339752 mean distance: 17.835\n",
      "gradient: 2783.743408203125\n"
     ]
    },
    {
     "name": "stderr",
     "output_type": "stream",
     "text": [
      "100%|██████████| 1000/1000 [00:35<00:00, 28.52it/s]\n"
     ]
    },
    {
     "name": "stdout",
     "output_type": "stream",
     "text": [
      "temperature: 1.5151515007019043, update_prob:0.21977488696575165 mean distance: 13.89\n",
      "gradient: 1854.97900390625\n"
     ]
    },
    {
     "name": "stderr",
     "output_type": "stream",
     "text": [
      "100%|██████████| 1000/1000 [00:35<00:00, 28.45it/s]\n"
     ]
    },
    {
     "name": "stdout",
     "output_type": "stream",
     "text": [
      "temperature: 1.5656566619873047, update_prob:0.20895075798034668 mean distance: 15.42\n",
      "gradient: 1598.6337890625\n"
     ]
    },
    {
     "name": "stderr",
     "output_type": "stream",
     "text": [
      "100%|██████████| 1000/1000 [00:35<00:00, 27.98it/s]\n"
     ]
    },
    {
     "name": "stdout",
     "output_type": "stream",
     "text": [
      "temperature: 1.616161584854126, update_prob:0.1986597776412964 mean distance: 15.585\n",
      "gradient: 2329.646240234375\n"
     ]
    },
    {
     "name": "stderr",
     "output_type": "stream",
     "text": [
      "100%|██████████| 1000/1000 [00:37<00:00, 26.79it/s]\n"
     ]
    },
    {
     "name": "stdout",
     "output_type": "stream",
     "text": [
      "temperature: 1.6666666269302368, update_prob:0.18887561559677124 mean distance: 14.86\n",
      "gradient: 1841.482666015625\n"
     ]
    },
    {
     "name": "stderr",
     "output_type": "stream",
     "text": [
      "100%|██████████| 1000/1000 [00:32<00:00, 31.16it/s]\n"
     ]
    },
    {
     "name": "stdout",
     "output_type": "stream",
     "text": [
      "temperature: 1.7171716690063477, update_prob:0.17957332730293274 mean distance: 12.27\n",
      "gradient: 1039.4488525390625\n"
     ]
    },
    {
     "name": "stderr",
     "output_type": "stream",
     "text": [
      "100%|██████████| 1000/1000 [00:31<00:00, 31.46it/s]\n"
     ]
    },
    {
     "name": "stdout",
     "output_type": "stream",
     "text": [
      "temperature: 1.7676767110824585, update_prob:0.17072917520999908 mean distance: 11.445\n",
      "gradient: 857.0413208007812\n"
     ]
    },
    {
     "name": "stderr",
     "output_type": "stream",
     "text": [
      "100%|██████████| 1000/1000 [00:32<00:00, 31.23it/s]\n"
     ]
    },
    {
     "name": "stdout",
     "output_type": "stream",
     "text": [
      "temperature: 1.8181817531585693, update_prob:0.16232061386108398 mean distance: 13.12\n",
      "gradient: 1191.24072265625\n"
     ]
    },
    {
     "name": "stderr",
     "output_type": "stream",
     "text": [
      "100%|██████████| 1000/1000 [00:34<00:00, 28.72it/s]\n"
     ]
    },
    {
     "name": "stdout",
     "output_type": "stream",
     "text": [
      "temperature: 1.8686867952346802, update_prob:0.1543261855840683 mean distance: 11.435\n",
      "gradient: 1077.0537109375\n"
     ]
    },
    {
     "name": "stderr",
     "output_type": "stream",
     "text": [
      "100%|██████████| 1000/1000 [00:31<00:00, 31.26it/s]\n"
     ]
    },
    {
     "name": "stdout",
     "output_type": "stream",
     "text": [
      "temperature: 1.919191837310791, update_prob:0.14672549068927765 mean distance: 9.36\n",
      "gradient: 463.1342468261719\n"
     ]
    },
    {
     "name": "stderr",
     "output_type": "stream",
     "text": [
      "100%|██████████| 1000/1000 [00:31<00:00, 31.52it/s]\n"
     ]
    },
    {
     "name": "stdout",
     "output_type": "stream",
     "text": [
      "temperature: 1.9696969985961914, update_prob:0.13949911296367645 mean distance: 8.505\n",
      "gradient: 393.4420166015625\n"
     ]
    },
    {
     "name": "stderr",
     "output_type": "stream",
     "text": [
      "100%|██████████| 1000/1000 [00:33<00:00, 30.27it/s]\n"
     ]
    },
    {
     "name": "stdout",
     "output_type": "stream",
     "text": [
      "temperature: 2.0202019214630127, update_prob:0.1326286792755127 mean distance: 9.725\n",
      "gradient: 776.3914794921875\n"
     ]
    },
    {
     "name": "stderr",
     "output_type": "stream",
     "text": [
      "100%|██████████| 1000/1000 [00:32<00:00, 30.50it/s]\n"
     ]
    },
    {
     "name": "stdout",
     "output_type": "stream",
     "text": [
      "temperature: 2.070707082748413, update_prob:0.12609659135341644 mean distance: 8.01\n",
      "gradient: 267.34271240234375\n"
     ]
    },
    {
     "name": "stderr",
     "output_type": "stream",
     "text": [
      "100%|██████████| 1000/1000 [00:31<00:00, 31.52it/s]\n"
     ]
    },
    {
     "name": "stdout",
     "output_type": "stream",
     "text": [
      "temperature: 2.1212120056152344, update_prob:0.11988623440265656 mean distance: 9.835\n",
      "gradient: 448.03143310546875\n"
     ]
    },
    {
     "name": "stderr",
     "output_type": "stream",
     "text": [
      "100%|██████████| 1000/1000 [00:31<00:00, 31.46it/s]\n"
     ]
    },
    {
     "name": "stdout",
     "output_type": "stream",
     "text": [
      "temperature: 2.1717171669006348, update_prob:0.11398172378540039 mean distance: 7.11\n",
      "gradient: 261.3222961425781\n"
     ]
    },
    {
     "name": "stderr",
     "output_type": "stream",
     "text": [
      "100%|██████████| 1000/1000 [00:31<00:00, 31.66it/s]\n"
     ]
    },
    {
     "name": "stdout",
     "output_type": "stream",
     "text": [
      "temperature: 2.222222089767456, update_prob:0.10836803913116455 mean distance: 8.655\n",
      "gradient: 338.8981018066406\n"
     ]
    },
    {
     "name": "stderr",
     "output_type": "stream",
     "text": [
      "100%|██████████| 1000/1000 [00:31<00:00, 31.68it/s]\n"
     ]
    },
    {
     "name": "stdout",
     "output_type": "stream",
     "text": [
      "temperature: 2.2727272510528564, update_prob:0.10303080826997757 mean distance: 10.885\n",
      "gradient: 848.747802734375\n"
     ]
    },
    {
     "name": "stderr",
     "output_type": "stream",
     "text": [
      "100%|██████████| 1000/1000 [00:31<00:00, 31.85it/s]\n"
     ]
    },
    {
     "name": "stdout",
     "output_type": "stream",
     "text": [
      "temperature: 2.3232321739196777, update_prob:0.09795646369457245 mean distance: 9.065\n",
      "gradient: 445.6803894042969\n"
     ]
    },
    {
     "name": "stderr",
     "output_type": "stream",
     "text": [
      "100%|██████████| 1000/1000 [00:31<00:00, 31.85it/s]\n"
     ]
    },
    {
     "name": "stdout",
     "output_type": "stream",
     "text": [
      "temperature: 2.373737335205078, update_prob:0.09313201159238815 mean distance: 7.025\n",
      "gradient: 224.2076416015625\n"
     ]
    },
    {
     "name": "stderr",
     "output_type": "stream",
     "text": [
      "100%|██████████| 1000/1000 [00:31<00:00, 31.88it/s]\n"
     ]
    },
    {
     "name": "stdout",
     "output_type": "stream",
     "text": [
      "temperature: 2.4242424964904785, update_prob:0.08854516595602036 mean distance: 5.795\n",
      "gradient: 138.25538635253906\n"
     ]
    },
    {
     "name": "stderr",
     "output_type": "stream",
     "text": [
      "100%|██████████| 1000/1000 [00:36<00:00, 27.65it/s]\n"
     ]
    },
    {
     "name": "stdout",
     "output_type": "stream",
     "text": [
      "temperature: 2.474747657775879, update_prob:0.08418422937393188 mean distance: 7.745\n",
      "gradient: 315.2007141113281\n"
     ]
    },
    {
     "name": "stderr",
     "output_type": "stream",
     "text": [
      "100%|██████████| 1000/1000 [00:34<00:00, 29.30it/s]\n"
     ]
    },
    {
     "name": "stdout",
     "output_type": "stream",
     "text": [
      "temperature: 2.5252525806427, update_prob:0.08003809303045273 mean distance: 6.75\n",
      "gradient: 209.9229736328125\n"
     ]
    },
    {
     "name": "stderr",
     "output_type": "stream",
     "text": [
      "100%|██████████| 1000/1000 [00:35<00:00, 27.88it/s]\n"
     ]
    },
    {
     "name": "stdout",
     "output_type": "stream",
     "text": [
      "temperature: 2.5757577419281006, update_prob:0.07609613984823227 mean distance: 4.21\n",
      "gradient: 47.30175018310547\n"
     ]
    },
    {
     "name": "stderr",
     "output_type": "stream",
     "text": [
      "100%|██████████| 1000/1000 [00:33<00:00, 30.12it/s]\n"
     ]
    },
    {
     "name": "stdout",
     "output_type": "stream",
     "text": [
      "temperature: 2.626262664794922, update_prob:0.07234834879636765 mean distance: 6.82\n",
      "gradient: 224.5637969970703\n"
     ]
    },
    {
     "name": "stderr",
     "output_type": "stream",
     "text": [
      "100%|██████████| 1000/1000 [00:32<00:00, 31.08it/s]\n"
     ]
    },
    {
     "name": "stdout",
     "output_type": "stream",
     "text": [
      "temperature: 2.6767678260803223, update_prob:0.06878512352705002 mean distance: 4.41\n",
      "gradient: 28.027149200439453\n"
     ]
    },
    {
     "name": "stderr",
     "output_type": "stream",
     "text": [
      "100%|██████████| 1000/1000 [00:31<00:00, 31.78it/s]\n"
     ]
    },
    {
     "name": "stdout",
     "output_type": "stream",
     "text": [
      "temperature: 2.7272727489471436, update_prob:0.06539740413427353 mean distance: 7.365\n",
      "gradient: 227.81663513183594\n"
     ]
    },
    {
     "name": "stderr",
     "output_type": "stream",
     "text": [
      "100%|██████████| 1000/1000 [00:31<00:00, 31.79it/s]\n"
     ]
    },
    {
     "name": "stdout",
     "output_type": "stream",
     "text": [
      "temperature: 2.777777910232544, update_prob:0.06217651441693306 mean distance: 5.705\n",
      "gradient: 103.2613296508789\n"
     ]
    },
    {
     "name": "stderr",
     "output_type": "stream",
     "text": [
      "100%|██████████| 1000/1000 [00:31<00:00, 32.05it/s]\n"
     ]
    },
    {
     "name": "stdout",
     "output_type": "stream",
     "text": [
      "temperature: 2.8282828330993652, update_prob:0.05911427363753319 mean distance: 3.745\n",
      "gradient: 34.2677116394043\n"
     ]
    },
    {
     "name": "stderr",
     "output_type": "stream",
     "text": [
      "100%|██████████| 1000/1000 [00:31<00:00, 31.94it/s]\n"
     ]
    },
    {
     "name": "stdout",
     "output_type": "stream",
     "text": [
      "temperature: 2.8787879943847656, update_prob:0.05620284005999565 mean distance: 4.84\n",
      "gradient: 67.60711669921875\n"
     ]
    },
    {
     "name": "stderr",
     "output_type": "stream",
     "text": [
      "100%|██████████| 1000/1000 [00:32<00:00, 31.18it/s]\n"
     ]
    },
    {
     "name": "stdout",
     "output_type": "stream",
     "text": [
      "temperature: 2.929292917251587, update_prob:0.05343480780720711 mean distance: 3.08\n",
      "gradient: -1.4586642980575562\n"
     ]
    },
    {
     "name": "stderr",
     "output_type": "stream",
     "text": [
      "100%|██████████| 1000/1000 [00:34<00:00, 28.85it/s]\n"
     ]
    },
    {
     "name": "stdout",
     "output_type": "stream",
     "text": [
      "temperature: 2.9797980785369873, update_prob:0.05080309137701988 mean distance: 4.775\n",
      "gradient: 63.261295318603516\n"
     ]
    },
    {
     "name": "stderr",
     "output_type": "stream",
     "text": [
      "100%|██████████| 1000/1000 [00:31<00:00, 31.41it/s]\n"
     ]
    },
    {
     "name": "stdout",
     "output_type": "stream",
     "text": [
      "temperature: 3.0303030014038086, update_prob:0.04830100014805794 mean distance: 4.865\n",
      "gradient: 65.76649475097656\n"
     ]
    },
    {
     "name": "stderr",
     "output_type": "stream",
     "text": [
      "100%|██████████| 1000/1000 [00:31<00:00, 32.04it/s]\n"
     ]
    },
    {
     "name": "stdout",
     "output_type": "stream",
     "text": [
      "temperature: 3.080808162689209, update_prob:0.04592213034629822 mean distance: 4.26\n",
      "gradient: 20.74944496154785\n"
     ]
    },
    {
     "name": "stderr",
     "output_type": "stream",
     "text": [
      "100%|██████████| 1000/1000 [00:31<00:00, 32.00it/s]\n"
     ]
    },
    {
     "name": "stdout",
     "output_type": "stream",
     "text": [
      "temperature: 3.1313130855560303, update_prob:0.04366042837500572 mean distance: 3.93\n",
      "gradient: 15.852052688598633\n"
     ]
    },
    {
     "name": "stderr",
     "output_type": "stream",
     "text": [
      "100%|██████████| 1000/1000 [00:32<00:00, 30.95it/s]\n"
     ]
    },
    {
     "name": "stdout",
     "output_type": "stream",
     "text": [
      "temperature: 3.1818182468414307, update_prob:0.04151010885834694 mean distance: 3.355\n",
      "gradient: 7.464229106903076\n"
     ]
    },
    {
     "name": "stderr",
     "output_type": "stream",
     "text": [
      "100%|██████████| 1000/1000 [00:32<00:00, 30.40it/s]\n"
     ]
    },
    {
     "name": "stdout",
     "output_type": "stream",
     "text": [
      "temperature: 3.232323169708252, update_prob:0.039465706795454025 mean distance: 2.82\n",
      "gradient: 6.089916706085205\n"
     ]
    },
    {
     "name": "stderr",
     "output_type": "stream",
     "text": [
      "100%|██████████| 1000/1000 [00:34<00:00, 28.95it/s]\n"
     ]
    },
    {
     "name": "stdout",
     "output_type": "stream",
     "text": [
      "temperature: 3.2828283309936523, update_prob:0.037521980702877045 mean distance: 2.39\n",
      "gradient: -4.456838607788086\n"
     ]
    },
    {
     "name": "stderr",
     "output_type": "stream",
     "text": [
      "100%|██████████| 1000/1000 [00:33<00:00, 29.74it/s]\n"
     ]
    },
    {
     "name": "stdout",
     "output_type": "stream",
     "text": [
      "temperature: 3.3333332538604736, update_prob:0.035673994570970535 mean distance: 2.86\n",
      "gradient: 2.416074514389038\n"
     ]
    },
    {
     "name": "stderr",
     "output_type": "stream",
     "text": [
      "100%|██████████| 1000/1000 [00:31<00:00, 31.80it/s]\n"
     ]
    },
    {
     "name": "stdout",
     "output_type": "stream",
     "text": [
      "temperature: 3.383838415145874, update_prob:0.03391701728105545 mean distance: 2.55\n",
      "gradient: -1.4237645864486694\n"
     ]
    },
    {
     "name": "stderr",
     "output_type": "stream",
     "text": [
      "100%|██████████| 1000/1000 [00:31<00:00, 31.59it/s]\n"
     ]
    },
    {
     "name": "stdout",
     "output_type": "stream",
     "text": [
      "temperature: 3.4343433380126953, update_prob:0.032246578484773636 mean distance: 2.095\n",
      "gradient: 0.005286017432808876\n"
     ]
    },
    {
     "name": "stderr",
     "output_type": "stream",
     "text": [
      "100%|██████████| 1000/1000 [00:31<00:00, 31.61it/s]\n"
     ]
    },
    {
     "name": "stdout",
     "output_type": "stream",
     "text": [
      "temperature: 3.4848484992980957, update_prob:0.030658403411507607 mean distance: 2.7\n",
      "gradient: 3.455620527267456\n"
     ]
    },
    {
     "name": "stderr",
     "output_type": "stream",
     "text": [
      "100%|██████████| 1000/1000 [00:31<00:00, 32.04it/s]\n"
     ]
    },
    {
     "name": "stdout",
     "output_type": "stream",
     "text": [
      "temperature: 3.535353422164917, update_prob:0.02914845384657383 mean distance: 2.68\n",
      "gradient: -2.0341243743896484\n"
     ]
    },
    {
     "name": "stderr",
     "output_type": "stream",
     "text": [
      "100%|██████████| 1000/1000 [00:31<00:00, 31.99it/s]\n"
     ]
    },
    {
     "name": "stdout",
     "output_type": "stream",
     "text": [
      "temperature: 3.5858585834503174, update_prob:0.027712862938642502 mean distance: 1.48\n",
      "gradient: -3.2895729541778564\n"
     ]
    },
    {
     "name": "stderr",
     "output_type": "stream",
     "text": [
      "100%|██████████| 1000/1000 [00:31<00:00, 31.79it/s]\n"
     ]
    },
    {
     "name": "stdout",
     "output_type": "stream",
     "text": [
      "temperature: 3.6363635063171387, update_prob:0.02634798362851143 mean distance: 2.13\n",
      "gradient: -5.229175090789795\n"
     ]
    },
    {
     "name": "stderr",
     "output_type": "stream",
     "text": [
      "100%|██████████| 1000/1000 [00:31<00:00, 31.52it/s]\n"
     ]
    },
    {
     "name": "stdout",
     "output_type": "stream",
     "text": [
      "temperature: 3.686868667602539, update_prob:0.025050319731235504 mean distance: 2.45\n",
      "gradient: -0.559561550617218\n"
     ]
    },
    {
     "name": "stderr",
     "output_type": "stream",
     "text": [
      "100%|██████████| 1000/1000 [00:31<00:00, 31.70it/s]\n"
     ]
    },
    {
     "name": "stdout",
     "output_type": "stream",
     "text": [
      "temperature: 3.7373735904693604, update_prob:0.02381657250225544 mean distance: 1.525\n",
      "gradient: -2.777890682220459\n"
     ]
    },
    {
     "name": "stderr",
     "output_type": "stream",
     "text": [
      "100%|██████████| 1000/1000 [00:31<00:00, 31.45it/s]\n"
     ]
    },
    {
     "name": "stdout",
     "output_type": "stream",
     "text": [
      "temperature: 3.7878787517547607, update_prob:0.02264358289539814 mean distance: 1.76\n",
      "gradient: -2.801478624343872\n"
     ]
    },
    {
     "name": "stderr",
     "output_type": "stream",
     "text": [
      "100%|██████████| 1000/1000 [00:31<00:00, 31.72it/s]\n"
     ]
    },
    {
     "name": "stdout",
     "output_type": "stream",
     "text": [
      "temperature: 3.838383674621582, update_prob:0.021528370678424835 mean distance: 2.19\n",
      "gradient: -1.0167903900146484\n"
     ]
    },
    {
     "name": "stderr",
     "output_type": "stream",
     "text": [
      "100%|██████████| 1000/1000 [00:31<00:00, 31.77it/s]\n"
     ]
    },
    {
     "name": "stdout",
     "output_type": "stream",
     "text": [
      "temperature: 3.8888888359069824, update_prob:0.020468076691031456 mean distance: 1.82\n",
      "gradient: -4.296122074127197\n"
     ]
    },
    {
     "name": "stderr",
     "output_type": "stream",
     "text": [
      "100%|██████████| 1000/1000 [00:31<00:00, 31.64it/s]\n"
     ]
    },
    {
     "name": "stdout",
     "output_type": "stream",
     "text": [
      "temperature: 3.9393937587738037, update_prob:0.019460009410977364 mean distance: 0.96\n",
      "gradient: 0.36796829104423523\n"
     ]
    },
    {
     "name": "stderr",
     "output_type": "stream",
     "text": [
      "100%|██████████| 1000/1000 [00:31<00:00, 31.86it/s]\n"
     ]
    },
    {
     "name": "stdout",
     "output_type": "stream",
     "text": [
      "temperature: 3.989898920059204, update_prob:0.018501583486795425 mean distance: 1.75\n",
      "gradient: -4.857827663421631\n"
     ]
    },
    {
     "name": "stderr",
     "output_type": "stream",
     "text": [
      "100%|██████████| 1000/1000 [00:31<00:00, 31.70it/s]\n"
     ]
    },
    {
     "name": "stdout",
     "output_type": "stream",
     "text": [
      "temperature: 4.040404319763184, update_prob:0.01759035885334015 mean distance: 1.855\n",
      "gradient: -4.437930107116699\n"
     ]
    },
    {
     "name": "stderr",
     "output_type": "stream",
     "text": [
      "100%|██████████| 1000/1000 [00:31<00:00, 31.51it/s]\n"
     ]
    },
    {
     "name": "stdout",
     "output_type": "stream",
     "text": [
      "temperature: 4.090909481048584, update_prob:0.01672401651740074 mean distance: 1.8\n",
      "gradient: -1.6507291793823242\n"
     ]
    },
    {
     "name": "stderr",
     "output_type": "stream",
     "text": [
      "100%|██████████| 1000/1000 [00:31<00:00, 31.82it/s]\n"
     ]
    },
    {
     "name": "stdout",
     "output_type": "stream",
     "text": [
      "temperature: 4.141414642333984, update_prob:0.015900341793894768 mean distance: 1.88\n",
      "gradient: -1.0910861492156982\n"
     ]
    },
    {
     "name": "stderr",
     "output_type": "stream",
     "text": [
      "100%|██████████| 1000/1000 [00:31<00:00, 32.07it/s]\n"
     ]
    },
    {
     "name": "stdout",
     "output_type": "stream",
     "text": [
      "temperature: 4.191919326782227, update_prob:0.015117242000997066 mean distance: 1.1\n",
      "gradient: -0.6925700902938843\n"
     ]
    },
    {
     "name": "stderr",
     "output_type": "stream",
     "text": [
      "100%|██████████| 1000/1000 [00:31<00:00, 31.63it/s]\n"
     ]
    },
    {
     "name": "stdout",
     "output_type": "stream",
     "text": [
      "temperature: 4.242424488067627, update_prob:0.014372702687978745 mean distance: 0.95\n",
      "gradient: 0.42166563868522644\n"
     ]
    },
    {
     "name": "stderr",
     "output_type": "stream",
     "text": [
      "100%|██████████| 1000/1000 [00:31<00:00, 31.88it/s]\n"
     ]
    },
    {
     "name": "stdout",
     "output_type": "stream",
     "text": [
      "temperature: 4.292929649353027, update_prob:0.013664833270013332 mean distance: 1.25\n",
      "gradient: -1.47821843624115\n"
     ]
    },
    {
     "name": "stderr",
     "output_type": "stream",
     "text": [
      "100%|██████████| 1000/1000 [00:31<00:00, 31.89it/s]\n"
     ]
    },
    {
     "name": "stdout",
     "output_type": "stream",
     "text": [
      "temperature: 4.343434810638428, update_prob:0.012991826981306076 mean distance: 1.07\n",
      "gradient: -0.46428796648979187\n"
     ]
    },
    {
     "name": "stderr",
     "output_type": "stream",
     "text": [
      "100%|██████████| 1000/1000 [00:31<00:00, 31.97it/s]\n"
     ]
    },
    {
     "name": "stdout",
     "output_type": "stream",
     "text": [
      "temperature: 4.39393949508667, update_prob:0.012351972982287407 mean distance: 1.91\n",
      "gradient: -5.107141017913818\n"
     ]
    },
    {
     "name": "stderr",
     "output_type": "stream",
     "text": [
      "100%|██████████| 1000/1000 [00:31<00:00, 31.75it/s]\n"
     ]
    },
    {
     "name": "stdout",
     "output_type": "stream",
     "text": [
      "temperature: 4.44444465637207, update_prob:0.01174362562596798 mean distance: 0.53\n",
      "gradient: 3.0153167247772217\n"
     ]
    },
    {
     "name": "stderr",
     "output_type": "stream",
     "text": [
      "100%|██████████| 1000/1000 [00:31<00:00, 32.02it/s]\n"
     ]
    },
    {
     "name": "stdout",
     "output_type": "stream",
     "text": [
      "temperature: 4.494949817657471, update_prob:0.011165240779519081 mean distance: 1.1600000000000004\n",
      "gradient: -0.5342100858688354\n"
     ]
    },
    {
     "name": "stderr",
     "output_type": "stream",
     "text": [
      "100%|██████████| 1000/1000 [00:31<00:00, 31.86it/s]\n"
     ]
    },
    {
     "name": "stdout",
     "output_type": "stream",
     "text": [
      "temperature: 4.545454978942871, update_prob:0.010615342296659946 mean distance: 1.0000000000000002\n",
      "gradient: -1.251838463076603e-15\n"
     ]
    },
    {
     "name": "stderr",
     "output_type": "stream",
     "text": [
      "100%|██████████| 1000/1000 [00:31<00:00, 31.93it/s]\n"
     ]
    },
    {
     "name": "stdout",
     "output_type": "stream",
     "text": [
      "temperature: 4.595959663391113, update_prob:0.010092530399560928 mean distance: 0.7900000000000001\n",
      "gradient: 1.059441328048706\n"
     ]
    },
    {
     "name": "stderr",
     "output_type": "stream",
     "text": [
      "100%|██████████| 1000/1000 [00:31<00:00, 32.07it/s]\n"
     ]
    },
    {
     "name": "stdout",
     "output_type": "stream",
     "text": [
      "temperature: 4.646464824676514, update_prob:0.00959546398371458 mean distance: 0.59\n",
      "gradient: 2.446708917617798\n"
     ]
    },
    {
     "name": "stderr",
     "output_type": "stream",
     "text": [
      "100%|██████████| 1000/1000 [00:31<00:00, 31.76it/s]\n"
     ]
    },
    {
     "name": "stdout",
     "output_type": "stream",
     "text": [
      "temperature: 4.696969985961914, update_prob:0.009122877381742 mean distance: 1.69\n",
      "gradient: -1.4723551273345947\n"
     ]
    },
    {
     "name": "stderr",
     "output_type": "stream",
     "text": [
      "100%|██████████| 1000/1000 [00:31<00:00, 31.93it/s]\n"
     ]
    },
    {
     "name": "stdout",
     "output_type": "stream",
     "text": [
      "temperature: 4.7474751472473145, update_prob:0.008673567324876785 mean distance: 1.1600000000000001\n",
      "gradient: -0.7641897201538086\n"
     ]
    },
    {
     "name": "stderr",
     "output_type": "stream",
     "text": [
      "100%|██████████| 1000/1000 [00:31<00:00, 31.97it/s]\n"
     ]
    },
    {
     "name": "stdout",
     "output_type": "stream",
     "text": [
      "temperature: 4.797979831695557, update_prob:0.008246389217674732 mean distance: 0.69\n",
      "gradient: 1.745822787284851\n"
     ]
    },
    {
     "name": "stderr",
     "output_type": "stream",
     "text": [
      "100%|██████████| 1000/1000 [00:31<00:00, 31.96it/s]\n"
     ]
    },
    {
     "name": "stdout",
     "output_type": "stream",
     "text": [
      "temperature: 4.848484992980957, update_prob:0.007840246893465519 mean distance: 0.27\n",
      "gradient: 4.289221286773682\n"
     ]
    },
    {
     "name": "stderr",
     "output_type": "stream",
     "text": [
      "100%|██████████| 1000/1000 [00:31<00:00, 31.75it/s]\n"
     ]
    },
    {
     "name": "stdout",
     "output_type": "stream",
     "text": [
      "temperature: 4.898989677429199, update_prob:0.007454110309481621 mean distance: 0.3600000000000001\n",
      "gradient: 3.7797493934631348\n"
     ]
    },
    {
     "name": "stderr",
     "output_type": "stream",
     "text": [
      "100%|██████████| 1000/1000 [00:31<00:00, 31.75it/s]\n"
     ]
    },
    {
     "name": "stdout",
     "output_type": "stream",
     "text": [
      "temperature: 4.9494948387146, update_prob:0.0070869880728423595 mean distance: 0.53\n",
      "gradient: 2.7129902839660645\n"
     ]
    },
    {
     "name": "stderr",
     "output_type": "stream",
     "text": [
      "100%|██████████| 1000/1000 [00:31<00:00, 32.07it/s]\n"
     ]
    },
    {
     "name": "stdout",
     "output_type": "stream",
     "text": [
      "temperature: 5.0, update_prob:0.0067379469983279705 mean distance: 0.45\n",
      "gradient: 2.705386161804199\n"
     ]
    }
   ],
   "source": [
    "temps = t.linspace(0,5,100)\n",
    "target_vol = 1.\n",
    "ref = t.zeros(1,256,256, device=device)\n",
    "ref[:,128,128] += 1\n",
    "dist_matrix = create_dist_matrix(ref)\n",
    "target_distance = 1.\n",
    "\n",
    "grads = []\n",
    "mean_distances = []\n",
    "losses = []\n",
    "for temp in temps:\n",
    "    temp.requires_grad_()\n",
    "    batch = t.zeros(100,256,256, device=device)\n",
    "    batch[:,128,128] += 1\n",
    "    new_temp, grad, mean_distance, loss = step(batch, dist_matrix, temp, target_vol, eta=1, num_steps=1000, target_distance=target_distance)\n",
    "    grads.append(grad.detach().cpu().numpy())\n",
    "    mean_distances.append(mean_distance.detach().cpu().numpy())\n",
    "    losses.append(loss.detach().cpu().numpy())"
   ]
  },
  {
   "cell_type": "code",
   "execution_count": null,
   "metadata": {},
   "outputs": [],
   "source": []
  }
 ],
 "metadata": {
  "kernelspec": {
   "display_name": "torchenv",
   "language": "python",
   "name": "python3"
  },
  "language_info": {
   "codemirror_mode": {
    "name": "ipython",
    "version": 3
   },
   "file_extension": ".py",
   "mimetype": "text/x-python",
   "name": "python",
   "nbconvert_exporter": "python",
   "pygments_lexer": "ipython3",
   "version": "3.10.6"
  },
  "orig_nbformat": 4
 },
 "nbformat": 4,
 "nbformat_minor": 2
}
