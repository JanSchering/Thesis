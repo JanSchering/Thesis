{
 "cells": [
  {
   "cell_type": "code",
   "execution_count": 1,
   "metadata": {},
   "outputs": [],
   "source": [
    "import torch as t\n",
    "from scipy import ndimage\n",
    "import numpy as np\n",
    "import random\n",
    "from tqdm import tqdm\n",
    "import matplotlib.pyplot as plt\n",
    "import numpy as np\n",
    "from PIL import Image"
   ]
  },
  {
   "cell_type": "code",
   "execution_count": 2,
   "metadata": {},
   "outputs": [],
   "source": [
    "#device = t.device('cuda' if t.cuda.is_available() else 'cpu')\n",
    "device = t.device('cpu')"
   ]
  },
  {
   "cell_type": "code",
   "execution_count": 3,
   "metadata": {},
   "outputs": [],
   "source": [
    "def simple_res_plot(temps, grads, losses):\n",
    "    plt.plot(temps.cpu(), grads, label=\"gradient\")\n",
    "    plt.plot(temps.cpu(), losses, label=\"loss\")\n",
    "    plt.plot(temps.cpu(), t.exp(-temps).cpu(), label=\"probability\")\n",
    "\n",
    "    plt.hlines(y=[0.], xmin=0, xmax=5, label=\"0-grad line\", linestyles=\"dashed\", colors=[\"gray\"])\n",
    "\n",
    "    plt.legend()\n",
    "    plt.show()"
   ]
  },
  {
   "cell_type": "code",
   "execution_count": 4,
   "metadata": {},
   "outputs": [],
   "source": [
    "def create_dist_matrix(batch:t.Tensor):\n",
    "    dist_matrix:np.ndarray = ndimage.distance_transform_edt(1-batch[0].cpu(), return_indices=False)\n",
    "    dist_matrix = dist_matrix**2\n",
    "    dist_matrix_t = t.from_numpy(dist_matrix).to(device)\n",
    "    return dist_matrix_t"
   ]
  },
  {
   "cell_type": "code",
   "execution_count": 5,
   "metadata": {},
   "outputs": [],
   "source": [
    "MOORE_OFFSETS = t.tensor([(1, 1), (1, -1), (1, 0), (-1, 0), (0, 0), (-1, 1), (-1, -1), (0, 1), (0, -1)], device=device)\n",
    "def get_moore_nbh(batch:t.Tensor):\n",
    "    _, batch_height, _ = batch.shape\n",
    "    cell_pixel_coords = (batch == 1).nonzero()\n",
    "    nbh_coords = (cell_pixel_coords[:, 1:].unsqueeze(1)+MOORE_OFFSETS.type(t.float).unsqueeze(0))\n",
    "    idx_pad = cell_pixel_coords[:, 0].repeat(9,1).T.reshape(cell_pixel_coords[:, 0].shape[0], 9, 1)\n",
    "    nbh_coords[nbh_coords == -1] = 1\n",
    "    nbh_coords[nbh_coords == batch_height] = batch_height -2\n",
    "    return t.concatenate((idx_pad, nbh_coords), dim=-1)"
   ]
  },
  {
   "cell_type": "code",
   "execution_count": 29,
   "metadata": {},
   "outputs": [],
   "source": [
    "STEP_SIZES = t.tensor([(1, 0), (0, 1), (-1, 0), (0, -1), (1, 1), (1, -1), (-1, 1), (-1, -1)], device=device)\n",
    "def MCS(batch, temperature):\n",
    "    batch_size, batch_height, _ = batch.shape\n",
    "    \n",
    "    #########################################################\n",
    "    # 1. Find source and target coordinates for each sample #\n",
    "    #########################################################\n",
    "    # Find all pixels that belong to a cell, or border a cell \n",
    "    frontiers = get_moore_nbh(batch)\n",
    "    src_coords = []\n",
    "    for batch_idx in range(batch_size):\n",
    "        frontier = frontiers[frontiers[:, :, 0] == batch_idx, :].unique(dim=0)\n",
    "        src_coords.append(random.choice(frontier).type(t.long))\n",
    "    batch_src_coords = t.vstack(src_coords)\n",
    "    p_f = np.sqrt(2.)\n",
    "    p_side = (p_f - 1)*p_f/4\n",
    "    p_diag = (p_f - 1)/4\n",
    "    step_size_idx = t.tensor(np.random.choice(\n",
    "            STEP_SIZES.shape[0],\n",
    "            size=batch_src_coords.shape[0],\n",
    "            replace=True,\n",
    "            p=[p_side, p_side, p_side, p_side, p_diag, p_diag, p_diag, p_diag])).type(t.long)\n",
    "    step_sizes = STEP_SIZES[step_size_idx]\n",
    "    tgt_coords = t.hstack((batch_src_coords[:, 0].unsqueeze(0).T, batch_src_coords[:, 1:] + step_sizes))\n",
    "    tgt_coords[:, 1:][tgt_coords[:, 1:] == -1] = 1\n",
    "    tgt_coords[:, 1:][tgt_coords[:, 1:] == batch_height] = batch_height -2\n",
    "    tgt_i = tgt_coords[:, 0]\n",
    "    tgt_j = tgt_coords[:, 1]\n",
    "    tgt_k = tgt_coords[:, 2]\n",
    "    src_i = batch_src_coords[:, 0]\n",
    "    src_j = batch_src_coords[:, 1]\n",
    "    src_k = batch_src_coords[:, 2]\n",
    "    \n",
    "    #########################################################################\n",
    "    # 2. Calculate the changes in volume that the copy attempts would cause #\n",
    "    #########################################################################\n",
    "    current_volumes = t.sum(batch, dim=(-1, -2))\n",
    "    vol_changes = (-1 * batch[tgt_i, tgt_j, tgt_k]) + batch[src_i, src_j, src_k]\n",
    "    adjusted_vols = current_volumes + vol_changes\n",
    "    \n",
    "    #########################################################\n",
    "    # 3. Define boolean masks based on the volume changes   #\n",
    "    #########################################################\n",
    "    sml_eq_two_mask = adjusted_vols <= 2\n",
    "    greater_zero_mask = adjusted_vols > 0\n",
    "    vol_change_positive_mask = vol_changes > 0\n",
    "    vol_change_negative_mask = vol_changes < 0\n",
    "    \n",
    "    #########################################################\n",
    "    # 4. auto accept each attempt with negative vol. change #\n",
    "    # that fulfills the hard volume constraint              #\n",
    "    #########################################################\n",
    "    auto_upd_mask = t.logical_and(\n",
    "        vol_change_negative_mask,\n",
    "        greater_zero_mask\n",
    "    )\n",
    "    auto_upd_i = tgt_i[auto_upd_mask]\n",
    "    auto_upd_j = tgt_j[auto_upd_mask]\n",
    "    auto_upd_k = tgt_k[auto_upd_mask]\n",
    "    batch[auto_upd_i, auto_upd_j, auto_upd_k] += vol_changes[auto_upd_mask]\n",
    "    \n",
    "    ##################################################################\n",
    "    # 5. stochastic update of the attempts with positive vol. change #\n",
    "    ################################################################## \n",
    "    update_mask = t.logical_and(\n",
    "        vol_change_positive_mask,\n",
    "        sml_eq_two_mask\n",
    "    )\n",
    "    update_probability = t.exp(-temperature)\n",
    "    logit = t.log(t.hstack((update_probability, (1-update_probability))))\n",
    "    batch_logits = logit.repeat((vol_changes[update_mask].shape[0],1))\n",
    "    one_hot = t.nn.functional.gumbel_softmax(batch_logits, hard=True)\n",
    "    \n",
    "    upd_vals = one_hot[:, 0] * vol_changes[update_mask]\n",
    "    upd_i = tgt_i[update_mask]\n",
    "    upd_j = tgt_j[update_mask]\n",
    "    upd_k = tgt_k[update_mask]\n",
    "    batch[upd_i, upd_j, upd_k] += upd_vals.squeeze()\n",
    "    \n",
    "    return batch\n",
    "    "
   ]
  },
  {
   "cell_type": "code",
   "execution_count": 30,
   "metadata": {},
   "outputs": [
    {
     "name": "stderr",
     "output_type": "stream",
     "text": [
      "100%|██████████| 1000/1000 [00:01<00:00, 509.49it/s]\n"
     ]
    },
    {
     "name": "stdout",
     "output_type": "stream",
     "text": [
      "1000\n"
     ]
    }
   ],
   "source": [
    "temperature = t.tensor(1.)\n",
    "target_vol = 1.\n",
    "batch = t.zeros(1,256,256, device=device)\n",
    "batch[:,128,128] += 1\n",
    "\n",
    "states = []\n",
    "for i in tqdm(range(1000)):\n",
    "    batch = MCS(batch, temperature)\n",
    "    if t.any(t.sum(batch, dim=(-1,-2)) == 0) or t.any(t.sum(batch, dim=(-1,-2)) > 2):\n",
    "        print(\"ISSUE DETECTED, STOP SIM\")\n",
    "        break\n",
    "    else:\n",
    "        states.append(batch[0].detach().clone().cpu().numpy())\n",
    "\n",
    "imgs = [Image.fromarray((1-state)*255) for state in states]\n",
    "print(len(imgs))\n",
    "imgs[0].save(\"test.gif\", save_all=True, append_images=imgs[1:], fps=20)"
   ]
  },
  {
   "cell_type": "code",
   "execution_count": 31,
   "metadata": {},
   "outputs": [],
   "source": [
    "def step(batch:t.Tensor, dist_matrix:t.Tensor, temperature:t.Tensor, eta:float, num_steps:int, target_distance:float):\n",
    "    for i in tqdm(range(num_steps)):\n",
    "        batch = MCS(batch, temperature)\n",
    "        if t.any(t.sum(batch, dim=(-1,-2)) == 0) or t.any(t.sum(batch, dim=(-1,-2)) > 2):\n",
    "            print(\"ISSUE DETECTED, STOP SIM\")\n",
    "            return None, None\n",
    "    # calc the distance after 100 steps    \n",
    "    distances = t.sum(batch * dist_matrix, dim=(-1,-2)) / t.sum(batch, dim=(-1,-2))\n",
    "    mean_distance = t.mean(distances)\n",
    "    print(f\"temperature: {temperature}, update_prob:{t.exp(-temperature)} mean distance: {mean_distance}\")\n",
    "    loss = (mean_distance - target_distance)**2\n",
    "    grad = t.autograd.grad(loss, temperature)[0]\n",
    "    print(f\"gradient: {grad}\")\n",
    "    return t.clamp(temperature - (eta * grad), min=1e-5, max=40.), grad, mean_distance, loss"
   ]
  },
  {
   "cell_type": "code",
   "execution_count": null,
   "metadata": {},
   "outputs": [],
   "source": [
    "temps1 = t.linspace(0,1,30)\n",
    "temps2 = t.linspace(1, 5, 20)\n",
    "temps = t.cat((temps1, temps2))\n",
    "ref = t.zeros(1,16,16, device=device)\n",
    "ref[:,8,8] += 1\n",
    "dist_matrix = create_dist_matrix(ref)\n",
    "target_distance = 2.\n",
    "\n",
    "grads = []\n",
    "mean_distances = []\n",
    "losses = []\n",
    "for temp in temps:\n",
    "    temp.requires_grad_()\n",
    "    batch = t.zeros(1000,16,16, device=device)\n",
    "    batch[:,8,8] += 1\n",
    "    new_temp, grad, mean_distance, loss = step(batch, dist_matrix, temp, eta=1, num_steps=100, target_distance=target_distance)\n",
    "    grads.append(grad.detach().cpu().numpy())\n",
    "    mean_distances.append(mean_distance.detach().cpu().numpy())\n",
    "    losses.append(loss.detach().cpu().numpy())"
   ]
  },
  {
   "cell_type": "code",
   "execution_count": 33,
   "metadata": {},
   "outputs": [
    {
     "data": {
      "image/png": "[encoded data removed]",
      "text/plain": [
       "<Figure size 640x480 with 1 Axes>"
      ]
     },
     "metadata": {},
     "output_type": "display_data"
    }
   ],
   "source": [
    "simple_res_plot(temps, grads, losses)"
   ]
  },
  {
   "cell_type": "code",
   "execution_count": 36,
   "metadata": {},
   "outputs": [
    {
     "data": {
      "text/plain": [
       "tensor([[32.0000, 25.0000, 20.0000, 17.0000, 16.0000, 17.0000, 20.0000, 25.0000],\n",
       "        [25.0000, 18.0000, 13.0000, 10.0000,  9.0000, 10.0000, 13.0000, 18.0000],\n",
       "        [20.0000, 13.0000,  8.0000,  5.0000,  4.0000,  5.0000,  8.0000, 13.0000],\n",
       "        [17.0000, 10.0000,  5.0000,  2.0000,  1.0000,  2.0000,  5.0000, 10.0000],\n",
       "        [16.0000,  9.0000,  4.0000,  1.0000,  0.0000,  1.0000,  4.0000,  9.0000],\n",
       "        [17.0000, 10.0000,  5.0000,  2.0000,  1.0000,  2.0000,  5.0000, 10.0000],\n",
       "        [20.0000, 13.0000,  8.0000,  5.0000,  4.0000,  5.0000,  8.0000, 13.0000],\n",
       "        [25.0000, 18.0000, 13.0000, 10.0000,  9.0000, 10.0000, 13.0000, 18.0000]],\n",
       "       dtype=torch.float64)"
      ]
     },
     "execution_count": 36,
     "metadata": {},
     "output_type": "execute_result"
    }
   ],
   "source": [
    "ref = t.zeros(1,8,8, device=device)\n",
    "ref[:,4,4] += 1\n",
    "create_dist_matrix(ref)"
   ]
  },
  {
   "cell_type": "code",
   "execution_count": null,
   "metadata": {},
   "outputs": [],
   "source": []
  }
 ],
 "metadata": {
  "kernelspec": {
   "display_name": "torchenv",
   "language": "python",
   "name": "python3"
  },
  "language_info": {
   "codemirror_mode": {
    "name": "ipython",
    "version": 3
   },
   "file_extension": ".py",
   "mimetype": "text/x-python",
   "name": "python",
   "nbconvert_exporter": "python",
   "pygments_lexer": "ipython3",
   "version": "3.10.6"
  },
  "orig_nbformat": 4
 },
 "nbformat": 4,
 "nbformat_minor": 2
}
