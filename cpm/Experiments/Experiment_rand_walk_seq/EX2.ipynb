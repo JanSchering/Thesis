{
 "cells": [
  {
   "cell_type": "code",
   "execution_count": 73,
   "metadata": {},
   "outputs": [],
   "source": [
    "import torch as t\n",
    "from mcs import MCS\n",
    "from PIL import Image\n",
    "from scipy import ndimage\n",
    "import numpy as np\n",
    "import random"
   ]
  },
  {
   "cell_type": "code",
   "execution_count": null,
   "metadata": {},
   "outputs": [],
   "source": [
    "class STESpike(t.autograd.Function):\n",
    "    @staticmethod\n",
    "    def forward(ctx, input):\n",
    "        return (input > 0).float()\n",
    "\n",
    "    @staticmethod\n",
    "    def backward(ctx, grad_output):\n",
    "        return grad_output\n"
   ]
  },
  {
   "cell_type": "code",
   "execution_count": 16,
   "metadata": {},
   "outputs": [
    {
     "data": {
      "text/plain": [
       "tensor([[[0., 0., 0., 0., 0., 0., 0., 0.],\n",
       "         [0., 0., 0., 0., 0., 0., 0., 0.],\n",
       "         [0., 0., 0., 0., 0., 0., 0., 0.],\n",
       "         [0., 0., 0., 0., 0., 0., 0., 0.],\n",
       "         [0., 0., 0., 0., 1., 0., 0., 0.],\n",
       "         [0., 0., 0., 0., 0., 1., 0., 0.],\n",
       "         [0., 0., 0., 0., 0., 0., 0., 0.],\n",
       "         [0., 0., 0., 0., 0., 0., 0., 0.]],\n",
       "\n",
       "        [[0., 0., 0., 0., 0., 0., 0., 0.],\n",
       "         [0., 1., 1., 0., 0., 0., 0., 0.],\n",
       "         [0., 0., 0., 0., 0., 0., 0., 0.],\n",
       "         [0., 0., 0., 0., 0., 0., 0., 0.],\n",
       "         [0., 0., 0., 0., 0., 0., 0., 0.],\n",
       "         [0., 0., 0., 0., 0., 0., 0., 0.],\n",
       "         [0., 0., 0., 0., 0., 0., 0., 0.],\n",
       "         [0., 0., 0., 0., 0., 0., 0., 0.]]])"
      ]
     },
     "execution_count": 16,
     "metadata": {},
     "output_type": "execute_result"
    }
   ],
   "source": [
    "grid = t.zeros((2,8,8))\n",
    "grid[0,4,4] = 1\n",
    "grid[0,5,5] = 1\n",
    "\n",
    "grid[1,1,1] = 1\n",
    "grid[1,1,2] = 1\n",
    "grid"
   ]
  },
  {
   "cell_type": "code",
   "execution_count": 17,
   "metadata": {},
   "outputs": [
    {
     "data": {
      "text/plain": [
       "tensor([[0, 4, 4],\n",
       "        [0, 5, 5],\n",
       "        [1, 1, 1],\n",
       "        [1, 1, 2]])"
      ]
     },
     "execution_count": 17,
     "metadata": {},
     "output_type": "execute_result"
    }
   ],
   "source": [
    "(grid == 1).nonzero()"
   ]
  },
  {
   "cell_type": "code",
   "execution_count": 71,
   "metadata": {},
   "outputs": [],
   "source": [
    "MOORE_OFFSETS = t.tensor([(1, 1), (1, -1), (1, 0), (-1, 0), (-1, 1), (-1, -1), (0, 1), (0, -1)])\n",
    "\n",
    "def get_moore_nbh(batch:t.tensor):\n",
    "    batch_size, batch_height, _ = batch.shape\n",
    "    cell_pixel_coords = (batch == 1).nonzero()\n",
    "    moore_nbhs = []\n",
    "    for batch_idx in range(batch_size):\n",
    "        batch_slice = cell_pixel_coords[:, 0] == batch_idx\n",
    "        #print(cell_pixel_coords[batch_slice])\n",
    "        coords = cell_pixel_coords[batch_slice]\n",
    "        batch_moore_nbhs = []\n",
    "        for coord in coords:\n",
    "            nbh_coords = coord[1:]+MOORE_OFFSETS\n",
    "            idx_pad = t.zeros(8,1) + batch_idx\n",
    "            nbh_coords = t.hstack((idx_pad, nbh_coords))\n",
    "            #print(nbh_coords)\n",
    "            batch_moore_nbhs.append(nbh_coords)\n",
    "        res = t.vstack(batch_moore_nbhs).unique(dim=0)\n",
    "        res[res == -1] = 1\n",
    "        res[res == batch_height] = batch_height - 2\n",
    "        moore_nbhs.append(res)\n",
    "    return moore_nbhs\n"
   ]
  },
  {
   "cell_type": "code",
   "execution_count": 81,
   "metadata": {},
   "outputs": [
    {
     "data": {
      "text/plain": [
       "tensor([0., 5., 6.])"
      ]
     },
     "execution_count": 81,
     "metadata": {},
     "output_type": "execute_result"
    }
   ],
   "source": [
    "test = get_moore_nbh(grid)[0]\n",
    "random.choice(test)"
   ]
  },
  {
   "cell_type": "code",
   "execution_count": 112,
   "metadata": {},
   "outputs": [],
   "source": [
    "def MCS(batch, target_vol, temperature):\n",
    "    batch_size, batch_height, batch_width = batch.shape\n",
    "    frontiers = get_moore_nbh(batch)\n",
    "    for batch_idx, frontier in enumerate(frontiers):\n",
    "        src_coords = random.choice(frontier).type(t.long)\n",
    "        step_size = random.choice(MOORE_OFFSETS)\n",
    "        tgt_coords = src_coords.clone()\n",
    "        tgt_coords[1:] += step_size\n",
    "        tgt_coords[tgt_coords == -1] = 1\n",
    "        tgt_coords[tgt_coords == batch_height] = batch_height -2\n",
    "        print(f\"coordinates of the source pixel on the grid: {src_coords}\")\n",
    "        print(f\"step size: {step_size}\")\n",
    "        print(f\"coordinates of the target pixel on the grid: {tgt_coords}\")\n",
    "        src_i, src_j, src_k = src_coords\n",
    "        tgt_i, tgt_j, tgt_k = tgt_coords\n",
    "        \n",
    "        cur_vol = t.sum(batch[batch_idx])\n",
    "        vol_change = (-1 * batch[tgt_i, tgt_j, tgt_k]) + batch[src_i, src_j, src_k]\n",
    "        print(\"vol change\", vol_change)\n",
    "        adjusted_vol = cur_vol + vol_change\n",
    "        print(f\"adjusted vol: {adjusted_vol}\")\n",
    "        if batch[tgt_i, tgt_j, tgt_k] == batch[src_i, src_j, src_k]:\n",
    "            # source is equal to target, no update\n",
    "            print(\"source is equal to target, no update\")\n",
    "            pass\n",
    "        elif adjusted_vol > 2 or adjusted_vol <= 0:\n",
    "            # Changes would violate the hard constraints, no update\n",
    "            print(\"Changes would violate the hard constraints, no update\")\n",
    "            pass\n",
    "        elif cur_vol == 2 and vol_change == -1:\n",
    "            # Negative Hamiltonian, accepted\n",
    "            print(\"Negative Hamiltonian, accepted\")\n",
    "            batch[tgt_i, tgt_j, tgt_k] += vol_change\n",
    "        else:\n",
    "            update_probability = t.exp(-((target_vol - adjusted_vol) ** 2) / temperature)\n",
    "            print(f\"update probability: {update_probability}\")\n",
    "            \n",
    "            residual = t.rand(1)\n",
    "            \n",
    "            upd_val = STESpike.apply(update_probability - residual) * vol_change\n",
    "\n",
    "            batch[tgt_i, tgt_j, tgt_k] += upd_val\n",
    "    return batch"
   ]
  },
  {
   "cell_type": "code",
   "execution_count": 114,
   "metadata": {},
   "outputs": [
    {
     "name": "stdout",
     "output_type": "stream",
     "text": [
      "coordinates of the source pixel on the grid: tensor([0, 4, 6])\n",
      "step size: tensor([ 1, -1])\n",
      "coordinates of the target pixel on the grid: tensor([0, 5, 5])\n",
      "vol change tensor(-1.)\n",
      "adjusted vol: 1.0\n",
      "Negative Hamiltonian, accepted\n",
      "coordinates of the source pixel on the grid: tensor([1, 2, 1])\n",
      "step size: tensor([-1,  1])\n",
      "coordinates of the target pixel on the grid: tensor([1, 1, 2])\n",
      "vol change tensor(-1.)\n",
      "adjusted vol: 1.0\n",
      "Negative Hamiltonian, accepted\n"
     ]
    },
    {
     "data": {
      "text/plain": [
       "tensor([[[0., 0., 0., 0., 0., 0., 0., 0.],\n",
       "         [0., 0., 0., 0., 0., 0., 0., 0.],\n",
       "         [0., 0., 0., 0., 0., 0., 0., 0.],\n",
       "         [0., 0., 0., 0., 0., 0., 0., 0.],\n",
       "         [0., 0., 0., 0., 1., 0., 0., 0.],\n",
       "         [0., 0., 0., 0., 0., 0., 0., 0.],\n",
       "         [0., 0., 0., 0., 0., 0., 0., 0.],\n",
       "         [0., 0., 0., 0., 0., 0., 0., 0.]],\n",
       "\n",
       "        [[0., 0., 0., 0., 0., 0., 0., 0.],\n",
       "         [0., 1., 0., 0., 0., 0., 0., 0.],\n",
       "         [0., 0., 0., 0., 0., 0., 0., 0.],\n",
       "         [0., 0., 0., 0., 0., 0., 0., 0.],\n",
       "         [0., 0., 0., 0., 0., 0., 0., 0.],\n",
       "         [0., 0., 0., 0., 0., 0., 0., 0.],\n",
       "         [0., 0., 0., 0., 0., 0., 0., 0.],\n",
       "         [0., 0., 0., 0., 0., 0., 0., 0.]]])"
      ]
     },
     "execution_count": 114,
     "metadata": {},
     "output_type": "execute_result"
    }
   ],
   "source": [
    "MCS(grid, 1, 1)"
   ]
  },
  {
   "cell_type": "code",
   "execution_count": null,
   "metadata": {},
   "outputs": [],
   "source": []
  }
 ],
 "metadata": {
  "kernelspec": {
   "display_name": "torchenv",
   "language": "python",
   "name": "python3"
  },
  "language_info": {
   "codemirror_mode": {
    "name": "ipython",
    "version": 3
   },
   "file_extension": ".py",
   "mimetype": "text/x-python",
   "name": "python",
   "nbconvert_exporter": "python",
   "pygments_lexer": "ipython3",
   "version": "3.10.6"
  },
  "orig_nbformat": 4
 },
 "nbformat": 4,
 "nbformat_minor": 2
}
