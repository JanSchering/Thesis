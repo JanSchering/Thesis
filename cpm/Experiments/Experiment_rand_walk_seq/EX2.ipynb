{
 "cells": [
  {
   "cell_type": "code",
   "execution_count": 1,
   "metadata": {},
   "outputs": [],
   "source": [
    "import torch as t\n",
    "from mcs import MCS\n",
    "from PIL import Image\n",
    "from scipy import ndimage\n",
    "import numpy as np\n",
    "import random"
   ]
  },
  {
   "cell_type": "code",
   "execution_count": 2,
   "metadata": {},
   "outputs": [],
   "source": [
    "class STESpike(t.autograd.Function):\n",
    "    @staticmethod\n",
    "    def forward(ctx, input):\n",
    "        return (input > 0).float()\n",
    "\n",
    "    @staticmethod\n",
    "    def backward(ctx, grad_output):\n",
    "        return grad_output\n"
   ]
  },
  {
   "cell_type": "code",
   "execution_count": 55,
   "metadata": {},
   "outputs": [],
   "source": [
    "MOORE_OFFSETS = t.tensor([(1, 1), (1, -1), (1, 0), (-1, 0), (-1, 1), (-1, -1), (0, 1), (0, -1)])\n",
    "\n",
    "def get_moore_nbh(batch:t.tensor):\n",
    "    batch_size, batch_height, _ = batch.shape\n",
    "    cell_pixel_coords = (batch == 1).nonzero()\n",
    "    moore_nbhs = []\n",
    "    for batch_idx in range(batch_size):\n",
    "        batch_slice = cell_pixel_coords[:, 0] == batch_idx\n",
    "        #print(cell_pixel_coords[batch_slice])\n",
    "        coords = cell_pixel_coords[batch_slice]\n",
    "        batch_moore_nbhs = []\n",
    "        for coord in coords:\n",
    "            nbh_coords = coord[1:]+MOORE_OFFSETS\n",
    "            nbh_coords[nbh_coords == -1] = 1\n",
    "            nbh_coords[nbh_coords == batch_height] = batch_height -2\n",
    "            idx_pad = t.zeros(8,1) + batch_idx\n",
    "            nbh_coords = t.vstack((coord, t.hstack((idx_pad, nbh_coords))))\n",
    "            #print(nbh_coords)\n",
    "            batch_moore_nbhs.append(nbh_coords)\n",
    "        res = t.vstack(batch_moore_nbhs).unique(dim=0)\n",
    "        moore_nbhs.append(res)\n",
    "    return moore_nbhs\n"
   ]
  },
  {
   "cell_type": "code",
   "execution_count": 69,
   "metadata": {},
   "outputs": [],
   "source": [
    "def MCS(batch, target_vol, temperature):\n",
    "    batch_size, batch_height, batch_width = batch.shape\n",
    "    frontiers = get_moore_nbh(batch)\n",
    "    for batch_idx, frontier in enumerate(frontiers):\n",
    "        #print(frontier)\n",
    "        src_coords = random.choice(frontier).type(t.long)\n",
    "        step_size = random.choice(MOORE_OFFSETS)\n",
    "        tgt_coords = src_coords.clone()\n",
    "        tgt_coords[1:] += step_size\n",
    "        tgt_coords[1:][tgt_coords[1:] == -1] = 1\n",
    "        tgt_coords[1:][tgt_coords[1:] == batch_height] = batch_height -2\n",
    "        #print(batch_idx)\n",
    "        #print(f\"coordinates of the source pixel on the grid: {src_coords}\")\n",
    "        #print(f\"step size: {step_size}\")\n",
    "        #print(f\"coordinates of the target pixel on the grid: {tgt_coords}\")\n",
    "        src_i, src_j, src_k = src_coords\n",
    "        tgt_i, tgt_j, tgt_k = tgt_coords\n",
    "        \n",
    "        #print(batch[batch_idx])\n",
    "        cur_vol = t.sum(batch[batch_idx])\n",
    "        vol_change = (-1 * batch[tgt_i, tgt_j, tgt_k]) + batch[src_i, src_j, src_k]\n",
    "        #print(\"vol change\", vol_change)\n",
    "        adjusted_vol = cur_vol + vol_change\n",
    "        #print(f\"adjusted vol: {adjusted_vol}\")\n",
    "        if batch[tgt_i, tgt_j, tgt_k] == batch[src_i, src_j, src_k]:\n",
    "            # source is equal to target, no update\n",
    "            #print(\"source is equal to target, no update\")\n",
    "            pass\n",
    "        elif adjusted_vol > 2 or adjusted_vol <= 0:\n",
    "            # Changes would violate the hard constraints, no update\n",
    "            #print(\"Changes would violate the hard constraints, no update\")\n",
    "            pass\n",
    "        elif cur_vol == 2 and vol_change == -1:\n",
    "            # Negative Hamiltonian, accepted\n",
    "            #print(\"Negative Hamiltonian, accepted\")\n",
    "            batch[tgt_i, tgt_j, tgt_k] += vol_change\n",
    "        else:\n",
    "            update_probability = t.exp(-((target_vol - adjusted_vol) ** 2) / temperature)\n",
    "            #print(f\"update probability: {update_probability}\")\n",
    "            \n",
    "            residual = t.rand(1)\n",
    "            #print(residual)\n",
    "            \n",
    "            upd_val = STESpike.apply(update_probability - residual) * vol_change\n",
    "            \n",
    "            #print(upd_val)\n",
    "            \n",
    "            #print(batch[tgt_i, tgt_j, tgt_k])\n",
    "            #print(batch[tgt_i, tgt_j, tgt_k] + upd_val)\n",
    "\n",
    "            batch[tgt_i, tgt_j, tgt_k] += upd_val.squeeze()\n",
    "    return batch"
   ]
  },
  {
   "cell_type": "code",
   "execution_count": 118,
   "metadata": {},
   "outputs": [
    {
     "name": "stdout",
     "output_type": "stream",
     "text": [
      "tensor([[32.0000, 25.0000, 20.0000, 17.0000, 16.0000, 17.0000, 20.0000, 25.0000],\n",
      "        [25.0000, 18.0000, 13.0000, 10.0000,  9.0000, 10.0000, 13.0000, 18.0000],\n",
      "        [20.0000, 13.0000,  8.0000,  5.0000,  4.0000,  5.0000,  8.0000, 13.0000],\n",
      "        [17.0000, 10.0000,  5.0000,  2.0000,  1.0000,  2.0000,  5.0000, 10.0000],\n",
      "        [16.0000,  9.0000,  4.0000,  1.0000,  0.0000,  1.0000,  4.0000,  9.0000],\n",
      "        [17.0000, 10.0000,  5.0000,  2.0000,  1.0000,  2.0000,  5.0000, 10.0000],\n",
      "        [20.0000, 13.0000,  8.0000,  5.0000,  4.0000,  5.0000,  8.0000, 13.0000],\n",
      "        [25.0000, 18.0000, 13.0000, 10.0000,  9.0000, 10.0000, 13.0000, 18.0000]],\n",
      "       dtype=torch.float64)\n"
     ]
    },
    {
     "data": {
      "text/plain": [
       "tensor(27., requires_grad=True)"
      ]
     },
     "execution_count": 118,
     "metadata": {},
     "output_type": "execute_result"
    }
   ],
   "source": [
    "init_state = t.zeros(2,8,8)\n",
    "init_state[:,4,4] += 1\n",
    "ref_state = init_state.detach().clone()\n",
    "\n",
    "dist_matrix:np.ndarray = ndimage.distance_transform_edt(1-init_state[0], return_indices=False)\n",
    "dist_matrix = dist_matrix**2\n",
    "dist_matrix_t = t.from_numpy(dist_matrix)\n",
    "\n",
    "print(dist_matrix_t)\n",
    "\n",
    "target_vol = 1.\n",
    "temperature = t.tensor(27.)\n",
    "temperature.requires_grad_()"
   ]
  },
  {
   "cell_type": "code",
   "execution_count": 127,
   "metadata": {},
   "outputs": [],
   "source": [
    "def step(batch:t.Tensor, dist_matrix:t.Tensor, temperature:t.Tensor, target_vol:float, eta:float):\n",
    "    temperature.requires_grad_()\n",
    "    for i in range(1000):\n",
    "        #print(f\"-------- MCS {i} --------------\")\n",
    "        batch = MCS(batch, target_vol, temperature)\n",
    "        if t.any(t.sum(batch, dim=(-1,-2)) == 0) or t.any(t.sum(batch, dim=(-1,-2)) > 2):\n",
    "            print(\"ISSUE DETECTED, STOP SIM\")\n",
    "            return None, None\n",
    "    # calc the distance after 1000 steps    \n",
    "    #dist = t.sum(t.sum(batch * dist_matrix, dim=(-1,-2)) / t.sum(batch, dim=(-1,-2)))\n",
    "    dist = t.sum((batch - ref_state)**2)\n",
    "    #print(dist)\n",
    "    grad = t.autograd.grad(dist, temperature)[0]\n",
    "    return temperature - eta * grad, grad"
   ]
  },
  {
   "cell_type": "code",
   "execution_count": 128,
   "metadata": {},
   "outputs": [],
   "source": [
    "states = [init_state.detach().clone().squeeze().numpy()]\n",
    "state = init_state.detach().clone()\n",
    "for i in range(200):\n",
    "    #print(f\"-------- MCS {i} --------------\")\n",
    "    state = MCS(state, target_vol, temperature)\n",
    "    #print(state)\n",
    "    states.append(state.detach().clone().squeeze().numpy())\n",
    "    if t.any(t.sum(state, dim=(-1,-2)) == 0) or t.any(t.sum(state, dim=(-1,-2)) > 2):\n",
    "        print(\"ISSUE DETECTED, STOP SIM\",t.sum(state))\n",
    "        break"
   ]
  },
  {
   "cell_type": "code",
   "execution_count": 126,
   "metadata": {},
   "outputs": [],
   "source": [
    "batch_idx = 1\n",
    "imgs = [Image.fromarray((1-state[batch_idx])*255) for state in states]\n",
    "imgs[0].save(\"t_27_reflective.gif\", save_all=True, append_images=imgs[1:], duration=20, loop=100)"
   ]
  },
  {
   "cell_type": "code",
   "execution_count": 129,
   "metadata": {},
   "outputs": [
    {
     "name": "stderr",
     "output_type": "stream",
     "text": [
      "100%|██████████| 100/100 [02:21<00:00,  1.41s/it]\n"
     ]
    }
   ],
   "source": [
    "from tqdm import tqdm\n",
    "grads = []\n",
    "temps = []\n",
    "for i in tqdm(range(100)):\n",
    "    temperature, grad = step(init_state, dist_matrix_t, temperature, target_vol, eta=1)\n",
    "    if temperature == None or grad == None:\n",
    "        print(\"issue encountered in the simulations, stopping training\")\n",
    "        break\n",
    "    else:\n",
    "        grads.append(grad.detach().cpu().numpy())\n",
    "        temps.append(temperature.detach().cpu().numpy())"
   ]
  },
  {
   "cell_type": "code",
   "execution_count": 131,
   "metadata": {},
   "outputs": [
    {
     "data": {
      "text/plain": [
       "[<matplotlib.lines.Line2D at 0x1cd95ba18d0>]"
      ]
     },
     "execution_count": 131,
     "metadata": {},
     "output_type": "execute_result"
    },
    {
     "data": {
      "image/png": "[encoded data removed]",
      "text/plain": [
       "<Figure size 640x480 with 1 Axes>"
      ]
     },
     "metadata": {},
     "output_type": "display_data"
    }
   ],
   "source": [
    "import matplotlib.pyplot as plt\n",
    "\n",
    "plt.plot(np.arange(100), temps)"
   ]
  },
  {
   "cell_type": "code",
   "execution_count": 132,
   "metadata": {},
   "outputs": [
    {
     "data": {
      "text/plain": [
       "[<matplotlib.lines.Line2D at 0x1cd95bfdb70>]"
      ]
     },
     "execution_count": 132,
     "metadata": {},
     "output_type": "execute_result"
    },
    {
     "data": {
      "image/png": "[encoded data removed]",
      "text/plain": [
       "<Figure size 640x480 with 1 Axes>"
      ]
     },
     "metadata": {},
     "output_type": "display_data"
    }
   ],
   "source": [
    "plt.plot(np.arange(100), grads)"
   ]
  },
  {
   "cell_type": "code",
   "execution_count": null,
   "metadata": {},
   "outputs": [],
   "source": []
  }
 ],
 "metadata": {
  "kernelspec": {
   "display_name": "torchenv",
   "language": "python",
   "name": "python3"
  },
  "language_info": {
   "codemirror_mode": {
    "name": "ipython",
    "version": 3
   },
   "file_extension": ".py",
   "mimetype": "text/x-python",
   "name": "python",
   "nbconvert_exporter": "python",
   "pygments_lexer": "ipython3",
   "version": "3.10.6"
  },
  "orig_nbformat": 4
 },
 "nbformat": 4,
 "nbformat_minor": 2
}
