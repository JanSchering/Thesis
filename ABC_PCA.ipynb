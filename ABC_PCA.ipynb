{
  "nbformat": 4,
  "nbformat_minor": 0,
  "metadata": {
    "colab": {
      "provenance": [],
      "collapsed_sections": [],
      "toc_visible": true,
      "authorship_tag": "ABX9TyP34wr3rSmFXKMspmWhR5zT",
      "include_colab_link": true
    },
    "kernelspec": {
      "name": "python3",
      "display_name": "Python 3"
    },
    "language_info": {
      "name": "python"
    },
    "accelerator": "GPU"
  },
  "cells": [
    {
      "cell_type": "markdown",
      "metadata": {
        "id": "view-in-github",
        "colab_type": "text"
      },
      "source": [
        "<a href=\"https://colab.research.google.com/github/JanSchering/Thesis/blob/main/ABC_PCA.ipynb\" target=\"_parent\"><img src=\"https://colab.research.google.com/assets/colab-badge.svg\" alt=\"Open In Colab\"/></a>"
      ]
    },
    {
      "cell_type": "code",
      "execution_count": 1,
      "metadata": {
        "colab": {
          "base_uri": "https://localhost:8080/"
        },
        "id": "SnGc7Ui8UguC",
        "outputId": "5bba4fcf-1ace-4e98-a377-eef5b630c88c"
      },
      "outputs": [
        {
          "output_type": "stream",
          "name": "stdout",
          "text": [
            "Looking in indexes: https://pypi.org/simple, https://us-python.pkg.dev/colab-wheels/public/simple/\n",
            "Requirement already satisfied: tqdm in /usr/local/lib/python3.7/dist-packages (4.64.1)\n",
            "\u001b[K     |████████████████████████████████| 145 kB 4.7 MB/s \n",
            "\u001b[K     |████████████████████████████████| 8.1 MB 43.9 MB/s \n",
            "\u001b[K     |████████████████████████████████| 237 kB 68.0 MB/s \n",
            "\u001b[K     |████████████████████████████████| 51 kB 7.5 MB/s \n",
            "\u001b[K     |████████████████████████████████| 85 kB 4.2 MB/s \n",
            "\u001b[?25h  Building wheel for flax (setup.py) ... \u001b[?25l\u001b[?25hdone\n"
          ]
        }
      ],
      "source": [
        "# @title install dependencies\n",
        "!pip install tqdm\n",
        "!pip install --upgrade -q git+https://github.com/google/flax.git"
      ]
    },
    {
      "cell_type": "code",
      "source": [
        "# @title imports\n",
        "from typing import Callable, List, Tuple\n",
        "import jax.numpy as jnp\n",
        "from jax import lax\n",
        "from jax import grad\n",
        "from jax import jit\n",
        "import jax\n",
        "import numpy as np\n",
        "import matplotlib.pyplot as plt\n",
        "import random\n",
        "from IPython.display import Image\n",
        "from IPython import display\n",
        "from tqdm import tqdm\n",
        "import time"
      ],
      "metadata": {
        "id": "HzCldsCyUyEY"
      },
      "execution_count": 2,
      "outputs": []
    },
    {
      "cell_type": "markdown",
      "source": [
        "# ABC for lattice models\n",
        "\n",
        "In the following, we want to apply the [ABC](https://colab.research.google.com/drive/1duLStl8c9ngezywm6esL4K4bP49G4Jsg#scrollTo=bnLMiNi2nUqD) framework to estimating the parameters of stochastic lattice models. As an example, we consider a [probabilistic cellular automaton (PCA) for the diffusive spread of a news item](https://colab.research.google.com/drive/1xTxLeSW2BhSIMQAHUlYq8GhUafw7b85F#scrollTo=5fnWUde_LIOo).\n",
        "\n",
        "Using the [PCA framework](https://link.springer.com/book/10.1007/978-3-319-65558-1), we define:\n",
        "\n",
        "- The Graph $G$ to be a 2D lattice of $(K,K)$ regular cells\n",
        "- The Alphabet $S:= \\{0,1\\}$\n",
        "- The neighborhood $V_k$ of cell $k$ is the square Moore neighborhood with distance 1\n",
        "\n",
        "The probability of reaching a configuration $\\sigma \\in S^{K\\times K}$ from a current configuration $\\mu \\in S^{K\\times K}$ is:\n",
        "\n",
        "$$P(\\sigma | \\mu) = \\prod_{k \\in G} p(\\sigma_k|\\mu_{V_k})$$\n",
        "\n",
        "Where we define $p(\\sigma_k|\\mu_{V_k})$, the probability of cell $k$ transitioning to state $\\sigma_k$ given the state of its' neighborhood $\\mu_{V_k}$ as:\n",
        "\n",
        "$$p(\\sigma_k|\\mu_{V_k}) = \\begin{pmatrix}\n",
        "1 & 1-(1-\\beta)^{N_k(n)} \\\\\n",
        "0 & (1-\\beta)^{N_k(n)}\n",
        "\\end{pmatrix}$$\n",
        "\n",
        "The probability matrix represents, that once a person is aware of the news, they stay aware ($p_{11} = 1$, $p_{21}=0$). The probability, with which an uninformed person stays uninformed at time $n+1$ depends on the amount of local neighbors that are informed at time $n$, $N_k(n)$. Given a rate of spread $\\beta$ (the diffusion coefficient), the probability to stay unaware is $p_{22}= (1-\\beta)^{N_k(n)}$. Conversely, the probability that the news spread to cell $k$ is $p_{21} = 1 - p_{22} = 1-(1-\\beta)^{N_k(n)}$."
      ],
      "metadata": {
        "id": "DHLYBUhAU2LL"
      }
    },
    {
      "cell_type": "code",
      "source": [
        "# @title define visualization helpers\n",
        "def visualize_sequence(sequence, framerate):\n",
        "  for idx, state in enumerate(sequence):\n",
        "    display.display(plt.gcf())\n",
        "    plt.imshow(state, cmap='Greys',  interpolation='nearest', vmin=0, vmax=1)\n",
        "    ax = plt.gca()\n",
        "    ax.get_xaxis().set_visible(False)\n",
        "    ax.get_yaxis().set_visible(False)\n",
        "    display.clear_output(wait=True)\n",
        "    time.sleep(framerate)\n",
        "\n",
        "def visualize_transition(transition):\n",
        "  \"\"\"\n",
        "  Visualize a transition\n",
        "\n",
        "  transition (np.ndarray): numpy matrix of shape (2, grid_height, grid_width)\n",
        "  \"\"\"\n",
        "  fig, axs = plt.subplots(1, 2, figsize=(3,3))\n",
        "  for stateIdx, state in enumerate(transition):\n",
        "    axs[stateIdx].imshow(state, cmap='Greys',  interpolation='nearest', vmin=0, vmax=1)\n",
        "    axs[stateIdx].get_xaxis().set_visible(False)\n",
        "    axs[stateIdx].get_yaxis().set_visible(False)\n",
        "\n",
        "def visualize_batch(grids) -> None:\n",
        "    \"\"\"\n",
        "    Produce a plot of all current grid states.\n",
        "    \"\"\"\n",
        "    fig, axs = plt.subplots(1, grids.shape[0], figsize=(3,3))\n",
        "    for gridIdx, grid in enumerate(grids):\n",
        "      axs[gridIdx].imshow(grid, cmap='Greys',  interpolation='nearest', vmin=0, vmax=1)\n",
        "      axs[gridIdx].get_xaxis().set_visible(False)\n",
        "      axs[gridIdx].get_yaxis().set_visible(False)"
      ],
      "metadata": {
        "cellView": "form",
        "id": "rWjSYvLYVBg9"
      },
      "execution_count": 3,
      "outputs": []
    },
    {
      "cell_type": "code",
      "source": [
        "# @title define model helpers\n",
        "def periodic_padding(image, padding=1):\n",
        "    '''\n",
        "    Create a periodic padding (wrap) around an image stack, to emulate periodic boundary conditions\n",
        "    Adapted from https://github.com/tensorflow/tensorflow/issues/956\n",
        "    \n",
        "    If the image is 3-dimensional (like an image batch), padding occurs along the last two axes\n",
        "    '''\n",
        "    if len(image.shape)==2:\n",
        "        upper_pad = image[-padding:,:]\n",
        "        lower_pad = image[:padding,:]\n",
        "\n",
        "        partial_image = np.concatenate([upper_pad, image, lower_pad], axis=0)\n",
        "\n",
        "        left_pad = partial_image[:,-padding:]\n",
        "        right_pad = partial_image[:,:padding]\n",
        "\n",
        "        padded_image = np.concatenate([left_pad, partial_image, right_pad], axis=1)\n",
        "        \n",
        "    elif len(image.shape)==3:\n",
        "        upper_pad = image[:,-padding:,:]\n",
        "        lower_pad = image[:,:padding,:]\n",
        "\n",
        "        partial_image = np.concatenate([upper_pad, image, lower_pad], axis=1)\n",
        "\n",
        "        left_pad = partial_image[:,:,-padding:]\n",
        "        right_pad = partial_image[:,:,:padding]\n",
        "\n",
        "        padded_image = np.concatenate([left_pad, partial_image, right_pad], axis=2)\n",
        "        \n",
        "        \n",
        "    else:\n",
        "        assert True, \"Input data shape not understood.\"\n",
        "    \n",
        "    return padded_image\n",
        "\n",
        "def risk_convolution2D(batch):\n",
        "  \"\"\"\n",
        "  Use a filter of shape\n",
        "  | 1  1  1\n",
        "  | 1  0  1\n",
        "  | 1  1  1\n",
        "  and apply it to the periodically padded state of the grid.\n",
        "  The result will give the number of infected neighbors at each\n",
        "  state.\n",
        "  \"\"\"\n",
        "  kernel = jnp.ones((1,1,3,3))\n",
        "  kernel = kernel.at[:,:,1,1].set(0)\n",
        "  padded_grid = periodic_padding(batch)\n",
        "  expanded = jnp.expand_dims(padded_grid, axis=-1)\n",
        "  transposed = jnp.transpose(expanded, (0,3,1,2))\n",
        "\n",
        "  return lax.conv(\n",
        "      transposed[:,:,:],  # lhs = NCHW image tensor\n",
        "      kernel,  # rhs = OIHW conv kernel tensor\n",
        "      (1, 1),  # window strides\n",
        "      \"VALID\"\n",
        "  )\n",
        "\n",
        "# @title Spread Likelihood\n",
        "def calculate_spread_likelihood(batch, beta):\n",
        "  \"\"\"\n",
        "  calculates the likelihood of each cell in the batch transitioning to an\n",
        "  activated state at the next time step:\n",
        "  1-(1-ß)^N_k(n)\n",
        "  \"\"\"\n",
        "  risk_conv = risk_convolution2D(batch).squeeze(1)\n",
        "  return (1 - (1 - beta)**risk_conv) "
      ],
      "metadata": {
        "cellView": "form",
        "id": "xlTph0W_VCBb"
      },
      "execution_count": 4,
      "outputs": []
    },
    {
      "cell_type": "code",
      "source": [
        "# @title define general helpers\n",
        "def chop_and_shuffle_data(sequences, shuffle=True):\n",
        "  \"\"\"\n",
        "  Chop the training data into a set of state transitions and shuffle the resulting set.\n",
        "\n",
        "  sequences (np.ndarray): matrix of shape (n_sequences, steps_per_seq, grid_height, grid_width)\n",
        "  \"\"\"\n",
        "  n_sequences, steps_per_seq, grid_height, grid_width = sequences.shape\n",
        "  # each transition consists of 2 states\n",
        "  indexer = np.arange(2)[None, :] + np.arange(steps_per_seq-1)[:, None]\n",
        "  chopped_set = np.zeros([(steps_per_seq-1)*n_sequences, 2, grid_height, grid_width])\n",
        "  for idx,sequence in enumerate(sequences):\n",
        "    start_idx = idx*(steps_per_seq-1)\n",
        "    chopped_set[start_idx:start_idx+steps_per_seq-1, :,:,:] = sequence[indexer]\n",
        "  if shuffle:\n",
        "    np.random.shuffle(chopped_set) \n",
        "  return chopped_set\n",
        "\n",
        "# @title Heaviside approx.\n",
        "def heaviside(x,k):\n",
        "  return 1 / (1 + jnp.exp(-2*k*x))\n",
        "\n",
        "# ----------- test the chopping function ---------------\n",
        "test_data = np.arange(24).reshape(2,3,2,2)\n",
        "n_sequences, steps_per_seq, grid_height, grid_width = test_data.shape\n",
        "chopped = chop_and_shuffle_data(test_data, shuffle=False)\n",
        "assert chopped.shape == (n_sequences*(steps_per_seq-1), 2, grid_height, grid_width)\n",
        "assert np.all(chopped[0,0] == np.arange(4).reshape(2,2))\n",
        "assert np.all(chopped[0,1] == (np.arange(4)+4).reshape(2,2))\n",
        "assert np.all(chopped[1,0] == (np.arange(4)+4).reshape(2,2))\n",
        "assert np.all(chopped[1,1] == (np.arange(4)+8).reshape(2,2)) "
      ],
      "metadata": {
        "cellView": "form",
        "id": "vWbfoG0-VMGG"
      },
      "execution_count": 5,
      "outputs": []
    },
    {
      "cell_type": "code",
      "source": [
        "# @title define model functions\n",
        "def init_grids(size:int,batch_size:int) -> np.ndarray:\n",
        "  grids = jnp.zeros((batch_size, size, size))\n",
        "  grids = grids.at[:, size//2, size//2].set(1)\n",
        "  return grids\n",
        "\n",
        "def model(grids:np.ndarray, beta:float) -> np.ndarray:\n",
        "  healthy_mask = grids == 0\n",
        "\n",
        "  likelihoods = calculate_spread_likelihood(grids, beta)\n",
        "  infection_update = np.random.rand(*grids.shape) <=  likelihoods * healthy_mask \n",
        "  return grids + infection_update.astype(int)"
      ],
      "metadata": {
        "cellView": "form",
        "id": "C3Q2qxVFVRDF"
      },
      "execution_count": 6,
      "outputs": []
    },
    {
      "cell_type": "markdown",
      "source": [
        "## Summary statistics for the PCA\n",
        "\n",
        "In order to perform PCA, we need to define a set of summary statistics $S(.)$ for the samples produced by the PCA model. Here, we have to make a few choices that will impact the performance of the ABC algorithms.\n",
        "\n",
        "Our dataset $D = \\{x_i, y_i\\}_{i=1}^N$ consists of $N$ pairs of grid states. Each pair represents the transition of a grid from a state $x_i$ at a time step $t$ to a state $y_i$ at time step $t+1$. The PCA model takes as input a grid state, simulates a time step for it, and returns the resulting state.\n",
        "\n",
        "**1. Count the number of newly activated cells**\n",
        "\n",
        "Our first summary statistic can be to simply count the number of cells transitioning from $x_{ij}^{(n)}= 0$ to $y_{ij}^{(n)}= 1$ for $n=1,\\dots,N$.\n",
        "\n",
        "**2. Collect the indices of the newly activated cells**\n",
        "\n",
        "The second possible statistic is a collection of the indices of all cells that have changed state between $x_{ij}$ and $y_{ij}$. This allows e.g. to define the distance function as a pixel-wise loss function. \n",
        "\n"
      ],
      "metadata": {
        "id": "FvLRhSFhYcNR"
      }
    },
    {
      "cell_type": "code",
      "source": [
        "# @title define summary statistics functions\n",
        "def S1(X:np.ndarray, Y:np.ndarray) -> float:\n",
        "  return jnp.sum((1-X)*Y, axis=(-1,-2))\n",
        "\n",
        "def S2(X:np.ndarray, Y:np.ndarray) -> float:\n",
        "  return (1-X)*Y"
      ],
      "metadata": {
        "id": "45EVx-gWXROG"
      },
      "execution_count": 7,
      "outputs": []
    },
    {
      "cell_type": "markdown",
      "source": [
        "## Distance functions\n",
        "\n",
        "In order to perform ABC, we need to define a distance function $\\rho(S(x_{sim}), S(x_{obs}))$ based on the summary statistics $S(.)$. \n",
        "\n",
        "**1. mean squared difference in newly activated cells**\n",
        "\n",
        "**2. Sum of pixel-wise losses**"
      ],
      "metadata": {
        "id": "pOh7ZBL7bxG8"
      }
    },
    {
      "cell_type": "code",
      "source": [
        "# @title define distance functions\n",
        "def calc_distance_V1(X, Y_sim:np.ndarray, Y_obs:np.ndarray) -> float:\n",
        "  # get statistics of the simulated set\n",
        "  s_sim = S1(X, Y_sim)\n",
        "  # get statistics of the observed set\n",
        "  s_obs = S1(X, Y_obs)\n",
        "  # calculate the mean difference\n",
        "  return jnp.mean(jnp.square(s_sim - s_obs))\n",
        "\n",
        "def calc_distance_V2(X, Y_sim:np.ndarray, Y_obs:np.ndarray) -> float:\n",
        "  # get statistics of the simulated set\n",
        "  s_sim = S1(X, Y_sim)\n",
        "  # get statistics of the observed set\n",
        "  s_obs = S1(X, Y_obs)\n",
        "  # calculate the mean ratio\n",
        "  return (1 - jnp.mean(s_sim / (s_obs+1)))**2"
      ],
      "metadata": {
        "id": "HB3QmM1DbzZI"
      },
      "execution_count": 8,
      "outputs": []
    },
    {
      "cell_type": "markdown",
      "source": [
        "## Experiment 1: Generating a dataset from a single $\\beta$ value"
      ],
      "metadata": {
        "id": "vwu6e9DOFz5x"
      }
    },
    {
      "cell_type": "code",
      "source": [
        "# @title set PCA parameters\n",
        "grid_size = 9 #@param {type:\"number\"}\n",
        "num_sequences = 100 #@param {type:\"number\"}\n",
        "steps_per_sequence = 20 #@param {type: \"number\"}\n",
        "beta = 0.08 #@param {type:\"slider\", min:0, max:1, step:0.01}\n",
        "\n",
        "# @markdown ---\n",
        "# @markdown parameters for the PCA visualization\n",
        "\n",
        "frame_speed = 0.1 # @param {type:\"slider\", min:0.1, max:2, step:0.01}"
      ],
      "metadata": {
        "cellView": "form",
        "id": "IivcRMHrVwVD"
      },
      "execution_count": 35,
      "outputs": []
    },
    {
      "cell_type": "code",
      "source": [
        "# @title visualize {vertical-output: true}\n",
        "grids = init_grids(grid_size, 2)\n",
        "for i in range(steps_per_sequence):\n",
        "  visualize_batch(grids)\n",
        "  display.display(plt.gcf())\n",
        "  grids = model(grids, beta)\n",
        "  display.clear_output(wait=True)\n",
        "  time.sleep(frame_speed)"
      ],
      "metadata": {
        "id": "_lXJtcg8WXlc"
      },
      "execution_count": null,
      "outputs": []
    },
    {
      "cell_type": "code",
      "source": [
        "# @title generate dataset {vertical-output: true }\n",
        "sequences = np.zeros((num_sequences, steps_per_sequence, grid_size, grid_size))\n",
        "batch = init_grids(grid_size,num_sequences)\n",
        "\n",
        "for i in range(steps_per_sequence):\n",
        "  sequences[:,i,:,:] = batch\n",
        "  batch = model(batch, beta)\n",
        "np.save(\"./sequence_data\", sequences)\n",
        "visualize_sequence(sequences[np.random.randint(0,num_sequences)], framerate=0.1)\n",
        "dataset = chop_and_shuffle_data(sequences)\n",
        "np.save(\"./dataset\", dataset)\n",
        "print(dataset.shape)"
      ],
      "metadata": {
        "colab": {
          "base_uri": "https://localhost:8080/",
          "height": 270
        },
        "id": "Oz-eToNrWb8Y",
        "outputId": "7bb69190-3c61-4783-b52e-20a46f1e09bd"
      },
      "execution_count": 40,
      "outputs": [
        {
          "output_type": "stream",
          "name": "stdout",
          "text": [
            "(1900, 2, 9, 9)\n"
          ]
        },
        {
          "output_type": "display_data",
          "data": {
            "text/plain": [
              "<Figure size 432x288 with 1 Axes>"
            ],
            "image/png": "[encoded data removed]"
          },
          "metadata": {
            "needs_background": "light"
          }
        }
      ]
    },
    {
      "cell_type": "code",
      "source": [
        "X = dataset[:,0]\n",
        "Y_obs = dataset[:,1]\n",
        "Y_sim = model(X, 0.8)\n",
        "calc_distance_V1(X, Y_sim, Y_obs)"
      ],
      "metadata": {
        "colab": {
          "base_uri": "https://localhost:8080/"
        },
        "id": "pMqs2bHVb5iN",
        "outputId": "53862008-66c7-46bb-bccf-67a7e89517ec"
      },
      "execution_count": null,
      "outputs": [
        {
          "output_type": "execute_result",
          "data": {
            "text/plain": [
              "DeviceArray(304.85947, dtype=float32)"
            ]
          },
          "metadata": {},
          "execution_count": 30
        }
      ]
    },
    {
      "cell_type": "code",
      "source": [
        "X = dataset[:,0]\n",
        "Y_obs = dataset[:,1]\n",
        "Y_sim = model(X, 0.08)\n",
        "calc_distance_V2(X, Y_sim, Y_obs)"
      ],
      "metadata": {
        "colab": {
          "base_uri": "https://localhost:8080/"
        },
        "id": "i117ktMRb7Wl",
        "outputId": "9b0c0107-e41e-4447-928c-469f1b61f4a0"
      },
      "execution_count": null,
      "outputs": [
        {
          "output_type": "execute_result",
          "data": {
            "text/plain": [
              "DeviceArray(0.03147093, dtype=float32)"
            ]
          },
          "metadata": {},
          "execution_count": 31
        }
      ]
    },
    {
      "cell_type": "markdown",
      "source": [
        "### Estimate $\\beta$ via ABC-REJ\n",
        "\n",
        "We define:\n",
        "\n",
        "- $\\epsilon = 0.1$ \n",
        "- $p(\\theta) \\sim U(0,1)$"
      ],
      "metadata": {
        "id": "tzi6uBLpb_22"
      }
    },
    {
      "cell_type": "code",
      "source": [
        "# @title define helpers\n",
        "def sample_from_prior(size:int):\n",
        "  return np.random.uniform(0,1,size)"
      ],
      "metadata": {
        "id": "hlJlpVDicERD"
      },
      "execution_count": null,
      "outputs": []
    },
    {
      "cell_type": "code",
      "source": [
        "# @title define a rejection sampler function\n",
        "def ABC_REJ(X:np.ndarray, Y_obs:np.ndarray, epsilon:float) -> float:\n",
        "  num_steps = 1\n",
        "  beta = None\n",
        "  while True:\n",
        "    beta = sample_from_prior(1)\n",
        "    Y_sim = model(X, beta)\n",
        "    distance = calc_distance_V2(X, Y_sim, Y_obs)\n",
        "    if distance <= epsilon:\n",
        "      break\n",
        "    else:\n",
        "      num_steps += 1\n",
        "  return beta, num_steps"
      ],
      "metadata": {
        "id": "VRXYBn7DcHkA"
      },
      "execution_count": null,
      "outputs": []
    },
    {
      "cell_type": "code",
      "source": [
        "# @title use ABC-REJ to draw approximate samples from the posterior  { vertical-output: true}\n",
        "samples = []\n",
        "required_steps = []\n",
        "X = dataset[:,0]\n",
        "Y_obs = dataset[:,1]\n",
        "epsilon = 0.1\n",
        "\n",
        "# In the paper, 1,000 accepted samples are drawn\n",
        "for i in tqdm(range(1000)):\n",
        "  sample, num_steps = ABC_REJ(X, Y_obs, epsilon)\n",
        "  samples.append(sample)\n",
        "  required_steps.append(num_steps)\n",
        "\n",
        "print(f\"\\n average # steps for acceptance: {np.mean(required_steps)}\")\n",
        "\n",
        "\n"
      ],
      "metadata": {
        "colab": {
          "base_uri": "https://localhost:8080/"
        },
        "id": "6ErCLA9ecKwQ",
        "outputId": "ae15e3dc-5a7f-4368-ee3a-5677e7bfc0f1"
      },
      "execution_count": null,
      "outputs": [
        {
          "output_type": "stream",
          "name": "stderr",
          "text": [
            "100%|██████████| 1000/1000 [10:21<00:00,  1.61it/s]"
          ]
        },
        {
          "output_type": "stream",
          "name": "stdout",
          "text": [
            "average # steps for acceptance: 14.296\n"
          ]
        },
        {
          "output_type": "stream",
          "name": "stderr",
          "text": [
            "\n"
          ]
        }
      ]
    },
    {
      "cell_type": "code",
      "source": [
        "# @title histogram of the samples {vertical-output: true}\n",
        "n, bins, _ = plt.hist(np.array(samples).squeeze(-1), density=True, range=(0,0.3), bins=40)\n",
        "plt.title(\"1000 sampled beta values through ABC-REJ for a dataset of N=1900, beta=0.08\")\n",
        "plt.xlabel(\"beta\")\n",
        "plt.ylabel(\"density\")"
      ],
      "metadata": {
        "colab": {
          "base_uri": "https://localhost:8080/",
          "height": 313
        },
        "id": "cv-MNRYmcWZ2",
        "outputId": "cbb14b73-5443-46c3-ca6b-7e88c31e2825"
      },
      "execution_count": null,
      "outputs": [
        {
          "output_type": "execute_result",
          "data": {
            "text/plain": [
              "Text(0, 0.5, 'density')"
            ]
          },
          "metadata": {},
          "execution_count": 35
        },
        {
          "output_type": "display_data",
          "data": {
            "text/plain": [
              "<Figure size 432x288 with 1 Axes>"
            ],
            "image/png": "[encoded data removed]"
          },
          "metadata": {
            "needs_background": "light"
          }
        }
      ]
    },
    {
      "cell_type": "markdown",
      "source": [
        "### Estimate $\\beta$ via ABC-MCMC\n",
        "\n",
        "We define:\n",
        "\n",
        "- $\\epsilon = 0.1$ \n",
        "- $\\beta_0 = 0.5$\n",
        "- $q(\\theta|\\theta_t) \\sim \\mathcal{N}(\\theta_t, 0.15^2)$\n"
      ],
      "metadata": {
        "id": "T8E1_-U-ceDK"
      }
    },
    {
      "cell_type": "code",
      "source": [
        "# @title define helpers\n",
        "def sample_from_prior(size:int):\n",
        "  return np.random.uniform(0,1,size)\n",
        "\n",
        "# @title Helper Functions\n",
        "def gaussian_pdf(mu:float, sigma_sq:float) -> Callable:\n",
        "  def pdf(x:float) -> float:\n",
        "    return (1/(np.sqrt(2*np.pi)*np.sqrt(sigma_sq)))*np.exp(-(x-mu)**2/(2*sigma_sq))\n",
        "  return pdf\n",
        "\n",
        "def q(mu:float, sigma) -> float:\n",
        "  return np.random.normal(mu, sigma)\n",
        "\n",
        "def gauss_likelihood(x, y, sigma):\n",
        "  \"\"\"\n",
        "  Calculate the likelihood of x as p(x|y) ~ N(y|sigma_sq)\n",
        "  \"\"\"\n",
        "  pdf = gaussian_pdf(y, sigma)\n",
        "  return pdf(x)\n",
        "\n",
        "def uniform_likelihood(low:float, high:float, x:float) -> float:\n",
        "  \"\"\"\n",
        "  Calculate the likelihood of x as p(x) ~ U(low, high)\n",
        "  \"\"\"\n",
        "  if x > high or x < low:\n",
        "    return 0 \n",
        "  else:\n",
        "    return 1 / (high-low)\n",
        "\n",
        "def calc_alpha(beta_star:float, beta:float, epsilon:float, dist:float, sigma:float) -> float:\n",
        "  if dist <= epsilon and uniform_likelihood(0, 1, beta_star) > 0:\n",
        "    return min([1,gauss_likelihood(beta, beta_star, sigma)/gauss_likelihood(beta_star, beta, sigma)])\n",
        "  else:\n",
        "    return 0"
      ],
      "metadata": {
        "id": "MMkgqH5ucdep"
      },
      "execution_count": null,
      "outputs": []
    },
    {
      "cell_type": "code",
      "source": [
        "# @title Define ABC-MCMC\n",
        "def ABC_MCMC(X:np.ndarray, Y_obs:np.ndarray, N:int, epsilon:float, beta:float, proposal_sigma:float) -> List[float]:\n",
        "  betas = [beta]\n",
        "  for i in tqdm(range(N)):\n",
        "    beta_star = q(beta, proposal_sigma)\n",
        "    Y_sim = model(X, beta_star)\n",
        "    dist = calc_distance_V2(X, Y_sim, Y_obs)\n",
        "    alpha = calc_alpha(beta_star, beta, epsilon, dist, proposal_sigma)\n",
        "    if random.random() <= alpha:\n",
        "      beta = beta_star\n",
        "      betas.append(beta)\n",
        "  return betas"
      ],
      "metadata": {
        "id": "k3OvFxdVcks4"
      },
      "execution_count": null,
      "outputs": []
    },
    {
      "cell_type": "code",
      "source": [
        "# @title Run ABC-MCMC for the example { vertical-output: true}\n",
        "N = 10000\n",
        "X = dataset[:,0]\n",
        "Y_obs = dataset[:,1]\n",
        "epsilon = 0.1\n",
        "beta_init = 0.5\n",
        "proposal_sigma = 0.15\n",
        "\n",
        "betas = ABC_MCMC(X, Y_obs, N, epsilon, beta_init, proposal_sigma)\n",
        "\n",
        "print(f\"accepted {len(betas)} samples\")\n",
        "\n",
        "plt.plot(np.arange(len(betas)), betas)"
      ],
      "metadata": {
        "colab": {
          "base_uri": "https://localhost:8080/",
          "height": 320
        },
        "id": "ZslFq8RRcnd9",
        "outputId": "4b1f871c-d5f7-4cda-fcf6-443d70ec9c95"
      },
      "execution_count": null,
      "outputs": [
        {
          "output_type": "stream",
          "name": "stderr",
          "text": [
            "100%|██████████| 10000/10000 [07:26<00:00, 22.42it/s]"
          ]
        },
        {
          "output_type": "stream",
          "name": "stdout",
          "text": [
            "accepted 1748 samples\n"
          ]
        },
        {
          "output_type": "stream",
          "name": "stderr",
          "text": [
            "\n"
          ]
        },
        {
          "output_type": "execute_result",
          "data": {
            "text/plain": [
              "[<matplotlib.lines.Line2D at 0x7f6a023a36d0>]"
            ]
          },
          "metadata": {},
          "execution_count": 38
        },
        {
          "output_type": "display_data",
          "data": {
            "text/plain": [
              "<Figure size 432x288 with 1 Axes>"
            ],
            "image/png": "[encoded data removed]"
          },
          "metadata": {
            "needs_background": "light"
          }
        }
      ]
    },
    {
      "cell_type": "code",
      "source": [
        "# @title histogram of the samples {vertical-output: true}\n",
        "n, bins, _ = plt.hist(betas, density=True, range=(0,0.3), bins=40)\n",
        "plt.title(\"1800 sampled beta values through ABC-MCMC for a dataset of N=1900, beta=0.08\")\n",
        "plt.xlabel(\"beta\")\n",
        "plt.ylabel(\"density\")"
      ],
      "metadata": {
        "colab": {
          "base_uri": "https://localhost:8080/",
          "height": 313
        },
        "id": "elKYMWMmcqPs",
        "outputId": "d57c8ecf-b418-462e-e9cc-5273ad43548b"
      },
      "execution_count": null,
      "outputs": [
        {
          "output_type": "execute_result",
          "data": {
            "text/plain": [
              "Text(0, 0.5, 'density')"
            ]
          },
          "metadata": {},
          "execution_count": 39
        },
        {
          "output_type": "display_data",
          "data": {
            "text/plain": [
              "<Figure size 432x288 with 1 Axes>"
            ],
            "image/png": "[encoded data removed]"
          },
          "metadata": {
            "needs_background": "light"
          }
        }
      ]
    },
    {
      "cell_type": "markdown",
      "source": [
        "## Experiment 2: Generating a dataset from a distribution of $\\beta$ values\n",
        "\n"
      ],
      "metadata": {
        "id": "tIThYImGGKbY"
      }
    },
    {
      "cell_type": "code",
      "source": [
        "# @title define helpers\n",
        "def gaussian_pdf(mu:float, sigma_sq:float) -> Callable:\n",
        "  def pdf(x:float) -> float:\n",
        "    return (1/(np.sqrt(2*np.pi)*np.sqrt(sigma_sq)))*np.exp(-(x-mu)**2/(2*sigma_sq))\n",
        "  return pdf"
      ],
      "metadata": {
        "cellView": "form",
        "id": "9fGxA3YvPsxt"
      },
      "execution_count": 9,
      "outputs": []
    },
    {
      "cell_type": "code",
      "source": [
        "# @title set PCA parameters\n",
        "grid_size = 30 #@param {type:\"number\"}\n",
        "num_sequences = 100 #@param {type:\"number\"}\n",
        "steps_per_sequence = 20 #@param {type: \"number\"}\n",
        "# @markdown $\\beta$ will be generated from a Gaussian distribution\n",
        "# @markdown $\\beta_t \\sim\\mathcal{N}(\\mu, \\sigma)$ and clipped to a range of $[0,1]$.\n",
        "mu = 0.5 #@param {type:\"slider\", min:0, max:1, step:0.01}\n",
        "sigma = 0.1 #@param {type:\"slider\", min:0, max:1, step:0.01}\n",
        "\n",
        "# @markdown ---\n",
        "# @markdown parameters for the PCA visualization\n",
        "\n",
        "frame_speed = 0.1 # @param {type:\"slider\", min:0.1, max:2, step:0.01}"
      ],
      "metadata": {
        "cellView": "form",
        "id": "Yr4kAw1HGaKD"
      },
      "execution_count": 10,
      "outputs": []
    },
    {
      "cell_type": "code",
      "source": [
        "# @title visualize the distribution over $\\beta$ {vertical-output: true }\n",
        "beta_pdf = gaussian_pdf(mu, sigma**2)\n",
        "\n",
        "x_vis = np.linspace(0,1,1_000)\n",
        "y_vis = beta_pdf(x_vis)\n",
        "\n",
        "plt.plot(x_vis, y_vis)"
      ],
      "metadata": {
        "colab": {
          "base_uri": "https://localhost:8080/",
          "height": 283
        },
        "id": "ZZr_G3rzH1N3",
        "outputId": "c7cb3de5-b5a6-4a7a-fdfd-fb32ddd3eb34"
      },
      "execution_count": 11,
      "outputs": [
        {
          "output_type": "execute_result",
          "data": {
            "text/plain": [
              "[<matplotlib.lines.Line2D at 0x7f72edddc7d0>]"
            ]
          },
          "metadata": {},
          "execution_count": 11
        },
        {
          "output_type": "display_data",
          "data": {
            "text/plain": [
              "<Figure size 432x288 with 1 Axes>"
            ],
            "image/png": "[encoded data removed]"
          },
          "metadata": {
            "needs_background": "light"
          }
        }
      ]
    },
    {
      "cell_type": "code",
      "source": [
        "# @title visualize a sample sequence {vertical-output: true}\n",
        "grid = init_grids(grid_size,1)\n",
        "beta = jnp.clip(np.random.normal(mu,sigma), 0, 1)\n",
        "sequence = [grid]\n",
        "for i in range(steps_per_sequence):\n",
        "  grid = model(grid, beta)\n",
        "  sequence.append(grid.copy())\n",
        "visualize_sequence(np.array(sequence).squeeze(), framerate=frame_speed)\n"
      ],
      "metadata": {
        "colab": {
          "base_uri": "https://localhost:8080/",
          "height": 252
        },
        "id": "SCwTNmF6ZAQ7",
        "outputId": "b3f3d2ec-5ab1-4e8d-86e7-7d61c0415719"
      },
      "execution_count": 41,
      "outputs": [
        {
          "output_type": "display_data",
          "data": {
            "text/plain": [
              "<Figure size 432x288 with 1 Axes>"
            ],
            "image/png": "[encoded data removed]"
          },
          "metadata": {
            "needs_background": "light"
          }
        }
      ]
    },
    {
      "cell_type": "markdown",
      "source": [
        "for the experiment, we generate 1000 sequences. For each sequence, we draw a beta randomly from the "
      ],
      "metadata": {
        "id": "i6YHkPP0SvfS"
      }
    },
    {
      "cell_type": "code",
      "source": [
        "sequences = np.zeros((num_sequences, steps_per_sequence, grid_size, grid_size))\n",
        "betas = []\n",
        "\n",
        "# @title generate dataset\n",
        "for seq_idx in tqdm(range(num_sequences)):\n",
        "  sequence = init_grids(grid_size,1)\n",
        "  beta = jnp.clip(np.random.normal(mu, sigma), 0, 1)\n",
        "  for step_idx in range(steps_per_sequence):\n",
        "    sequences[seq_idx,step_idx,:,:] = sequence\n",
        "    sequence = model(sequence, beta)\n",
        "  betas.append(beta)\n",
        "\n",
        "dataset = chop_and_shuffle_data(sequences)\n",
        "\n"
      ],
      "metadata": {
        "colab": {
          "base_uri": "https://localhost:8080/"
        },
        "id": "ECdPyIIwREuh",
        "outputId": "7827e66f-e899-402a-a1d5-fc22098602a4"
      },
      "execution_count": 42,
      "outputs": [
        {
          "output_type": "stream",
          "name": "stderr",
          "text": [
            "100%|██████████| 100/100 [00:18<00:00,  5.52it/s]\n"
          ]
        }
      ]
    },
    {
      "cell_type": "code",
      "source": [
        "# @title visualize the empirical $\\beta$ {vertical-output: true} distribution\n",
        "\n",
        "n, bins, _ = plt.hist(betas, density=True, range=(0,1), bins=10)\n",
        "plt.title(\"empirical distribution over beta for the generated dataset\")\n",
        "plt.xlabel(\"beta\")\n",
        "plt.ylabel(\"density\")"
      ],
      "metadata": {
        "colab": {
          "base_uri": "https://localhost:8080/",
          "height": 313
        },
        "id": "1yi0rT1uUhSu",
        "outputId": "387b2487-0a46-46e8-8666-237b8c4e4f81"
      },
      "execution_count": 43,
      "outputs": [
        {
          "output_type": "execute_result",
          "data": {
            "text/plain": [
              "Text(0, 0.5, 'density')"
            ]
          },
          "metadata": {},
          "execution_count": 43
        },
        {
          "output_type": "display_data",
          "data": {
            "text/plain": [
              "<Figure size 432x288 with 1 Axes>"
            ],
            "image/png": "[encoded data removed]"
          },
          "metadata": {
            "needs_background": "light"
          }
        }
      ]
    },
    {
      "cell_type": "code",
      "source": [
        "# @title post-process the dataset to remove useless transitions (all active $\\rightarrow$ all active)\n",
        "print(dataset.shape)\n",
        "\n",
        "mask = np.all(dataset[:,0] == 1, axis=(-1,-2))\n",
        "\n",
        "num_faulty_entries = mask[mask==True].shape[0]\n",
        "\n",
        "print(f\"remove {num_faulty_entries} entries from the dataset\")\n",
        "\n",
        "dataset = np.delete(dataset, mask, axis=0)\n",
        "\n",
        "dataset.shape"
      ],
      "metadata": {
        "colab": {
          "base_uri": "https://localhost:8080/"
        },
        "id": "AkEEF6PpVH-H",
        "outputId": "c323a00d-171a-408a-99e9-35b061790b37"
      },
      "execution_count": 44,
      "outputs": [
        {
          "output_type": "stream",
          "name": "stdout",
          "text": [
            "(1900, 2, 30, 30)\n",
            "remove 40 entries from the dataset\n"
          ]
        },
        {
          "output_type": "execute_result",
          "data": {
            "text/plain": [
              "(1860, 2, 30, 30)"
            ]
          },
          "metadata": {},
          "execution_count": 44
        }
      ]
    },
    {
      "cell_type": "markdown",
      "source": [
        "### Estimate $\\beta$ via ABC-REJ\n",
        "\n",
        "We define:\n",
        "\n",
        "- $\\epsilon = 0.1$ \n",
        "- $p(\\theta) \\sim U(0,1)$"
      ],
      "metadata": {
        "id": "dVHH75wceQMe"
      }
    },
    {
      "cell_type": "code",
      "source": [
        "# @title define helpers\n",
        "def sample_from_prior(size:int):\n",
        "  return np.random.uniform(0,1,size)"
      ],
      "metadata": {
        "id": "aJkE7XK4WAzB"
      },
      "execution_count": 16,
      "outputs": []
    },
    {
      "cell_type": "code",
      "source": [
        "# @title define a rejection sampler function\n",
        "def ABC_REJ(X:np.ndarray, Y_obs:np.ndarray, epsilon:float) -> float:\n",
        "  num_steps = 1\n",
        "  beta = None\n",
        "  dist_func_jit = jit(calc_distance_V2)\n",
        "  while True:\n",
        "    beta = sample_from_prior(1)\n",
        "    Y_sim = model(X, beta)\n",
        "    distance = dist_func_jit(X, Y_sim, Y_obs)\n",
        "    if distance <= epsilon:\n",
        "      break\n",
        "    else:\n",
        "      num_steps += 1\n",
        "  return beta, num_steps"
      ],
      "metadata": {
        "id": "mfPWFmoneY7E"
      },
      "execution_count": 17,
      "outputs": []
    },
    {
      "cell_type": "code",
      "source": [
        "# @title use ABC-REJ to draw approximate samples from the posterior  { vertical-output: true}\n",
        "samples = []\n",
        "required_steps = []\n",
        "X = dataset[:,0]\n",
        "Y_obs = dataset[:,1]\n",
        "epsilon = 0.01\n",
        "\n",
        "# In the paper, 1,000 accepted samples are drawn\n",
        "for i in tqdm(range(1_000)):\n",
        "  sample, num_steps = ABC_REJ(X, Y_obs, epsilon)\n",
        "  samples.append(sample)\n",
        "  required_steps.append(num_steps)\n",
        "\n",
        "print(f\"\\n average # steps for acceptance: {np.mean(required_steps)}\")\n",
        "\n",
        "\n"
      ],
      "metadata": {
        "colab": {
          "base_uri": "https://localhost:8080/"
        },
        "id": "NxHg0dAUegTz",
        "outputId": "98484ae9-2916-4329-f04e-b0e170b7dfb2"
      },
      "execution_count": 31,
      "outputs": [
        {
          "output_type": "stream",
          "name": "stderr",
          "text": [
            "100%|██████████| 1000/1000 [04:40<00:00,  3.56it/s]"
          ]
        },
        {
          "output_type": "stream",
          "name": "stdout",
          "text": [
            "\n",
            " average # steps for acceptance: 5.733\n"
          ]
        },
        {
          "output_type": "stream",
          "name": "stderr",
          "text": [
            "\n"
          ]
        }
      ]
    },
    {
      "cell_type": "code",
      "source": [
        "# @title histogram of the samples {vertical-output: true}\n",
        "n, bins, _ = plt.hist(np.array(samples).squeeze(-1), density=True, range=(0,1), bins=40)\n",
        "plt.title(f\" ABC-REJ sampled beta values for 1000 observed sequences with T=20, beta ~ N({mu}, {sigma})\")\n",
        "plt.xlabel(\"beta\")\n",
        "plt.ylabel(\"density\")"
      ],
      "metadata": {
        "colab": {
          "base_uri": "https://localhost:8080/",
          "height": 300
        },
        "id": "_WzR1U93elyQ",
        "outputId": "c2daaf62-5dd8-460d-c8d2-89c5b95bbaf1"
      },
      "execution_count": 32,
      "outputs": [
        {
          "output_type": "execute_result",
          "data": {
            "text/plain": [
              "Text(0, 0.5, 'density')"
            ]
          },
          "metadata": {},
          "execution_count": 32
        },
        {
          "output_type": "display_data",
          "data": {
            "text/plain": [
              "<Figure size 432x288 with 1 Axes>"
            ],
            "image/png": "[encoded data removed]"
          },
          "metadata": {
            "needs_background": "light"
          }
        }
      ]
    },
    {
      "cell_type": "markdown",
      "source": [
        "### Estimate $\\beta$ via ABC-MCMC"
      ],
      "metadata": {
        "id": "W4lPV6FTmEnq"
      }
    },
    {
      "cell_type": "code",
      "source": [
        "# @title define helpers\n",
        "def sample_from_prior(size:int):\n",
        "  return np.random.uniform(0,1,size)\n",
        "\n",
        "# @title Helper Functions\n",
        "def gaussian_pdf(mu:float, sigma_sq:float) -> Callable:\n",
        "  def pdf(x:float) -> float:\n",
        "    return (1/(jnp.sqrt(2*jnp.pi)*jnp.sqrt(sigma_sq)))*jnp.exp(-(x-mu)**2/(2*sigma_sq))\n",
        "  return pdf\n",
        "\n",
        "def q(mu:float, sigma) -> float:\n",
        "  return jnp.clip(np.random.normal(mu, sigma), 0, 1)\n",
        "\n",
        "def gauss_likelihood(x, y, sigma):\n",
        "  \"\"\"\n",
        "  Calculate the likelihood of x as p(x|y) ~ N(y|sigma_sq)\n",
        "  \"\"\"\n",
        "  pdf = gaussian_pdf(y, sigma)\n",
        "  return pdf(x)\n",
        "\n",
        "def uniform_likelihood(low:float, high:float, x:float) -> float:\n",
        "  \"\"\"\n",
        "  Calculate the likelihood of x as p(x) ~ U(low, high)\n",
        "  \"\"\"\n",
        "  if x > high or x < low:\n",
        "    return 0 \n",
        "  else:\n",
        "    return 1 / (high-low)\n",
        "\n",
        "def calc_alpha(beta_star:float, beta:float, epsilon:float, dist:float, sigma:float) -> float:\n",
        "  if dist <= epsilon and uniform_likelihood(0, 1, beta_star) > 0:\n",
        "    return min([1,gauss_likelihood(beta, beta_star, sigma)/gauss_likelihood(beta_star, beta, sigma)])\n",
        "  else:\n",
        "    return 0"
      ],
      "metadata": {
        "id": "Xn8pbFJAr9sK"
      },
      "execution_count": 45,
      "outputs": []
    },
    {
      "cell_type": "code",
      "source": [
        "# @title Define ABC-MCMC\n",
        "def ABC_MCMC(X:np.ndarray, Y_obs:np.ndarray, N:int, epsilon:float, beta:float, proposal_sigma:float) -> List[float]:\n",
        "  betas = [beta]\n",
        "  beta_hist = [beta]\n",
        "  steps_per_sample = 1\n",
        "  step_hist = []\n",
        "  for i in tqdm(range(N)):\n",
        "    beta_star = q(beta, proposal_sigma)\n",
        "    Y_sim = model(X, beta_star)\n",
        "    dist = calc_distance_V2(X, Y_sim, Y_obs)\n",
        "    alpha = calc_alpha(beta_star, beta, epsilon, dist, proposal_sigma)\n",
        "    if random.random() <= alpha:\n",
        "      beta = beta_star\n",
        "      betas.append(beta)\n",
        "      step_hist.append(steps_per_sample)\n",
        "      steps_per_sample = 1\n",
        "    else:\n",
        "      steps_per_sample += 1\n",
        "    beta_hist.append(beta)\n",
        "  return betas, beta_hist, step_hist"
      ],
      "metadata": {
        "id": "JAacwToImkzQ"
      },
      "execution_count": 46,
      "outputs": []
    },
    {
      "cell_type": "code",
      "source": [
        "# @title Run ABC-MCMC for the example { vertical-output: true}\n",
        "N = 10000\n",
        "X = dataset[:,0]\n",
        "Y_obs = dataset[:,1]\n",
        "epsilon = 0.1\n",
        "beta_init = 0.5\n",
        "proposal_sigma = 0.15\n",
        "\n",
        "betas, beta_hist, step_hist = ABC_MCMC(X, Y_obs, N, epsilon, beta_init, proposal_sigma)\n",
        "\n",
        "print(f\"accepted {len(betas)} samples\")\n",
        "\n",
        "plt.plot(np.arange(len(beta_hist)), beta_hist)"
      ],
      "metadata": {
        "colab": {
          "base_uri": "https://localhost:8080/",
          "height": 319
        },
        "id": "HmPhyiuMmv0B",
        "outputId": "1e39dcf9-2a8c-4bb5-af24-2283cc87179f"
      },
      "execution_count": 23,
      "outputs": [
        {
          "output_type": "stream",
          "name": "stderr",
          "text": [
            "100%|██████████| 10000/10000 [10:46<00:00, 15.46it/s]\n"
          ]
        },
        {
          "output_type": "stream",
          "name": "stdout",
          "text": [
            "accepted 7998 samples\n"
          ]
        },
        {
          "output_type": "execute_result",
          "data": {
            "text/plain": [
              "[<matplotlib.lines.Line2D at 0x7f6efaded910>]"
            ]
          },
          "metadata": {},
          "execution_count": 23
        },
        {
          "output_type": "display_data",
          "data": {
            "text/plain": [
              "<Figure size 432x288 with 1 Axes>"
            ],
            "image/png": "[encoded data removed]"
          },
          "metadata": {
            "needs_background": "light"
          }
        }
      ]
    },
    {
      "cell_type": "code",
      "source": [
        "# @title histogram of the samples {vertical-output: true}\n",
        "n, bins, _ = plt.hist(betas, density=True, range=(0,1), bins=10)\n",
        "plt.title(\"1800 sampled beta values through ABC-MCMC for a dataset of N=1900, beta=0.08\")\n",
        "plt.xlabel(\"beta\")\n",
        "plt.ylabel(\"density\")"
      ],
      "metadata": {
        "colab": {
          "base_uri": "https://localhost:8080/",
          "height": 313
        },
        "id": "hLwqRhMquZw0",
        "outputId": "d4ebd922-183d-4b8a-8ef5-c7dd9b1821e1"
      },
      "execution_count": 28,
      "outputs": [
        {
          "output_type": "execute_result",
          "data": {
            "text/plain": [
              "Text(0, 0.5, 'density')"
            ]
          },
          "metadata": {},
          "execution_count": 28
        },
        {
          "output_type": "display_data",
          "data": {
            "text/plain": [
              "<Figure size 432x288 with 1 Axes>"
            ],
            "image/png": "[encoded data removed]"
          },
          "metadata": {
            "needs_background": "light"
          }
        }
      ]
    },
    {
      "cell_type": "markdown",
      "source": [
        "### Estimate $\\beta$ via ABC-PRC\n",
        "\n",
        "we use:\n",
        "\n",
        "- A population of $N=1000$ particles\n",
        "- A sequence of three distributions $f_1, f_2, f_3$ defined through:\n",
        "$$\n",
        "f_t(\\theta|\\rho(S(x_{sim}), S(x_{obs})) \\leq \\epsilon_t) = \\frac{\\pi(\\theta)}{B_t} \\sum_{b=1}^{B_t} \\textbf{1}(\\rho(S(x_{(b)}), S(x_{obs})) \\leq \\epsilon_t)\n",
        "$$\n",
        "- $\\epsilon_1=0.8, \\epsilon_2=0.3, \\epsilon_3=0.1$\n",
        "- $\\pi(\\theta) \\sim U(0,1)$\n",
        "- $\\mu_1(\\theta)=\\pi(\\theta)$\n",
        "- $K_t(\\theta_t|\\theta_{t-1})=L(\\theta_{t-1}|\\theta)$, gaussian random walks with $\\theta_t \\sim \\mathcal{N}(\\theta_{t-1}, 0.1)$"
      ],
      "metadata": {
        "id": "tv8MdqudzOS5"
      }
    },
    {
      "cell_type": "code",
      "source": [
        "# @title define helper Functions\n",
        "Sampler = Callable[[int], np.ndarray]\n",
        "\n",
        "def mu_1(num_samples:int) -> float:\n",
        "  return np.random.uniform(0, 1, num_samples)\n",
        "\n",
        "def visualize_results(beta_hist:List[List[float]]) -> None:\n",
        "  \"\"\"\n",
        "  Visualize the results of the ABC-PRJ algorithm.\n",
        "  \"\"\"\n",
        "  fig, axs = plt.subplots(2,2, sharex=True, sharey=True)\n",
        "\n",
        "  axs[0,0].hist(beta_hist[0], density=True, bins=30)\n",
        "  axs[0,0].set(ylabel='density', title=\"Population 0\")\n",
        "  axs[0,1].hist(beta_hist[1], density=True, bins=30)\n",
        "  axs[0,1].set(title=\"Population 1\")\n",
        "  axs[1,0].hist(beta_hist[2], density=True, bins=30)\n",
        "  axs[1,0].set(xlabel='theta', ylabel='density', title=\"Population 2\")\n",
        "  axs[1,1].hist(beta_hist[3], density=True, bins=30)\n",
        "  axs[1,1].set(xlabel='theta', title=\"Population 3\")\n",
        "\n",
        "  plt.xlim(0,1)\n",
        "  plt.show()"
      ],
      "metadata": {
        "id": "kznB0wpFy9fE"
      },
      "execution_count": 52,
      "outputs": []
    },
    {
      "cell_type": "code",
      "source": [
        "# @title Define ABC-PRC\n",
        "def ABC_PRC(N:int, epsilons:List[float], mu_1:Sampler, X, Y_obs) -> Tuple[List[float], List[List[float]]]:\n",
        "  betas = mu_1(1000)\n",
        "  beta_hist = [np.copy(betas)]\n",
        "  for t, epsilon in enumerate(tqdm(epsilons)):\n",
        "    for i in range(N):\n",
        "      close_enough = False\n",
        "      beta_star = beta_ss = x_ss = None\n",
        "      while not close_enough:\n",
        "        # Sample from previous population\n",
        "        beta_star = np.random.choice(betas, size=1)\n",
        "        # Move the particle with a gaussian markov kernel\n",
        "        beta_ss = jnp.clip(np.random.normal(beta_star, 0.1), 0, 1)\n",
        "        # sample Y_sim using beta**\n",
        "        Y_sim = model(X, beta_ss)\n",
        "        # check the distance\n",
        "        close_enough = calc_distance_V2(X, Y_sim, Y_obs) <= epsilon\n",
        "      betas[i] = beta_ss.copy()\n",
        "    beta_hist.append(np.copy(betas))\n",
        "  return betas, beta_hist"
      ],
      "metadata": {
        "id": "elrRfoj31gGQ"
      },
      "execution_count": 50,
      "outputs": []
    },
    {
      "cell_type": "code",
      "source": [
        "# @title Run ABC-PRC for the example { vertical-output: true}\n",
        "N = 1000\n",
        "X = dataset[:,0]\n",
        "Y_obs = dataset[:,1]\n",
        "epsilons = [0.6, 0.2, 0.05]\n",
        "\n",
        "thetas, theta_hist = ABC_PRC(N, epsilons, mu_1, X, Y_obs)\n",
        "\n",
        "visualize_results(theta_hist)"
      ],
      "metadata": {
        "id": "RqOaoPLt4wF2"
      },
      "execution_count": null,
      "outputs": []
    },
    {
      "cell_type": "code",
      "source": [
        "visualize_results(theta_hist)"
      ],
      "metadata": {
        "colab": {
          "base_uri": "https://localhost:8080/",
          "height": 295
        },
        "id": "UDpL_Lus5Uw7",
        "outputId": "3c11a796-93f6-44e2-ec4e-b711df61e1e2"
      },
      "execution_count": 53,
      "outputs": [
        {
          "output_type": "display_data",
          "data": {
            "text/plain": [
              "<Figure size 432x288 with 4 Axes>"
            ],
            "image/png": "[encoded data removed]"
          },
          "metadata": {
            "needs_background": "light"
          }
        }
      ]
    },
    {
      "cell_type": "code",
      "source": [],
      "metadata": {
        "id": "CV-Va1Q_88Lw"
      },
      "execution_count": null,
      "outputs": []
    }
  ]
}