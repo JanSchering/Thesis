{
  "nbformat": 4,
  "nbformat_minor": 0,
  "metadata": {
    "colab": {
      "provenance": [],
      "collapsed_sections": [],
      "authorship_tag": "ABX9TyMXA5tFo02yXfAKigUKweyo",
      "include_colab_link": true
    },
    "kernelspec": {
      "name": "python3",
      "display_name": "Python 3"
    },
    "language_info": {
      "name": "python"
    }
  },
  "cells": [
    {
      "cell_type": "markdown",
      "metadata": {
        "id": "view-in-github",
        "colab_type": "text"
      },
      "source": [
        "<a href=\"https://colab.research.google.com/github/JanSchering/Thesis/blob/main/fitzhugh_kapral.ipynb\" target=\"_parent\"><img src=\"https://colab.research.google.com/assets/colab-badge.svg\" alt=\"Open In Colab\"/></a>"
      ]
    },
    {
      "cell_type": "code",
      "source": [
        "!pip install enum34"
      ],
      "metadata": {
        "colab": {
          "base_uri": "https://localhost:8080/"
        },
        "id": "LbtUtpthLj56",
        "outputId": "326dfae4-839f-4314-9ab5-4dc58df7a1fd"
      },
      "execution_count": 1,
      "outputs": [
        {
          "output_type": "stream",
          "name": "stdout",
          "text": [
            "Looking in indexes: https://pypi.org/simple, https://us-python.pkg.dev/colab-wheels/public/simple/\n",
            "Requirement already satisfied: enum34 in /usr/local/lib/python3.7/dist-packages (1.1.10)\n"
          ]
        }
      ]
    },
    {
      "cell_type": "code",
      "source": [],
      "metadata": {
        "id": "szAQLgBNPCCT"
      },
      "execution_count": null,
      "outputs": []
    },
    {
      "cell_type": "markdown",
      "source": [
        "# [Microscopic model for FitzHugh-Nagumo dynamics](https://journals.aps.org/pre/pdf/10.1103/PhysRevE.55.5657)\n",
        "\n",
        "original Fitzhugh-Nagumo equation:\n",
        "\n",
        "$$\n",
        "u_\\tau = -u^3 + u - v \\\\\n",
        "v_\\tau = \\epsilon(u - \\alpha v - \\beta)\n",
        "$$\n",
        "\n",
        "Spatially distributed form:\n",
        "\n",
        "$$\n",
        "u_\\tau = -u^3 + u - v + D_u \\nabla^2 u \\\\\n",
        "v_\\tau = \\epsilon(u - \\alpha v - \\beta) D_v \\nabla^2 v\n",
        "$$\n",
        "\n",
        "This paper:  depart from the standard interpretation of the\n",
        "FitzHugh-Nagumo (FHN) model in terms of nerve impulse\n",
        "physiology and devise a chemical scheme whose mass-action\n",
        "law is the FHN equation. The goal is to construct a microscopic collision dynamics corresponding to the\n",
        "mechanism and implement it in the context of a lattice-gas\n",
        "automaton."
      ],
      "metadata": {
        "id": "ma9-whXe-QVt"
      }
    },
    {
      "cell_type": "markdown",
      "source": [
        "## Fitzhugh-Nagumo reaction kinetics\n",
        "\n"
      ],
      "metadata": {
        "id": "EqeDrrEFA4r3"
      }
    },
    {
      "cell_type": "markdown",
      "source": [
        "## Lattice-Gas Model\n",
        "\n",
        "Once a chemical mechanism is known it is possible to\n",
        "devise a microscopic reactive collision dynamics that accounts for the steps in the mechanism. In the paper, the mechanism is implemented as a reactive lattice-gas automaton. \n",
        "\n",
        "### Notation\n",
        "\n",
        "- $\\mathcal{L}$: The coordinate space of the model. A regular Bravais lattice is used\n",
        "- $\\mathcal{l}$: An elementary site on the lattice\n",
        "- $\\mathcal{B}$: The space of all possible site conffigurations\n",
        "- each site $\\mathcal{l}$ can be occupied by a number of particles\n",
        "  - the occupation numbers of different species are independent\n",
        "  - it follows that $\\mathcal{B}$ is a direct product of particle states\n"
      ],
      "metadata": {
        "id": "Rn4Y7kJXCE0O"
      }
    },
    {
      "cell_type": "markdown",
      "source": [
        "### Brownian Motion\n",
        "\n",
        "The model uses an additional \"excited\" substate $\\mathbb{E}$. Motion then works through a 3-step algorithm:\n",
        "\n",
        "1. Transfer at most 1 particle per side to the excited state, with a probability depending on the site occupation number\n",
        "2. Translate the excited particles in a random direction chosen from a set of directions $V={v_1,\\dots, v_k}$\n",
        "3. Accomodate the excited particles at their new locations\n",
        "\n",
        "-> Two restrictions immediately follow from our definition.\n",
        "- Only $N$ particles of a species can reside at a site ==> $p(N)=1$\n",
        "- We can't create excited particles out of nothing ==> $p(0)=0$\n",
        "\n",
        "We can specify this algorithm using the example of translating particles of a species $A$:\n",
        "\n",
        "The lattice state is defined by the substates of the species $A$, $\\mathbb{A}$ and the auxiliary excited species E, $\\mathbb{E}$.\n",
        "\n",
        "$$\\mathbb{L}=(\\mathbb{A},\\mathbb{E})$$\n",
        "\n",
        "If we define the maximum occupation number as $N$, then we can express the algorithm as:\n",
        "\n",
        "$$\n",
        "\\mathcal{D} = \\mathcal{C}_\\alpha \\circ \\mathcal{T}_v \\circ \\mathcal{C}_\\tau\n",
        "$$\n",
        "\n",
        "**$\\mathcal{C}_\\tau$** \n",
        "****\n",
        "\n",
        "$\\mathcal{C}_\\tau$ is a lattice operator corresponding to 1. (transfer a particle to the \"excited\" state). The lattice operator defines the application of the following site operator independently at each site $\\mathcal{l}=(n,e)$, where $n$ is the number of molecules of species $A$ at site $\\mathcal{l}$ and $e$ is the number of excited particles at site $\\mathcal{l}$:\n",
        "\n",
        "$$\n",
        "\\tau(n,e) = \\textbf{(} (n-\\theta(n-N\\xi)),\\theta(n-N\\xi)\\textbf{)}\n",
        "$$\n",
        "\n",
        "Here, $\\theta$ is the heaviside function and $\\xi$ is a continuous uniform random variable on (0,1).\n",
        "\n",
        "**$\\mathcal{T}_v$**\n",
        "****\n",
        "Translate $\\mathbb{E}$ into a random direction $v$. Corresponds to 2.\n",
        "\n",
        "**$\\mathcal{C}_\\alpha$**\n",
        "****\n",
        "$\\mathcal{C}_\\alpha$ is a lattice operator that corresponds to 3. (\"Accomodate the excited particles at their new locations\"). It defines the application of the following site operator to each site $\\mathcal{l}$:\n",
        "\n",
        "$$\n",
        "\\alpha(n,e) = \\textbf{(} (n+e), (0) \\textbf{)}\n",
        "$$"
      ],
      "metadata": {
        "id": "pPezQL0nT89_"
      }
    },
    {
      "cell_type": "code",
      "source": [
        "from typing import Tuple, List\n",
        "from enum import Enum\n",
        "import torch as t\n",
        "from torch.distributions import uniform\n",
        "import random"
      ],
      "metadata": {
        "id": "oGss6fsjLwpd"
      },
      "execution_count": 22,
      "outputs": []
    },
    {
      "cell_type": "code",
      "execution_count": 3,
      "metadata": {
        "colab": {
          "base_uri": "https://localhost:8080/"
        },
        "id": "N6-bAPdP-MlD",
        "outputId": "d09358cd-8b53-458b-a8a7-5f9852efacef"
      },
      "outputs": [
        {
          "output_type": "stream",
          "name": "stdout",
          "text": [
            "(0, <Direction2D.North_West: 0>)\n",
            "(1, <Direction2D.North: 1>)\n",
            "(2, <Direction2D.North_East: 2>)\n",
            "(3, <Direction2D.West: 3>)\n",
            "(4, <Direction2D.Center: 4>)\n",
            "(5, <Direction2D.East: 5>)\n",
            "(6, <Direction2D.South_West: 6>)\n",
            "(7, <Direction2D.South: 7>)\n",
            "(8, <Direction2D.South_East: 8>)\n"
          ]
        }
      ],
      "source": [
        "class Direction2D(Enum):\n",
        "  North_West = 0\n",
        "  North = 1\n",
        "  North_East = 2\n",
        "  West = 3\n",
        "  Center = 4\n",
        "  East = 5\n",
        "  South_West = 6\n",
        "  South = 7\n",
        "  South_East = 8\n",
        "\n",
        "\n",
        "for direction in enumerate(Direction2D):\n",
        "  print(direction)"
      ]
    },
    {
      "cell_type": "code",
      "source": [
        "def translate(state: t.Tensor, v:Direction2D) -> t.Tensor:\n",
        "  translate_north = translate_west = [*t.arange(1, state.shape[1]), 0]\n",
        "  translate_south = translate_east = [-1, *t.arange(state.shape[1]-1)]\n",
        "\n",
        "  if v == Direction2D.North_West:\n",
        "    return state[:,translate_west][translate_north,:]\n",
        "  elif v == Direction2D.West:\n",
        "    return state[:,translate_west]\n",
        "  elif v == Direction2D.South_West:\n",
        "    return state[:,translate_west][translate_south,:]\n",
        "  elif v == Direction2D.North:\n",
        "    return state[translate_north,:]\n",
        "  elif v == Direction2D.Center:\n",
        "    return state\n",
        "  elif v == Direction2D.South:\n",
        "    return state[translate_south,:]\n",
        "  elif v == Direction2D.North_East:\n",
        "    return state[translate_north,:][:,translate_east]\n",
        "  elif v == Direction2D.East:\n",
        "    return state[:,translate_east]\n",
        "  elif v == Direction2D.South_East:\n",
        "    return state[translate_south,:][:,translate_east]\n",
        "  else:\n",
        "    raise Exception(\"Invalid translation direction\")\n"
      ],
      "metadata": {
        "id": "emlak1U7MQts"
      },
      "execution_count": 23,
      "outputs": []
    },
    {
      "cell_type": "code",
      "source": [
        "state = t.zeros((3,3))\n",
        "state[0,0] = 1\n",
        "state[1,0] = 1\n",
        "state[1,1] = 1\n",
        "print(state)\n",
        "\n",
        "translate(state, Direction2D.North_West)"
      ],
      "metadata": {
        "colab": {
          "base_uri": "https://localhost:8080/"
        },
        "id": "CdzSHAnuRb-4",
        "outputId": "279be46e-cce4-4bdc-d0bd-cb750c409e99"
      },
      "execution_count": 24,
      "outputs": [
        {
          "output_type": "stream",
          "name": "stdout",
          "text": [
            "tensor([[1., 0., 0.],\n",
            "        [1., 1., 0.],\n",
            "        [0., 0., 0.]])\n"
          ]
        },
        {
          "output_type": "execute_result",
          "data": {
            "text/plain": [
              "tensor([[1., 0., 1.],\n",
              "        [0., 0., 0.],\n",
              "        [0., 0., 1.]])"
            ]
          },
          "metadata": {},
          "execution_count": 24
        }
      ]
    },
    {
      "cell_type": "code",
      "source": [
        "s1 = t.arange(9).reshape((3,3))\n",
        "\n",
        "expectation_north_west = t.tensor([\n",
        "    [s1[1,1], s1[1,2], s1[1,0]],\n",
        "    [s1[2,1], s1[2,2], s1[2,0]],\n",
        "    [s1[0,1], s1[0,2], s1[0,0]]\n",
        "])\n",
        "\n",
        "expectation_north = t.tensor([\n",
        "    [s1[1,0], s1[1,1], s1[1,2]],\n",
        "    [s1[2,0], s1[2,1], s1[2,2]],\n",
        "    [s1[0,0], s1[0,1], s1[0,2]],\n",
        "])\n",
        "\n",
        "expectation_north_east = t.tensor([\n",
        "    [s1[1,2], s1[1,0], s1[1,1]],\n",
        "    [s1[2,2], s1[2,0], s1[2,1]],\n",
        "    [s1[0,2], s1[0,0], s1[0,1]],\n",
        "])\n",
        "\n",
        "expectation_west = t.tensor([\n",
        "    [s1[0,1], s1[0,2], s1[0,0]],\n",
        "    [s1[1,1], s1[1,2], s1[1,0]],\n",
        "    [s1[2,1], s1[2,2], s1[2,0]],\n",
        "])\n",
        "\n",
        "expectation_east = t.tensor([\n",
        "    [s1[0,2], s1[0,0], s1[0,1]],\n",
        "    [s1[1,2], s1[1,0], s1[1,1]],\n",
        "    [s1[2,2], s1[2,0], s1[2,1]],\n",
        "])\n",
        "\n",
        "expectation_south_west = t.tensor([\n",
        "    [s1[2,1], s1[2,2], s1[2,0]],\n",
        "    [s1[0,1], s1[0,2], s1[0,0]],\n",
        "    [s1[1,1], s1[1,2], s1[1,0]],\n",
        "])\n",
        "\n",
        "expectation_south = t.tensor([\n",
        "    [s1[2,0], s1[2,1], s1[2,2]],\n",
        "    [s1[0,0], s1[0,1], s1[0,2]],\n",
        "    [s1[1,0], s1[1,1], s1[1,2]],\n",
        "])\n",
        "\n",
        "expectation_south_east = t.tensor([\n",
        "    [s1[2,2], s1[2,0], s1[2,1]],\n",
        "    [s1[0,2], s1[0,0], s1[0,1]],\n",
        "    [s1[1,2], s1[1,0], s1[1,1]],\n",
        "])\n",
        "\n",
        "assert t.all(translate(s1, Direction2D.North_West) == expectation_north_west)\n",
        "assert t.all(translate(s1, Direction2D.North) == expectation_north)\n",
        "assert t.all(translate(s1, Direction2D.North_East) == expectation_north_east)\n",
        "assert t.all(translate(s1, Direction2D.West) == expectation_west)\n",
        "assert t.all(translate(s1, Direction2D.Center) == s1)\n",
        "assert t.all(translate(s1, Direction2D.East) == expectation_east)\n",
        "assert t.all(translate(s1, Direction2D.South_West) == expectation_south_west)\n",
        "assert t.all(translate(s1, Direction2D.South) == expectation_south)\n",
        "assert t.all(translate(s1, Direction2D.South_East) == expectation_south_east)"
      ],
      "metadata": {
        "id": "UQuc5f1SRq3j"
      },
      "execution_count": 26,
      "outputs": []
    },
    {
      "cell_type": "code",
      "source": [
        "def excite_particles(state:t.Tensor, N:int) -> Tuple[t.Tensor, t.Tensor]:\n",
        "  \"\"\"\n",
        "  Returns the adjusted Lattice + auxiliary grid of \"excited\" particles E.\n",
        "  \"\"\"\n",
        "  grid_dim =  state.shape[-1]\n",
        "  Xi = uniform.Uniform(0,1).sample_n(grid_dim**2).reshape(grid_dim,grid_dim)\n",
        "  E = t.heaviside(state - N * Xi)\n",
        "  return state - E, E"
      ],
      "metadata": {
        "id": "g4p0wAruigJr"
      },
      "execution_count": 11,
      "outputs": []
    },
    {
      "cell_type": "code",
      "source": [
        "def accomodate_particles(state:t.Tensor, E:t.Tensor) -> t.Tensor:\n",
        "  \"\"\"\n",
        "  Merges E into the current grid state.\n",
        "  \"\"\"\n",
        "  return state + E"
      ],
      "metadata": {
        "id": "n9IuLQl5JSLR"
      },
      "execution_count": 9,
      "outputs": []
    },
    {
      "cell_type": "code",
      "source": [
        "def diffuse(state:t.Tensor, N:int) -> t.Tensor:\n",
        "  state, E = excite_particles(state, N)\n",
        "  direction = random.choice(list(Direction2D))\n",
        "  E = translate(E, direction)\n",
        "  state = accomodate_particles(state, E)\n",
        "  return state"
      ],
      "metadata": {
        "id": "boIVLIHGJj7O"
      },
      "execution_count": 20,
      "outputs": []
    },
    {
      "cell_type": "markdown",
      "source": [
        "## Reactive Dynamics\n",
        "\n",
        "The lattice state $\\mathbb{L}$ is given by $\\mathbb{L} = (\\mathbb{A}, \\mathbb{B})$. Each lattice site $\\mathcal{l}$ is then defined by the occupation numbers\n",
        "$\\mathcal{l} = (n,m)$, where $n$ is the number of particles of species A and $m$ the number of particles of species B currently residing at site $\\mathcal{l}$.\n",
        "\n",
        "The reaction rule is carried out by randomly choosing one of 6 possible reaction channels ($r=6$). Each channel is assigned an equal weight in the choice. The reactive dynamics arise from birth-death processes based on the 6 possible reaction channels. The probability of a reaction also depends on the chosen channel and is given by:\n",
        "\n",
        "$$\n",
        "p_1(n,m) = \\gamma \\overline{k_1} n (n-1)(N-n) \\\\\n",
        "p_2(n,m) = \\gamma \\overline{k^*_1} n (N-n) (N-1-n) \\\\\n",
        "p_3(n,m) = \\gamma \\overline{k_2} (N-n)m \\\\\n",
        "p_4(n,m) = \\gamma \\overline{k^*_2} n(N-m) \\\\\n",
        "p_5(n,m) = \\gamma \\overline{k^*_3} (N-n)(N-m) \\\\ \n",
        "p_6(n,m) = \\gamma \\overline{k_3}n m\n",
        "$$\n",
        "\n",
        "- $\\gamma$ is a scale factor that controls the timescale of the reaction \n",
        "- $\\overline{k_1} = k_1 / [(N-1)(N-2)]$\n",
        "- $\\overline{k_1^*} = k_1^* / [(N-1)(N-2)]$\n",
        "- $\\overline{k_2} = k_2 / N$\n",
        "- $\\overline{k_2^*} = k_2^* / N$\n",
        "- $\\overline{k_3} = k_3 / N$\n",
        "- $\\overline{k_3^*} = k_3^* / N$\n",
        "\n",
        "where $k_i$ and $k_i^*$ are the reaction rate coefficients.\n",
        "\n",
        "****\n",
        "\n",
        "We can use the probabilities to define the site operators for the reactive dynamics. Let $\\xi$ be a random continuous uniform variable on (0,1), then:\n",
        "\n",
        "$$\n",
        "\\sigma_1(n,m) = (n + \\theta(p_1 - \\xi), m) \\\\\n",
        "\\sigma_2(n,m) = (n - \\theta(p_2 - \\xi), m) \\\\\n",
        "\\sigma_3(n,m) = (n + \\theta(p_3 - \\xi), m) \\\\\n",
        "\\sigma_4(n,m) = (n - \\theta(p_4 - \\xi), m) \\\\\n",
        "\\sigma_5(n,m) = (n, m + \\theta(p_5 - \\xi)) \\\\\n",
        "\\sigma_6(n,m) = (n, m - \\theta(p_6 - \\xi))\n",
        "$$\n",
        "\n",
        "We can combine these operators into a site operator for the local reaction rule. Let $\\nu$ be a discrete random variable on the domain $\\{1,\\dots,r\\}$, then:\n",
        "\n",
        "$$\n",
        "\\rho(n,m) = \\sum_{j=1}^6 \\delta_{\\nu j} \\sigma_j(n,m)\n",
        "$$\n",
        "\n",
        "where $\\delta_{\\nu j}$ is the kronecker delta and is equal to 1 if $j = \\nu$, 0 otherwise."
      ],
      "metadata": {
        "id": "xXsnRqliL9Mp"
      }
    },
    {
      "cell_type": "code",
      "source": [
        "def p1(state:t.Tensor, N:int, gamma:float, k1:float) -> t.Tensor:\n",
        "  n = state[0]\n",
        "  m = state[1]\n",
        "  k1_bar = k1 / ((N-1) * (N-2))\n",
        "  return gamma * k1_bar * n * (n-1) * (N - n)\n",
        "\n",
        "def p2(state:t.Tensor, N:int, gamma:float, k1_star:float) -> t.Tensor:\n",
        "  n = state[0]\n",
        "  m = state[1]\n",
        "  k1_star_bar = k1_star /  ((N-1) * (N-2))\n",
        "  return gamma * k1_star_bar * n * (N-n) * (N-1-n)\n",
        "\n",
        "def p3(state:t.Tensor, N:int, gamma:float, k2:float) -> t.Tensor:\n",
        "  n = state[0]\n",
        "  m = state[1]\n",
        "  k2_bar = k2 / N\n",
        "  return gamma * k2_bar * (N - n) * m\n",
        "\n",
        "def p4(state:t.Tensor, N:int, gamma:float, k2_star:float) -> t.Tensor:\n",
        "  n = state[0]\n",
        "  m = state[1]\n",
        "  k2_star_bar = k2_star / N\n",
        "  return gamma * k2_star_bar * n * (N - m)\n",
        "\n",
        "def p5(state:t.Tensor, N:int, gamma:float, k3:float) -> t.Tensor:\n",
        "  n = state[0]\n",
        "  m = state[1]\n",
        "  k3_bar = k3 / N\n",
        "  return gamma * k3_bar * (N - n) * (N - m)\n",
        "\n",
        "def p6(state:t.Tensor, N:int, gamma:float, k3_star:float) -> t.Tensor:\n",
        "  n = state[0]\n",
        "  m = state[1]\n",
        "  k3_star_bar = k3_star / N\n",
        "  return gamma * k3_star_bar * n * m\n",
        "\n",
        "probability_funcs = [p1,p2,p3,p4,p5,p6]"
      ],
      "metadata": {
        "id": "9IpBF5U6KyUx"
      },
      "execution_count": null,
      "outputs": []
    },
    {
      "cell_type": "code",
      "source": [
        "def sigma(state:t.Tensor, channel:int, N:int, gamma:float, rate_coefficients: List[float]):\n",
        "  grid_dim = state[-1]\n",
        "  rate_coefficient = rate_coefficients[channel]\n",
        "  reaction_prob = probability_funcs[channel](state, gamma, N, rate_coefficient)\n",
        "  threshold = uniform.Uniform(0,1).sample_n(grid_dim**2).reshape(grid_dim, grid_dim)\n",
        "  if channel == 0 or channel == 2:\n",
        "    state[0] = state[0] + t.heaviside(reaction_prob - threshold)\n",
        "  elif channel == 1 or channel == 3:\n",
        "    state[0] = state[0] - t.heaviside(reaction_prob - threshold)\n",
        "  elif channel == 4:\n",
        "    state[1] = state[1] + t.heaviside(reaction_prob - threshold)\n",
        "  elif channel == 5:\n",
        "    state[1] = state[1] - t.heaviside(reaction_prob - threshold)\n",
        "  return state"
      ],
      "metadata": {
        "id": "aANUuHl6o1AW"
      },
      "execution_count": null,
      "outputs": []
    },
    {
      "cell_type": "code",
      "source": [
        "def rho(state:t.Tensor, N:int, gamma:float, rate_coefficients: List[float]):\n",
        "  channel = random.randint(0,5)\n",
        "  return sigma(state, channel, N, gamma, rate_coefficients)"
      ],
      "metadata": {
        "id": "QfMpkJYak5Xd"
      },
      "execution_count": null,
      "outputs": []
    }
  ]
}