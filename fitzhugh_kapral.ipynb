{
  "nbformat": 4,
  "nbformat_minor": 0,
  "metadata": {
    "colab": {
      "provenance": [],
      "collapsed_sections": [],
      "authorship_tag": "ABX9TyPcecriRbSTnvTI0DtOCaws",
      "include_colab_link": true
    },
    "kernelspec": {
      "name": "python3",
      "display_name": "Python 3"
    },
    "language_info": {
      "name": "python"
    }
  },
  "cells": [
    {
      "cell_type": "markdown",
      "metadata": {
        "id": "view-in-github",
        "colab_type": "text"
      },
      "source": [
        "<a href=\"https://colab.research.google.com/github/JanSchering/Thesis/blob/main/fitzhugh_kapral.ipynb\" target=\"_parent\"><img src=\"https://colab.research.google.com/assets/colab-badge.svg\" alt=\"Open In Colab\"/></a>"
      ]
    },
    {
      "cell_type": "code",
      "source": [
        "!pip install enum34"
      ],
      "metadata": {
        "colab": {
          "base_uri": "https://localhost:8080/"
        },
        "id": "LbtUtpthLj56",
        "outputId": "3ff31ab1-883d-44a3-d553-c81b1ec2dcc5"
      },
      "execution_count": 1,
      "outputs": [
        {
          "output_type": "stream",
          "name": "stdout",
          "text": [
            "Looking in indexes: https://pypi.org/simple, https://us-python.pkg.dev/colab-wheels/public/simple/\n",
            "Requirement already satisfied: enum34 in /usr/local/lib/python3.7/dist-packages (1.1.10)\n"
          ]
        }
      ]
    },
    {
      "cell_type": "code",
      "source": [],
      "metadata": {
        "id": "szAQLgBNPCCT"
      },
      "execution_count": null,
      "outputs": []
    },
    {
      "cell_type": "markdown",
      "source": [
        "# [Microscopic model for FitzHugh-Nagumo dynamics](https://journals.aps.org/pre/pdf/10.1103/PhysRevE.55.5657)\n",
        "\n",
        "original Fitzhugh-Nagumo equation:\n",
        "\n",
        "$$\n",
        "u_\\tau = -u^3 + u - v \\\\\n",
        "v_\\tau = \\epsilon(u - \\alpha v - \\beta)\n",
        "$$\n",
        "\n",
        "Spatially distributed form:\n",
        "\n",
        "$$\n",
        "u_\\tau = -u^3 + u - v + D_u \\nabla^2 u \\\\\n",
        "v_\\tau = \\epsilon(u - \\alpha v - \\beta) D_v \\nabla^2 v\n",
        "$$\n",
        "\n",
        "This paper:  depart from the standard interpretation of the\n",
        "FitzHugh-Nagumo (FHN) model in terms of nerve impulse\n",
        "physiology and devise a chemical scheme whose mass-action\n",
        "law is the FHN equation. The goal is to construct a microscopic collision dynamics corresponding to the\n",
        "mechanism and implement it in the context of a lattice-gas\n",
        "automaton."
      ],
      "metadata": {
        "id": "ma9-whXe-QVt"
      }
    },
    {
      "cell_type": "markdown",
      "source": [
        "## Fitzhugh-Nagumo reaction kinetics\n",
        "\n"
      ],
      "metadata": {
        "id": "EqeDrrEFA4r3"
      }
    },
    {
      "cell_type": "markdown",
      "source": [
        "## Lattice-Gas Model\n",
        "\n",
        "Once a chemical mechanism is known it is possible to\n",
        "devise a microscopic reactive collision dynamics that accounts for the steps in the mechanism. In the paper, the mechanism is implemented as a reactive lattice-gas automaton. \n",
        "\n",
        "### Notation\n",
        "\n",
        "- $\\mathcal{L}$: The coordinate space of the model. A regular Bravais lattice is used\n",
        "- $\\mathcal{l}$: An elementary site on the lattice\n",
        "- $\\mathcal{B}$: The space of all possible site conffigurations\n",
        "- each site $\\mathcal{l}$ can be occupied by a number of particles\n",
        "  - the occupation numbers of different species are independent\n",
        "  - it follows that $\\mathcal{B}$ is a direct product of particle states\n"
      ],
      "metadata": {
        "id": "Rn4Y7kJXCE0O"
      }
    },
    {
      "cell_type": "markdown",
      "source": [
        "### Brownian Motion\n",
        "\n",
        "The model uses an additional \"excited\" substate $\\mathbb{E}$. Motion then works through a 3-step algorithm:\n",
        "\n",
        "1. Transfer at most 1 particle per side to the excited state, with a probability depending on the site occupation number\n",
        "2. Translate the excited particles in a random direction chosen from a set of directions $V={v_1,\\dots, v_k}$\n",
        "3. Accomodate the excited particles at their new locations\n",
        "\n",
        "-> Two restrictions immediately follow from our definition.\n",
        "- Only $N$ particles of a species can reside at a site ==> $p(N)=1$\n",
        "- We can't create excited particles out of nothing ==> $p(0)=0$\n",
        "\n",
        "We can specify this algorithm using the example of translating particles of a species $A$:\n",
        "\n",
        "The lattice state is defined by the substates of the species $A$, $\\mathbb{A}$ and the auxiliary excited species E, $\\mathbb{E}$.\n",
        "\n",
        "$$\\mathbb{L}=(\\mathbb{A},\\mathbb{E})$$\n",
        "\n",
        "If we define the maximum occupation number as $N$, then we can express the algorithm as:\n",
        "\n",
        "$$\n",
        "\\mathcal{D} = \\mathcal{C}_\\alpha \\circ \\mathcal{T}_v \\circ \\mathcal{C}_\\tau\n",
        "$$\n",
        "\n",
        "**$\\mathcal{C}_\\tau$** \n",
        "****\n",
        "\n",
        "$\\mathcal{C}_\\tau$ is a lattice operator corresponding to 1. (transfer a particle to the \"excited\" state). The lattice operator defines the application of the following site operator independently at each site $\\mathcal{l}=(n,e)$, where $n$ is the number of molecules of species $A$ at site $\\mathcal{l}$ and $e$ is the number of excited particles at site $\\mathcal{l}$:\n",
        "\n",
        "$$\n",
        "\\tau(n,e) = \\textbf{(} (n-\\theta(n-N\\xi)),\\theta(n-N\\xi)\\textbf{)}\n",
        "$$\n",
        "\n",
        "Here, $\\theta$ is the heaviside function and $\\xi$ is a continuous uniform random variable on (0,1).\n",
        "\n",
        "**$\\mathcal{T}_v$**\n",
        "****\n",
        "Translate $\\mathbb{E}$ into a random direction $v$. Corresponds to 2.\n",
        "\n",
        "**$\\mathcal{C}_\\alpha$**\n",
        "****\n",
        "$\\mathcal{C}_\\alpha$ is a lattice operator that corresponds to 3. (\"Accomodate the excited particles at their new locations\"). It defines the application of the following site operator to each site $\\mathcal{l}$:\n",
        "\n",
        "$$\n",
        "\\alpha(n,e) = \\textbf{(} (n+e), (0) \\textbf{)}\n",
        "$$"
      ],
      "metadata": {
        "id": "pPezQL0nT89_"
      }
    },
    {
      "cell_type": "code",
      "source": [
        "from typing import Tuple, List\n",
        "from enum import Enum\n",
        "import torch as t\n",
        "from torch.distributions import uniform\n",
        "import random\n",
        "from IPython.display import Image\n",
        "from IPython import display\n",
        "import matplotlib.pyplot as plt\n",
        "import time\n",
        "from tqdm import tqdm"
      ],
      "metadata": {
        "id": "oGss6fsjLwpd"
      },
      "execution_count": 2,
      "outputs": []
    },
    {
      "cell_type": "code",
      "execution_count": 3,
      "metadata": {
        "colab": {
          "base_uri": "https://localhost:8080/"
        },
        "id": "N6-bAPdP-MlD",
        "outputId": "33519b87-4834-433f-ddae-ad183b4d4a3d"
      },
      "outputs": [
        {
          "output_type": "stream",
          "name": "stdout",
          "text": [
            "(0, <Direction2D.North_West: 0>)\n",
            "(1, <Direction2D.North: 1>)\n",
            "(2, <Direction2D.North_East: 2>)\n",
            "(3, <Direction2D.West: 3>)\n",
            "(4, <Direction2D.Center: 4>)\n",
            "(5, <Direction2D.East: 5>)\n",
            "(6, <Direction2D.South_West: 6>)\n",
            "(7, <Direction2D.South: 7>)\n",
            "(8, <Direction2D.South_East: 8>)\n"
          ]
        }
      ],
      "source": [
        "class Direction2D(Enum):\n",
        "  North_West = 0\n",
        "  North = 1\n",
        "  North_East = 2\n",
        "  West = 3\n",
        "  Center = 4\n",
        "  East = 5\n",
        "  South_West = 6\n",
        "  South = 7\n",
        "  South_East = 8\n",
        "\n",
        "\n",
        "for direction in enumerate(Direction2D):\n",
        "  print(direction)"
      ]
    },
    {
      "cell_type": "code",
      "source": [
        "def translate(grid: t.Tensor, v:Direction2D) -> t.Tensor:\n",
        "  translate_north = translate_west = [*t.arange(1, grid.shape[1]), 0]\n",
        "  translate_south = translate_east = [-1, *t.arange(grid.shape[1]-1)]\n",
        "\n",
        "  if v == Direction2D.North_West:\n",
        "    return grid[:, :, translate_west][:, translate_north, :]\n",
        "  elif v == Direction2D.West:\n",
        "    return grid[:, :, translate_west]\n",
        "  elif v == Direction2D.South_West:\n",
        "    return grid[:, :, translate_west][:, translate_south, :]\n",
        "  elif v == Direction2D.North:\n",
        "    return grid[:, translate_north, :]\n",
        "  elif v == Direction2D.Center:\n",
        "    return grid\n",
        "  elif v == Direction2D.South:\n",
        "    return grid[:, translate_south, :]\n",
        "  elif v == Direction2D.North_East:\n",
        "    return grid[:, translate_north, :][:, :, translate_east]\n",
        "  elif v == Direction2D.East:\n",
        "    return grid[:, :,translate_east]\n",
        "  elif v == Direction2D.South_East:\n",
        "    return grid[:, translate_south, :][:, :, translate_east]\n",
        "  else:\n",
        "    raise Exception(\"Invalid translation direction\")\n"
      ],
      "metadata": {
        "id": "emlak1U7MQts"
      },
      "execution_count": 4,
      "outputs": []
    },
    {
      "cell_type": "code",
      "source": [
        "state = t.zeros((2,3,3))\n",
        "state[0,0,0] = 1\n",
        "state[0,1,0] = 1\n",
        "state[0,1,1] = 1\n",
        "print(state)\n",
        "\n",
        "translate(state, Direction2D.North_West)"
      ],
      "metadata": {
        "colab": {
          "base_uri": "https://localhost:8080/"
        },
        "id": "CdzSHAnuRb-4",
        "outputId": "483473f5-5db8-4cfd-9b66-949c91ab043a"
      },
      "execution_count": null,
      "outputs": [
        {
          "output_type": "stream",
          "name": "stdout",
          "text": [
            "tensor([[[1., 0., 0.],\n",
            "         [1., 1., 0.],\n",
            "         [0., 0., 0.]],\n",
            "\n",
            "        [[0., 0., 0.],\n",
            "         [0., 0., 0.],\n",
            "         [0., 0., 0.]]])\n"
          ]
        },
        {
          "output_type": "execute_result",
          "data": {
            "text/plain": [
              "tensor([[[1., 0., 1.],\n",
              "         [0., 0., 0.],\n",
              "         [0., 0., 1.]],\n",
              "\n",
              "        [[0., 0., 0.],\n",
              "         [0., 0., 0.],\n",
              "         [0., 0., 0.]]])"
            ]
          },
          "metadata": {},
          "execution_count": 38
        }
      ]
    },
    {
      "cell_type": "code",
      "source": [
        "s1 = t.arange(18).reshape((2,3,3))\n",
        "\n",
        "expectation_north_west = t.tensor([\n",
        "    [\n",
        "      [s1[0,1,1], s1[0,1,2], s1[0,1,0]],\n",
        "      [s1[0,2,1], s1[0,2,2], s1[0,2,0]],\n",
        "      [s1[0,0,1], s1[0,0,2], s1[0,0,0]],\n",
        "    ],\n",
        "    [\n",
        "      [s1[1,1,1], s1[1,1,2], s1[1,1,0]],\n",
        "      [s1[1,2,1], s1[1,2,2], s1[1,2,0]],\n",
        "      [s1[1,0,1], s1[1,0,2], s1[1,0,0]],\n",
        "    ]\n",
        "])\n",
        "\n",
        "expectation_north = t.tensor([\n",
        "    [\n",
        "      [s1[0,1,0], s1[0,1,1], s1[0,1,2]],\n",
        "      [s1[0,2,0], s1[0,2,1], s1[0,2,2]],\n",
        "      [s1[0,0,0], s1[0,0,1], s1[0,0,2]],\n",
        "    ],\n",
        "    [\n",
        "      [s1[1,1,0], s1[1,1,1], s1[1,1,2]],\n",
        "      [s1[1,2,0], s1[1,2,1], s1[1,2,2]],\n",
        "      [s1[1,0,0], s1[1,0,1], s1[1,0,2]],\n",
        "    ]\n",
        "])\n",
        "\n",
        "expectation_north_east = t.tensor([\n",
        "    [\n",
        "      [s1[0,1,2], s1[0,1,0], s1[0,1,1]],\n",
        "      [s1[0,2,2], s1[0,2,0], s1[0,2,1]],\n",
        "      [s1[0,0,2], s1[0,0,0], s1[0,0,1]],\n",
        "    ],\n",
        "    [\n",
        "      [s1[1,1,2], s1[1,1,0], s1[1,1,1]],\n",
        "      [s1[1,2,2], s1[1,2,0], s1[1,2,1]],\n",
        "      [s1[1,0,2], s1[1,0,0], s1[1,0,1]],\n",
        "    ]\n",
        "])\n",
        "\n",
        "expectation_west = t.tensor([\n",
        "    [\n",
        "      [s1[0,0,1], s1[0,0,2], s1[0,0,0]],\n",
        "      [s1[0,1,1], s1[0,1,2], s1[0,1,0]],\n",
        "      [s1[0,2,1], s1[0,2,2], s1[0,2,0]],\n",
        "    ],\n",
        "    [\n",
        "      [s1[1,0,1], s1[1,0,2], s1[1,0,0]],\n",
        "      [s1[1,1,1], s1[1,1,2], s1[1,1,0]],\n",
        "      [s1[1,2,1], s1[1,2,2], s1[1,2,0]],\n",
        "    ]\n",
        "])\n",
        "\n",
        "expectation_east = t.tensor([\n",
        "    [\n",
        "      [s1[0,0,2], s1[0,0,0], s1[0,0,1]],\n",
        "      [s1[0,1,2], s1[0,1,0], s1[0,1,1]],\n",
        "      [s1[0,2,2], s1[0,2,0], s1[0,2,1]],\n",
        "    ],\n",
        "    [\n",
        "      [s1[1,0,2], s1[1,0,0], s1[1,0,1]],\n",
        "      [s1[1,1,2], s1[1,1,0], s1[1,1,1]],\n",
        "      [s1[1,2,2], s1[1,2,0], s1[1,2,1]],\n",
        "    ]\n",
        "])\n",
        "\n",
        "expectation_south_west = t.tensor([\n",
        "    [\n",
        "      [s1[0,2,1], s1[0,2,2], s1[0,2,0]],\n",
        "      [s1[0,0,1], s1[0,0,2], s1[0,0,0]],\n",
        "      [s1[0,1,1], s1[0,1,2], s1[0,1,0]],\n",
        "    ],\n",
        "    [\n",
        "      [s1[1,2,1], s1[1,2,2], s1[1,2,0]],\n",
        "      [s1[1,0,1], s1[1,0,2], s1[1,0,0]],\n",
        "      [s1[1,1,1], s1[1,1,2], s1[1,1,0]],\n",
        "    ]\n",
        "])\n",
        "\n",
        "expectation_south = t.tensor([\n",
        "    [\n",
        "      [s1[0,2,0], s1[0,2,1], s1[0,2,2]],\n",
        "      [s1[0,0,0], s1[0,0,1], s1[0,0,2]],\n",
        "      [s1[0,1,0], s1[0,1,1], s1[0,1,2]],\n",
        "    ],\n",
        "    [\n",
        "      [s1[1,2,0], s1[1,2,1], s1[1,2,2]],\n",
        "      [s1[1,0,0], s1[1,0,1], s1[1,0,2]],\n",
        "      [s1[1,1,0], s1[1,1,1], s1[1,1,2]],\n",
        "    ]\n",
        "])\n",
        "\n",
        "expectation_south_east = t.tensor([\n",
        "    [\n",
        "      [s1[0,2,2], s1[0,2,0], s1[0,2,1]],\n",
        "      [s1[0,0,2], s1[0,0,0], s1[0,0,1]],\n",
        "      [s1[0,1,2], s1[0,1,0], s1[0,1,1]],\n",
        "    ],\n",
        "    [\n",
        "      [s1[1,2,2], s1[1,2,0], s1[1,2,1]],\n",
        "      [s1[1,0,2], s1[1,0,0], s1[1,0,1]],\n",
        "      [s1[1,1,2], s1[1,1,0], s1[1,1,1]],\n",
        "    ]\n",
        "])\n",
        "\n",
        "assert t.all(translate(s1, Direction2D.North_West) == expectation_north_west)\n",
        "assert t.all(translate(s1, Direction2D.North) == expectation_north)\n",
        "assert t.all(translate(s1, Direction2D.North_East) == expectation_north_east)\n",
        "assert t.all(translate(s1, Direction2D.West) == expectation_west)\n",
        "assert t.all(translate(s1, Direction2D.Center) == s1)\n",
        "assert t.all(translate(s1, Direction2D.East) == expectation_east)\n",
        "assert t.all(translate(s1, Direction2D.South_West) == expectation_south_west)\n",
        "assert t.all(translate(s1, Direction2D.South) == expectation_south)\n",
        "assert t.all(translate(s1, Direction2D.South_East) == expectation_south_east)"
      ],
      "metadata": {
        "id": "UQuc5f1SRq3j"
      },
      "execution_count": null,
      "outputs": []
    },
    {
      "cell_type": "code",
      "source": [
        "def excite_particles(state:t.Tensor, N:int) -> Tuple[t.Tensor, t.Tensor]:\n",
        "  \"\"\"\n",
        "  Returns the adjusted Lattice + auxiliary grid of \"excited\" particles E.\n",
        "  \"\"\"\n",
        "  grid_dim =  state.shape[-1]\n",
        "  Xi = uniform.Uniform(0,1).sample_n(2*(grid_dim**2)).reshape(2,grid_dim,grid_dim)\n",
        "  E = t.heaviside(state - N * Xi, values=t.zeros(state.shape))\n",
        "  return state - E, E"
      ],
      "metadata": {
        "id": "g4p0wAruigJr"
      },
      "execution_count": 5,
      "outputs": []
    },
    {
      "cell_type": "code",
      "source": [
        "def accomodate_particles(state:t.Tensor, E:t.Tensor) -> t.Tensor:\n",
        "  \"\"\"\n",
        "  Merges E into the current grid state.\n",
        "  \"\"\"\n",
        "  return state + E"
      ],
      "metadata": {
        "id": "n9IuLQl5JSLR"
      },
      "execution_count": 6,
      "outputs": []
    },
    {
      "cell_type": "code",
      "source": [
        "def diffuse(state:t.Tensor, N:int) -> t.Tensor:\n",
        "  state, E = excite_particles(state, N)\n",
        "  direction = random.choice(list(Direction2D))\n",
        "  E = translate(E, direction)\n",
        "  state = accomodate_particles(state, E)\n",
        "  return state"
      ],
      "metadata": {
        "id": "boIVLIHGJj7O"
      },
      "execution_count": 7,
      "outputs": []
    },
    {
      "cell_type": "code",
      "source": [
        "grid = t.zeros((2,3,3))\n",
        "grid[:,1,1] = 250\n",
        "for i in range(20):\n",
        "  grid = diffuse(grid, 256)\n",
        "  print(grid[0])"
      ],
      "metadata": {
        "colab": {
          "base_uri": "https://localhost:8080/"
        },
        "id": "IEuLtJvdCK8m",
        "outputId": "b7ca84ea-c5f6-455a-ae0e-5137999dc638"
      },
      "execution_count": null,
      "outputs": [
        {
          "output_type": "stream",
          "name": "stdout",
          "text": [
            "tensor([[  0.,   0.,   0.],\n",
            "        [  0., 249.,   1.],\n",
            "        [  0.,   0.,   0.]])\n",
            "tensor([[  0.,   0.,   0.],\n",
            "        [  0., 248.,   1.],\n",
            "        [  0.,   0.,   1.]])\n",
            "tensor([[  0.,   1.,   0.],\n",
            "        [  0., 247.,   1.],\n",
            "        [  0.,   0.,   1.]])\n",
            "tensor([[  0.,   1.,   0.],\n",
            "        [  0., 246.,   1.],\n",
            "        [  1.,   0.,   1.]])\n",
            "tensor([[  1.,   1.,   0.],\n",
            "        [  0., 245.,   1.],\n",
            "        [  1.,   0.,   1.]])\n",
            "tensor([[  2.,   1.,   0.],\n",
            "        [  0., 244.,   1.],\n",
            "        [  1.,   0.,   1.]])\n",
            "tensor([[  2.,   1.,   1.],\n",
            "        [  0., 243.,   1.],\n",
            "        [  1.,   0.,   1.]])\n",
            "tensor([[  2.,   1.,   1.],\n",
            "        [  0., 242.,   1.],\n",
            "        [  2.,   0.,   1.]])\n",
            "tensor([[  2.,   2.,   1.],\n",
            "        [  0., 241.,   1.],\n",
            "        [  2.,   0.,   1.]])\n",
            "tensor([[  3.,   2.,   1.],\n",
            "        [  0., 240.,   1.],\n",
            "        [  2.,   0.,   1.]])\n",
            "tensor([[  3.,   3.,   1.],\n",
            "        [  0., 239.,   1.],\n",
            "        [  2.,   0.,   1.]])\n",
            "tensor([[  3.,   2.,   1.],\n",
            "        [  0., 238.,   2.],\n",
            "        [  2.,   0.,   2.]])\n",
            "tensor([[  3.,   2.,   2.],\n",
            "        [  0., 237.,   2.],\n",
            "        [  2.,   0.,   2.]])\n",
            "tensor([[  3.,   2.,   2.],\n",
            "        [  0., 236.,   3.],\n",
            "        [  2.,   0.,   2.]])\n",
            "tensor([[  3.,   2.,   2.],\n",
            "        [  0., 235.,   4.],\n",
            "        [  2.,   0.,   2.]])\n",
            "tensor([[  3.,   2.,   2.],\n",
            "        [  0., 235.,   4.],\n",
            "        [  2.,   0.,   2.]])\n",
            "tensor([[  3.,   2.,   2.],\n",
            "        [  0., 235.,   4.],\n",
            "        [  2.,   0.,   2.]])\n",
            "tensor([[  3.,   2.,   2.],\n",
            "        [  0., 234.,   4.],\n",
            "        [  2.,   0.,   3.]])\n",
            "tensor([[  3.,   2.,   2.],\n",
            "        [  0., 233.,   4.],\n",
            "        [  2.,   1.,   3.]])\n",
            "tensor([[  3.,   2.,   2.],\n",
            "        [  0., 233.,   4.],\n",
            "        [  2.,   1.,   3.]])\n"
          ]
        },
        {
          "output_type": "stream",
          "name": "stderr",
          "text": [
            "/usr/local/lib/python3.7/dist-packages/torch/distributions/distribution.py:166: UserWarning: sample_n will be deprecated. Use .sample((n,)) instead\n",
            "  warnings.warn('sample_n will be deprecated. Use .sample((n,)) instead', UserWarning)\n"
          ]
        }
      ]
    },
    {
      "cell_type": "code",
      "source": [
        "grid = t.zeros((2,50,50))\n",
        "grid[:,15:30] = 200\n",
        "print(t.sum(grid))"
      ],
      "metadata": {
        "colab": {
          "base_uri": "https://localhost:8080/"
        },
        "id": "G-cYYRgPDVpl",
        "outputId": "41fd1516-5873-423a-a2d6-23ad4fac80d3"
      },
      "execution_count": 8,
      "outputs": [
        {
          "output_type": "stream",
          "name": "stdout",
          "text": [
            "tensor(300000.)\n"
          ]
        }
      ]
    },
    {
      "cell_type": "code",
      "source": [
        "N = 256 \n",
        "for i in tqdm(range(10_000)):\n",
        "  if i % 100 == 0:\n",
        "    display.clear_output(wait=True)\n",
        "    plt.imshow(grid[0], cmap=\"Greys\", interpolation=\"nearest\", vmin=0, vmax=256)\n",
        "    display.display(plt.gcf())\n",
        "  grid = diffuse(grid, N)\n",
        "t.sum(grid)"
      ],
      "metadata": {
        "id": "WFIumvX7B7bC",
        "colab": {
          "base_uri": "https://localhost:8080/",
          "height": 553
        },
        "outputId": "352d9c44-99aa-45fd-cddd-51f0e25c699a"
      },
      "execution_count": 10,
      "outputs": [
        {
          "output_type": "display_data",
          "data": {
            "text/plain": [
              "<Figure size 432x288 with 1 Axes>"
            ],
            "image/png": "[encoded data removed]"
          },
          "metadata": {}
        },
        {
          "output_type": "stream",
          "name": "stderr",
          "text": [
            "100%|██████████| 10000/10000 [00:52<00:00, 192.21it/s]\n"
          ]
        },
        {
          "output_type": "execute_result",
          "data": {
            "text/plain": [
              "tensor(300000.)"
            ]
          },
          "metadata": {},
          "execution_count": 10
        },
        {
          "output_type": "display_data",
          "data": {
            "text/plain": [
              "<Figure size 432x288 with 1 Axes>"
            ],
            "image/png": "[encoded data removed]"
          },
          "metadata": {
            "needs_background": "light"
          }
        }
      ]
    },
    {
      "cell_type": "markdown",
      "source": [
        "## Reactive Dynamics\n",
        "\n",
        "The lattice state $\\mathbb{L}$ is given by $\\mathbb{L} = (\\mathbb{A}, \\mathbb{B})$. Each lattice site $\\mathcal{l}$ is then defined by the occupation numbers\n",
        "$\\mathcal{l} = (n,m)$, where $n$ is the number of particles of species A and $m$ the number of particles of species B currently residing at site $\\mathcal{l}$.\n",
        "\n",
        "The reaction rule is carried out by randomly choosing one of 6 possible reaction channels ($r=6$). Each channel is assigned an equal weight in the choice. The reactive dynamics arise from birth-death processes based on the 6 possible reaction channels. The probability of a reaction also depends on the chosen channel and is given by:\n",
        "\n",
        "$$\n",
        "p_1(n,m) = \\gamma \\overline{k_1} n (n-1)(N-n) \\\\\n",
        "p_2(n,m) = \\gamma \\overline{k^*_1} n (N-n) (N-1-n) \\\\\n",
        "p_3(n,m) = \\gamma \\overline{k_2} (N-n)m \\\\\n",
        "p_4(n,m) = \\gamma \\overline{k^*_2} n(N-m) \\\\\n",
        "p_5(n,m) = \\gamma \\overline{k^*_3} (N-n)(N-m) \\\\ \n",
        "p_6(n,m) = \\gamma \\overline{k_3}n m\n",
        "$$\n",
        "\n",
        "- $\\gamma$ is a scale factor that controls the timescale of the reaction \n",
        "- $\\overline{k_1} = k_1 / [(N-1)(N-2)]$\n",
        "- $\\overline{k_1^*} = k_1^* / [(N-1)(N-2)]$\n",
        "- $\\overline{k_2} = k_2 / N$\n",
        "- $\\overline{k_2^*} = k_2^* / N$\n",
        "- $\\overline{k_3} = k_3 / N$\n",
        "- $\\overline{k_3^*} = k_3^* / N$\n",
        "\n",
        "where $k_i$ and $k_i^*$ are the reaction rate coefficients.\n",
        "\n",
        "****\n",
        "\n",
        "We can use the probabilities to define the site operators for the reactive dynamics. Let $\\xi$ be a random continuous uniform variable on (0,1), then:\n",
        "\n",
        "$$\n",
        "\\sigma_1(n,m) = (n + \\theta(p_1 - \\xi), m) \\\\\n",
        "\\sigma_2(n,m) = (n - \\theta(p_2 - \\xi), m) \\\\\n",
        "\\sigma_3(n,m) = (n + \\theta(p_3 - \\xi), m) \\\\\n",
        "\\sigma_4(n,m) = (n - \\theta(p_4 - \\xi), m) \\\\\n",
        "\\sigma_5(n,m) = (n, m + \\theta(p_5 - \\xi)) \\\\\n",
        "\\sigma_6(n,m) = (n, m - \\theta(p_6 - \\xi))\n",
        "$$\n",
        "\n",
        "We can combine these operators into a site operator for the local reaction rule. Let $\\nu$ be a discrete random variable on the domain $\\{1,\\dots,r\\}$, then:\n",
        "\n",
        "$$\n",
        "\\rho(n,m) = \\sum_{j=1}^6 \\delta_{\\nu j} \\sigma_j(n,m)\n",
        "$$\n",
        "\n",
        "where $\\delta_{\\nu j}$ is the kronecker delta and is equal to 1 if $j = \\nu$, 0 otherwise."
      ],
      "metadata": {
        "id": "xXsnRqliL9Mp"
      }
    },
    {
      "cell_type": "code",
      "source": [
        "def p1(state:t.Tensor, N:int, gamma:float, k1:float) -> t.Tensor:\n",
        "  n = state[0]\n",
        "  m = state[1]\n",
        "  k1_bar = k1 / ((N-1) * (N-2))\n",
        "  return gamma * k1_bar * n * (n-1) * (N - n)\n",
        "\n",
        "def p2(state:t.Tensor, N:int, gamma:float, k1_star:float) -> t.Tensor:\n",
        "  n = state[0]\n",
        "  m = state[1]\n",
        "  k1_star_bar = k1_star /  ((N-1) * (N-2))\n",
        "  return gamma * k1_star_bar * n * (N-n) * (N-1-n)\n",
        "\n",
        "def p3(state:t.Tensor, N:int, gamma:float, k2:float) -> t.Tensor:\n",
        "  n = state[0]\n",
        "  m = state[1]\n",
        "  k2_bar = k2 / N\n",
        "  return gamma * k2_bar * (N - n) * m\n",
        "\n",
        "def p4(state:t.Tensor, N:int, gamma:float, k2_star:float) -> t.Tensor:\n",
        "  n = state[0]\n",
        "  m = state[1]\n",
        "  k2_star_bar = k2_star / N\n",
        "  return gamma * k2_star_bar * n * (N - m)\n",
        "\n",
        "def p5(state:t.Tensor, N:int, gamma:float, k3:float) -> t.Tensor:\n",
        "  n = state[0]\n",
        "  m = state[1]\n",
        "  k3_bar = k3 / N\n",
        "  return gamma * k3_bar * (N - n) * (N - m)\n",
        "\n",
        "def p6(state:t.Tensor, N:int, gamma:float, k3_star:float) -> t.Tensor:\n",
        "  n = state[0]\n",
        "  m = state[1]\n",
        "  k3_star_bar = k3_star / N\n",
        "  return gamma * k3_star_bar * n * m\n",
        "\n",
        "probability_funcs = [p1,p2,p3,p4,p5,p6]"
      ],
      "metadata": {
        "id": "9IpBF5U6KyUx"
      },
      "execution_count": null,
      "outputs": []
    },
    {
      "cell_type": "code",
      "source": [
        "def sigma(state:t.Tensor, channel:int, N:int, gamma:float, rate_coefficients: List[float]):\n",
        "  grid_dim = state.shape[-1]\n",
        "  rate_coefficient = rate_coefficients[channel]\n",
        "  reaction_prob = probability_funcs[channel](state, gamma, N, rate_coefficient)\n",
        "  threshold = uniform.Uniform(0,1).sample_n(grid_dim**2).reshape(grid_dim, grid_dim)\n",
        "  if channel == 0 or channel == 2:\n",
        "    state[0] = state[0] + t.heaviside(reaction_prob - threshold, values=t.zeros(grid_dim, grid_dim))\n",
        "  elif channel == 1 or channel == 3:\n",
        "    state[0] = state[0] - t.heaviside(reaction_prob - threshold, values=t.zeros(grid_dim, grid_dim))\n",
        "  elif channel == 4:\n",
        "    state[1] = state[1] + t.heaviside(reaction_prob - threshold, values=t.zeros(grid_dim, grid_dim))\n",
        "  elif channel == 5:\n",
        "    state[1] = state[1] - t.heaviside(reaction_prob - threshold, values=t.zeros(grid_dim, grid_dim))\n",
        "  return state"
      ],
      "metadata": {
        "id": "aANUuHl6o1AW"
      },
      "execution_count": null,
      "outputs": []
    },
    {
      "cell_type": "code",
      "source": [
        "def rho(state:t.Tensor, N:int, gamma:float, rate_coefficients: List[float]):\n",
        "  channel = t.randint_like()\n",
        "  channel = random.randint(0,5)\n",
        "  return sigma(state, channel, N, gamma, rate_coefficients)"
      ],
      "metadata": {
        "id": "QfMpkJYak5Xd"
      },
      "execution_count": null,
      "outputs": []
    },
    {
      "cell_type": "code",
      "source": [
        "grid = t.zeros((2,1024,1024))\n",
        "grid[:,500:700] = 200\n",
        "N = 256 \n",
        "gamma = 0.6\n",
        "rate_coefficients = [0.98,0.98,0.1,0.1,0.2,0.2]\n",
        "for i in tqdm(range(10_000)):\n",
        "  if i % 500 == 0:\n",
        "    display.clear_output(wait=True)\n",
        "    plt.imshow(grid[0], cmap=\"Greys\", interpolation=\"nearest\", vmin=0, vmax=256)\n",
        "    display.display(plt.gcf())\n",
        "  grid = rho(grid, N, gamma, rate_coefficients)\n",
        "  grid = diffuse(grid, N)\n",
        "  #display.clear_output(wait=True)\n",
        "  #time.sleep(0.02)"
      ],
      "metadata": {
        "colab": {
          "base_uri": "https://localhost:8080/",
          "height": 913
        },
        "id": "o9_B2SbS66j6",
        "outputId": "6b639c79-b25c-4dba-8447-191594a9f3f5"
      },
      "execution_count": null,
      "outputs": [
        {
          "output_type": "display_data",
          "data": {
            "text/plain": [
              "<Figure size 432x288 with 1 Axes>"
            ],
            "image/png": "[encoded data removed]"
          },
          "metadata": {}
        },
        {
          "output_type": "stream",
          "name": "stderr",
          "text": [
            " 12%|█▏        | 1210/10000 [01:22<09:57, 14.71it/s]\n"
          ]
        },
        {
          "output_type": "error",
          "ename": "KeyboardInterrupt",
          "evalue": "ignored",
          "traceback": [
            "\u001b[0;31m---------------------------------------------------------------------------\u001b[0m",
            "\u001b[0;31mKeyboardInterrupt\u001b[0m                         Traceback (most recent call last)",
            "\u001b[0;32m<ipython-input-90-102c5ba775fb>\u001b[0m in \u001b[0;36m<module>\u001b[0;34m\u001b[0m\n\u001b[1;32m     10\u001b[0m     \u001b[0mdisplay\u001b[0m\u001b[0;34m.\u001b[0m\u001b[0mdisplay\u001b[0m\u001b[0;34m(\u001b[0m\u001b[0mplt\u001b[0m\u001b[0;34m.\u001b[0m\u001b[0mgcf\u001b[0m\u001b[0;34m(\u001b[0m\u001b[0;34m)\u001b[0m\u001b[0;34m)\u001b[0m\u001b[0;34m\u001b[0m\u001b[0;34m\u001b[0m\u001b[0m\n\u001b[1;32m     11\u001b[0m   \u001b[0mgrid\u001b[0m \u001b[0;34m=\u001b[0m \u001b[0mrho\u001b[0m\u001b[0;34m(\u001b[0m\u001b[0mgrid\u001b[0m\u001b[0;34m,\u001b[0m \u001b[0mN\u001b[0m\u001b[0;34m,\u001b[0m \u001b[0mgamma\u001b[0m\u001b[0;34m,\u001b[0m \u001b[0mrate_coefficients\u001b[0m\u001b[0;34m)\u001b[0m\u001b[0;34m\u001b[0m\u001b[0;34m\u001b[0m\u001b[0m\n\u001b[0;32m---> 12\u001b[0;31m   \u001b[0mgrid\u001b[0m \u001b[0;34m=\u001b[0m \u001b[0mdiffuse\u001b[0m\u001b[0;34m(\u001b[0m\u001b[0mgrid\u001b[0m\u001b[0;34m,\u001b[0m \u001b[0mN\u001b[0m\u001b[0;34m)\u001b[0m\u001b[0;34m\u001b[0m\u001b[0;34m\u001b[0m\u001b[0m\n\u001b[0m\u001b[1;32m     13\u001b[0m   \u001b[0;31m#display.clear_output(wait=True)\u001b[0m\u001b[0;34m\u001b[0m\u001b[0;34m\u001b[0m\u001b[0;34m\u001b[0m\u001b[0m\n\u001b[1;32m     14\u001b[0m   \u001b[0;31m#time.sleep(0.02)\u001b[0m\u001b[0;34m\u001b[0m\u001b[0;34m\u001b[0m\u001b[0;34m\u001b[0m\u001b[0m\n",
            "\u001b[0;32m<ipython-input-20-cf9614163613>\u001b[0m in \u001b[0;36mdiffuse\u001b[0;34m(state, N)\u001b[0m\n\u001b[1;32m      1\u001b[0m \u001b[0;32mdef\u001b[0m \u001b[0mdiffuse\u001b[0m\u001b[0;34m(\u001b[0m\u001b[0mstate\u001b[0m\u001b[0;34m:\u001b[0m\u001b[0mt\u001b[0m\u001b[0;34m.\u001b[0m\u001b[0mTensor\u001b[0m\u001b[0;34m,\u001b[0m \u001b[0mN\u001b[0m\u001b[0;34m:\u001b[0m\u001b[0mint\u001b[0m\u001b[0;34m)\u001b[0m \u001b[0;34m->\u001b[0m \u001b[0mt\u001b[0m\u001b[0;34m.\u001b[0m\u001b[0mTensor\u001b[0m\u001b[0;34m:\u001b[0m\u001b[0;34m\u001b[0m\u001b[0;34m\u001b[0m\u001b[0m\n\u001b[0;32m----> 2\u001b[0;31m   \u001b[0mstate\u001b[0m\u001b[0;34m,\u001b[0m \u001b[0mE\u001b[0m \u001b[0;34m=\u001b[0m \u001b[0mexcite_particles\u001b[0m\u001b[0;34m(\u001b[0m\u001b[0mstate\u001b[0m\u001b[0;34m,\u001b[0m \u001b[0mN\u001b[0m\u001b[0;34m)\u001b[0m\u001b[0;34m\u001b[0m\u001b[0;34m\u001b[0m\u001b[0m\n\u001b[0m\u001b[1;32m      3\u001b[0m   \u001b[0mdirection\u001b[0m \u001b[0;34m=\u001b[0m \u001b[0mrandom\u001b[0m\u001b[0;34m.\u001b[0m\u001b[0mchoice\u001b[0m\u001b[0;34m(\u001b[0m\u001b[0mlist\u001b[0m\u001b[0;34m(\u001b[0m\u001b[0mDirection2D\u001b[0m\u001b[0;34m)\u001b[0m\u001b[0;34m)\u001b[0m\u001b[0;34m\u001b[0m\u001b[0;34m\u001b[0m\u001b[0m\n\u001b[1;32m      4\u001b[0m   \u001b[0mE\u001b[0m \u001b[0;34m=\u001b[0m \u001b[0mtranslate\u001b[0m\u001b[0;34m(\u001b[0m\u001b[0mE\u001b[0m\u001b[0;34m,\u001b[0m \u001b[0mdirection\u001b[0m\u001b[0;34m)\u001b[0m\u001b[0;34m\u001b[0m\u001b[0;34m\u001b[0m\u001b[0m\n\u001b[1;32m      5\u001b[0m   \u001b[0mstate\u001b[0m \u001b[0;34m=\u001b[0m \u001b[0maccomodate_particles\u001b[0m\u001b[0;34m(\u001b[0m\u001b[0mstate\u001b[0m\u001b[0;34m,\u001b[0m \u001b[0mE\u001b[0m\u001b[0;34m)\u001b[0m\u001b[0;34m\u001b[0m\u001b[0;34m\u001b[0m\u001b[0m\n",
            "\u001b[0;32m<ipython-input-77-b6f2118e8c66>\u001b[0m in \u001b[0;36mexcite_particles\u001b[0;34m(state, N)\u001b[0m\n\u001b[1;32m      4\u001b[0m   \"\"\"\n\u001b[1;32m      5\u001b[0m   \u001b[0mgrid_dim\u001b[0m \u001b[0;34m=\u001b[0m  \u001b[0mstate\u001b[0m\u001b[0;34m.\u001b[0m\u001b[0mshape\u001b[0m\u001b[0;34m[\u001b[0m\u001b[0;34m-\u001b[0m\u001b[0;36m1\u001b[0m\u001b[0;34m]\u001b[0m\u001b[0;34m\u001b[0m\u001b[0;34m\u001b[0m\u001b[0m\n\u001b[0;32m----> 6\u001b[0;31m   \u001b[0mXi\u001b[0m \u001b[0;34m=\u001b[0m \u001b[0muniform\u001b[0m\u001b[0;34m.\u001b[0m\u001b[0mUniform\u001b[0m\u001b[0;34m(\u001b[0m\u001b[0;36m0\u001b[0m\u001b[0;34m,\u001b[0m\u001b[0;36m1\u001b[0m\u001b[0;34m)\u001b[0m\u001b[0;34m.\u001b[0m\u001b[0msample_n\u001b[0m\u001b[0;34m(\u001b[0m\u001b[0;36m2\u001b[0m\u001b[0;34m*\u001b[0m\u001b[0;34m(\u001b[0m\u001b[0mgrid_dim\u001b[0m\u001b[0;34m**\u001b[0m\u001b[0;36m2\u001b[0m\u001b[0;34m)\u001b[0m\u001b[0;34m)\u001b[0m\u001b[0;34m.\u001b[0m\u001b[0mreshape\u001b[0m\u001b[0;34m(\u001b[0m\u001b[0;36m2\u001b[0m\u001b[0;34m,\u001b[0m\u001b[0mgrid_dim\u001b[0m\u001b[0;34m,\u001b[0m\u001b[0mgrid_dim\u001b[0m\u001b[0;34m)\u001b[0m\u001b[0;34m\u001b[0m\u001b[0;34m\u001b[0m\u001b[0m\n\u001b[0m\u001b[1;32m      7\u001b[0m   \u001b[0mE\u001b[0m \u001b[0;34m=\u001b[0m \u001b[0mt\u001b[0m\u001b[0;34m.\u001b[0m\u001b[0mheaviside\u001b[0m\u001b[0;34m(\u001b[0m\u001b[0mstate\u001b[0m \u001b[0;34m-\u001b[0m \u001b[0mN\u001b[0m \u001b[0;34m*\u001b[0m \u001b[0mXi\u001b[0m\u001b[0;34m,\u001b[0m \u001b[0mvalues\u001b[0m\u001b[0;34m=\u001b[0m\u001b[0mt\u001b[0m\u001b[0;34m.\u001b[0m\u001b[0mzeros\u001b[0m\u001b[0;34m(\u001b[0m\u001b[0mstate\u001b[0m\u001b[0;34m.\u001b[0m\u001b[0mshape\u001b[0m\u001b[0;34m)\u001b[0m\u001b[0;34m)\u001b[0m\u001b[0;34m\u001b[0m\u001b[0;34m\u001b[0m\u001b[0m\n\u001b[1;32m      8\u001b[0m   \u001b[0;32mreturn\u001b[0m \u001b[0mstate\u001b[0m \u001b[0;34m-\u001b[0m \u001b[0mE\u001b[0m\u001b[0;34m,\u001b[0m \u001b[0mE\u001b[0m\u001b[0;34m\u001b[0m\u001b[0;34m\u001b[0m\u001b[0m\n",
            "\u001b[0;32m/usr/local/lib/python3.7/dist-packages/torch/distributions/distribution.py\u001b[0m in \u001b[0;36msample_n\u001b[0;34m(self, n)\u001b[0m\n\u001b[1;32m    165\u001b[0m         \"\"\"\n\u001b[1;32m    166\u001b[0m         \u001b[0mwarnings\u001b[0m\u001b[0;34m.\u001b[0m\u001b[0mwarn\u001b[0m\u001b[0;34m(\u001b[0m\u001b[0;34m'sample_n will be deprecated. Use .sample((n,)) instead'\u001b[0m\u001b[0;34m,\u001b[0m \u001b[0mUserWarning\u001b[0m\u001b[0;34m)\u001b[0m\u001b[0;34m\u001b[0m\u001b[0;34m\u001b[0m\u001b[0m\n\u001b[0;32m--> 167\u001b[0;31m         \u001b[0;32mreturn\u001b[0m \u001b[0mself\u001b[0m\u001b[0;34m.\u001b[0m\u001b[0msample\u001b[0m\u001b[0;34m(\u001b[0m\u001b[0mtorch\u001b[0m\u001b[0;34m.\u001b[0m\u001b[0mSize\u001b[0m\u001b[0;34m(\u001b[0m\u001b[0;34m(\u001b[0m\u001b[0mn\u001b[0m\u001b[0;34m,\u001b[0m\u001b[0;34m)\u001b[0m\u001b[0;34m)\u001b[0m\u001b[0;34m)\u001b[0m\u001b[0;34m\u001b[0m\u001b[0;34m\u001b[0m\u001b[0m\n\u001b[0m\u001b[1;32m    168\u001b[0m \u001b[0;34m\u001b[0m\u001b[0m\n\u001b[1;32m    169\u001b[0m     \u001b[0;32mdef\u001b[0m \u001b[0mlog_prob\u001b[0m\u001b[0;34m(\u001b[0m\u001b[0mself\u001b[0m\u001b[0;34m,\u001b[0m \u001b[0mvalue\u001b[0m\u001b[0;34m)\u001b[0m\u001b[0;34m:\u001b[0m\u001b[0;34m\u001b[0m\u001b[0;34m\u001b[0m\u001b[0m\n",
            "\u001b[0;32m/usr/local/lib/python3.7/dist-packages/torch/distributions/distribution.py\u001b[0m in \u001b[0;36msample\u001b[0;34m(self, sample_shape)\u001b[0m\n\u001b[1;32m    149\u001b[0m         \"\"\"\n\u001b[1;32m    150\u001b[0m         \u001b[0;32mwith\u001b[0m \u001b[0mtorch\u001b[0m\u001b[0;34m.\u001b[0m\u001b[0mno_grad\u001b[0m\u001b[0;34m(\u001b[0m\u001b[0;34m)\u001b[0m\u001b[0;34m:\u001b[0m\u001b[0;34m\u001b[0m\u001b[0;34m\u001b[0m\u001b[0m\n\u001b[0;32m--> 151\u001b[0;31m             \u001b[0;32mreturn\u001b[0m \u001b[0mself\u001b[0m\u001b[0;34m.\u001b[0m\u001b[0mrsample\u001b[0m\u001b[0;34m(\u001b[0m\u001b[0msample_shape\u001b[0m\u001b[0;34m)\u001b[0m\u001b[0;34m\u001b[0m\u001b[0;34m\u001b[0m\u001b[0m\n\u001b[0m\u001b[1;32m    152\u001b[0m \u001b[0;34m\u001b[0m\u001b[0m\n\u001b[1;32m    153\u001b[0m     \u001b[0;32mdef\u001b[0m \u001b[0mrsample\u001b[0m\u001b[0;34m(\u001b[0m\u001b[0mself\u001b[0m\u001b[0;34m,\u001b[0m \u001b[0msample_shape\u001b[0m\u001b[0;34m=\u001b[0m\u001b[0mtorch\u001b[0m\u001b[0;34m.\u001b[0m\u001b[0mSize\u001b[0m\u001b[0;34m(\u001b[0m\u001b[0;34m)\u001b[0m\u001b[0;34m)\u001b[0m\u001b[0;34m:\u001b[0m\u001b[0;34m\u001b[0m\u001b[0;34m\u001b[0m\u001b[0m\n",
            "\u001b[0;32m/usr/local/lib/python3.7/dist-packages/torch/distributions/uniform.py\u001b[0m in \u001b[0;36mrsample\u001b[0;34m(self, sample_shape)\u001b[0m\n\u001b[1;32m     71\u001b[0m     \u001b[0;32mdef\u001b[0m \u001b[0mrsample\u001b[0m\u001b[0;34m(\u001b[0m\u001b[0mself\u001b[0m\u001b[0;34m,\u001b[0m \u001b[0msample_shape\u001b[0m\u001b[0;34m=\u001b[0m\u001b[0mtorch\u001b[0m\u001b[0;34m.\u001b[0m\u001b[0mSize\u001b[0m\u001b[0;34m(\u001b[0m\u001b[0;34m)\u001b[0m\u001b[0;34m)\u001b[0m\u001b[0;34m:\u001b[0m\u001b[0;34m\u001b[0m\u001b[0;34m\u001b[0m\u001b[0m\n\u001b[1;32m     72\u001b[0m         \u001b[0mshape\u001b[0m \u001b[0;34m=\u001b[0m \u001b[0mself\u001b[0m\u001b[0;34m.\u001b[0m\u001b[0m_extended_shape\u001b[0m\u001b[0;34m(\u001b[0m\u001b[0msample_shape\u001b[0m\u001b[0;34m)\u001b[0m\u001b[0;34m\u001b[0m\u001b[0;34m\u001b[0m\u001b[0m\n\u001b[0;32m---> 73\u001b[0;31m         \u001b[0mrand\u001b[0m \u001b[0;34m=\u001b[0m \u001b[0mtorch\u001b[0m\u001b[0;34m.\u001b[0m\u001b[0mrand\u001b[0m\u001b[0;34m(\u001b[0m\u001b[0mshape\u001b[0m\u001b[0;34m,\u001b[0m \u001b[0mdtype\u001b[0m\u001b[0;34m=\u001b[0m\u001b[0mself\u001b[0m\u001b[0;34m.\u001b[0m\u001b[0mlow\u001b[0m\u001b[0;34m.\u001b[0m\u001b[0mdtype\u001b[0m\u001b[0;34m,\u001b[0m \u001b[0mdevice\u001b[0m\u001b[0;34m=\u001b[0m\u001b[0mself\u001b[0m\u001b[0;34m.\u001b[0m\u001b[0mlow\u001b[0m\u001b[0;34m.\u001b[0m\u001b[0mdevice\u001b[0m\u001b[0;34m)\u001b[0m\u001b[0;34m\u001b[0m\u001b[0;34m\u001b[0m\u001b[0m\n\u001b[0m\u001b[1;32m     74\u001b[0m         \u001b[0;32mreturn\u001b[0m \u001b[0mself\u001b[0m\u001b[0;34m.\u001b[0m\u001b[0mlow\u001b[0m \u001b[0;34m+\u001b[0m \u001b[0mrand\u001b[0m \u001b[0;34m*\u001b[0m \u001b[0;34m(\u001b[0m\u001b[0mself\u001b[0m\u001b[0;34m.\u001b[0m\u001b[0mhigh\u001b[0m \u001b[0;34m-\u001b[0m \u001b[0mself\u001b[0m\u001b[0;34m.\u001b[0m\u001b[0mlow\u001b[0m\u001b[0;34m)\u001b[0m\u001b[0;34m\u001b[0m\u001b[0;34m\u001b[0m\u001b[0m\n\u001b[1;32m     75\u001b[0m \u001b[0;34m\u001b[0m\u001b[0m\n",
            "\u001b[0;31mKeyboardInterrupt\u001b[0m: "
          ]
        },
        {
          "output_type": "display_data",
          "data": {
            "text/plain": [
              "<Figure size 432x288 with 1 Axes>"
            ],
            "image/png": "[encoded data removed]"
          },
          "metadata": {
            "needs_background": "light"
          }
        }
      ]
    },
    {
      "cell_type": "code",
      "source": [],
      "metadata": {
        "id": "6F2CnYKpBNHg"
      },
      "execution_count": null,
      "outputs": []
    }
  ]
}