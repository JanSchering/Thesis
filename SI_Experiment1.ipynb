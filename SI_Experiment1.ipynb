{
  "nbformat": 4,
  "nbformat_minor": 0,
  "metadata": {
    "colab": {
      "provenance": [],
      "collapsed_sections": [],
      "authorship_tag": "ABX9TyMNC2LNYVcQNjwzvK2nMGOh",
      "include_colab_link": true
    },
    "kernelspec": {
      "name": "python3",
      "display_name": "Python 3"
    },
    "language_info": {
      "name": "python"
    },
    "accelerator": "GPU"
  },
  "cells": [
    {
      "cell_type": "markdown",
      "metadata": {
        "id": "view-in-github",
        "colab_type": "text"
      },
      "source": [
        "<a href=\"https://colab.research.google.com/github/JanSchering/Thesis/blob/main/SI_Experiment1.ipynb\" target=\"_parent\"><img src=\"https://colab.research.google.com/assets/colab-badge.svg\" alt=\"Open In Colab\"/></a>"
      ]
    },
    {
      "cell_type": "markdown",
      "source": [
        "# Learning the parameters of a discrete Probabilistic Cellular Automaton\n",
        "\n",
        "Within this notebook, we consider a Probabilistic Cellular Automata (PCA) model\n",
        "for the diffusive spread of a news item [(adapting a toy example for Interactive Markov Chains)](https://www.tandfonline.com/doi/abs/10.1080/0022250X.1976.9989852). \n",
        "\n",
        "Using the [PCA framework](https://link.springer.com/book/10.1007/978-3-319-65558-1), we define:\n",
        "\n",
        "- The Graph $G$ to be a 2D lattice of $(K,K)$ regular cells\n",
        "- The Alphabet $S:= \\{0,1\\}$\n",
        "- The neighborhood $V_k$ of cell $k$ is the square Moore neighborhood with distance 1\n",
        "\n",
        "The probability of reaching a configuration $\\sigma \\in S^{K\\times K}$ from a current configuration $\\mu \\in S^{K\\times K}$ is:\n",
        "\n",
        "$$P(\\sigma | \\mu) = \\prod_{k \\in G} p(\\sigma_k|\\mu_{V_k})$$\n",
        "\n",
        "Where we define $p(\\sigma_k|\\mu_{V_k})$, the probability of cell $k$ transitioning to state $\\sigma_k$ given the state of its' neighborhood $\\mu_{V_k}$ as:\n",
        "\n",
        "$$p(\\sigma_k|\\mu_{V_k}) = \\begin{pmatrix}\n",
        "1 & 1-(1-\\beta)^{N_k(n)} \\\\\n",
        "0 & (1-\\beta)^{N_k(n)}\n",
        "\\end{pmatrix}$$\n",
        "\n",
        "The probability matrix represents, that once a person is aware of the news, they stay aware ($p_{11} = 1$, $p_{21}=0$). The probability, with which an uninformed person stays uninformed at time $n+1$ depends on the amount of local neighbors that are informed at time $n$, $N_k(n)$. Given a rate of spread $\\beta$ (the diffusion coefficient), the probability to stay unaware is $p_{22}= (1-\\beta)^{N_k(n)}$. Conversely, the probability that the news spread to cell $k$ is $p_{21} = 1 - p_{22} = 1-(1-\\beta)^{N_k(n)}$."
      ],
      "metadata": {
        "id": "KEOz1nYakVC6"
      }
    },
    {
      "cell_type": "code",
      "source": [
        "# @title Install library dependencies\n",
        "# Install Flax at head:\n",
        "!pip install --upgrade -q git+https://github.com/google/flax.git"
      ],
      "metadata": {
        "id": "lH56J9e3DRvH",
        "cellView": "form",
        "colab": {
          "base_uri": "https://localhost:8080/"
        },
        "outputId": "4fac1398-6271-481b-ffb3-b7db5d9912eb"
      },
      "execution_count": null,
      "outputs": [
        {
          "output_type": "stream",
          "name": "stdout",
          "text": [
            "\u001b[K     |████████████████████████████████| 145 kB 4.9 MB/s \n",
            "\u001b[K     |████████████████████████████████| 237 kB 42.1 MB/s \n",
            "\u001b[K     |████████████████████████████████| 51 kB 7.3 MB/s \n",
            "\u001b[K     |████████████████████████████████| 85 kB 4.7 MB/s \n",
            "\u001b[?25h  Building wheel for flax (setup.py) ... \u001b[?25l\u001b[?25hdone\n"
          ]
        }
      ]
    },
    {
      "cell_type": "code",
      "execution_count": null,
      "metadata": {
        "id": "H20Rc5ZyyQm8",
        "cellView": "form"
      },
      "outputs": [],
      "source": [
        "# @title import modules\n",
        "import jax.numpy as jnp\n",
        "from jax import lax\n",
        "from jax import grad\n",
        "import numpy as np\n",
        "import matplotlib.pyplot as plt\n",
        "import matplotlib.image as mpimg\n",
        "import flax.linen as nn\n",
        "import random\n",
        "import imageio\n",
        "from IPython.display import Image\n",
        "from IPython import display\n",
        "import time\n",
        "from typing import Tuple, List"
      ]
    },
    {
      "cell_type": "code",
      "source": [
        "# @title define helper functions\n",
        "\n",
        "def visualize_sequence(sequence, framerate):\n",
        "  for idx, state in enumerate(sequence):\n",
        "    display.display(plt.gcf())\n",
        "    plt.imshow(state, cmap='Greys',  interpolation='nearest', vmin=0, vmax=1)\n",
        "    ax = plt.gca()\n",
        "    ax.get_xaxis().set_visible(False)\n",
        "    ax.get_yaxis().set_visible(False)\n",
        "    display.clear_output(wait=True)\n",
        "    time.sleep(framerate)\n",
        "\n",
        "def visualize_transition(transition):\n",
        "  \"\"\"\n",
        "  Visualize a transition\n",
        "\n",
        "  transition (np.ndarray): numpy matrix of shape (2, grid_height, grid_width)\n",
        "  \"\"\"\n",
        "  fig, axs = plt.subplots(1, 2, figsize=(3,3))\n",
        "  for stateIdx, state in enumerate(transition):\n",
        "    axs[stateIdx].imshow(state, cmap='Greys',  interpolation='nearest', vmin=0, vmax=1)\n",
        "    axs[stateIdx].get_xaxis().set_visible(False)\n",
        "    axs[stateIdx].get_yaxis().set_visible(False)\n",
        "\n",
        "\n",
        "def chop_and_shuffle_data(sequences, shuffle=True):\n",
        "  \"\"\"\n",
        "  Chop the training data into a set of state transitions and shuffle the resulting set.\n",
        "\n",
        "  sequences (np.ndarray): matrix of shape (n_sequences, steps_per_seq, grid_height, grid_width)\n",
        "  \"\"\"\n",
        "  n_sequences, steps_per_seq, grid_height, grid_width = sequences.shape\n",
        "  # each transition consists of 2 states\n",
        "  indexer = np.arange(2)[None, :] + np.arange(steps_per_seq-1)[:, None]\n",
        "  chopped_set = np.zeros([(steps_per_seq-1)*n_sequences, 2, grid_height, grid_width])\n",
        "  for idx,sequence in enumerate(sequences):\n",
        "    start_idx = idx*(steps_per_seq-1)\n",
        "    chopped_set[start_idx:start_idx+steps_per_seq-1, :,:,:] = sequence[indexer]\n",
        "  if shuffle:\n",
        "    np.random.shuffle(chopped_set) \n",
        "  return chopped_set\n",
        "\n",
        "# ----------- test the chopping function ---------------\n",
        "test_data = np.arange(24).reshape(2,3,2,2)\n",
        "n_sequences, steps_per_seq, grid_height, grid_width = test_data.shape\n",
        "chopped = chop_and_shuffle_data(test_data, shuffle=False)\n",
        "assert chopped.shape == (n_sequences*(steps_per_seq-1), 2, grid_height, grid_width)\n",
        "assert np.all(chopped[0,0] == np.arange(4).reshape(2,2))\n",
        "assert np.all(chopped[0,1] == (np.arange(4)+4).reshape(2,2))\n",
        "assert np.all(chopped[1,0] == (np.arange(4)+4).reshape(2,2))\n",
        "assert np.all(chopped[1,1] == (np.arange(4)+8).reshape(2,2)) \n"
      ],
      "metadata": {
        "id": "5fnWUde_LIOo",
        "cellView": "form"
      },
      "execution_count": null,
      "outputs": []
    },
    {
      "cell_type": "markdown",
      "source": [
        "### 1. Defining a function that padds the grid using a periodic Torus\n",
        "\n",
        "In order to handle the border conditions of the CA, we will define a continuous torus by periodically wrapping around the border of the CA. E.g., for a $(K, K)$-sized CA, the neighbor of cell $(0,3)$ will be cell \n",
        "$(K-1,3)$. Equivalently, for cell $(2,0)$, the left neighbor would be $(2,K-1)$.\n"
      ],
      "metadata": {
        "id": "yAMxTZ6zh9eP"
      }
    },
    {
      "cell_type": "code",
      "source": [
        "# @title Periodic padding\n",
        "def periodic_padding(image, padding=1):\n",
        "    '''\n",
        "    Create a periodic padding (wrap) around an image stack, to emulate periodic boundary conditions\n",
        "    Adapted from https://github.com/tensorflow/tensorflow/issues/956\n",
        "    \n",
        "    If the image is 3-dimensional (like an image batch), padding occurs along the last two axes\n",
        "    '''\n",
        "    if len(image.shape)==2:\n",
        "        upper_pad = image[-padding:,:]\n",
        "        lower_pad = image[:padding,:]\n",
        "\n",
        "        partial_image = np.concatenate([upper_pad, image, lower_pad], axis=0)\n",
        "\n",
        "        left_pad = partial_image[:,-padding:]\n",
        "        right_pad = partial_image[:,:padding]\n",
        "\n",
        "        padded_image = np.concatenate([left_pad, partial_image, right_pad], axis=1)\n",
        "        \n",
        "    elif len(image.shape)==3:\n",
        "        upper_pad = image[:,-padding:,:]\n",
        "        lower_pad = image[:,:padding,:]\n",
        "\n",
        "        partial_image = np.concatenate([upper_pad, image, lower_pad], axis=1)\n",
        "\n",
        "        left_pad = partial_image[:,:,-padding:]\n",
        "        right_pad = partial_image[:,:,:padding]\n",
        "\n",
        "        padded_image = np.concatenate([left_pad, partial_image, right_pad], axis=2)\n",
        "        \n",
        "        \n",
        "    else:\n",
        "        assert True, \"Input data shape not understood.\"\n",
        "    \n",
        "    return padded_image"
      ],
      "metadata": {
        "id": "PtsPc-qJE9eF",
        "cellView": "form"
      },
      "execution_count": null,
      "outputs": []
    },
    {
      "cell_type": "markdown",
      "source": [
        "### 2. Defining a Convolution that finds the number of active neighbors for each cell\n",
        "\n",
        "The update of cell $k$ depends on the configuration of it's neighborhood $\\mu_{V_k}$. More directly, we care about the number of active (state=1) neighbors of\n",
        "cell $k$. To find the amount, we can simply apply a $3\\times3$ convolution onto $k$ with the following kernel:\n",
        "\n",
        "$$F(\\mu_{V_k}) = \\begin{pmatrix}\n",
        "1 & 1 & 1 \\\\\n",
        "1 & 0 & 1 \\\\\n",
        "1 & 1 & 1 \n",
        "\\end{pmatrix} \\circledast \\mu_{V_k}$$"
      ],
      "metadata": {
        "id": "zi6hMbDJj9G0"
      }
    },
    {
      "cell_type": "code",
      "source": [
        "# @title Risk Convolution\n",
        "def risk_convolution2D(batch):\n",
        "  \"\"\"\n",
        "  Use a filter of shape\n",
        "  | 1  1  1\n",
        "  | 1  0  1\n",
        "  | 1  1  1\n",
        "  and apply it to the periodically padded state of the grid.\n",
        "  The result will give the number of infected neighbors at each\n",
        "  state.\n",
        "  \"\"\"\n",
        "  kernel = jnp.ones((1,1,3,3))\n",
        "  kernel = kernel.at[:,:,1,1].set(0)\n",
        "  padded_grid = periodic_padding(batch)\n",
        "  expanded = jnp.expand_dims(padded_grid, axis=-1)\n",
        "  transposed = jnp.transpose(expanded, (0,3,1,2))\n",
        "\n",
        "  return lax.conv(\n",
        "      transposed[:,:,:],  # lhs = NCHW image tensor\n",
        "      kernel,  # rhs = OIHW conv kernel tensor\n",
        "      (1, 1),  # window strides\n",
        "      \"VALID\"\n",
        "  )\n"
      ],
      "metadata": {
        "id": "E4kCSen4TQeq",
        "cellView": "form"
      },
      "execution_count": null,
      "outputs": []
    },
    {
      "cell_type": "markdown",
      "source": [
        "### 3. Defining a function to calculate the likelihood of the news item spreading to a cell\n",
        "\n",
        "We get the likelihood of each cell being activated as:\n",
        "\n",
        "$$p(\\sigma=1|\\mu_{V_k})=1-(1-\\beta)^{F(\\mu_{V_k})}$$\n",
        "\n",
        "resulting in a $(K,K)$ matrix, where each entry $(i,j)$ corresponds to the probability of the cell at the lattice coordinates $i,j$ being activated."
      ],
      "metadata": {
        "id": "p8jtaZG8iWta"
      }
    },
    {
      "cell_type": "code",
      "source": [
        "# @title Spread Likelihood\n",
        "def calculate_spread_likelihood(batch, beta):\n",
        "  \"\"\"\n",
        "  calculates the likelihood of each cell in the batch transitioning to an\n",
        "  activated state at the next time step:\n",
        "  1-(1-ß)^N_k(n)\n",
        "  \"\"\"\n",
        "  risk_conv = risk_convolution2D(batch).squeeze(1)\n",
        "  return (1 - (1 - beta)**risk_conv) "
      ],
      "metadata": {
        "id": "AaTRRGFOxdvo",
        "cellView": "form"
      },
      "execution_count": null,
      "outputs": []
    },
    {
      "cell_type": "markdown",
      "source": [
        "### 4. Defining a differentiable approximation of the heaviside step-function\n",
        "\n",
        "$$H(x) \\approx \\frac{1}{2} + \\frac{1}{2}\\text{tanh}(kx) = \\frac{1}{1+e^{-2kx}}$$\n",
        "\n"
      ],
      "metadata": {
        "id": "XLtk01RMhjsn"
      }
    },
    {
      "cell_type": "code",
      "source": [
        "# @title Heaviside approx.\n",
        "def heaviside(x,k):\n",
        "  return 1 / (1 + jnp.exp(-2*k*x))"
      ],
      "metadata": {
        "id": "wa7ULVLki4Gp",
        "cellView": "form"
      },
      "execution_count": null,
      "outputs": []
    },
    {
      "cell_type": "markdown",
      "source": [
        "## Defining the PCA class"
      ],
      "metadata": {
        "id": "gN1hq_tdkuAG"
      }
    },
    {
      "cell_type": "code",
      "source": [
        "# @title News spread PCA\n",
        "class News_Spread_PCA():\n",
        "  \"\"\"\n",
        "  Represents a PCA model for the diffusive spread of a news item through\n",
        "  a population.\n",
        "\n",
        "  size (int): The size of the square grid (height & width).\n",
        "  batch_size (int): The amount of PCA grids to initialize.\n",
        "  beta (float): The diffusion coefficient of the model\n",
        "  \"\"\"\n",
        "  def __init__(self, size:int,batch_size:int,beta:float) -> None:\n",
        "    self.size = size\n",
        "    self.batch_size = batch_size\n",
        "    self.grids = np.zeros((batch_size, size, size))\n",
        "    self.grids[:, size//2, size//2] = 1\n",
        "    self.beta = beta\n",
        "\n",
        "  def visualize_surface(self, idx:int) -> None:\n",
        "    \"\"\"\n",
        "    Produce a plot of the current state of the PCA at index <idx> in the batch.\n",
        "    \"\"\"\n",
        "    plt.imshow(self.grids[idx], cmap='Greys',  interpolation='nearest')\n",
        "  \n",
        "  def visualize_batch(self) -> None:\n",
        "    \"\"\"\n",
        "    Produce a plot of all current grid states.\n",
        "    \"\"\"\n",
        "    fig, axs = plt.subplots(1, self.batch_size, figsize=(3,3))\n",
        "    for gridIdx, grid in enumerate(self.grids):\n",
        "      axs[gridIdx].imshow(grid, cmap='Greys',  interpolation='nearest', vmin=0, vmax=1)\n",
        "      axs[gridIdx].get_xaxis().set_visible(False)\n",
        "      axs[gridIdx].get_yaxis().set_visible(False)\n",
        "\n",
        "  def evolve(self) -> np.ndarray:\n",
        "    \"\"\"\n",
        "    Run a simulation step for each of the PCAs in the batch.\n",
        "    \"\"\"\n",
        "    healthy_mask = self.grids == 0\n",
        "\n",
        "    likelihoods = calculate_spread_likelihood(self.grids, self.beta)\n",
        "    infection_update = np.random.rand(*self.grids.shape) <=  likelihoods * healthy_mask \n",
        "    self.grids += infection_update.astype(int)\n",
        "\n",
        "    return self.grids\n",
        "      \n",
        "  def run(self, steps=100):\n",
        "    \"\"\"\n",
        "    Run <steps> consecutive simulation steps of the grids. Keeps track of the history\n",
        "    of states.\n",
        "    \"\"\"\n",
        "    states = [self.grids.copy()]\n",
        "    for i in range(steps):\n",
        "      self.evolve()\n",
        "      states.append(self.grids.copy())\n",
        "    return np.array(states)"
      ],
      "metadata": {
        "id": "UEvw-P1ayW1w",
        "cellView": "form"
      },
      "execution_count": null,
      "outputs": []
    },
    {
      "cell_type": "markdown",
      "source": [
        "## Testing the class and helper functions"
      ],
      "metadata": {
        "id": "EJR2RfLfkzEG"
      }
    },
    {
      "cell_type": "code",
      "source": [
        "# @title Test the periodic padding\n",
        "size = 9\n",
        "batch_size = 2\n",
        "beta = 0.35\n",
        "\n",
        "batch = News_Spread_PCA(size,batch_size,beta)\n",
        "batch.grids[0, 0, 0] = 1\n",
        "batch.grids[0, 0, 1] = 1\n",
        "batch.grids[0, 0, 2] = 1\n",
        "batch.grids[0, 1, 0] = 1\n",
        "batch.grids[0, 1, 2] = 1\n",
        "batch.grids[0, 2, 0] = 1\n",
        "batch.grids[0, 2, 1] = 1\n",
        "batch.grids[0, 2, 2] = 1\n",
        "\n",
        "padded_grid = periodic_padding(batch.grids)\n",
        "\n",
        "# Torus wrapping around the right edge providing active padding\n",
        "assert padded_grid[0,1,-1] == 1\n",
        "assert padded_grid[0,2,-1] == 1\n",
        "assert padded_grid[0,3,-1] == 1\n",
        "# Below and above should not be active\n",
        "assert padded_grid[0,0,-1] == 0\n",
        "assert padded_grid[0,4,-1] == 0\n",
        "# Torus wrapping around the bottom providing active cells\n",
        "assert padded_grid[0,-1,1] == 1\n",
        "assert padded_grid[0,-1,2] == 1\n",
        "assert padded_grid[0,-1,1] == 1\n",
        "# Left and right should not be active\n",
        "assert padded_grid[0,-1,0] == 0\n",
        "assert padded_grid[0,-1,4] == 0"
      ],
      "metadata": {
        "id": "QNTl6FNwh1SM",
        "cellView": "form"
      },
      "execution_count": null,
      "outputs": []
    },
    {
      "cell_type": "code",
      "source": [
        "# @title Test the risk convolution\n",
        "size = 9\n",
        "batch_size = 2\n",
        "beta = 0.35\n",
        "\n",
        "batch = News_Spread_PCA(size,batch_size,beta)\n",
        "batch.grids[0, 0, 0] = 1\n",
        "batch.grids[0, 0, 1] = 1\n",
        "batch.grids[0, 0, 2] = 1\n",
        "batch.grids[0, 1, 0] = 1\n",
        "batch.grids[0, 1, 2] = 1\n",
        "batch.grids[0, 2, 0] = 1\n",
        "batch.grids[0, 2, 1] = 1\n",
        "batch.grids[0, 2, 2] = 1\n",
        "\n",
        "conv_result = risk_convolution2D(batch.grids)\n",
        "\n",
        "assert conv_result[0,0,0,0] == 2\n",
        "assert conv_result[0,0,0,1] == 4\n",
        "assert conv_result[0,0,0,2] == 2\n",
        "assert conv_result[0,0,1,0] == 4\n",
        "assert conv_result[0,0,1,1] == 8\n",
        "assert conv_result[0,0,1,2] == 4\n",
        "assert conv_result[0,0,2,0] == 2\n",
        "assert conv_result[0,0,-1,1] == 3\n",
        "assert conv_result[0,0,-1,0] == 2\n",
        "assert conv_result[0,0,-1,2] == 2"
      ],
      "metadata": {
        "id": "KuRh8XjpWWC8",
        "cellView": "form"
      },
      "execution_count": null,
      "outputs": []
    },
    {
      "cell_type": "code",
      "source": [
        "# @title Test the update likelihood function\n",
        "size = 9\n",
        "batch_size = 2\n",
        "beta = 0.35\n",
        "\n",
        "batch = News_Spread_PCA(size,batch_size,beta)\n",
        "batch.grids[0, 0, 0] = 1\n",
        "batch.grids[0, 0, 1] = 1\n",
        "batch.grids[0, 0, 2] = 1\n",
        "batch.grids[0, 1, 0] = 1\n",
        "batch.grids[0, 1, 2] = 1\n",
        "batch.grids[0, 2, 0] = 1\n",
        "batch.grids[0, 2, 1] = 1\n",
        "batch.grids[0, 2, 2] = 1\n",
        "\n",
        "likelihoods = calculate_spread_likelihood(batch.grids, beta)\n",
        "\n",
        "def likelihood(beta,n):\n",
        "  return 1-(1-beta)**n\n",
        "\n",
        "assert \"{:0.4f}\".format(likelihoods[0,0,0]) == \"{:0.4f}\".format(likelihood(p,2))\n",
        "assert \"{:0.4f}\".format(likelihoods[0,0,1]) == \"{:0.4f}\".format(likelihood(p,4))\n",
        "assert \"{:0.4f}\".format(likelihoods[0,0,2]) == \"{:0.4f}\".format(likelihood(p,2))\n",
        "assert \"{:0.4f}\".format(likelihoods[0,1,0]) == \"{:0.4f}\".format(likelihood(p,4))\n",
        "assert \"{:0.4f}\".format(likelihoods[0,1,1]) == \"{:0.4f}\".format(likelihood(p,8))\n",
        "assert \"{:0.4f}\".format(likelihoods[0,-1,1]) == \"{:0.4f}\".format(likelihood(p,3))"
      ],
      "metadata": {
        "id": "OH0_sM3gxR_n",
        "cellView": "form"
      },
      "execution_count": null,
      "outputs": []
    },
    {
      "cell_type": "code",
      "source": [
        "# @title Test the activation function\n",
        "constants = [1,2,3,10,20]\n",
        "x = np.arange(-4,5,0.01)\n",
        "\n",
        "for k in constants: \n",
        "  y = heaviside(x, k)\n",
        "  plt.plot(x, y, label=f'k={k}')\n",
        "\n",
        "plt.legend()"
      ],
      "metadata": {
        "cellView": "form",
        "id": "vdVrvs0-kc4m",
        "colab": {
          "base_uri": "https://localhost:8080/",
          "height": 282
        },
        "outputId": "0aaeef0c-a3e5-47fc-ebc3-7eb613c5d6d4"
      },
      "execution_count": null,
      "outputs": [
        {
          "output_type": "execute_result",
          "data": {
            "text/plain": [
              "<matplotlib.legend.Legend at 0x7fed0e146d50>"
            ]
          },
          "metadata": {},
          "execution_count": 11
        },
        {
          "output_type": "display_data",
          "data": {
            "text/plain": [
              "<Figure size 432x288 with 1 Axes>"
            ],
            "image/png": "[encoded data removed]"
          },
          "metadata": {
            "needs_background": "light"
          }
        }
      ]
    },
    {
      "cell_type": "markdown",
      "source": [
        "## Visualizing the Model"
      ],
      "metadata": {
        "id": "3DM0wg5xk4QQ"
      }
    },
    {
      "cell_type": "code",
      "source": [
        "# @title Setting PCA parameters\n",
        "size = 30 #@param {type:\"number\"}\n",
        "batch_size = 2 #@param {type:\"number\"}\n",
        "beta = 0.08 #@param {type:\"slider\", min:0, max:1, step:0.01}\n",
        "\n",
        "# @markdown ---\n",
        "# @markdown parameters for the PCA visualization\n",
        "\n",
        "frame_speed = 0.1 # @param {type:\"slider\", min:0.1, max:2, step:0.01}"
      ],
      "metadata": {
        "cellView": "form",
        "id": "5UrL-F2odw6y"
      },
      "execution_count": null,
      "outputs": []
    },
    {
      "cell_type": "code",
      "source": [
        "# @title Run to visualize\n",
        "grids = News_Spread_PCA(size,batch_size,beta)\n",
        "for i in range(60):\n",
        "  grids.visualize_batch()\n",
        "  display.display(plt.gcf())\n",
        "  current = grids.evolve()\n",
        "  display.clear_output(wait=True)\n",
        "  time.sleep(frame_speed)"
      ],
      "metadata": {
        "id": "kKem3be31lnP",
        "cellView": "form"
      },
      "execution_count": null,
      "outputs": []
    },
    {
      "cell_type": "markdown",
      "source": [
        "## Working out the learning method for single samples\n",
        "\n",
        "$$\n",
        "Y= F(x) = \\begin{pmatrix}\n",
        "1 & 1 & 1 \\\\\n",
        "1 & 0 & 1 \\\\\n",
        "1 & 1 & 1 \n",
        "\\end{pmatrix} \\circledast x\n",
        ", x \\in S^{K\\times K}\n",
        "$$\n",
        "\n",
        "$$\n",
        "G(x, Y, \\beta) = \\begin{pmatrix}\n",
        "(1-(1-\\beta)^{Y_{11}})(1-x_{11}) & \\dots & (1-(1-\\beta)^{Y_{k1}})(1-x_{k1}) \\\\\n",
        "\\dots & \\dots & \\dots \\\\\n",
        "(1-(1-\\beta)^{Y_{1k}})(1-x_{1k}) & \\dots & (1-(1-\\beta)^{Y_{kk}})(1-x_{kk}) \n",
        "\\end{pmatrix}\n",
        "$$\n",
        "\n",
        "**Idea:** We have a tuple $(x_{t}, x_{t+1})$. G tells us how likely each pixel is to transition to an activated state. The likelihood of $x_{t+1}$ is given by the total likelihood of transitions. Example:\n",
        "\n",
        "$$\n",
        "x_t = \\begin{pmatrix}\n",
        "0 & 0 & 0 \\\\\n",
        "0 & 1 & 0 \\\\\n",
        "0 & 0 & 0 \n",
        "\\end{pmatrix}, \n",
        "G(x_t) = l = \\begin{pmatrix}\n",
        "0.1 & 0.1 & 0.1 \\\\\n",
        "0.1 & 1 & 0.1 \\\\\n",
        "0.1 & 0.1 & 0.1 \n",
        "\\end{pmatrix},\n",
        "x_{t+1} = \\begin{pmatrix}\n",
        "0 & 1 & 0 \\\\\n",
        "0 & 1 & 0 \\\\\n",
        "0 & 1 & 1 \n",
        "\\end{pmatrix}\n",
        "$$\n",
        "\n",
        "$$\n",
        "P(x_{t+1}|x_t) \n",
        "= \n",
        "\\prod \\begin{pmatrix}\n",
        "(1-x_{t+1}^{11})(1-l^{11})+x_{t+1}^{11}l^{11} & \n",
        "\\dots & \n",
        "(1-x_{t+1}^{13})(1-l^{13})+x_{t+1}^{13}l^{13} \\\\\n",
        "\\dots & \n",
        "\\dots & \n",
        "\\dots \\\\\n",
        "(1-x_{t+1}^{31})(1-l^{21})+x_{t+1}^{21}l^{21} & \n",
        "\\dots & \n",
        "(1-x_{t+1}^{33})(1-l^{23})+x_{t+1}^{23}l^{23} \\\\\n",
        "\\end{pmatrix} \n",
        "=\n",
        "\\prod \\begin{pmatrix}\n",
        "(1-0.1) & 0.1 & (1-0.1) \\\\\n",
        "(1-0.1) & 1 & (1-0.1) \\\\\n",
        "(1-0.1) & 0.1 & 0.1 \n",
        "\\end{pmatrix} \n",
        "=\n",
        "\\prod \\begin{pmatrix}\n",
        "0.9 & 0.1 & 0.9 \\\\\n",
        "0.9 & 1 & 0.9 \\\\\n",
        "0.9 & 0.1 & 0.1 \n",
        "\\end{pmatrix} \n",
        "\\approx 0.0006\n",
        "$$\n",
        "\n",
        "This way, we can calculate the likelihood of each transition within the dataset.\n",
        "\n",
        "**Objective:** Find the parameter $\\beta$ that maximizes the likelihood of the sample transition\n",
        "\n",
        "\n",
        "\n"
      ],
      "metadata": {
        "id": "nqjaT8Frj6fD"
      }
    },
    {
      "cell_type": "code",
      "source": [
        "# @title defining the functions\n",
        "def G(beta:float, x:np.ndarray) -> np.ndarray:\n",
        "  \"\"\"\n",
        "  Returns a likelihood matrix. The entry in each cell corresponds to the 'risk' of \n",
        "  spread to the respective cell, irrespective of whether that cell is already infected.\n",
        "\n",
        "  beta (float): The diffusion coefficient of the PCA.\n",
        "  x (np.ndarray): The state of the grid.\n",
        "  \"\"\"\n",
        "  # returns a mask that is zero everywhere the cells are active\n",
        "  healthy_mask = 1 - x\n",
        "  # matrix where every entry corresponds to the likelihood of the cell transitioning to active state\n",
        "  return calculate_spread_likelihood(x, beta)\n",
        "\n",
        "def P(x_t:np.ndarray, x_tt:np.ndarray, beta:float, verbose=False) -> np.ndarray:\n",
        "  \"\"\"\n",
        "  Returns a likelihood matrix. For each cell, calculates the likelihood of transitioning\n",
        "  from the state it was in x_t, to the state it is in x_tt.\n",
        "\n",
        "  x_t (np.ndarray): The previous state of the PCA (time t).\n",
        "  x_tt (np.ndarray): The current state of the PCA (time t+1).\n",
        "  beta (float): The diffusion coefficient of the PCA model.\n",
        "  verbose (boolean, optional): Whether additional information is printed.\n",
        "  \"\"\"\n",
        "  # calculate the risk of spread for each cell\n",
        "  l = G(beta, x_t)\n",
        "  if verbose:\n",
        "    print(f\"l: \\n{l}\")\n",
        "    print(\"LHS---------------\")\n",
        "    print(f\"1-x_t: \\n{(1-x_t)}\")\n",
        "    print(f\"1-x_tt: \\n{(1-x_tt)}\")\n",
        "    print(f\"(1-x_t)(1-x_tt): \\n{(1-x_t)*(1-x_tt)}\")\n",
        "    print(f\"(1-x_t)(1-x_tt)(1-l): \\n{(1-x_t)*(1-x_tt)*(1-l)}\")\n",
        "    print(\"RHS-----------------\")\n",
        "    print(f\"x_tt*l: \\n{x_tt*l}\")\n",
        "    print(f\"x_tt*l*(1-x_t): \\n{x_tt*l*(1-x_t)}\")\n",
        "    print(f\"x_tt*l*(1-x_t)+x_t: \\n{(x_tt*l*(1-x_t)+x_t)}\")\n",
        "    print(\"LHS+RHS---------------------\")\n",
        "    print((1-x_t)*(1-x_tt)*(1-l)+(x_tt*l*(1-x_t)+x_t))\n",
        "  return (1-x_t)*(1-x_tt)*(1-l)+(x_tt*l*(1-x_t)+x_t)\n",
        "\n",
        "def total_likelihood(x_t:np.ndarray, x_tt:np.ndarray, beta:float) -> float:\n",
        "  \"\"\"\n",
        "  Calculate the total likelihood of transitioning from grid state <x_t> to grid\n",
        "  state <x_tt>.\n",
        "\n",
        "  x_t (np.ndarray): The previous state of the grid (time step t).\n",
        "  x_tt (np.ndarray): The current state of the grid (time step t+1).\n",
        "  beta (float): The diffusion coefficient of the PCA.\n",
        "  \"\"\"\n",
        "  return jnp.sum(jnp.prod(P(x_t,x_tt,beta), axis=(-1,-2)))"
      ],
      "metadata": {
        "id": "QPURAauC7bin"
      },
      "execution_count": null,
      "outputs": []
    },
    {
      "cell_type": "code",
      "source": [
        "# @title Tests\n",
        "x_t = jnp.zeros((1,3,3))\n",
        "x_t = x_t.at[0,1,1].set(1)\n",
        "x_tt = jnp.zeros((1,3,3))\n",
        "x_tt = x_tt.at[0,1,1].set(1)\n",
        "x_tt = x_tt.at[0,2,1].set(1)\n",
        "x_tt = x_tt.at[0,2,2].set(1)\n",
        "x_tt = x_tt.at[0,0,1].set(1)\n",
        "beta = 0.1\n",
        "\n",
        "p = P(x_t, x_tt, 0.1)\n",
        "\n",
        "print(\"State x_t\")\n",
        "print(x_t)\n",
        "print(\"-------------\")\n",
        "print(\"State x_t+1\")\n",
        "print(x_tt)\n",
        "print(\"-------------\")\n",
        "print(\"Likelihood matrix P(x_t+1|x_t)\")\n",
        "print(p)\n",
        "print(\"-------------\")\n",
        "print(\"Total Likelihood P(x_t+1|x_t)\")\n",
        "print(total_likelihood(x_t, x_tt, 0.1))\n",
        "\n",
        "betas = np.linspace(0,1,100)\n",
        "likelihoods = [total_likelihood(x_t, x_tt, b) for b in betas]\n",
        "gradients = [grad(total_likelihood, argnums=2)(x_t,x_tt,b) for b in betas]\n",
        "plt.plot(betas, likelihoods, label=\"likelihood\")\n",
        "plt.plot(betas, gradients, label=\"gradient\")\n",
        "plt.xlabel(\"beta\")\n",
        "plt.legend()\n",
        "\n",
        "assert \"{:0.2f}\".format(p[0,0,0]) == \"0.90\"\n",
        "assert \"{:0.2f}\".format(p[0,0,1]) == \"0.10\"\n",
        "assert \"{:0.2f}\".format(p[0,0,2]) == \"0.90\"\n",
        "assert \"{:0.2f}\".format(p[0,1,0]) == \"0.90\"\n",
        "assert \"{:0.2f}\".format(p[0,1,1]) == \"1.00\"\n",
        "assert \"{:0.2f}\".format(p[0,1,2]) == \"0.90\"\n",
        "assert \"{:0.2f}\".format(p[0,2,0]) == \"0.90\"\n",
        "assert \"{:0.2f}\".format(p[0,2,1]) == \"0.10\"\n",
        "assert \"{:0.2f}\".format(p[0,2,2]) == \"0.10\"\n",
        "\n",
        "assert \"{:0.8f}\".format(total_likelihood(x_t,x_tt,beta)) == \"{:0.8f}\".format(0.9**5 * 0.10000002**3)\n",
        "\n",
        "x_t = jnp.zeros((2,3,3))\n",
        "x_t = x_t.at[:,1,1].set(1)\n",
        "\n",
        "x_tt = jnp.zeros((2,3,3))\n",
        "x_tt = x_tt.at[:,1,1].set(1)\n",
        "\n",
        "x_tt = x_tt.at[0,2,1].set(1)\n",
        "x_tt = x_tt.at[0,2,2].set(1)\n",
        "x_tt = x_tt.at[0,0,1].set(1)\n",
        "\n",
        "x_tt = x_tt.at[1,0,0].set(1)\n",
        "x_tt = x_tt.at[1,2,0].set(1)\n",
        "x_tt = x_tt.at[1,1,2].set(1)\n",
        "\n",
        "p = P(x_t, x_tt, 0.1)\n",
        "assert \"{:0.2f}\".format(p[0,0,0]) == \"0.90\"\n",
        "assert \"{:0.2f}\".format(p[0,0,1]) == \"0.10\"\n",
        "assert \"{:0.2f}\".format(p[0,0,2]) == \"0.90\"\n",
        "assert \"{:0.2f}\".format(p[0,1,0]) == \"0.90\"\n",
        "assert \"{:0.2f}\".format(p[0,1,1]) == \"1.00\"\n",
        "assert \"{:0.2f}\".format(p[0,1,2]) == \"0.90\"\n",
        "assert \"{:0.2f}\".format(p[0,2,0]) == \"0.90\"\n",
        "assert \"{:0.2f}\".format(p[0,2,1]) == \"0.10\"\n",
        "assert \"{:0.2f}\".format(p[0,2,2]) == \"0.10\"\n",
        "\n",
        "assert \"{:0.2f}\".format(p[1,0,0]) == \"0.10\"\n",
        "assert \"{:0.2f}\".format(p[1,0,1]) == \"0.90\"\n",
        "assert \"{:0.2f}\".format(p[1,0,2]) == \"0.90\"\n",
        "assert \"{:0.2f}\".format(p[1,1,0]) == \"0.90\"\n",
        "assert \"{:0.2f}\".format(p[1,1,1]) == \"1.00\"\n",
        "assert \"{:0.2f}\".format(p[1,1,2]) == \"0.10\"\n",
        "assert \"{:0.2f}\".format(p[1,2,0]) == \"0.10\"\n",
        "assert \"{:0.2f}\".format(p[1,2,1]) == \"0.90\"\n",
        "assert \"{:0.2f}\".format(p[1,2,2]) == \"0.90\"\n",
        "\n",
        "assert \"{:0.8f}\".format(total_likelihood(x_t,x_tt,beta)) == \"{:0.8f}\".format(0.9**5 * 0.10000002**3 * 2)\n"
      ],
      "metadata": {
        "cellView": "form",
        "id": "kn6ZTUKJLHd0"
      },
      "execution_count": null,
      "outputs": []
    },
    {
      "cell_type": "markdown",
      "source": [
        "**Exercise 1**: If we try to estimate beta for a single transition sample \n",
        "\n",
        "$$\n",
        "x_t = \\begin{pmatrix}\n",
        "0 & 0 & 0 \\\\\n",
        "0 & 1 & 0 \\\\\n",
        "0 & 0 & 0 \n",
        "\\end{pmatrix}, \n",
        "x_{t+1} = \\begin{pmatrix}\n",
        "0 & 1 & 0 \\\\\n",
        "0 & 1 & 0 \\\\\n",
        "0 & 1 & 1 \n",
        "\\end{pmatrix}\n",
        "$$\n",
        "\n",
        "We can work out the solution analytically. Every cell around the seed has 1 neighbor, reducing the probability for activation to $1-(1-\\beta)^1=\\beta$. This means, that every cell transitions with probability $\\beta$ from inactive to active. In our example, 3 out of 8 cells transition to the active state. This is equivalent to stating that out of 8 independent bernoull trials, 3 were successful. The maximum likelihood estimate for $\\beta$ is hence $\\frac{3}{8}=0.375$. \n",
        "\n",
        "We can show, that the gradient-based method does converge towards this value:"
      ],
      "metadata": {
        "id": "qEB12-J4R8CG"
      }
    },
    {
      "cell_type": "code",
      "source": [
        "# @title finding beta based on the gradients\n",
        "x_t = jnp.zeros((1,3,3))\n",
        "x_t = x_t.at[0,1,1].set(1)\n",
        "x_tt = jnp.zeros((1,3,3))\n",
        "x_tt = x_tt.at[0,1,1].set(1)\n",
        "x_tt = x_tt.at[0,2,1].set(1)\n",
        "x_tt = x_tt.at[0,2,2].set(1)\n",
        "x_tt = x_tt.at[0,0,1].set(1)\n",
        "\n",
        "beta = 0.5\n",
        "\n",
        "for i in range(50):\n",
        "  #print(f\"Gradient {grad(total_likelihood, argnums=2)(x_t,x_tt,beta)}\")\n",
        "  beta = beta + grad(total_likelihood, argnums=2)(x_t,x_tt,beta)\n",
        "  #print(f\"updated beta: {beta}\")\n",
        "print(f\"Final Beta: {beta}\")"
      ],
      "metadata": {
        "colab": {
          "base_uri": "https://localhost:8080/"
        },
        "id": "MJ-DP9O6QQwS",
        "outputId": "068bc9a5-b8b9-4213-baed-e6d29fd206a0"
      },
      "execution_count": null,
      "outputs": [
        {
          "output_type": "stream",
          "name": "stdout",
          "text": [
            "Final Beta: 0.3750137388706207\n"
          ]
        }
      ]
    },
    {
      "cell_type": "markdown",
      "source": [
        "**Exercise 2:** We consider a more complex example:\n",
        "$$\n",
        "x_t = \\begin{pmatrix}\n",
        "0 & 1 & 0 \\\\\n",
        "0 & 1 & 0 \\\\\n",
        "0 & 1 & 0 \n",
        "\\end{pmatrix}, \n",
        "x_{t+1} = \\begin{pmatrix}\n",
        "1 & 1 & 0 \\\\\n",
        "1 & 1 & 0 \\\\\n",
        "0 & 1 & 1 \n",
        "\\end{pmatrix}\n",
        "$$\n",
        "\n",
        "The risk convolution $Y$ here is given as:\n",
        "\n",
        "$$Y = \n",
        "\\begin{pmatrix}\n",
        "1 & 1 & 1 \\\\\n",
        "1 & 0 & 1 \\\\\n",
        "1 & 1 & 1 \n",
        "\\end{pmatrix} \\circledast x\n",
        "=\n",
        "\\begin{pmatrix}\n",
        "1 & 1 & 1 \\\\\n",
        "1 & 0 & 1 \\\\\n",
        "1 & 1 & 1 \n",
        "\\end{pmatrix} \\circledast \n",
        "\\begin{pmatrix}\n",
        "0 & 1 & 0 \\\\\n",
        "0 & 1 & 0 \\\\\n",
        "0 & 1 & 0 \n",
        "\\end{pmatrix}\n",
        "= \n",
        "\\begin{pmatrix}\n",
        "3 & 2 & 3 \\\\\n",
        "3 & 2 & 3 \\\\\n",
        "3 & 2 & 3 \n",
        "\\end{pmatrix}\n",
        "$$\n",
        "\n",
        "It follows, that the risk matrix is given by:\n",
        "\n",
        "$$\n",
        "L = \n",
        "\\begin{pmatrix}\n",
        "3 & 2 & 3 \\\\\n",
        "3 & 2 & 3 \\\\\n",
        "3 & 2 & 3 \n",
        "\\end{pmatrix}\n",
        "$$\n",
        "\n",
        "The probability of cells [$x_{11}, x_{21}, x_{31}, x_{13}, x_{23}, x_{33}$] transitioning is thus respectively given by: $1-(1-\\beta)^3$\n",
        "\n",
        "$$\n",
        "1-(1-\\beta)^3\n",
        "$$\n",
        "$$\n",
        "= 1- 1 - 3 \\beta + 3 \\beta^2 - \\beta^3\n",
        "$$\n",
        "$$\n",
        "= -3\\beta+3\\beta^2-\\beta^3\n",
        "$$\n",
        "\n",
        "Three out of the six trials are successful, giving us an empirical probability of $0.5$. It follows that:\n",
        "\n",
        "$$\n",
        "0.5 = -3\\beta+3\\beta^2-\\beta^3 \\approx 0.206299\n",
        "$$\n",
        "\n",
        "We can again show, that the gradient-based approach converges to this value for beta:"
      ],
      "metadata": {
        "id": "XoWDj7sRVQc1"
      }
    },
    {
      "cell_type": "code",
      "source": [
        "# @title finding beta based on the gradients\n",
        "x_t = jnp.zeros((1,3,3))\n",
        "x_t = x_t.at[0,:,1].set(1)\n",
        "print(x_t)\n",
        "x_tt = jnp.zeros((1,3,3))\n",
        "x_tt = x_tt.at[0,:,1].set(1)\n",
        "x_tt = x_tt.at[0,0,0].set(1)\n",
        "x_tt = x_tt.at[0,1,0].set(1)\n",
        "x_tt = x_tt.at[0,2,2].set(1)\n",
        "print(x_tt)\n",
        "calculate_spread_likelihood(x_t, 0.1)\n",
        "p = P(x_t, x_tt, 0.1)\n",
        "print(p)\n",
        "\n",
        "def update(x_t, x_tt, beta, lr=0.01):\n",
        "  return beta + lr * grad(total_likelihood, argnums=2)(x_t,x_tt,beta)\n",
        "\n",
        "def train(x_t, x_tt, beta, lr=0.01, num_steps=1000, verbose=False):\n",
        "  for i in range(num_steps):\n",
        "    beta = update(x_t,x_tt,beta)\n",
        "    if verbose and i % 10 == 0:\n",
        "      print(f\"beta after step {i}: {beta}\")\n",
        "  return beta\n",
        "\n",
        "betas = np.linspace(0.01,1,20)\n",
        "print(betas)\n",
        "for beta in betas:\n",
        "  print(f\"------------\\nstarting with beta: {beta}\")\n",
        "  final_beta = train(x_t, x_tt, beta)\n",
        "  print(f\"beta after 1000 gradient steps: {final_beta}\")"
      ],
      "metadata": {
        "id": "-8jMKeL4WLPk"
      },
      "execution_count": null,
      "outputs": []
    },
    {
      "cell_type": "markdown",
      "source": [
        "**Exercise 3:** We consider another example transition of the form:\n",
        "\n",
        "$$\n",
        "x_t = \\begin{pmatrix}\n",
        "0 & 0 & 0 & 0 & 0 \\\\\n",
        "1 & 0 & 0 & 0 & 0\\\\\n",
        "0 & 1 & 1 & 0 & 0\\\\\n",
        "0 & 0 & 0 & 0 & 0\\\\\n",
        "0 & 0 & 0 & 0 & 0\n",
        "\\end{pmatrix}, \n",
        "x_{t+1} = \\begin{pmatrix}\n",
        "1 & 0 & 0 & 0 & 0 \\\\\n",
        "1 & 1 & 1 & 0 & 0 \\\\\n",
        "1 & 1 & 1 & 0 & 0\\\\\n",
        "0 & 1 & 0 & 1 & 0\\\\\n",
        "0 & 0 & 0 & 0 & 0\n",
        "\\end{pmatrix}\n",
        "$$\n",
        "\n",
        "applying a periodic Torus padding to $x_t$ gives us the following $7\\times7$ matrix:\n",
        "\n",
        "$$\n",
        "\\left[\\begin{array}{c|ccccc|c} \n",
        "0 & 0 & 0 & 0 & 0 & 0 & 0 \\\\\n",
        "\\hline\n",
        "0 & 0 & 0 & 0 & 0 & 0 & 0 \\\\\n",
        "0 & 1 & 0 & 0 & 0 & 0 & 1 \\\\\n",
        "0 & 0 & 1 & 1 & 0 & 0 & 0 \\\\\n",
        "0 & 0 & 0 & 0 & 0 & 0 & 0 \\\\\n",
        "0 & 0 & 0 & 0 & 0 & 0 & 0 \\\\\n",
        "\\hline\n",
        "0 & 0 & 0 & 0 & 0 & 0 & 0\n",
        "\\end{array}\\right]\n",
        "$$\n",
        "\n",
        "We get a risk matrix L of:\n",
        "\n",
        "$$\n",
        "L = \n",
        "\\begin{pmatrix}\n",
        "1 & 1 & 0 & 0 & 1 \\\\\n",
        "1 & 3 & 2 & 1 & 1 \\\\\n",
        "2 & 2 & 1 & 1 & 1\\\\\n",
        "1 & 2 & 2 & 1 & 0\\\\\n",
        "0 & 0 & 0 & 0 & 0\n",
        "\\end{pmatrix}\n",
        "$$\n",
        "\n",
        "We find 11 entries with one active neighbor, respectively. Two of these are active themselves, removing them from consideration. Hence, it remains that we have 9 bernoulli trials with probability $\\beta$, of which 2 is successful.\n",
        "\n",
        "Further, we find 5 entries with two active neighbors, respectively. One of them is active at time $t$, leaving us with 4 bernoulli trials of probability $\\beta^2-2\\beta$. Out of these, 3 were successful.\n",
        "\n",
        "Finally, there is one successful trial with 3 active neighbors.\n",
        "\n",
        "We can write the total likelihood of this event as a bernoulli chain of form:\n",
        "\n",
        "$$\n",
        "\\beta^2(1-\\beta)^7(1-(1-\\beta)^2)^3(1-\\beta)^2(1-(1-\\beta)^3)\n",
        "$$\n",
        "\n",
        "We can now use the gradient-based to find the beta, for which this transition is maximally likely, by setting:\n",
        "\n",
        "$$\n",
        "\\frac{\\partial}{\\partial \\beta}[\\beta^2(1-\\beta)^7(1-(1-\\beta)^2)^3(1-\\beta)^2(1-(1-\\beta)^3)]=0\n",
        "$$\n",
        "\n",
        "We expect our approach to converge towards $\\beta \\approx 0.35519$\n"
      ],
      "metadata": {
        "id": "yxP0EelqGSba"
      }
    },
    {
      "cell_type": "code",
      "source": [
        "# @title finding beta based on the gradients\n",
        "x_t = jnp.zeros((1,5,5))\n",
        "x_t = x_t.at[0,2,2].set(1)\n",
        "x_t = x_t.at[0,2,1].set(1)\n",
        "x_t = x_t.at[0,1,0].set(1)\n",
        "print(x_t)\n",
        "print(\"-----------------\")\n",
        "x_tt = jnp.zeros((1,5,5))\n",
        "x_tt = x_tt.at[0,0,0].set(1)\n",
        "x_tt = x_tt.at[0,1,1].set(1)\n",
        "x_tt = x_tt.at[0,2,2].set(1)\n",
        "x_tt = x_tt.at[0,1,2].set(1)\n",
        "x_tt = x_tt.at[0,2,1].set(1)\n",
        "x_tt = x_tt.at[0,2,0].set(1)\n",
        "x_tt = x_tt.at[0,1,2].set(1)\n",
        "x_tt = x_tt.at[0,1,0].set(1)\n",
        "x_tt = x_tt.at[0,3,1].set(1)\n",
        "x_tt = x_tt.at[0,3,3].set(1)\n",
        "print(x_tt)\n",
        "print(\"-------------------\")\n",
        "print(periodic_padding(x_t))\n",
        "print(\"-------------------\")\n",
        "print(risk_convolution2D(x_t))\n",
        "print(\"-------------------\")\n",
        "print(calculate_spread_likelihood(x_t, 0.1))\n",
        "print(\"-------------------\")\n",
        "p = P(x_t, x_tt, 0.1)\n",
        "print(p)\n",
        "\n",
        "def update(x_t, x_tt, beta, lr=0.01):\n",
        "  return beta + lr * grad(total_likelihood, argnums=2)(x_t,x_tt,beta)\n",
        "\n",
        "def train(x_t, x_tt, beta, lr=0.01, num_steps=1000, verbose=False):\n",
        "  for i in range(num_steps):\n",
        "    beta = update(x_t,x_tt,beta, lr)\n",
        "    if verbose and i % 100 == 0:\n",
        "      print(f\"beta after step {i}: {beta}\")\n",
        "  return beta\n",
        "\n",
        "beta = 0.2\n",
        "\n",
        "result = train(x_t, x_tt, beta, num_steps=3_000, lr=0.1, verbose=True)\n",
        "print(f\"beta after optimization: {result}\")"
      ],
      "metadata": {
        "cellView": "form",
        "id": "OJJY5A2FG-SS",
        "colab": {
          "base_uri": "https://localhost:8080/"
        },
        "outputId": "15b47125-cd04-4610-c4c7-15a488aefa83"
      },
      "execution_count": null,
      "outputs": [
        {
          "output_type": "stream",
          "name": "stdout",
          "text": [
            "[[[0. 0. 0. 0. 0.]\n",
            "  [1. 0. 0. 0. 0.]\n",
            "  [0. 1. 1. 0. 0.]\n",
            "  [0. 0. 0. 0. 0.]\n",
            "  [0. 0. 0. 0. 0.]]]\n",
            "-----------------\n",
            "[[[1. 0. 0. 0. 0.]\n",
            "  [1. 1. 1. 0. 0.]\n",
            "  [1. 1. 1. 0. 0.]\n",
            "  [0. 1. 0. 1. 0.]\n",
            "  [0. 0. 0. 0. 0.]]]\n",
            "-------------------\n",
            "[[[0. 0. 0. 0. 0. 0. 0.]\n",
            "  [0. 0. 0. 0. 0. 0. 0.]\n",
            "  [0. 1. 0. 0. 0. 0. 1.]\n",
            "  [0. 0. 1. 1. 0. 0. 0.]\n",
            "  [0. 0. 0. 0. 0. 0. 0.]\n",
            "  [0. 0. 0. 0. 0. 0. 0.]\n",
            "  [0. 0. 0. 0. 0. 0. 0.]]]\n",
            "-------------------\n",
            "[[[[1. 1. 0. 0. 1.]\n",
            "   [1. 3. 2. 1. 1.]\n",
            "   [2. 2. 1. 1. 1.]\n",
            "   [1. 2. 2. 1. 0.]\n",
            "   [0. 0. 0. 0. 0.]]]]\n",
            "-------------------\n",
            "[[[0.10000002 0.10000002 0.         0.         0.10000002]\n",
            "  [0.10000002 0.27100003 0.19000006 0.10000002 0.10000002]\n",
            "  [0.19000006 0.19000006 0.10000002 0.10000002 0.10000002]\n",
            "  [0.10000002 0.19000006 0.19000006 0.10000002 0.        ]\n",
            "  [0.         0.         0.         0.         0.        ]]]\n",
            "-------------------\n",
            "[[[0.10000002 0.9        1.         1.         0.9       ]\n",
            "  [1.         0.27100003 0.19000006 0.9        0.9       ]\n",
            "  [0.19000006 1.         1.         0.9        0.9       ]\n",
            "  [0.9        0.19000006 0.80999994 0.10000002 1.        ]\n",
            "  [1.         1.         1.         1.         1.        ]]]\n",
            "beta after step 0: 0.2001957893371582\n",
            "beta after step 100: 0.22069822251796722\n",
            "beta after step 200: 0.2420993596315384\n",
            "beta after step 300: 0.2627752125263214\n",
            "beta after step 400: 0.281327486038208\n",
            "beta after step 500: 0.2970249354839325\n",
            "beta after step 600: 0.3097838759422302\n",
            "beta after step 700: 0.319904088973999\n",
            "beta after step 800: 0.3278231620788574\n",
            "beta after step 900: 0.33397752046585083\n",
            "beta after step 1000: 0.3387461006641388\n",
            "beta after step 1100: 0.3424372375011444\n",
            "beta after step 1200: 0.3452945053577423\n",
            "beta after step 1300: 0.34750744700431824\n",
            "beta after step 1400: 0.3492226302623749\n",
            "beta after step 1500: 0.3505529463291168\n",
            "beta after step 1600: 0.3515852391719818\n",
            "beta after step 1700: 0.3523866832256317\n",
            "beta after step 1800: 0.3530091941356659\n",
            "beta after step 1900: 0.35349300503730774\n",
            "beta after step 2000: 0.35386916995048523\n",
            "beta after step 2100: 0.3541615307331085\n",
            "beta after step 2200: 0.354388952255249\n",
            "beta after step 2300: 0.3545658588409424\n",
            "beta after step 2400: 0.35470345616340637\n",
            "beta after step 2500: 0.354810506105423\n",
            "beta after step 2600: 0.3548937439918518\n",
            "beta after step 2700: 0.3549584448337555\n",
            "beta after step 2800: 0.3550088405609131\n",
            "beta after step 2900: 0.35504812002182007\n",
            "beta after optimization: 0.3550782799720764\n"
          ]
        }
      ]
    },
    {
      "cell_type": "markdown",
      "source": [
        "## Working out the method for a dataset of state transitions, sampled with the same $\\beta$\n",
        "\n",
        "optimize the sum of the log likelihoods of the samples."
      ],
      "metadata": {
        "id": "SCkXsUbvUcPQ"
      }
    },
    {
      "cell_type": "code",
      "source": [
        "# @title defining hyperparameters\n",
        "\n",
        "grid_size = 9 #@param {type:\"number\"}\n",
        "w=h=grid_size\n",
        "beta = 0.08 #@param {type:\"slider\", min:0, max:1, step:0.01}\n",
        "num_sequences = 100 # @param {type:\"number\"}\n",
        "steps_per_sequence = 20\n",
        "sequences = np.zeros((num_sequences, steps_per_sequence, h, w))"
      ],
      "metadata": {
        "id": "Vu0U5L1u-q7J",
        "cellView": "form"
      },
      "execution_count": null,
      "outputs": []
    },
    {
      "cell_type": "code",
      "source": [
        "# @title generate dataset\n",
        "batch = News_Spread_PCA(w,h,1,num_sequences,beta)\n",
        "\n",
        "for i in range(steps_per_sequence):\n",
        "  sequences[:,i,:,:] = batch.grids[:,:,:,-1]\n",
        "  batch.evolve()\n",
        "np.save(\"./sequence_data\", sequences)\n",
        "visualize_sequence(sequences[np.random.randint(0,num_sequences)], framerate=0.1)\n",
        "dataset = chop_and_shuffle_data(sequences)\n",
        "np.save(\"./dataset\", dataset)\n",
        "print(dataset.shape)"
      ],
      "metadata": {
        "colab": {
          "base_uri": "https://localhost:8080/",
          "height": 269
        },
        "id": "4bEt3rNwIqOV",
        "outputId": "865ac5b0-f9ae-465c-ecf2-4c3d678af9d4",
        "cellView": "form"
      },
      "execution_count": null,
      "outputs": [
        {
          "output_type": "stream",
          "name": "stdout",
          "text": [
            "(1900, 2, 9, 9)\n"
          ]
        },
        {
          "output_type": "display_data",
          "data": {
            "text/plain": [
              "<Figure size 432x288 with 1 Axes>"
            ],
            "image/png": "[encoded data removed]"
          },
          "metadata": {
            "needs_background": "light"
          }
        }
      ]
    },
    {
      "cell_type": "code",
      "source": [
        "# @title define helper functions\n",
        "\n",
        "def neg_log_likelihood(x_t:np.ndarray, x_tt:np.ndarray, beta:float) -> float:\n",
        "  \"\"\"\n",
        "  Calculate the negative log-likelihood of the dataset.\n",
        "  \"\"\"\n",
        "  return - jnp.sum(jnp.log(P(x_t,x_tt,beta)))\n",
        "\n",
        "def update(x_t:np.ndarray, x_tt:np.ndarray, beta:float, derivative_fn, lr=0.01) -> Tuple[float, float]:\n",
        "  \"\"\"\n",
        "  Execute one step into the direction of the negative gradient (Gradient descent),\n",
        "  scaled by the learning rate.\n",
        "  \"\"\"\n",
        "  step = lr * derivative_fn(x_t,x_tt,beta)\n",
        "  updated = beta - step\n",
        "  return updated, step\n",
        "\n",
        "def train(x_t:np.ndarray, x_tt:np.ndarray, beta:float, derivative_fn, lr=0.01, num_steps=1000, verbose=False) -> Tuple[float, List[float], List[float], List[float]]:\n",
        "  \"\"\"\n",
        "  Execute the training loop.\n",
        "  \"\"\"\n",
        "  betas = []\n",
        "  grad_steps = []\n",
        "  losses = []\n",
        "  for i in range(num_steps):\n",
        "    beta, step = update(x_t,x_tt,beta, derivative_fn, lr)\n",
        "    losses.append(neg_log_likelihood(x_t, x_tt, beta))\n",
        "    betas.append(beta)\n",
        "    grad_steps.append(step)\n",
        "    if verbose and i % 100 == 0:\n",
        "      print(f\"beta after step {i}: {beta}\")\n",
        "  return beta, betas, grad_steps, losses"
      ],
      "metadata": {
        "id": "S9hjY2Z0stVu"
      },
      "execution_count": null,
      "outputs": []
    },
    {
      "cell_type": "code",
      "source": [
        "# @title Find beta\n",
        "np.random.seed(0)\n",
        "beta = np.random.random()\n",
        "x_t = dataset[:,0,:,:]\n",
        "x_tt = dataset[:,1,:,:]\n",
        "\n",
        "print(f\"starting with beta={beta}\")\n",
        "\n",
        "derivative_fn = grad(neg_log_likelihood, argnums=2)\n",
        "\n",
        "#print(x_t[0])\n",
        "#print(\"----------------------\")\n",
        "#print(x_tt[0])\n",
        "#print(\"----------------------\\n Transition Probability Matrix:\\n\")\n",
        "#print(P(np.expand_dims(x_t[0], axis=0), np.expand_dims(x_tt[0], axis=0),beta))\n",
        "#print(\"----------------------\\n negative log likelihood Matrix:\\n\")\n",
        "#print(-jnp.log(P(np.expand_dims(x_t[0], axis=0), np.expand_dims(x_tt[0], axis=0),beta)))\n",
        "#print(\"----------------------\\n total negative log likelihood:\\n\")\n",
        "#print(neg_log_likelihood(np.expand_dims(x_t[0], axis=0), np.expand_dims(x_tt[0], axis=0), beta))\n",
        "#print(\"----------------------\\n gradient of the negative log likelihood: \\n\")\n",
        "#print(derivative_fn(np.expand_dims(x_t[0], axis=0), np.expand_dims(x_tt[0], axis=0), beta))\n",
        "\n",
        "result, beta_hist, grad_steps, losses = train(x_t, x_tt, beta, derivative_fn, lr=1e-7)\n",
        "\n",
        "fig, axs = plt.subplots(1,3,figsize=(20,5))\n",
        "axs[0].plot(np.arange(len(beta_hist)), beta_hist, label=\"beta\")\n",
        "axs[0].set_title('Beta Values')\n",
        "axs[1].plot(np.arange(len(beta_hist)), grad_steps, label=\"grad_steps\")\n",
        "axs[1].set_title('Gradient Steps')\n",
        "axs[2].plot(np.arange(len(beta_hist)), losses, label=\"losses\")\n",
        "axs[2].set_title('Losses')\n",
        "\n",
        "print(f\"Final Beta: {result}\")"
      ],
      "metadata": {
        "id": "9VGd0j9GSCko",
        "colab": {
          "base_uri": "https://localhost:8080/",
          "height": 388
        },
        "cellView": "form",
        "outputId": "ed8977b4-7faf-44fd-a0dd-8cb2c5d7d31c"
      },
      "execution_count": null,
      "outputs": [
        {
          "output_type": "stream",
          "name": "stdout",
          "text": [
            "starting with beta=0.5488135039273248\n",
            "148.28613\n",
            "Final Beta: 0.07797738164663315\n"
          ]
        },
        {
          "output_type": "display_data",
          "data": {
            "text/plain": [
              "<Figure size 1440x360 with 3 Axes>"
            ],
            "image/png": "[encoded data removed]"
          },
          "metadata": {
            "needs_background": "light"
          }
        }
      ]
    },
    {
      "cell_type": "code",
      "source": [
        "fig, axs = plt.subplots(1,3,figsize=(20,5))\n",
        "axs[0].plot(np.arange(150), beta_hist[:150], label=\"beta\")\n",
        "axs[0].set_title('Beta Values')\n",
        "axs[1].plot(np.arange(150), grad_steps[:150], label=\"grad_steps\")\n",
        "axs[1].set_title('Gradient Steps')\n",
        "axs[2].plot(np.arange(150), losses[:150], label=\"losses\")\n",
        "axs[2].set_title('Losses')\n",
        "\n",
        "print(f\"Final Beta: {result}\")"
      ],
      "metadata": {
        "colab": {
          "base_uri": "https://localhost:8080/",
          "height": 353
        },
        "id": "8i1d743brtcq",
        "outputId": "0caba226-3808-49a3-df03-3dbac99dc09a"
      },
      "execution_count": null,
      "outputs": [
        {
          "output_type": "stream",
          "name": "stdout",
          "text": [
            "Final Beta: 0.07797738164663315\n"
          ]
        },
        {
          "output_type": "display_data",
          "data": {
            "text/plain": [
              "<Figure size 1440x360 with 3 Axes>"
            ],
            "image/png": "[encoded data removed]"
          },
          "metadata": {
            "needs_background": "light"
          }
        }
      ]
    },
    {
      "cell_type": "code",
      "source": [],
      "metadata": {
        "id": "a0oSmJHSulPP"
      },
      "execution_count": null,
      "outputs": []
    }
  ]
}