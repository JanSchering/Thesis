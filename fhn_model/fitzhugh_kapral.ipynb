{
  "cells": [
    {
      "cell_type": "markdown",
      "metadata": {
        "id": "ma9-whXe-QVt"
      },
      "source": [
        "# [Microscopic model for FitzHugh-Nagumo dynamics](https://journals.aps.org/pre/pdf/10.1103/PhysRevE.55.5657)\n",
        "\n",
        "original Fitzhugh-Nagumo equation:\n",
        "\n",
        "$$\n",
        "u_\\tau = -u^3 + u - v \\\\\n",
        "v_\\tau = \\epsilon(u - \\alpha v - \\beta)\n",
        "$$\n",
        "\n",
        "Spatially distributed form:\n",
        "\n",
        "$$\n",
        "u_\\tau = -u^3 + u - v + D_u \\nabla^2 u \\\\\n",
        "v_\\tau = \\epsilon(u - \\alpha v - \\beta) D_v \\nabla^2 v\n",
        "$$\n",
        "\n",
        "This paper:  depart from the standard interpretation of the\n",
        "FitzHugh-Nagumo (FHN) model in terms of nerve impulse\n",
        "physiology and devise a chemical scheme whose mass-action\n",
        "law is the FHN equation. The goal is to construct a microscopic collision dynamics corresponding to the\n",
        "mechanism and implement it in the context of a lattice-gas\n",
        "automaton."
      ]
    },
    {
      "cell_type": "markdown",
      "metadata": {
        "id": "EqeDrrEFA4r3"
      },
      "source": [
        "## Fitzhugh-Nagumo reaction kinetics\n",
        "\n"
      ]
    },
    {
      "cell_type": "markdown",
      "metadata": {
        "id": "Rn4Y7kJXCE0O"
      },
      "source": [
        "## Lattice-Gas Model\n",
        "\n",
        "Once a chemical mechanism is known it is possible to\n",
        "devise a microscopic reactive collision dynamics that accounts for the steps in the mechanism. In the paper, the mechanism is implemented as a reactive lattice-gas automaton. \n",
        "\n",
        "### Notation\n",
        "\n",
        "- $\\mathcal{L}$: The coordinate space of the model. A regular Bravais lattice is used\n",
        "- $\\mathcal{l}$: An elementary site on the lattice\n",
        "- $\\mathcal{B}$: The space of all possible site conffigurations\n",
        "- each site $\\mathcal{l}$ can be occupied by a number of particles\n",
        "  - the occupation numbers of different species are independent\n",
        "  - it follows that $\\mathcal{B}$ is a direct product of particle states\n"
      ]
    },
    {
      "cell_type": "markdown",
      "metadata": {
        "id": "pPezQL0nT89_"
      },
      "source": [
        "### Brownian Motion\n",
        "\n",
        "The model uses an additional \"excited\" substate $\\mathbb{E}$. Motion then works through a 3-step algorithm:\n",
        "\n",
        "1. Transfer at most 1 particle per side to the excited state, with a probability depending on the site occupation number\n",
        "2. Translate the excited particles in a random direction chosen from a set of directions $V={v_1,\\dots, v_k}$\n",
        "3. Accomodate the excited particles at their new locations\n",
        "\n",
        "-> Two restrictions immediately follow from our definition.\n",
        "- Only $N$ particles of a species can reside at a site ==> $p(N)=1$\n",
        "- We can't create excited particles out of nothing ==> $p(0)=0$\n",
        "\n",
        "We can specify this algorithm using the example of translating particles of a species $A$:\n",
        "\n",
        "The lattice state is defined by the substates of the species $A$, $\\mathbb{A}$ and the auxiliary excited species E, $\\mathbb{E}$.\n",
        "\n",
        "$$\\mathbb{L}=(\\mathbb{A},\\mathbb{E})$$\n",
        "\n",
        "If we define the maximum occupation number as $N$, then we can express the algorithm as:\n",
        "\n",
        "$$\n",
        "\\mathcal{D} = \\mathcal{C}_\\alpha \\circ \\mathcal{T}_v \\circ \\mathcal{C}_\\tau\n",
        "$$\n",
        "\n",
        "**$\\mathcal{C}_\\tau$** \n",
        "****\n",
        "\n",
        "$\\mathcal{C}_\\tau$ is a lattice operator corresponding to 1. (transfer a particle to the \"excited\" state). The lattice operator defines the application of the following site operator independently at each site $\\mathcal{l}=(n,e)$, where $n$ is the number of molecules of species $A$ at site $\\mathcal{l}$ and $e$ is the number of excited particles at site $\\mathcal{l}$:\n",
        "\n",
        "$$\n",
        "\\tau(n,e) = \\textbf{(} (n-\\theta(n-N\\xi)),\\theta(n-N\\xi)\\textbf{)}\n",
        "$$\n",
        "\n",
        "Here, $\\theta$ is the heaviside function and $\\xi$ is a continuous uniform random variable on (0,1).\n",
        "\n",
        "**$\\mathcal{T}_v$**\n",
        "****\n",
        "Translate $\\mathbb{E}$ into a random direction $v$. Corresponds to 2.\n",
        "\n",
        "**$\\mathcal{C}_\\alpha$**\n",
        "****\n",
        "$\\mathcal{C}_\\alpha$ is a lattice operator that corresponds to 3. (\"Accomodate the excited particles at their new locations\"). It defines the application of the following site operator to each site $\\mathcal{l}$:\n",
        "\n",
        "$$\n",
        "\\alpha(n,e) = \\textbf{(} (n+e), (0) \\textbf{)}\n",
        "$$"
      ]
    },
    {
      "cell_type": "markdown",
      "metadata": {},
      "source": [
        "import modules"
      ]
    },
    {
      "cell_type": "code",
      "execution_count": 1,
      "metadata": {
        "id": "oGss6fsjLwpd"
      },
      "outputs": [
        {
          "name": "stderr",
          "output_type": "stream",
          "text": [
            "c:\\Users\\jsche\\anaconda3\\envs\\torchenv\\lib\\site-packages\\tqdm\\auto.py:22: TqdmWarning: IProgress not found. Please update jupyter and ipywidgets. See https://ipywidgets.readthedocs.io/en/stable/user_install.html\n",
            "  from .autonotebook import tqdm as notebook_tqdm\n"
          ]
        }
      ],
      "source": [
        "from typing import Tuple, List, Callable\n",
        "from enum import Enum\n",
        "import torch as t\n",
        "from torch.distributions import uniform\n",
        "import random\n",
        "from IPython.display import Image\n",
        "from IPython import display\n",
        "import matplotlib.pyplot as plt\n",
        "import time\n",
        "from tqdm import tqdm\n",
        "from diffusion import Direction2D, diffuse, translate, excite_particles\n",
        "from reaction import p1, p2, p3, p4, p5, p6, sigma, rho"
      ]
    },
    {
      "cell_type": "code",
      "execution_count": 2,
      "metadata": {
        "colab": {
          "base_uri": "https://localhost:8080/"
        },
        "id": "CdzSHAnuRb-4",
        "outputId": "483473f5-5db8-4cfd-9b66-949c91ab043a"
      },
      "outputs": [
        {
          "name": "stdout",
          "output_type": "stream",
          "text": [
            "tensor([[1., 0., 0.],\n",
            "        [1., 1., 0.],\n",
            "        [0., 0., 0.]])\n"
          ]
        },
        {
          "data": {
            "text/plain": [
              "tensor([[1., 0., 1.],\n",
              "        [0., 0., 0.],\n",
              "        [0., 0., 1.]])"
            ]
          },
          "execution_count": 2,
          "metadata": {},
          "output_type": "execute_result"
        }
      ],
      "source": [
        "state = t.zeros((3,3))\n",
        "state[0,0] = 1\n",
        "state[1,0] = 1\n",
        "state[1,1] = 1\n",
        "print(state)\n",
        "\n",
        "translate(state, Direction2D.North_West)"
      ]
    },
    {
      "cell_type": "code",
      "execution_count": 3,
      "metadata": {
        "colab": {
          "base_uri": "https://localhost:8080/"
        },
        "id": "IEuLtJvdCK8m",
        "outputId": "b7ca84ea-c5f6-455a-ae0e-5137999dc638"
      },
      "outputs": [
        {
          "name": "stdout",
          "output_type": "stream",
          "text": [
            "tensor([[  0.,   0.,   1.],\n",
            "        [  0., 249.,   0.],\n",
            "        [  0.,   0.,   0.]])\n",
            "tensor([[  0.,   0.,   1.],\n",
            "        [  0., 249.,   0.],\n",
            "        [  0.,   0.,   0.]])\n",
            "tensor([[  0.,   0.,   1.],\n",
            "        [  0., 248.,   0.],\n",
            "        [  0.,   1.,   0.]])\n",
            "tensor([[  0.,   0.,   1.],\n",
            "        [  0., 248.,   0.],\n",
            "        [  0.,   1.,   0.]])\n",
            "tensor([[  0.,   0.,   1.],\n",
            "        [  0., 248.,   0.],\n",
            "        [  0.,   1.,   0.]])\n",
            "tensor([[  0.,   0.,   2.],\n",
            "        [  0., 247.,   0.],\n",
            "        [  0.,   1.,   0.]])\n",
            "tensor([[  0.,   0.,   2.],\n",
            "        [  0., 246.,   0.],\n",
            "        [  1.,   1.,   0.]])\n",
            "tensor([[  0.,   0.,   2.],\n",
            "        [  0., 246.,   0.],\n",
            "        [  1.,   1.,   0.]])\n",
            "tensor([[  0.,   0.,   2.],\n",
            "        [  1., 245.,   0.],\n",
            "        [  1.,   1.,   0.]])\n",
            "tensor([[  0.,   0.,   2.],\n",
            "        [  1., 244.,   0.],\n",
            "        [  1.,   2.,   0.]])\n",
            "tensor([[  0.,   0.,   2.],\n",
            "        [  2., 243.,   0.],\n",
            "        [  1.,   2.,   0.]])\n",
            "tensor([[  0.,   0.,   2.],\n",
            "        [  2., 242.,   1.],\n",
            "        [  1.,   2.,   0.]])\n",
            "tensor([[  0.,   0.,   2.],\n",
            "        [  2., 242.,   1.],\n",
            "        [  1.,   2.,   0.]])\n",
            "tensor([[  0.,   0.,   2.],\n",
            "        [  2., 241.,   2.],\n",
            "        [  1.,   2.,   0.]])\n",
            "tensor([[  0.,   0.,   2.],\n",
            "        [  2., 241.,   2.],\n",
            "        [  1.,   2.,   0.]])\n",
            "tensor([[  0.,   0.,   2.],\n",
            "        [  2., 241.,   2.],\n",
            "        [  1.,   2.,   0.]])\n",
            "tensor([[  0.,   0.,   2.],\n",
            "        [  2., 241.,   2.],\n",
            "        [  1.,   2.,   0.]])\n",
            "tensor([[  0.,   1.,   2.],\n",
            "        [  2., 240.,   2.],\n",
            "        [  1.,   2.,   0.]])\n",
            "tensor([[  0.,   1.,   2.],\n",
            "        [  3., 239.,   2.],\n",
            "        [  1.,   2.,   0.]])\n",
            "tensor([[  0.,   1.,   2.],\n",
            "        [  3., 238.,   2.],\n",
            "        [  2.,   2.,   0.]])\n"
          ]
        },
        {
          "name": "stderr",
          "output_type": "stream",
          "text": [
            "c:\\Users\\jsche\\anaconda3\\envs\\torchenv\\lib\\site-packages\\torch\\distributions\\distribution.py:167: UserWarning: sample_n will be deprecated. Use .sample((n,)) instead\n",
            "  warnings.warn('sample_n will be deprecated. Use .sample((n,)) instead', UserWarning)\n"
          ]
        }
      ],
      "source": [
        "grid = t.zeros((2,3,3))\n",
        "grid[:,1,1] = 250\n",
        "for i in range(20):\n",
        "  grid = diffuse(grid, 256, 0.5, 0.5)\n",
        "  print(grid[0])"
      ]
    },
    {
      "cell_type": "code",
      "execution_count": 4,
      "metadata": {
        "colab": {
          "base_uri": "https://localhost:8080/"
        },
        "id": "G-cYYRgPDVpl",
        "outputId": "41fd1516-5873-423a-a2d6-23ad4fac80d3"
      },
      "outputs": [
        {
          "name": "stdout",
          "output_type": "stream",
          "text": [
            "tensor(300000.)\n"
          ]
        }
      ],
      "source": [
        "grid = t.zeros((2,50,50))\n",
        "grid[:,15:30] = 200\n",
        "print(t.sum(grid))"
      ]
    },
    {
      "cell_type": "code",
      "execution_count": 5,
      "metadata": {
        "colab": {
          "base_uri": "https://localhost:8080/",
          "height": 553
        },
        "id": "WFIumvX7B7bC",
        "outputId": "352d9c44-99aa-45fd-cddd-51f0e25c699a"
      },
      "outputs": [
        {
          "data": {
            "image/png": "[encoded data removed]",
            "text/plain": [
              "<Figure size 640x480 with 1 Axes>"
            ]
          },
          "metadata": {},
          "output_type": "display_data"
        },
        {
          "data": {
            "text/plain": [
              "tensor(300000.)"
            ]
          },
          "execution_count": 5,
          "metadata": {},
          "output_type": "execute_result"
        },
        {
          "data": {
            "image/png": "[encoded data removed]",
            "text/plain": [
              "<Figure size 640x480 with 1 Axes>"
            ]
          },
          "metadata": {},
          "output_type": "display_data"
        }
      ],
      "source": [
        "N = 256 \n",
        "for i in range(10_000):\n",
        "  if i % 100 == 0:\n",
        "    display.clear_output(wait=True)\n",
        "    plt.imshow(grid[0], cmap=\"Greys\", interpolation=\"nearest\", vmin=0, vmax=256)\n",
        "    display.display(plt.gcf())\n",
        "  grid = diffuse(grid, N, 0.5, 0.5)\n",
        "t.sum(grid)"
      ]
    },
    {
      "cell_type": "markdown",
      "metadata": {
        "id": "xXsnRqliL9Mp"
      },
      "source": [
        "## Reactive Dynamics\n",
        "\n",
        "The lattice state $\\mathbb{L}$ is given by $\\mathbb{L} = (\\mathbb{A}, \\mathbb{B})$. Each lattice site $\\mathcal{l}$ is then defined by the occupation numbers\n",
        "$\\mathcal{l} = (n,m)$, where $n$ is the number of particles of species A and $m$ the number of particles of species B currently residing at site $\\mathcal{l}$.\n",
        "\n",
        "The reaction rule is carried out by randomly choosing one of 6 possible reaction channels ($r=6$). Each channel is assigned an equal weight in the choice. The reactive dynamics arise from birth-death processes based on the 6 possible reaction channels. The probability of a reaction also depends on the chosen channel and is given by:\n",
        "\n",
        "$$\n",
        "p_1(n,m) = \\gamma \\overline{k_1} n (n-1)(N-n) \\\\\n",
        "p_2(n,m) = \\gamma \\overline{k^*_1} n (N-n) (N-1-n) \\\\\n",
        "p_3(n,m) = \\gamma \\overline{k_2} (N-n)m \\\\\n",
        "p_4(n,m) = \\gamma \\overline{k^*_2} n(N-m) \\\\\n",
        "p_5(n,m) = \\gamma \\overline{k^*_3} (N-n)(N-m) \\\\ \n",
        "p_6(n,m) = \\gamma \\overline{k_3}n m\n",
        "$$\n",
        "\n",
        "- $\\gamma$ is a scale factor that controls the timescale of the reaction \n",
        "- $\\overline{k_1} = k_1 / [(N-1)(N-2)]$\n",
        "- $\\overline{k_1^*} = k_1^* / [(N-1)(N-2)]$\n",
        "- $\\overline{k_2} = k_2 / N$\n",
        "- $\\overline{k_2^*} = k_2^* / N$\n",
        "- $\\overline{k_3} = k_3 / N$\n",
        "- $\\overline{k_3^*} = k_3^* / N$\n",
        "\n",
        "where $k_i$ and $k_i^*$ are the reaction rate coefficients.\n",
        "\n",
        "****\n",
        "\n",
        "We can use the probabilities to define the site operators for the reactive dynamics. Let $\\xi$ be a random continuous uniform variable on (0,1), then:\n",
        "\n",
        "$$\n",
        "\\sigma_1(n,m) = (n + \\theta(p_1 - \\xi), m) \\\\\n",
        "\\sigma_2(n,m) = (n - \\theta(p_2 - \\xi), m) \\\\\n",
        "\\sigma_3(n,m) = (n + \\theta(p_3 - \\xi), m) \\\\\n",
        "\\sigma_4(n,m) = (n - \\theta(p_4 - \\xi), m) \\\\\n",
        "\\sigma_5(n,m) = (n, m + \\theta(p_5 - \\xi)) \\\\\n",
        "\\sigma_6(n,m) = (n, m - \\theta(p_6 - \\xi))\n",
        "$$\n",
        "\n",
        "We can combine these operators into a site operator for the local reaction rule. Let $\\nu$ be a discrete random variable on the domain $\\{1,\\dots,r\\}$, then:\n",
        "\n",
        "$$\n",
        "\\rho(n,m) = \\sum_{j=1}^6 \\delta_{\\nu j} \\sigma_j(n,m)\n",
        "$$\n",
        "\n",
        "where $\\delta_{\\nu j}$ is the kronecker delta and is equal to 1 if $j = \\nu$, 0 otherwise."
      ]
    },
    {
      "cell_type": "code",
      "execution_count": 1,
      "metadata": {},
      "outputs": [
        {
          "name": "stderr",
          "output_type": "stream",
          "text": [
            "c:\\Users\\jsche\\anaconda3\\envs\\torchenv\\lib\\site-packages\\tqdm\\auto.py:22: TqdmWarning: IProgress not found. Please update jupyter and ipywidgets. See https://ipywidgets.readthedocs.io/en/stable/user_install.html\n",
            "  from .autonotebook import tqdm as notebook_tqdm\n"
          ]
        }
      ],
      "source": [
        "from typing import Tuple, List, Callable\n",
        "from enum import Enum\n",
        "import torch as t\n",
        "from torch.distributions import uniform\n",
        "import random\n",
        "from IPython.display import Image\n",
        "from IPython import display\n",
        "import matplotlib.pyplot as plt\n",
        "import time\n",
        "from tqdm import tqdm\n",
        "from diffusion import Direction2D, diffuse, translate, excite_particles\n",
        "from reaction import p1, p2, p3, p4, p5, p6, sigma, rho"
      ]
    },
    {
      "cell_type": "code",
      "execution_count": 2,
      "metadata": {},
      "outputs": [
        {
          "data": {
            "text/plain": [
              "tensor(8100.)"
            ]
          },
          "execution_count": 2,
          "metadata": {},
          "output_type": "execute_result"
        }
      ],
      "source": [
        "grid = t.zeros((2,9,9)) + 100\n",
        "grid[:,482:542] = 200\n",
        "N = 256 \n",
        "gamma = 0.6\n",
        "rate_coefficients = [0.98,0.02,0.1,0.9,0.2,0.8]\n",
        "probability_funcs = [p1,p2,p3,p4,p5,p6]\n",
        "t.sum(grid[0])"
      ]
    },
    {
      "cell_type": "code",
      "execution_count": 3,
      "metadata": {},
      "outputs": [
        {
          "name": "stdout",
          "output_type": "stream",
          "text": [
            "tensor([100., 100., 100., 100., 100., 100., 100., 100., 100., 100., 100., 100.]) 0.98 1.7500000000000002 tensor([-4.4086e+08, -4.4086e+08, -4.4086e+08, -4.4086e+08, -4.4086e+08,\n",
            "        -4.4086e+08, -4.4086e+08, -4.4086e+08, -4.4086e+08, -4.4086e+08,\n",
            "        -4.4086e+08, -4.4086e+08])\n"
          ]
        },
        {
          "name": "stderr",
          "output_type": "stream",
          "text": [
            "c:\\Users\\jsche\\anaconda3\\envs\\torchenv\\lib\\site-packages\\torch\\distributions\\distribution.py:167: UserWarning: sample_n will be deprecated. Use .sample((n,)) instead\n",
            "  warnings.warn('sample_n will be deprecated. Use .sample((n,)) instead', UserWarning)\n"
          ]
        },
        {
          "data": {
            "text/plain": [
              "tensor(8088.)"
            ]
          },
          "execution_count": 3,
          "metadata": {},
          "output_type": "execute_result"
        }
      ],
      "source": [
        "grid = diffuse(grid, N, 0.5, 0.2)\n",
        "grid = rho(grid, N, gamma, rate_coefficients, probability_funcs, num_reaction_channels=6)\n",
        "t.sum(grid[0])"
      ]
    },
    {
      "cell_type": "code",
      "execution_count": 62,
      "metadata": {
        "colab": {
          "base_uri": "https://localhost:8080/",
          "height": 913
        },
        "id": "o9_B2SbS66j6",
        "outputId": "6b639c79-b25c-4dba-8447-191594a9f3f5"
      },
      "outputs": [
        {
          "name": "stderr",
          "output_type": "stream",
          "text": [
            "  0%|          | 2/10000 [00:00<12:17, 13.55it/s]"
          ]
        },
        {
          "name": "stdout",
          "output_type": "stream",
          "text": [
            "tensor(27750400.)\n"
          ]
        },
        {
          "name": "stderr",
          "output_type": "stream",
          "text": [
            "  1%|          | 103/10000 [00:03<05:50, 28.21it/s]"
          ]
        },
        {
          "name": "stdout",
          "output_type": "stream",
          "text": [
            "tensor(23382760.)\n"
          ]
        },
        {
          "name": "stderr",
          "output_type": "stream",
          "text": [
            "  2%|▏         | 203/10000 [00:07<05:47, 28.19it/s]"
          ]
        },
        {
          "name": "stdout",
          "output_type": "stream",
          "text": [
            "tensor(19010796.)\n"
          ]
        },
        {
          "name": "stderr",
          "output_type": "stream",
          "text": [
            "  3%|▎         | 302/10000 [00:11<06:15, 25.81it/s]"
          ]
        },
        {
          "name": "stdout",
          "output_type": "stream",
          "text": [
            "tensor(14638787.)\n"
          ]
        },
        {
          "name": "stderr",
          "output_type": "stream",
          "text": [
            "  4%|▍         | 403/10000 [00:14<05:43, 27.96it/s]"
          ]
        },
        {
          "name": "stdout",
          "output_type": "stream",
          "text": [
            "tensor(10271289.)\n"
          ]
        },
        {
          "name": "stderr",
          "output_type": "stream",
          "text": [
            "  5%|▌         | 502/10000 [00:18<05:46, 27.38it/s]"
          ]
        },
        {
          "name": "stdout",
          "output_type": "stream",
          "text": [
            "tensor(5915032.)\n"
          ]
        },
        {
          "name": "stderr",
          "output_type": "stream",
          "text": [
            "  6%|▌         | 604/10000 [00:22<05:42, 27.42it/s]"
          ]
        },
        {
          "name": "stdout",
          "output_type": "stream",
          "text": [
            "tensor(2385710.)\n"
          ]
        },
        {
          "name": "stderr",
          "output_type": "stream",
          "text": [
            "  7%|▋         | 698/10000 [00:25<05:43, 27.12it/s]\n"
          ]
        },
        {
          "ename": "KeyboardInterrupt",
          "evalue": "",
          "output_type": "error",
          "traceback": [
            "\u001b[1;31m---------------------------------------------------------------------------\u001b[0m",
            "\u001b[1;31mKeyboardInterrupt\u001b[0m                         Traceback (most recent call last)",
            "Cell \u001b[1;32mIn [62], line 7\u001b[0m\n\u001b[0;32m      2\u001b[0m \u001b[38;5;28;01mif\u001b[39;00m i \u001b[38;5;241m%\u001b[39m \u001b[38;5;241m100\u001b[39m \u001b[38;5;241m==\u001b[39m \u001b[38;5;241m0\u001b[39m:\n\u001b[0;32m      3\u001b[0m   \u001b[38;5;66;03m#display.clear_output(wait=True)\u001b[39;00m\n\u001b[0;32m      4\u001b[0m   \u001b[38;5;66;03m#plt.imshow(grid[0], cmap=\"Greys\", interpolation=\"nearest\", vmin=0, vmax=256)\u001b[39;00m\n\u001b[0;32m      5\u001b[0m   \u001b[38;5;66;03m#display.display(plt.gcf())\u001b[39;00m\n\u001b[0;32m      6\u001b[0m   \u001b[38;5;28mprint\u001b[39m(t\u001b[38;5;241m.\u001b[39msum(grid[\u001b[38;5;241m0\u001b[39m]))\n\u001b[1;32m----> 7\u001b[0m grid \u001b[38;5;241m=\u001b[39m \u001b[43mdiffuse\u001b[49m\u001b[43m(\u001b[49m\u001b[43mgrid\u001b[49m\u001b[43m,\u001b[49m\u001b[43m \u001b[49m\u001b[43mN\u001b[49m\u001b[43m,\u001b[49m\u001b[43m \u001b[49m\u001b[38;5;241;43m0.5\u001b[39;49m\u001b[43m,\u001b[49m\u001b[43m \u001b[49m\u001b[38;5;241;43m0.2\u001b[39;49m\u001b[43m)\u001b[49m\n\u001b[0;32m      8\u001b[0m grid \u001b[38;5;241m=\u001b[39m rho(grid, N, gamma, rate_coefficients, probability_funcs, num_reaction_channels\u001b[38;5;241m=\u001b[39m\u001b[38;5;241m6\u001b[39m)\n",
            "File \u001b[1;32mc:\\Users\\jsche\\University\\Thesis\\fhn_model\\diffusion.py:69\u001b[0m, in \u001b[0;36mdiffuse\u001b[1;34m(state, N, D_A, D_B)\u001b[0m\n\u001b[0;32m     68\u001b[0m \u001b[39mdef\u001b[39;00m \u001b[39mdiffuse\u001b[39m(state: t\u001b[39m.\u001b[39mTensor, N: \u001b[39mint\u001b[39m, D_A, D_B) \u001b[39m-\u001b[39m\u001b[39m>\u001b[39m t\u001b[39m.\u001b[39mTensor:\n\u001b[1;32m---> 69\u001b[0m     state, E \u001b[39m=\u001b[39m excite_particles(state, N)\n\u001b[0;32m     70\u001b[0m     \u001b[39m# translate the excited A species\u001b[39;00m\n\u001b[0;32m     71\u001b[0m     p_A \u001b[39m=\u001b[39m [\n\u001b[0;32m     72\u001b[0m         \u001b[39m1\u001b[39m \u001b[39m-\u001b[39m D_A,\n\u001b[0;32m     73\u001b[0m         \u001b[39m*\u001b[39m[D_A \u001b[39m*\u001b[39m (np\u001b[39m.\u001b[39msqrt(\u001b[39m2\u001b[39m) \u001b[39m-\u001b[39m \u001b[39m1\u001b[39m) \u001b[39m/\u001b[39m \u001b[39m4\u001b[39m \u001b[39mfor\u001b[39;00m i \u001b[39min\u001b[39;00m \u001b[39mrange\u001b[39m(\u001b[39m4\u001b[39m)],\n\u001b[0;32m     74\u001b[0m         \u001b[39m*\u001b[39m[D_A \u001b[39m*\u001b[39m (np\u001b[39m.\u001b[39msqrt(\u001b[39m2\u001b[39m) \u001b[39m-\u001b[39m \u001b[39m1\u001b[39m) \u001b[39m*\u001b[39m np\u001b[39m.\u001b[39msqrt(\u001b[39m2\u001b[39m) \u001b[39m/\u001b[39m \u001b[39m4\u001b[39m \u001b[39mfor\u001b[39;00m i \u001b[39min\u001b[39;00m \u001b[39mrange\u001b[39m(\u001b[39m4\u001b[39m)],\n\u001b[0;32m     75\u001b[0m     ]\n",
            "File \u001b[1;32mc:\\Users\\jsche\\University\\Thesis\\fhn_model\\diffusion.py:53\u001b[0m, in \u001b[0;36mexcite_particles\u001b[1;34m(state, N)\u001b[0m\n\u001b[0;32m     47\u001b[0m \u001b[39m\"\"\"\u001b[39;00m\n\u001b[0;32m     48\u001b[0m \u001b[39mReturns the adjusted Lattice + auxiliary grid of \"excited\" particles E.\u001b[39;00m\n\u001b[0;32m     49\u001b[0m \u001b[39m\"\"\"\u001b[39;00m\n\u001b[0;32m     50\u001b[0m grid_dim \u001b[39m=\u001b[39m state\u001b[39m.\u001b[39mshape[\u001b[39m-\u001b[39m\u001b[39m1\u001b[39m]\n\u001b[0;32m     51\u001b[0m Xi \u001b[39m=\u001b[39m (\n\u001b[0;32m     52\u001b[0m     uniform\u001b[39m.\u001b[39;49mUniform(\u001b[39m0\u001b[39;49m, \u001b[39m1\u001b[39;49m)\n\u001b[1;32m---> 53\u001b[0m     \u001b[39m.\u001b[39;49msample_n(\u001b[39m2\u001b[39;49m \u001b[39m*\u001b[39;49m (grid_dim\u001b[39m*\u001b[39;49m\u001b[39m*\u001b[39;49m\u001b[39m2\u001b[39;49m))\n\u001b[0;32m     54\u001b[0m     \u001b[39m.\u001b[39mreshape(\u001b[39m2\u001b[39m, grid_dim, grid_dim)\n\u001b[0;32m     55\u001b[0m )\n\u001b[0;32m     56\u001b[0m E \u001b[39m=\u001b[39m t\u001b[39m.\u001b[39mheaviside(state \u001b[39m-\u001b[39m N \u001b[39m*\u001b[39m Xi, values\u001b[39m=\u001b[39mt\u001b[39m.\u001b[39mzeros(state\u001b[39m.\u001b[39mshape))\n\u001b[0;32m     57\u001b[0m E[state\u001b[39m==\u001b[39m\u001b[39m0\u001b[39m] \u001b[39m=\u001b[39m \u001b[39m0\u001b[39m\n",
            "File \u001b[1;32mc:\\Users\\jsche\\anaconda3\\envs\\torchenv\\lib\\site-packages\\torch\\distributions\\distribution.py:168\u001b[0m, in \u001b[0;36mDistribution.sample_n\u001b[1;34m(self, n)\u001b[0m\n\u001b[0;32m    163\u001b[0m \u001b[39m\"\"\"\u001b[39;00m\n\u001b[0;32m    164\u001b[0m \u001b[39mGenerates n samples or n batches of samples if the distribution\u001b[39;00m\n\u001b[0;32m    165\u001b[0m \u001b[39mparameters are batched.\u001b[39;00m\n\u001b[0;32m    166\u001b[0m \u001b[39m\"\"\"\u001b[39;00m\n\u001b[0;32m    167\u001b[0m warnings\u001b[39m.\u001b[39mwarn(\u001b[39m'\u001b[39m\u001b[39msample_n will be deprecated. Use .sample((n,)) instead\u001b[39m\u001b[39m'\u001b[39m, \u001b[39mUserWarning\u001b[39;00m)\n\u001b[1;32m--> 168\u001b[0m \u001b[39mreturn\u001b[39;00m \u001b[39mself\u001b[39;49m\u001b[39m.\u001b[39;49msample(torch\u001b[39m.\u001b[39;49mSize((n,)))\n",
            "File \u001b[1;32mc:\\Users\\jsche\\anaconda3\\envs\\torchenv\\lib\\site-packages\\torch\\distributions\\distribution.py:152\u001b[0m, in \u001b[0;36mDistribution.sample\u001b[1;34m(self, sample_shape)\u001b[0m\n\u001b[0;32m    147\u001b[0m \u001b[39m\"\"\"\u001b[39;00m\n\u001b[0;32m    148\u001b[0m \u001b[39mGenerates a sample_shape shaped sample or sample_shape shaped batch of\u001b[39;00m\n\u001b[0;32m    149\u001b[0m \u001b[39msamples if the distribution parameters are batched.\u001b[39;00m\n\u001b[0;32m    150\u001b[0m \u001b[39m\"\"\"\u001b[39;00m\n\u001b[0;32m    151\u001b[0m \u001b[39mwith\u001b[39;00m torch\u001b[39m.\u001b[39mno_grad():\n\u001b[1;32m--> 152\u001b[0m     \u001b[39mreturn\u001b[39;00m \u001b[39mself\u001b[39;49m\u001b[39m.\u001b[39;49mrsample(sample_shape)\n",
            "File \u001b[1;32mc:\\Users\\jsche\\anaconda3\\envs\\torchenv\\lib\\site-packages\\torch\\distributions\\uniform.py:75\u001b[0m, in \u001b[0;36mUniform.rsample\u001b[1;34m(self, sample_shape)\u001b[0m\n\u001b[0;32m     73\u001b[0m \u001b[39mdef\u001b[39;00m \u001b[39mrsample\u001b[39m(\u001b[39mself\u001b[39m, sample_shape\u001b[39m=\u001b[39mtorch\u001b[39m.\u001b[39mSize()):\n\u001b[0;32m     74\u001b[0m     shape \u001b[39m=\u001b[39m \u001b[39mself\u001b[39m\u001b[39m.\u001b[39m_extended_shape(sample_shape)\n\u001b[1;32m---> 75\u001b[0m     rand \u001b[39m=\u001b[39m torch\u001b[39m.\u001b[39;49mrand(shape, dtype\u001b[39m=\u001b[39;49m\u001b[39mself\u001b[39;49m\u001b[39m.\u001b[39;49mlow\u001b[39m.\u001b[39;49mdtype, device\u001b[39m=\u001b[39;49m\u001b[39mself\u001b[39;49m\u001b[39m.\u001b[39;49mlow\u001b[39m.\u001b[39;49mdevice)\n\u001b[0;32m     76\u001b[0m     \u001b[39mreturn\u001b[39;00m \u001b[39mself\u001b[39m\u001b[39m.\u001b[39mlow \u001b[39m+\u001b[39m rand \u001b[39m*\u001b[39m (\u001b[39mself\u001b[39m\u001b[39m.\u001b[39mhigh \u001b[39m-\u001b[39m \u001b[39mself\u001b[39m\u001b[39m.\u001b[39mlow)\n",
            "\u001b[1;31mKeyboardInterrupt\u001b[0m: "
          ]
        }
      ],
      "source": [
        "for i in tqdm(range(10_000)):\n",
        "  if i % 100 == 0:\n",
        "    #display.clear_output(wait=True)\n",
        "    #plt.imshow(grid[0], cmap=\"Greys\", interpolation=\"nearest\", vmin=0, vmax=256)\n",
        "    #display.display(plt.gcf())\n",
        "    print(t.sum(grid[0]))\n",
        "  grid = diffuse(grid, N, 0.5, 0.2)\n",
        "  grid = rho(grid, N, gamma, rate_coefficients, probability_funcs, num_reaction_channels=6)"
      ]
    },
    {
      "cell_type": "code",
      "execution_count": null,
      "metadata": {
        "id": "6F2CnYKpBNHg"
      },
      "outputs": [],
      "source": []
    }
  ],
  "metadata": {
    "colab": {
      "authorship_tag": "ABX9TyPcecriRbSTnvTI0DtOCaws",
      "collapsed_sections": [],
      "include_colab_link": true,
      "provenance": []
    },
    "kernelspec": {
      "display_name": "Python 3.10.6 ('torchenv')",
      "language": "python",
      "name": "python3"
    },
    "language_info": {
      "codemirror_mode": {
        "name": "ipython",
        "version": 3
      },
      "file_extension": ".py",
      "mimetype": "text/x-python",
      "name": "python",
      "nbconvert_exporter": "python",
      "pygments_lexer": "ipython3",
      "version": "3.10.6"
    },
    "vscode": {
      "interpreter": {
        "hash": "b773d0058f1b8f5f38d2d60a234a90a3b3eb0d051bd1b60d95552e21f147b9b6"
      }
    }
  },
  "nbformat": 4,
  "nbformat_minor": 0
}
