{
  "cells": [
    {
      "cell_type": "markdown",
      "metadata": {
        "colab_type": "text",
        "id": "view-in-github"
      },
      "source": [
        "<a href=\"https://colab.research.google.com/github/JanSchering/Thesis/blob/main/fitzhugh_kapral.ipynb\" target=\"_parent\"><img src=\"https://colab.research.google.com/assets/colab-badge.svg\" alt=\"Open In Colab\"/></a>"
      ]
    },
    {
      "cell_type": "markdown",
      "metadata": {
        "id": "ma9-whXe-QVt"
      },
      "source": [
        "# [Microscopic model for FitzHugh-Nagumo dynamics](https://journals.aps.org/pre/pdf/10.1103/PhysRevE.55.5657)\n",
        "\n",
        "original Fitzhugh-Nagumo equation:\n",
        "\n",
        "$$\n",
        "u_\\tau = -u^3 + u - v \\\\\n",
        "v_\\tau = \\epsilon(u - \\alpha v - \\beta)\n",
        "$$\n",
        "\n",
        "Spatially distributed form:\n",
        "\n",
        "$$\n",
        "u_\\tau = -u^3 + u - v + D_u \\nabla^2 u \\\\\n",
        "v_\\tau = \\epsilon(u - \\alpha v - \\beta) D_v \\nabla^2 v\n",
        "$$\n",
        "\n",
        "This paper:  depart from the standard interpretation of the\n",
        "FitzHugh-Nagumo (FHN) model in terms of nerve impulse\n",
        "physiology and devise a chemical scheme whose mass-action\n",
        "law is the FHN equation. The goal is to construct a microscopic collision dynamics corresponding to the\n",
        "mechanism and implement it in the context of a lattice-gas\n",
        "automaton."
      ]
    },
    {
      "cell_type": "markdown",
      "metadata": {
        "id": "EqeDrrEFA4r3"
      },
      "source": [
        "## Fitzhugh-Nagumo reaction kinetics\n",
        "\n"
      ]
    },
    {
      "cell_type": "markdown",
      "metadata": {
        "id": "Rn4Y7kJXCE0O"
      },
      "source": [
        "## Lattice-Gas Model\n",
        "\n",
        "Once a chemical mechanism is known it is possible to\n",
        "devise a microscopic reactive collision dynamics that accounts for the steps in the mechanism. In the paper, the mechanism is implemented as a reactive lattice-gas automaton. \n",
        "\n",
        "### Notation\n",
        "\n",
        "- $\\mathcal{L}$: The coordinate space of the model. A regular Bravais lattice is used\n",
        "- $\\mathcal{l}$: An elementary site on the lattice\n",
        "- $\\mathcal{B}$: The space of all possible site conffigurations\n",
        "- each site $\\mathcal{l}$ can be occupied by a number of particles\n",
        "  - the occupation numbers of different species are independent\n",
        "  - it follows that $\\mathcal{B}$ is a direct product of particle states\n"
      ]
    },
    {
      "cell_type": "markdown",
      "metadata": {
        "id": "pPezQL0nT89_"
      },
      "source": [
        "### Brownian Motion\n",
        "\n",
        "The model uses an additional \"excited\" substate $\\mathbb{E}$. Motion then works through a 3-step algorithm:\n",
        "\n",
        "1. Transfer at most 1 particle per side to the excited state, with a probability depending on the site occupation number\n",
        "2. Translate the excited particles in a random direction chosen from a set of directions $V={v_1,\\dots, v_k}$\n",
        "3. Accomodate the excited particles at their new locations\n",
        "\n",
        "-> Two restrictions immediately follow from our definition.\n",
        "- Only $N$ particles of a species can reside at a site ==> $p(N)=1$\n",
        "- We can't create excited particles out of nothing ==> $p(0)=0$\n",
        "\n",
        "We can specify this algorithm using the example of translating particles of a species $A$:\n",
        "\n",
        "The lattice state is defined by the substates of the species $A$, $\\mathbb{A}$ and the auxiliary excited species E, $\\mathbb{E}$.\n",
        "\n",
        "$$\\mathbb{L}=(\\mathbb{A},\\mathbb{E})$$\n",
        "\n",
        "If we define the maximum occupation number as $N$, then we can express the algorithm as:\n",
        "\n",
        "$$\n",
        "\\mathcal{D} = \\mathcal{C}_\\alpha \\circ \\mathcal{T}_v \\circ \\mathcal{C}_\\tau\n",
        "$$\n",
        "\n",
        "**$\\mathcal{C}_\\tau$** \n",
        "****\n",
        "\n",
        "$\\mathcal{C}_\\tau$ is a lattice operator corresponding to 1. (transfer a particle to the \"excited\" state). The lattice operator defines the application of the following site operator independently at each site $\\mathcal{l}=(n,e)$, where $n$ is the number of molecules of species $A$ at site $\\mathcal{l}$ and $e$ is the number of excited particles at site $\\mathcal{l}$:\n",
        "\n",
        "$$\n",
        "\\tau(n,e) = \\textbf{(} (n-\\theta(n-N\\xi)),\\theta(n-N\\xi)\\textbf{)}\n",
        "$$\n",
        "\n",
        "Here, $\\theta$ is the heaviside function and $\\xi$ is a continuous uniform random variable on (0,1).\n",
        "\n",
        "**$\\mathcal{T}_v$**\n",
        "****\n",
        "Translate $\\mathbb{E}$ into a random direction $v$. Corresponds to 2.\n",
        "\n",
        "**$\\mathcal{C}_\\alpha$**\n",
        "****\n",
        "$\\mathcal{C}_\\alpha$ is a lattice operator that corresponds to 3. (\"Accomodate the excited particles at their new locations\"). It defines the application of the following site operator to each site $\\mathcal{l}$:\n",
        "\n",
        "$$\n",
        "\\alpha(n,e) = \\textbf{(} (n+e), (0) \\textbf{)}\n",
        "$$"
      ]
    },
    {
      "cell_type": "code",
      "execution_count": 1,
      "metadata": {
        "id": "oGss6fsjLwpd"
      },
      "outputs": [
        {
          "name": "stderr",
          "output_type": "stream",
          "text": [
            "c:\\Users\\jsche\\anaconda3\\envs\\torch\\lib\\site-packages\\tqdm\\auto.py:22: TqdmWarning: IProgress not found. Please update jupyter and ipywidgets. See https://ipywidgets.readthedocs.io/en/stable/user_install.html\n",
            "  from .autonotebook import tqdm as notebook_tqdm\n"
          ]
        }
      ],
      "source": [
        "from typing import Tuple, List\n",
        "from enum import Enum\n",
        "import torch as t\n",
        "from torch.distributions import uniform\n",
        "import random\n",
        "from IPython.display import Image\n",
        "from IPython import display\n",
        "import matplotlib.pyplot as plt\n",
        "import time\n",
        "from tqdm import tqdm\n",
        "from diffusion import Direction2D, diffuse, translate, excite_particles"
      ]
    },
    {
      "cell_type": "code",
      "execution_count": 3,
      "metadata": {
        "colab": {
          "base_uri": "https://localhost:8080/"
        },
        "id": "CdzSHAnuRb-4",
        "outputId": "483473f5-5db8-4cfd-9b66-949c91ab043a"
      },
      "outputs": [
        {
          "name": "stdout",
          "output_type": "stream",
          "text": [
            "tensor([[1., 0., 0.],\n",
            "        [1., 1., 0.],\n",
            "        [0., 0., 0.]])\n"
          ]
        },
        {
          "data": {
            "text/plain": [
              "tensor([[1., 0., 1.],\n",
              "        [0., 0., 0.],\n",
              "        [0., 0., 1.]])"
            ]
          },
          "execution_count": 3,
          "metadata": {},
          "output_type": "execute_result"
        }
      ],
      "source": [
        "state = t.zeros((3,3))\n",
        "state[0,0] = 1\n",
        "state[1,0] = 1\n",
        "state[1,1] = 1\n",
        "print(state)\n",
        "\n",
        "translate(state, Direction2D.North_West)"
      ]
    },
    {
      "cell_type": "code",
      "execution_count": 5,
      "metadata": {
        "colab": {
          "base_uri": "https://localhost:8080/"
        },
        "id": "IEuLtJvdCK8m",
        "outputId": "b7ca84ea-c5f6-455a-ae0e-5137999dc638"
      },
      "outputs": [
        {
          "name": "stdout",
          "output_type": "stream",
          "text": [
            "tensor([[  0.,   0.,   0.],\n",
            "        [  0., 250.,   0.],\n",
            "        [  0.,   0.,   0.]])\n",
            "tensor([[  0.,   0.,   0.],\n",
            "        [  0., 249.,   1.],\n",
            "        [  0.,   0.,   0.]])\n",
            "tensor([[  0.,   0.,   0.],\n",
            "        [  0., 249.,   1.],\n",
            "        [  0.,   0.,   0.]])\n",
            "tensor([[  0.,   0.,   0.],\n",
            "        [  0., 249.,   1.],\n",
            "        [  0.,   0.,   0.]])\n",
            "tensor([[  0.,   0.,   0.],\n",
            "        [  0., 249.,   1.],\n",
            "        [  0.,   0.,   0.]])\n",
            "tensor([[  0.,   0.,   0.],\n",
            "        [  0., 249.,   1.],\n",
            "        [  0.,   0.,   0.]])\n",
            "tensor([[  0.,   0.,   0.],\n",
            "        [  0., 248.,   1.],\n",
            "        [  0.,   1.,   0.]])\n",
            "tensor([[  0.,   0.,   0.],\n",
            "        [  0., 247.,   1.],\n",
            "        [  0.,   2.,   0.]])\n",
            "tensor([[  0.,   0.,   0.],\n",
            "        [  0., 247.,   1.],\n",
            "        [  0.,   2.,   0.]])\n",
            "tensor([[  0.,   0.,   0.],\n",
            "        [  1., 246.,   1.],\n",
            "        [  0.,   2.,   0.]])\n",
            "tensor([[  0.,   0.,   0.],\n",
            "        [  1., 246.,   1.],\n",
            "        [  0.,   2.,   0.]])\n",
            "tensor([[  0.,   0.,   0.],\n",
            "        [  1., 246.,   1.],\n",
            "        [  0.,   2.,   0.]])\n",
            "tensor([[  0.,   0.,   0.],\n",
            "        [  1., 245.,   2.],\n",
            "        [  0.,   2.,   0.]])\n",
            "tensor([[  0.,   0.,   0.],\n",
            "        [  1., 245.,   2.],\n",
            "        [  0.,   2.,   0.]])\n",
            "tensor([[  0.,   0.,   0.],\n",
            "        [  1., 244.,   2.],\n",
            "        [  1.,   2.,   0.]])\n",
            "tensor([[  0.,   0.,   0.],\n",
            "        [  1., 243.,   3.],\n",
            "        [  1.,   2.,   0.]])\n",
            "tensor([[  0.,   0.,   0.],\n",
            "        [  1., 243.,   3.],\n",
            "        [  1.,   2.,   0.]])\n",
            "tensor([[  0.,   1.,   0.],\n",
            "        [  1., 242.,   3.],\n",
            "        [  1.,   2.,   0.]])\n",
            "tensor([[  0.,   1.,   0.],\n",
            "        [  1., 242.,   3.],\n",
            "        [  1.,   2.,   0.]])\n",
            "tensor([[  1.,   1.,   0.],\n",
            "        [  1., 241.,   3.],\n",
            "        [  1.,   2.,   0.]])\n"
          ]
        },
        {
          "name": "stderr",
          "output_type": "stream",
          "text": [
            "c:\\Users\\jsche\\anaconda3\\envs\\torch\\lib\\site-packages\\torch\\distributions\\distribution.py:159: UserWarning: sample_n will be deprecated. Use .sample((n,)) instead\n",
            "  warnings.warn('sample_n will be deprecated. Use .sample((n,)) instead', UserWarning)\n"
          ]
        }
      ],
      "source": [
        "grid = t.zeros((2,3,3))\n",
        "grid[:,1,1] = 250\n",
        "for i in range(20):\n",
        "  grid = diffuse(grid, 256, 0.5, 0.5)\n",
        "  print(grid[0])"
      ]
    },
    {
      "cell_type": "code",
      "execution_count": 11,
      "metadata": {
        "colab": {
          "base_uri": "https://localhost:8080/"
        },
        "id": "G-cYYRgPDVpl",
        "outputId": "41fd1516-5873-423a-a2d6-23ad4fac80d3"
      },
      "outputs": [
        {
          "name": "stdout",
          "output_type": "stream",
          "text": [
            "tensor(300000.)\n"
          ]
        }
      ],
      "source": [
        "grid = t.zeros((2,50,50))\n",
        "grid[:,15:30] = 200\n",
        "print(t.sum(grid))"
      ]
    },
    {
      "cell_type": "code",
      "execution_count": 12,
      "metadata": {
        "colab": {
          "base_uri": "https://localhost:8080/",
          "height": 553
        },
        "id": "WFIumvX7B7bC",
        "outputId": "352d9c44-99aa-45fd-cddd-51f0e25c699a"
      },
      "outputs": [
        {
          "data": {
            "image/png": "[encoded data removed]",
            "text/plain": [
              "<Figure size 432x288 with 1 Axes>"
            ]
          },
          "metadata": {},
          "output_type": "display_data"
        },
        {
          "data": {
            "text/plain": [
              "tensor(300000.)"
            ]
          },
          "execution_count": 12,
          "metadata": {},
          "output_type": "execute_result"
        },
        {
          "data": {
            "image/png": "[encoded data removed]",
            "text/plain": [
              "<Figure size 432x288 with 1 Axes>"
            ]
          },
          "metadata": {
            "needs_background": "light"
          },
          "output_type": "display_data"
        }
      ],
      "source": [
        "N = 256 \n",
        "for i in range(10_000):\n",
        "  if i % 100 == 0:\n",
        "    display.clear_output(wait=True)\n",
        "    plt.imshow(grid[0], cmap=\"Greys\", interpolation=\"nearest\", vmin=0, vmax=256)\n",
        "    display.display(plt.gcf())\n",
        "  grid = diffuse(grid, N, 0.5, 0.5)\n",
        "t.sum(grid)"
      ]
    },
    {
      "cell_type": "markdown",
      "metadata": {
        "id": "xXsnRqliL9Mp"
      },
      "source": [
        "## Reactive Dynamics\n",
        "\n",
        "The lattice state $\\mathbb{L}$ is given by $\\mathbb{L} = (\\mathbb{A}, \\mathbb{B})$. Each lattice site $\\mathcal{l}$ is then defined by the occupation numbers\n",
        "$\\mathcal{l} = (n,m)$, where $n$ is the number of particles of species A and $m$ the number of particles of species B currently residing at site $\\mathcal{l}$.\n",
        "\n",
        "The reaction rule is carried out by randomly choosing one of 6 possible reaction channels ($r=6$). Each channel is assigned an equal weight in the choice. The reactive dynamics arise from birth-death processes based on the 6 possible reaction channels. The probability of a reaction also depends on the chosen channel and is given by:\n",
        "\n",
        "$$\n",
        "p_1(n,m) = \\gamma \\overline{k_1} n (n-1)(N-n) \\\\\n",
        "p_2(n,m) = \\gamma \\overline{k^*_1} n (N-n) (N-1-n) \\\\\n",
        "p_3(n,m) = \\gamma \\overline{k_2} (N-n)m \\\\\n",
        "p_4(n,m) = \\gamma \\overline{k^*_2} n(N-m) \\\\\n",
        "p_5(n,m) = \\gamma \\overline{k^*_3} (N-n)(N-m) \\\\ \n",
        "p_6(n,m) = \\gamma \\overline{k_3}n m\n",
        "$$\n",
        "\n",
        "- $\\gamma$ is a scale factor that controls the timescale of the reaction \n",
        "- $\\overline{k_1} = k_1 / [(N-1)(N-2)]$\n",
        "- $\\overline{k_1^*} = k_1^* / [(N-1)(N-2)]$\n",
        "- $\\overline{k_2} = k_2 / N$\n",
        "- $\\overline{k_2^*} = k_2^* / N$\n",
        "- $\\overline{k_3} = k_3 / N$\n",
        "- $\\overline{k_3^*} = k_3^* / N$\n",
        "\n",
        "where $k_i$ and $k_i^*$ are the reaction rate coefficients.\n",
        "\n",
        "****\n",
        "\n",
        "We can use the probabilities to define the site operators for the reactive dynamics. Let $\\xi$ be a random continuous uniform variable on (0,1), then:\n",
        "\n",
        "$$\n",
        "\\sigma_1(n,m) = (n + \\theta(p_1 - \\xi), m) \\\\\n",
        "\\sigma_2(n,m) = (n - \\theta(p_2 - \\xi), m) \\\\\n",
        "\\sigma_3(n,m) = (n + \\theta(p_3 - \\xi), m) \\\\\n",
        "\\sigma_4(n,m) = (n - \\theta(p_4 - \\xi), m) \\\\\n",
        "\\sigma_5(n,m) = (n, m + \\theta(p_5 - \\xi)) \\\\\n",
        "\\sigma_6(n,m) = (n, m - \\theta(p_6 - \\xi))\n",
        "$$\n",
        "\n",
        "We can combine these operators into a site operator for the local reaction rule. Let $\\nu$ be a discrete random variable on the domain $\\{1,\\dots,r\\}$, then:\n",
        "\n",
        "$$\n",
        "\\rho(n,m) = \\sum_{j=1}^6 \\delta_{\\nu j} \\sigma_j(n,m)\n",
        "$$\n",
        "\n",
        "where $\\delta_{\\nu j}$ is the kronecker delta and is equal to 1 if $j = \\nu$, 0 otherwise."
      ]
    },
    {
      "cell_type": "code",
      "execution_count": null,
      "metadata": {
        "id": "9IpBF5U6KyUx"
      },
      "outputs": [],
      "source": [
        "def p1(state:t.Tensor, N:int, gamma:float, k1:float) -> t.Tensor:\n",
        "  n = state[0]\n",
        "  m = state[1]\n",
        "  k1_bar = k1 / ((N-1) * (N-2))\n",
        "  return gamma * k1_bar * n * (n-1) * (N - n)\n",
        "\n",
        "def p2(state:t.Tensor, N:int, gamma:float, k1_star:float) -> t.Tensor:\n",
        "  n = state[0]\n",
        "  m = state[1]\n",
        "  k1_star_bar = k1_star /  ((N-1) * (N-2))\n",
        "  return gamma * k1_star_bar * n * (N-n) * (N-1-n)\n",
        "\n",
        "def p3(state:t.Tensor, N:int, gamma:float, k2:float) -> t.Tensor:\n",
        "  n = state[0]\n",
        "  m = state[1]\n",
        "  k2_bar = k2 / N\n",
        "  return gamma * k2_bar * (N - n) * m\n",
        "\n",
        "def p4(state:t.Tensor, N:int, gamma:float, k2_star:float) -> t.Tensor:\n",
        "  n = state[0]\n",
        "  m = state[1]\n",
        "  k2_star_bar = k2_star / N\n",
        "  return gamma * k2_star_bar * n * (N - m)\n",
        "\n",
        "def p5(state:t.Tensor, N:int, gamma:float, k3:float) -> t.Tensor:\n",
        "  n = state[0]\n",
        "  m = state[1]\n",
        "  k3_bar = k3 / N\n",
        "  return gamma * k3_bar * (N - n) * (N - m)\n",
        "\n",
        "def p6(state:t.Tensor, N:int, gamma:float, k3_star:float) -> t.Tensor:\n",
        "  n = state[0]\n",
        "  m = state[1]\n",
        "  k3_star_bar = k3_star / N\n",
        "  return gamma * k3_star_bar * n * m\n",
        "\n",
        "probability_funcs = [p1,p2,p3,p4,p5,p6]"
      ]
    },
    {
      "cell_type": "code",
      "execution_count": null,
      "metadata": {
        "id": "aANUuHl6o1AW"
      },
      "outputs": [],
      "source": [
        "def sigma(state:t.Tensor, channel:int, N:int, gamma:float, rate_coefficients: List[float]):\n",
        "  grid_dim = state.shape[-1]\n",
        "  rate_coefficient = rate_coefficients[channel]\n",
        "  reaction_prob = probability_funcs[channel](state, gamma, N, rate_coefficient)\n",
        "  threshold = uniform.Uniform(0,1).sample_n(grid_dim**2).reshape(grid_dim, grid_dim)\n",
        "  if channel == 0 or channel == 2:\n",
        "    state[0] = state[0] + t.heaviside(reaction_prob - threshold, values=t.zeros(grid_dim, grid_dim))\n",
        "  elif channel == 1 or channel == 3:\n",
        "    state[0] = state[0] - t.heaviside(reaction_prob - threshold, values=t.zeros(grid_dim, grid_dim))\n",
        "  elif channel == 4:\n",
        "    state[1] = state[1] + t.heaviside(reaction_prob - threshold, values=t.zeros(grid_dim, grid_dim))\n",
        "  elif channel == 5:\n",
        "    state[1] = state[1] - t.heaviside(reaction_prob - threshold, values=t.zeros(grid_dim, grid_dim))\n",
        "  return state"
      ]
    },
    {
      "cell_type": "code",
      "execution_count": null,
      "metadata": {
        "id": "QfMpkJYak5Xd"
      },
      "outputs": [],
      "source": [
        "def rho(state:t.Tensor, N:int, gamma:float, rate_coefficients: List[float]):\n",
        "  channel = t.randint_like()\n",
        "  channel = random.randint(0,5)\n",
        "  return sigma(state, channel, N, gamma, rate_coefficients)"
      ]
    },
    {
      "cell_type": "code",
      "execution_count": null,
      "metadata": {
        "colab": {
          "base_uri": "https://localhost:8080/",
          "height": 913
        },
        "id": "o9_B2SbS66j6",
        "outputId": "6b639c79-b25c-4dba-8447-191594a9f3f5"
      },
      "outputs": [
        {
          "data": {
            "image/png": "[encoded data removed]",
            "text/plain": [
              "<Figure size 432x288 with 1 Axes>"
            ]
          },
          "metadata": {},
          "output_type": "display_data"
        },
        {
          "name": "stderr",
          "output_type": "stream",
          "text": [
            " 12%|█▏        | 1210/10000 [01:22<09:57, 14.71it/s]\n"
          ]
        },
        {
          "ename": "KeyboardInterrupt",
          "evalue": "ignored",
          "output_type": "error",
          "traceback": [
            "\u001b[0;31m---------------------------------------------------------------------------\u001b[0m",
            "\u001b[0;31mKeyboardInterrupt\u001b[0m                         Traceback (most recent call last)",
            "\u001b[0;32m<ipython-input-90-102c5ba775fb>\u001b[0m in \u001b[0;36m<module>\u001b[0;34m\u001b[0m\n\u001b[1;32m     10\u001b[0m     \u001b[0mdisplay\u001b[0m\u001b[0;34m.\u001b[0m\u001b[0mdisplay\u001b[0m\u001b[0;34m(\u001b[0m\u001b[0mplt\u001b[0m\u001b[0;34m.\u001b[0m\u001b[0mgcf\u001b[0m\u001b[0;34m(\u001b[0m\u001b[0;34m)\u001b[0m\u001b[0;34m)\u001b[0m\u001b[0;34m\u001b[0m\u001b[0;34m\u001b[0m\u001b[0m\n\u001b[1;32m     11\u001b[0m   \u001b[0mgrid\u001b[0m \u001b[0;34m=\u001b[0m \u001b[0mrho\u001b[0m\u001b[0;34m(\u001b[0m\u001b[0mgrid\u001b[0m\u001b[0;34m,\u001b[0m \u001b[0mN\u001b[0m\u001b[0;34m,\u001b[0m \u001b[0mgamma\u001b[0m\u001b[0;34m,\u001b[0m \u001b[0mrate_coefficients\u001b[0m\u001b[0;34m)\u001b[0m\u001b[0;34m\u001b[0m\u001b[0;34m\u001b[0m\u001b[0m\n\u001b[0;32m---> 12\u001b[0;31m   \u001b[0mgrid\u001b[0m \u001b[0;34m=\u001b[0m \u001b[0mdiffuse\u001b[0m\u001b[0;34m(\u001b[0m\u001b[0mgrid\u001b[0m\u001b[0;34m,\u001b[0m \u001b[0mN\u001b[0m\u001b[0;34m)\u001b[0m\u001b[0;34m\u001b[0m\u001b[0;34m\u001b[0m\u001b[0m\n\u001b[0m\u001b[1;32m     13\u001b[0m   \u001b[0;31m#display.clear_output(wait=True)\u001b[0m\u001b[0;34m\u001b[0m\u001b[0;34m\u001b[0m\u001b[0;34m\u001b[0m\u001b[0m\n\u001b[1;32m     14\u001b[0m   \u001b[0;31m#time.sleep(0.02)\u001b[0m\u001b[0;34m\u001b[0m\u001b[0;34m\u001b[0m\u001b[0;34m\u001b[0m\u001b[0m\n",
            "\u001b[0;32m<ipython-input-20-cf9614163613>\u001b[0m in \u001b[0;36mdiffuse\u001b[0;34m(state, N)\u001b[0m\n\u001b[1;32m      1\u001b[0m \u001b[0;32mdef\u001b[0m \u001b[0mdiffuse\u001b[0m\u001b[0;34m(\u001b[0m\u001b[0mstate\u001b[0m\u001b[0;34m:\u001b[0m\u001b[0mt\u001b[0m\u001b[0;34m.\u001b[0m\u001b[0mTensor\u001b[0m\u001b[0;34m,\u001b[0m \u001b[0mN\u001b[0m\u001b[0;34m:\u001b[0m\u001b[0mint\u001b[0m\u001b[0;34m)\u001b[0m \u001b[0;34m->\u001b[0m \u001b[0mt\u001b[0m\u001b[0;34m.\u001b[0m\u001b[0mTensor\u001b[0m\u001b[0;34m:\u001b[0m\u001b[0;34m\u001b[0m\u001b[0;34m\u001b[0m\u001b[0m\n\u001b[0;32m----> 2\u001b[0;31m   \u001b[0mstate\u001b[0m\u001b[0;34m,\u001b[0m \u001b[0mE\u001b[0m \u001b[0;34m=\u001b[0m \u001b[0mexcite_particles\u001b[0m\u001b[0;34m(\u001b[0m\u001b[0mstate\u001b[0m\u001b[0;34m,\u001b[0m \u001b[0mN\u001b[0m\u001b[0;34m)\u001b[0m\u001b[0;34m\u001b[0m\u001b[0;34m\u001b[0m\u001b[0m\n\u001b[0m\u001b[1;32m      3\u001b[0m   \u001b[0mdirection\u001b[0m \u001b[0;34m=\u001b[0m \u001b[0mrandom\u001b[0m\u001b[0;34m.\u001b[0m\u001b[0mchoice\u001b[0m\u001b[0;34m(\u001b[0m\u001b[0mlist\u001b[0m\u001b[0;34m(\u001b[0m\u001b[0mDirection2D\u001b[0m\u001b[0;34m)\u001b[0m\u001b[0;34m)\u001b[0m\u001b[0;34m\u001b[0m\u001b[0;34m\u001b[0m\u001b[0m\n\u001b[1;32m      4\u001b[0m   \u001b[0mE\u001b[0m \u001b[0;34m=\u001b[0m \u001b[0mtranslate\u001b[0m\u001b[0;34m(\u001b[0m\u001b[0mE\u001b[0m\u001b[0;34m,\u001b[0m \u001b[0mdirection\u001b[0m\u001b[0;34m)\u001b[0m\u001b[0;34m\u001b[0m\u001b[0;34m\u001b[0m\u001b[0m\n\u001b[1;32m      5\u001b[0m   \u001b[0mstate\u001b[0m \u001b[0;34m=\u001b[0m \u001b[0maccomodate_particles\u001b[0m\u001b[0;34m(\u001b[0m\u001b[0mstate\u001b[0m\u001b[0;34m,\u001b[0m \u001b[0mE\u001b[0m\u001b[0;34m)\u001b[0m\u001b[0;34m\u001b[0m\u001b[0;34m\u001b[0m\u001b[0m\n",
            "\u001b[0;32m<ipython-input-77-b6f2118e8c66>\u001b[0m in \u001b[0;36mexcite_particles\u001b[0;34m(state, N)\u001b[0m\n\u001b[1;32m      4\u001b[0m   \"\"\"\n\u001b[1;32m      5\u001b[0m   \u001b[0mgrid_dim\u001b[0m \u001b[0;34m=\u001b[0m  \u001b[0mstate\u001b[0m\u001b[0;34m.\u001b[0m\u001b[0mshape\u001b[0m\u001b[0;34m[\u001b[0m\u001b[0;34m-\u001b[0m\u001b[0;36m1\u001b[0m\u001b[0;34m]\u001b[0m\u001b[0;34m\u001b[0m\u001b[0;34m\u001b[0m\u001b[0m\n\u001b[0;32m----> 6\u001b[0;31m   \u001b[0mXi\u001b[0m \u001b[0;34m=\u001b[0m \u001b[0muniform\u001b[0m\u001b[0;34m.\u001b[0m\u001b[0mUniform\u001b[0m\u001b[0;34m(\u001b[0m\u001b[0;36m0\u001b[0m\u001b[0;34m,\u001b[0m\u001b[0;36m1\u001b[0m\u001b[0;34m)\u001b[0m\u001b[0;34m.\u001b[0m\u001b[0msample_n\u001b[0m\u001b[0;34m(\u001b[0m\u001b[0;36m2\u001b[0m\u001b[0;34m*\u001b[0m\u001b[0;34m(\u001b[0m\u001b[0mgrid_dim\u001b[0m\u001b[0;34m**\u001b[0m\u001b[0;36m2\u001b[0m\u001b[0;34m)\u001b[0m\u001b[0;34m)\u001b[0m\u001b[0;34m.\u001b[0m\u001b[0mreshape\u001b[0m\u001b[0;34m(\u001b[0m\u001b[0;36m2\u001b[0m\u001b[0;34m,\u001b[0m\u001b[0mgrid_dim\u001b[0m\u001b[0;34m,\u001b[0m\u001b[0mgrid_dim\u001b[0m\u001b[0;34m)\u001b[0m\u001b[0;34m\u001b[0m\u001b[0;34m\u001b[0m\u001b[0m\n\u001b[0m\u001b[1;32m      7\u001b[0m   \u001b[0mE\u001b[0m \u001b[0;34m=\u001b[0m \u001b[0mt\u001b[0m\u001b[0;34m.\u001b[0m\u001b[0mheaviside\u001b[0m\u001b[0;34m(\u001b[0m\u001b[0mstate\u001b[0m \u001b[0;34m-\u001b[0m \u001b[0mN\u001b[0m \u001b[0;34m*\u001b[0m \u001b[0mXi\u001b[0m\u001b[0;34m,\u001b[0m \u001b[0mvalues\u001b[0m\u001b[0;34m=\u001b[0m\u001b[0mt\u001b[0m\u001b[0;34m.\u001b[0m\u001b[0mzeros\u001b[0m\u001b[0;34m(\u001b[0m\u001b[0mstate\u001b[0m\u001b[0;34m.\u001b[0m\u001b[0mshape\u001b[0m\u001b[0;34m)\u001b[0m\u001b[0;34m)\u001b[0m\u001b[0;34m\u001b[0m\u001b[0;34m\u001b[0m\u001b[0m\n\u001b[1;32m      8\u001b[0m   \u001b[0;32mreturn\u001b[0m \u001b[0mstate\u001b[0m \u001b[0;34m-\u001b[0m \u001b[0mE\u001b[0m\u001b[0;34m,\u001b[0m \u001b[0mE\u001b[0m\u001b[0;34m\u001b[0m\u001b[0;34m\u001b[0m\u001b[0m\n",
            "\u001b[0;32m/usr/local/lib/python3.7/dist-packages/torch/distributions/distribution.py\u001b[0m in \u001b[0;36msample_n\u001b[0;34m(self, n)\u001b[0m\n\u001b[1;32m    165\u001b[0m         \"\"\"\n\u001b[1;32m    166\u001b[0m         \u001b[0mwarnings\u001b[0m\u001b[0;34m.\u001b[0m\u001b[0mwarn\u001b[0m\u001b[0;34m(\u001b[0m\u001b[0;34m'sample_n will be deprecated. Use .sample((n,)) instead'\u001b[0m\u001b[0;34m,\u001b[0m \u001b[0mUserWarning\u001b[0m\u001b[0;34m)\u001b[0m\u001b[0;34m\u001b[0m\u001b[0;34m\u001b[0m\u001b[0m\n\u001b[0;32m--> 167\u001b[0;31m         \u001b[0;32mreturn\u001b[0m \u001b[0mself\u001b[0m\u001b[0;34m.\u001b[0m\u001b[0msample\u001b[0m\u001b[0;34m(\u001b[0m\u001b[0mtorch\u001b[0m\u001b[0;34m.\u001b[0m\u001b[0mSize\u001b[0m\u001b[0;34m(\u001b[0m\u001b[0;34m(\u001b[0m\u001b[0mn\u001b[0m\u001b[0;34m,\u001b[0m\u001b[0;34m)\u001b[0m\u001b[0;34m)\u001b[0m\u001b[0;34m)\u001b[0m\u001b[0;34m\u001b[0m\u001b[0;34m\u001b[0m\u001b[0m\n\u001b[0m\u001b[1;32m    168\u001b[0m \u001b[0;34m\u001b[0m\u001b[0m\n\u001b[1;32m    169\u001b[0m     \u001b[0;32mdef\u001b[0m \u001b[0mlog_prob\u001b[0m\u001b[0;34m(\u001b[0m\u001b[0mself\u001b[0m\u001b[0;34m,\u001b[0m \u001b[0mvalue\u001b[0m\u001b[0;34m)\u001b[0m\u001b[0;34m:\u001b[0m\u001b[0;34m\u001b[0m\u001b[0;34m\u001b[0m\u001b[0m\n",
            "\u001b[0;32m/usr/local/lib/python3.7/dist-packages/torch/distributions/distribution.py\u001b[0m in \u001b[0;36msample\u001b[0;34m(self, sample_shape)\u001b[0m\n\u001b[1;32m    149\u001b[0m         \"\"\"\n\u001b[1;32m    150\u001b[0m         \u001b[0;32mwith\u001b[0m \u001b[0mtorch\u001b[0m\u001b[0;34m.\u001b[0m\u001b[0mno_grad\u001b[0m\u001b[0;34m(\u001b[0m\u001b[0;34m)\u001b[0m\u001b[0;34m:\u001b[0m\u001b[0;34m\u001b[0m\u001b[0;34m\u001b[0m\u001b[0m\n\u001b[0;32m--> 151\u001b[0;31m             \u001b[0;32mreturn\u001b[0m \u001b[0mself\u001b[0m\u001b[0;34m.\u001b[0m\u001b[0mrsample\u001b[0m\u001b[0;34m(\u001b[0m\u001b[0msample_shape\u001b[0m\u001b[0;34m)\u001b[0m\u001b[0;34m\u001b[0m\u001b[0;34m\u001b[0m\u001b[0m\n\u001b[0m\u001b[1;32m    152\u001b[0m \u001b[0;34m\u001b[0m\u001b[0m\n\u001b[1;32m    153\u001b[0m     \u001b[0;32mdef\u001b[0m \u001b[0mrsample\u001b[0m\u001b[0;34m(\u001b[0m\u001b[0mself\u001b[0m\u001b[0;34m,\u001b[0m \u001b[0msample_shape\u001b[0m\u001b[0;34m=\u001b[0m\u001b[0mtorch\u001b[0m\u001b[0;34m.\u001b[0m\u001b[0mSize\u001b[0m\u001b[0;34m(\u001b[0m\u001b[0;34m)\u001b[0m\u001b[0;34m)\u001b[0m\u001b[0;34m:\u001b[0m\u001b[0;34m\u001b[0m\u001b[0;34m\u001b[0m\u001b[0m\n",
            "\u001b[0;32m/usr/local/lib/python3.7/dist-packages/torch/distributions/uniform.py\u001b[0m in \u001b[0;36mrsample\u001b[0;34m(self, sample_shape)\u001b[0m\n\u001b[1;32m     71\u001b[0m     \u001b[0;32mdef\u001b[0m \u001b[0mrsample\u001b[0m\u001b[0;34m(\u001b[0m\u001b[0mself\u001b[0m\u001b[0;34m,\u001b[0m \u001b[0msample_shape\u001b[0m\u001b[0;34m=\u001b[0m\u001b[0mtorch\u001b[0m\u001b[0;34m.\u001b[0m\u001b[0mSize\u001b[0m\u001b[0;34m(\u001b[0m\u001b[0;34m)\u001b[0m\u001b[0;34m)\u001b[0m\u001b[0;34m:\u001b[0m\u001b[0;34m\u001b[0m\u001b[0;34m\u001b[0m\u001b[0m\n\u001b[1;32m     72\u001b[0m         \u001b[0mshape\u001b[0m \u001b[0;34m=\u001b[0m \u001b[0mself\u001b[0m\u001b[0;34m.\u001b[0m\u001b[0m_extended_shape\u001b[0m\u001b[0;34m(\u001b[0m\u001b[0msample_shape\u001b[0m\u001b[0;34m)\u001b[0m\u001b[0;34m\u001b[0m\u001b[0;34m\u001b[0m\u001b[0m\n\u001b[0;32m---> 73\u001b[0;31m         \u001b[0mrand\u001b[0m \u001b[0;34m=\u001b[0m \u001b[0mtorch\u001b[0m\u001b[0;34m.\u001b[0m\u001b[0mrand\u001b[0m\u001b[0;34m(\u001b[0m\u001b[0mshape\u001b[0m\u001b[0;34m,\u001b[0m \u001b[0mdtype\u001b[0m\u001b[0;34m=\u001b[0m\u001b[0mself\u001b[0m\u001b[0;34m.\u001b[0m\u001b[0mlow\u001b[0m\u001b[0;34m.\u001b[0m\u001b[0mdtype\u001b[0m\u001b[0;34m,\u001b[0m \u001b[0mdevice\u001b[0m\u001b[0;34m=\u001b[0m\u001b[0mself\u001b[0m\u001b[0;34m.\u001b[0m\u001b[0mlow\u001b[0m\u001b[0;34m.\u001b[0m\u001b[0mdevice\u001b[0m\u001b[0;34m)\u001b[0m\u001b[0;34m\u001b[0m\u001b[0;34m\u001b[0m\u001b[0m\n\u001b[0m\u001b[1;32m     74\u001b[0m         \u001b[0;32mreturn\u001b[0m \u001b[0mself\u001b[0m\u001b[0;34m.\u001b[0m\u001b[0mlow\u001b[0m \u001b[0;34m+\u001b[0m \u001b[0mrand\u001b[0m \u001b[0;34m*\u001b[0m \u001b[0;34m(\u001b[0m\u001b[0mself\u001b[0m\u001b[0;34m.\u001b[0m\u001b[0mhigh\u001b[0m \u001b[0;34m-\u001b[0m \u001b[0mself\u001b[0m\u001b[0;34m.\u001b[0m\u001b[0mlow\u001b[0m\u001b[0;34m)\u001b[0m\u001b[0;34m\u001b[0m\u001b[0;34m\u001b[0m\u001b[0m\n\u001b[1;32m     75\u001b[0m \u001b[0;34m\u001b[0m\u001b[0m\n",
            "\u001b[0;31mKeyboardInterrupt\u001b[0m: "
          ]
        },
        {
          "data": {
            "image/png": "[encoded data removed]",
            "text/plain": [
              "<Figure size 432x288 with 1 Axes>"
            ]
          },
          "metadata": {
            "needs_background": "light"
          },
          "output_type": "display_data"
        }
      ],
      "source": [
        "grid = t.zeros((2,1024,1024))\n",
        "grid[:,500:700] = 200\n",
        "N = 256 \n",
        "gamma = 0.6\n",
        "rate_coefficients = [0.98,0.98,0.1,0.1,0.2,0.2]\n",
        "for i in tqdm(range(10_000)):\n",
        "  if i % 500 == 0:\n",
        "    display.clear_output(wait=True)\n",
        "    plt.imshow(grid[0], cmap=\"Greys\", interpolation=\"nearest\", vmin=0, vmax=256)\n",
        "    display.display(plt.gcf())\n",
        "  grid = rho(grid, N, gamma, rate_coefficients)\n",
        "  grid = diffuse(grid, N)\n",
        "  #display.clear_output(wait=True)\n",
        "  #time.sleep(0.02)"
      ]
    },
    {
      "cell_type": "code",
      "execution_count": null,
      "metadata": {
        "id": "6F2CnYKpBNHg"
      },
      "outputs": [],
      "source": []
    }
  ],
  "metadata": {
    "colab": {
      "authorship_tag": "ABX9TyPcecriRbSTnvTI0DtOCaws",
      "collapsed_sections": [],
      "include_colab_link": true,
      "provenance": []
    },
    "kernelspec": {
      "display_name": "Python 3.10.4 ('torch')",
      "language": "python",
      "name": "python3"
    },
    "language_info": {
      "codemirror_mode": {
        "name": "ipython",
        "version": 3
      },
      "file_extension": ".py",
      "mimetype": "text/x-python",
      "name": "python",
      "nbconvert_exporter": "python",
      "pygments_lexer": "ipython3",
      "version": "3.10.4"
    },
    "vscode": {
      "interpreter": {
        "hash": "d457bbfc426ef2d36a37fd2ab82784599b6e7b389a7b568386df2942100916c1"
      }
    }
  },
  "nbformat": 4,
  "nbformat_minor": 0
}
