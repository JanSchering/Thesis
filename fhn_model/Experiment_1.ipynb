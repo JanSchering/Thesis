{
 "cells": [
  {
   "cell_type": "markdown",
   "metadata": {},
   "source": [
    "import modules"
   ]
  },
  {
   "cell_type": "code",
   "execution_count": 1,
   "metadata": {},
   "outputs": [
    {
     "name": "stderr",
     "output_type": "stream",
     "text": [
      "c:\\Users\\jsche\\anaconda3\\envs\\torchenv\\lib\\site-packages\\tqdm\\auto.py:22: TqdmWarning: IProgress not found. Please update jupyter and ipywidgets. See https://ipywidgets.readthedocs.io/en/stable/user_install.html\n",
      "  from .autonotebook import tqdm as notebook_tqdm\n"
     ]
    }
   ],
   "source": [
    "from typing import Tuple\n",
    "import numpy as np\n",
    "import torch as t\n",
    "from torch.distributions import uniform\n",
    "from diffusion import diffuse\n",
    "from diffusion_gumbel import diffuse_STE\n",
    "from IPython.display import Image\n",
    "from IPython import display\n",
    "import matplotlib.pyplot as plt\n",
    "from tqdm import tqdm"
   ]
  },
  {
   "cell_type": "markdown",
   "metadata": {},
   "source": [
    "define helper function to pre-process data"
   ]
  },
  {
   "cell_type": "code",
   "execution_count": 2,
   "metadata": {},
   "outputs": [],
   "source": [
    "def chop_and_shuffle_data(sequence, shuffle=True):\n",
    "    \"\"\"\n",
    "    Chop the training data into a set of state transitions and shuffle the resulting set.\n",
    "\n",
    "    sequences (np.ndarray): matrix of shape (n_sequences, steps_per_seq, grid_height, grid_width)\n",
    "    \"\"\"\n",
    "    steps_per_seq, _, grid_height, grid_width = sequence.shape\n",
    "    # each transition consists of 2 states\n",
    "    indexer = np.arange(2)[None, :] + np.arange(steps_per_seq - 1)[:, None]\n",
    "    chopped_set = np.zeros(\n",
    "        [(steps_per_seq - 1), 2, 2, grid_height, grid_width]\n",
    "    )\n",
    "    chopped_set = sequence.detach().numpy()[indexer]\n",
    "    if shuffle:\n",
    "        np.random.shuffle(chopped_set)\n",
    "    return t.tensor(chopped_set)"
   ]
  },
  {
   "cell_type": "code",
   "execution_count": null,
   "metadata": {},
   "outputs": [],
   "source": []
  }
 ],
 "metadata": {
  "kernelspec": {
   "display_name": "Python 3.10.6 ('torchenv')",
   "language": "python",
   "name": "python3"
  },
  "language_info": {
   "codemirror_mode": {
    "name": "ipython",
    "version": 3
   },
   "file_extension": ".py",
   "mimetype": "text/x-python",
   "name": "python",
   "nbconvert_exporter": "python",
   "pygments_lexer": "ipython3",
   "version": "3.10.6 | packaged by conda-forge | (main, Oct 24 2022, 16:02:16) [MSC v.1916 64 bit (AMD64)]"
  },
  "orig_nbformat": 4,
  "vscode": {
   "interpreter": {
    "hash": "b773d0058f1b8f5f38d2d60a234a90a3b3eb0d051bd1b60d95552e21f147b9b6"
   }
  }
 },
 "nbformat": 4,
 "nbformat_minor": 2
}
