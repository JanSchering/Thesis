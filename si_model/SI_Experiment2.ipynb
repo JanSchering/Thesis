{
  "cells": [
    {
      "cell_type": "markdown",
      "metadata": {},
      "source": [
        "import modules"
      ]
    },
    {
      "cell_type": "code",
      "execution_count": 43,
      "metadata": {
        "id": "HzCldsCyUyEY"
      },
      "outputs": [],
      "source": [
        "# @title imports\n",
        "from typing import Callable, List, Tuple\n",
        "import sys\n",
        "sys.path.insert(0, '../abc')\n",
        "import torch as t\n",
        "from torch.distributions import normal, uniform\n",
        "import numpy as np\n",
        "import matplotlib.pyplot as plt\n",
        "import random\n",
        "from IPython.display import Image\n",
        "from IPython import display\n",
        "from tqdm import tqdm\n",
        "import time\n",
        "from abc_rej import abc_rej\n",
        "from abc_mcmc import abc_mcmc\n",
        "from model import init_grids, model\n",
        "from vis_utils import visualize_batch, visualize_sequence\n",
        "from utils import chop_and_shuffle_data\n",
        "from helpers import gaussian_pdf"
      ]
    },
    {
      "cell_type": "markdown",
      "metadata": {
        "id": "DHLYBUhAU2LL"
      },
      "source": [
        "# Finding $\\beta$ for a set of observations using approximate Bayesian computation"
      ]
    },
    {
      "cell_type": "markdown",
      "metadata": {
        "id": "FvLRhSFhYcNR"
      },
      "source": [
        "## Summary statistics for the PCA\n",
        "\n",
        "In order to perform ABC, we need to define a set of summary statistics $S(.)$ for the samples produced by the PCA model. Here, we have to make a few choices that will impact the performance of the ABC algorithms.\n",
        "\n",
        "Our dataset $D = \\{x_i, y_i\\}_{i=1}^N$ consists of $N$ pairs of grid states. Each pair represents the transition of a grid from a state $x_i$ to a state $y_i$. The PCA model takes as input a grid state, simulates a time step for it, and returns the resulting state.\n",
        "\n",
        "**1. Count the number of newly activated cells**\n",
        "\n",
        "Our first summary statistic can be to simply count the number of cells transitioning from $x_{ij}^{(n)}= 0$ to $y_{ij}^{(n)}= 1$ for $n=1,\\dots,N$ and sum up the result\n",
        "\n",
        "**2. Collect the indices of the newly activated cells**\n",
        "\n",
        "The second possible statistic is a collection of the indices of all cells that have changed state between $x_{ij}$ and $y_{ij}$. This allows e.g. to define the distance function as a pixel-wise loss function. \n",
        "\n"
      ]
    },
    {
      "cell_type": "code",
      "execution_count": 6,
      "metadata": {
        "id": "45EVx-gWXROG"
      },
      "outputs": [],
      "source": [
        "# @title define summary statistics functions\n",
        "def S1(X:t.Tensor, Y:t.Tensor) -> float:\n",
        "  return t.sum((1-X)*Y, axis=(-1,-2))\n",
        "\n",
        "def S2(X:t.Tensor, Y:t.Tensor) -> float:\n",
        "  return (1-X)*Y"
      ]
    },
    {
      "cell_type": "markdown",
      "metadata": {},
      "source": [
        "To test the functions, we can define a toy example transition:\n",
        "\n",
        "$$\n",
        "x_t = \\begin{pmatrix}\n",
        "0 & 0 & 0 \\\\\n",
        "0 & 1 & 0 \\\\\n",
        "0 & 0 & 0 \n",
        "\\end{pmatrix}, \n",
        "x_{t+1} = \\begin{pmatrix}\n",
        "0 & 1 & 0 \\\\\n",
        "0 & 1 & 0 \\\\\n",
        "0 & 1 & 1 \n",
        "\\end{pmatrix}\n",
        "$$"
      ]
    },
    {
      "cell_type": "code",
      "execution_count": 8,
      "metadata": {},
      "outputs": [
        {
          "name": "stdout",
          "output_type": "stream",
          "text": [
            "S1(x_t, x_tt) = tensor([3.])\n",
            "S2(x_t, x_tt) = \n",
            "tensor([[[0., 1., 0.],\n",
            "         [0., 0., 0.],\n",
            "         [0., 1., 1.]]])\n"
          ]
        }
      ],
      "source": [
        "x_t = t.zeros((1,3,3))\n",
        "x_t[0,1,1] = 1\n",
        "x_tt = t.zeros((1,3,3))\n",
        "x_tt[0,:,1] = 1\n",
        "x_tt[0,2,2] = 1\n",
        "\n",
        "print(f\"S1(x_t, x_tt) = {S1(x_t, x_tt)}\")\n",
        "print(f\"S2(x_t, x_tt) = \\n{S2(x_t, x_tt)}\")"
      ]
    },
    {
      "cell_type": "markdown",
      "metadata": {
        "id": "pOh7ZBL7bxG8"
      },
      "source": [
        "## Distance functions\n",
        "\n",
        "In order to perform ABC, we need to define a distance function $\\rho(S(x_{sim}), S(x_{obs}))$ based on the summary statistics $S(.)$:"
      ]
    },
    {
      "cell_type": "code",
      "execution_count": 9,
      "metadata": {
        "id": "HB3QmM1DbzZI"
      },
      "outputs": [],
      "source": [
        "def calc_distance(X, Y_sim:np.ndarray, Y_obs:np.ndarray) -> float:\n",
        "  # get statistics of the simulated set\n",
        "  s_sim = S1(X, Y_sim)\n",
        "  # get statistics of the observed set\n",
        "  s_obs = S1(X, Y_obs)\n",
        "  # calculate the mean ratio\n",
        "  return (1 - t.mean(s_sim / (s_obs+1)))**2"
      ]
    },
    {
      "cell_type": "markdown",
      "metadata": {},
      "source": [
        "We can again visualize the distance function by giving a toy example where starting from the same input $x_t$ we observe three different outcomes $x^1, x^2, x^3$. We can determine how similar these transitions are to each other through the distance function.\n",
        "\n",
        "$$\n",
        "x_t = \\begin{pmatrix}\n",
        "0 & 0 & 0 \\\\\n",
        "0 & 1 & 0 \\\\\n",
        "0 & 0 & 0 \n",
        "\\end{pmatrix}\n",
        "$$\n",
        "\n",
        "$$\n",
        "x_{t+1}^1 = \n",
        "\\begin{pmatrix}\n",
        "0 & 0 & 0 \\\\\n",
        "0 & 1 & 0 \\\\\n",
        "0 & 0 & 1 \n",
        "\\end{pmatrix},\n",
        "x_{t+1}^2\n",
        "\\begin{pmatrix}\n",
        "0 & 1 & 1 \\\\\n",
        "0 & 1 & 0 \\\\\n",
        "1 & 1 & 1 \n",
        "\\end{pmatrix},\n",
        "x_{t+1}^3\n",
        "\\begin{pmatrix}\n",
        "0 & 1 & 0 \\\\\n",
        "0 & 1 & 0 \\\\\n",
        "0 & 1 & 1 \n",
        "\\end{pmatrix}\n",
        "$$\n"
      ]
    },
    {
      "cell_type": "code",
      "execution_count": 16,
      "metadata": {},
      "outputs": [
        {
          "name": "stdout",
          "output_type": "stream",
          "text": [
            "The distance between x1 and x2 is: 0.6944444179534912\n",
            "The distance between x1 and x3 is: 0.5625\n",
            "The distance between x2 and x3 is: 0.0625\n"
          ]
        }
      ],
      "source": [
        "x_t = t.zeros((1,3,3))\n",
        "x_t[0,1,1] = 1\n",
        "\n",
        "x1_tt = t.zeros((1,3,3))\n",
        "x1_tt[0,1,1] = 1\n",
        "x1_tt[0,2,2] = 1\n",
        "\n",
        "x2_tt = t.zeros((1,3,3))\n",
        "x2_tt[0,:,1] = 1\n",
        "x2_tt[0,2,0] = 1\n",
        "x2_tt[0,0,2] = 1\n",
        "x2_tt[0,2,2] = 1\n",
        "\n",
        "x3_tt = t.zeros((1,3,3))\n",
        "x3_tt[0,:,1] = 1\n",
        "x3_tt[0,2,2] = 1\n",
        "\n",
        "print(f\"The distance between x1 and x2 is: {calc_distance(x_t, x1_tt, x2_tt)}\")\n",
        "print(f\"The distance between x1 and x3 is: {calc_distance(x_t, x1_tt, x3_tt)}\")\n",
        "print(f\"The distance between x2 and x3 is: {calc_distance(x_t, x2_tt, x3_tt)}\")"
      ]
    },
    {
      "cell_type": "markdown",
      "metadata": {
        "id": "vwu6e9DOFz5x"
      },
      "source": [
        "## Experiment 1: Dataset generated from a single $\\beta$ value"
      ]
    },
    {
      "cell_type": "markdown",
      "metadata": {},
      "source": [
        "### 1. Generating the Dataset"
      ]
    },
    {
      "cell_type": "markdown",
      "metadata": {},
      "source": [
        "set hyperparameters:"
      ]
    },
    {
      "cell_type": "code",
      "execution_count": 18,
      "metadata": {
        "cellView": "form",
        "id": "IivcRMHrVwVD"
      },
      "outputs": [],
      "source": [
        "grid_size = 9 \n",
        "num_sequences = 100 \n",
        "steps_per_sequence = 20 \n",
        "beta = t.tensor(0.08) \n",
        "\n",
        "frame_speed = 0.1 "
      ]
    },
    {
      "cell_type": "markdown",
      "metadata": {},
      "source": [
        "visualize an example sequence"
      ]
    },
    {
      "cell_type": "code",
      "execution_count": 24,
      "metadata": {
        "id": "_lXJtcg8WXlc"
      },
      "outputs": [
        {
          "data": {
            "text/plain": [
              "<Figure size 432x288 with 0 Axes>"
            ]
          },
          "metadata": {},
          "output_type": "display_data"
        }
      ],
      "source": [
        "grids = init_grids(grid_size, 2)\n",
        "for i in range(steps_per_sequence):\n",
        "  visualize_batch(grids)\n",
        "  display.display(plt.gcf())\n",
        "  grids = model(grids, beta)\n",
        "  display.clear_output(wait=True)\n",
        "  time.sleep(frame_speed)"
      ]
    },
    {
      "cell_type": "markdown",
      "metadata": {},
      "source": [
        "generate the data"
      ]
    },
    {
      "cell_type": "code",
      "execution_count": null,
      "metadata": {
        "colab": {
          "base_uri": "https://localhost:8080/",
          "height": 270
        },
        "id": "Oz-eToNrWb8Y",
        "outputId": "7dbcda42-de06-4785-801c-fc0d222462b0"
      },
      "outputs": [],
      "source": [
        "sequences = t.zeros((num_sequences, steps_per_sequence, grid_size, grid_size))\n",
        "batch = init_grids(grid_size,num_sequences)\n",
        "\n",
        "for i in range(steps_per_sequence):\n",
        "  sequences[:,i,:,:] = batch\n",
        "  batch = model(batch, beta)\n",
        "  \n",
        "visualize_sequence(sequences[np.random.randint(0,num_sequences)], framerate=0.1)\n",
        "dataset = chop_and_shuffle_data(sequences)\n",
        "print(dataset.shape)"
      ]
    },
    {
      "cell_type": "code",
      "execution_count": 28,
      "metadata": {
        "colab": {
          "base_uri": "https://localhost:8080/"
        },
        "id": "i117ktMRb7Wl",
        "outputId": "9b0c0107-e41e-4447-928c-469f1b61f4a0"
      },
      "outputs": [
        {
          "data": {
            "text/plain": [
              "tensor(0.0214, dtype=torch.float64)"
            ]
          },
          "execution_count": 28,
          "metadata": {},
          "output_type": "execute_result"
        }
      ],
      "source": [
        "X = dataset[:,0]\n",
        "Y_obs = dataset[:,1]\n",
        "Y_sim = model(X, 0.08)\n",
        "calc_distance(X, Y_sim, Y_obs)"
      ]
    },
    {
      "cell_type": "markdown",
      "metadata": {
        "id": "tzi6uBLpb_22"
      },
      "source": [
        "### Estimate $\\beta$ via ABC-REJ\n",
        "\n",
        "We define:\n",
        "\n",
        "- $\\epsilon = 0.1$ \n",
        "- $p(\\theta) \\sim U(0,1)$"
      ]
    },
    {
      "cell_type": "markdown",
      "metadata": {},
      "source": [
        "run the algorithm"
      ]
    },
    {
      "cell_type": "code",
      "execution_count": 30,
      "metadata": {
        "colab": {
          "base_uri": "https://localhost:8080/"
        },
        "id": "6ErCLA9ecKwQ",
        "outputId": "ae15e3dc-5a7f-4368-ee3a-5677e7bfc0f1"
      },
      "outputs": [
        {
          "name": "stderr",
          "output_type": "stream",
          "text": [
            "100%|██████████| 1000/1000 [01:09<00:00, 14.40it/s]"
          ]
        },
        {
          "name": "stdout",
          "output_type": "stream",
          "text": [
            "\n",
            " average # steps for acceptance: 14.424\n"
          ]
        },
        {
          "name": "stderr",
          "output_type": "stream",
          "text": [
            "\n"
          ]
        }
      ],
      "source": [
        "# @title use ABC-REJ to draw approximate samples from the posterior  { vertical-output: true}\n",
        "samples = []\n",
        "required_steps = []\n",
        "X = dataset[:,0]\n",
        "Y_obs = dataset[:,1]\n",
        "epsilon = 0.1\n",
        "prior = uniform.Uniform(t.tensor(0.), t.tensor(1.)).sample\n",
        "\n",
        "# In the paper, 1,000 accepted samples are drawn\n",
        "for i in tqdm(range(1000)):\n",
        "  sample, num_steps = abc_rej(X, Y_obs, epsilon, prior, model, calc_distance)\n",
        "  samples.append(sample)\n",
        "  required_steps.append(num_steps)\n",
        "\n",
        "print(f\"\\n average # steps for acceptance: {np.mean(required_steps)}\")\n",
        "\n",
        "\n"
      ]
    },
    {
      "cell_type": "markdown",
      "metadata": {},
      "source": [
        "visualize results:"
      ]
    },
    {
      "cell_type": "code",
      "execution_count": 41,
      "metadata": {
        "colab": {
          "base_uri": "https://localhost:8080/",
          "height": 313
        },
        "id": "cv-MNRYmcWZ2",
        "outputId": "cbb14b73-5443-46c3-ca6b-7e88c31e2825"
      },
      "outputs": [
        {
          "data": {
            "text/plain": [
              "[Text(0.5, 0, 'beta')]"
            ]
          },
          "execution_count": 41,
          "metadata": {},
          "output_type": "execute_result"
        },
        {
          "data": {
            "image/png": "[encoded data removed]",
            "text/plain": [
              "<Figure size 432x288 with 2 Axes>"
            ]
          },
          "metadata": {
            "needs_background": "light"
          },
          "output_type": "display_data"
        }
      ],
      "source": [
        "fig, axs = plt.subplots(1,2)\n",
        "axs[0].hist(t.tensor(samples), density=True, range=(0,1), bins=20)\n",
        "axs[0].set(xlabel=\"beta\", ylabel=\"density\")\n",
        "axs[1].hist(t.tensor(samples), density=True, range=(0,0.3), bins=20)\n",
        "axs[1].set(xlabel=\"beta\")"
      ]
    },
    {
      "cell_type": "markdown",
      "metadata": {
        "id": "T8E1_-U-ceDK"
      },
      "source": [
        "### Estimate $\\beta$ via ABC-MCMC\n",
        "\n",
        "We define:\n",
        "\n",
        "- $\\epsilon = 0.1$ \n",
        "- $\\beta_0 = 0.5$\n",
        "- $q(\\theta|\\theta_t) \\sim \\mathcal{N}(\\theta_t, 0.15^2)$\n"
      ]
    },
    {
      "cell_type": "markdown",
      "metadata": {},
      "source": [
        "define helpers:"
      ]
    },
    {
      "cell_type": "code",
      "execution_count": 45,
      "metadata": {},
      "outputs": [],
      "source": [
        "sigma = t.tensor(0.15)\n",
        "\n",
        "\n",
        "def q(theta: t.Tensor):\n",
        "    return normal.Normal(theta, sigma).sample()\n",
        "\n",
        "\n",
        "def gauss_likelihood(x: t.Tensor, y: t.Tensor) -> t.Tensor:\n",
        "    pdf = gaussian_pdf(y, sigma**2)\n",
        "    return pdf(x)\n",
        "\n",
        "\n",
        "def uniform_likelihood(low: float, high: float, x: t.Tensor) -> float:\n",
        "    if x > high or x < low:\n",
        "        return 0\n",
        "    else:\n",
        "        return 1 / (high - low)\n",
        "\n",
        "\n",
        "def calc_alpha(\n",
        "    theta_star: t.Tensor, theta: t.Tensor, epsilon: float, dist: t.Tensor\n",
        ") -> t.Tensor:\n",
        "    if dist <= epsilon and uniform_likelihood(-10, 10, theta_star) > 0:\n",
        "        ratio = gauss_likelihood(theta, theta_star) / gauss_likelihood(\n",
        "            theta_star, theta\n",
        "        )\n",
        "        return t.min(t.tensor([t.tensor(1.0), ratio]))\n",
        "    else:\n",
        "        return t.tensor(0.0)\n"
      ]
    },
    {
      "cell_type": "code",
      "execution_count": 46,
      "metadata": {
        "colab": {
          "base_uri": "https://localhost:8080/",
          "height": 320
        },
        "id": "ZslFq8RRcnd9",
        "outputId": "4b1f871c-d5f7-4cda-fcf6-443d70ec9c95"
      },
      "outputs": [
        {
          "name": "stderr",
          "output_type": "stream",
          "text": [
            "100%|██████████| 10000/10000 [00:53<00:00, 186.12it/s]\n"
          ]
        },
        {
          "name": "stdout",
          "output_type": "stream",
          "text": [
            "accepted 1714 samples\n"
          ]
        },
        {
          "data": {
            "text/plain": [
              "[<matplotlib.lines.Line2D at 0x209a4eee590>]"
            ]
          },
          "execution_count": 46,
          "metadata": {},
          "output_type": "execute_result"
        },
        {
          "data": {
            "image/png": "[encoded data removed]",
            "text/plain": [
              "<Figure size 432x288 with 1 Axes>"
            ]
          },
          "metadata": {
            "needs_background": "light"
          },
          "output_type": "display_data"
        }
      ],
      "source": [
        "# @title Run ABC-MCMC for the example { vertical-output: true}\n",
        "N = 10000\n",
        "X = dataset[:,0]\n",
        "Y_obs = dataset[:,1]\n",
        "epsilon = 0.1\n",
        "beta_init = t.tensor(0.5)\n",
        "\n",
        "betas, beta_hist, step_hist = abc_mcmc(X, Y_obs, beta_init, model, calc_distance, calc_alpha, epsilon, q, N)\n",
        "\n",
        "print(f\"accepted {len(betas)} samples\")\n",
        "\n",
        "plt.plot(np.arange(len(beta_hist)), beta_hist)"
      ]
    },
    {
      "cell_type": "code",
      "execution_count": 50,
      "metadata": {
        "colab": {
          "base_uri": "https://localhost:8080/",
          "height": 313
        },
        "id": "elKYMWMmcqPs",
        "outputId": "d57c8ecf-b418-462e-e9cc-5273ad43548b"
      },
      "outputs": [
        {
          "data": {
            "text/plain": [
              "[Text(0.5, 0, 'beta')]"
            ]
          },
          "execution_count": 50,
          "metadata": {},
          "output_type": "execute_result"
        },
        {
          "data": {
            "image/png": "[encoded data removed]",
            "text/plain": [
              "<Figure size 432x288 with 2 Axes>"
            ]
          },
          "metadata": {
            "needs_background": "light"
          },
          "output_type": "display_data"
        }
      ],
      "source": [
        "fig, axs = plt.subplots(1,2)\n",
        "axs[0].hist(betas, density=True, range=(0,1), bins=20)\n",
        "axs[0].set(xlabel=\"beta\", ylabel=\"density\")\n",
        "axs[1].hist(betas, density=True, range=(0,0.3), bins=20)\n",
        "axs[1].set(xlabel=\"beta\")"
      ]
    },
    {
      "cell_type": "markdown",
      "metadata": {
        "id": "SHD9o8iYa8Zf"
      },
      "source": [
        "### Estimate $\\beta$ via ABC-PRC"
      ]
    },
    {
      "cell_type": "code",
      "execution_count": 26,
      "metadata": {
        "id": "9A5jYP7VbVsQ"
      },
      "outputs": [],
      "source": [
        "def mu_1(num_samples:int) -> float:\n",
        "  return np.random.uniform(0, 1, num_samples)\n",
        "\n",
        "def visualize_results(beta_hist:List[List[float]]) -> None:\n",
        "  \"\"\"\n",
        "  Visualize the results of the ABC-PRJ algorithm.\n",
        "  \"\"\"\n",
        "  fig, axs = plt.subplots(2,2, sharex=True, sharey=True)\n",
        "\n",
        "  axs[0,0].hist(beta_hist[0], density=True, bins=30)\n",
        "  axs[0,0].set(ylabel='density', title=\"Population 0\")\n",
        "  axs[0,1].hist(beta_hist[1], density=True, bins=30)\n",
        "  axs[0,1].set(title=\"Population 1\")\n",
        "  axs[1,0].hist(beta_hist[2], density=True, bins=30)\n",
        "  axs[1,0].set(xlabel='theta', ylabel='density', title=\"Population 2\")\n",
        "  axs[1,1].hist(beta_hist[3], density=True, bins=30)\n",
        "  axs[1,1].set(xlabel='theta', title=\"Population 3\")\n",
        "\n",
        "  plt.xlim(0,1)\n",
        "  plt.show()"
      ]
    },
    {
      "cell_type": "code",
      "execution_count": 27,
      "metadata": {
        "id": "-Lb1Ek0LblLw"
      },
      "outputs": [],
      "source": [
        "# @title Define ABC-PRC\n",
        "def ABC_PRC(N:int, epsilons:List[float], mu_1:Sampler, X, Y_obs) -> Tuple[List[float], List[List[float]]]:\n",
        "  betas = mu_1(1000)\n",
        "  beta_hist = [np.copy(betas)]\n",
        "  for t, epsilon in enumerate(tqdm(epsilons)):\n",
        "    for i in range(N):\n",
        "      close_enough = False\n",
        "      beta_star = beta_ss = x_ss = None\n",
        "      while not close_enough:\n",
        "        # Sample from previous population\n",
        "        beta_star = np.random.choice(betas, size=1)\n",
        "        # Move the particle with a gaussian markov kernel\n",
        "        beta_ss = jnp.clip(np.random.normal(beta_star, 0.1), 0, 1)\n",
        "        # sample Y_sim using beta**\n",
        "        Y_sim = model(X, beta_ss)\n",
        "        # check the distance\n",
        "        close_enough = calc_distance_V2(X, Y_sim, Y_obs) <= epsilon\n",
        "      betas[i] = beta_ss.copy()\n",
        "    beta_hist.append(np.copy(betas))\n",
        "  return betas, beta_hist"
      ]
    },
    {
      "cell_type": "code",
      "execution_count": 28,
      "metadata": {
        "colab": {
          "base_uri": "https://localhost:8080/",
          "height": 313
        },
        "id": "PLPBQfxsbq33",
        "outputId": "967e0787-31f7-4408-d12b-478cc6900291"
      },
      "outputs": [
        {
          "name": "stderr",
          "output_type": "stream",
          "text": [
            "100%|██████████| 3/3 [02:35<00:00, 51.99s/it]\n"
          ]
        },
        {
          "data": {
            "image/png": "[encoded data removed]",
            "text/plain": [
              "<Figure size 432x288 with 4 Axes>"
            ]
          },
          "metadata": {
            "needs_background": "light"
          },
          "output_type": "display_data"
        }
      ],
      "source": [
        "# @title Run ABC-PRC for the example { vertical-output: true}\n",
        "N = 1000\n",
        "X = dataset[:,0]\n",
        "Y_obs = dataset[:,1]\n",
        "epsilons = [0.6, 0.2, 0.05]\n",
        "\n",
        "betas, beta_hist = ABC_PRC(N, epsilons, mu_1, X, Y_obs)\n",
        "\n",
        "visualize_results(beta_hist)"
      ]
    },
    {
      "cell_type": "markdown",
      "metadata": {
        "id": "tIThYImGGKbY"
      },
      "source": [
        "## Experiment 2: Generating a dataset from a distribution of $\\beta$ values\n",
        "\n"
      ]
    },
    {
      "cell_type": "code",
      "execution_count": 11,
      "metadata": {
        "cellView": "form",
        "id": "9fGxA3YvPsxt"
      },
      "outputs": [],
      "source": [
        "# @title define helpers\n",
        "def gaussian_pdf(mu:float, sigma_sq:float) -> Callable:\n",
        "  def pdf(x:float) -> float:\n",
        "    return (1/(np.sqrt(2*np.pi)*np.sqrt(sigma_sq)))*np.exp(-(x-mu)**2/(2*sigma_sq))\n",
        "  return pdf"
      ]
    },
    {
      "cell_type": "code",
      "execution_count": 12,
      "metadata": {
        "cellView": "form",
        "id": "Yr4kAw1HGaKD"
      },
      "outputs": [],
      "source": [
        "# @title set PCA parameters\n",
        "grid_size = 30 #@param {type:\"number\"}\n",
        "num_sequences = 100 #@param {type:\"number\"}\n",
        "steps_per_sequence = 20 #@param {type: \"number\"}\n",
        "# @markdown $\\beta$ will be generated from a Gaussian distribution\n",
        "# @markdown $\\beta_t \\sim\\mathcal{N}(\\mu, \\sigma)$ and clipped to a range of $[0,1]$.\n",
        "mu = 0.5 #@param {type:\"slider\", min:0, max:1, step:0.01}\n",
        "sigma = 0.1 #@param {type:\"slider\", min:0, max:1, step:0.01}\n",
        "\n",
        "# @markdown ---\n",
        "# @markdown parameters for the PCA visualization\n",
        "\n",
        "frame_speed = 0.1 # @param {type:\"slider\", min:0.1, max:2, step:0.01}"
      ]
    },
    {
      "cell_type": "code",
      "execution_count": 13,
      "metadata": {
        "colab": {
          "base_uri": "https://localhost:8080/",
          "height": 283
        },
        "id": "ZZr_G3rzH1N3",
        "outputId": "48953e35-be89-4f1a-9338-51b457667b97"
      },
      "outputs": [
        {
          "data": {
            "text/plain": [
              "[<matplotlib.lines.Line2D at 0x7fb375483bd0>]"
            ]
          },
          "execution_count": 13,
          "metadata": {},
          "output_type": "execute_result"
        },
        {
          "data": {
            "image/png": "[encoded data removed]",
            "text/plain": [
              "<Figure size 432x288 with 1 Axes>"
            ]
          },
          "metadata": {
            "needs_background": "light"
          },
          "output_type": "display_data"
        }
      ],
      "source": [
        "# @title visualize the distribution over $\\beta$ {vertical-output: true }\n",
        "beta_pdf = gaussian_pdf(mu, sigma**2)\n",
        "\n",
        "x_vis = np.linspace(0,1,1_000)\n",
        "y_vis = beta_pdf(x_vis)\n",
        "\n",
        "plt.plot(x_vis, y_vis)"
      ]
    },
    {
      "cell_type": "code",
      "execution_count": 41,
      "metadata": {
        "colab": {
          "base_uri": "https://localhost:8080/",
          "height": 252
        },
        "id": "SCwTNmF6ZAQ7",
        "outputId": "b3f3d2ec-5ab1-4e8d-86e7-7d61c0415719"
      },
      "outputs": [
        {
          "data": {
            "image/png": "[encoded data removed]",
            "text/plain": [
              "<Figure size 432x288 with 1 Axes>"
            ]
          },
          "metadata": {
            "needs_background": "light"
          },
          "output_type": "display_data"
        }
      ],
      "source": [
        "# @title visualize a sample sequence {vertical-output: true}\n",
        "grid = init_grids(grid_size,1)\n",
        "beta = jnp.clip(np.random.normal(mu,sigma), 0, 1)\n",
        "sequence = [grid]\n",
        "for i in range(steps_per_sequence):\n",
        "  grid = model(grid, beta)\n",
        "  sequence.append(grid.copy())\n",
        "visualize_sequence(np.array(sequence).squeeze(), framerate=frame_speed)\n"
      ]
    },
    {
      "cell_type": "markdown",
      "metadata": {
        "id": "i6YHkPP0SvfS"
      },
      "source": [
        "for the experiment, we generate 1000 sequences. For each sequence, we draw a beta randomly from the "
      ]
    },
    {
      "cell_type": "code",
      "execution_count": 14,
      "metadata": {
        "colab": {
          "base_uri": "https://localhost:8080/"
        },
        "id": "ECdPyIIwREuh",
        "outputId": "01143420-cc01-4c81-fd63-0b9769335c4c"
      },
      "outputs": [
        {
          "name": "stderr",
          "output_type": "stream",
          "text": [
            "100%|██████████| 100/100 [00:29<00:00,  3.42it/s]\n"
          ]
        }
      ],
      "source": [
        "sequences = np.zeros((num_sequences, steps_per_sequence, grid_size, grid_size))\n",
        "betas = []\n",
        "\n",
        "# @title generate dataset\n",
        "for seq_idx in tqdm(range(num_sequences)):\n",
        "  sequence = init_grids(grid_size,1)\n",
        "  beta = jnp.clip(np.random.normal(mu, sigma), 0, 1)\n",
        "  for step_idx in range(steps_per_sequence):\n",
        "    sequences[seq_idx,step_idx,:,:] = sequence\n",
        "    sequence = model(sequence, beta)\n",
        "  betas.append(beta)\n",
        "\n",
        "dataset = chop_and_shuffle_data(sequences)\n",
        "\n"
      ]
    },
    {
      "cell_type": "code",
      "execution_count": 15,
      "metadata": {
        "colab": {
          "base_uri": "https://localhost:8080/",
          "height": 313
        },
        "id": "1yi0rT1uUhSu",
        "outputId": "83a5654a-f80a-4664-b1c7-271fc33f2fa2"
      },
      "outputs": [
        {
          "data": {
            "text/plain": [
              "Text(0, 0.5, 'density')"
            ]
          },
          "execution_count": 15,
          "metadata": {},
          "output_type": "execute_result"
        },
        {
          "data": {
            "image/png": "[encoded data removed]",
            "text/plain": [
              "<Figure size 432x288 with 1 Axes>"
            ]
          },
          "metadata": {
            "needs_background": "light"
          },
          "output_type": "display_data"
        }
      ],
      "source": [
        "# @title visualize the empirical $\\beta$ {vertical-output: true} distribution\n",
        "\n",
        "n, bins, _ = plt.hist(betas, density=True, range=(0,1), bins=10)\n",
        "plt.title(\"empirical distribution over beta for the generated dataset\")\n",
        "plt.xlabel(\"beta\")\n",
        "plt.ylabel(\"density\")"
      ]
    },
    {
      "cell_type": "code",
      "execution_count": 16,
      "metadata": {
        "colab": {
          "base_uri": "https://localhost:8080/"
        },
        "id": "AkEEF6PpVH-H",
        "outputId": "e0b8cdb3-5b95-4ade-834f-3d2fbf725c69"
      },
      "outputs": [
        {
          "name": "stdout",
          "output_type": "stream",
          "text": [
            "(1900, 2, 30, 30)\n",
            "remove 33 entries from the dataset\n"
          ]
        },
        {
          "data": {
            "text/plain": [
              "(1867, 2, 30, 30)"
            ]
          },
          "execution_count": 16,
          "metadata": {},
          "output_type": "execute_result"
        }
      ],
      "source": [
        "# @title post-process the dataset to remove useless transitions (all active $\\rightarrow$ all active)\n",
        "print(dataset.shape)\n",
        "\n",
        "mask = np.all(dataset[:,0] == 1, axis=(-1,-2))\n",
        "\n",
        "num_faulty_entries = mask[mask==True].shape[0]\n",
        "\n",
        "print(f\"remove {num_faulty_entries} entries from the dataset\")\n",
        "\n",
        "dataset = np.delete(dataset, mask, axis=0)\n",
        "\n",
        "dataset.shape"
      ]
    },
    {
      "cell_type": "markdown",
      "metadata": {
        "id": "dVHH75wceQMe"
      },
      "source": [
        "### Estimate $\\beta$ via ABC-REJ\n",
        "\n",
        "We define:\n",
        "\n",
        "- $\\epsilon = 0.1$ \n",
        "- $p(\\theta) \\sim U(0,1)$"
      ]
    },
    {
      "cell_type": "code",
      "execution_count": 16,
      "metadata": {
        "id": "aJkE7XK4WAzB"
      },
      "outputs": [],
      "source": [
        "# @title define helpers\n",
        "def sample_from_prior(size:int):\n",
        "  return np.random.uniform(0,1,size)"
      ]
    },
    {
      "cell_type": "code",
      "execution_count": 17,
      "metadata": {
        "id": "mfPWFmoneY7E"
      },
      "outputs": [],
      "source": [
        "# @title define a rejection sampler function\n",
        "def ABC_REJ(X:np.ndarray, Y_obs:np.ndarray, epsilon:float) -> float:\n",
        "  num_steps = 1\n",
        "  beta = None\n",
        "  dist_func_jit = jit(calc_distance_V2)\n",
        "  while True:\n",
        "    beta = sample_from_prior(1)\n",
        "    Y_sim = model(X, beta)\n",
        "    distance = dist_func_jit(X, Y_sim, Y_obs)\n",
        "    if distance <= epsilon:\n",
        "      break\n",
        "    else:\n",
        "      num_steps += 1\n",
        "  return beta, num_steps"
      ]
    },
    {
      "cell_type": "code",
      "execution_count": 31,
      "metadata": {
        "colab": {
          "base_uri": "https://localhost:8080/"
        },
        "id": "NxHg0dAUegTz",
        "outputId": "98484ae9-2916-4329-f04e-b0e170b7dfb2"
      },
      "outputs": [
        {
          "name": "stderr",
          "output_type": "stream",
          "text": [
            "100%|██████████| 1000/1000 [04:40<00:00,  3.56it/s]"
          ]
        },
        {
          "name": "stdout",
          "output_type": "stream",
          "text": [
            "\n",
            " average # steps for acceptance: 5.733\n"
          ]
        },
        {
          "name": "stderr",
          "output_type": "stream",
          "text": [
            "\n"
          ]
        }
      ],
      "source": [
        "# @title use ABC-REJ to draw approximate samples from the posterior  { vertical-output: true}\n",
        "samples = []\n",
        "required_steps = []\n",
        "X = dataset[:,0]\n",
        "Y_obs = dataset[:,1]\n",
        "epsilon = 0.01\n",
        "\n",
        "# In the paper, 1,000 accepted samples are drawn\n",
        "for i in tqdm(range(1_000)):\n",
        "  sample, num_steps = ABC_REJ(X, Y_obs, epsilon)\n",
        "  samples.append(sample)\n",
        "  required_steps.append(num_steps)\n",
        "\n",
        "print(f\"\\n average # steps for acceptance: {np.mean(required_steps)}\")\n",
        "\n",
        "\n"
      ]
    },
    {
      "cell_type": "code",
      "execution_count": 32,
      "metadata": {
        "colab": {
          "base_uri": "https://localhost:8080/",
          "height": 300
        },
        "id": "_WzR1U93elyQ",
        "outputId": "c2daaf62-5dd8-460d-c8d2-89c5b95bbaf1"
      },
      "outputs": [
        {
          "data": {
            "text/plain": [
              "Text(0, 0.5, 'density')"
            ]
          },
          "execution_count": 32,
          "metadata": {},
          "output_type": "execute_result"
        },
        {
          "data": {
            "image/png": "[encoded data removed]",
            "text/plain": [
              "<Figure size 432x288 with 1 Axes>"
            ]
          },
          "metadata": {
            "needs_background": "light"
          },
          "output_type": "display_data"
        }
      ],
      "source": [
        "# @title histogram of the samples {vertical-output: true}\n",
        "n, bins, _ = plt.hist(np.array(samples).squeeze(-1), density=True, range=(0,1), bins=40)\n",
        "plt.title(f\" ABC-REJ sampled beta values for 1000 observed sequences with T=20, beta ~ N({mu}, {sigma})\")\n",
        "plt.xlabel(\"beta\")\n",
        "plt.ylabel(\"density\")"
      ]
    },
    {
      "cell_type": "markdown",
      "metadata": {
        "id": "W4lPV6FTmEnq"
      },
      "source": [
        "### Estimate $\\beta$ via ABC-MCMC"
      ]
    },
    {
      "cell_type": "code",
      "execution_count": 45,
      "metadata": {
        "id": "Xn8pbFJAr9sK"
      },
      "outputs": [],
      "source": [
        "# @title define helpers\n",
        "def sample_from_prior(size:int):\n",
        "  return np.random.uniform(0,1,size)\n",
        "\n",
        "# @title Helper Functions\n",
        "def gaussian_pdf(mu:float, sigma_sq:float) -> Callable:\n",
        "  def pdf(x:float) -> float:\n",
        "    return (1/(jnp.sqrt(2*jnp.pi)*jnp.sqrt(sigma_sq)))*jnp.exp(-(x-mu)**2/(2*sigma_sq))\n",
        "  return pdf\n",
        "\n",
        "def q(mu:float, sigma) -> float:\n",
        "  return jnp.clip(np.random.normal(mu, sigma), 0, 1)\n",
        "\n",
        "def gauss_likelihood(x, y, sigma):\n",
        "  \"\"\"\n",
        "  Calculate the likelihood of x as p(x|y) ~ N(y|sigma_sq)\n",
        "  \"\"\"\n",
        "  pdf = gaussian_pdf(y, sigma)\n",
        "  return pdf(x)\n",
        "\n",
        "def uniform_likelihood(low:float, high:float, x:float) -> float:\n",
        "  \"\"\"\n",
        "  Calculate the likelihood of x as p(x) ~ U(low, high)\n",
        "  \"\"\"\n",
        "  if x > high or x < low:\n",
        "    return 0 \n",
        "  else:\n",
        "    return 1 / (high-low)\n",
        "\n",
        "def calc_alpha(beta_star:float, beta:float, epsilon:float, dist:float, sigma:float) -> float:\n",
        "  if dist <= epsilon and uniform_likelihood(0, 1, beta_star) > 0:\n",
        "    return min([1,gauss_likelihood(beta, beta_star, sigma)/gauss_likelihood(beta_star, beta, sigma)])\n",
        "  else:\n",
        "    return 0"
      ]
    },
    {
      "cell_type": "code",
      "execution_count": 46,
      "metadata": {
        "id": "JAacwToImkzQ"
      },
      "outputs": [],
      "source": [
        "# @title Define ABC-MCMC\n",
        "def ABC_MCMC(X:np.ndarray, Y_obs:np.ndarray, N:int, epsilon:float, beta:float, proposal_sigma:float) -> List[float]:\n",
        "  betas = [beta]\n",
        "  beta_hist = [beta]\n",
        "  steps_per_sample = 1\n",
        "  step_hist = []\n",
        "  for i in tqdm(range(N)):\n",
        "    beta_star = q(beta, proposal_sigma)\n",
        "    Y_sim = model(X, beta_star)\n",
        "    dist = calc_distance_V2(X, Y_sim, Y_obs)\n",
        "    alpha = calc_alpha(beta_star, beta, epsilon, dist, proposal_sigma)\n",
        "    if random.random() <= alpha:\n",
        "      beta = beta_star\n",
        "      betas.append(beta)\n",
        "      step_hist.append(steps_per_sample)\n",
        "      steps_per_sample = 1\n",
        "    else:\n",
        "      steps_per_sample += 1\n",
        "    beta_hist.append(beta)\n",
        "  return betas, beta_hist, step_hist"
      ]
    },
    {
      "cell_type": "code",
      "execution_count": 23,
      "metadata": {
        "colab": {
          "base_uri": "https://localhost:8080/",
          "height": 319
        },
        "id": "HmPhyiuMmv0B",
        "outputId": "1e39dcf9-2a8c-4bb5-af24-2283cc87179f"
      },
      "outputs": [
        {
          "name": "stderr",
          "output_type": "stream",
          "text": [
            "100%|██████████| 10000/10000 [10:46<00:00, 15.46it/s]\n"
          ]
        },
        {
          "name": "stdout",
          "output_type": "stream",
          "text": [
            "accepted 7998 samples\n"
          ]
        },
        {
          "data": {
            "text/plain": [
              "[<matplotlib.lines.Line2D at 0x7f6efaded910>]"
            ]
          },
          "execution_count": 23,
          "metadata": {},
          "output_type": "execute_result"
        },
        {
          "data": {
            "image/png": "[encoded data removed]",
            "text/plain": [
              "<Figure size 432x288 with 1 Axes>"
            ]
          },
          "metadata": {
            "needs_background": "light"
          },
          "output_type": "display_data"
        }
      ],
      "source": [
        "# @title Run ABC-MCMC for the example { vertical-output: true}\n",
        "N = 10000\n",
        "X = dataset[:,0]\n",
        "Y_obs = dataset[:,1]\n",
        "epsilon = 0.1\n",
        "beta_init = 0.5\n",
        "proposal_sigma = 0.15\n",
        "\n",
        "betas, beta_hist, step_hist = ABC_MCMC(X, Y_obs, N, epsilon, beta_init, proposal_sigma)\n",
        "\n",
        "print(f\"accepted {len(betas)} samples\")\n",
        "\n",
        "plt.plot(np.arange(len(beta_hist)), beta_hist)"
      ]
    },
    {
      "cell_type": "code",
      "execution_count": 28,
      "metadata": {
        "colab": {
          "base_uri": "https://localhost:8080/",
          "height": 313
        },
        "id": "hLwqRhMquZw0",
        "outputId": "d4ebd922-183d-4b8a-8ef5-c7dd9b1821e1"
      },
      "outputs": [
        {
          "data": {
            "text/plain": [
              "Text(0, 0.5, 'density')"
            ]
          },
          "execution_count": 28,
          "metadata": {},
          "output_type": "execute_result"
        },
        {
          "data": {
            "image/png": "[encoded data removed]",
            "text/plain": [
              "<Figure size 432x288 with 1 Axes>"
            ]
          },
          "metadata": {
            "needs_background": "light"
          },
          "output_type": "display_data"
        }
      ],
      "source": [
        "# @title histogram of the samples {vertical-output: true}\n",
        "n, bins, _ = plt.hist(betas, density=True, range=(0,1), bins=10)\n",
        "plt.title(\"1800 sampled beta values through ABC-MCMC for a dataset of N=1900, beta=0.08\")\n",
        "plt.xlabel(\"beta\")\n",
        "plt.ylabel(\"density\")"
      ]
    },
    {
      "cell_type": "markdown",
      "metadata": {
        "id": "tv8MdqudzOS5"
      },
      "source": [
        "### Estimate $\\beta$ via ABC-PRC\n",
        "\n",
        "we use:\n",
        "\n",
        "- A population of $N=1000$ particles\n",
        "- A sequence of three distributions $f_1, f_2, f_3$ defined through:\n",
        "$$\n",
        "f_t(\\theta|\\rho(S(x_{sim}), S(x_{obs})) \\leq \\epsilon_t) = \\frac{\\pi(\\theta)}{B_t} \\sum_{b=1}^{B_t} \\textbf{1}(\\rho(S(x_{(b)}), S(x_{obs})) \\leq \\epsilon_t)\n",
        "$$\n",
        "- $\\epsilon_1=0.8, \\epsilon_2=0.3, \\epsilon_3=0.1$\n",
        "- $\\pi(\\theta) \\sim U(0,1)$\n",
        "- $\\mu_1(\\theta)=\\pi(\\theta)$\n",
        "- $K_t(\\theta_t|\\theta_{t-1})=L(\\theta_{t-1}|\\theta)$, gaussian random walks with $\\theta_t \\sim \\mathcal{N}(\\theta_{t-1}, 0.1)$"
      ]
    },
    {
      "cell_type": "code",
      "execution_count": 17,
      "metadata": {
        "id": "kznB0wpFy9fE"
      },
      "outputs": [],
      "source": [
        "# @title define helper Functions\n",
        "Sampler = Callable[[int], np.ndarray]\n",
        "\n",
        "def mu_1(num_samples:int) -> float:\n",
        "  return np.random.uniform(0, 1, num_samples)\n",
        "\n",
        "def visualize_results(beta_hist:List[List[float]], mu, sigma) -> None:\n",
        "  \"\"\"\n",
        "  Visualize the results of the ABC-PRJ algorithm.\n",
        "  \"\"\"\n",
        "  beta_pdf = gaussian_pdf(mu, sigma**2)\n",
        "\n",
        "  x_vis = np.linspace(0,1,1_000)\n",
        "  y_vis = beta_pdf(x_vis)\n",
        "\n",
        "  fig, axs = plt.subplots(2,2, sharex=True, sharey=True)\n",
        "\n",
        "  axs[0,0].hist(beta_hist[0], density=True, bins=30)\n",
        "  axs[0,0].plot(x_vis, y_vis)\n",
        "  axs[0,0].set(ylabel='density', title=\"Population 0\")\n",
        "  axs[0,1].hist(beta_hist[1], density=True, bins=30)\n",
        "  axs[0,1].plot(x_vis, y_vis)\n",
        "  axs[0,1].set(title=\"Population 1\")\n",
        "  axs[1,0].hist(beta_hist[2], density=True, bins=30)\n",
        "  axs[1,0].plot(x_vis, y_vis)\n",
        "  axs[1,0].set(xlabel='theta', ylabel='density', title=\"Population 2\")\n",
        "  axs[1,1].hist(beta_hist[3], density=True, bins=30)\n",
        "  axs[1,1].plot(x_vis, y_vis)\n",
        "  axs[1,1].set(xlabel='theta', title=\"Population 3\")\n",
        "\n",
        "  plt.xlim(0,1)\n",
        "  plt.show()"
      ]
    },
    {
      "cell_type": "code",
      "execution_count": 18,
      "metadata": {
        "id": "elrRfoj31gGQ"
      },
      "outputs": [],
      "source": [
        "# @title Define ABC-PRC\n",
        "def ABC_PRC(N:int, epsilons:List[float], mu_1:Sampler, X, Y_obs) -> Tuple[List[float], List[List[float]]]:\n",
        "  betas = mu_1(1000)\n",
        "  beta_hist = [np.copy(betas)]\n",
        "  for t, epsilon in enumerate(tqdm(epsilons)):\n",
        "    for i in range(N):\n",
        "      close_enough = False\n",
        "      beta_star = beta_ss = x_ss = None\n",
        "      while not close_enough:\n",
        "        # Sample from previous population\n",
        "        beta_star = np.random.choice(betas, size=1)\n",
        "        # Move the particle with a gaussian markov kernel\n",
        "        beta_ss = jnp.clip(np.random.normal(beta_star, 0.1), 0, 1)\n",
        "        # sample Y_sim using beta**\n",
        "        Y_sim = model(X, beta_ss)\n",
        "        # check the distance\n",
        "        close_enough = calc_distance_V2(X, Y_sim, Y_obs) <= epsilon\n",
        "      betas[i] = beta_ss.copy()\n",
        "    beta_hist.append(np.copy(betas))\n",
        "  return betas, beta_hist"
      ]
    },
    {
      "cell_type": "code",
      "execution_count": 22,
      "metadata": {
        "colab": {
          "base_uri": "https://localhost:8080/",
          "height": 313
        },
        "id": "RqOaoPLt4wF2",
        "outputId": "c7f54a7f-5fc7-4ea9-adc9-66f95bc0b9a4"
      },
      "outputs": [
        {
          "name": "stderr",
          "output_type": "stream",
          "text": [
            "100%|██████████| 3/3 [03:54<00:00, 78.04s/it]\n"
          ]
        },
        {
          "data": {
            "image/png": "[encoded data removed]",
            "text/plain": [
              "<Figure size 432x288 with 4 Axes>"
            ]
          },
          "metadata": {
            "needs_background": "light"
          },
          "output_type": "display_data"
        }
      ],
      "source": [
        "# @title Run ABC-PRC for the example { vertical-output: true}\n",
        "N = 1000\n",
        "X = dataset[:,0]\n",
        "Y_obs = dataset[:,1]\n",
        "epsilons = [0.6, 0.2, 0.05]\n",
        "\n",
        "betas, beta_hist = ABC_PRC(N, epsilons, mu_1, X, Y_obs)\n",
        "\n",
        "visualize_results(beta_hist, mu, sigma)"
      ]
    },
    {
      "cell_type": "code",
      "execution_count": null,
      "metadata": {
        "id": "CV-Va1Q_88Lw"
      },
      "outputs": [],
      "source": []
    }
  ],
  "metadata": {
    "accelerator": "GPU",
    "colab": {
      "authorship_tag": "ABX9TyM6h3Y4SEhzAm8restmELIk",
      "collapsed_sections": [],
      "include_colab_link": true,
      "provenance": [],
      "toc_visible": true
    },
    "kernelspec": {
      "display_name": "Python 3.10.4 ('torch')",
      "language": "python",
      "name": "python3"
    },
    "language_info": {
      "codemirror_mode": {
        "name": "ipython",
        "version": 3
      },
      "file_extension": ".py",
      "mimetype": "text/x-python",
      "name": "python",
      "nbconvert_exporter": "python",
      "pygments_lexer": "ipython3",
      "version": "3.10.4"
    },
    "vscode": {
      "interpreter": {
        "hash": "d457bbfc426ef2d36a37fd2ab82784599b6e7b389a7b568386df2942100916c1"
      }
    }
  },
  "nbformat": 4,
  "nbformat_minor": 0
}
