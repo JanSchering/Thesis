{
 "cells": [
  {
   "cell_type": "markdown",
   "metadata": {},
   "source": [
    "import modules"
   ]
  },
  {
   "cell_type": "code",
   "execution_count": 56,
   "metadata": {},
   "outputs": [],
   "source": [
    "import torch as t\n",
    "from torch.distributions import normal, uniform\n",
    "import matplotlib.pyplot as plt\n",
    "import numpy as np"
   ]
  },
  {
   "cell_type": "markdown",
   "metadata": {},
   "source": [
    "# Goal\n",
    "\n",
    "Sample from the posterior distribution $p(\\theta|D)$, given a set of independent observations $x \\in D$."
   ]
  },
  {
   "cell_type": "markdown",
   "metadata": {},
   "source": [
    "$$p(\\theta|D) \\propto exp(-U(\\theta))$$\n",
    "\n",
    "U := Potential Energy\n",
    "\n",
    "$$U = - \\sum_{x \\in D} log p(x|\\theta) - log p(\\theta) $$"
   ]
  },
  {
   "cell_type": "markdown",
   "metadata": {},
   "source": [
    "## Hamiltonian Monte-Carlo\n",
    "\n",
    "Hamiltonian (Hybrid) Monte Carlo (HMC) (Duane et al., 1987; Neal, 2010) provides a method for proposing samples of $\\theta$ in a Metropolis-Hastings (MH) framework that efficiently explores the state space as compared to standard random-walk proposals.\n",
    "\n",
    "proposals are generated from a Hamiltonian system based on introducing a set\n",
    "of auxiliary momentum variables, $r$. That is, to sample\n",
    "from $p(\\theta|D)$, HMC considers generating samples from a joint distribution of $(\\theta, r)$ defined by:\n",
    "\n",
    "$$\n",
    "\\pi(\\theta,r) \\propto exp(-U(\\theta) - \\frac{1}{2} r^T M^{-1} r)\n",
    "$$\n",
    "\n",
    "Here, we can define the Hamiltonian energy of the system as:\n",
    "\n",
    "$$\n",
    "H(\\theta,r) = U(\\theta) + \\frac{1}{2} r^T M^{-1} r\n",
    "$$\n",
    "\n",
    "Intuitively, $H$ measures the total energy of a physical system with position variables $\\theta$ and momentum variables $r$.\n",
    "\n",
    "To propose samples, HMC simulates the Hamiltonian dynamics of the system:\n",
    "\n",
    "$$\n",
    "d\\theta = M^{-1}r \\text{ dt} \\\\\n",
    "dr = - \\nabla U(\\theta) \\text{ dt}\n",
    "$$"
   ]
  },
  {
   "cell_type": "markdown",
   "metadata": {},
   "source": [
    "### Hockey-Puck analogy\n",
    "\n",
    "<img src=\"./images/HMC.jpg\" height=\"400\">"
   ]
  },
  {
   "cell_type": "markdown",
   "metadata": {},
   "source": [
    "### The need for acceptance rates\n",
    "\n",
    "Over any interval $s$, the Hamiltonian dynamics of Eq. (4)\n",
    "defines a mapping from the state at time $t$ to the state at\n",
    "time $t + s$. Importantly, this mapping is reversible, which\n",
    "is important in showing that the dynamics leave $\\pi$ invariant. Likewise, the dynamics preserve the total energy, $H$,\n",
    "so proposals are always accepted. \n",
    "\n",
    "In practice, however, we usually cannot simulate exactly from the continuous system\n",
    "of Eq. (4) and instead consider a discretized system. One common approach is the “leapfrog” method, which is outlined below. Because of inaccuracies introduced through the discretization, an MH step must be implemented (i.e.,\n",
    "the acceptance rate is no longer 1). However, acceptance\n",
    "rates still tend to be high even for proposals that can be\n",
    "quite far from their last state."
   ]
  },
  {
   "cell_type": "markdown",
   "metadata": {},
   "source": [
    "### HMC algorithm\n",
    "\n",
    "<img src=\"./images/HMC_alg.PNG\" height=\"400\">"
   ]
  },
  {
   "cell_type": "code",
   "execution_count": 59,
   "metadata": {},
   "outputs": [],
   "source": [
    "def HMC(theta: t.Tensor, step_size: float, grad_fn, H, m:int):\n",
    "    c = 0\n",
    "    while True:\n",
    "        c += 1\n",
    "        #print(f\"step: {c}\")\n",
    "        # resample momentum r\n",
    "        r = normal.Normal(0, 1).sample()\n",
    "        # simulate the discretization of Hamiltonian dynamics\n",
    "        theta_star = theta.detach().clone()\n",
    "        r_star = r - step_size/2 * grad_fn(theta)\n",
    "        for i in range(m):\n",
    "            theta_star = theta_star + step_size * r_star\n",
    "            r_star = r_star - step_size * grad_fn(theta_star)\n",
    "        r_star = r_star - step_size/2 * grad_fn(theta_star)\n",
    "        # Metropolis-Hastings correction\n",
    "        u = uniform.Uniform(0,1).sample()\n",
    "        rho = t.exp(H(theta_star, r_star) - H(theta, r))\n",
    "        if u < min(1, rho):\n",
    "            return theta_star, r_star"
   ]
  },
  {
   "cell_type": "code",
   "execution_count": 60,
   "metadata": {},
   "outputs": [],
   "source": [
    "def grad_fn(theta):\n",
    "    return theta\n",
    "\n",
    "def H(theta, r):\n",
    "    return (1/2) * theta**2 + (1/2) * r**2"
   ]
  },
  {
   "cell_type": "code",
   "execution_count": 94,
   "metadata": {},
   "outputs": [],
   "source": [
    "step_size = 0.05\n",
    "theta_init = uniform.Uniform(-1.,1.).sample()\n",
    "m = 10\n",
    "\n",
    "thetas = []\n",
    "r_vals = []\n",
    "for i in range(10_000):\n",
    "    theta, r = HMC(theta_init, step_size, grad_fn, H, m)\n",
    "    thetas.append(theta)\n",
    "    r_vals.append(r)\n",
    "\n",
    "#plt.plot(thetas, r_vals)"
   ]
  },
  {
   "cell_type": "code",
   "execution_count": 95,
   "metadata": {},
   "outputs": [
    {
     "data": {
      "image/png": "[encoded data removed]",
      "text/plain": [
       "<Figure size 640x480 with 1 Axes>"
      ]
     },
     "metadata": {},
     "output_type": "display_data"
    }
   ],
   "source": [
    "plt.hist(thetas, density=True, bins=20)\n",
    "plt.show()"
   ]
  },
  {
   "cell_type": "code",
   "execution_count": null,
   "metadata": {},
   "outputs": [],
   "source": []
  }
 ],
 "metadata": {
  "kernelspec": {
   "display_name": "Python 3.10.6 ('torchenv')",
   "language": "python",
   "name": "python3"
  },
  "language_info": {
   "codemirror_mode": {
    "name": "ipython",
    "version": 3
   },
   "file_extension": ".py",
   "mimetype": "text/x-python",
   "name": "python",
   "nbconvert_exporter": "python",
   "pygments_lexer": "ipython3",
   "version": "3.10.6"
  },
  "orig_nbformat": 4,
  "vscode": {
   "interpreter": {
    "hash": "b773d0058f1b8f5f38d2d60a234a90a3b3eb0d051bd1b60d95552e21f147b9b6"
   }
  }
 },
 "nbformat": 4,
 "nbformat_minor": 2
}
