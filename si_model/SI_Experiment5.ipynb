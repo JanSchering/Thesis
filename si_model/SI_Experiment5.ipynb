{
 "cells": [
  {
   "attachments": {},
   "cell_type": "markdown",
   "metadata": {},
   "source": [
    "import modules"
   ]
  },
  {
   "cell_type": "code",
   "execution_count": 1,
   "metadata": {},
   "outputs": [
    {
     "name": "stderr",
     "output_type": "stream",
     "text": [
      "c:\\Users\\jsche\\anaconda3\\envs\\torchenv\\lib\\site-packages\\tqdm\\auto.py:22: TqdmWarning: IProgress not found. Please update jupyter and ipywidgets. See https://ipywidgets.readthedocs.io/en/stable/user_install.html\n",
      "  from .autonotebook import tqdm as notebook_tqdm\n"
     ]
    }
   ],
   "source": [
    "# @title imports\n",
    "from typing import Callable, List, Tuple\n",
    "import sys\n",
    "sys.path.insert(0, '../abc')\n",
    "import torch as t\n",
    "from torch.distributions import normal, uniform\n",
    "import numpy as np\n",
    "import matplotlib.pyplot as plt\n",
    "import random\n",
    "from IPython.display import Image\n",
    "from IPython import display\n",
    "from tqdm import tqdm\n",
    "import time\n",
    "from model import init_grids, model\n",
    "from vis_utils import visualize_batch, visualize_sequence\n",
    "from utils import chop_and_shuffle_data\n",
    "from helpers import gaussian_pdf\n",
    "from distance_funcs import S1, mean_sq_distance"
   ]
  },
  {
   "cell_type": "code",
   "execution_count": 2,
   "metadata": {},
   "outputs": [],
   "source": [
    "def abc_prc(\n",
    "    X: t.Tensor,\n",
    "    Y_obs: t.Tensor,\n",
    "    model,\n",
    "    mu_1,\n",
    "    kernel: Callable[[t.Tensor], t.Tensor],\n",
    "    distance_func,\n",
    "    epsilons: List[float],\n",
    "    N: int,\n",
    ") -> Tuple[t.Tensor, List[t.Tensor], float]:\n",
    "    \"\"\"\n",
    "    Perform approximate Bayesian computation through Sequential Monte Carlo with Particle\n",
    "    Rejection Control as defined in https://www.pnas.org/doi/pdf/10.1073/pnas.0607208104.\n",
    "\n",
    "    X:              The Model inputs.\n",
    "    Y_obs:          The observed outputs (based on the inputs).\n",
    "    model:          The Model.\n",
    "    mu_1:           Initial sampling distribution over theta.\n",
    "    kernel:         Markov transition kernel to move theta.\n",
    "    distance_func:  Calculates the distance between two sets of observations (given a set of inputs).\n",
    "    epsilons:       A list of increasingly stricter distance thresholds.\n",
    "    \"\"\"\n",
    "    data_gen_hist = []\n",
    "    thetas = mu_1(N)\n",
    "    theta_hist = [thetas.detach().clone().numpy()]\n",
    "    for _, epsilon in enumerate(epsilons):\n",
    "        print(f'epsilon: {epsilon}')\n",
    "        for i in tqdm(range(N)):\n",
    "            close_enough = False\n",
    "            theta_star = theta_ss = Y_sim = None\n",
    "            n_data_generations = 0\n",
    "            while not close_enough:\n",
    "                # Sample from previous population\n",
    "                theta_star = thetas[t.randint(len(thetas), (1,))]\n",
    "                # Move the particle with a gaussian markov kernel\n",
    "                theta_ss = kernel(theta_star)\n",
    "                # sample Y_sim using beta**\n",
    "                Y_sim = model(X, theta_ss)\n",
    "                n_data_generations += 1\n",
    "                # check the distance\n",
    "                close_enough = distance_func(X, Y_sim, Y_obs) <= epsilon\n",
    "            thetas[i] = theta_ss.detach().clone()\n",
    "            data_gen_hist.append(n_data_generations)\n",
    "        theta_hist.append(thetas.detach().clone().numpy())\n",
    "    return thetas, theta_hist, data_gen_hist"
   ]
  },
  {
   "cell_type": "code",
   "execution_count": 2,
   "metadata": {},
   "outputs": [],
   "source": [
    "grid_size = 30 \n",
    "num_sequences = 500\n",
    "steps_per_sequence = 15 \n",
    "mu = t.tensor(0.2) \n",
    "sigma = t.tensor(0.01) \n",
    "\n",
    "frame_speed = 0.1 "
   ]
  },
  {
   "cell_type": "code",
   "execution_count": 3,
   "metadata": {},
   "outputs": [
    {
     "name": "stderr",
     "output_type": "stream",
     "text": [
      "100%|██████████| 500/500 [00:04<00:00, 105.19it/s]\n"
     ]
    }
   ],
   "source": [
    "sequences = t.zeros((num_sequences, steps_per_sequence, grid_size, grid_size))\n",
    "betas = []\n",
    "\n",
    "# @title generate dataset\n",
    "for seq_idx in tqdm(range(num_sequences)):\n",
    "  sequence = init_grids(grid_size,1)\n",
    "  for step_idx in range(steps_per_sequence):\n",
    "    beta = t.clip(normal.Normal(mu, sigma).sample(), 0, 1)\n",
    "    sequences[seq_idx,step_idx,:,:] = sequence\n",
    "    sequence = model(sequence, beta)\n",
    "    betas.append(beta.detach().cpu())\n",
    "\n",
    "dataset = chop_and_shuffle_data(sequences)"
   ]
  },
  {
   "cell_type": "code",
   "execution_count": 7,
   "metadata": {},
   "outputs": [
    {
     "data": {
      "image/png": "[encoded data removed]",
      "text/plain": [
       "<Figure size 640x480 with 1 Axes>"
      ]
     },
     "metadata": {},
     "output_type": "display_data"
    },
    {
     "name": "stdout",
     "output_type": "stream",
     "text": [
      "tensor(0.1998)\n"
     ]
    }
   ],
   "source": [
    "plt.hist(betas, density=True, bins=30)\n",
    "plt.title(\"empirical distribution over beta for the generated dataset\")\n",
    "plt.xlabel(\"beta\")\n",
    "plt.ylabel(\"density\")\n",
    "plt.show()\n",
    "print(t.mean(t.tensor(betas)))"
   ]
  },
  {
   "cell_type": "code",
   "execution_count": 4,
   "metadata": {},
   "outputs": [],
   "source": [
    "def calc_distance(X, Y_sim:t.Tensor, Y_obs:t.Tensor) -> t.Tensor:\n",
    "  # get statistics of the simulated set\n",
    "  s_sim = S1(X, Y_sim)\n",
    "  # get statistics of the observed set\n",
    "  s_obs = S1(X, Y_obs)\n",
    "  # calculate the mean ratio\n",
    "  return (1 - t.mean(s_sim / (s_obs+1)))**2"
   ]
  },
  {
   "cell_type": "code",
   "execution_count": 5,
   "metadata": {},
   "outputs": [
    {
     "data": {
      "text/plain": [
       "tensor(0.2689, dtype=torch.float64)"
      ]
     },
     "execution_count": 5,
     "metadata": {},
     "output_type": "execute_result"
    }
   ],
   "source": [
    "X = dataset[:,0]\n",
    "Y_obs = dataset[:,1]\n",
    "calc_distance(X, Y_obs, model(X,0.5))"
   ]
  },
  {
   "cell_type": "markdown",
   "metadata": {},
   "source": [
    "# ABC-PRC"
   ]
  },
  {
   "cell_type": "code",
   "execution_count": 10,
   "metadata": {},
   "outputs": [
    {
     "name": "stderr",
     "output_type": "stream",
     "text": [
      "c:\\Users\\jsche\\anaconda3\\envs\\torchenv\\lib\\site-packages\\torch\\distributions\\distribution.py:167: UserWarning: sample_n will be deprecated. Use .sample((n,)) instead\n",
      "  warnings.warn('sample_n will be deprecated. Use .sample((n,)) instead', UserWarning)\n"
     ]
    },
    {
     "name": "stdout",
     "output_type": "stream",
     "text": [
      "epsilon: 0.6\n"
     ]
    },
    {
     "name": "stderr",
     "output_type": "stream",
     "text": [
      "100%|██████████| 2000/2000 [17:37<00:00,  1.89it/s]\n"
     ]
    },
    {
     "name": "stdout",
     "output_type": "stream",
     "text": [
      "epsilon: 0.2\n"
     ]
    },
    {
     "name": "stderr",
     "output_type": "stream",
     "text": [
      "100%|██████████| 2000/2000 [17:03<00:00,  1.95it/s]\n"
     ]
    },
    {
     "name": "stdout",
     "output_type": "stream",
     "text": [
      "epsilon: 0.05\n"
     ]
    },
    {
     "name": "stderr",
     "output_type": "stream",
     "text": [
      "100%|██████████| 2000/2000 [25:07<00:00,  1.33it/s] \n"
     ]
    },
    {
     "name": "stdout",
     "output_type": "stream",
     "text": [
      "epsilon: 0.005\n"
     ]
    },
    {
     "name": "stderr",
     "output_type": "stream",
     "text": [
      "100%|██████████| 2000/2000 [59:40<00:00,  1.79s/it] \n"
     ]
    }
   ],
   "source": [
    "# @title Run ABC-PRC for the example { vertical-output: true}\n",
    "N = 2_000\n",
    "X = dataset[:,0]\n",
    "Y_obs = dataset[:,1]\n",
    "epsilons = [0.6, 0.2, 0.05, 0.005]\n",
    "mu_1 = uniform.Uniform(t.tensor(0.), t.tensor(1.)).sample_n\n",
    "\n",
    "def kernel(beta:t.Tensor):\n",
    "    return normal.Normal(beta, 0.1).sample()\n",
    "\n",
    "betas, beta_hist, data_gen_hist = abc_prc(X, Y_obs, model, mu_1, kernel, calc_distance, epsilons, N)"
   ]
  },
  {
   "cell_type": "code",
   "execution_count": null,
   "metadata": {},
   "outputs": [],
   "source": [
    "beta_pdf = gaussian_pdf(mu, sigma**2)\n",
    "\n",
    "x_vis = t.linspace(0,1,1_000)\n",
    "y_vis = beta_pdf(x_vis)\n",
    "\n",
    "fig, axs = plt.subplots(3,2, sharex=True, sharey=True)\n",
    "\n",
    "axs[0,0].hist(beta_hist[0], density=True, bins=30)\n",
    "axs[0,0].plot(x_vis, y_vis)\n",
    "axs[0,0].set(ylabel='density', title=\"Population 0\")\n",
    "axs[0,1].hist(beta_hist[1], density=True, bins=30)\n",
    "axs[0,1].plot(x_vis, y_vis)\n",
    "axs[0,1].set(title=\"Population 1\")\n",
    "axs[1,0].hist(beta_hist[2], density=True, bins=30)\n",
    "axs[1,0].plot(x_vis, y_vis)\n",
    "axs[1,0].set( ylabel='density', title=\"Population 2\")\n",
    "axs[1,1].hist(beta_hist[3], density=True, bins=30)\n",
    "axs[1,1].plot(x_vis, y_vis)\n",
    "axs[1,1].set( title=\"Population 3\")\n",
    "axs[2,0].hist(beta_hist[4], density=True, bins=40)\n",
    "axs[2,0].plot(x_vis, y_vis)\n",
    "axs[2,0].set(xlabel='theta', title=\"Population 4\")\n",
    "\n",
    "plt.xlim(0,0.4)\n",
    "plt.show()"
   ]
  },
  {
   "cell_type": "code",
   "execution_count": 20,
   "metadata": {},
   "outputs": [
    {
     "name": "stdout",
     "output_type": "stream",
     "text": [
      "tensor(1.6785)\n",
      "tensor(1.7045)\n",
      "tensor(2.5710)\n",
      "tensor(7.2645)\n"
     ]
    },
    {
     "data": {
      "text/plain": [
       "8000"
      ]
     },
     "execution_count": 20,
     "metadata": {},
     "output_type": "execute_result"
    }
   ],
   "source": [
    "print(t.mean(t.tensor(data_gen_hist[:2000], dtype=t.float)))\n",
    "print(t.mean(t.tensor(data_gen_hist[2000:4000], dtype=t.float)))\n",
    "print(t.mean(t.tensor(data_gen_hist[4000:6000], dtype=t.float)))\n",
    "print(t.mean(t.tensor(data_gen_hist[6000:8000], dtype=t.float)))\n",
    "len(data_gen_hist)"
   ]
  },
  {
   "cell_type": "markdown",
   "metadata": {},
   "source": [
    "# ABC-REJ"
   ]
  },
  {
   "cell_type": "code",
   "execution_count": 6,
   "metadata": {},
   "outputs": [
    {
     "name": "stderr",
     "output_type": "stream",
     "text": [
      "100%|██████████| 2000/2000 [1:28:23<00:00,  2.65s/it]\n"
     ]
    }
   ],
   "source": [
    "from abc_rej import abc_rej\n",
    "from model import model_STE\n",
    "\n",
    "X = dataset[:,0]\n",
    "X = X.cuda()\n",
    "Y_obs = dataset[:,1]\n",
    "Y_obs = Y_obs.cuda()\n",
    "epsilon = 0.005\n",
    "prior = uniform.Uniform(0.,1.).sample\n",
    "\n",
    "betas = []\n",
    "step_hist = []\n",
    "for i in tqdm(range(2000)):\n",
    "    theta, num_steps = abc_rej(X, Y_obs, epsilon, prior, model_STE, calc_distance)\n",
    "    betas.append(theta.detach().cpu().numpy())\n",
    "    step_hist.append(num_steps)"
   ]
  },
  {
   "cell_type": "code",
   "execution_count": 11,
   "metadata": {},
   "outputs": [
    {
     "data": {
      "text/plain": [
       "(0.0, 0.4)"
      ]
     },
     "execution_count": 11,
     "metadata": {},
     "output_type": "execute_result"
    },
    {
     "data": {
      "image/png": "[encoded data removed]",
      "text/plain": [
       "<Figure size 640x480 with 1 Axes>"
      ]
     },
     "metadata": {},
     "output_type": "display_data"
    }
   ],
   "source": [
    "plt.hist(betas, density=True, bins=20)\n",
    "plt.title(\"N=2000 samples drawn using Rejection sampling\")\n",
    "plt.ylabel(\"density\")\n",
    "plt.xlabel(\"beta\")\n",
    "\n",
    "plt.xlim(0,0.4)"
   ]
  },
  {
   "cell_type": "code",
   "execution_count": 14,
   "metadata": {},
   "outputs": [
    {
     "data": {
      "text/plain": [
       "tensor(27.6265)"
      ]
     },
     "execution_count": 14,
     "metadata": {},
     "output_type": "execute_result"
    }
   ],
   "source": [
    "t.mean(t.tensor(step_hist, dtype=t.float))"
   ]
  },
  {
   "cell_type": "markdown",
   "metadata": {},
   "source": [
    "# ABC-MCMC"
   ]
  },
  {
   "cell_type": "code",
   "execution_count": 6,
   "metadata": {},
   "outputs": [],
   "source": [
    "sigma = t.tensor(0.1)\n",
    "\n",
    "\n",
    "def q(mu: t.Tensor) -> float:\n",
    "    return t.clip(normal.Normal(mu, sigma.cuda()).sample().cuda(), 0, 1)\n",
    "\n",
    "\n",
    "def gauss_likelihood(x: t.Tensor, y: t.Tensor) -> t.Tensor:\n",
    "    pdf = gaussian_pdf(y, sigma**2)\n",
    "    return pdf(x)\n",
    "\n",
    "\n",
    "def uniform_likelihood(low: float, high: float, x: t.Tensor) -> float:\n",
    "    if x > high or x < low:\n",
    "        return 0\n",
    "    else:\n",
    "        return 1 / (high - low)\n",
    "\n",
    "\n",
    "def calc_alpha(\n",
    "    theta_star: t.Tensor, theta: t.Tensor, epsilon: float, dist: t.Tensor\n",
    ") -> t.Tensor:\n",
    "    if dist <= epsilon and uniform_likelihood(-10, 10, theta_star) > 0:\n",
    "        ratio = gauss_likelihood(theta, theta_star) / gauss_likelihood(\n",
    "            theta_star, theta\n",
    "        )\n",
    "        return t.min(t.tensor([t.tensor(1.0), ratio]).cuda())\n",
    "    else:\n",
    "        return t.tensor(0.0)"
   ]
  },
  {
   "cell_type": "code",
   "execution_count": 7,
   "metadata": {},
   "outputs": [
    {
     "name": "stderr",
     "output_type": "stream",
     "text": [
      "100%|██████████| 10000/10000 [21:39<00:00,  7.69it/s]"
     ]
    },
    {
     "name": "stdout",
     "output_type": "stream",
     "text": [
      "accepted 1462 samples\n"
     ]
    },
    {
     "name": "stderr",
     "output_type": "stream",
     "text": [
      "\n"
     ]
    },
    {
     "data": {
      "text/plain": [
       "[<matplotlib.lines.Line2D at 0x19050305540>]"
      ]
     },
     "execution_count": 7,
     "metadata": {},
     "output_type": "execute_result"
    },
    {
     "data": {
      "image/png": "[encoded data removed]",
      "text/plain": [
       "<Figure size 640x480 with 1 Axes>"
      ]
     },
     "metadata": {},
     "output_type": "display_data"
    }
   ],
   "source": [
    "from abc_mcmc import abc_mcmc\n",
    "from model import model_STE\n",
    "N = 10000\n",
    "X = dataset[:,0]\n",
    "X = X.cuda()\n",
    "Y_obs = dataset[:,1]\n",
    "Y_obs = Y_obs.cuda()\n",
    "epsilon = 0.005\n",
    "beta_init = t.tensor(0.5).cuda()\n",
    "\n",
    "betas, beta_hist, step_hist = abc_mcmc(X, Y_obs, beta_init, model_STE, calc_distance, calc_alpha, epsilon, q, N)\n",
    "\n",
    "print(f\"accepted {len(betas)} samples\")\n",
    "\n",
    "plt.plot(np.arange(len(beta_hist)), beta_hist)"
   ]
  },
  {
   "cell_type": "code",
   "execution_count": 17,
   "metadata": {},
   "outputs": [
    {
     "data": {
      "image/png": "[encoded data removed]",
      "text/plain": [
       "<Figure size 640x480 with 1 Axes>"
      ]
     },
     "metadata": {},
     "output_type": "display_data"
    }
   ],
   "source": [
    "bins = plt.hist(np.array(betas), density=True, bins=50)\n",
    "plt.xlim(0,0.4)\n",
    "plt.show()"
   ]
  },
  {
   "cell_type": "markdown",
   "metadata": {},
   "source": [
    "# Gradient Descent"
   ]
  },
  {
   "cell_type": "code",
   "execution_count": 18,
   "metadata": {},
   "outputs": [],
   "source": [
    "def update(\n",
    "    beta: t.Tensor, X: t.Tensor, Y_obs: t.Tensor, learning_rate: float\n",
    ") -> t.Tensor:\n",
    "    beta.requires_grad_()\n",
    "    Y_sim = model_STE(X, beta)\n",
    "    dist = calc_distance(X, Y_sim, Y_obs)\n",
    "    gradient = t.autograd.grad(dist, beta)[0]\n",
    "    return beta - learning_rate * gradient, gradient\n",
    "\n",
    "def train(beta: t.Tensor, X: t.Tensor, Y_obs: t.Tensor, lr:float, num_steps:int):\n",
    "    beta_hist = []\n",
    "    grad_hist = []\n",
    "    X = X.cuda()\n",
    "    Y_obs = Y_obs.cuda()\n",
    "    beta = beta.cuda()\n",
    "    for i in tqdm(range(num_steps)):\n",
    "        beta, gradient = update(beta, X, Y_obs, lr)\n",
    "        beta_hist.append(beta.detach().clone().cpu().numpy())\n",
    "        grad_hist.append(gradient.detach().clone().cpu().numpy())\n",
    "    return beta, beta_hist, grad_hist"
   ]
  },
  {
   "cell_type": "code",
   "execution_count": 20,
   "metadata": {},
   "outputs": [
    {
     "name": "stderr",
     "output_type": "stream",
     "text": [
      "100%|██████████| 1000/1000 [02:09<00:00,  7.75it/s]\n"
     ]
    }
   ],
   "source": [
    "X = dataset[:, 0]\n",
    "Y_obs = dataset[:, 1]\n",
    "beta_init = uniform.Uniform(t.tensor(0.), t.tensor(1.)).sample()\n",
    "lr = 0.01\n",
    "num_steps = 1_000\n",
    "\n",
    "beta, beta_hist, grad_hist = train(beta_init, X, Y_obs, lr, num_steps)"
   ]
  },
  {
   "cell_type": "code",
   "execution_count": 21,
   "metadata": {},
   "outputs": [
    {
     "data": {
      "text/plain": [
       "[<matplotlib.lines.Line2D at 0x190a04f6800>]"
      ]
     },
     "execution_count": 21,
     "metadata": {},
     "output_type": "execute_result"
    },
    {
     "data": {
      "image/png": "[encoded data removed]",
      "text/plain": [
       "<Figure size 640x480 with 1 Axes>"
      ]
     },
     "metadata": {},
     "output_type": "display_data"
    }
   ],
   "source": [
    "plt.plot(np.arange(len(beta_hist)), beta_hist)"
   ]
  },
  {
   "cell_type": "code",
   "execution_count": 22,
   "metadata": {},
   "outputs": [
    {
     "name": "stderr",
     "output_type": "stream",
     "text": [
      "100%|██████████| 1000/1000 [02:42<00:00,  6.17it/s]\n"
     ]
    }
   ],
   "source": [
    "X = dataset[:, 0]\n",
    "Y_obs = dataset[:, 1]\n",
    "beta_init = uniform.Uniform(t.tensor(0.), t.tensor(1.)).sample()\n",
    "lr = 0.001\n",
    "num_steps = 1_000\n",
    "\n",
    "beta, beta_hist, grad_hist = train(beta_init, X, Y_obs, lr, num_steps)"
   ]
  },
  {
   "cell_type": "code",
   "execution_count": 23,
   "metadata": {},
   "outputs": [
    {
     "data": {
      "text/plain": [
       "[<matplotlib.lines.Line2D at 0x190a05503d0>]"
      ]
     },
     "execution_count": 23,
     "metadata": {},
     "output_type": "execute_result"
    },
    {
     "data": {
      "image/png": "[encoded data removed]",
      "text/plain": [
       "<Figure size 640x480 with 1 Axes>"
      ]
     },
     "metadata": {},
     "output_type": "display_data"
    }
   ],
   "source": [
    "plt.plot(np.arange(len(beta_hist)), beta_hist)"
   ]
  },
  {
   "cell_type": "markdown",
   "metadata": {},
   "source": [
    "# Stochastic Gradient Descent"
   ]
  },
  {
   "cell_type": "code",
   "execution_count": 24,
   "metadata": {},
   "outputs": [],
   "source": [
    "from torch.utils.data import Dataset\n",
    "from torch.utils.data import DataLoader\n",
    "class CustomDataset(Dataset):\n",
    "    def __init__(self, beta_mu, beta_sigma, num_sequences, steps_per_sequence, grid_size):\n",
    "        sequences = t.zeros((num_sequences, steps_per_sequence, grid_size, grid_size))\n",
    "        self.betas = []\n",
    "\n",
    "        for seq_idx in tqdm(range(num_sequences)):\n",
    "            sequence = init_grids(grid_size,1)\n",
    "            for step_idx in range(steps_per_sequence):\n",
    "                beta = t.clip(normal.Normal(beta_mu, beta_sigma).sample(), 0, 1)\n",
    "                sequences[seq_idx,step_idx,:,:] = sequence\n",
    "                sequence = model_STE(sequence, beta)\n",
    "                self.betas.append(beta.detach().cpu())\n",
    "\n",
    "        dataset = chop_and_shuffle_data(sequences, shuffle=False)\n",
    "        self.data = dataset\n",
    "\n",
    "    def __len__(self):\n",
    "        return self.data.shape[0]\n",
    "\n",
    "    def __getitem__(self, idx):\n",
    "        return self.data[idx], 0"
   ]
  },
  {
   "cell_type": "code",
   "execution_count": 26,
   "metadata": {},
   "outputs": [
    {
     "name": "stderr",
     "output_type": "stream",
     "text": [
      "100%|██████████| 500/500 [00:04<00:00, 114.16it/s]\n"
     ]
    }
   ],
   "source": [
    "training_data = CustomDataset(beta_mu=0.2, beta_sigma=0.01, num_sequences=500, steps_per_sequence=15, grid_size=25)\n",
    "training_loader = DataLoader(training_data, batch_size=32, shuffle=True)"
   ]
  },
  {
   "cell_type": "code",
   "execution_count": 34,
   "metadata": {},
   "outputs": [],
   "source": [
    "beta = uniform.Uniform(t.tensor(0.), t.tensor(1.)).sample()\n",
    "beta = beta.cuda()\n",
    "beta.requires_grad_()\n",
    "lr = 0.001\n",
    "epochs = 1_000\n",
    "optimizer = t.optim.SGD([beta], lr=lr)\n",
    "\n",
    "def train_loop(dataloader, optimizer):\n",
    "    size = len(dataloader.dataset)\n",
    "    beta_vals = []\n",
    "    for batch, (transitions, y) in enumerate(dataloader):\n",
    "        X = transitions[:, 0]\n",
    "        X = X.cuda()\n",
    "        Y_obs = transitions[:, 1]\n",
    "        Y_obs = Y_obs.cuda()\n",
    "        # Compute prediction and loss\n",
    "        Y_sim = model_STE(X, beta)\n",
    "        dist = calc_distance(X, Y_sim, Y_obs)\n",
    "\n",
    "        # Backpropagation\n",
    "        optimizer.zero_grad()\n",
    "        dist.backward()\n",
    "        optimizer.step()\n",
    "        beta_vals.append(beta.detach().clone().cpu().numpy())\n",
    "    return beta_vals"
   ]
  },
  {
   "cell_type": "code",
   "execution_count": 35,
   "metadata": {},
   "outputs": [
    {
     "name": "stderr",
     "output_type": "stream",
     "text": [
      "100%|██████████| 20/20 [00:10<00:00,  1.83it/s]\n"
     ]
    }
   ],
   "source": [
    "betas = [beta.detach().cpu().numpy()]\n",
    "for epoch in tqdm(range(20)):\n",
    "    betas = betas + train_loop(training_loader, optimizer)"
   ]
  },
  {
   "cell_type": "code",
   "execution_count": 36,
   "metadata": {},
   "outputs": [
    {
     "data": {
      "text/plain": [
       "[<matplotlib.lines.Line2D at 0x190a05518d0>]"
      ]
     },
     "execution_count": 36,
     "metadata": {},
     "output_type": "execute_result"
    },
    {
     "data": {
      "image/png": "[encoded data removed]",
      "text/plain": [
       "<Figure size 640x480 with 1 Axes>"
      ]
     },
     "metadata": {},
     "output_type": "display_data"
    }
   ],
   "source": [
    "plt.plot(np.arange(len(betas)), betas)"
   ]
  },
  {
   "cell_type": "code",
   "execution_count": null,
   "metadata": {},
   "outputs": [],
   "source": []
  }
 ],
 "metadata": {
  "kernelspec": {
   "display_name": "Python 3.10.6 ('torchenv')",
   "language": "python",
   "name": "python3"
  },
  "language_info": {
   "codemirror_mode": {
    "name": "ipython",
    "version": 3
   },
   "file_extension": ".py",
   "mimetype": "text/x-python",
   "name": "python",
   "nbconvert_exporter": "python",
   "pygments_lexer": "ipython3",
   "version": "3.10.6"
  },
  "orig_nbformat": 4,
  "vscode": {
   "interpreter": {
    "hash": "b773d0058f1b8f5f38d2d60a234a90a3b3eb0d051bd1b60d95552e21f147b9b6"
   }
  }
 },
 "nbformat": 4,
 "nbformat_minor": 2
}
