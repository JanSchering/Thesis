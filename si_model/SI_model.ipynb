{
 "cells": [
  {
   "cell_type": "markdown",
   "metadata": {},
   "source": [
    "# Defining the SI Model"
   ]
  },
  {
   "cell_type": "markdown",
   "metadata": {},
   "source": [
    "we consider a Probabilistic Cellular Automata (PCA) model\n",
    "for the diffusive spread of a news item [(adapting a toy example for Interactive Markov Chains)](https://www.tandfonline.com/doi/abs/10.1080/0022250X.1976.9989852). \n",
    "\n",
    "Using the [PCA framework](https://link.springer.com/book/10.1007/978-3-319-65558-1), we define:\n",
    "\n"
   ]
  },
  {
   "cell_type": "markdown",
   "metadata": {},
   "source": [
    "- The Graph $G$ to be a 2D lattice of $(K,K)$ regular cells\n",
    "- The Alphabet $S:= \\{0,1\\}$\n",
    "\n",
    "This means, we have a square grid of cells, where each cell can either be 1 (infected) or 0 (not infected)"
   ]
  },
  {
   "cell_type": "code",
   "execution_count": 54,
   "metadata": {},
   "outputs": [
    {
     "name": "stdout",
     "output_type": "stream",
     "text": [
      "torch.Size([1, 9, 9])\n"
     ]
    },
    {
     "data": {
      "image/png": "[encoded data removed]",
      "text/plain": [
       "<Figure size 432x288 with 1 Axes>"
      ]
     },
     "metadata": {
      "needs_background": "light"
     },
     "output_type": "display_data"
    }
   ],
   "source": [
    "import numpy as np\n",
    "from model import init_grids\n",
    "import matplotlib.pyplot as plt\n",
    "\n",
    "batch = init_grids(size=9, batch_size=1)\n",
    "print(batch.shape)\n",
    "\n",
    "plt.imshow(batch.squeeze(), cmap=\"Greys\", interpolation=\"nearest\", vmin=0, vmax=1)\n",
    "plt.grid(color='black', linewidth=2)\n",
    "ax = plt.gca()\n",
    "ax.set_xticks(np.arange(-.5, 9.5, 1))\n",
    "ax.set_yticks(np.arange(-.5, 9.5, 1))\n",
    "plt.show()"
   ]
  },
  {
   "cell_type": "markdown",
   "metadata": {},
   "source": [
    "- A periodic Torus wrapping around the PCA\n",
    "\n",
    "In order to handle the border conditions of the CA, we will define a continuous torus by periodically wrapping around the border of the CA. E.g., for a $(K, K)$-sized CA, the neighbor of cell $(0,3)$ will be cell \n",
    "$(K-1,3)$. Equivalently, for cell $(2,0)$, the left neighbor would be $(2,K-1)$.\n"
   ]
  },
  {
   "cell_type": "code",
   "execution_count": 49,
   "metadata": {},
   "outputs": [
    {
     "data": {
      "image/png": "[encoded data removed]",
      "text/plain": [
       "<Figure size 432x288 with 2 Axes>"
      ]
     },
     "metadata": {
      "needs_background": "light"
     },
     "output_type": "display_data"
    }
   ],
   "source": [
    "from periodic_padding import periodic_padding\n",
    "\n",
    "grids = init_grids(size=3, batch_size=1)\n",
    "grids[0,0,1] = 1\n",
    "\n",
    "padded_grids = periodic_padding(grids)\n",
    "\n",
    "fig, axs = plt.subplots(1,2)\n",
    "axs[0].imshow(grids.squeeze(), cmap=\"Greys\", interpolation=\"nearest\", vmin=0, vmax=1)\n",
    "axs[0].set(title=\"unpadded grid\")\n",
    "axs[0].grid(color='black', linewidth=2)\n",
    "axs[0].set_xticks(np.arange(-.5, 2.5, 1))\n",
    "axs[0].set_yticks(np.arange(-.5, 2.5, 1))\n",
    "axs[1].imshow(padded_grids.squeeze(), cmap=\"Greys\", interpolation=\"nearest\", vmin=0, vmax=1)\n",
    "axs[1].set(title=\"padded grid\")\n",
    "extent = (0, padded_grids.shape[2], padded_grids.shape[2], 0)\n",
    "axs[1].grid(color='black', linewidth=2)\n",
    "axs[1].set_xticks(np.arange(-.5, 4., 1))\n",
    "axs[1].set_yticks(np.arange(-.5, 4., 1))\n",
    "plt.show()"
   ]
  },
  {
   "cell_type": "markdown",
   "metadata": {},
   "source": [
    "- The neighborhood $V_k$ of cell $k$ is the square Moore neighborhood with distance 1:\n",
    "\n",
    "This means that we consider every cell that is touching either an edge or a corner of cell $(i,j)$ to be its' neighbor."
   ]
  },
  {
   "cell_type": "markdown",
   "metadata": {},
   "source": [
    "The PCA simulates the spread of the news over time. To do that, we consider a timeframe of $T$ discrete timesteps. At each timestep $t$, the probability of reaching a configuration $\\sigma_{t+1} \\in S^{K\\times K}$ from a current configuration $\\sigma_{t} \\in S^{K\\times K}$ is:\n",
    "\n",
    "$$P(\\sigma_{t+1} | \\sigma_t) = \\prod_{k \\in G} p(\\sigma_{t+1}^k|\\sigma_t^{V_k})$$\n",
    "\n",
    "Where we define $p(\\sigma_{t+1}^k|\\sigma_t^{V_k})$, the probability of cell $k$ transitioning to state $\\sigma_{t+1}^k$ given the state of its' neighborhood $\\sigma_t^{V_k}$ as:\n",
    "\n",
    "$$p(\\sigma_{t+1}^k|\\sigma_t^{V_k}) = \\begin{pmatrix}\n",
    "1 & 1-(1-\\beta)^{N_k(n)} \\\\\n",
    "0 & (1-\\beta)^{N_k(n)}\n",
    "\\end{pmatrix}$$\n",
    "\n",
    "The probability matrix represents, that once a person is aware of the news, they stay aware ($p_{11} = 1$, $p_{21}=0$). The probability, with which an uninformed person stays uninformed at time $n+1$ depends on the amount of local neighbors that are informed at time $n$, $N_k(n)$. Given a rate of spread $\\beta$ (the diffusion coefficient), the probability to stay unaware is $p_{22}= (1-\\beta)^{N_k(n)}$. Conversely, the probability that the news spread to cell $k$ is $p_{21} = 1 - p_{22} = 1-(1-\\beta)^{N_k(n)}$."
   ]
  },
  {
   "cell_type": "markdown",
   "metadata": {},
   "source": [
    "### 2. Defining a Convolution that finds the number of active neighbors for each cell\n",
    "\n",
    "The update of cell $k$ depends on the configuration of it's neighborhood $\\mu_{V_k}$. More directly, we care about the number of active (state=1) neighbors of\n",
    "cell $k$. To find the amount, we can simply apply a $3\\times3$ convolution onto $k$ with the following kernel:\n",
    "\n",
    "$$F(\\mu_{V_k}) = \\begin{pmatrix}\n",
    "1 & 1 & 1 \\\\\n",
    "1 & 0 & 1 \\\\\n",
    "1 & 1 & 1 \n",
    "\\end{pmatrix} \\circledast \\mu_{V_k}$$"
   ]
  },
  {
   "cell_type": "code",
   "execution_count": null,
   "metadata": {},
   "outputs": [],
   "source": []
  },
  {
   "cell_type": "markdown",
   "metadata": {},
   "source": [
    "### 3. Defining a function to calculate the likelihood of the news item spreading to a cell\n",
    "\n",
    "We get the likelihood of each cell being activated as:\n",
    "\n",
    "$$p(\\sigma=1|\\mu_{V_k})=1-(1-\\beta)^{F(\\mu_{V_k})}$$\n",
    "\n",
    "resulting in a $(K,K)$ matrix, where each entry $(i,j)$ corresponds to the probability of the cell at the lattice coordinates $i,j$ being activated."
   ]
  },
  {
   "cell_type": "code",
   "execution_count": null,
   "metadata": {},
   "outputs": [],
   "source": []
  },
  {
   "cell_type": "markdown",
   "metadata": {},
   "source": [
    "### 4. Defining a differentiable approximation of the heaviside step-function\n",
    "\n",
    "$$H(x) \\approx \\frac{1}{2} + \\frac{1}{2}\\text{tanh}(kx) = \\frac{1}{1+e^{-2kx}}$$\n",
    "\n"
   ]
  },
  {
   "cell_type": "code",
   "execution_count": null,
   "metadata": {},
   "outputs": [],
   "source": []
  }
 ],
 "metadata": {
  "kernelspec": {
   "display_name": "Python 3.10.4 ('torch')",
   "language": "python",
   "name": "python3"
  },
  "language_info": {
   "codemirror_mode": {
    "name": "ipython",
    "version": 3
   },
   "file_extension": ".py",
   "mimetype": "text/x-python",
   "name": "python",
   "nbconvert_exporter": "python",
   "pygments_lexer": "ipython3",
   "version": "3.10.4"
  },
  "orig_nbformat": 4,
  "vscode": {
   "interpreter": {
    "hash": "d457bbfc426ef2d36a37fd2ab82784599b6e7b389a7b568386df2942100916c1"
   }
  }
 },
 "nbformat": 4,
 "nbformat_minor": 2
}
