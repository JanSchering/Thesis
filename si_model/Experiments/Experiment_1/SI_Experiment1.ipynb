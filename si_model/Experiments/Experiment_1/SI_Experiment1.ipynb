{
  "cells": [
    {
      "cell_type": "markdown",
      "metadata": {},
      "source": [
        "import modules"
      ]
    },
    {
      "cell_type": "code",
      "execution_count": 1,
      "metadata": {},
      "outputs": [
        {
          "name": "stderr",
          "output_type": "stream",
          "text": [
            "c:\\Users\\jsche\\anaconda3\\envs\\torch\\lib\\site-packages\\tqdm\\auto.py:22: TqdmWarning: IProgress not found. Please update jupyter and ipywidgets. See https://ipywidgets.readthedocs.io/en/stable/user_install.html\n",
            "  from .autonotebook import tqdm as notebook_tqdm\n"
          ]
        }
      ],
      "source": [
        "# @title import modules\n",
        "import torch as t\n",
        "import numpy as np\n",
        "import matplotlib.pyplot as plt\n",
        "import matplotlib.image as mpimg\n",
        "import random\n",
        "import imageio\n",
        "from IPython.display import Image\n",
        "from IPython import display\n",
        "import time\n",
        "from typing import Tuple, List\n",
        "import sys\n",
        "# get access to the SI functions\n",
        "sys.path.insert(0, '../../')\n",
        "from model import model\n",
        "from likelihoods import spread_likelihood, transition_likelihood, total_likelihood, neg_log_likelihood\n",
        "from risk_conv import risk_convolution2D\n",
        "from model import init_grids, model\n",
        "from utils import chop_and_shuffle_data\n",
        "from vis_utils import visualize_sequence"
      ]
    },
    {
      "cell_type": "markdown",
      "metadata": {},
      "source": [
        "# Gradient-based learning of $\\beta$ using the likelihood of the transitions"
      ]
    },
    {
      "cell_type": "markdown",
      "metadata": {},
      "source": [
        "## Finding the likelihood of a transition\n",
        "\n",
        "Through a series of differentiable transformations, we can calculate the total likelihood of transitioning from a given input state $x_t$ to an output state $x_{t+1}$, for a given $\\beta$ value. In the following, a quick overview of the transformations is provided using an example transition:\n",
        "\n",
        "$$\n",
        "x_t = \\begin{pmatrix}\n",
        "0 & 0 & 0 \\\\\n",
        "0 & 1 & 0 \\\\\n",
        "0 & 0 & 0 \n",
        "\\end{pmatrix}, \n",
        "x_{t+1} = \\begin{pmatrix}\n",
        "0 & 1 & 0 \\\\\n",
        "0 & 1 & 0 \\\\\n",
        "0 & 1 & 1 \n",
        "\\end{pmatrix},\n",
        "\\beta = 0.1\n",
        "$$"
      ]
    },
    {
      "cell_type": "code",
      "execution_count": 8,
      "metadata": {},
      "outputs": [
        {
          "data": {
            "image/png": "[encoded data removed]",
            "text/plain": [
              "<Figure size 432x288 with 2 Axes>"
            ]
          },
          "metadata": {
            "needs_background": "light"
          },
          "output_type": "display_data"
        }
      ],
      "source": [
        "# Define the two grids\n",
        "x_t = t.zeros((1,3,3))\n",
        "x_t[0,1,1] = 1\n",
        "x_tt = t.zeros((1,3,3))\n",
        "x_tt[0,1,1] = 1.\n",
        "x_tt[0,2,1] = 1.\n",
        "x_tt[0,2,2] = 1.\n",
        "x_tt[0,0,1] = 1.\n",
        "\n",
        "# Visualize the grids\n",
        "fig, axs = plt.subplots(1,2)\n",
        "axs[0].imshow(x_t[0], cmap=\"Greys\", interpolation=\"nearest\", vmin=0, vmax=1)\n",
        "axs[0].get_xaxis().set_visible(False)\n",
        "axs[0].get_yaxis().set_visible(False)\n",
        "axs[1].imshow(x_tt[0], cmap=\"Greys\", interpolation=\"nearest\", vmin=0, vmax=1)\n",
        "axs[1].get_xaxis().set_visible(False)\n",
        "axs[1].get_yaxis().set_visible(False)"
      ]
    },
    {
      "cell_type": "markdown",
      "metadata": {},
      "source": [
        "### 1. Get the amount of active neighbors for each cell in $x_t$\n",
        "\n",
        "$$\n",
        "Y= \\begin{pmatrix}\n",
        "1 & 1 & 1 \\\\\n",
        "1 & 0 & 1 \\\\\n",
        "1 & 1 & 1 \n",
        "\\end{pmatrix} \\circledast x_t\n",
        "$$"
      ]
    },
    {
      "cell_type": "code",
      "execution_count": 11,
      "metadata": {},
      "outputs": [
        {
          "data": {
            "text/plain": [
              "tensor([[[[1., 1., 1.],\n",
              "          [1., 0., 1.],\n",
              "          [1., 1., 1.]]]])"
            ]
          },
          "execution_count": 11,
          "metadata": {},
          "output_type": "execute_result"
        }
      ],
      "source": [
        "risk_convolution2D(x_t)"
      ]
    },
    {
      "cell_type": "markdown",
      "metadata": {},
      "source": [
        "### 2. Determine the likelihood of spread for each cell in $x_t$ based on the number of active neighbors and $\\beta$\n",
        "\n",
        "$$\n",
        "L = \\begin{pmatrix}\n",
        "1-(1-\\beta)^{Y_{11}} & \\dots & 1-(1-\\beta)^{Y_{k1}} \\\\\n",
        "\\dots & \\dots & \\dots \\\\\n",
        "1-(1-\\beta)^{Y_{1k}} & \\dots & 1-(1-\\beta)^{Y_{kk}} \n",
        "\\end{pmatrix}\n",
        "$$\n",
        "\n",
        "NOTE: Here, we do not take into account the current state of the cells in $x_t$ yet."
      ]
    },
    {
      "cell_type": "code",
      "execution_count": 13,
      "metadata": {},
      "outputs": [
        {
          "name": "stdout",
          "output_type": "stream",
          "text": [
            "tensor([[[0.1000, 0.1000, 0.1000],\n",
            "         [0.1000, 0.0000, 0.1000],\n",
            "         [0.1000, 0.1000, 0.1000]]])\n"
          ]
        }
      ],
      "source": [
        "L = spread_likelihood(x_t, t.tensor(0.1))\n",
        "print(L)"
      ]
    },
    {
      "cell_type": "markdown",
      "metadata": {},
      "source": [
        "### 3. Account for the input state of the cells in $x_t$ and the output state of the cells in $x_{t+1}$\n",
        "\n",
        "There are three cases to consider. Cells can transition from:\n",
        "\n",
        "- **A:** state 0 to state 1, e.g. cell $(0,1)$. The probability of this transition is given by $L_{01}$\n",
        "- **B:** state 0 to state 0, e.g. cell $(0,0)$. The probanility of this transition is given by $(1-L_{00})$\n",
        "- **C:** state 1 to state 0, e.g. cell $(1,1)$. The probability of this is 1 by construction\n",
        "\n",
        "To capture this in a single function, we use:\n",
        "\n",
        "$$P = (1 - x_t) \\odot (1 - x_{t+1}) \\odot (1 - L) + (x_{t+1} \\odot L \\odot (1 - x_t)) + x_t$$\n",
        "\n",
        "where $\\odot$ stands for element-wise multiplication.\n",
        "\n",
        "The function can be broken down into three pieces that get added up:\n",
        "\n",
        "1. $(1 - x_t) \\odot (1 - x_{t+1}) \\odot (1 - L)$:\n",
        "\n",
        "This covers scenario **B**. If a cell is active at either $t$ or $t+1$, this evaluates to $0$.\n",
        "\n",
        "2. $(x_{t+1} \\odot L \\odot (1 - x_t))$\n",
        "\n",
        "This covers scenario **A**. If a cell $ij$ is inactive at time $t$ and becomes active at $t+1$, it evaluates to $L_{ij}$, else 0.\n",
        "\n",
        "3. $x_t$:\n",
        "\n",
        "This covers scenario **C**. If a cell was already active at time $t$, this evaluates to 1"
      ]
    },
    {
      "cell_type": "code",
      "execution_count": 15,
      "metadata": {},
      "outputs": [
        {
          "name": "stdout",
          "output_type": "stream",
          "text": [
            "tensor([[[0.9000, 0.1000, 0.9000],\n",
            "         [0.9000, 1.0000, 0.9000],\n",
            "         [0.9000, 0.1000, 0.1000]]])\n"
          ]
        }
      ],
      "source": [
        "P = transition_likelihood(L, x_t, x_tt)\n",
        "print(P)"
      ]
    },
    {
      "cell_type": "markdown",
      "metadata": {},
      "source": [
        "### 4. Determine the total likelihood\n",
        "\n",
        "$P$ gives us a matrix where each entry $ij$ corresponds to the likelihood of transitioning from $x_t^{ij}$ to $x_{t+1}^{ij}$ given beta. To get the total likelihood of the transition, we need to calculate the product of all entries. For our example, this likelihood should come out to $\\approx 0.0006$"
      ]
    },
    {
      "cell_type": "code",
      "execution_count": 17,
      "metadata": {},
      "outputs": [
        {
          "name": "stdout",
          "output_type": "stream",
          "text": [
            "tensor(0.0006)\n"
          ]
        }
      ],
      "source": [
        "likelihood = total_likelihood(P)\n",
        "print(likelihood)"
      ]
    },
    {
      "cell_type": "markdown",
      "metadata": {},
      "source": [
        "## Finding the gradient of the likelihood\n",
        "\n",
        "We use pytorch to calculate the gradient of the likelihood w.r.t. $\\beta$. The following code visualizes the likelihood and gradient depending on the value of beta for our toy example:"
      ]
    },
    {
      "cell_type": "code",
      "execution_count": 19,
      "metadata": {},
      "outputs": [
        {
          "data": {
            "text/plain": [
              "[<matplotlib.lines.Line2D at 0x1bd7134c0a0>]"
            ]
          },
          "execution_count": 19,
          "metadata": {},
          "output_type": "execute_result"
        },
        {
          "data": {
            "image/png": "[encoded data removed]",
            "text/plain": [
              "<Figure size 432x288 with 1 Axes>"
            ]
          },
          "metadata": {
            "needs_background": "light"
          },
          "output_type": "display_data"
        }
      ],
      "source": [
        "# define a range of beta values\n",
        "betas = t.linspace(0,1,100)\n",
        "# start collecting the gradients\n",
        "gradients = []\n",
        "# start collecting the likelihoods\n",
        "tot_likelihoods = []\n",
        "# iterate over each beta value\n",
        "for beta in betas:\n",
        "    # start tracking the computational graph of beta for the gradient\n",
        "    beta.requires_grad_()\n",
        "    # calculate the spread likelihood for the given beta\n",
        "    l = spread_likelihood(x_t, beta)\n",
        "    # calculate the transition likelihood matrix for the given beta\n",
        "    p = transition_likelihood(l, x_t, x_tt)\n",
        "    # calculate the total likelihood of the transition\n",
        "    tot_likelihood = total_likelihood(p)\n",
        "    # use pytorch autograd to find the gradient of the tot. likelihood w.r.t beta\n",
        "    gradient = t.autograd.grad(tot_likelihood, beta)[0]\n",
        "    # collect the values\n",
        "    gradients.append(gradient.detach().numpy())\n",
        "    tot_likelihoods.append(tot_likelihood.detach().numpy())\n",
        "\n",
        "# visualize\n",
        "plt.plot(betas, gradients, label=\"grd w.r.t. p\")\n",
        "plt.plot(betas, tot_likelihoods, label=\"likelihood\")"
      ]
    },
    {
      "cell_type": "markdown",
      "metadata": {},
      "source": [
        "## Defining a training loop to optimize beta\n",
        "\n",
        "We now want to define a method that takes in a value for $\\beta$ and uses the gradient w.r.t. the likelihood in order to get us a 'better' value for beta. The following defines a very simple function for that:"
      ]
    },
    {
      "cell_type": "code",
      "execution_count": 41,
      "metadata": {},
      "outputs": [],
      "source": [
        "def update(beta:t.Tensor, x_t:t.Tensor, x_tt:t.Tensor, learning_rate:float) -> t.Tensor:\n",
        "    beta.requires_grad_()\n",
        "    # calculate the spread likelihood for the given beta\n",
        "    L = spread_likelihood(x_t, beta)\n",
        "    # calculate the transition likelihood matrix for the given beta\n",
        "    P = transition_likelihood(L, x_t, x_tt)\n",
        "    # calculate the total likelihood of the transition\n",
        "    tot_likelihood = total_likelihood(P)\n",
        "    # use pytorch autograd to find the gradient of the tot. likelihood w.r.t beta\n",
        "    gradient = t.autograd.grad(tot_likelihood, beta)[0]\n",
        "    return beta + learning_rate * gradient"
      ]
    },
    {
      "cell_type": "markdown",
      "metadata": {},
      "source": [
        "We can now use this function to find the maximum likelihood estimate for $\\beta$ in our toy example. For the example, we can also easily find the maximum likelihood estimate analytically. This allows us to check if our method converges correctly.\n",
        "\n",
        "Every cell around the center has 1 active neighbor, reducing the probability for activation to $1-(1-\\beta)^1=\\beta$. This means, that every cell transitions with probability $\\beta$ from inactive to active with exception of the center itself. In our example, 3 out of 8 cells transition to the active state. This is equivalent to stating that out of 8 independent bernoull trials, 3 were successful. The maximum likelihood estimate for $\\beta$ is hence $\\frac{3}{8}=0.375$. "
      ]
    },
    {
      "cell_type": "code",
      "execution_count": 32,
      "metadata": {},
      "outputs": [
        {
          "name": "stdout",
          "output_type": "stream",
          "text": [
            "Final Beta: 0.37500086426734924\n"
          ]
        }
      ],
      "source": [
        "beta = t.tensor(0.5)\n",
        "num_training_steps = 100\n",
        "\n",
        "for i in range(1000):\n",
        "  #print(f\"Gradient {grad(total_likelihood, argnums=2)(x_t,x_tt,beta)}\")\n",
        "  beta = update(beta, x_t, x_tt, 0.1)\n",
        "  #print(f\"updated beta: {beta}\")\n",
        "print(f\"Final Beta: {beta}\")"
      ]
    },
    {
      "cell_type": "markdown",
      "metadata": {},
      "source": [
        "### Exercise 1\n",
        "\n",
        "**Objective:** Find the parameter $\\beta$ that maximizes the likelihood of the sample transition:\n",
        "\n",
        "$$\n",
        "x_t = \\begin{pmatrix}\n",
        "0 & 1 & 0 \\\\\n",
        "0 & 1 & 0 \\\\\n",
        "0 & 1 & 0 \n",
        "\\end{pmatrix}, \n",
        "x_{t+1} = \\begin{pmatrix}\n",
        "1 & 1 & 0 \\\\\n",
        "1 & 1 & 0 \\\\\n",
        "0 & 1 & 1 \n",
        "\\end{pmatrix}\n",
        "$$\n",
        "\n",
        "The risk convolution $Y$ here is given as:\n",
        "\n",
        "$$Y = \n",
        "\\begin{pmatrix}\n",
        "1 & 1 & 1 \\\\\n",
        "1 & 0 & 1 \\\\\n",
        "1 & 1 & 1 \n",
        "\\end{pmatrix} \\circledast x\n",
        "=\n",
        "\\begin{pmatrix}\n",
        "1 & 1 & 1 \\\\\n",
        "1 & 0 & 1 \\\\\n",
        "1 & 1 & 1 \n",
        "\\end{pmatrix} \\circledast \n",
        "\\begin{pmatrix}\n",
        "0 & 1 & 0 \\\\\n",
        "0 & 1 & 0 \\\\\n",
        "0 & 1 & 0 \n",
        "\\end{pmatrix}\n",
        "= \n",
        "\\begin{pmatrix}\n",
        "3 & 2 & 3 \\\\\n",
        "3 & 2 & 3 \\\\\n",
        "3 & 2 & 3 \n",
        "\\end{pmatrix}\n",
        "$$\n",
        "\n",
        "We note, that the cells on the center vertical line were all active in $x_t$. Hence, they can be disregarded. The other 6 cells all have 3 active neighbors each. Their respective transition likelihood is given by:\n",
        "\n",
        "$$\n",
        "P(x_{ij}=1) = 1-(1-\\beta)^3\n",
        "$$\n",
        "$$\n",
        "= 1- 1 - 3 \\beta + 3 \\beta^2 - \\beta^3\n",
        "$$\n",
        "$$\n",
        "= -3\\beta+3\\beta^2-\\beta^3\n",
        "$$\n",
        "\n",
        "Three out of the six trials are successful, giving us an empirical probability of $0.5$. It follows that:\n",
        "\n",
        "$$\n",
        "0.5 = -3\\beta+3\\beta^2-\\beta^3 \\approx 0.206299\n",
        "$$\n",
        "\n",
        "We can again show, that the gradient-based approach converges to this value for beta:"
      ]
    },
    {
      "cell_type": "code",
      "execution_count": 47,
      "metadata": {
        "id": "-8jMKeL4WLPk"
      },
      "outputs": [
        {
          "name": "stdout",
          "output_type": "stream",
          "text": [
            "started with beta=0.010000 - after 10_000 gradient steps beta=0.206299\n",
            "started with beta=0.061579 - after 10_000 gradient steps beta=0.206299\n",
            "started with beta=0.113158 - after 10_000 gradient steps beta=0.206299\n",
            "started with beta=0.164737 - after 10_000 gradient steps beta=0.206299\n",
            "started with beta=0.216316 - after 10_000 gradient steps beta=0.206300\n",
            "started with beta=0.267895 - after 10_000 gradient steps beta=0.206300\n",
            "started with beta=0.319474 - after 10_000 gradient steps beta=0.206300\n",
            "started with beta=0.371053 - after 10_000 gradient steps beta=0.206300\n",
            "started with beta=0.422632 - after 10_000 gradient steps beta=0.206300\n",
            "started with beta=0.474211 - after 10_000 gradient steps beta=0.206300\n",
            "started with beta=0.525789 - after 10_000 gradient steps beta=0.206300\n",
            "started with beta=0.577368 - after 10_000 gradient steps beta=0.206300\n",
            "started with beta=0.628947 - after 10_000 gradient steps beta=0.206300\n",
            "started with beta=0.680526 - after 10_000 gradient steps beta=0.206300\n",
            "started with beta=0.732105 - after 10_000 gradient steps beta=0.697879\n",
            "started with beta=0.783684 - after 10_000 gradient steps beta=0.779217\n",
            "started with beta=0.835263 - after 10_000 gradient steps beta=0.834667\n",
            "started with beta=0.886842 - after 10_000 gradient steps beta=0.886842\n",
            "started with beta=0.938421 - after 10_000 gradient steps beta=0.938421\n",
            "started with beta=0.990000 - after 10_000 gradient steps beta=0.990000\n"
          ]
        }
      ],
      "source": [
        "x_t = t.zeros((1,3,3))\n",
        "x_t[0,:,1] = 1\n",
        "\n",
        "x_tt = t.zeros((1,3,3))\n",
        "x_tt[0,:,1] = 1\n",
        "x_tt[0,0,0] = 1\n",
        "x_tt[0,1,0] = 1\n",
        "x_tt[0,2,2] = 1\n",
        "\n",
        "def train(x_t, x_tt, beta, lr=0.01, num_steps=10_000):\n",
        "  for i in range(num_steps):\n",
        "    beta = update(beta, x_t, x_tt, lr)\n",
        "  return beta\n",
        "\n",
        "betas = t.linspace(0.01,0.99,20)\n",
        "for beta in betas:\n",
        "  final_beta = train(x_t, x_tt, beta)\n",
        "  print(f\"started with beta={beta:.6f} - after 10_000 gradient steps beta={final_beta:.6f}\")"
      ]
    },
    {
      "cell_type": "markdown",
      "metadata": {},
      "source": [
        "We note that as the initial guess deviates too far from the MLE of $\\beta$, the 10_000 steps with the chosen learning rate are not enough to converge to the right solution. Here, we would need to choose a higher learning rate or take (many) more gradient steps."
      ]
    },
    {
      "cell_type": "markdown",
      "metadata": {
        "id": "yxP0EelqGSba"
      },
      "source": [
        "### Exercise 2\n",
        "\n",
        "We consider another example transition of the form:\n",
        "\n",
        "$$\n",
        "x_t = \\begin{pmatrix}\n",
        "0 & 0 & 0 & 0 & 0 \\\\\n",
        "1 & 0 & 0 & 0 & 0\\\\\n",
        "0 & 1 & 1 & 0 & 0\\\\\n",
        "0 & 0 & 0 & 0 & 0\\\\\n",
        "0 & 0 & 0 & 0 & 0\n",
        "\\end{pmatrix}, \n",
        "x_{t+1} = \\begin{pmatrix}\n",
        "1 & 0 & 0 & 0 & 0 \\\\\n",
        "1 & 1 & 1 & 0 & 0 \\\\\n",
        "1 & 1 & 1 & 0 & 0\\\\\n",
        "0 & 1 & 0 & 1 & 0\\\\\n",
        "0 & 0 & 0 & 0 & 0\n",
        "\\end{pmatrix}\n",
        "$$\n",
        "\n",
        "applying a periodic Torus padding to $x_t$ gives us the following $7\\times7$ matrix:\n",
        "\n",
        "$$\n",
        "\\left[\\begin{array}{c|ccccc|c} \n",
        "0 & 0 & 0 & 0 & 0 & 0 & 0 \\\\\n",
        "\\hline\n",
        "0 & 0 & 0 & 0 & 0 & 0 & 0 \\\\\n",
        "0 & 1 & 0 & 0 & 0 & 0 & 1 \\\\\n",
        "0 & 0 & 1 & 1 & 0 & 0 & 0 \\\\\n",
        "0 & 0 & 0 & 0 & 0 & 0 & 0 \\\\\n",
        "0 & 0 & 0 & 0 & 0 & 0 & 0 \\\\\n",
        "\\hline\n",
        "0 & 0 & 0 & 0 & 0 & 0 & 0\n",
        "\\end{array}\\right]\n",
        "$$\n",
        "\n",
        "We get a risk matrix Y of:\n",
        "\n",
        "$$\n",
        "Y = \n",
        "\\begin{pmatrix}\n",
        "1 & 1 & 0 & 0 & 1 \\\\\n",
        "1 & 3 & 2 & 1 & 1 \\\\\n",
        "2 & 2 & 1 & 1 & 1\\\\\n",
        "1 & 2 & 2 & 1 & 0\\\\\n",
        "0 & 0 & 0 & 0 & 0\n",
        "\\end{pmatrix}\n",
        "$$\n",
        "\n",
        "We find 11 entries with one active neighbor, respectively. Two of these are active themselves, removing them from consideration. Hence, it remains that we have 9 bernoulli trials with probability $\\beta$, of which 2 is successful.\n",
        "\n",
        "Further, we find 5 entries with two active neighbors, respectively. One of them is active at time $t$, leaving us with 4 bernoulli trials of probability $\\beta^2-2\\beta$. Out of these, 3 were successful.\n",
        "\n",
        "Finally, there is one successful trial with 3 active neighbors.\n",
        "\n",
        "We can write the total likelihood of this event as a bernoulli chain of form:\n",
        "\n",
        "$$\n",
        "\\beta^2(1-\\beta)^7(1-(1-\\beta)^2)^3(1-\\beta)^2(1-(1-\\beta)^3)\n",
        "$$\n",
        "\n",
        "We can now use the gradient-based to find the beta, for which this transition is maximally likely, by setting:\n",
        "\n",
        "$$\n",
        "\\frac{\\partial}{\\partial \\beta}[\\beta^2(1-\\beta)^7(1-(1-\\beta)^2)^3(1-\\beta)^2(1-(1-\\beta)^3)]=0\n",
        "$$\n",
        "\n",
        "We expect our approach to converge towards $\\beta \\approx 0.35519$\n"
      ]
    },
    {
      "cell_type": "code",
      "execution_count": 56,
      "metadata": {
        "cellView": "form",
        "colab": {
          "base_uri": "https://localhost:8080/"
        },
        "id": "OJJY5A2FG-SS",
        "outputId": "15b47125-cd04-4610-c4c7-15a488aefa83"
      },
      "outputs": [
        {
          "name": "stdout",
          "output_type": "stream",
          "text": [
            "beta after step 0: 0.2001957893371582\n",
            "beta after step 500: 0.2970249354839325\n",
            "beta after step 1000: 0.3387461006641388\n",
            "beta after step 1500: 0.3505529463291168\n",
            "beta after step 2000: 0.35386916995048523\n",
            "beta after step 2500: 0.354810506105423\n",
            "beta after step 3000: 0.3550785779953003\n",
            "beta after step 3500: 0.3551552891731262\n",
            "beta after step 4000: 0.3551766574382782\n",
            "beta after step 4500: 0.3551798462867737\n",
            "beta after optimization: 0.3551798462867737\n"
          ]
        }
      ],
      "source": [
        "x_t = t.zeros((1,5,5))\n",
        "x_t[0,2,2] = 1.\n",
        "x_t[0,2,1] = 1.\n",
        "x_t[0,1,0] = 1.\n",
        "\n",
        "x_tt = t.zeros((1,5,5))\n",
        "x_tt[0,0,0] = 1.\n",
        "x_tt[0,1,1] = 1\n",
        "x_tt[0,2,2] = 1\n",
        "x_tt[0,1,2] = 1\n",
        "x_tt[0,2,1] = 1\n",
        "x_tt[0,2,0] = 1\n",
        "x_tt[0,1,2] = 1\n",
        "x_tt[0,1,0] = 1\n",
        "x_tt[0,3,1] = 1\n",
        "x_tt[0,3,3] = 1\n",
        "\n",
        "def train(x_t, x_tt, beta, lr=0.01, num_steps=1000, verbose=False):\n",
        "  for i in range(num_steps):\n",
        "    beta = update(beta, x_t, x_tt, lr)\n",
        "    if verbose and i % 500 == 0:\n",
        "      print(f\"beta after step {i}: {beta}\")\n",
        "  return beta\n",
        "\n",
        "beta = t.tensor(0.2)\n",
        "\n",
        "result = train(x_t, x_tt, beta, num_steps=5_000, lr=0.1, verbose=True)\n",
        "print(f\"beta after optimization: {result}\")"
      ]
    },
    {
      "cell_type": "markdown",
      "metadata": {
        "id": "SCkXsUbvUcPQ"
      },
      "source": [
        "## Learning $\\beta$ for a dataset of state transitions\n",
        "\n",
        "In the very most cases, we want to learn $\\beta$ for not just one transition, but for a large set of observed transitions. We can use the same approach as before for this and maximize the likelihood of the dataset. However, to do this accurately we would have to take the product of the likelihoods for each transition. This would result in a vanishingly small total likelihood.\n",
        "\n",
        "Instead, we can optimize the sum of the negative log likelihoods of the samples. This is equivalent to omptimizing the product of the likelihoods."
      ]
    },
    {
      "cell_type": "markdown",
      "metadata": {},
      "source": [
        "### Generating a dataset"
      ]
    },
    {
      "cell_type": "code",
      "execution_count": 2,
      "metadata": {
        "cellView": "form",
        "id": "Vu0U5L1u-q7J"
      },
      "outputs": [],
      "source": [
        "grid_size = 9\n",
        "beta = t.tensor(0.08)\n",
        "num_sequences = 100 \n",
        "steps_per_sequence = 20\n",
        "sequences = t.zeros((num_sequences, steps_per_sequence, grid_size, grid_size))"
      ]
    },
    {
      "cell_type": "code",
      "execution_count": null,
      "metadata": {
        "cellView": "form",
        "colab": {
          "base_uri": "https://localhost:8080/",
          "height": 269
        },
        "id": "4bEt3rNwIqOV",
        "outputId": "865ac5b0-f9ae-465c-ecf2-4c3d678af9d4"
      },
      "outputs": [],
      "source": [
        "batch = init_grids(grid_size, num_sequences)\n",
        "\n",
        "for i in range(steps_per_sequence):\n",
        "  sequences[:,i,:,:] = batch.detach().clone()\n",
        "  batch = model(batch, beta)\n",
        "\n",
        "visualize_sequence(sequences[t.randint(num_sequences, size=(1,))].squeeze(0), framerate=0.2)\n",
        "dataset = chop_and_shuffle_data(sequences)"
      ]
    },
    {
      "cell_type": "code",
      "execution_count": 5,
      "metadata": {},
      "outputs": [
        {
          "data": {
            "text/plain": [
              "torch.Size([1900, 2, 9, 9])"
            ]
          },
          "execution_count": 5,
          "metadata": {},
          "output_type": "execute_result"
        }
      ],
      "source": [
        "dataset.size()"
      ]
    },
    {
      "cell_type": "markdown",
      "metadata": {},
      "source": [
        "### Define the training loop"
      ]
    },
    {
      "cell_type": "code",
      "execution_count": 9,
      "metadata": {},
      "outputs": [],
      "source": [
        "def update(beta:t.Tensor, x_t:t.Tensor, x_tt:t.Tensor, learning_rate:float) -> t.Tensor:\n",
        "    beta.requires_grad_()\n",
        "    # calculate the spread likelihood for the given beta\n",
        "    L = spread_likelihood(x_t, beta)\n",
        "    # calculate the transition likelihood matrix for the given beta\n",
        "    P = transition_likelihood(L, x_t, x_tt)\n",
        "    # calculate the total likelihood of the transition\n",
        "    neg_log_l = neg_log_likelihood(P)\n",
        "    # use pytorch autograd to find the gradient of the tot. likelihood w.r.t beta\n",
        "    gradient = t.autograd.grad(neg_log_l, beta)[0]\n",
        "    return beta - learning_rate * gradient, neg_log_l"
      ]
    },
    {
      "cell_type": "code",
      "execution_count": 12,
      "metadata": {
        "id": "S9hjY2Z0stVu"
      },
      "outputs": [],
      "source": [
        "def train(x_t:np.ndarray, x_tt:np.ndarray, beta:float, lr=0.01, num_steps=1000, verbose=False):\n",
        "  \"\"\"\n",
        "  Execute the training loop.\n",
        "  \"\"\"\n",
        "  betas = []\n",
        "  grad_steps = []\n",
        "  likelihoods = []\n",
        "  for i in range(num_steps):\n",
        "    beta, log_likelihood = update(beta, x_t, x_tt, lr)\n",
        "    likelihoods.append(log_likelihood.detach().numpy())\n",
        "    betas.append(beta.detach().numpy())\n",
        "    if verbose and i % 100 == 0:\n",
        "      print(f\"beta after step {i}: {beta}\")\n",
        "  return beta, betas, likelihoods"
      ]
    },
    {
      "cell_type": "code",
      "execution_count": 16,
      "metadata": {
        "cellView": "form",
        "colab": {
          "base_uri": "https://localhost:8080/",
          "height": 388
        },
        "id": "9VGd0j9GSCko",
        "outputId": "ed8977b4-7faf-44fd-a0dd-8cb2c5d7d31c"
      },
      "outputs": [
        {
          "name": "stdout",
          "output_type": "stream",
          "text": [
            "starting with beta=tensor([0.0523])\n",
            "Final Beta: tensor([0.0787], grad_fn=<SubBackward0>)\n"
          ]
        },
        {
          "data": {
            "image/png": "[encoded data removed]",
            "text/plain": [
              "<Figure size 1440x360 with 2 Axes>"
            ]
          },
          "metadata": {
            "needs_background": "light"
          },
          "output_type": "display_data"
        }
      ],
      "source": [
        "beta = t.rand(1)\n",
        "x_t = dataset[:,0,:,:]\n",
        "x_tt = dataset[:,1,:,:]\n",
        "\n",
        "print(f\"starting with beta={beta}\")\n",
        "\n",
        "result, beta_hist, likelihoods = train(x_t, x_tt, beta, lr=1e-7, num_steps=100)\n",
        "\n",
        "fig, axs = plt.subplots(1,2,figsize=(20,5))\n",
        "axs[0].plot(np.arange(len(beta_hist)), beta_hist, label=\"beta\")\n",
        "axs[0].set_title('Beta Values')\n",
        "axs[1].plot(np.arange(len(beta_hist)), likelihoods, label=\"neg. log likelihoods\")\n",
        "axs[1].set_title('Neg. log likelihoods')\n",
        "\n",
        "print(f\"Final Beta: {result}\")"
      ]
    },
    {
      "cell_type": "code",
      "execution_count": 21,
      "metadata": {
        "id": "a0oSmJHSulPP"
      },
      "outputs": [
        {
          "data": {
            "text/plain": [
              "[Text(0.5, 0, 'beta'), Text(0, 0.5, 'neg. log likelihood'), (0.0, 0.2)]"
            ]
          },
          "execution_count": 21,
          "metadata": {},
          "output_type": "execute_result"
        },
        {
          "data": {
            "image/png": "[encoded data removed]",
            "text/plain": [
              "<Figure size 1440x360 with 2 Axes>"
            ]
          },
          "metadata": {
            "needs_background": "light"
          },
          "output_type": "display_data"
        }
      ],
      "source": [
        "betas = t.linspace(0,1,1000)\n",
        "neg_log_likelihoods = []\n",
        "for beta in betas:\n",
        "    L = spread_likelihood(x_t, beta)\n",
        "    P = transition_likelihood(beta, x_t, x_tt)\n",
        "    neg_log_likelihoods.append(neg_log_likelihood(P).detach().numpy())\n",
        "\n",
        "fig, axs = plt.subplots(1,2,figsize=(20,5))\n",
        "axs[0].plot(betas, neg_log_likelihoods)\n",
        "axs[0].set(xlabel=\"beta\", ylabel=\"neg. log likelihood\")\n",
        "axs[1].plot(betas, neg_log_likelihoods)\n",
        "axs[1].set(xlabel=\"beta\", ylabel=\"neg. log likelihood\", xlim=(0,0.2))"
      ]
    }
  ],
  "metadata": {
    "accelerator": "GPU",
    "colab": {
      "authorship_tag": "ABX9TyMNC2LNYVcQNjwzvK2nMGOh",
      "collapsed_sections": [],
      "include_colab_link": true,
      "provenance": []
    },
    "kernelspec": {
      "display_name": "Python 3.10.6 ('torchenv')",
      "language": "python",
      "name": "python3"
    },
    "language_info": {
      "codemirror_mode": {
        "name": "ipython",
        "version": 3
      },
      "file_extension": ".py",
      "mimetype": "text/x-python",
      "name": "python",
      "nbconvert_exporter": "python",
      "pygments_lexer": "ipython3",
      "version": "3.10.6 | packaged by conda-forge | (main, Oct 24 2022, 16:02:16) [MSC v.1916 64 bit (AMD64)]"
    },
    "vscode": {
      "interpreter": {
        "hash": "b773d0058f1b8f5f38d2d60a234a90a3b3eb0d051bd1b60d95552e21f147b9b6"
      }
    }
  },
  "nbformat": 4,
  "nbformat_minor": 0
}
