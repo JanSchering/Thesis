{
  "cells": [
    {
      "cell_type": "markdown",
      "metadata": {},
      "source": [
        "import modules"
      ]
    },
    {
      "cell_type": "code",
      "execution_count": 10,
      "metadata": {},
      "outputs": [],
      "source": [
        "# @title import modules\n",
        "import torch as t\n",
        "import numpy as np\n",
        "import matplotlib.pyplot as plt\n",
        "import matplotlib.image as mpimg\n",
        "import random\n",
        "import imageio\n",
        "from IPython.display import Image\n",
        "from IPython import display\n",
        "import time\n",
        "from typing import Tuple, List\n",
        "from model import model\n",
        "from likelihoods import spread_likelihood, transition_likelihood, total_likelihood\n",
        "from risk_conv import risk_convolution2D"
      ]
    },
    {
      "cell_type": "markdown",
      "metadata": {},
      "source": [
        "# Gradient-based learning of $\\beta$ using the likelihood of the transitions"
      ]
    },
    {
      "cell_type": "markdown",
      "metadata": {},
      "source": [
        "## Finding the likelihood of a transition\n",
        "\n",
        "Through a series of differentiable transformations, we can calculate the total likelihood of transitioning from a given input state $x_t$ to an output state $x_{t+1}$, for a given $\\beta$ value. In the following, a quick overview of the transformations is provided using an example transition:\n",
        "\n",
        "$$\n",
        "x_t = \\begin{pmatrix}\n",
        "0 & 0 & 0 \\\\\n",
        "0 & 1 & 0 \\\\\n",
        "0 & 0 & 0 \n",
        "\\end{pmatrix}, \n",
        "x_{t+1} = \\begin{pmatrix}\n",
        "0 & 1 & 0 \\\\\n",
        "0 & 1 & 0 \\\\\n",
        "0 & 1 & 1 \n",
        "\\end{pmatrix},\n",
        "\\beta = 0.1\n",
        "$$"
      ]
    },
    {
      "cell_type": "code",
      "execution_count": 8,
      "metadata": {},
      "outputs": [
        {
          "data": {
            "image/png": "[encoded data removed]",
            "text/plain": [
              "<Figure size 432x288 with 2 Axes>"
            ]
          },
          "metadata": {
            "needs_background": "light"
          },
          "output_type": "display_data"
        }
      ],
      "source": [
        "# Define the two grids\n",
        "x_t = t.zeros((1,3,3))\n",
        "x_t[0,1,1] = 1\n",
        "x_tt = t.zeros((1,3,3))\n",
        "x_tt[0,1,1] = 1.\n",
        "x_tt[0,2,1] = 1.\n",
        "x_tt[0,2,2] = 1.\n",
        "x_tt[0,0,1] = 1.\n",
        "\n",
        "# Visualize the grids\n",
        "fig, axs = plt.subplots(1,2)\n",
        "axs[0].imshow(x_t[0], cmap=\"Greys\", interpolation=\"nearest\", vmin=0, vmax=1)\n",
        "axs[0].get_xaxis().set_visible(False)\n",
        "axs[0].get_yaxis().set_visible(False)\n",
        "axs[1].imshow(x_tt[0], cmap=\"Greys\", interpolation=\"nearest\", vmin=0, vmax=1)\n",
        "axs[1].get_xaxis().set_visible(False)\n",
        "axs[1].get_yaxis().set_visible(False)"
      ]
    },
    {
      "cell_type": "markdown",
      "metadata": {},
      "source": [
        "### 1. Get the amount of active neighbors for each cell in $x_t$\n",
        "\n",
        "$$\n",
        "Y= \\begin{pmatrix}\n",
        "1 & 1 & 1 \\\\\n",
        "1 & 0 & 1 \\\\\n",
        "1 & 1 & 1 \n",
        "\\end{pmatrix} \\circledast x_t\n",
        "$$"
      ]
    },
    {
      "cell_type": "code",
      "execution_count": 11,
      "metadata": {},
      "outputs": [
        {
          "data": {
            "text/plain": [
              "tensor([[[[1., 1., 1.],\n",
              "          [1., 0., 1.],\n",
              "          [1., 1., 1.]]]])"
            ]
          },
          "execution_count": 11,
          "metadata": {},
          "output_type": "execute_result"
        }
      ],
      "source": [
        "risk_convolution2D(x_t)"
      ]
    },
    {
      "cell_type": "markdown",
      "metadata": {},
      "source": [
        "### 2. Determine the likelihood of spread for each cell in $x_t$ based on the number of active neighbors and $\\beta$\n",
        "\n",
        "$$\n",
        "L = \\begin{pmatrix}\n",
        "1-(1-\\beta)^{Y_{11}} & \\dots & 1-(1-\\beta)^{Y_{k1}} \\\\\n",
        "\\dots & \\dots & \\dots \\\\\n",
        "1-(1-\\beta)^{Y_{1k}} & \\dots & 1-(1-\\beta)^{Y_{kk}} \n",
        "\\end{pmatrix}\n",
        "$$\n",
        "\n",
        "NOTE: Here, we do not take into account the current state of the cells in $x_t$ yet."
      ]
    },
    {
      "cell_type": "code",
      "execution_count": 13,
      "metadata": {},
      "outputs": [
        {
          "name": "stdout",
          "output_type": "stream",
          "text": [
            "tensor([[[0.1000, 0.1000, 0.1000],\n",
            "         [0.1000, 0.0000, 0.1000],\n",
            "         [0.1000, 0.1000, 0.1000]]])\n"
          ]
        }
      ],
      "source": [
        "L = spread_likelihood(x_t, t.tensor(0.1))\n",
        "print(L)"
      ]
    },
    {
      "cell_type": "markdown",
      "metadata": {},
      "source": [
        "### 3. Account for the input state of the cells in $x_t$ and the output state of the cells in $x_{t+1}$\n",
        "\n",
        "There are three cases to consider. Cells can transition from:\n",
        "\n",
        "- **A:** state 0 to state 1, e.g. cell $(0,1)$. The probability of this transition is given by $L_{01}$\n",
        "- **B:** state 0 to state 0, e.g. cell $(0,0)$. The probanility of this transition is given by $(1-L_{00})$\n",
        "- **C:** state 1 to state 0, e.g. cell $(1,1)$. The probability of this is 1 by construction\n",
        "\n",
        "To capture this in a single function, we use:\n",
        "\n",
        "$$P = (1 - x_t) \\odot (1 - x_{t+1}) \\odot (1 - L) + (x_{t+1} \\odot L \\odot (1 - x_t)) + x_t$$\n",
        "\n",
        "where $\\odot$ stands for element-wise multiplication.\n",
        "\n",
        "The function can be broken down into three pieces that get added up:\n",
        "\n",
        "1. $(1 - x_t) \\odot (1 - x_{t+1}) \\odot (1 - L)$:\n",
        "\n",
        "This covers scenario **B**. If a cell is active at either $t$ or $t+1$, this evaluates to $0$.\n",
        "\n",
        "2. $(x_{t+1} \\odot L \\odot (1 - x_t))$\n",
        "\n",
        "This covers scenario **A**. If a cell $ij$ is inactive at time $t$ and becomes active at $t+1$, it evaluates to $L_{ij}$, else 0.\n",
        "\n",
        "3. $x_t$:\n",
        "\n",
        "This covers scenario **C**. If a cell was already active at time $t$, this evaluates to 1"
      ]
    },
    {
      "cell_type": "code",
      "execution_count": 15,
      "metadata": {},
      "outputs": [
        {
          "name": "stdout",
          "output_type": "stream",
          "text": [
            "tensor([[[0.9000, 0.1000, 0.9000],\n",
            "         [0.9000, 1.0000, 0.9000],\n",
            "         [0.9000, 0.1000, 0.1000]]])\n"
          ]
        }
      ],
      "source": [
        "P = transition_likelihood(L, x_t, x_tt)\n",
        "print(P)"
      ]
    },
    {
      "cell_type": "markdown",
      "metadata": {},
      "source": [
        "### 4. Determine the total likelihood\n",
        "\n",
        "$P$ gives us a matrix where each entry $ij$ corresponds to the likelihood of transitioning from $x_t^{ij}$ to $x_{t+1}^{ij}$ given beta. To get the total likelihood of the transition, we need to calculate the product of all entries. For our example, this likelihood should come out to $\\approx 0.0006$"
      ]
    },
    {
      "cell_type": "code",
      "execution_count": 17,
      "metadata": {},
      "outputs": [
        {
          "name": "stdout",
          "output_type": "stream",
          "text": [
            "tensor(0.0006)\n"
          ]
        }
      ],
      "source": [
        "likelihood = total_likelihood(P)\n",
        "print(likelihood)"
      ]
    },
    {
      "cell_type": "markdown",
      "metadata": {
        "id": "nqjaT8Frj6fD"
      },
      "source": [
        "## Working out the learning method for single samples\n",
        "\n",
        "\n",
        "**Objective:** Find the parameter $\\beta$ that maximizes the likelihood of the sample transition"
      ]
    },
    {
      "cell_type": "code",
      "execution_count": 3,
      "metadata": {},
      "outputs": [
        {
          "data": {
            "text/plain": [
              "[<matplotlib.lines.Line2D at 0x1bd693efa60>]"
            ]
          },
          "execution_count": 3,
          "metadata": {},
          "output_type": "execute_result"
        },
        {
          "data": {
            "image/png": "[encoded data removed]",
            "text/plain": [
              "<Figure size 432x288 with 1 Axes>"
            ]
          },
          "metadata": {
            "needs_background": "light"
          },
          "output_type": "display_data"
        }
      ],
      "source": [
        "x_t = t.zeros((1,3,3))\n",
        "x_t[0,1,1] = 1\n",
        "x_tt = t.zeros((1,3,3))\n",
        "x_tt[0,1,1] = 1.\n",
        "x_tt[0,2,1] = 1.\n",
        "x_tt[0,2,2] = 1.\n",
        "x_tt[0,0,1] = 1.\n",
        "\n",
        "\n",
        "betas = t.linspace(0,1,100)\n",
        "gradients = []\n",
        "tot_likelihoods = []\n",
        "for beta in betas:\n",
        "    beta.requires_grad_()\n",
        "    l = spread_likelihood(x_t, beta)\n",
        "    p = transition_likelihood(l, x_t, x_tt)\n",
        "    tot_likelihood = total_likelihood(p)\n",
        "    gradient = t.autograd.grad(tot_likelihood, beta)[0]\n",
        "    gradients.append(gradient.detach().numpy())\n",
        "    tot_likelihoods.append(tot_likelihood.detach().numpy())\n",
        "\n",
        "plt.plot(betas, gradients, label=\"grd w.r.t. p\")\n",
        "plt.plot(betas, tot_likelihoods, label=\"likelihood\")\n"
      ]
    },
    {
      "cell_type": "markdown",
      "metadata": {
        "id": "qEB12-J4R8CG"
      },
      "source": [
        "**Exercise 1**: If we try to estimate beta for a single transition sample \n",
        "\n",
        "$$\n",
        "x_t = \\begin{pmatrix}\n",
        "0 & 0 & 0 \\\\\n",
        "0 & 1 & 0 \\\\\n",
        "0 & 0 & 0 \n",
        "\\end{pmatrix}, \n",
        "x_{t+1} = \\begin{pmatrix}\n",
        "0 & 1 & 0 \\\\\n",
        "0 & 1 & 0 \\\\\n",
        "0 & 1 & 1 \n",
        "\\end{pmatrix}\n",
        "$$\n",
        "\n",
        "We can work out the solution analytically. Every cell around the seed has 1 neighbor, reducing the probability for activation to $1-(1-\\beta)^1=\\beta$. This means, that every cell transitions with probability $\\beta$ from inactive to active. In our example, 3 out of 8 cells transition to the active state. This is equivalent to stating that out of 8 independent bernoull trials, 3 were successful. The maximum likelihood estimate for $\\beta$ is hence $\\frac{3}{8}=0.375$. \n",
        "\n",
        "We can show, that the gradient-based method does converge towards this value:"
      ]
    },
    {
      "cell_type": "code",
      "execution_count": null,
      "metadata": {
        "colab": {
          "base_uri": "https://localhost:8080/"
        },
        "id": "MJ-DP9O6QQwS",
        "outputId": "068bc9a5-b8b9-4213-baed-e6d29fd206a0"
      },
      "outputs": [
        {
          "name": "stdout",
          "output_type": "stream",
          "text": [
            "Final Beta: 0.3750137388706207\n"
          ]
        }
      ],
      "source": [
        "# @title finding beta based on the gradients\n",
        "x_t = jnp.zeros((1,3,3))\n",
        "x_t = x_t.at[0,1,1].set(1)\n",
        "x_tt = jnp.zeros((1,3,3))\n",
        "x_tt = x_tt.at[0,1,1].set(1)\n",
        "x_tt = x_tt.at[0,2,1].set(1)\n",
        "x_tt = x_tt.at[0,2,2].set(1)\n",
        "x_tt = x_tt.at[0,0,1].set(1)\n",
        "\n",
        "beta = 0.5\n",
        "\n",
        "for i in range(50):\n",
        "  #print(f\"Gradient {grad(total_likelihood, argnums=2)(x_t,x_tt,beta)}\")\n",
        "  beta = beta + grad(total_likelihood, argnums=2)(x_t,x_tt,beta)\n",
        "  #print(f\"updated beta: {beta}\")\n",
        "print(f\"Final Beta: {beta}\")"
      ]
    },
    {
      "cell_type": "markdown",
      "metadata": {
        "id": "XoWDj7sRVQc1"
      },
      "source": [
        "**Exercise 2:** We consider a more complex example:\n",
        "$$\n",
        "x_t = \\begin{pmatrix}\n",
        "0 & 1 & 0 \\\\\n",
        "0 & 1 & 0 \\\\\n",
        "0 & 1 & 0 \n",
        "\\end{pmatrix}, \n",
        "x_{t+1} = \\begin{pmatrix}\n",
        "1 & 1 & 0 \\\\\n",
        "1 & 1 & 0 \\\\\n",
        "0 & 1 & 1 \n",
        "\\end{pmatrix}\n",
        "$$\n",
        "\n",
        "The risk convolution $Y$ here is given as:\n",
        "\n",
        "$$Y = \n",
        "\\begin{pmatrix}\n",
        "1 & 1 & 1 \\\\\n",
        "1 & 0 & 1 \\\\\n",
        "1 & 1 & 1 \n",
        "\\end{pmatrix} \\circledast x\n",
        "=\n",
        "\\begin{pmatrix}\n",
        "1 & 1 & 1 \\\\\n",
        "1 & 0 & 1 \\\\\n",
        "1 & 1 & 1 \n",
        "\\end{pmatrix} \\circledast \n",
        "\\begin{pmatrix}\n",
        "0 & 1 & 0 \\\\\n",
        "0 & 1 & 0 \\\\\n",
        "0 & 1 & 0 \n",
        "\\end{pmatrix}\n",
        "= \n",
        "\\begin{pmatrix}\n",
        "3 & 2 & 3 \\\\\n",
        "3 & 2 & 3 \\\\\n",
        "3 & 2 & 3 \n",
        "\\end{pmatrix}\n",
        "$$\n",
        "\n",
        "It follows, that the risk matrix is given by:\n",
        "\n",
        "$$\n",
        "L = \n",
        "\\begin{pmatrix}\n",
        "3 & 2 & 3 \\\\\n",
        "3 & 2 & 3 \\\\\n",
        "3 & 2 & 3 \n",
        "\\end{pmatrix}\n",
        "$$\n",
        "\n",
        "The probability of cells [$x_{11}, x_{21}, x_{31}, x_{13}, x_{23}, x_{33}$] transitioning is thus respectively given by: $1-(1-\\beta)^3$\n",
        "\n",
        "$$\n",
        "1-(1-\\beta)^3\n",
        "$$\n",
        "$$\n",
        "= 1- 1 - 3 \\beta + 3 \\beta^2 - \\beta^3\n",
        "$$\n",
        "$$\n",
        "= -3\\beta+3\\beta^2-\\beta^3\n",
        "$$\n",
        "\n",
        "Three out of the six trials are successful, giving us an empirical probability of $0.5$. It follows that:\n",
        "\n",
        "$$\n",
        "0.5 = -3\\beta+3\\beta^2-\\beta^3 \\approx 0.206299\n",
        "$$\n",
        "\n",
        "We can again show, that the gradient-based approach converges to this value for beta:"
      ]
    },
    {
      "cell_type": "code",
      "execution_count": null,
      "metadata": {
        "id": "-8jMKeL4WLPk"
      },
      "outputs": [],
      "source": [
        "# @title finding beta based on the gradients\n",
        "x_t = jnp.zeros((1,3,3))\n",
        "x_t = x_t.at[0,:,1].set(1)\n",
        "print(x_t)\n",
        "x_tt = jnp.zeros((1,3,3))\n",
        "x_tt = x_tt.at[0,:,1].set(1)\n",
        "x_tt = x_tt.at[0,0,0].set(1)\n",
        "x_tt = x_tt.at[0,1,0].set(1)\n",
        "x_tt = x_tt.at[0,2,2].set(1)\n",
        "print(x_tt)\n",
        "calculate_spread_likelihood(x_t, 0.1)\n",
        "p = P(x_t, x_tt, 0.1)\n",
        "print(p)\n",
        "\n",
        "def update(x_t, x_tt, beta, lr=0.01):\n",
        "  return beta + lr * grad(total_likelihood, argnums=2)(x_t,x_tt,beta)\n",
        "\n",
        "def train(x_t, x_tt, beta, lr=0.01, num_steps=1000, verbose=False):\n",
        "  for i in range(num_steps):\n",
        "    beta = update(x_t,x_tt,beta)\n",
        "    if verbose and i % 10 == 0:\n",
        "      print(f\"beta after step {i}: {beta}\")\n",
        "  return beta\n",
        "\n",
        "betas = np.linspace(0.01,1,20)\n",
        "print(betas)\n",
        "for beta in betas:\n",
        "  print(f\"------------\\nstarting with beta: {beta}\")\n",
        "  final_beta = train(x_t, x_tt, beta)\n",
        "  print(f\"beta after 1000 gradient steps: {final_beta}\")"
      ]
    },
    {
      "cell_type": "markdown",
      "metadata": {
        "id": "yxP0EelqGSba"
      },
      "source": [
        "**Exercise 3:** We consider another example transition of the form:\n",
        "\n",
        "$$\n",
        "x_t = \\begin{pmatrix}\n",
        "0 & 0 & 0 & 0 & 0 \\\\\n",
        "1 & 0 & 0 & 0 & 0\\\\\n",
        "0 & 1 & 1 & 0 & 0\\\\\n",
        "0 & 0 & 0 & 0 & 0\\\\\n",
        "0 & 0 & 0 & 0 & 0\n",
        "\\end{pmatrix}, \n",
        "x_{t+1} = \\begin{pmatrix}\n",
        "1 & 0 & 0 & 0 & 0 \\\\\n",
        "1 & 1 & 1 & 0 & 0 \\\\\n",
        "1 & 1 & 1 & 0 & 0\\\\\n",
        "0 & 1 & 0 & 1 & 0\\\\\n",
        "0 & 0 & 0 & 0 & 0\n",
        "\\end{pmatrix}\n",
        "$$\n",
        "\n",
        "applying a periodic Torus padding to $x_t$ gives us the following $7\\times7$ matrix:\n",
        "\n",
        "$$\n",
        "\\left[\\begin{array}{c|ccccc|c} \n",
        "0 & 0 & 0 & 0 & 0 & 0 & 0 \\\\\n",
        "\\hline\n",
        "0 & 0 & 0 & 0 & 0 & 0 & 0 \\\\\n",
        "0 & 1 & 0 & 0 & 0 & 0 & 1 \\\\\n",
        "0 & 0 & 1 & 1 & 0 & 0 & 0 \\\\\n",
        "0 & 0 & 0 & 0 & 0 & 0 & 0 \\\\\n",
        "0 & 0 & 0 & 0 & 0 & 0 & 0 \\\\\n",
        "\\hline\n",
        "0 & 0 & 0 & 0 & 0 & 0 & 0\n",
        "\\end{array}\\right]\n",
        "$$\n",
        "\n",
        "We get a risk matrix L of:\n",
        "\n",
        "$$\n",
        "L = \n",
        "\\begin{pmatrix}\n",
        "1 & 1 & 0 & 0 & 1 \\\\\n",
        "1 & 3 & 2 & 1 & 1 \\\\\n",
        "2 & 2 & 1 & 1 & 1\\\\\n",
        "1 & 2 & 2 & 1 & 0\\\\\n",
        "0 & 0 & 0 & 0 & 0\n",
        "\\end{pmatrix}\n",
        "$$\n",
        "\n",
        "We find 11 entries with one active neighbor, respectively. Two of these are active themselves, removing them from consideration. Hence, it remains that we have 9 bernoulli trials with probability $\\beta$, of which 2 is successful.\n",
        "\n",
        "Further, we find 5 entries with two active neighbors, respectively. One of them is active at time $t$, leaving us with 4 bernoulli trials of probability $\\beta^2-2\\beta$. Out of these, 3 were successful.\n",
        "\n",
        "Finally, there is one successful trial with 3 active neighbors.\n",
        "\n",
        "We can write the total likelihood of this event as a bernoulli chain of form:\n",
        "\n",
        "$$\n",
        "\\beta^2(1-\\beta)^7(1-(1-\\beta)^2)^3(1-\\beta)^2(1-(1-\\beta)^3)\n",
        "$$\n",
        "\n",
        "We can now use the gradient-based to find the beta, for which this transition is maximally likely, by setting:\n",
        "\n",
        "$$\n",
        "\\frac{\\partial}{\\partial \\beta}[\\beta^2(1-\\beta)^7(1-(1-\\beta)^2)^3(1-\\beta)^2(1-(1-\\beta)^3)]=0\n",
        "$$\n",
        "\n",
        "We expect our approach to converge towards $\\beta \\approx 0.35519$\n"
      ]
    },
    {
      "cell_type": "code",
      "execution_count": null,
      "metadata": {
        "cellView": "form",
        "colab": {
          "base_uri": "https://localhost:8080/"
        },
        "id": "OJJY5A2FG-SS",
        "outputId": "15b47125-cd04-4610-c4c7-15a488aefa83"
      },
      "outputs": [
        {
          "name": "stdout",
          "output_type": "stream",
          "text": [
            "[[[0. 0. 0. 0. 0.]\n",
            "  [1. 0. 0. 0. 0.]\n",
            "  [0. 1. 1. 0. 0.]\n",
            "  [0. 0. 0. 0. 0.]\n",
            "  [0. 0. 0. 0. 0.]]]\n",
            "-----------------\n",
            "[[[1. 0. 0. 0. 0.]\n",
            "  [1. 1. 1. 0. 0.]\n",
            "  [1. 1. 1. 0. 0.]\n",
            "  [0. 1. 0. 1. 0.]\n",
            "  [0. 0. 0. 0. 0.]]]\n",
            "-------------------\n",
            "[[[0. 0. 0. 0. 0. 0. 0.]\n",
            "  [0. 0. 0. 0. 0. 0. 0.]\n",
            "  [0. 1. 0. 0. 0. 0. 1.]\n",
            "  [0. 0. 1. 1. 0. 0. 0.]\n",
            "  [0. 0. 0. 0. 0. 0. 0.]\n",
            "  [0. 0. 0. 0. 0. 0. 0.]\n",
            "  [0. 0. 0. 0. 0. 0. 0.]]]\n",
            "-------------------\n",
            "[[[[1. 1. 0. 0. 1.]\n",
            "   [1. 3. 2. 1. 1.]\n",
            "   [2. 2. 1. 1. 1.]\n",
            "   [1. 2. 2. 1. 0.]\n",
            "   [0. 0. 0. 0. 0.]]]]\n",
            "-------------------\n",
            "[[[0.10000002 0.10000002 0.         0.         0.10000002]\n",
            "  [0.10000002 0.27100003 0.19000006 0.10000002 0.10000002]\n",
            "  [0.19000006 0.19000006 0.10000002 0.10000002 0.10000002]\n",
            "  [0.10000002 0.19000006 0.19000006 0.10000002 0.        ]\n",
            "  [0.         0.         0.         0.         0.        ]]]\n",
            "-------------------\n",
            "[[[0.10000002 0.9        1.         1.         0.9       ]\n",
            "  [1.         0.27100003 0.19000006 0.9        0.9       ]\n",
            "  [0.19000006 1.         1.         0.9        0.9       ]\n",
            "  [0.9        0.19000006 0.80999994 0.10000002 1.        ]\n",
            "  [1.         1.         1.         1.         1.        ]]]\n",
            "beta after step 0: 0.2001957893371582\n",
            "beta after step 100: 0.22069822251796722\n",
            "beta after step 200: 0.2420993596315384\n",
            "beta after step 300: 0.2627752125263214\n",
            "beta after step 400: 0.281327486038208\n",
            "beta after step 500: 0.2970249354839325\n",
            "beta after step 600: 0.3097838759422302\n",
            "beta after step 700: 0.319904088973999\n",
            "beta after step 800: 0.3278231620788574\n",
            "beta after step 900: 0.33397752046585083\n",
            "beta after step 1000: 0.3387461006641388\n",
            "beta after step 1100: 0.3424372375011444\n",
            "beta after step 1200: 0.3452945053577423\n",
            "beta after step 1300: 0.34750744700431824\n",
            "beta after step 1400: 0.3492226302623749\n",
            "beta after step 1500: 0.3505529463291168\n",
            "beta after step 1600: 0.3515852391719818\n",
            "beta after step 1700: 0.3523866832256317\n",
            "beta after step 1800: 0.3530091941356659\n",
            "beta after step 1900: 0.35349300503730774\n",
            "beta after step 2000: 0.35386916995048523\n",
            "beta after step 2100: 0.3541615307331085\n",
            "beta after step 2200: 0.354388952255249\n",
            "beta after step 2300: 0.3545658588409424\n",
            "beta after step 2400: 0.35470345616340637\n",
            "beta after step 2500: 0.354810506105423\n",
            "beta after step 2600: 0.3548937439918518\n",
            "beta after step 2700: 0.3549584448337555\n",
            "beta after step 2800: 0.3550088405609131\n",
            "beta after step 2900: 0.35504812002182007\n",
            "beta after optimization: 0.3550782799720764\n"
          ]
        }
      ],
      "source": [
        "# @title finding beta based on the gradients\n",
        "x_t = jnp.zeros((1,5,5))\n",
        "x_t = x_t.at[0,2,2].set(1)\n",
        "x_t = x_t.at[0,2,1].set(1)\n",
        "x_t = x_t.at[0,1,0].set(1)\n",
        "print(x_t)\n",
        "print(\"-----------------\")\n",
        "x_tt = jnp.zeros((1,5,5))\n",
        "x_tt = x_tt.at[0,0,0].set(1)\n",
        "x_tt = x_tt.at[0,1,1].set(1)\n",
        "x_tt = x_tt.at[0,2,2].set(1)\n",
        "x_tt = x_tt.at[0,1,2].set(1)\n",
        "x_tt = x_tt.at[0,2,1].set(1)\n",
        "x_tt = x_tt.at[0,2,0].set(1)\n",
        "x_tt = x_tt.at[0,1,2].set(1)\n",
        "x_tt = x_tt.at[0,1,0].set(1)\n",
        "x_tt = x_tt.at[0,3,1].set(1)\n",
        "x_tt = x_tt.at[0,3,3].set(1)\n",
        "print(x_tt)\n",
        "print(\"-------------------\")\n",
        "print(periodic_padding(x_t))\n",
        "print(\"-------------------\")\n",
        "print(risk_convolution2D(x_t))\n",
        "print(\"-------------------\")\n",
        "print(calculate_spread_likelihood(x_t, 0.1))\n",
        "print(\"-------------------\")\n",
        "p = P(x_t, x_tt, 0.1)\n",
        "print(p)\n",
        "\n",
        "def update(x_t, x_tt, beta, lr=0.01):\n",
        "  return beta + lr * grad(total_likelihood, argnums=2)(x_t,x_tt,beta)\n",
        "\n",
        "def train(x_t, x_tt, beta, lr=0.01, num_steps=1000, verbose=False):\n",
        "  for i in range(num_steps):\n",
        "    beta = update(x_t,x_tt,beta, lr)\n",
        "    if verbose and i % 100 == 0:\n",
        "      print(f\"beta after step {i}: {beta}\")\n",
        "  return beta\n",
        "\n",
        "beta = 0.2\n",
        "\n",
        "result = train(x_t, x_tt, beta, num_steps=3_000, lr=0.1, verbose=True)\n",
        "print(f\"beta after optimization: {result}\")"
      ]
    },
    {
      "cell_type": "markdown",
      "metadata": {
        "id": "SCkXsUbvUcPQ"
      },
      "source": [
        "## Working out the method for a dataset of state transitions, sampled with the same $\\beta$\n",
        "\n",
        "optimize the sum of the log likelihoods of the samples."
      ]
    },
    {
      "cell_type": "code",
      "execution_count": null,
      "metadata": {
        "cellView": "form",
        "id": "Vu0U5L1u-q7J"
      },
      "outputs": [],
      "source": [
        "# @title defining hyperparameters\n",
        "\n",
        "grid_size = 9 #@param {type:\"number\"}\n",
        "w=h=grid_size\n",
        "beta = 0.08 #@param {type:\"slider\", min:0, max:1, step:0.01}\n",
        "num_sequences = 100 # @param {type:\"number\"}\n",
        "steps_per_sequence = 20\n",
        "sequences = np.zeros((num_sequences, steps_per_sequence, h, w))"
      ]
    },
    {
      "cell_type": "code",
      "execution_count": null,
      "metadata": {
        "cellView": "form",
        "colab": {
          "base_uri": "https://localhost:8080/",
          "height": 269
        },
        "id": "4bEt3rNwIqOV",
        "outputId": "865ac5b0-f9ae-465c-ecf2-4c3d678af9d4"
      },
      "outputs": [
        {
          "name": "stdout",
          "output_type": "stream",
          "text": [
            "(1900, 2, 9, 9)\n"
          ]
        },
        {
          "data": {
            "image/png": "[encoded data removed]",
            "text/plain": [
              "<Figure size 432x288 with 1 Axes>"
            ]
          },
          "metadata": {
            "needs_background": "light"
          },
          "output_type": "display_data"
        }
      ],
      "source": [
        "# @title generate dataset\n",
        "batch = News_Spread_PCA(w,h,1,num_sequences,beta)\n",
        "\n",
        "for i in range(steps_per_sequence):\n",
        "  sequences[:,i,:,:] = batch.grids[:,:,:,-1]\n",
        "  batch.evolve()\n",
        "np.save(\"./sequence_data\", sequences)\n",
        "visualize_sequence(sequences[np.random.randint(0,num_sequences)], framerate=0.1)\n",
        "dataset = chop_and_shuffle_data(sequences)\n",
        "np.save(\"./dataset\", dataset)\n",
        "print(dataset.shape)"
      ]
    },
    {
      "cell_type": "code",
      "execution_count": null,
      "metadata": {
        "id": "S9hjY2Z0stVu"
      },
      "outputs": [],
      "source": [
        "# @title define helper functions\n",
        "\n",
        "def neg_log_likelihood(x_t:np.ndarray, x_tt:np.ndarray, beta:float) -> float:\n",
        "  \"\"\"\n",
        "  Calculate the negative log-likelihood of the dataset.\n",
        "  \"\"\"\n",
        "  return - jnp.sum(jnp.log(P(x_t,x_tt,beta)))\n",
        "\n",
        "def update(x_t:np.ndarray, x_tt:np.ndarray, beta:float, derivative_fn, lr=0.01) -> Tuple[float, float]:\n",
        "  \"\"\"\n",
        "  Execute one step into the direction of the negative gradient (Gradient descent),\n",
        "  scaled by the learning rate.\n",
        "  \"\"\"\n",
        "  step = lr * derivative_fn(x_t,x_tt,beta)\n",
        "  updated = beta - step\n",
        "  return updated, step\n",
        "\n",
        "def train(x_t:np.ndarray, x_tt:np.ndarray, beta:float, derivative_fn, lr=0.01, num_steps=1000, verbose=False) -> Tuple[float, List[float], List[float], List[float]]:\n",
        "  \"\"\"\n",
        "  Execute the training loop.\n",
        "  \"\"\"\n",
        "  betas = []\n",
        "  grad_steps = []\n",
        "  losses = []\n",
        "  for i in range(num_steps):\n",
        "    beta, step = update(x_t,x_tt,beta, derivative_fn, lr)\n",
        "    losses.append(neg_log_likelihood(x_t, x_tt, beta))\n",
        "    betas.append(beta)\n",
        "    grad_steps.append(step)\n",
        "    if verbose and i % 100 == 0:\n",
        "      print(f\"beta after step {i}: {beta}\")\n",
        "  return beta, betas, grad_steps, losses"
      ]
    },
    {
      "cell_type": "code",
      "execution_count": null,
      "metadata": {
        "cellView": "form",
        "colab": {
          "base_uri": "https://localhost:8080/",
          "height": 388
        },
        "id": "9VGd0j9GSCko",
        "outputId": "ed8977b4-7faf-44fd-a0dd-8cb2c5d7d31c"
      },
      "outputs": [
        {
          "name": "stdout",
          "output_type": "stream",
          "text": [
            "starting with beta=0.5488135039273248\n",
            "148.28613\n",
            "Final Beta: 0.07797738164663315\n"
          ]
        },
        {
          "data": {
            "image/png": "[encoded data removed]",
            "text/plain": [
              "<Figure size 1440x360 with 3 Axes>"
            ]
          },
          "metadata": {
            "needs_background": "light"
          },
          "output_type": "display_data"
        }
      ],
      "source": [
        "# @title Find beta\n",
        "np.random.seed(0)\n",
        "beta = np.random.random()\n",
        "x_t = dataset[:,0,:,:]\n",
        "x_tt = dataset[:,1,:,:]\n",
        "\n",
        "print(f\"starting with beta={beta}\")\n",
        "\n",
        "derivative_fn = grad(neg_log_likelihood, argnums=2)\n",
        "\n",
        "#print(x_t[0])\n",
        "#print(\"----------------------\")\n",
        "#print(x_tt[0])\n",
        "#print(\"----------------------\\n Transition Probability Matrix:\\n\")\n",
        "#print(P(np.expand_dims(x_t[0], axis=0), np.expand_dims(x_tt[0], axis=0),beta))\n",
        "#print(\"----------------------\\n negative log likelihood Matrix:\\n\")\n",
        "#print(-jnp.log(P(np.expand_dims(x_t[0], axis=0), np.expand_dims(x_tt[0], axis=0),beta)))\n",
        "#print(\"----------------------\\n total negative log likelihood:\\n\")\n",
        "#print(neg_log_likelihood(np.expand_dims(x_t[0], axis=0), np.expand_dims(x_tt[0], axis=0), beta))\n",
        "#print(\"----------------------\\n gradient of the negative log likelihood: \\n\")\n",
        "#print(derivative_fn(np.expand_dims(x_t[0], axis=0), np.expand_dims(x_tt[0], axis=0), beta))\n",
        "\n",
        "result, beta_hist, grad_steps, losses = train(x_t, x_tt, beta, derivative_fn, lr=1e-7)\n",
        "\n",
        "fig, axs = plt.subplots(1,3,figsize=(20,5))\n",
        "axs[0].plot(np.arange(len(beta_hist)), beta_hist, label=\"beta\")\n",
        "axs[0].set_title('Beta Values')\n",
        "axs[1].plot(np.arange(len(beta_hist)), grad_steps, label=\"grad_steps\")\n",
        "axs[1].set_title('Gradient Steps')\n",
        "axs[2].plot(np.arange(len(beta_hist)), losses, label=\"losses\")\n",
        "axs[2].set_title('Losses')\n",
        "\n",
        "print(f\"Final Beta: {result}\")"
      ]
    },
    {
      "cell_type": "code",
      "execution_count": null,
      "metadata": {
        "colab": {
          "base_uri": "https://localhost:8080/",
          "height": 353
        },
        "id": "8i1d743brtcq",
        "outputId": "0caba226-3808-49a3-df03-3dbac99dc09a"
      },
      "outputs": [
        {
          "name": "stdout",
          "output_type": "stream",
          "text": [
            "Final Beta: 0.07797738164663315\n"
          ]
        },
        {
          "data": {
            "image/png": "[encoded data removed]",
            "text/plain": [
              "<Figure size 1440x360 with 3 Axes>"
            ]
          },
          "metadata": {
            "needs_background": "light"
          },
          "output_type": "display_data"
        }
      ],
      "source": [
        "fig, axs = plt.subplots(1,3,figsize=(20,5))\n",
        "axs[0].plot(np.arange(150), beta_hist[:150], label=\"beta\")\n",
        "axs[0].set_title('Beta Values')\n",
        "axs[1].plot(np.arange(150), grad_steps[:150], label=\"grad_steps\")\n",
        "axs[1].set_title('Gradient Steps')\n",
        "axs[2].plot(np.arange(150), losses[:150], label=\"losses\")\n",
        "axs[2].set_title('Losses')\n",
        "\n",
        "print(f\"Final Beta: {result}\")"
      ]
    },
    {
      "cell_type": "code",
      "execution_count": null,
      "metadata": {
        "id": "a0oSmJHSulPP"
      },
      "outputs": [],
      "source": []
    }
  ],
  "metadata": {
    "accelerator": "GPU",
    "colab": {
      "authorship_tag": "ABX9TyMNC2LNYVcQNjwzvK2nMGOh",
      "collapsed_sections": [],
      "include_colab_link": true,
      "provenance": []
    },
    "kernelspec": {
      "display_name": "Python 3.10.4 ('torch')",
      "language": "python",
      "name": "python3"
    },
    "language_info": {
      "codemirror_mode": {
        "name": "ipython",
        "version": 3
      },
      "file_extension": ".py",
      "mimetype": "text/x-python",
      "name": "python",
      "nbconvert_exporter": "python",
      "pygments_lexer": "ipython3",
      "version": "3.10.4"
    },
    "vscode": {
      "interpreter": {
        "hash": "d457bbfc426ef2d36a37fd2ab82784599b6e7b389a7b568386df2942100916c1"
      }
    }
  },
  "nbformat": 4,
  "nbformat_minor": 0
}
