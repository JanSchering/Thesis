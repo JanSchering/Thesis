{
 "cells": [
  {
   "cell_type": "markdown",
   "metadata": {},
   "source": [
    "import modules"
   ]
  },
  {
   "cell_type": "code",
   "execution_count": 1,
   "metadata": {},
   "outputs": [
    {
     "name": "stderr",
     "output_type": "stream",
     "text": [
      "c:\\Users\\jsche\\anaconda3\\envs\\torch\\lib\\site-packages\\tqdm\\auto.py:22: TqdmWarning: IProgress not found. Please update jupyter and ipywidgets. See https://ipywidgets.readthedocs.io/en/stable/user_install.html\n",
      "  from .autonotebook import tqdm as notebook_tqdm\n"
     ]
    }
   ],
   "source": [
    "import sys\n",
    "\n",
    "sys.path.insert(0, \"../abc\")\n",
    "import torch as t\n",
    "from torch.distributions import uniform\n",
    "import numpy as np\n",
    "import matplotlib.pyplot as plt\n",
    "from model import init_grids, model\n",
    "from vis_utils import visualize_batch, visualize_sequence\n",
    "from utils import chop_and_shuffle_data, heaviside\n",
    "from likelihoods import spread_likelihood\n",
    "from math import factorial\n",
    "import time\n",
    "from IPython.display import Image\n",
    "from IPython import display\n",
    "from tqdm import tqdm"
   ]
  },
  {
   "cell_type": "markdown",
   "metadata": {},
   "source": [
    "# Combining ABC and Gradient Descent to learn $\\beta$ without access to the likelihood\n",
    "\n",
    "In this experiment, we try to learn $\\beta$ without having access to the likelihood function. The reason for this, is that in more complex models the likelihood function can be intractable."
   ]
  },
  {
   "cell_type": "markdown",
   "metadata": {},
   "source": [
    "## 1. Making the PCA model differentiable\n",
    "\n",
    "So far, we have defined the PCA in a non-differentiable form. For the first experiment, this was fine as we did not have to differentiate through the model itself, but through the likelihood function. In the second experiment, it was also fine as we did not use any gradients. \n",
    "\n",
    "For the following experiment, however, it is necessary to be able to differentiate through the model w.r.t. $\\beta$. The problem we face, is that the model is discrete. At every time step, cells need to do discrete transitions (e.g. 0 -> 1). Fully discrete functions (i.e. a step/heaviside function) are not differentiable. \n",
    "\n",
    "To solve the issue, we need to find a differentiable approximation of the model"
   ]
  },
  {
   "cell_type": "markdown",
   "metadata": {},
   "source": [
    "### approximating the heaviside/step function\n",
    "\n",
    "We use a differentiable approximation of the heaviside function. The approximation has a hyperparameter $k$ that let's us define how well the function approximates a discrete step. Here, we have to consider a trade-off between the quality of the approximation and the usefulness of the gradient. The higher $k$, the lower the gradients will be."
   ]
  },
  {
   "cell_type": "code",
   "execution_count": 6,
   "metadata": {},
   "outputs": [
    {
     "data": {
      "image/png": "[encoded data removed]",
      "text/plain": [
       "<Figure size 432x288 with 1 Axes>"
      ]
     },
     "metadata": {
      "needs_background": "light"
     },
     "output_type": "display_data"
    }
   ],
   "source": [
    "test_vals = t.linspace(-4, 5, 10_000)\n",
    "constants = [1,3,5,10,20]\n",
    "\n",
    "for k in constants:\n",
    "    y = heaviside(test_vals, k=k)\n",
    "    plt.plot(test_vals, y, label=f\"k={k}\")\n",
    "\n",
    "plt.legend()\n",
    "plt.show()"
   ]
  },
  {
   "cell_type": "markdown",
   "metadata": {},
   "source": [
    "### define the model approximation"
   ]
  },
  {
   "cell_type": "code",
   "execution_count": 8,
   "metadata": {},
   "outputs": [],
   "source": [
    "def model_approx(grids: t.Tensor, beta: t.Tensor) -> t.Tensor:\n",
    "    # produces a mask that is 1 for all healthy cells, 0 for the infected cells\n",
    "    healthy_mask = 1 - grids\n",
    "    # calculate the likelihood of spread \n",
    "    likelihoods = spread_likelihood(grids, beta)\n",
    "    # compare each likelihood to a random value ~ U(0,1) to get the residual values\n",
    "    residuals = likelihoods - t.rand(*grids.shape)\n",
    "    # apply the heaviside to the residuals,\n",
    "    #   if the residual is positive, the cell should be infected ( < spread_likelihood)\n",
    "    #   if the residual is negative, the cell should stay healthy ( > spread_likelihood)\n",
    "    #   if the cell was already infected, no update should be applied \n",
    "    update_mask = heaviside(residuals, k=20) * healthy_mask\n",
    "    # apply the update to the current state\n",
    "    return grids + update_mask"
   ]
  },
  {
   "cell_type": "markdown",
   "metadata": {},
   "source": [
    "We can visualize a comparison between this approximate model and the original model:"
   ]
  },
  {
   "cell_type": "code",
   "execution_count": 14,
   "metadata": {},
   "outputs": [
    {
     "data": {
      "text/plain": [
       "[Text(0.5, 1.0, 'generated with orig. model')]"
      ]
     },
     "execution_count": 14,
     "metadata": {},
     "output_type": "execute_result"
    },
    {
     "data": {
      "image/png": "[encoded data removed]",
      "text/plain": [
       "<Figure size 432x288 with 2 Axes>"
      ]
     },
     "metadata": {
      "needs_background": "light"
     },
     "output_type": "display_data"
    }
   ],
   "source": [
    "x_t = t.zeros((1, 3, 3))\n",
    "x_t[0, 1, 1] = 1\n",
    "\n",
    "fig, axs = plt.subplots(1,2)\n",
    "test = model_approx(x_t, t.tensor(0.5))\n",
    "axs[0].imshow(test[0], cmap=\"Greys\", interpolation=\"nearest\", vmin=0, vmax=1)\n",
    "axs[0].set(title=\"generated with approx. model\")\n",
    "# %%\n",
    "test2 = model(x_t, t.tensor(0.5))\n",
    "axs[1].imshow(test2[0], cmap=\"Greys\", interpolation=\"nearest\", vmin=0, vmax=1)\n",
    "axs[1].set(title=\"generated with orig. model\")"
   ]
  },
  {
   "cell_type": "markdown",
   "metadata": {},
   "source": [
    "## 2. Summary statistics and distance function\n",
    "\n",
    "We can use the same summary statistics and distance function as in experiment 2:"
   ]
  },
  {
   "cell_type": "code",
   "execution_count": 16,
   "metadata": {},
   "outputs": [],
   "source": [
    "def S1(X: t.Tensor, Y: t.Tensor) -> t.Tensor:\n",
    "    return t.sum((1 - X) * Y, axis=(-1, -2))\n",
    "\n",
    "\n",
    "def calc_distance(X, Y_sim: t.Tensor, Y_obs: t.Tensor) -> float:\n",
    "    # get statistics of the simulated set\n",
    "    s_sim = S1(X, Y_sim)\n",
    "    # get statistics of the observed set\n",
    "    s_obs = S1(X, Y_obs)\n",
    "    # calculate the mean ratio\n",
    "    return (1 - t.mean(s_sim / (s_obs + 1))) ** 2"
   ]
  },
  {
   "cell_type": "markdown",
   "metadata": {},
   "source": [
    "We can calculate the distance for an example:"
   ]
  },
  {
   "cell_type": "code",
   "execution_count": 23,
   "metadata": {},
   "outputs": [
    {
     "data": {
      "text/plain": [
       "tensor(1.0295, dtype=torch.float64)"
      ]
     },
     "execution_count": 23,
     "metadata": {},
     "output_type": "execute_result"
    }
   ],
   "source": [
    "x_t = t.zeros((1, 3, 3))\n",
    "x_t[0, 1, 1] = 1\n",
    "\n",
    "x_tt1 = model(x_t, t.tensor(0.6))\n",
    "x_tt2 = model_approx(x_t, t.tensor(0.2))\n",
    "\n",
    "calc_distance(x_t, x_tt1, x_tt2)"
   ]
  },
  {
   "cell_type": "markdown",
   "metadata": {},
   "source": [
    "## 3. Differentiating through the distance w.r.t. $\\beta$"
   ]
  },
  {
   "cell_type": "markdown",
   "metadata": {},
   "source": [
    "using the pytorch autograd function, we can now easily find the gradient of the distance w.r.t. $beta$:"
   ]
  },
  {
   "cell_type": "code",
   "execution_count": 25,
   "metadata": {},
   "outputs": [
    {
     "data": {
      "text/plain": [
       "(tensor(-3.3162),)"
      ]
     },
     "execution_count": 25,
     "metadata": {},
     "output_type": "execute_result"
    }
   ],
   "source": [
    "beta = t.tensor(0.2)\n",
    "beta.requires_grad_()\n",
    "x_tt1 = model(x_t, t.tensor(0.6))\n",
    "x_tt2 = model_approx(x_t, beta)\n",
    "distance = calc_distance(x_t, x_tt2, x_tt1)\n",
    "gradient = t.autograd.grad(distance, beta)\n",
    "gradient"
   ]
  },
  {
   "cell_type": "markdown",
   "metadata": {},
   "source": [
    "we can visualize the gradient for a range of beta values:"
   ]
  },
  {
   "cell_type": "code",
   "execution_count": 31,
   "metadata": {},
   "outputs": [
    {
     "data": {
      "text/plain": [
       "[<matplotlib.lines.Line2D at 0x1871c7d9270>]"
      ]
     },
     "execution_count": 31,
     "metadata": {},
     "output_type": "execute_result"
    },
    {
     "data": {
      "image/png": "[encoded data removed]",
      "text/plain": [
       "<Figure size 432x288 with 1 Axes>"
      ]
     },
     "metadata": {
      "needs_background": "light"
     },
     "output_type": "display_data"
    }
   ],
   "source": [
    "betas = t.linspace(0.0, 1.0, 1000)\n",
    "obs = model(x_t, t.tensor(0.6))\n",
    "grads = []\n",
    "for beta in betas:\n",
    "    beta.requires_grad_()\n",
    "    x_tt = model_approx(x_t, beta)\n",
    "    dist = calc_distance(x_t, x_tt, obs)\n",
    "    gradient = t.autograd.grad(dist, beta)[0]\n",
    "    grads.append(gradient.detach().clone())\n",
    "# %%\n",
    "plt.plot(betas, grads)"
   ]
  },
  {
   "cell_type": "markdown",
   "metadata": {},
   "source": [
    "as this is very noisy, we will smooth out the curve using a savgol filter to get an idea of the general trend for the gradient:"
   ]
  },
  {
   "cell_type": "code",
   "execution_count": 34,
   "metadata": {},
   "outputs": [],
   "source": [
    "def savgol_filter(y, window_size, order, deriv=0, rate=1):\n",
    "    try:\n",
    "        window_size = np.abs(int(window_size))\n",
    "        order = np.abs(int(order))\n",
    "    except ValueError:\n",
    "        raise ValueError(\"window_size and order have to be of type int\")\n",
    "    if window_size % 2 != 1 or window_size < 1:\n",
    "        raise TypeError(\"window_size size must be a positive odd number\")\n",
    "    if window_size < order + 2:\n",
    "        raise TypeError(\"window_size is too small for the polynomials order\")\n",
    "    order_range = range(order + 1)\n",
    "    half_window = (window_size - 1) // 2\n",
    "    # precompute coefficients\n",
    "    b = np.mat(\n",
    "        [[k**i for i in order_range] for k in range(-half_window, half_window + 1)]\n",
    "    )\n",
    "    m = np.linalg.pinv(b).A[deriv] * rate**deriv * factorial(deriv)\n",
    "    # pad the signal at the extremes with\n",
    "    # values taken from the signal itself\n",
    "    firstvals = y[0] - np.abs(y[1 : half_window + 1][::-1] - y[0])\n",
    "    lastvals = y[-1] + np.abs(y[-half_window - 1 : -1][::-1] - y[-1])\n",
    "    y = np.concatenate((firstvals, y, lastvals))\n",
    "    return np.convolve(m[::-1], y, mode=\"valid\")"
   ]
  },
  {
   "cell_type": "code",
   "execution_count": 35,
   "metadata": {},
   "outputs": [
    {
     "data": {
      "image/png": "[encoded data removed]",
      "text/plain": [
       "<Figure size 432x288 with 1 Axes>"
      ]
     },
     "metadata": {
      "needs_background": "light"
     },
     "output_type": "display_data"
    }
   ],
   "source": [
    "grad_list = np.array([tnsor.numpy() for tnsor in grads])\n",
    "\n",
    "plt.plot(betas, grads, label=\"gradient w.r.t beta\")\n",
    "smoothed = savgol_filter(grad_list, 101, 3)\n",
    "plt.plot(betas, smoothed, label=\"smoothed gradient\")\n",
    "plt.xlabel(\"beta\")\n",
    "plt.ylabel(\"gradient\")\n",
    "plt.legend()\n",
    "plt.show()"
   ]
  },
  {
   "cell_type": "markdown",
   "metadata": {},
   "source": [
    "## 4. Defining an update function for the model "
   ]
  },
  {
   "cell_type": "code",
   "execution_count": 63,
   "metadata": {},
   "outputs": [],
   "source": [
    "def update(\n",
    "    beta: t.Tensor, X: t.Tensor, Y_obs: t.Tensor, learning_rate: float\n",
    ") -> t.Tensor:\n",
    "    beta.requires_grad_()\n",
    "    Y_sim = model_approx(X, beta)\n",
    "    dist = calc_distance(X, Y_sim, Y_obs)\n",
    "    gradient = t.autograd.grad(dist, beta)[0]\n",
    "    return beta - learning_rate * gradient"
   ]
  },
  {
   "cell_type": "markdown",
   "metadata": {},
   "source": [
    "showcasing the update function for a simple example:"
   ]
  },
  {
   "cell_type": "code",
   "execution_count": 68,
   "metadata": {},
   "outputs": [
    {
     "name": "stderr",
     "output_type": "stream",
     "text": [
      "100%|██████████| 10000/10000 [00:04<00:00, 2140.87it/s]\n"
     ]
    },
    {
     "data": {
      "text/plain": [
       "[<matplotlib.lines.Line2D at 0x1871f1126b0>]"
      ]
     },
     "execution_count": 68,
     "metadata": {},
     "output_type": "execute_result"
    },
    {
     "data": {
      "image/png": "[encoded data removed]",
      "text/plain": [
       "<Figure size 432x288 with 1 Axes>"
      ]
     },
     "metadata": {
      "needs_background": "light"
     },
     "output_type": "display_data"
    }
   ],
   "source": [
    "beta = t.tensor(0.2)\n",
    "obs = model(x_t, t.tensor(0.6))\n",
    "betas = []\n",
    "for i in tqdm(range(10_000)):\n",
    "    beta = update(beta, x_t, obs, 0.01)\n",
    "    betas.append(beta.detach())\n",
    "\n",
    "plt.plot(np.arange(len(betas)), t.tensor(betas))"
   ]
  },
  {
   "cell_type": "code",
   "execution_count": 69,
   "metadata": {},
   "outputs": [
    {
     "data": {
      "image/png": "[encoded data removed]",
      "text/plain": [
       "<Figure size 432x288 with 1 Axes>"
      ]
     },
     "metadata": {
      "needs_background": "light"
     },
     "output_type": "display_data"
    }
   ],
   "source": [
    "plt.hist(betas, density=True, range=(0.,1.), bins=40)\n",
    "plt.show()"
   ]
  },
  {
   "cell_type": "markdown",
   "metadata": {},
   "source": [
    "# Experiment 1: Dataset generated with a single $\\beta$ value"
   ]
  },
  {
   "cell_type": "code",
   "execution_count": 55,
   "metadata": {},
   "outputs": [],
   "source": [
    "grid_size = 30\n",
    "batch_size = 1000\n",
    "steps_per_sequence = 40\n",
    "beta = 0.2\n",
    "\n",
    "framerate = 0.2"
   ]
  },
  {
   "cell_type": "markdown",
   "metadata": {},
   "source": [
    "visualize an example sequence:"
   ]
  },
  {
   "cell_type": "code",
   "execution_count": 56,
   "metadata": {},
   "outputs": [
    {
     "data": {
      "text/plain": [
       "<Figure size 432x288 with 0 Axes>"
      ]
     },
     "metadata": {},
     "output_type": "display_data"
    }
   ],
   "source": [
    "grids = init_grids(grid_size, 2)\n",
    "for i in range(steps_per_sequence):\n",
    "  visualize_batch(grids)\n",
    "  display.display(plt.gcf())\n",
    "  grids = model(grids, beta)\n",
    "  display.clear_output(wait=True)\n",
    "  time.sleep(framerate)"
   ]
  },
  {
   "cell_type": "markdown",
   "metadata": {},
   "source": [
    "generate the dataset"
   ]
  },
  {
   "cell_type": "code",
   "execution_count": null,
   "metadata": {},
   "outputs": [],
   "source": [
    "sequences = t.zeros((batch_size, steps_per_sequence, grid_size, grid_size))\n",
    "batch = init_grids(grid_size,batch_size)\n",
    "\n",
    "for i in range(steps_per_sequence):\n",
    "  sequences[:,i,:,:] = batch\n",
    "  batch = model(batch, beta)\n",
    "  \n",
    "visualize_sequence(sequences[np.random.randint(0,batch_size)], framerate=0.1)\n",
    "dataset = chop_and_shuffle_data(sequences)\n",
    "print(dataset.shape)"
   ]
  },
  {
   "cell_type": "markdown",
   "metadata": {},
   "source": [
    "define the training loop:"
   ]
  },
  {
   "cell_type": "code",
   "execution_count": 90,
   "metadata": {},
   "outputs": [],
   "source": [
    "def update(\n",
    "    beta: t.Tensor, X: t.Tensor, Y_obs: t.Tensor, learning_rate: float\n",
    ") -> t.Tensor:\n",
    "    print(Y_obs.is_cuda)\n",
    "    beta.requires_grad_()\n",
    "    print(beta.is_cuda)\n",
    "    Y_sim = model_approx(X, beta)\n",
    "    print(Y_sim.is_cuda)\n",
    "    dist = calc_distance(X, Y_sim, Y_obs)\n",
    "    print(dist.is_cuda)\n",
    "    gradient = t.autograd.grad(dist, beta)[0]\n",
    "    return beta - learning_rate * gradient, gradient\n",
    "\n",
    "def train(beta: t.Tensor, X: t.Tensor, Y_obs: t.Tensor, lr:float, num_steps:int):\n",
    "    beta_hist = []\n",
    "    grad_hist = []\n",
    "    X = X.cuda()\n",
    "    print(X.is_cuda)\n",
    "    Y_obs = Y_obs.cuda()\n",
    "    beta = beta.cuda()\n",
    "    for i in tqdm(range(num_steps)):\n",
    "        beta, gradient = update(beta, X, Y_obs, lr)\n",
    "        beta_hist.append(beta.detach().clone())\n",
    "        grad_hist.append(gradient.detach().clone())\n",
    "    return beta, beta_hist, grad_hist"
   ]
  },
  {
   "cell_type": "markdown",
   "metadata": {},
   "source": [
    "run the training for the dataset"
   ]
  },
  {
   "cell_type": "code",
   "execution_count": 91,
   "metadata": {},
   "outputs": [
    {
     "name": "stdout",
     "output_type": "stream",
     "text": [
      "True\n"
     ]
    },
    {
     "name": "stderr",
     "output_type": "stream",
     "text": [
      "  0%|          | 0/10000 [00:00<?, ?it/s]"
     ]
    },
    {
     "name": "stdout",
     "output_type": "stream",
     "text": [
      "True\n",
      "True\n"
     ]
    },
    {
     "name": "stderr",
     "output_type": "stream",
     "text": [
      "  0%|          | 0/10000 [00:02<?, ?it/s]\n"
     ]
    },
    {
     "ename": "RuntimeError",
     "evalue": "Input type (torch.cuda.FloatTensor) and weight type (torch.FloatTensor) should be the same",
     "output_type": "error",
     "traceback": [
      "\u001b[1;31m---------------------------------------------------------------------------\u001b[0m",
      "\u001b[1;31mRuntimeError\u001b[0m                              Traceback (most recent call last)",
      "\u001b[1;32mc:\\Users\\jsche\\University\\Thesis\\si_model\\SI_Experiment3.ipynb Cell 37\u001b[0m in \u001b[0;36m<cell line: 7>\u001b[1;34m()\u001b[0m\n\u001b[0;32m      <a href='vscode-notebook-cell:/c%3A/Users/jsche/University/Thesis/si_model/SI_Experiment3.ipynb#X62sZmlsZQ%3D%3D?line=3'>4</a>\u001b[0m lr \u001b[39m=\u001b[39m \u001b[39m0.1\u001b[39m\n\u001b[0;32m      <a href='vscode-notebook-cell:/c%3A/Users/jsche/University/Thesis/si_model/SI_Experiment3.ipynb#X62sZmlsZQ%3D%3D?line=4'>5</a>\u001b[0m num_steps \u001b[39m=\u001b[39m \u001b[39m10_000\u001b[39m\n\u001b[1;32m----> <a href='vscode-notebook-cell:/c%3A/Users/jsche/University/Thesis/si_model/SI_Experiment3.ipynb#X62sZmlsZQ%3D%3D?line=6'>7</a>\u001b[0m beta, beta_hist, grad_hist \u001b[39m=\u001b[39m train(beta, X, Y_obs, lr, num_steps)\n",
      "\u001b[1;32mc:\\Users\\jsche\\University\\Thesis\\si_model\\SI_Experiment3.ipynb Cell 37\u001b[0m in \u001b[0;36mtrain\u001b[1;34m(beta, X, Y_obs, lr, num_steps)\u001b[0m\n\u001b[0;32m     <a href='vscode-notebook-cell:/c%3A/Users/jsche/University/Thesis/si_model/SI_Experiment3.ipynb#X62sZmlsZQ%3D%3D?line=19'>20</a>\u001b[0m beta \u001b[39m=\u001b[39m beta\u001b[39m.\u001b[39mcuda()\n\u001b[0;32m     <a href='vscode-notebook-cell:/c%3A/Users/jsche/University/Thesis/si_model/SI_Experiment3.ipynb#X62sZmlsZQ%3D%3D?line=20'>21</a>\u001b[0m \u001b[39mfor\u001b[39;00m i \u001b[39min\u001b[39;00m tqdm(\u001b[39mrange\u001b[39m(num_steps)):\n\u001b[1;32m---> <a href='vscode-notebook-cell:/c%3A/Users/jsche/University/Thesis/si_model/SI_Experiment3.ipynb#X62sZmlsZQ%3D%3D?line=21'>22</a>\u001b[0m     beta, gradient \u001b[39m=\u001b[39m update(beta, X, Y_obs, lr)\n\u001b[0;32m     <a href='vscode-notebook-cell:/c%3A/Users/jsche/University/Thesis/si_model/SI_Experiment3.ipynb#X62sZmlsZQ%3D%3D?line=22'>23</a>\u001b[0m     beta_hist\u001b[39m.\u001b[39mappend(beta\u001b[39m.\u001b[39mdetach()\u001b[39m.\u001b[39mclone())\n\u001b[0;32m     <a href='vscode-notebook-cell:/c%3A/Users/jsche/University/Thesis/si_model/SI_Experiment3.ipynb#X62sZmlsZQ%3D%3D?line=23'>24</a>\u001b[0m     grad_hist\u001b[39m.\u001b[39mappend(gradient\u001b[39m.\u001b[39mdetach()\u001b[39m.\u001b[39mclone())\n",
      "\u001b[1;32mc:\\Users\\jsche\\University\\Thesis\\si_model\\SI_Experiment3.ipynb Cell 37\u001b[0m in \u001b[0;36mupdate\u001b[1;34m(beta, X, Y_obs, learning_rate)\u001b[0m\n\u001b[0;32m      <a href='vscode-notebook-cell:/c%3A/Users/jsche/University/Thesis/si_model/SI_Experiment3.ipynb#X62sZmlsZQ%3D%3D?line=4'>5</a>\u001b[0m beta\u001b[39m.\u001b[39mrequires_grad_()\n\u001b[0;32m      <a href='vscode-notebook-cell:/c%3A/Users/jsche/University/Thesis/si_model/SI_Experiment3.ipynb#X62sZmlsZQ%3D%3D?line=5'>6</a>\u001b[0m \u001b[39mprint\u001b[39m(beta\u001b[39m.\u001b[39mis_cuda)\n\u001b[1;32m----> <a href='vscode-notebook-cell:/c%3A/Users/jsche/University/Thesis/si_model/SI_Experiment3.ipynb#X62sZmlsZQ%3D%3D?line=6'>7</a>\u001b[0m Y_sim \u001b[39m=\u001b[39m model_approx(X, beta)\n\u001b[0;32m      <a href='vscode-notebook-cell:/c%3A/Users/jsche/University/Thesis/si_model/SI_Experiment3.ipynb#X62sZmlsZQ%3D%3D?line=7'>8</a>\u001b[0m \u001b[39mprint\u001b[39m(Y_sim\u001b[39m.\u001b[39mis_cuda)\n\u001b[0;32m      <a href='vscode-notebook-cell:/c%3A/Users/jsche/University/Thesis/si_model/SI_Experiment3.ipynb#X62sZmlsZQ%3D%3D?line=8'>9</a>\u001b[0m dist \u001b[39m=\u001b[39m calc_distance(X, Y_sim, Y_obs)\n",
      "\u001b[1;32mc:\\Users\\jsche\\University\\Thesis\\si_model\\SI_Experiment3.ipynb Cell 37\u001b[0m in \u001b[0;36mmodel_approx\u001b[1;34m(grids, beta)\u001b[0m\n\u001b[0;32m      <a href='vscode-notebook-cell:/c%3A/Users/jsche/University/Thesis/si_model/SI_Experiment3.ipynb#X62sZmlsZQ%3D%3D?line=2'>3</a>\u001b[0m healthy_mask \u001b[39m=\u001b[39m \u001b[39m1\u001b[39m \u001b[39m-\u001b[39m grids\n\u001b[0;32m      <a href='vscode-notebook-cell:/c%3A/Users/jsche/University/Thesis/si_model/SI_Experiment3.ipynb#X62sZmlsZQ%3D%3D?line=3'>4</a>\u001b[0m \u001b[39m# calculate the likelihood of spread \u001b[39;00m\n\u001b[1;32m----> <a href='vscode-notebook-cell:/c%3A/Users/jsche/University/Thesis/si_model/SI_Experiment3.ipynb#X62sZmlsZQ%3D%3D?line=4'>5</a>\u001b[0m likelihoods \u001b[39m=\u001b[39m spread_likelihood(grids, beta)\n\u001b[0;32m      <a href='vscode-notebook-cell:/c%3A/Users/jsche/University/Thesis/si_model/SI_Experiment3.ipynb#X62sZmlsZQ%3D%3D?line=5'>6</a>\u001b[0m \u001b[39m# compare each likelihood to a random value ~ U(0,1) to get the residual values\u001b[39;00m\n\u001b[0;32m      <a href='vscode-notebook-cell:/c%3A/Users/jsche/University/Thesis/si_model/SI_Experiment3.ipynb#X62sZmlsZQ%3D%3D?line=6'>7</a>\u001b[0m residuals \u001b[39m=\u001b[39m likelihoods \u001b[39m-\u001b[39m t\u001b[39m.\u001b[39mrand(\u001b[39m*\u001b[39mgrids\u001b[39m.\u001b[39mshape)\n",
      "File \u001b[1;32mc:\\Users\\jsche\\University\\Thesis\\si_model\\likelihoods.py:11\u001b[0m, in \u001b[0;36mspread_likelihood\u001b[1;34m(batch, beta)\u001b[0m\n\u001b[0;32m      5\u001b[0m \u001b[39mdef\u001b[39;00m \u001b[39mspread_likelihood\u001b[39m(batch: t\u001b[39m.\u001b[39mTensor, beta: t\u001b[39m.\u001b[39mTensor):\n\u001b[0;32m      6\u001b[0m     \u001b[39m\"\"\"\u001b[39;00m\n\u001b[0;32m      7\u001b[0m \u001b[39m    calculates the likelihood of each cell in the batch transitioning to an\u001b[39;00m\n\u001b[0;32m      8\u001b[0m \u001b[39m    activated state at the next time step:\u001b[39;00m\n\u001b[0;32m      9\u001b[0m \u001b[39m    1-(1-ß)^N_k(n)\u001b[39;00m\n\u001b[0;32m     10\u001b[0m \u001b[39m    \"\"\"\u001b[39;00m\n\u001b[1;32m---> 11\u001b[0m     risk_conv \u001b[39m=\u001b[39m risk_convolution2D(batch)\u001b[39m.\u001b[39msqueeze(\u001b[39m1\u001b[39m)\n\u001b[0;32m     12\u001b[0m     \u001b[39mreturn\u001b[39;00m \u001b[39m1.0\u001b[39m \u001b[39m-\u001b[39m (\u001b[39m1.0\u001b[39m \u001b[39m-\u001b[39m beta) \u001b[39m*\u001b[39m\u001b[39m*\u001b[39m risk_conv\n",
      "File \u001b[1;32mc:\\Users\\jsche\\University\\Thesis\\si_model\\risk_conv.py:22\u001b[0m, in \u001b[0;36mrisk_convolution2D\u001b[1;34m(batch)\u001b[0m\n\u001b[0;32m     19\u001b[0m expanded \u001b[39m=\u001b[39m t\u001b[39m.\u001b[39munsqueeze(padded_grid, \u001b[39m-\u001b[39m\u001b[39m1\u001b[39m)\n\u001b[0;32m     20\u001b[0m transposed \u001b[39m=\u001b[39m t\u001b[39m.\u001b[39mpermute(expanded, (\u001b[39m0\u001b[39m, \u001b[39m3\u001b[39m, \u001b[39m1\u001b[39m, \u001b[39m2\u001b[39m))\n\u001b[1;32m---> 22\u001b[0m \u001b[39mreturn\u001b[39;00m conv2d(transposed, kernel, stride\u001b[39m=\u001b[39;49m\u001b[39m1\u001b[39;49m, padding\u001b[39m=\u001b[39;49m\u001b[39m\"\u001b[39;49m\u001b[39mvalid\u001b[39;49m\u001b[39m\"\u001b[39;49m)\n",
      "\u001b[1;31mRuntimeError\u001b[0m: Input type (torch.cuda.FloatTensor) and weight type (torch.FloatTensor) should be the same"
     ]
    }
   ],
   "source": [
    "X = dataset[:, 0]\n",
    "Y_obs = dataset[:, 1]\n",
    "beta_init = uniform.Uniform(t.tensor(0.), t.tensor(1.)).sample()\n",
    "lr = 0.1\n",
    "num_steps = 10_000\n",
    "\n",
    "beta, beta_hist, grad_hist = train(beta, X, Y_obs, lr, num_steps)"
   ]
  },
  {
   "cell_type": "code",
   "execution_count": 79,
   "metadata": {},
   "outputs": [
    {
     "data": {
      "text/plain": [
       "0"
      ]
     },
     "execution_count": 79,
     "metadata": {},
     "output_type": "execute_result"
    }
   ],
   "source": [
    "t.cuda.current_device()"
   ]
  },
  {
   "cell_type": "code",
   "execution_count": 80,
   "metadata": {},
   "outputs": [
    {
     "data": {
      "text/plain": [
       "False"
      ]
     },
     "execution_count": 80,
     "metadata": {},
     "output_type": "execute_result"
    }
   ],
   "source": [
    "X.is_cuda"
   ]
  },
  {
   "cell_type": "code",
   "execution_count": null,
   "metadata": {},
   "outputs": [],
   "source": []
  }
 ],
 "metadata": {
  "kernelspec": {
   "display_name": "Python 3.10.4 ('torch')",
   "language": "python",
   "name": "python3"
  },
  "language_info": {
   "codemirror_mode": {
    "name": "ipython",
    "version": 3
   },
   "file_extension": ".py",
   "mimetype": "text/x-python",
   "name": "python",
   "nbconvert_exporter": "python",
   "pygments_lexer": "ipython3",
   "version": "3.10.4"
  },
  "orig_nbformat": 4,
  "vscode": {
   "interpreter": {
    "hash": "d457bbfc426ef2d36a37fd2ab82784599b6e7b389a7b568386df2942100916c1"
   }
  }
 },
 "nbformat": 4,
 "nbformat_minor": 2
}
