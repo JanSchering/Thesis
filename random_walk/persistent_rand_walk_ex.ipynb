{
 "cells": [
  {
   "cell_type": "code",
   "execution_count": 1,
   "metadata": {},
   "outputs": [],
   "source": [
    "# imports\n",
    "import os\n",
    "from typing import Tuple\n",
    "import scipy.stats as stats\n",
    "import torch as t\n",
    "from torch.nn.functional import conv2d, pad\n",
    "import numpy as np\n",
    "import matplotlib.pyplot as plt\n",
    "from matplotlib import animation, rc\n",
    "import imageio\n",
    "from scipy import ndimage\n",
    "from tqdm import tqdm\n",
    "import pandas as pd"
   ]
  },
  {
   "cell_type": "code",
   "execution_count": 2,
   "metadata": {},
   "outputs": [],
   "source": [
    "# set device\n",
    "device = t.device(\"cuda\") if t.cuda.is_available() else t.device(\"cpu\")"
   ]
  },
  {
   "cell_type": "code",
   "execution_count": 3,
   "metadata": {},
   "outputs": [],
   "source": [
    "# get_active_pixel_idx(batch: t.Tensor) -> Returns list of indices where pixels > 0\n",
    "def get_active_pixel_idx(batch:t.Tensor) -> t.Tensor:\n",
    "    return batch.nonzero().T"
   ]
  },
  {
   "cell_type": "code",
   "execution_count": 4,
   "metadata": {},
   "outputs": [],
   "source": [
    "def take_step(batch:t.Tensor, v_cur, p_vchg, facing_left, p_reverse, dim=-1) -> t.Tensor: \n",
    "    # find active pixels\n",
    "    act_pixel_idx = get_active_pixel_idx(batch)\n",
    "    batch_size,height,width = batch.shape\n",
    "\n",
    "    # determine pixels next to active pixel (uses periodic torus)\n",
    "    left_px = act_pixel_idx.clone()\n",
    "    right_px = act_pixel_idx.clone()\n",
    "    left_px[dim] -= 1\n",
    "    right_px[dim] += 1\n",
    "    left_px[dim][left_px[dim] < 0] = width -1\n",
    "    right_px[dim][right_px[dim] == width] = 0\n",
    "\n",
    "    # update the direction of the cells\n",
    "    logits = t.hstack([t.log(1-p_reverse).unsqueeze(-1), t.log(p_reverse).unsqueeze(-1)])\n",
    "    logit_tile = logits.repeat((batch_size,1))\n",
    "    outcome = t.nn.functional.gumbel_softmax(logit_tile, tau=1, hard=True)\n",
    "    facing_left = facing_left * outcome[:,0] + (1 - facing_left) * outcome[:,1]\n",
    "    \n",
    "    # update the velocity of the cells\n",
    "    logits_vchg = t.hstack([t.log(1-p_vchg), t.log(p_vchg)])\n",
    "    logit_tile_vchg = logits_vchg.repeat((batch_size,1))\n",
    "    v_chg = t.nn.functional.gumbel_softmax(logit_tile_vchg, tau=1, hard=True)\n",
    "    v_cur = v_cur * v_chg[:,0] + (1-v_cur) * v_chg[:,1]\n",
    "\n",
    "    batch[act_pixel_idx[0], act_pixel_idx[1], act_pixel_idx[2]] -= 1 * v_cur\n",
    "\n",
    "    batch[left_px[0], left_px[1], left_px[2]] += facing_left * v_cur\n",
    "    batch[right_px[0], right_px[1], right_px[2]] += (1-facing_left) * v_cur\n",
    "    return batch, facing_left, v_cur"
   ]
  },
  {
   "cell_type": "code",
   "execution_count": 5,
   "metadata": {},
   "outputs": [],
   "source": [
    "def init_batch(n:int, dim:int, init_v_rand=False, device=t.device(\"cpu\")):\n",
    "    batch = t.zeros((n,dim,dim), device=device)\n",
    "    batch[:,dim//2,dim//2] = 1\n",
    "    facing_left_x = t.bernoulli(t.tensor(0.5, device=device).repeat(n))\n",
    "    facing_left_y = t.bernoulli(t.tensor(0.5, device=device).repeat(n))\n",
    "    v_x = t.ones((n), device=device)\n",
    "    v_y = t.ones((n), device=device)\n",
    "    return batch, facing_left_x, facing_left_y, v_x, v_y"
   ]
  },
  {
   "cell_type": "code",
   "execution_count": 6,
   "metadata": {},
   "outputs": [],
   "source": [
    "# create_dist_matrix(batch:t.Tensor) -> Create distance matrix with same width/height as reference batch\n",
    "def create_dist_matrix(batch:t.Tensor, device=t.device(\"cpu\")) -> t.Tensor:   \n",
    "    dist_matrix:np.ndarray = ndimage.distance_transform_edt(1-batch[0].cpu(), return_indices=False)\n",
    "    dist_matrix = dist_matrix**2\n",
    "    dist_matrix_t = t.from_numpy(dist_matrix).to(device)\n",
    "    return dist_matrix_t"
   ]
  },
  {
   "cell_type": "code",
   "execution_count": 7,
   "metadata": {},
   "outputs": [],
   "source": [
    "# calc_stats(batch:t.Tensor, dist_matrix:t.Tensor) -> Returns (sq_distances, avg_sq_distance, std_distance)\n",
    "def calc_stats(batch:t.Tensor, dist_matrix:t.Tensor) -> Tuple[t.Tensor, t.Tensor, t.Tensor]:\n",
    "    distances = (dist_matrix[batch.nonzero(as_tuple=True)[1:]] * batch[batch.nonzero(as_tuple=True)])\n",
    "    return distances, t.mean(distances), t.std(distances)"
   ]
  },
  {
   "cell_type": "code",
   "execution_count": 40,
   "metadata": {},
   "outputs": [
    {
     "data": {
      "text/plain": [
       "<torch.autograd.anomaly_mode.set_detect_anomaly at 0x27dd6d66f10>"
      ]
     },
     "execution_count": 40,
     "metadata": {},
     "output_type": "execute_result"
    }
   ],
   "source": [
    "p_reverse = t.tensor(0.9,device=device)\n",
    "p_reverse.requires_grad_()\n",
    "p_vchg = t.tensor(0.9,device=device)\n",
    "p_vchg.requires_grad_()\n",
    "ref_grid = t.zeros((1,512,512))\n",
    "ref_grid[0,256,256] = 1\n",
    "dist_mtx = create_dist_matrix(ref_grid,device=device)\n",
    "target_msd = 100\n",
    "\n",
    "p_rev_vals = []\n",
    "p_vchg_vals = []\n",
    "grads_rev = []\n",
    "grads_vchg = []\n",
    "msds = []\n",
    "losses = []\n",
    "\n",
    "t.autograd.set_detect_anomaly(False)"
   ]
  },
  {
   "cell_type": "code",
   "execution_count": 44,
   "metadata": {},
   "outputs": [
    {
     "name": "stderr",
     "output_type": "stream",
     "text": [
      "  5%|▌         | 1/20 [00:01<00:36,  1.90s/it]"
     ]
    },
    {
     "name": "stdout",
     "output_type": "stream",
     "text": [
      "tensor(0.8050, device='cuda:0', grad_fn=<ClampBackward1>) tensor(0.7506, device='cuda:0', grad_fn=<ClampBackward1>)\n"
     ]
    },
    {
     "name": "stderr",
     "output_type": "stream",
     "text": [
      " 10%|█         | 2/20 [00:03<00:31,  1.76s/it]"
     ]
    },
    {
     "name": "stdout",
     "output_type": "stream",
     "text": [
      "tensor(0.8058, device='cuda:0', grad_fn=<ClampBackward1>) tensor(0.7512, device='cuda:0', grad_fn=<ClampBackward1>)\n"
     ]
    },
    {
     "name": "stderr",
     "output_type": "stream",
     "text": [
      " 15%|█▌        | 3/20 [00:05<00:29,  1.71s/it]"
     ]
    },
    {
     "name": "stdout",
     "output_type": "stream",
     "text": [
      "tensor(0.8066, device='cuda:0', grad_fn=<ClampBackward1>) tensor(0.7523, device='cuda:0', grad_fn=<ClampBackward1>)\n"
     ]
    },
    {
     "name": "stderr",
     "output_type": "stream",
     "text": [
      " 20%|██        | 4/20 [00:06<00:26,  1.69s/it]"
     ]
    },
    {
     "name": "stdout",
     "output_type": "stream",
     "text": [
      "tensor(0.8051, device='cuda:0', grad_fn=<ClampBackward1>) tensor(0.7504, device='cuda:0', grad_fn=<ClampBackward1>)\n"
     ]
    },
    {
     "name": "stderr",
     "output_type": "stream",
     "text": [
      " 25%|██▌       | 5/20 [00:08<00:25,  1.73s/it]"
     ]
    },
    {
     "name": "stdout",
     "output_type": "stream",
     "text": [
      "tensor(0.8045, device='cuda:0', grad_fn=<ClampBackward1>) tensor(0.7494, device='cuda:0', grad_fn=<ClampBackward1>)\n"
     ]
    },
    {
     "name": "stderr",
     "output_type": "stream",
     "text": [
      " 30%|███       | 6/20 [00:10<00:23,  1.70s/it]"
     ]
    },
    {
     "name": "stdout",
     "output_type": "stream",
     "text": [
      "tensor(0.8032, device='cuda:0', grad_fn=<ClampBackward1>) tensor(0.7480, device='cuda:0', grad_fn=<ClampBackward1>)\n"
     ]
    },
    {
     "name": "stderr",
     "output_type": "stream",
     "text": [
      " 35%|███▌      | 7/20 [00:11<00:21,  1.68s/it]"
     ]
    },
    {
     "name": "stdout",
     "output_type": "stream",
     "text": [
      "tensor(0.8023, device='cuda:0', grad_fn=<ClampBackward1>) tensor(0.7470, device='cuda:0', grad_fn=<ClampBackward1>)\n"
     ]
    },
    {
     "name": "stderr",
     "output_type": "stream",
     "text": [
      " 40%|████      | 8/20 [00:13<00:20,  1.67s/it]"
     ]
    },
    {
     "name": "stdout",
     "output_type": "stream",
     "text": [
      "tensor(0.8022, device='cuda:0', grad_fn=<ClampBackward1>) tensor(0.7467, device='cuda:0', grad_fn=<ClampBackward1>)\n"
     ]
    },
    {
     "name": "stderr",
     "output_type": "stream",
     "text": [
      " 45%|████▌     | 9/20 [00:15<00:18,  1.67s/it]"
     ]
    },
    {
     "name": "stdout",
     "output_type": "stream",
     "text": [
      "tensor(0.8019, device='cuda:0', grad_fn=<ClampBackward1>) tensor(0.7464, device='cuda:0', grad_fn=<ClampBackward1>)\n"
     ]
    },
    {
     "name": "stderr",
     "output_type": "stream",
     "text": [
      " 50%|█████     | 10/20 [00:16<00:16,  1.66s/it]"
     ]
    },
    {
     "name": "stdout",
     "output_type": "stream",
     "text": [
      "tensor(0.8018, device='cuda:0', grad_fn=<ClampBackward1>) tensor(0.7462, device='cuda:0', grad_fn=<ClampBackward1>)\n"
     ]
    },
    {
     "name": "stderr",
     "output_type": "stream",
     "text": [
      " 55%|█████▌    | 11/20 [00:18<00:14,  1.66s/it]"
     ]
    },
    {
     "name": "stdout",
     "output_type": "stream",
     "text": [
      "tensor(0.8010, device='cuda:0', grad_fn=<ClampBackward1>) tensor(0.7454, device='cuda:0', grad_fn=<ClampBackward1>)\n"
     ]
    },
    {
     "name": "stderr",
     "output_type": "stream",
     "text": [
      " 60%|██████    | 12/20 [00:20<00:13,  1.66s/it]"
     ]
    },
    {
     "name": "stdout",
     "output_type": "stream",
     "text": [
      "tensor(0.8020, device='cuda:0', grad_fn=<ClampBackward1>) tensor(0.7465, device='cuda:0', grad_fn=<ClampBackward1>)\n"
     ]
    },
    {
     "name": "stderr",
     "output_type": "stream",
     "text": [
      " 65%|██████▌   | 13/20 [00:21<00:11,  1.65s/it]"
     ]
    },
    {
     "name": "stdout",
     "output_type": "stream",
     "text": [
      "tensor(0.8017, device='cuda:0', grad_fn=<ClampBackward1>) tensor(0.7461, device='cuda:0', grad_fn=<ClampBackward1>)\n"
     ]
    },
    {
     "name": "stderr",
     "output_type": "stream",
     "text": [
      " 70%|███████   | 14/20 [00:23<00:09,  1.65s/it]"
     ]
    },
    {
     "name": "stdout",
     "output_type": "stream",
     "text": [
      "tensor(0.8012, device='cuda:0', grad_fn=<ClampBackward1>) tensor(0.7455, device='cuda:0', grad_fn=<ClampBackward1>)\n"
     ]
    },
    {
     "name": "stderr",
     "output_type": "stream",
     "text": [
      " 75%|███████▌  | 15/20 [00:25<00:08,  1.65s/it]"
     ]
    },
    {
     "name": "stdout",
     "output_type": "stream",
     "text": [
      "tensor(0.7990, device='cuda:0', grad_fn=<ClampBackward1>) tensor(0.7430, device='cuda:0', grad_fn=<ClampBackward1>)\n"
     ]
    },
    {
     "name": "stderr",
     "output_type": "stream",
     "text": [
      " 80%|████████  | 16/20 [00:26<00:06,  1.65s/it]"
     ]
    },
    {
     "name": "stdout",
     "output_type": "stream",
     "text": [
      "tensor(0.7998, device='cuda:0', grad_fn=<ClampBackward1>) tensor(0.7436, device='cuda:0', grad_fn=<ClampBackward1>)\n"
     ]
    },
    {
     "name": "stderr",
     "output_type": "stream",
     "text": [
      " 85%|████████▌ | 17/20 [00:28<00:04,  1.65s/it]"
     ]
    },
    {
     "name": "stdout",
     "output_type": "stream",
     "text": [
      "tensor(0.7990, device='cuda:0', grad_fn=<ClampBackward1>) tensor(0.7425, device='cuda:0', grad_fn=<ClampBackward1>)\n"
     ]
    },
    {
     "name": "stderr",
     "output_type": "stream",
     "text": [
      " 90%|█████████ | 18/20 [00:30<00:03,  1.65s/it]"
     ]
    },
    {
     "name": "stdout",
     "output_type": "stream",
     "text": [
      "tensor(0.7993, device='cuda:0', grad_fn=<ClampBackward1>) tensor(0.7428, device='cuda:0', grad_fn=<ClampBackward1>)\n"
     ]
    },
    {
     "name": "stderr",
     "output_type": "stream",
     "text": [
      " 95%|█████████▌| 19/20 [00:31<00:01,  1.65s/it]"
     ]
    },
    {
     "name": "stdout",
     "output_type": "stream",
     "text": [
      "tensor(0.7985, device='cuda:0', grad_fn=<ClampBackward1>) tensor(0.7421, device='cuda:0', grad_fn=<ClampBackward1>)\n"
     ]
    },
    {
     "name": "stderr",
     "output_type": "stream",
     "text": [
      "100%|██████████| 20/20 [00:33<00:00,  1.67s/it]"
     ]
    },
    {
     "name": "stdout",
     "output_type": "stream",
     "text": [
      "tensor(0.7984, device='cuda:0', grad_fn=<ClampBackward1>) tensor(0.7420, device='cuda:0', grad_fn=<ClampBackward1>)\n"
     ]
    },
    {
     "name": "stderr",
     "output_type": "stream",
     "text": [
      "\n"
     ]
    }
   ],
   "source": [
    "for i in tqdm(range(20)):\n",
    "    test_batch, dir_x, dir_y, v_x, v_y = init_batch(100,512,device=device)\n",
    "    #print(dir_x.shape)\n",
    "    for j in range(100):\n",
    "        test_batch, dir_x, v_x = take_step(test_batch, v_x, p_vchg, dir_x, p_reverse, dim=-1)\n",
    "        test_batch, dir_y, v_y = take_step(test_batch, v_y, p_vchg, dir_y, p_reverse, dim=-2)\n",
    "    distances, msd, std = calc_stats(test_batch,dist_mtx)\n",
    "    loss = (msd - target_msd)**2\n",
    "    grad_rev, grad_vchg = t.autograd.grad(loss,(p_reverse, p_vchg))\n",
    "    p_reverse = t.clamp(p_reverse - 1e-8 * grad_rev, min=0, max=1)\n",
    "    p_vchg = t.clamp(p_vchg - 1e-8 * grad_vchg, min=0, max=1)\n",
    "\n",
    "    print(p_reverse,p_vchg)\n",
    "    p_rev_vals.append(p_reverse.detach().clone().cpu().numpy())\n",
    "    p_vchg_vals.append(p_vchg.detach().clone().cpu().numpy())\n",
    "    grads_rev.append(grad_rev.detach().clone().cpu().numpy())\n",
    "    grads_vchg.append(grad_vchg.detach().clone().cpu().numpy())\n",
    "    msds.append(msd.detach().clone().cpu().numpy())\n",
    "    losses.append(loss.detach().clone().cpu().numpy())\n"
   ]
  },
  {
   "cell_type": "code",
   "execution_count": 45,
   "metadata": {},
   "outputs": [
    {
     "data": {
      "text/plain": [
       "[<matplotlib.lines.Line2D at 0x27dd85e18d0>]"
      ]
     },
     "execution_count": 45,
     "metadata": {},
     "output_type": "execute_result"
    },
    {
     "data": {
      "image/png": "[encoded data removed]",
      "text/plain": [
       "<Figure size 2000x500 with 4 Axes>"
      ]
     },
     "metadata": {},
     "output_type": "display_data"
    }
   ],
   "source": [
    "fig, axs = plt.subplots(1,4, figsize=(20,5))\n",
    "axs[0].plot(p_rev_vals)\n",
    "axs[0].plot(p_vchg_vals)\n",
    "axs[1].plot(msds)\n",
    "axs[2].plot(grads_rev)\n",
    "axs[2].plot(grads_vchg)\n",
    "axs[3].plot(losses)"
   ]
  },
  {
   "cell_type": "code",
   "execution_count": null,
   "metadata": {},
   "outputs": [],
   "source": []
  }
 ],
 "metadata": {
  "kernelspec": {
   "display_name": "torchenv",
   "language": "python",
   "name": "python3"
  },
  "language_info": {
   "codemirror_mode": {
    "name": "ipython",
    "version": 3
   },
   "file_extension": ".py",
   "mimetype": "text/x-python",
   "name": "python",
   "nbconvert_exporter": "python",
   "pygments_lexer": "ipython3",
   "version": "3.11.5"
  },
  "orig_nbformat": 4
 },
 "nbformat": 4,
 "nbformat_minor": 2
}
